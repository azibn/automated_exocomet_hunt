{
 "cells": [
  {
   "cell_type": "code",
   "execution_count": 1,
   "id": "3ab46da3-3225-488a-9138-62fff86c86dd",
   "metadata": {},
   "outputs": [],
   "source": [
    "from analysis_tools_cython import *\n",
    "import pandas as pd\n",
    "from astropy.io import fits\n",
    "from astropy.table import Table\n",
    "from scipy.optimize import curve_fit\n",
    "from astropy.timeseries import LombScargle\n",
    "import numpy as np\n",
    "import math\n",
    "import sys,os\n",
    "import kplr"
   ]
  },
  {
   "cell_type": "markdown",
   "id": "1e3abefa-815f-4b52-8d1e-c0a6ac2e8edb",
   "metadata": {},
   "source": [
    "## XRP Lightcurves"
   ]
  },
  {
   "cell_type": "markdown",
   "id": "0ba00b0c-7a2b-4dad-af37-0b8551b77e01",
   "metadata": {},
   "source": [
    "---"
   ]
  },
  {
   "cell_type": "markdown",
   "id": "67232843-530e-4ba9-bbd3-631dbb1856e7",
   "metadata": {},
   "source": [
    "## Kepler Lightcurves"
   ]
  },
  {
   "cell_type": "code",
   "execution_count": 20,
   "id": "dcc309eb-4ee0-40fb-b447-d4e40cba3fd7",
   "metadata": {},
   "outputs": [],
   "source": [
    "def import_lightcurve(file_path, drop_bad_points=False,\n",
    "                      ok_flags=[5]):\n",
    "    \"\"\"Returns (N by 2) table, columns are (time, flux).\n",
    "\n",
    "    Flags deemed to be OK are:\n",
    "    5 - reaction wheel zero crossing, matters for short cadence\n",
    "    \"\"\"\n",
    "    try:\n",
    "        hdulist = fits.open(file_path)\n",
    "    except FileNotFoundError:\n",
    "        print(\"Import failed: file not found\")\n",
    "        return\n",
    "\n",
    "    scidata = hdulist[1].data\n",
    "    table = Table(scidata)['TIME','PDCSAP_FLUX','SAP_QUALITY']\n",
    "    if drop_bad_points:\n",
    "        bad_points = []\n",
    "        if 'kplr' in file_path:\n",
    "            q_ind = get_quality_indices(table['SAP_QUALITY'])\n",
    "        \n",
    "        for j,q in enumerate(q_ind): # j=index, q=quality\n",
    "            if j+1 not in ok_flags:    \n",
    "                bad_points += q.tolist() # adds bad_points by value of q (the quality indices) and converts to list\n",
    "\n",
    "    \n",
    "\n",
    "        # bad_points = [i for i in range(len(table)) if table[i][2]>0]\n",
    "        table.remove_rows(bad_points)\n",
    "\n",
    "    # Delete rows containing NaN values. \n",
    "    ## if flux or time columns are NaN's, remove them.\n",
    "    nan_rows = [ i for i in range(len(table)) if\n",
    "            math.isnan(table[i][1]) or math.isnan(table[i][0]) ]\n",
    "\n",
    "    table.remove_rows(nan_rows)\n",
    "\n",
    "    # Smooth data by deleting overly 'spikey' points.\n",
    "    ## if flux - 0.5*(difference between neihbouring points) > 3*(distance between neighbouring points), spike identified\n",
    "    spikes = [ i for i in range(1,len(table)-1) if \\\n",
    "            abs(table[i][1] - 0.5*(table[i-1][1]+table[i+1][1])) \\\n",
    "            > 3*abs(table[i+1][1] - table[i-1][1])]\n",
    "\n",
    "    ## flux smoothened out by changing those points to 0.5*distance between neighbouring points\n",
    "    for i in spikes:\n",
    "        table[i][1] = 0.5*(table[i-1][1] + table[i+1][1])\n",
    "\n",
    "    return table"
   ]
  },
  {
   "cell_type": "code",
   "execution_count": 21,
   "id": "eebf77e1-9dd5-43de-90ac-84f3bc794ea0",
   "metadata": {},
   "outputs": [],
   "source": [
    "file = 'Kepler/kplr003542116-2012088054726_llc.fits'\n",
    "kepler = import_lightcurve(file)"
   ]
  },
  {
   "cell_type": "code",
   "execution_count": 22,
   "id": "bde9e941-aadc-435f-80fd-090eaa7686b7",
   "metadata": {},
   "outputs": [
    {
     "data": {
      "text/html": [
       "<div><i>Table length=3550</i>\n",
       "<table id=\"table140395918324944\" class=\"table-striped table-bordered table-condensed\">\n",
       "<thead><tr><th>TIME</th><th>PDCSAP_FLUX</th><th>SAP_QUALITY</th></tr></thead>\n",
       "<thead><tr><th>float64</th><th>float32</th><th>int32</th></tr></thead>\n",
       "<tr><td>1099.428539901186</td><td>1409348.9</td><td>0</td></tr>\n",
       "<tr><td>1099.4489728694025</td><td>1409303.9</td><td>0</td></tr>\n",
       "<tr><td>1099.4694059379617</td><td>1409300.0</td><td>0</td></tr>\n",
       "<tr><td>1099.4898388067595</td><td>1409284.1</td><td>0</td></tr>\n",
       "<tr><td>1099.5102717759073</td><td>1409346.6</td><td>0</td></tr>\n",
       "<tr><td>1099.5307048452814</td><td>1409391.9</td><td>0</td></tr>\n",
       "<tr><td>1099.5511378151277</td><td>1409291.0</td><td>0</td></tr>\n",
       "<tr><td>...</td><td>...</td><td>...</td></tr>\n",
       "<tr><td>1181.8988680189213</td><td>1409477.2</td><td>0</td></tr>\n",
       "<tr><td>1181.919302350594</td><td>1409366.8</td><td>0</td></tr>\n",
       "<tr><td>1181.9397365824989</td><td>1409377.2</td><td>0</td></tr>\n",
       "<tr><td>1181.9601710146308</td><td>1409387.6</td><td>0</td></tr>\n",
       "<tr><td>1181.980605347002</td><td>1408967.5</td><td>0</td></tr>\n",
       "<tr><td>1182.0010397795995</td><td>1408965.6</td><td>0</td></tr>\n",
       "<tr><td>1182.021474012552</td><td>1409191.1</td><td>0</td></tr>\n",
       "</table></div>"
      ],
      "text/plain": [
       "<Table length=3550>\n",
       "       TIME        PDCSAP_FLUX SAP_QUALITY\n",
       "     float64         float32      int32   \n",
       "------------------ ----------- -----------\n",
       " 1099.428539901186   1409348.9           0\n",
       "1099.4489728694025   1409303.9           0\n",
       "1099.4694059379617   1409300.0           0\n",
       "1099.4898388067595   1409284.1           0\n",
       "1099.5102717759073   1409346.6           0\n",
       "1099.5307048452814   1409391.9           0\n",
       "1099.5511378151277   1409291.0           0\n",
       "               ...         ...         ...\n",
       "1181.8988680189213   1409477.2           0\n",
       " 1181.919302350594   1409366.8           0\n",
       "1181.9397365824989   1409377.2           0\n",
       "1181.9601710146308   1409387.6           0\n",
       " 1181.980605347002   1408967.5           0\n",
       "1182.0010397795995   1408965.6           0\n",
       " 1182.021474012552   1409191.1           0"
      ]
     },
     "execution_count": 22,
     "metadata": {},
     "output_type": "execute_result"
    }
   ],
   "source": [
    "kepler"
   ]
  },
  {
   "cell_type": "code",
   "execution_count": 10,
   "id": "26ede853-d3e0-48d3-ad59-18a4f332ad78",
   "metadata": {},
   "outputs": [],
   "source": [
    "ind = [0,1,2,3,4,5,6,7,19]"
   ]
  },
  {
   "cell_type": "code",
   "execution_count": 14,
   "id": "f9fb4b24-950e-4142-8992-fd99fe3a31fa",
   "metadata": {},
   "outputs": [],
   "source": [
    " kepler['SAP_QUALITY'][np.array(ind)] = 23"
   ]
  },
  {
   "cell_type": "code",
   "execution_count": 15,
   "id": "14de09f9-abd0-4823-9f48-f7cac6e3df78",
   "metadata": {},
   "outputs": [
    {
     "data": {
      "text/html": [
       "&lt;Column name=&apos;SAP_QUALITY&apos; dtype=&apos;int32&apos; length=3550&gt;\n",
       "<table>\n",
       "<tr><td>23</td></tr>\n",
       "<tr><td>23</td></tr>\n",
       "<tr><td>23</td></tr>\n",
       "<tr><td>23</td></tr>\n",
       "<tr><td>23</td></tr>\n",
       "<tr><td>23</td></tr>\n",
       "<tr><td>23</td></tr>\n",
       "<tr><td>23</td></tr>\n",
       "<tr><td>0</td></tr>\n",
       "<tr><td>...</td></tr>\n",
       "<tr><td>16</td></tr>\n",
       "<tr><td>16</td></tr>\n",
       "<tr><td>0</td></tr>\n",
       "<tr><td>0</td></tr>\n",
       "<tr><td>0</td></tr>\n",
       "<tr><td>0</td></tr>\n",
       "<tr><td>0</td></tr>\n",
       "<tr><td>0</td></tr>\n",
       "<tr><td>0</td></tr>\n",
       "</table>"
      ],
      "text/plain": [
       "<Column name='SAP_QUALITY' dtype='int32' length=3550>\n",
       " 23\n",
       " 23\n",
       " 23\n",
       " 23\n",
       " 23\n",
       " 23\n",
       " 23\n",
       " 23\n",
       "  0\n",
       "...\n",
       " 16\n",
       " 16\n",
       "  0\n",
       "  0\n",
       "  0\n",
       "  0\n",
       "  0\n",
       "  0\n",
       "  0"
      ]
     },
     "execution_count": 15,
     "metadata": {},
     "output_type": "execute_result"
    }
   ],
   "source": [
    "kepler['SAP_QUALITY']"
   ]
  },
  {
   "cell_type": "code",
   "execution_count": 17,
   "id": "35958cc2-cba6-4836-a8c9-b75e8df47404",
   "metadata": {},
   "outputs": [
    {
     "data": {
      "text/html": [
       "<div><i>Table length=3550</i>\n",
       "<table id=\"table140256049515728\" class=\"table-striped table-bordered table-condensed\">\n",
       "<thead><tr><th>TIME</th><th>PDCSAP_FLUX</th><th>SAP_QUALITY</th></tr></thead>\n",
       "<thead><tr><th>float64</th><th>float32</th><th>int32</th></tr></thead>\n",
       "<tr><td>1099.428539901186</td><td>1409348.9</td><td>23</td></tr>\n",
       "<tr><td>1099.4489728694025</td><td>1409303.9</td><td>23</td></tr>\n",
       "<tr><td>1099.4694059379617</td><td>1409300.0</td><td>23</td></tr>\n",
       "<tr><td>1099.4898388067595</td><td>1409284.1</td><td>23</td></tr>\n",
       "<tr><td>1099.5102717759073</td><td>1409346.6</td><td>23</td></tr>\n",
       "<tr><td>1099.5307048452814</td><td>1409391.9</td><td>23</td></tr>\n",
       "<tr><td>1099.5511378151277</td><td>1409291.0</td><td>23</td></tr>\n",
       "<tr><td>...</td><td>...</td><td>...</td></tr>\n",
       "<tr><td>1181.8988680189213</td><td>1409477.2</td><td>23</td></tr>\n",
       "<tr><td>1181.919302350594</td><td>1409366.8</td><td>23</td></tr>\n",
       "<tr><td>1181.9397365824989</td><td>1409377.2</td><td>23</td></tr>\n",
       "<tr><td>1181.9601710146308</td><td>1409387.6</td><td>23</td></tr>\n",
       "<tr><td>1181.980605347002</td><td>1408967.5</td><td>23</td></tr>\n",
       "<tr><td>1182.0010397795995</td><td>1408965.6</td><td>23</td></tr>\n",
       "<tr><td>1182.021474012552</td><td>1409191.1</td><td>23</td></tr>\n",
       "</table></div>"
      ],
      "text/plain": [
       "<Table length=3550>\n",
       "       TIME        PDCSAP_FLUX SAP_QUALITY\n",
       "     float64         float32      int32   \n",
       "------------------ ----------- -----------\n",
       " 1099.428539901186   1409348.9          23\n",
       "1099.4489728694025   1409303.9          23\n",
       "1099.4694059379617   1409300.0          23\n",
       "1099.4898388067595   1409284.1          23\n",
       "1099.5102717759073   1409346.6          23\n",
       "1099.5307048452814   1409391.9          23\n",
       "1099.5511378151277   1409291.0          23\n",
       "               ...         ...         ...\n",
       "1181.8988680189213   1409477.2          23\n",
       " 1181.919302350594   1409366.8          23\n",
       "1181.9397365824989   1409377.2          23\n",
       "1181.9601710146308   1409387.6          23\n",
       " 1181.980605347002   1408967.5          23\n",
       "1182.0010397795995   1408965.6          23\n",
       " 1182.021474012552   1409191.1          23"
      ]
     },
     "execution_count": 17,
     "metadata": {},
     "output_type": "execute_result"
    }
   ],
   "source": [
    "kepler"
   ]
  },
  {
   "cell_type": "code",
   "execution_count": null,
   "id": "b9db07f5-541a-466b-9ff4-1ad0ef61c747",
   "metadata": {},
   "outputs": [],
   "source": []
  }
 ],
 "metadata": {
  "kernelspec": {
   "display_name": "auto_exo",
   "language": "python",
   "name": "auto_exo"
  },
  "language_info": {
   "codemirror_mode": {
    "name": "ipython",
    "version": 3
   },
   "file_extension": ".py",
   "mimetype": "text/x-python",
   "name": "python",
   "nbconvert_exporter": "python",
   "pygments_lexer": "ipython3",
   "version": "3.7.12"
  }
 },
 "nbformat": 4,
 "nbformat_minor": 5
}
