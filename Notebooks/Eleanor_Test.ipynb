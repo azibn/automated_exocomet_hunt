{
 "cells": [
  {
   "cell_type": "markdown",
   "id": "8707c224-1ac6-4aae-890d-5af04f507287",
   "metadata": {},
   "source": [
    "## Using Eleanor API to Identify resolve our Saturated Targets"
   ]
  },
  {
   "cell_type": "markdown",
   "id": "750db9d3-98df-4946-a58d-df56171dd817",
   "metadata": {},
   "source": [
    "The aim is to read in TIC ID's of the saturated targets (which are also likely 2-min target candidates) and download + compute the contents of `single_analysis_xrp.py` onto it, as the lightcurves from the Bucket use Eleanor's default apertures. This is fine for the most part, but as we have found out that Beta Pic's exocomets cannot be seen with these default apertures, we use an arbitrarily large aperture to expand the search instead."
   ]
  },
  {
   "cell_type": "code",
   "execution_count": 1,
   "id": "a8f464d1-7f36-49a7-aecb-679c54014aa7",
   "metadata": {},
   "outputs": [],
   "source": [
    "import eleanor\n",
    "import numpy as np\n",
    "import matplotlib.pyplot as plt\n",
    "import warnings\n",
    "warnings.filterwarnings(\"ignore\")"
   ]
  },
  {
   "cell_type": "code",
   "execution_count": 2,
   "id": "9276607d-f250-4066-80ab-7e5b931ff277",
   "metadata": {},
   "outputs": [
    {
     "name": "stdout",
     "output_type": "stream",
     "text": [
      "['/Users/azib/opt/anaconda3/envs/spocc/lib/python3.6/site-packages/eleanor']\n"
     ]
    }
   ],
   "source": [
    "print(eleanor.__path__)"
   ]
  },
  {
   "cell_type": "markdown",
   "id": "b848601b-281d-418e-b8ec-c39750ad23d4",
   "metadata": {},
   "source": [
    "Standard aperture selected when bringing in lightcurve:"
   ]
  },
  {
   "cell_type": "markdown",
   "id": "10b220b9-80a8-4159-a9fa-7975740ae181",
   "metadata": {},
   "source": [
    "## Functions"
   ]
  },
  {
   "cell_type": "code",
   "execution_count": 3,
   "id": "3dcbbc62-3922-4bc4-8b5c-685167e6b09c",
   "metadata": {},
   "outputs": [],
   "source": [
    "def normalise_lc(flux):\n",
    "    return flux/flux.mean()"
   ]
  },
  {
   "cell_type": "markdown",
   "id": "4b6471cc-fa45-4f14-8978-6f1f9dcd3e31",
   "metadata": {},
   "source": [
    "## Eleanor lightcurves with default apertures"
   ]
  },
  {
   "cell_type": "code",
   "execution_count": null,
   "id": "25bf8c4d-caa5-4453-a2c9-fa777fafb1e6",
   "metadata": {
    "scrolled": true,
    "tags": []
   },
   "outputs": [
    {
     "name": "stdout",
     "output_type": "stream",
     "text": [
      "INFO: Found cached file ./mastDownload/HLSP/hlsp_eleanor_tess_ffi_postcard-s0006-3-3-cal-1686-0592_tess_v2_pc/hlsp_eleanor_tess_ffi_postcard-s0006-3-3-cal-1686-0592_tess_v2_bkg.fits with expected size 61162560. [astroquery.query]\n",
      "INFO: Found cached file ./mastDownload/HLSP/hlsp_eleanor_tess_ffi_postcard-s0006-3-3-cal-1686-0592_tess_v2_pc/hlsp_eleanor_tess_ffi_postcard-s0006-3-3-cal-1686-0592_tess_v2_pc.fits with expected size 122411520. [astroquery.query]\n",
      "INFO: Found cached file ./mastDownload/HLSP/hlsp_eleanor_tess_ffi_postcard-s0006-3-3-cal-1686-0592_tess_v2_pc/hlsp_eleanor_tess_ffi_postcard-s0006-3-3_tess_v2_pm.txt with expected size 185294. [astroquery.query]\n"
     ]
    }
   ],
   "source": [
    "star = eleanor.Source(tic=270577175,sector=6) # beta pic\n",
    "star_data = eleanor.TargetData(star, height=13, width=13, bkg_size=31, do_psf=True, do_pca=True)"
   ]
  },
  {
   "cell_type": "code",
   "execution_count": null,
   "id": "7d6efe83-bedc-4dde-b87d-01478e0c8095",
   "metadata": {},
   "outputs": [],
   "source": [
    "q = star_data.quality == 0\n",
    "plt.figure(figsize=(15,5))\n",
    "\n",
    "\n",
    "plt.plot(star_data.time[q], star_data.raw_flux[q]/np.nanmedian(star_data.raw_flux[q])+0.06, 'k',label='raw')\n",
    "plt.plot(star_data.time[q], star_data.corr_flux[q]/np.nanmedian(star_data.corr_flux[q]) + 0.03, 'r',label='corrected')\n",
    "plt.plot(star_data.time[q], star_data.pca_flux[q]/np.nanmedian(star_data.pca_flux[q]), 'g',label='pca')\n",
    "plt.plot(star_data.time[q], star_data.psf_flux[q]/np.nanmedian(star_data.psf_flux[q]) - 0.02, 'b',label='psf')\n",
    "plt.ylabel('Normalized Flux')\n",
    "plt.xlabel('Time [BJD - 2457000]')\n",
    "plt.legend();"
   ]
  },
  {
   "cell_type": "code",
   "execution_count": null,
   "id": "77903b48-66fa-49bd-bd64-e4c5747b78f7",
   "metadata": {
    "scrolled": true,
    "tags": []
   },
   "outputs": [],
   "source": [
    "fig, (ax, ax1) = plt.subplots(ncols=2, figsize=(15,4), gridspec_kw={'width_ratios':[1,3]})\n",
    "ax.imshow(star_data.tpf[0])\n",
    "ax.imshow(star_data.all_apertures[0], cmap='Greys', alpha=0.7)\n",
    "ax.set_title('Aperture over TPF')\n",
    "\n",
    "ax1.plot(star_data.time[q], star_data.all_raw_flux[0][q]/np.nanmedian(star_data.all_raw_flux[0][q]), 'k', label='Raw')\n",
    "ax1.plot(star_data.time[q], star_data.all_corr_flux[0][q]/np.nanmedian(star_data.all_corr_flux[0][q]), 'r', label='Corrected')\n",
    "ax1.set_xlabel('Time [BJD - 2457000]')\n",
    "ax1.set_ylabel('Normalized Flux')\n",
    "ax1.legend();"
   ]
  },
  {
   "cell_type": "markdown",
   "id": "f8d39de2-9e95-4269-8efd-bfaf30b7049f",
   "metadata": {},
   "source": [
    "### The chosen `Eleanor` aperture"
   ]
  },
  {
   "cell_type": "code",
   "execution_count": null,
   "id": "dad98e30-f422-4baf-aaf6-53112d57939e",
   "metadata": {},
   "outputs": [],
   "source": [
    "vis = eleanor.Visualize(star_data)\n",
    "vis.aperture_contour()"
   ]
  },
  {
   "cell_type": "markdown",
   "id": "ecf5ff3d-01d4-41ba-9c2f-a7a6d9ff8209",
   "metadata": {},
   "source": [
    "## Custom Aperture"
   ]
  },
  {
   "cell_type": "code",
   "execution_count": null,
   "id": "46b5ad80-df9b-4a1d-8213-ea01f2c5a8f3",
   "metadata": {},
   "outputs": [],
   "source": [
    "eleanor.TargetData.custom_aperture(star_data, shape='rectangle', h=13, w=3)\n",
    "eleanor.TargetData.get_lightcurve(star_data)\n",
    "\n",
    "fig, (ax2, ax3) = plt.subplots(ncols=2, figsize=(15,4), gridspec_kw={'width_ratios':[1,3]})\n",
    "ax2.imshow(star_data.tpf[0])\n",
    "ax2.imshow(star_data.aperture, cmap='Greys', alpha=0.5)\n",
    "ax2.set_title('Aperture over TPF')\n",
    "#plt.imshow(data.aperture)\n",
    "\n",
    "ax3.plot(star_data.time[q], star_data.raw_flux[q]/np.nanmedian(star_data.raw_flux[q]), 'black', label='Raw')\n",
    "ax3.plot(star_data.time[q], star_data.corr_flux[q]/np.nanmedian(star_data.corr_flux[q]), 'magenta', label='Corrected')\n",
    "ax3.plot(star_data.time[q], star_data.pca_flux[q]/np.nanmedian(star_data.pca_flux[q]) - 0.0009, 'r', label='PCA Corrected')\n",
    "ax3.legend(loc='upper left')         \n",
    "#ax2.set_ylim([0.997,1.001])\n",
    "#ax2.set_xlim([1485,1487])\n",
    "ax3.set_xlabel('Time [BJD - 2457000]')\n",
    "ax3.set_ylabel('Normalized Flux')\n"
   ]
  },
  {
   "cell_type": "code",
   "execution_count": null,
   "id": "87dcc170-c173-4aaf-99da-8462dcc93c47",
   "metadata": {},
   "outputs": [],
   "source": [
    "eleanor.TargetData.custom_aperture(star_data, shape='rectangle', h=14, w=4.5)\n",
    "plt.plot(star_data.time[q], star_data.corr_flux[q]/np.nanmedian(star_data.corr_flux[q]), 'magenta', label='Corrected')"
   ]
  },
  {
   "cell_type": "markdown",
   "id": "b95f7308-39b5-4179-a5ff-3862c55be37f",
   "metadata": {},
   "source": [
    "notes:\n",
    "\n",
    "```star = eleanor.Source(tic=bucket.TIC_ID[i],sector=bucket.sector[i])\n",
    " data = eleanor.TargetData(star, height=13, width=13, bkg_size=31, do_psf=True, do_pca=True)```\n",
    " \n",
    " could be a possible idea of how to download raw `eleanor` files and operate saturated star analysis on that."
   ]
  },
  {
   "cell_type": "code",
   "execution_count": null,
   "id": "670e65bc-a933-4071-9845-6d17fd16af92",
   "metadata": {
    "scrolled": true
   },
   "outputs": [],
   "source": [
    "cd .."
   ]
  },
  {
   "cell_type": "markdown",
   "id": "3da86dad-7866-45fb-ba61-73dca4af76db",
   "metadata": {},
   "source": [
    "## Applying MAD cuts"
   ]
  },
  {
   "cell_type": "code",
   "execution_count": null,
   "id": "e2cb1abf-4b93-4c3b-a789-00df03c38f67",
   "metadata": {},
   "outputs": [],
   "source": [
    "from analysis_tools_cython import *\n",
    "import data\n",
    "import loaders\n",
    "from astropy.stats import sigma_clip,sigma_clipped_stats\n",
    "from astropy.table import Table\n",
    "from astropy.time import Time"
   ]
  },
  {
   "cell_type": "code",
   "execution_count": null,
   "id": "afff8bd3-5a7e-4a79-8e2d-e738c793d726",
   "metadata": {},
   "outputs": [],
   "source": [
    "bad_times = data.load_bad_times()\n",
    "bad_times = bad_times - 2457000\n",
    "mad_df = data.load_mad()"
   ]
  },
  {
   "cell_type": "code",
   "execution_count": null,
   "id": "882d866b-13c4-4bad-8260-eb4a4adce9ca",
   "metadata": {},
   "outputs": [],
   "source": [
    "sec = 6\n",
    "cam = 1\n",
    "mad_arr = mad_df.loc[:len(star_data.time[q])-1, f\"{sec}-{cam}\"]"
   ]
  },
  {
   "cell_type": "code",
   "execution_count": null,
   "id": "fc03cfaa-d9c1-4374-8703-ba2e744301d9",
   "metadata": {},
   "outputs": [],
   "source": [
    "clip = 3\n",
    "sig_test = sigma_clip(mad_arr,sigma=clip,masked=False)\n",
    "med_sig_clip = np.nanmedian(sig_test)\n",
    "rms_sig_clip = np.nanstd(sig_test)\n"
   ]
  },
  {
   "cell_type": "code",
   "execution_count": null,
   "id": "32d56ed5-dc35-492d-beb6-0b0c1329e389",
   "metadata": {},
   "outputs": [],
   "source": [
    "fig,ax = plt.subplots(figsize=(19,8))\n",
    "ax.scatter(range(0,len(star_data.time[q])), mad_arr, s=2)\n",
    "ax.axhline(np.nanmedian(mad_arr), c='r',label='median')\n",
    "ax.axhline(np.nanmedian(mad_arr)+10*np.std(mad_arr[900:950]),c='blue',label='visualised MAD') # 10 sigma threshold\n",
    "ax.axhline(med_sig_clip + clip*rms_sig_clip, c='orange',label='experiment MAD')\n",
    "ax.set_xlabel('Cadence Number')\n",
    "ax.set_ylabel('Mean Absolute Deviation (MAD)')\n",
    "ax.set_title(f'Cadence at {sec}-{cam}')\n",
    "ax.legend()\n",
    "plt.show()"
   ]
  },
  {
   "cell_type": "code",
   "execution_count": null,
   "id": "80aa8edf-1ca0-454f-b652-b948b81956d1",
   "metadata": {},
   "outputs": [],
   "source": [
    "mad_cut = mad_arr.values<(np.nanmedian(mad_arr)+10*np.std(mad_arr[900:950])) # removes any values above threshold\n",
    "mad_cut2 = mad_arr.values<(med_sig_clip + clip*(rms_sig_clip))"
   ]
  },
  {
   "cell_type": "code",
   "execution_count": null,
   "id": "9ebc744e-13fc-4758-911e-e2d3d58bdd03",
   "metadata": {},
   "outputs": [],
   "source": [
    "mask = np.ones_like(star_data.time[q], dtype=bool)\n",
    "for i in bad_times:\n",
    "    newchunk = (star_data.time[q]<i[0])|(star_data.time[q]>i[1])\n",
    "    mask = mask & newchunk"
   ]
  },
  {
   "cell_type": "code",
   "execution_count": null,
   "id": "9e3a69b7-7741-4acd-afe2-a853f990d402",
   "metadata": {},
   "outputs": [],
   "source": [
    "#(star_data[(star_data.quality == 0) & mask & mad_cut])"
   ]
  },
  {
   "cell_type": "code",
   "execution_count": null,
   "id": "2d422eaf-b460-4171-89bd-fe2f753acbce",
   "metadata": {},
   "outputs": [],
   "source": [
    "df = pd.DataFrame(data=[star_data.quality[q],star_data.corr_flux[q],star_data.time[q]]).T"
   ]
  },
  {
   "cell_type": "code",
   "execution_count": null,
   "id": "a487c9bb-4f46-476c-98b9-a8dece9df223",
   "metadata": {},
   "outputs": [],
   "source": [
    "cols = ['quality','corr_flux','time']\n",
    "df.columns = cols"
   ]
  },
  {
   "cell_type": "code",
   "execution_count": null,
   "id": "584334da-b745-4929-9890-a8e39f57cc46",
   "metadata": {},
   "outputs": [],
   "source": [
    "df.normalised_corr_flux = normalise_lc(df.corr_flux)"
   ]
  },
  {
   "cell_type": "code",
   "execution_count": null,
   "id": "c7c90b99-81b6-4db2-a629-a9b28557e8a8",
   "metadata": {},
   "outputs": [],
   "source": [
    "plt.figure(figsize=(13,6))\n",
    "plt.plot(df.time[(df.quality==0)],df.normalised_corr_flux[(df.quality==0)] + 0.005,c='blue',label='original')\n",
    "plt.plot(df.time[(df.quality==0) & mask & mad_cut],df.normalised_corr_flux[(df.quality==0) & mask & mad_cut] + 0.0025,c='red',label='MAD applied w/ Daniel\\'s method')\n",
    "plt.plot(df.time[(df.quality==0) & mask & mad_cut2],df.normalised_corr_flux[(df.quality==0) & mask & mad_cut2],c='orange',label='MAD applied w/ statistics method')\n",
    "plt.title('MAD applied to Eleanor lightcurve')\n",
    "#plt.ylim([0.9985,1.0006])\n",
    "plt.legend(loc='upper left')\n",
    "plt.show()"
   ]
  },
  {
   "cell_type": "code",
   "execution_count": null,
   "id": "445779a5-6001-45b6-8eda-4582b9139b28",
   "metadata": {},
   "outputs": [],
   "source": [
    "mad_cut_df = pd.DataFrame(data=[df.time[(df.quality==0) & mask & mad_cut2],df.normalised_corr_flux[(df.quality==0) & mask & mad_cut],df.quality[(df.quality==0) & mask & mad_cut]]).T\n",
    "plt.plot(mad_cut_df.time,mad_cut_df.corr_flux)"
   ]
  },
  {
   "cell_type": "code",
   "execution_count": null,
   "id": "a46d975a-6c03-4388-bc4a-d0bd0837dd45",
   "metadata": {},
   "outputs": [],
   "source": [
    "mad_cut_df"
   ]
  },
  {
   "cell_type": "code",
   "execution_count": null,
   "id": "045a600f-0515-4813-bf74-0f54fb2e550b",
   "metadata": {},
   "outputs": [],
   "source": [
    "#mad_cut_df.dropna(inplace=True)"
   ]
  },
  {
   "cell_type": "markdown",
   "id": "9c80922f-f7a1-49e2-ae2c-230c3dab1b1f",
   "metadata": {},
   "source": [
    "---"
   ]
  },
  {
   "cell_type": "markdown",
   "id": "d0f36780-cc40-4c78-9582-f10d553dcd2e",
   "metadata": {},
   "source": [
    "## Automated Search - `single_analysis_xrp.py`"
   ]
  },
  {
   "cell_type": "code",
   "execution_count": null,
   "id": "181473dd-a9f6-4dbf-8736-7e7263ed8074",
   "metadata": {},
   "outputs": [],
   "source": [
    "from analysis_tools_cython import *"
   ]
  },
  {
   "cell_type": "code",
   "execution_count": null,
   "id": "3dbc426b-323e-4db7-b117-4cc35bbc5e8f",
   "metadata": {},
   "outputs": [],
   "source": [
    "table = Table.from_pandas(mad_cut_df)\n",
    "table"
   ]
  },
  {
   "cell_type": "code",
   "execution_count": null,
   "id": "03c0d55c-8218-411f-94a0-8075b47eca58",
   "metadata": {},
   "outputs": [],
   "source": [
    "def fill_with_nan(t):\n",
    "    arr = t.as_array()\n",
    "    arr_list = arr.tolist()\n",
    "    arr = np.array(arr_list)\n",
    "    arr[np.equal(arr, None)] = np.nan\n",
    "    arr = np.array(arr.tolist())\n",
    "    return Table(arr)"
   ]
  },
  {
   "cell_type": "code",
   "execution_count": null,
   "id": "8615c069-f7d3-4a3e-aca0-645b4438ef6d",
   "metadata": {},
   "outputs": [],
   "source": [
    "table = fill_with_nan(table)\n",
    "table"
   ]
  },
  {
   "cell_type": "code",
   "execution_count": null,
   "id": "68d48ca8-c002-4d08-9664-e2cb9939017a",
   "metadata": {},
   "outputs": [],
   "source": [
    "timestep = calculate_timestep(table) # median value of time differences between data points\n",
    "print(timestep)\n",
    "t, flux, quality, real = clean_data(table)\n",
    "N = len(t) # length of data (time)\n",
    "ones = np.ones(N) # array of ones\n",
    "\n",
    "flux = normalise_flux(flux) # normalised flux - need to(?)\n",
    "\n",
    "# periodic noise removal with fourier\n",
    "filteredflux = fourier_filter(flux, 8)\n",
    "A_mag = np.abs(np.fft.rfft(flux))\n",
    "periodicnoise = flux - filteredflux\n",
    "sigma = flux.std()\n",
    "\n",
    "# periodic noise removal with lomb-scargle\n",
    "flux_ls = np.copy(flux)\n",
    "lombscargle_filter(t, flux_ls, real, 0.05) # no output for kepler??\n",
    "periodicnoise_ls = flux - flux_ls # removing periodic noise = flux - flux_ls ( the cleaned lc) \n",
    "flux_ls = flux_ls * real # real: interpolated data assumed to be real\n",
    "\n",
    "T1 = test_statistic_array(filteredflux, 60) # fourier test statistic\n",
    "T = test_statistic_array(flux_ls, 60) # lomb-scargle test statistic\n",
    "data = nonzero(T) # all non zeroes\n",
    "\n",
    "# Find minimum test statistic value, and its location.\n",
    "m, n = np.unravel_index(T.argmin(), T.shape) # gives index of minimum T (m), and index of minimum T (n) - the element of the shape (so here, 1145) \n",
    "minT = T[m, n] # T test result - the most negative value of T - strongest event in lightcurve.\n",
    "minT_time = t[n] # period of transit\n",
    "minT_duration = m * timestep # duration of transit\n",
    "print(\"Maximum transit chance:\")\n",
    "print(\"   Time =\", round(minT_time, 2), \"days.\") # \n",
    "print(\"   Duration =\", round(minT_duration, 2), \"days.\") # box duration of transit\n",
    "print(\"   T =\", round(minT, 1)) # minimum test statistic (signal)\n",
    "print(\"   T/sigma =\", round(minT / data.std(), 1)) # strongest signal / std of all n and w considered\n",
    "\n",
    "trans_start = n - math.floor((m - 1) / 2) # (1145-(1-1)/2): half width - math.floor rounds down\n",
    "trans_end = trans_start + m \n",
    "print(\"Transit depth =\", round(flux[trans_start:trans_end].mean(), 6))\n",
    "\n",
    "# Transit shape calculation\n",
    "if n - 3 * m >= 0 and n + 3 * m < N: # m: width of point(s) in lc. first part: 3 transit widths away from first data point. last part: not more than 3 transit widths away. \n",
    "    t2 = t[n - 3 * m:n + 3 * m] #time array\n",
    "    x2 = flux_ls[n - 3 * m:n + 3 * m] #flux array\n",
    "    q2 = quality[n - 3 * m:n + 3 * m] \n",
    "    background = (sum(x2[:1 * m]) + sum(x2[5 * m:])) / (2 * m)\n",
    "    x2 -= background \n",
    "    paramsgauss = single_gaussian_curve_fit(t2, -x2) #gaussian curve\n",
    "    y2 = -gauss(t2, *paramsgauss) # simple gaussian model fit\n",
    "    paramscomet = comet_curve_fit(t2, -x2)\n",
    "    w2 = -comet_curve(t2, *paramscomet) # modified gaussian model fit with exponential tail\n",
    "\n",
    "    scores = [score_fit(x2, fit) for fit in [y2, w2]]\n",
    "    print(scores)\n",
    "    print(\"Asym score:\", round(scores[0] / scores[1], 4))\n",
    "\n",
    "    #qual_flags = reduce(lambda a, b: a or b, q2)\n",
    "    #print(\"Quality flags:\", qual_flags)\n",
    "\n",
    "# Classify events\n",
    "asym, _, _ = calc_shape(m, n, t, flux) # plot \n",
    "print(classify(m, n, real, asym))\n",
    "\n",
    "# Skip plotting if no graphical output set\n",
    "# if args.n:\n",
    "#     sys.exit()\n",
    "\n",
    "# plt.xkcd()\n",
    "fig1, axarr = plt.subplots(4)\n",
    "axarr[0].plot(A_mag) # fourier plot\n",
    "axarr[0].title.set_text('Fourier plot')\n",
    "axarr[1].plot(t, flux + ones, t, periodicnoise_ls + ones) #\n",
    "axarr[2].plot(t, flux_ls + ones) # lomb-scargle plot\n",
    "axarr[2].title.set_text('Lomb-Scargle plot') \n",
    "cax = axarr[3].imshow(T)\n",
    "axarr[3].set_aspect('auto')\n",
    "fig1.colorbar(cax)\n",
    "\n",
    "# params = double_gaussian_curve_fit(T)\n",
    "fig2 = plt.figure()\n",
    "ax2 = fig2.add_subplot(111)\n",
    "# T_test_nonzero = np.array(data)\n",
    "# _,bins,_ = ax2.hist(T_test_nonzero,bins=100,log=True)\n",
    "# y = np.maximum(bimodal(bins,*params),10)\n",
    "# ax2.plot(bins,y)\n",
    "try:\n",
    "    ax2.plot(t2, x2, t2, y2, t2, w2)\n",
    " \n",
    "except:\n",
    "    pass\n",
    "\n",
    "fig1.tight_layout()\n",
    "plt.show()\n",
    "\n"
   ]
  },
  {
   "cell_type": "code",
   "execution_count": null,
   "id": "d8a89067-cc4d-4126-a8d3-154b90927124",
   "metadata": {},
   "outputs": [],
   "source": []
  }
 ],
 "metadata": {
  "kernelspec": {
   "display_name": "spocc",
   "language": "python",
   "name": "spocc"
  },
  "language_info": {
   "codemirror_mode": {
    "name": "ipython",
    "version": 3
   },
   "file_extension": ".py",
   "mimetype": "text/x-python",
   "name": "python",
   "nbconvert_exporter": "python",
   "pygments_lexer": "ipython3",
   "version": "3.6.13"
  }
 },
 "nbformat": 4,
 "nbformat_minor": 5
}
