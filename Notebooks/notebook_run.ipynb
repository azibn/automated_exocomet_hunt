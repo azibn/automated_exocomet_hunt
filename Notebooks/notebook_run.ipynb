{
 "cells": [
  {
   "cell_type": "code",
   "execution_count": null,
   "id": "500c0774-7626-46da-b7e0-5eebc1caddc4",
   "metadata": {},
   "outputs": [],
   "source": [
    "cd .."
   ]
  },
  {
   "cell_type": "code",
   "execution_count": null,
   "id": "f2eff808-9498-4cbc-aabd-9ca70a0a740b",
   "metadata": {},
   "outputs": [],
   "source": [
    "from analysis_tools_cython import *"
   ]
  },
  {
   "cell_type": "markdown",
   "id": "145f363c-0a6f-43ae-8690-91e7a470f571",
   "metadata": {},
   "source": [
    "#### `single_analysis` on 30 minute - Sector 6"
   ]
  },
  {
   "cell_type": "code",
   "execution_count": null,
   "id": "9cfb0f06-9746-4428-899d-e854123169b0",
   "metadata": {},
   "outputs": [],
   "source": [
    "%run -i single_analysis.py /storage/astro2/phsqzm/TESS/SPOC_30min/S06/target/0000/0002/7057/7175/hlsp_tess-spoc_tess_phot_0000000270577175-s0006_tess_v1_lc.fits"
   ]
  },
  {
   "cell_type": "markdown",
   "id": "59577020-4dad-4db7-bb64-037a509edd64",
   "metadata": {},
   "source": [
    "#### `single_analysis` on 2 minute - Sector 6"
   ]
  },
  {
   "cell_type": "code",
   "execution_count": null,
   "id": "7927ea27-980b-4b0c-97c2-af82cf694703",
   "metadata": {},
   "outputs": [],
   "source": [
    "%run -i single_analysis.py tess_testlcs/SPOC_2min/tess2018349182459-s0006-0000000270577175-0126-s_lc.fits"
   ]
  },
  {
   "cell_type": "markdown",
   "id": "1fda8e42-6c62-450c-9b95-b83cec6c81b0",
   "metadata": {},
   "source": [
    "#### `single_analysis` on 30 minute - Sector 32"
   ]
  },
  {
   "cell_type": "code",
   "execution_count": null,
   "id": "ceac7ee6-3bee-48e7-b804-9f8c51c260d2",
   "metadata": {},
   "outputs": [],
   "source": [
    "%run -i single_analysis.py tess_SPOC/7175/hlsp_tess-spoc_tess_phot_0000000270577175-s0032_tess_v1_lc.fits -q"
   ]
  },
  {
   "cell_type": "markdown",
   "id": "649d401a-3b1b-4e89-94b4-320ecd63fb01",
   "metadata": {},
   "source": [
    "#### New `single_analysis` on SPOC 30 minute"
   ]
  },
  {
   "cell_type": "code",
   "execution_count": null,
   "id": "9d6823bd-1b1f-481a-8012-d876b07e6152",
   "metadata": {},
   "outputs": [],
   "source": [
    "%run -i single_analysis_test.py /storage/astro2/phsqzm/TESS/SPOC_30min/S06/target/0000/0002/7057/7175/hlsp_tess-spoc_tess_phot_0000000270577175-s0006_tess_v1_lc.fits"
   ]
  },
  {
   "cell_type": "markdown",
   "id": "91f4d4a5-b249-46e4-9f7c-ee2a7c0065e4",
   "metadata": {},
   "source": [
    "#### New `single_analysis` on SPOC 2 minute"
   ]
  },
  {
   "cell_type": "code",
   "execution_count": null,
   "id": "a90a43bb-7527-41a5-8019-5cf77e2fd736",
   "metadata": {},
   "outputs": [],
   "source": [
    "%run -i single_analysis_test.py tess_testlcs/SPOC_2min/tess2018349182459-s0006-0000000270577175-0126-s_lc.fits"
   ]
  },
  {
   "cell_type": "markdown",
   "id": "28892943-99b5-479f-b341-760a836e7696",
   "metadata": {},
   "source": [
    "#### New `single_analysis` on Kepler"
   ]
  },
  {
   "cell_type": "code",
   "execution_count": null,
   "id": "68873340-91f0-4669-bd4f-20717f1c1ced",
   "metadata": {},
   "outputs": [],
   "source": [
    "%run -i single_analysis_test.py kepler/kplr003542116-2012088054726_llc.fits "
   ]
  }
 ],
 "metadata": {
  "kernelspec": {
   "display_name": "auto_exo",
   "language": "python",
   "name": "auto_exo"
  },
  "language_info": {
   "codemirror_mode": {
    "name": "ipython",
    "version": 3
   },
   "file_extension": ".py",
   "mimetype": "text/x-python",
   "name": "python",
   "nbconvert_exporter": "python",
   "pygments_lexer": "ipython3",
   "version": "3.7.12"
  }
 },
 "nbformat": 4,
 "nbformat_minor": 5
}
