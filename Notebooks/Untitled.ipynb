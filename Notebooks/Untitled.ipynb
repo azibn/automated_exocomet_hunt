{
 "cells": [
  {
   "cell_type": "code",
   "execution_count": 34,
   "id": "3d5a3afb-aa45-4132-86ca-ffba5d31e3ce",
   "metadata": {},
   "outputs": [],
   "source": [
    "from astroquery.mast import Observations\n",
    "from astropy.io import fits\n",
    "from astropy.table import Table\n",
    "import math"
   ]
  },
  {
   "cell_type": "code",
   "execution_count": 23,
   "id": "707f925a-e50e-4ad0-b883-e119edffa426",
   "metadata": {},
   "outputs": [],
   "source": [
    "tic = 270577175\n",
    "obsTable = Observations.query_criteria(provenance_name='TESS-SPOC',target_name=tic)\n",
    "data = Observations.get_product_list(obsTable)"
   ]
  },
  {
   "cell_type": "code",
   "execution_count": 24,
   "id": "679f164e-9705-499c-8222-06242f5369fc",
   "metadata": {},
   "outputs": [],
   "source": [
    "#download_lc = Observations.download_products(data)"
   ]
  },
  {
   "cell_type": "code",
   "execution_count": 25,
   "id": "04f85cac-ab61-4d56-8a64-7d398754e852",
   "metadata": {},
   "outputs": [
    {
     "name": "stdout",
     "output_type": "stream",
     "text": [
      "[Errno 2] No such file or directory: 'hlsp_tess-spoc_tess_phot_0000000270577175-s0006_tess_v1_tp/'\n",
      "/Users/azib/Documents/PhD/Exocomets/automated_exocomet_hunt/mastDownload/HLSP/hlsp_tess-spoc_tess_phot_0000000270577175-s0006_tess_v1_tp\n"
     ]
    }
   ],
   "source": [
    "cd hlsp_tess-spoc_tess_phot_0000000270577175-s0006_tess_v1_tp/\n"
   ]
  },
  {
   "cell_type": "code",
   "execution_count": 26,
   "id": "d97e6992-f68e-4711-bdbe-06617f3ee43e",
   "metadata": {},
   "outputs": [
    {
     "name": "stdout",
     "output_type": "stream",
     "text": [
      "hlsp_tess-spoc_tess_phot_0000000270577175-s0006_tess_v1_lc.fits\n",
      "hlsp_tess-spoc_tess_phot_0000000270577175-s0006_tess_v1_tp.fits\n"
     ]
    }
   ],
   "source": [
    "ls"
   ]
  },
  {
   "cell_type": "code",
   "execution_count": 56,
   "id": "51d68abb-96af-4aa9-a134-be4e8a29b9b6",
   "metadata": {},
   "outputs": [
    {
     "data": {
      "text/plain": [
       "FITS_rec([(1468.28332026, 0.00154374, 11559, 5440095. , 64.05369, 11814.139, 6.1606474,       nan,       nan, 8, nan, nan, nan, nan, 1661.22948378, 1.20871273e-05, 619.01059233, 5.3862706e-05,         nan,         nan),\n",
       "          (1468.3041536 , 0.00154376, 11560, 5441052.5, 64.05927, 11819.849, 6.1587396, 5507612. , 64.86285 , 0, nan, nan, nan, nan, 1661.22873677, 1.20848999e-05, 619.01157383, 5.3873198e-05,  0.01709123,  0.04153716),\n",
       "          (1468.32498695, 0.00154379, 11561, 5440696.5, 64.05729, 11821.125, 6.1617174, 5507246.5, 64.86083 , 0, nan, nan, nan, nan, 1661.22803465, 1.20856666e-05, 619.01201823, 5.3865642e-05,  0.01612137,  0.04193074),\n",
       "          ...,\n",
       "          (1489.99151787, 0.00141688, 12601, 5443009. , 64.06723, 11567.07 , 6.126722 , 5509699.5, 64.870895, 0, nan, nan, nan, nan, 1661.21266742, 1.21172870e-05, 618.93175386, 5.3750755e-05,  0.0006166 , -0.07778622),\n",
       "          (1490.01235089, 0.00141656, 12602, 5442564. , 64.0643 , 11550.364, 6.121054 , 5508939. , 64.86794 , 0, nan, nan, nan, nan, 1661.21281229, 1.21170015e-05, 618.93189245, 5.3755488e-05,  0.00073624, -0.0774702 ),\n",
       "          (1490.0331839 , 0.00141625, 12603, 5442009.5, 64.06111, 11562.166, 6.12142  , 5508479.5, 64.8647  , 0, nan, nan, nan, nan, 1661.2119017 , 1.21174899e-05, 618.93141587, 5.3749700e-05, -0.00024403, -0.07811572)],\n",
       "         dtype=(numpy.record, [('TIME', '>f8'), ('TIMECORR', '>f4'), ('CADENCENO', '>i4'), ('SAP_FLUX', '>f4'), ('SAP_FLUX_ERR', '>f4'), ('SAP_BKG', '>f4'), ('SAP_BKG_ERR', '>f4'), ('PDCSAP_FLUX', '>f4'), ('PDCSAP_FLUX_ERR', '>f4'), ('QUALITY', '>i4'), ('PSF_CENTR1', '>f8'), ('PSF_CENTR1_ERR', '>f4'), ('PSF_CENTR2', '>f8'), ('PSF_CENTR2_ERR', '>f4'), ('MOM_CENTR1', '>f8'), ('MOM_CENTR1_ERR', '>f4'), ('MOM_CENTR2', '>f8'), ('MOM_CENTR2_ERR', '>f4'), ('POS_CORR1', '>f4'), ('POS_CORR2', '>f4')]))"
      ]
     },
     "execution_count": 56,
     "metadata": {},
     "output_type": "execute_result"
    }
   ],
   "source": [
    "hdulist = fits.open('hlsp_tess-spoc_tess_phot_0000000270577175-s0006_tess_v1_lc.fits')\n",
    "hdulist[1].data"
   ]
  },
  {
   "cell_type": "code",
   "execution_count": 57,
   "id": "3c6b72cf-dcfa-485d-bdbb-95a8c7f63b3c",
   "metadata": {},
   "outputs": [],
   "source": [
    "def import_lightcurve(file_path, drop_bad_points=False,\n",
    "                      ok_flags=[5]):\n",
    "    \"\"\"Returns (N by 2) table, columns are (time, flux).\n",
    "\n",
    "    Flags deemed to be OK are:\n",
    "    5 - reaction wheel zero crossing, matters for short cadence\n",
    "    \"\"\"\n",
    "\n",
    "    try:\n",
    "        hdulist = fits.open(file_path)\n",
    "    except FileNotFoundError:\n",
    "        print(\"Import failed: file not found\")\n",
    "        return\n",
    "\n",
    "    scidata = hdulist[1].data\n",
    "    table = Table(scidata)['TIME','PDCSAP_FLUX','QUALITY']\n",
    "\n",
    "    if drop_bad_points:\n",
    "        bad_points = []\n",
    "        q_ind = get_quality_indices(table['QUALITY'])\n",
    "        for j,q in enumerate(q_ind):\n",
    "            if j+1 not in ok_flags:\n",
    "                bad_points += q.tolist()\n",
    "\n",
    "        # bad_points = [i for i in range(len(table)) if table[i][2]>0]\n",
    "        table.remove_rows(bad_points)\n",
    "\n",
    "    # Delete rows containing NaN values.\n",
    "    nan_rows = [ i for i in range(len(table)) if\n",
    "            math.isnan(table[i][1]) or math.isnan(table[i][0]) ]\n",
    "\n",
    "    table.remove_rows(nan_rows)\n",
    "\n",
    "    # Smooth data by deleting overly 'spikey' points.\n",
    "    spikes = [ i for i in range(1,len(table)-1) if \\\n",
    "            abs(table[i][1] - 0.5*(table[i-1][1]+table[i+1][1])) \\\n",
    "            > 3*abs(table[i+1][1] - table[i-1][1])]\n",
    "\n",
    "    for i in spikes:\n",
    "        table[i][1] = 0.5*(table[i-1][1] + table[i+1][1])\n",
    "\n",
    "    return table\n"
   ]
  },
  {
   "cell_type": "code",
   "execution_count": 58,
   "id": "1518636e-fe33-4158-a08f-0c395335552c",
   "metadata": {},
   "outputs": [
    {
     "data": {
      "text/plain": [
       "971"
      ]
     },
     "execution_count": 58,
     "metadata": {},
     "output_type": "execute_result"
    }
   ],
   "source": [
    "table = import_lightcurve('hlsp_tess-spoc_tess_phot_0000000270577175-s0006_tess_v1_lc.fits')\n",
    "len(table['TIME'])"
   ]
  },
  {
   "cell_type": "code",
   "execution_count": 61,
   "id": "ebe6b195-d79f-4799-a18b-3a4fd7310f40",
   "metadata": {},
   "outputs": [
    {
     "data": {
      "text/plain": [
       "[<matplotlib.lines.Line2D at 0x7f77c9de39d0>]"
      ]
     },
     "execution_count": 61,
     "metadata": {},
     "output_type": "execute_result"
    },
    {
     "data": {
      "image/png": "[encoded data removed]",
      "text/plain": [
       "<Figure size 432x288 with 1 Axes>"
      ]
     },
     "metadata": {
      "needs_background": "light"
     },
     "output_type": "display_data"
    }
   ],
   "source": [
    "import matplotlib.pyplot as plt\n",
    "plt.plot(table['TIME'],table['PDCSAP_FLUX'])"
   ]
  },
  {
   "cell_type": "markdown",
   "id": "5f0eac4d-9e2a-4313-883e-8465ebaaf51d",
   "metadata": {},
   "source": [
    "---"
   ]
  },
  {
   "cell_type": "markdown",
   "id": "1ca5f1de-77fa-4fed-9bf9-b71ede3864d1",
   "metadata": {},
   "source": [
    "### Testing glob things"
   ]
  },
  {
   "cell_type": "code",
   "execution_count": 26,
   "id": "1496755d-50cc-4a89-83d7-94ec11750b4f",
   "metadata": {},
   "outputs": [],
   "source": [
    "import glob\n",
    "import pandas as pd\n",
    "import numpy as np\n",
    "import matplotlib.pyplot as plt"
   ]
  },
  {
   "cell_type": "code",
   "execution_count": 14,
   "id": "cc2bd551-4c38-4ee3-bbbb-0684ae49a096",
   "metadata": {},
   "outputs": [],
   "source": [
    "#[print(f\"target found\") for i in glob.glob('tess/2_min_cadence_targets/*.pkl') if i.endswith('.pkl')]"
   ]
  },
  {
   "cell_type": "code",
   "execution_count": 15,
   "id": "5bbd7b63-a8d5-4d25-8d57-6e71c226284f",
   "metadata": {},
   "outputs": [],
   "source": [
    "def lightcurves(path):\n",
    "    data = pd.read_pickle(path)\n",
    "    return data[3]"
   ]
  },
  {
   "cell_type": "code",
   "execution_count": 16,
   "id": "53c78f55-8e6d-470c-92d6-817a03398b56",
   "metadata": {},
   "outputs": [
    {
     "data": {
      "text/plain": [
       "9.838000300000001"
      ]
     },
     "execution_count": 16,
     "metadata": {},
     "output_type": "execute_result"
    }
   ],
   "source": [
    "lightcurves('tess/2_min_cadence_targets/tesslc_100479167.pkl')"
   ]
  },
  {
   "cell_type": "code",
   "execution_count": 19,
   "id": "1edbc24f-0583-4249-916a-aeff61d9d2d3",
   "metadata": {},
   "outputs": [],
   "source": [
    "test = []\n",
    "for i in glob.glob('tess/2_min_cadence_targets/*.pkl'):\n",
    "    test.append(lightcurves(i))"
   ]
  },
  {
   "cell_type": "code",
   "execution_count": 86,
   "id": "7bb6c5f7-f42a-4459-9663-688d384aa9b3",
   "metadata": {},
   "outputs": [
    {
     "data": {
      "text/plain": [
       "18494"
      ]
     },
     "execution_count": 86,
     "metadata": {},
     "output_type": "execute_result"
    }
   ],
   "source": [
    "values, base = np.histogram(test, bins=20)"
   ]
  },
  {
   "cell_type": "code",
   "execution_count": 34,
   "id": "df9aa617-2f1e-4dbb-98f2-9a68ab7fd210",
   "metadata": {},
   "outputs": [],
   "source": [
    "cumulative = np.cumsum(values) / len(test)\n"
   ]
  },
  {
   "cell_type": "code",
   "execution_count": 39,
   "id": "866dd583-d3bf-44d6-8ef1-bd0f867a0391",
   "metadata": {},
   "outputs": [
    {
     "data": {
      "image/png": "[encoded data removed]",
      "text/plain": [
       "<Figure size 936x288 with 1 Axes>"
      ]
     },
     "metadata": {
      "needs_background": "light"
     },
     "output_type": "display_data"
    }
   ],
   "source": [
    "plt.figure(figsize=(13,4))\n",
    "plt.plot(base[:-1], cumulative, c='blue')\n",
    "plt.yscale('log')\n",
    "plt.title('Distribution of magnitiudes for 2 min targets')\n",
    "plt.xlabel('Magnitude')\n",
    "plt.ylabel('Fraction')\n",
    "plt.show()"
   ]
  },
  {
   "cell_type": "markdown",
   "id": "bbeddc6e-073c-4289-83c9-0ae1f0fbf746",
   "metadata": {},
   "source": [
    "Saturated stars ~ 6.8 Mag [Sullivan et al 2015](https://arxiv.org/pdf/1506.03845.pdf), [Feinstein et al. 2019](https://ui.adsabs.harvard.edu/abs/2019PASP..131i4502F/abstract)"
   ]
  },
  {
   "cell_type": "code",
   "execution_count": 50,
   "id": "1604bbc7-43e3-4710-a3af-e72a26a1298a",
   "metadata": {},
   "outputs": [],
   "source": [
    "lim = 6.8\n",
    "non_saturated = [i for i in test if i < lim] # less than because magnitudes work the other way"
   ]
  },
  {
   "cell_type": "code",
   "execution_count": 85,
   "id": "b1a16a01-573a-4705-9ba6-fb01972c523a",
   "metadata": {},
   "outputs": [
    {
     "data": {
      "text/plain": [
       "5.309830215204931"
      ]
     },
     "execution_count": 85,
     "metadata": {},
     "output_type": "execute_result"
    }
   ],
   "source": [
    "len(non_saturated)/len(test) * 100"
   ]
  },
  {
   "cell_type": "markdown",
   "id": "3a81f4a7-848a-4004-a7b5-65bb74a85ae9",
   "metadata": {},
   "source": [
    "---"
   ]
  },
  {
   "cell_type": "code",
   "execution_count": 63,
   "id": "ee7fd632-6bc0-4681-b9df-0e37e4e11395",
   "metadata": {},
   "outputs": [],
   "source": [
    "from astropy.io import fits\n",
    "import matplotlib.pyplot as plt"
   ]
  },
  {
   "cell_type": "code",
   "execution_count": 82,
   "id": "19f49996-225a-4d32-a860-131b25474678",
   "metadata": {},
   "outputs": [],
   "source": [
    "with fits.open('tess2018206045859-s0001-0000000024265755-0120-s_lc.fits','readonly') as hdulist:\n",
    "    time = hdulist[1].data['TIME']\n",
    "    flux = hdulist[1].data['SAP_FLUX']"
   ]
  },
  {
   "cell_type": "code",
   "execution_count": 84,
   "id": "731ea03d-9b9b-40d3-8662-da842a7bcde7",
   "metadata": {},
   "outputs": [
    {
     "data": {
      "text/plain": [
       "20076"
      ]
     },
     "execution_count": 84,
     "metadata": {},
     "output_type": "execute_result"
    }
   ],
   "source": [
    "len(time)"
   ]
  },
  {
   "cell_type": "code",
   "execution_count": 71,
   "id": "0401bc3a-e262-44d3-a6e4-2dea6e3e1af6",
   "metadata": {},
   "outputs": [
    {
     "data": {
      "text/plain": [
       "[<matplotlib.lines.Line2D at 0x7fc20a857e20>]"
      ]
     },
     "execution_count": 71,
     "metadata": {},
     "output_type": "execute_result"
    },
    {
     "data": {
      "image/png": "[encoded data removed]",
      "text/plain": [
       "<Figure size 432x288 with 1 Axes>"
      ]
     },
     "metadata": {
      "needs_background": "light"
     },
     "output_type": "display_data"
    }
   ],
   "source": [
    "plt.plot(time,flux)"
   ]
  },
  {
   "cell_type": "markdown",
   "id": "6a29a06c-717f-43fc-8654-9b5f7e756be2",
   "metadata": {},
   "source": [
    "---"
   ]
  },
  {
   "cell_type": "code",
   "execution_count": 72,
   "id": "de1a9033-c82e-4d0f-a017-bad9772f5fd4",
   "metadata": {},
   "outputs": [],
   "source": [
    "from astroquery.mast import Catalogs"
   ]
  },
  {
   "cell_type": "code",
   "execution_count": 74,
   "id": "7f23c72c-f01e-495a-8186-fd774be17b71",
   "metadata": {},
   "outputs": [],
   "source": [
    "catalog_data = Catalogs.query_criteria(catalog=\"Tic\",Tmag = [1,7])"
   ]
  },
  {
   "cell_type": "code",
   "execution_count": 80,
   "id": "09b5affb-90b8-4df5-90da-da3ce46206d6",
   "metadata": {},
   "outputs": [
    {
     "data": {
      "text/html": [
       "<i>Table masked=True length=43055</i>\n",
       "<table id=\"table140469242147072\" class=\"table-striped table-bordered table-condensed\">\n",
       "<thead><tr><th>ID</th><th>version</th><th>HIP</th><th>TYC</th><th>UCAC</th><th>TWOMASS</th><th>SDSS</th><th>ALLWISE</th><th>GAIA</th><th>APASS</th><th>KIC</th><th>objType</th><th>typeSrc</th><th>ra</th><th>dec</th><th>POSflag</th><th>pmRA</th><th>e_pmRA</th><th>pmDEC</th><th>e_pmDEC</th><th>PMflag</th><th>plx</th><th>e_plx</th><th>PARflag</th><th>gallong</th><th>gallat</th><th>eclong</th><th>eclat</th><th>Bmag</th><th>e_Bmag</th><th>Vmag</th><th>e_Vmag</th><th>umag</th><th>e_umag</th><th>gmag</th><th>e_gmag</th><th>rmag</th><th>e_rmag</th><th>imag</th><th>e_imag</th><th>zmag</th><th>e_zmag</th><th>Jmag</th><th>e_Jmag</th><th>Hmag</th><th>e_Hmag</th><th>Kmag</th><th>e_Kmag</th><th>TWOMflag</th><th>prox</th><th>w1mag</th><th>e_w1mag</th><th>w2mag</th><th>e_w2mag</th><th>w3mag</th><th>e_w3mag</th><th>w4mag</th><th>e_w4mag</th><th>GAIAmag</th><th>e_GAIAmag</th><th>Tmag</th><th>e_Tmag</th><th>TESSflag</th><th>SPFlag</th><th>Teff</th><th>e_Teff</th><th>logg</th><th>e_logg</th><th>MH</th><th>e_MH</th><th>rad</th><th>e_rad</th><th>mass</th><th>e_mass</th><th>rho</th><th>e_rho</th><th>lumclass</th><th>lum</th><th>e_lum</th><th>d</th><th>e_d</th><th>ebv</th><th>e_ebv</th><th>numcont</th><th>contratio</th><th>disposition</th><th>duplicate_id</th><th>priority</th><th>eneg_EBV</th><th>epos_EBV</th><th>EBVflag</th><th>eneg_Mass</th><th>epos_Mass</th><th>eneg_Rad</th><th>epos_Rad</th><th>eneg_rho</th><th>epos_rho</th><th>eneg_logg</th><th>epos_logg</th><th>eneg_lum</th><th>epos_lum</th><th>eneg_dist</th><th>epos_dist</th><th>distflag</th><th>eneg_Teff</th><th>epos_Teff</th><th>TeffFlag</th><th>gaiabp</th><th>e_gaiabp</th><th>gaiarp</th><th>e_gaiarp</th><th>gaiaqflag</th><th>starchareFlag</th><th>VmagFlag</th><th>BmagFlag</th><th>splists</th><th>e_RA</th><th>e_Dec</th><th>RA_orig</th><th>Dec_orig</th><th>e_RA_orig</th><th>e_Dec_orig</th><th>raddflag</th><th>wdflag</th><th>objID</th></tr></thead>\n",
       "<thead><tr><th>str11</th><th>str8</th><th>int64</th><th>str12</th><th>str10</th><th>str16</th><th>str19</th><th>str19</th><th>str19</th><th>str8</th><th>int64</th><th>str8</th><th>str10</th><th>float64</th><th>float64</th><th>str10</th><th>float64</th><th>float64</th><th>float64</th><th>float64</th><th>str6</th><th>float64</th><th>float64</th><th>str5</th><th>float64</th><th>float64</th><th>float64</th><th>float64</th><th>float64</th><th>float64</th><th>float64</th><th>float64</th><th>float64</th><th>float64</th><th>float64</th><th>float64</th><th>float64</th><th>float64</th><th>float64</th><th>float64</th><th>float64</th><th>float64</th><th>float64</th><th>float64</th><th>float64</th><th>float64</th><th>float64</th><th>float64</th><th>str19</th><th>float64</th><th>float64</th><th>float64</th><th>float64</th><th>float64</th><th>float64</th><th>float64</th><th>float64</th><th>float64</th><th>float64</th><th>float64</th><th>float64</th><th>float64</th><th>str5</th><th>str5</th><th>float64</th><th>float64</th><th>float64</th><th>float64</th><th>float64</th><th>float64</th><th>float64</th><th>float64</th><th>float64</th><th>float64</th><th>float64</th><th>float64</th><th>str8</th><th>float64</th><th>float64</th><th>float64</th><th>float64</th><th>float64</th><th>float64</th><th>int64</th><th>float64</th><th>str9</th><th>str9</th><th>float64</th><th>float64</th><th>float64</th><th>str9</th><th>float64</th><th>float64</th><th>float64</th><th>float64</th><th>float64</th><th>float64</th><th>float64</th><th>float64</th><th>float64</th><th>float64</th><th>float64</th><th>float64</th><th>str6</th><th>float64</th><th>float64</th><th>str6</th><th>float64</th><th>float64</th><th>float64</th><th>float64</th><th>int64</th><th>str1</th><th>str8</th><th>str8</th><th>str13</th><th>float64</th><th>float64</th><th>float64</th><th>float64</th><th>float64</th><th>float64</th><th>int64</th><th>int64</th><th>str10</th></tr></thead>\n",
       "<tr><td>376084514</td><td>20190415</td><td>1131</td><td>4306-01424-1</td><td>817-000683</td><td>00140595+7323274</td><td>--</td><td>--</td><td>537903048479998208</td><td>60153712</td><td>--</td><td>STAR</td><td>tmgaia2</td><td>3.52489359226261</td><td>73.3909314934906</td><td>tmgaia2</td><td>-4.07105</td><td>0.0635699</td><td>5.7968</td><td>0.0657116</td><td>gaia2</td><td>1.47124</td><td>0.0423128</td><td>gaia2</td><td>120.227367253248</td><td>10.7155577722082</td><td>54.3183549086176</td><td>60.7166850371102</td><td>10.039</td><td>0.03</td><td>8.25</td><td>0.03</td><td>nan</td><td>nan</td><td>nan</td><td>nan</td><td>nan</td><td>nan</td><td>nan</td><td>nan</td><td>nan</td><td>nan</td><td>3.996</td><td>0.244</td><td>3.141</td><td>0.208</td><td>2.713</td><td>0.272</td><td>DCD-333-111-000-0-0</td><td>nan</td><td>nan</td><td>nan</td><td>nan</td><td>nan</td><td>nan</td><td>nan</td><td>nan</td><td>nan</td><td>7.022</td><td>0.001519</td><td>5.8287</td><td>0.0143</td><td>rered</td><td>gaia2</td><td>3512.0</td><td>122.0</td><td>nan</td><td>nan</td><td>nan</td><td>nan</td><td>116.415</td><td>nan</td><td>nan</td><td>nan</td><td>nan</td><td>nan</td><td>GIANT</td><td>nan</td><td>nan</td><td>667.298</td><td>19.0035</td><td>0.170118</td><td>0.03454015</td><td>--</td><td>nan</td><td>--</td><td>--</td><td>nan</td><td>0.0428576</td><td>0.0262227</td><td>panstarrs</td><td>nan</td><td>nan</td><td>nan</td><td>nan</td><td>nan</td><td>nan</td><td>nan</td><td>nan</td><td>nan</td><td>nan</td><td>18.472</td><td>19.535</td><td>bj2018</td><td>nan</td><td>nan</td><td>dered</td><td>8.57949</td><td>0.010372</td><td>5.84248</td><td>0.004559</td><td>1</td><td>--</td><td>hipvmag</td><td>tycho2b</td><td>--</td><td>1.22945819269299</td><td>1.01912363138507</td><td>3.5248322707909</td><td>73.3909564519442</td><td>0.0381246148096928</td><td>0.0347853785295864</td><td>0</td><td>0</td><td>3308491</td></tr>\n",
       "<tr><td>407119572</td><td>20190415</td><td>1756</td><td>4302-00744-1</td><td>808-001347</td><td>00221435+7130291</td><td>--</td><td>J002214.39+713029.7</td><td>537086867256144640</td><td>59970723</td><td>--</td><td>STAR</td><td>tmgaia2</td><td>5.55978925789258</td><td>71.5081676952461</td><td>tmgaia2</td><td>16.8759</td><td>0.0417112</td><td>4.71762</td><td>0.0379624</td><td>gaia2</td><td>2.96632</td><td>0.0244517</td><td>gaia2</td><td>120.594988247658</td><td>8.7690292159781</td><td>52.0949920955724</td><td>59.0802978590373</td><td>8.897</td><td>0.304</td><td>7.61</td><td>0.03</td><td>nan</td><td>nan</td><td>nan</td><td>nan</td><td>nan</td><td>nan</td><td>nan</td><td>nan</td><td>nan</td><td>nan</td><td>4.892</td><td>0.037</td><td>4.324</td><td>0.206</td><td>4.118</td><td>0.24</td><td>ECD-133-111-000-0-0</td><td>nan</td><td>3.995</td><td>0.281</td><td>3.757</td><td>0.187</td><td>3.957</td><td>0.015</td><td>3.874</td><td>0.024</td><td>7.0271</td><td>0.00028</td><td>6.18269</td><td>0.0061</td><td>rered</td><td>gaia2</td><td>4381.0</td><td>122.0</td><td>nan</td><td>nan</td><td>nan</td><td>nan</td><td>28.9127</td><td>nan</td><td>nan</td><td>nan</td><td>nan</td><td>nan</td><td>GIANT</td><td>nan</td><td>nan</td><td>333.893</td><td>2.747</td><td>0.18786</td><td>0.0327812</td><td>--</td><td>nan</td><td>--</td><td>--</td><td>nan</td><td>0.0494115</td><td>0.0161509</td><td>panstarrs</td><td>nan</td><td>nan</td><td>nan</td><td>nan</td><td>nan</td><td>nan</td><td>nan</td><td>nan</td><td>nan</td><td>nan</td><td>2.725</td><td>2.769</td><td>bj2018</td><td>nan</td><td>nan</td><td>dered</td><td>7.87489</td><td>0.001315</td><td>6.16624</td><td>0.001939</td><td>1</td><td>--</td><td>hipvmag</td><td>apassdr9</td><td>--</td><td>0.796969463412237</td><td>0.588737326104316</td><td>5.56001834717428</td><td>71.5081880073589</td><td>0.0218352158812109</td><td>0.0194123129126684</td><td>0</td><td>0</td><td>5161946</td></tr>\n",
       "<tr><td>468349172</td><td>20190415</td><td>2332</td><td>0596-00064-1</td><td>499-000698</td><td>00295080+0941520</td><td>--</td><td>J002950.82+094151.9</td><td>2750813273326404864</td><td>38616633</td><td>--</td><td>STAR</td><td>tmgaia2</td><td>7.46170359333474</td><td>9.69777310071747</td><td>tmgaia2</td><td>17.1555</td><td>0.144411</td><td>-20.6023</td><td>0.0789919</td><td>gaia2</td><td>3.82031</td><td>0.0839688</td><td>gaia2</td><td>114.109083051565</td><td>-52.8037079630647</td><td>10.6873298906283</td><td>5.94836817134992</td><td>9.021</td><td>0.0</td><td>7.88</td><td>0.03</td><td>nan</td><td>nan</td><td>nan</td><td>nan</td><td>nan</td><td>nan</td><td>nan</td><td>nan</td><td>nan</td><td>nan</td><td>6.019</td><td>0.044</td><td>5.432</td><td>0.033</td><td>5.306</td><td>0.017</td><td>AAA-111-111-000-0-0</td><td>nan</td><td>5.248</td><td>0.211</td><td>5.2</td><td>0.062</td><td>5.28</td><td>0.015</td><td>5.226</td><td>0.037</td><td>7.56421</td><td>0.000286</td><td>6.9268</td><td>0.0067</td><td>rered</td><td>gaia2</td><td>4781.0</td><td>122.0</td><td>nan</td><td>nan</td><td>nan</td><td>nan</td><td>11.337</td><td>nan</td><td>nan</td><td>nan</td><td>nan</td><td>nan</td><td>GIANT</td><td>nan</td><td>nan</td><td>259.947</td><td>5.72</td><td>0.0357334</td><td>0.005049425</td><td>--</td><td>nan</td><td>--</td><td>--</td><td>nan</td><td>0.00395802</td><td>0.00614083</td><td>panstarrs</td><td>nan</td><td>nan</td><td>nan</td><td>nan</td><td>nan</td><td>nan</td><td>nan</td><td>nan</td><td>nan</td><td>nan</td><td>5.597</td><td>5.843</td><td>bj2018</td><td>nan</td><td>nan</td><td>dered</td><td>8.1415</td><td>0.001024</td><td>6.88366</td><td>0.001338</td><td>1</td><td>--</td><td>hipvmag</td><td>apassdr9</td><td>--</td><td>2.2477865833831</td><td>1.22506812175613</td><td>7.46177852811035</td><td>9.69768439637766</td><td>0.0786542096429987</td><td>0.0412202514582685</td><td>0</td><td>0</td><td>7201550</td></tr>\n",
       "<tr><td>274986192</td><td>20190415</td><td>2968</td><td>4303-00957-1</td><td>815-002059</td><td>00374572+7253416</td><td>--</td><td>J003745.72+725341.4</td><td>536986433739919488</td><td>60178968</td><td>--</td><td>STAR</td><td>tmgaia2</td><td>9.44041460031967</td><td>72.8948518696962</td><td>tmgaia2</td><td>8.0328</td><td>0.108477</td><td>-0.987549</td><td>0.077173</td><td>gaia2</td><td>2.5413</td><td>0.0569093</td><td>gaia2</td><td>121.911169405806</td><td>10.050215457722</td><td>55.6441503726511</td><td>59.0602852088706</td><td>6.931</td><td>0.024</td><td>6.96083</td><td>0.023</td><td>nan</td><td>nan</td><td>nan</td><td>nan</td><td>nan</td><td>nan</td><td>nan</td><td>nan</td><td>nan</td><td>nan</td><td>6.961</td><td>0.024</td><td>7.031</td><td>0.034</td><td>7.08</td><td>0.017</td><td>AAA-111-111-000-0-0</td><td>nan</td><td>7.082</td><td>0.04</td><td>7.131</td><td>0.021</td><td>7.174</td><td>0.017</td><td>6.94</td><td>0.07</td><td>6.92197</td><td>0.000494</td><td>6.98621</td><td>0.0063</td><td>rered</td><td>spect</td><td>17729.0</td><td>250.0</td><td>nan</td><td>nan</td><td>nan</td><td>nan</td><td>nan</td><td>nan</td><td>nan</td><td>nan</td><td>nan</td><td>nan</td><td>--</td><td>nan</td><td>nan</td><td>389.377</td><td>8.7</td><td>0.174518</td><td>0.06203195</td><td>--</td><td>nan</td><td>--</td><td>--</td><td>nan</td><td>0.0903459</td><td>0.033718</td><td>panstarrs</td><td>nan</td><td>nan</td><td>nan</td><td>nan</td><td>nan</td><td>nan</td><td>nan</td><td>nan</td><td>nan</td><td>nan</td><td>nan</td><td>nan</td><td>bj2018</td><td>nan</td><td>nan</td><td>spect</td><td>6.93414</td><td>0.00213</td><td>6.93021</td><td>0.001812</td><td>1</td><td>--</td><td>sirful</td><td>tycho2b3</td><td>--</td><td>2.09113803435938</td><td>1.19678684245942</td><td>9.44053218816633</td><td>72.894847617783</td><td>0.0612890720857351</td><td>0.0380600228815968</td><td>-1</td><td>0</td><td>8856704</td></tr>\n",
       "<tr><td>468327444</td><td>20190415</td><td>--</td><td>4501-01399-1</td><td>851-000780</td><td>00414009+8009034</td><td>--</td><td>J004140.15+800903.5</td><td>566351434377831552</td><td>--</td><td>--</td><td>STAR</td><td>tmgaia2</td><td>10.4172277549593</td><td>80.1509552158633</td><td>tmgaia2</td><td>-9.04571</td><td>0.0601587</td><td>1.60373</td><td>0.0509778</td><td>gaia2</td><td>1.06102</td><td>0.0312052</td><td>gaia2</td><td>122.494534787816</td><td>17.2875050450836</td><td>68.1848321775415</td><td>63.0822471909291</td><td>10.667</td><td>0.045</td><td>8.794</td><td>0.013</td><td>nan</td><td>nan</td><td>nan</td><td>nan</td><td>nan</td><td>nan</td><td>nan</td><td>nan</td><td>nan</td><td>nan</td><td>5.307</td><td>0.032</td><td>4.574</td><td>0.046</td><td>4.34</td><td>0.324</td><td>EAD-113-111-000-0-0</td><td>nan</td><td>4.088</td><td>0.274</td><td>3.974</td><td>0.047</td><td>4.047</td><td>0.014</td><td>3.92</td><td>0.021</td><td>7.91105</td><td>0.001039</td><td>6.8732</td><td>0.0067</td><td>rered</td><td>gaia2</td><td>3887.0</td><td>122.0</td><td>nan</td><td>nan</td><td>nan</td><td>nan</td><td>78.2579</td><td>nan</td><td>nan</td><td>nan</td><td>nan</td><td>nan</td><td>GIANT</td><td>nan</td><td>nan</td><td>917.941</td><td>26.506</td><td>0.193566</td><td>0.006011325</td><td>--</td><td>nan</td><td>--</td><td>--</td><td>nan</td><td>0.0039574</td><td>0.00806525</td><td>panstarrs</td><td>nan</td><td>nan</td><td>nan</td><td>nan</td><td>nan</td><td>nan</td><td>nan</td><td>nan</td><td>nan</td><td>nan</td><td>25.755</td><td>27.257</td><td>bj2018</td><td>nan</td><td>nan</td><td>dered</td><td>9.09655</td><td>0.004119</td><td>6.87412</td><td>0.002974</td><td>1</td><td>--</td><td>tycho2v</td><td>tycho2b</td><td>--</td><td>1.2189329733812</td><td>0.790677868684166</td><td>10.4170000663413</td><td>80.1509621208882</td><td>0.0289943967762115</td><td>0.0287253498172888</td><td>0</td><td>0</td><td>10039875</td></tr>\n",
       "<tr><td>58824749</td><td>20190415</td><td>4025</td><td>0611-00266-1</td><td>514-001351</td><td>00513488+1247051</td><td>--</td><td>J005134.93+124705.1</td><td>2775269744822527872</td><td>40716104</td><td>--</td><td>STAR</td><td>tmgaia2</td><td>12.8953676665323</td><td>12.7847718978354</td><td>tmgaia2</td><td>85.9788</td><td>0.117006</td><td>-21.7352</td><td>0.060503</td><td>gaia2</td><td>11.5598</td><td>0.0649638</td><td>gaia2</td><td>122.986474323811</td><td>-50.0869604820851</td><td>16.8384570375113</td><td>6.68768755097395</td><td>7.021</td><td>0.027</td><td>6.70734</td><td>0.023</td><td>nan</td><td>nan</td><td>nan</td><td>nan</td><td>nan</td><td>nan</td><td>nan</td><td>nan</td><td>nan</td><td>nan</td><td>6.022</td><td>0.019</td><td>5.909</td><td>0.026</td><td>5.868</td><td>0.018</td><td>AAA-111-111-dd0-0-0</td><td>nan</td><td>5.672</td><td>0.126</td><td>5.652</td><td>0.049</td><td>5.946</td><td>0.024</td><td>5.795</td><td>0.047</td><td>6.61843</td><td>0.000301</td><td>6.3787</td><td>0.006</td><td>gbprp</td><td>spect</td><td>6968.0</td><td>131.779</td><td>3.86129</td><td>0.0863307</td><td>nan</td><td>nan</td><td>2.40289</td><td>0.0998818</td><td>1.53</td><td>0.256682</td><td>0.110278</td><td>0.0250106</td><td>DWARF</td><td>12.2629576</td><td>0.5044115</td><td>86.2946</td><td>0.48745</td><td>0.0</td><td>0.0</td><td>33</td><td>0.028710695</td><td>--</td><td>--</td><td>0.00191477186</td><td>0.0</td><td>0.0</td><td>--</td><td>0.188209</td><td>0.325155</td><td>0.0824905</td><td>0.117273</td><td>0.0188626</td><td>0.0311586</td><td>0.0744101</td><td>0.0982512</td><td>0.513893</td><td>0.49493</td><td>0.4847</td><td>0.4902</td><td>bj2018</td><td>154.79</td><td>108.767</td><td>spect</td><td>6.80991</td><td>0.002001</td><td>6.35179</td><td>0.001986</td><td>1</td><td>--</td><td>sirful</td><td>tycho2b3</td><td>--</td><td>1.82594510106208</td><td>0.938511494926143</td><td>12.8957472639371</td><td>12.7846783159949</td><td>0.0606069637030841</td><td>0.0366271852078952</td><td>1</td><td>0</td><td>11596892</td></tr>\n",
       "<tr><td>...</td><td>...</td><td>...</td><td>...</td><td>...</td><td>...</td><td>...</td><td>...</td><td>...</td><td>...</td><td>...</td><td>...</td><td>...</td><td>...</td><td>...</td><td>...</td><td>...</td><td>...</td><td>...</td><td>...</td><td>...</td><td>...</td><td>...</td><td>...</td><td>...</td><td>...</td><td>...</td><td>...</td><td>...</td><td>...</td><td>...</td><td>...</td><td>...</td><td>...</td><td>...</td><td>...</td><td>...</td><td>...</td><td>...</td><td>...</td><td>...</td><td>...</td><td>...</td><td>...</td><td>...</td><td>...</td><td>...</td><td>...</td><td>...</td><td>...</td><td>...</td><td>...</td><td>...</td><td>...</td><td>...</td><td>...</td><td>...</td><td>...</td><td>...</td><td>...</td><td>...</td><td>...</td><td>...</td><td>...</td><td>...</td><td>...</td><td>...</td><td>...</td><td>...</td><td>...</td><td>...</td><td>...</td><td>...</td><td>...</td><td>...</td><td>...</td><td>...</td><td>...</td><td>...</td><td>...</td><td>...</td><td>...</td><td>...</td><td>...</td><td>...</td><td>...</td><td>...</td><td>...</td><td>...</td><td>...</td><td>...</td><td>...</td><td>...</td><td>...</td><td>...</td><td>...</td><td>...</td><td>...</td><td>...</td><td>...</td><td>...</td><td>...</td><td>...</td><td>...</td><td>...</td><td>...</td><td>...</td><td>...</td><td>...</td><td>...</td><td>...</td><td>...</td><td>...</td><td>...</td><td>...</td><td>...</td><td>...</td><td>...</td><td>...</td><td>...</td><td>...</td><td>...</td><td>...</td><td>...</td><td>...</td></tr>\n",
       "<tr><td>9710084</td><td>20190415</td><td>117743</td><td>5831-00974-1</td><td>406-142180</td><td>23524483-0853414</td><td>--</td><td>J235244.84-085342.1</td><td>2435279102879748608</td><td>5030870</td><td>--</td><td>STAR</td><td>tmgaia2</td><td>358.186866423291</td><td>-8.89489044598672</td><td>tmgaia2</td><td>-2.88486</td><td>0.1235</td><td>-6.63837</td><td>0.0780132</td><td>gaia2</td><td>2.64361</td><td>0.0869361</td><td>gaia2</td><td>82.9282545854566</td><td>-67.0897267689221</td><td>354.781734013752</td><td>-7.43659922506973</td><td>8.946</td><td>0.0</td><td>7.73</td><td>0.03</td><td>nan</td><td>nan</td><td>nan</td><td>nan</td><td>nan</td><td>nan</td><td>nan</td><td>nan</td><td>nan</td><td>nan</td><td>5.675</td><td>0.03</td><td>5.064</td><td>0.029</td><td>4.878</td><td>0.016</td><td>AAA-111-111-000-0-0</td><td>nan</td><td>5.0</td><td>0.153</td><td>4.767</td><td>0.078</td><td>4.883</td><td>0.015</td><td>4.798</td><td>0.034</td><td>7.36746</td><td>0.000274</td><td>6.685</td><td>0.0067</td><td>rered</td><td>gaia2</td><td>4571.0</td><td>122.0</td><td>nan</td><td>nan</td><td>nan</td><td>nan</td><td>20.0113</td><td>nan</td><td>nan</td><td>nan</td><td>nan</td><td>nan</td><td>GIANT</td><td>nan</td><td>nan</td><td>374.612</td><td>12.306</td><td>0.0263891</td><td>0.005514875</td><td>--</td><td>nan</td><td>--</td><td>--</td><td>nan</td><td>0.00559307</td><td>0.00543668</td><td>panstarrs</td><td>nan</td><td>nan</td><td>nan</td><td>nan</td><td>nan</td><td>nan</td><td>nan</td><td>nan</td><td>nan</td><td>nan</td><td>11.909</td><td>12.703</td><td>bj2018</td><td>nan</td><td>nan</td><td>dered</td><td>8.00749</td><td>0.001447</td><td>6.6435</td><td>0.002373</td><td>1</td><td>--</td><td>hipvmag</td><td>apassdr9</td><td>--</td><td>1.92090893582527</td><td>1.20991185876095</td><td>358.186853851169</td><td>-8.894919027858</td><td>0.0580538157021834</td><td>0.041363526315064</td><td>0</td><td>0</td><td>1725891294</td></tr>\n",
       "<tr><td>9710105</td><td>20190415</td><td>117756</td><td>5831-00395-1</td><td>406-142182</td><td>23525052-0859482</td><td>--</td><td>J235250.55-085948.5</td><td>2435271676880027008</td><td>--</td><td>--</td><td>STAR</td><td>tmgaia2</td><td>358.210538591329</td><td>-8.99675825891914</td><td>tmgaia2</td><td>62.6287</td><td>0.176326</td><td>-24.2801</td><td>0.14772</td><td>gaia2</td><td>7.05477</td><td>0.180021</td><td>gaia2</td><td>82.8252763701154</td><td>-67.18628354568</td><td>354.762139675177</td><td>-7.539295159693</td><td>6.925</td><td>0.017</td><td>5.74454</td><td>0.023</td><td>nan</td><td>nan</td><td>nan</td><td>nan</td><td>nan</td><td>nan</td><td>nan</td><td>nan</td><td>nan</td><td>nan</td><td>3.964</td><td>0.24</td><td>3.287</td><td>0.192</td><td>3.186</td><td>0.198</td><td>DCC-333-111-000-0-0</td><td>nan</td><td>2.193</td><td>nan</td><td>2.758</td><td>0.533</td><td>3.057</td><td>0.011</td><td>3.021</td><td>0.02</td><td>5.41762</td><td>0.00297713</td><td>4.76069</td><td>0.007</td><td>rered</td><td>gaia2</td><td>4629.0</td><td>122.0</td><td>nan</td><td>nan</td><td>nan</td><td>nan</td><td>17.5417</td><td>nan</td><td>nan</td><td>nan</td><td>nan</td><td>nan</td><td>GIANT</td><td>nan</td><td>nan</td><td>141.32</td><td>3.626</td><td>0.0108708</td><td>0.006868485</td><td>--</td><td>nan</td><td>--</td><td>--</td><td>nan</td><td>0.00476158</td><td>0.00897539</td><td>panstarrs</td><td>nan</td><td>nan</td><td>nan</td><td>nan</td><td>nan</td><td>nan</td><td>nan</td><td>nan</td><td>nan</td><td>nan</td><td>3.534</td><td>3.718</td><td>bj2018</td><td>nan</td><td>nan</td><td>dered</td><td>6.02988</td><td>0.003541</td><td>4.72195</td><td>0.003089</td><td>1</td><td>--</td><td>sirful</td><td>tycho2b3</td><td>--</td><td>2.74403719542961</td><td>2.29093440450357</td><td>358.21081160147</td><td>-8.9968627983399</td><td>0.118014711850818</td><td>0.0764037311792451</td><td>0</td><td>0</td><td>1725891315</td></tr>\n",
       "<tr><td>9725439</td><td>20190415</td><td>117789</td><td>5834-00787-1</td><td>395-132283</td><td>23531365-1100535</td><td>--</td><td>J235313.79-110054.6</td><td>2434373998651111552</td><td>7424895</td><td>--</td><td>STAR</td><td>tmgaia2</td><td>358.307017506813</td><td>-11.0148900664934</td><td>tmgaia2</td><td>150.722</td><td>0.183128</td><td>-110.637</td><td>0.0818057</td><td>gaia2</td><td>5.21136</td><td>0.0970329</td><td>gaia2</td><td>79.7903392248603</td><td>-68.8577551984188</td><td>354.029775288849</td><td>-9.42536119152676</td><td>8.677</td><td>0.0</td><td>7.66</td><td>0.03</td><td>nan</td><td>nan</td><td>nan</td><td>nan</td><td>nan</td><td>nan</td><td>nan</td><td>nan</td><td>nan</td><td>nan</td><td>5.836</td><td>0.019</td><td>5.329</td><td>0.046</td><td>5.151</td><td>0.02</td><td>AAA-111-111-000-0-0</td><td>nan</td><td>5.087</td><td>0.2</td><td>4.973</td><td>0.086</td><td>5.116</td><td>0.015</td><td>5.05</td><td>0.033</td><td>7.34777</td><td>0.00023</td><td>6.73253</td><td>0.0061</td><td>rered</td><td>gaia2</td><td>4809.0</td><td>122.0</td><td>nan</td><td>nan</td><td>nan</td><td>nan</td><td>8.78681</td><td>nan</td><td>nan</td><td>nan</td><td>nan</td><td>nan</td><td>GIANT</td><td>nan</td><td>nan</td><td>190.928</td><td>3.5655</td><td>0.0117146</td><td>0.006618255</td><td>--</td><td>nan</td><td>--</td><td>--</td><td>nan</td><td>0.00302281</td><td>0.0102137</td><td>panstarrs</td><td>nan</td><td>nan</td><td>nan</td><td>nan</td><td>nan</td><td>nan</td><td>nan</td><td>nan</td><td>nan</td><td>nan</td><td>3.5</td><td>3.631</td><td>bj2018</td><td>nan</td><td>nan</td><td>dered</td><td>7.90072</td><td>0.001077</td><td>6.6885</td><td>0.001645</td><td>1</td><td>--</td><td>hipvmag</td><td>apassdr9</td><td>--</td><td>2.85236276234178</td><td>1.26931470835962</td><td>358.307678628231</td><td>-11.0153664209626</td><td>0.063801876462916</td><td>0.0580118360539689</td><td>0</td><td>0</td><td>1725892011</td></tr>\n",
       "<tr><td>9725649</td><td>20190415</td><td>--</td><td>5834-00002-1</td><td>400-139263</td><td>23533063-1000206</td><td>1237652947451183190</td><td>J235330.65-100020.9</td><td>2434882797656936064</td><td>7425065</td><td>--</td><td>STAR</td><td>tmgaia2</td><td>358.377701829447</td><td>-10.0058321734491</td><td>tmgaia2</td><td>7.7783</td><td>0.135221</td><td>-3.75129</td><td>0.0805538</td><td>gaia2</td><td>1.08165</td><td>0.0828019</td><td>gaia2</td><td>81.6142116160082</td><td>-68.099130224848</td><td>354.505417591111</td><td>-8.52964586614187</td><td>10.659</td><td>0.049</td><td>9.016</td><td>0.011</td><td>14.5497</td><td>0.00615567</td><td>9.89942</td><td>0.000229307</td><td>8.43845</td><td>0.000158915</td><td>7.54204</td><td>0.000130639</td><td>7.52137</td><td>0.000408311</td><td>5.223</td><td>0.037</td><td>4.37</td><td>0.204</td><td>4.191</td><td>0.258</td><td>ECD-133-111-0dd-0-0</td><td>nan</td><td>3.835</td><td>0.415</td><td>3.684</td><td>0.227</td><td>3.807</td><td>0.014</td><td>3.656</td><td>0.024</td><td>7.90011</td><td>0.002919</td><td>6.8158</td><td>0.007</td><td>rered</td><td>gaia2</td><td>3556.0</td><td>122.0</td><td>nan</td><td>nan</td><td>nan</td><td>nan</td><td>84.6889</td><td>nan</td><td>nan</td><td>nan</td><td>nan</td><td>nan</td><td>GIANT</td><td>nan</td><td>nan</td><td>899.84</td><td>68.6055</td><td>0.0333717</td><td>0.005864325</td><td>--</td><td>nan</td><td>--</td><td>--</td><td>nan</td><td>0.00643412</td><td>0.00529453</td><td>panstarrs</td><td>nan</td><td>nan</td><td>nan</td><td>nan</td><td>nan</td><td>nan</td><td>nan</td><td>nan</td><td>nan</td><td>nan</td><td>63.535</td><td>73.676</td><td>bj2018</td><td>nan</td><td>nan</td><td>dered</td><td>9.26052</td><td>0.01356</td><td>6.76751</td><td>0.005212</td><td>1</td><td>--</td><td>tycho2v3</td><td>tycho2b3</td><td>--</td><td>2.10476414955868</td><td>1.24936658660068</td><td>358.377735836596</td><td>-10.0058483248383</td><td>0.0588592465560379</td><td>0.0442166526889995</td><td>0</td><td>0</td><td>1725892221</td></tr>\n",
       "<tr><td>9727019</td><td>20190415</td><td>117843</td><td>5831-01042-1</td><td>404-134234</td><td>23540297-0917237</td><td>--</td><td>J235403.01-091723.5</td><td>2435201449871055616</td><td>5031564</td><td>--</td><td>STAR</td><td>tmgaia2</td><td>358.512412891683</td><td>-9.28991423844699</td><td>tmgaia2</td><td>44.9683</td><td>0.0897735</td><td>-6.76205</td><td>0.0682085</td><td>gaia2</td><td>3.30397</td><td>0.0574013</td><td>gaia2</td><td>83.0150944242783</td><td>-67.5979180992323</td><td>354.918924811358</td><td>-7.9274070980193</td><td>8.765</td><td>0.017</td><td>7.20953</td><td>0.023</td><td>nan</td><td>nan</td><td>nan</td><td>nan</td><td>nan</td><td>nan</td><td>nan</td><td>nan</td><td>nan</td><td>nan</td><td>4.462</td><td>0.288</td><td>3.538</td><td>0.228</td><td>3.401</td><td>0.24</td><td>DDD-333-111-000-0-0</td><td>nan</td><td>2.147</td><td>nan</td><td>2.987</td><td>0.422</td><td>3.066</td><td>0.012</td><td>2.975</td><td>0.025</td><td>6.47965</td><td>0.00091436</td><td>5.5683</td><td>0.0066</td><td>rered</td><td>gaia2</td><td>3921.0</td><td>122.0</td><td>nan</td><td>nan</td><td>nan</td><td>nan</td><td>38.9958</td><td>nan</td><td>nan</td><td>nan</td><td>nan</td><td>nan</td><td>GIANT</td><td>nan</td><td>nan</td><td>300.148</td><td>5.212</td><td>0.0267519</td><td>0.005547295</td><td>--</td><td>nan</td><td>--</td><td>--</td><td>nan</td><td>0.00573243</td><td>0.00536216</td><td>panstarrs</td><td>nan</td><td>nan</td><td>nan</td><td>nan</td><td>nan</td><td>nan</td><td>nan</td><td>nan</td><td>nan</td><td>nan</td><td>5.123</td><td>5.301</td><td>bj2018</td><td>nan</td><td>nan</td><td>dered</td><td>7.47728</td><td>0.002307</td><td>5.52043</td><td>0.001892</td><td>1</td><td>--</td><td>sirful</td><td>tycho2b3</td><td>--</td><td>1.39665171540292</td><td>1.05811908021919</td><td>358.512609078354</td><td>-9.28994335288268</td><td>0.0401502430288213</td><td>0.0433245278779739</td><td>0</td><td>0</td><td>1725893591</td></tr>\n",
       "<tr><td>278634692</td><td>20190415</td><td>109908</td><td>7999-01569-1</td><td>244-185239</td><td>22153692-4120482</td><td>--</td><td>J221536.98-412047.7</td><td>6569894104123050752</td><td>--</td><td>--</td><td>STAR</td><td>tmgaia2</td><td>333.903889078471</td><td>-41.3467654877356</td><td>tmgaia2</td><td>30.7744</td><td>0.397469</td><td>42.6445</td><td>0.400276</td><td>gaia2</td><td>13.5115</td><td>0.284628</td><td>gaia2</td><td>358.651140853773</td><td>-55.1644446811141</td><td>319.998051852454</td><td>-28.3427632822903</td><td>5.596</td><td>0.019</td><td>4.79</td><td>0.03</td><td>nan</td><td>nan</td><td>nan</td><td>nan</td><td>nan</td><td>nan</td><td>nan</td><td>nan</td><td>nan</td><td>nan</td><td>3.425</td><td>0.234</td><td>2.914</td><td>0.202</td><td>2.891</td><td>0.24</td><td>DCD-333-111-000-0-0</td><td>nan</td><td>1.643</td><td>nan</td><td>1.37</td><td>nan</td><td>2.853</td><td>0.013</td><td>2.805</td><td>0.019</td><td>4.55889</td><td>0.00401826</td><td>4.0507</td><td>0.0073</td><td>gbprp</td><td>gaia2</td><td>5311.0</td><td>122.0</td><td>nan</td><td>nan</td><td>nan</td><td>nan</td><td>9.43739</td><td>nan</td><td>nan</td><td>nan</td><td>nan</td><td>nan</td><td>GIANT</td><td>nan</td><td>nan</td><td>73.9145</td><td>1.568</td><td>0.0</td><td>0.0</td><td>--</td><td>nan</td><td>--</td><td>--</td><td>nan</td><td>0.0</td><td>0.0</td><td>--</td><td>nan</td><td>nan</td><td>nan</td><td>nan</td><td>nan</td><td>nan</td><td>nan</td><td>nan</td><td>nan</td><td>nan</td><td>1.5353</td><td>1.6007</td><td>bj2018</td><td>nan</td><td>nan</td><td>dered0</td><td>5.01402</td><td>0.001352</td><td>4.03391</td><td>0.00284</td><td>1</td><td>--</td><td>hipvmag</td><td>tycho2b3</td><td>--</td><td>6.58763924311824</td><td>6.20789403247472</td><td>333.904065575667</td><td>-41.346581879605</td><td>0.194165659484865</td><td>0.211855651685932</td><td>0</td><td>0</td><td>1719417505</td></tr>\n",
       "<tr><td>389076668</td><td>20190415</td><td>109763</td><td>9117-01846-1</td><td>143-216977</td><td>22135750-6126555</td><td>--</td><td>J221357.55-612655.7</td><td>6406260557428387328</td><td>31763273</td><td>--</td><td>STAR</td><td>tmgaia2</td><td>333.489590394522</td><td>-61.4487395638157</td><td>tmgaia2</td><td>18.0901</td><td>0.0411889</td><td>-0.318719</td><td>0.0522628</td><td>gaia2</td><td>1.15051</td><td>0.0345483</td><td>gaia2</td><td>329.237265074245</td><td>-46.8333846462371</td><td>308.1162723687</td><td>-46.1409935761734</td><td>9.776</td><td>0.022</td><td>8.01</td><td>0.03</td><td>nan</td><td>nan</td><td>nan</td><td>nan</td><td>nan</td><td>nan</td><td>nan</td><td>nan</td><td>nan</td><td>nan</td><td>4.173</td><td>0.232</td><td>3.17</td><td>0.208</td><td>2.961</td><td>0.236</td><td>DCD-333-111-000-0-0</td><td>nan</td><td>2.414</td><td>nan</td><td>2.986</td><td>0.524</td><td>3.016</td><td>0.014</td><td>2.852</td><td>0.015</td><td>7.0552</td><td>0.002372</td><td>6.0074</td><td>0.0065</td><td>rered</td><td>gaia2</td><td>3631.0</td><td>122.0</td><td>nan</td><td>nan</td><td>nan</td><td>nan</td><td>109.454</td><td>nan</td><td>nan</td><td>nan</td><td>nan</td><td>nan</td><td>GIANT</td><td>nan</td><td>nan</td><td>848.436</td><td>25.0735</td><td>0.0302439</td><td>1.938425e-05</td><td>--</td><td>nan</td><td>--</td><td>--</td><td>nan</td><td>2.04081e-05</td><td>1.83604e-05</td><td>schlegel</td><td>nan</td><td>nan</td><td>nan</td><td>nan</td><td>nan</td><td>nan</td><td>nan</td><td>nan</td><td>nan</td><td>nan</td><td>24.346</td><td>25.801</td><td>bj2018</td><td>nan</td><td>nan</td><td>dered</td><td>8.33827</td><td>0.011239</td><td>5.96509</td><td>0.006184</td><td>1</td><td>--</td><td>hipvmag</td><td>tycho2b</td><td>--</td><td>0.742982834367869</td><td>0.810467687586279</td><td>333.489753358799</td><td>-61.4487409361754</td><td>0.0214450398518837</td><td>0.0252776429654837</td><td>0</td><td>0</td><td>1719460513</td></tr>\n",
       "</table>"
      ],
      "text/plain": [
       "<Table masked=True length=43055>\n",
       "    ID    version   HIP       TYC      ...     e_Dec_orig     raddflag wdflag   objID   \n",
       "  str11     str8   int64     str12     ...      float64        int64   int64    str10   \n",
       "--------- -------- ------ ------------ ... ------------------ -------- ------ ----------\n",
       "376084514 20190415   1131 4306-01424-1 ... 0.0347853785295864        0      0    3308491\n",
       "407119572 20190415   1756 4302-00744-1 ... 0.0194123129126684        0      0    5161946\n",
       "468349172 20190415   2332 0596-00064-1 ... 0.0412202514582685        0      0    7201550\n",
       "274986192 20190415   2968 4303-00957-1 ... 0.0380600228815968       -1      0    8856704\n",
       "468327444 20190415     -- 4501-01399-1 ... 0.0287253498172888        0      0   10039875\n",
       " 58824749 20190415   4025 0611-00266-1 ... 0.0366271852078952        1      0   11596892\n",
       "      ...      ...    ...          ... ...                ...      ...    ...        ...\n",
       "  9710084 20190415 117743 5831-00974-1 ...  0.041363526315064        0      0 1725891294\n",
       "  9710105 20190415 117756 5831-00395-1 ... 0.0764037311792451        0      0 1725891315\n",
       "  9725439 20190415 117789 5834-00787-1 ... 0.0580118360539689        0      0 1725892011\n",
       "  9725649 20190415     -- 5834-00002-1 ... 0.0442166526889995        0      0 1725892221\n",
       "  9727019 20190415 117843 5831-01042-1 ... 0.0433245278779739        0      0 1725893591\n",
       "278634692 20190415 109908 7999-01569-1 ...  0.211855651685932        0      0 1719417505\n",
       "389076668 20190415 109763 9117-01846-1 ... 0.0252776429654837        0      0 1719460513"
      ]
     },
     "execution_count": 80,
     "metadata": {},
     "output_type": "execute_result"
    }
   ],
   "source": [
    "catalog_data"
   ]
  },
  {
   "cell_type": "code",
   "execution_count": null,
   "id": "f1c52588-b2ec-488e-9475-8860f235b52e",
   "metadata": {},
   "outputs": [],
   "source": []
  }
 ],
 "metadata": {
  "kernelspec": {
   "display_name": "auto_exo",
   "language": "python",
   "name": "auto_exo"
  },
  "language_info": {
   "codemirror_mode": {
    "name": "ipython",
    "version": 3
   },
   "file_extension": ".py",
   "mimetype": "text/x-python",
   "name": "python",
   "nbconvert_exporter": "python",
   "pygments_lexer": "ipython3",
   "version": "3.8.11"
  }
 },
 "nbformat": 4,
 "nbformat_minor": 5
}
