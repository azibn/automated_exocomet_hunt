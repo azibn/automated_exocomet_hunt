{
 "cells": [
  {
   "cell_type": "code",
   "execution_count": 34,
   "id": "3d5a3afb-aa45-4132-86ca-ffba5d31e3ce",
   "metadata": {},
   "outputs": [],
   "source": [
    "from astroquery.mast import Observations\n",
    "from astropy.io import fits\n",
    "from astropy.table import Table\n",
    "import math"
   ]
  },
  {
   "cell_type": "code",
   "execution_count": 23,
   "id": "707f925a-e50e-4ad0-b883-e119edffa426",
   "metadata": {},
   "outputs": [],
   "source": [
    "tic = 270577175\n",
    "obsTable = Observations.query_criteria(provenance_name='TESS-SPOC',target_name=tic)\n",
    "data = Observations.get_product_list(obsTable)"
   ]
  },
  {
   "cell_type": "code",
   "execution_count": 24,
   "id": "679f164e-9705-499c-8222-06242f5369fc",
   "metadata": {},
   "outputs": [],
   "source": [
    "#download_lc = Observations.download_products(data)"
   ]
  },
  {
   "cell_type": "code",
   "execution_count": 25,
   "id": "04f85cac-ab61-4d56-8a64-7d398754e852",
   "metadata": {},
   "outputs": [
    {
     "name": "stdout",
     "output_type": "stream",
     "text": [
      "[Errno 2] No such file or directory: 'hlsp_tess-spoc_tess_phot_0000000270577175-s0006_tess_v1_tp/'\n",
      "/Users/azib/Documents/PhD/Exocomets/automated_exocomet_hunt/mastDownload/HLSP/hlsp_tess-spoc_tess_phot_0000000270577175-s0006_tess_v1_tp\n"
     ]
    }
   ],
   "source": [
    "cd hlsp_tess-spoc_tess_phot_0000000270577175-s0006_tess_v1_tp/\n"
   ]
  },
  {
   "cell_type": "code",
   "execution_count": 26,
   "id": "d97e6992-f68e-4711-bdbe-06617f3ee43e",
   "metadata": {},
   "outputs": [
    {
     "name": "stdout",
     "output_type": "stream",
     "text": [
      "hlsp_tess-spoc_tess_phot_0000000270577175-s0006_tess_v1_lc.fits\n",
      "hlsp_tess-spoc_tess_phot_0000000270577175-s0006_tess_v1_tp.fits\n"
     ]
    }
   ],
   "source": [
    "ls"
   ]
  },
  {
   "cell_type": "code",
   "execution_count": 56,
   "id": "51d68abb-96af-4aa9-a134-be4e8a29b9b6",
   "metadata": {},
   "outputs": [
    {
     "data": {
      "text/plain": [
       "FITS_rec([(1468.28332026, 0.00154374, 11559, 5440095. , 64.05369, 11814.139, 6.1606474,       nan,       nan, 8, nan, nan, nan, nan, 1661.22948378, 1.20871273e-05, 619.01059233, 5.3862706e-05,         nan,         nan),\n",
       "          (1468.3041536 , 0.00154376, 11560, 5441052.5, 64.05927, 11819.849, 6.1587396, 5507612. , 64.86285 , 0, nan, nan, nan, nan, 1661.22873677, 1.20848999e-05, 619.01157383, 5.3873198e-05,  0.01709123,  0.04153716),\n",
       "          (1468.32498695, 0.00154379, 11561, 5440696.5, 64.05729, 11821.125, 6.1617174, 5507246.5, 64.86083 , 0, nan, nan, nan, nan, 1661.22803465, 1.20856666e-05, 619.01201823, 5.3865642e-05,  0.01612137,  0.04193074),\n",
       "          ...,\n",
       "          (1489.99151787, 0.00141688, 12601, 5443009. , 64.06723, 11567.07 , 6.126722 , 5509699.5, 64.870895, 0, nan, nan, nan, nan, 1661.21266742, 1.21172870e-05, 618.93175386, 5.3750755e-05,  0.0006166 , -0.07778622),\n",
       "          (1490.01235089, 0.00141656, 12602, 5442564. , 64.0643 , 11550.364, 6.121054 , 5508939. , 64.86794 , 0, nan, nan, nan, nan, 1661.21281229, 1.21170015e-05, 618.93189245, 5.3755488e-05,  0.00073624, -0.0774702 ),\n",
       "          (1490.0331839 , 0.00141625, 12603, 5442009.5, 64.06111, 11562.166, 6.12142  , 5508479.5, 64.8647  , 0, nan, nan, nan, nan, 1661.2119017 , 1.21174899e-05, 618.93141587, 5.3749700e-05, -0.00024403, -0.07811572)],\n",
       "         dtype=(numpy.record, [('TIME', '>f8'), ('TIMECORR', '>f4'), ('CADENCENO', '>i4'), ('SAP_FLUX', '>f4'), ('SAP_FLUX_ERR', '>f4'), ('SAP_BKG', '>f4'), ('SAP_BKG_ERR', '>f4'), ('PDCSAP_FLUX', '>f4'), ('PDCSAP_FLUX_ERR', '>f4'), ('QUALITY', '>i4'), ('PSF_CENTR1', '>f8'), ('PSF_CENTR1_ERR', '>f4'), ('PSF_CENTR2', '>f8'), ('PSF_CENTR2_ERR', '>f4'), ('MOM_CENTR1', '>f8'), ('MOM_CENTR1_ERR', '>f4'), ('MOM_CENTR2', '>f8'), ('MOM_CENTR2_ERR', '>f4'), ('POS_CORR1', '>f4'), ('POS_CORR2', '>f4')]))"
      ]
     },
     "execution_count": 56,
     "metadata": {},
     "output_type": "execute_result"
    }
   ],
   "source": [
    "hdulist = fits.open('hlsp_tess-spoc_tess_phot_0000000270577175-s0006_tess_v1_lc.fits')\n",
    "hdulist[1].data"
   ]
  },
  {
   "cell_type": "code",
   "execution_count": 57,
   "id": "3c6b72cf-dcfa-485d-bdbb-95a8c7f63b3c",
   "metadata": {},
   "outputs": [],
   "source": [
    "def import_lightcurve(file_path, drop_bad_points=False,\n",
    "                      ok_flags=[5]):\n",
    "    \"\"\"Returns (N by 2) table, columns are (time, flux).\n",
    "\n",
    "    Flags deemed to be OK are:\n",
    "    5 - reaction wheel zero crossing, matters for short cadence\n",
    "    \"\"\"\n",
    "\n",
    "    try:\n",
    "        hdulist = fits.open(file_path)\n",
    "    except FileNotFoundError:\n",
    "        print(\"Import failed: file not found\")\n",
    "        return\n",
    "\n",
    "    scidata = hdulist[1].data\n",
    "    table = Table(scidata)['TIME','PDCSAP_FLUX','QUALITY']\n",
    "\n",
    "    if drop_bad_points:\n",
    "        bad_points = []\n",
    "        q_ind = get_quality_indices(table['QUALITY'])\n",
    "        for j,q in enumerate(q_ind):\n",
    "            if j+1 not in ok_flags:\n",
    "                bad_points += q.tolist()\n",
    "\n",
    "        # bad_points = [i for i in range(len(table)) if table[i][2]>0]\n",
    "        table.remove_rows(bad_points)\n",
    "\n",
    "    # Delete rows containing NaN values.\n",
    "    nan_rows = [ i for i in range(len(table)) if\n",
    "            math.isnan(table[i][1]) or math.isnan(table[i][0]) ]\n",
    "\n",
    "    table.remove_rows(nan_rows)\n",
    "\n",
    "    # Smooth data by deleting overly 'spikey' points.\n",
    "    spikes = [ i for i in range(1,len(table)-1) if \\\n",
    "            abs(table[i][1] - 0.5*(table[i-1][1]+table[i+1][1])) \\\n",
    "            > 3*abs(table[i+1][1] - table[i-1][1])]\n",
    "\n",
    "    for i in spikes:\n",
    "        table[i][1] = 0.5*(table[i-1][1] + table[i+1][1])\n",
    "\n",
    "    return table\n"
   ]
  },
  {
   "cell_type": "code",
   "execution_count": 58,
   "id": "1518636e-fe33-4158-a08f-0c395335552c",
   "metadata": {},
   "outputs": [
    {
     "data": {
      "text/plain": [
       "971"
      ]
     },
     "execution_count": 58,
     "metadata": {},
     "output_type": "execute_result"
    }
   ],
   "source": [
    "table = import_lightcurve('hlsp_tess-spoc_tess_phot_0000000270577175-s0006_tess_v1_lc.fits')\n",
    "len(table['TIME'])"
   ]
  },
  {
   "cell_type": "code",
   "execution_count": 61,
   "id": "ebe6b195-d79f-4799-a18b-3a4fd7310f40",
   "metadata": {},
   "outputs": [
    {
     "data": {
      "text/plain": [
       "[<matplotlib.lines.Line2D at 0x7f77c9de39d0>]"
      ]
     },
     "execution_count": 61,
     "metadata": {},
     "output_type": "execute_result"
    },
    {
     "data": {
      "image/png": "[encoded data removed]",
      "text/plain": [
       "<Figure size 432x288 with 1 Axes>"
      ]
     },
     "metadata": {
      "needs_background": "light"
     },
     "output_type": "display_data"
    }
   ],
   "source": [
    "import matplotlib.pyplot as plt\n",
    "plt.plot(table['TIME'],table['PDCSAP_FLUX'])"
   ]
  },
  {
   "cell_type": "code",
   "execution_count": null,
   "id": "20912359-3129-4ac0-b9aa-be1077aa5afc",
   "metadata": {},
   "outputs": [],
   "source": []
  }
 ],
 "metadata": {
  "kernelspec": {
   "display_name": "auto_exo",
   "language": "python",
   "name": "auto_exo"
  },
  "language_info": {
   "codemirror_mode": {
    "name": "ipython",
    "version": 3
   },
   "file_extension": ".py",
   "mimetype": "text/x-python",
   "name": "python",
   "nbconvert_exporter": "python",
   "pygments_lexer": "ipython3",
   "version": "3.8.11"
  }
 },
 "nbformat": 4,
 "nbformat_minor": 5
}
