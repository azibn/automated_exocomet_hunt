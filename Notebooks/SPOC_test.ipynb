{
 "cells": [
  {
   "cell_type": "code",
   "execution_count": 1,
   "metadata": {},
   "outputs": [],
   "source": [
    "import lightkurve as lk"
   ]
  },
  {
   "cell_type": "code",
   "execution_count": 31,
   "metadata": {},
   "outputs": [
    {
     "data": {
      "text/html": [
       "SearchResult containing 20 data products.\n",
       "\n",
       "<table id=\"table140581311142160\">\n",
       "<thead><tr><th>#</th><th>mission</th><th>year</th><th>author</th><th>exptime</th><th>target_name</th><th>distance</th></tr></thead>\n",
       "<thead><tr><th></th><th></th><th></th><th></th><th>s</th><th></th><th>arcsec</th></tr></thead>\n",
       "<tr><td>0</td><td>TESS Sector 04</td><td>2018</td><td><a href='https://heasarc.gsfc.nasa.gov/docs/tess/pipeline.html'>SPOC</a></td><td>120</td><td>270577175</td><td>0.0</td></tr>\n",
       "<tr><td>1</td><td>TESS Sector 04</td><td>2018</td><td><a href='https://archive.stsci.edu/hlsp/tess-spoc'>TESS-SPOC</a></td><td>1800</td><td>270577175</td><td>0.0</td></tr>\n",
       "<tr><td>2</td><td>TESS Sector 04</td><td>2018</td><td><a href='https://archive.stsci.edu/hlsp/qlp'>QLP</a></td><td>1800</td><td>270577175</td><td>0.0</td></tr>\n",
       "<tr><td>3</td><td>TESS Sector 05</td><td>2018</td><td><a href='https://heasarc.gsfc.nasa.gov/docs/tess/pipeline.html'>SPOC</a></td><td>120</td><td>270577175</td><td>0.0</td></tr>\n",
       "<tr><td>4</td><td>TESS Sector 05</td><td>2018</td><td><a href='https://archive.stsci.edu/hlsp/tess-spoc'>TESS-SPOC</a></td><td>1800</td><td>270577175</td><td>0.0</td></tr>\n",
       "<tr><td>5</td><td>TESS Sector 05</td><td>2018</td><td><a href='https://archive.stsci.edu/hlsp/qlp'>QLP</a></td><td>1800</td><td>270577175</td><td>0.0</td></tr>\n",
       "<tr><td>6</td><td>TESS Sector 06</td><td>2018</td><td><a href='https://heasarc.gsfc.nasa.gov/docs/tess/pipeline.html'>SPOC</a></td><td>120</td><td>270577175</td><td>0.0</td></tr>\n",
       "<tr><td>7</td><td>TESS Sector 06</td><td>2018</td><td><a href='https://archive.stsci.edu/hlsp/tess-spoc'>TESS-SPOC</a></td><td>1800</td><td>270577175</td><td>0.0</td></tr>\n",
       "<tr><td>8</td><td>TESS Sector 06</td><td>2018</td><td><a href='https://archive.stsci.edu/hlsp/qlp'>QLP</a></td><td>1800</td><td>270577175</td><td>0.0</td></tr>\n",
       "<tr><td>9</td><td>TESS Sector 07</td><td>2019</td><td><a href='https://heasarc.gsfc.nasa.gov/docs/tess/pipeline.html'>SPOC</a></td><td>120</td><td>270577175</td><td>0.0</td></tr>\n",
       "<tr><td>10</td><td>TESS Sector 07</td><td>2019</td><td><a href='https://archive.stsci.edu/hlsp/tess-spoc'>TESS-SPOC</a></td><td>1800</td><td>270577175</td><td>0.0</td></tr>\n",
       "<tr><td>11</td><td>TESS Sector 07</td><td>2019</td><td><a href='https://archive.stsci.edu/hlsp/qlp'>QLP</a></td><td>1800</td><td>270577175</td><td>0.0</td></tr>\n",
       "<tr><td>12</td><td>TESS Sector 32</td><td>2020</td><td><a href='https://heasarc.gsfc.nasa.gov/docs/tess/pipeline.html'>SPOC</a></td><td>120</td><td>270577175</td><td>0.0</td></tr>\n",
       "<tr><td>13</td><td>TESS Sector 32</td><td>2020</td><td><a href='https://archive.stsci.edu/hlsp/tess-spoc'>TESS-SPOC</a></td><td>600</td><td>270577175</td><td>0.0</td></tr>\n",
       "<tr><td>14</td><td>TESS Sector 32</td><td>2020</td><td><a href='https://archive.stsci.edu/hlsp/qlp'>QLP</a></td><td>600</td><td>270577175</td><td>0.0</td></tr>\n",
       "<tr><td>15</td><td>TESS Sector 33</td><td>2020</td><td><a href='https://heasarc.gsfc.nasa.gov/docs/tess/pipeline.html'>SPOC</a></td><td>120</td><td>270577175</td><td>0.0</td></tr>\n",
       "<tr><td>16</td><td>TESS Sector 33</td><td>2020</td><td><a href='https://archive.stsci.edu/hlsp/tess-spoc'>TESS-SPOC</a></td><td>600</td><td>270577175</td><td>0.0</td></tr>\n",
       "<tr><td>17</td><td>TESS Sector 33</td><td>2020</td><td><a href='https://archive.stsci.edu/hlsp/qlp'>QLP</a></td><td>600</td><td>270577175</td><td>0.0</td></tr>\n",
       "<tr><td>18</td><td>TESS Sector 34</td><td>2021</td><td><a href='https://heasarc.gsfc.nasa.gov/docs/tess/pipeline.html'>SPOC</a></td><td>120</td><td>270577175</td><td>0.0</td></tr>\n",
       "<tr><td>19</td><td>TESS Sector 34</td><td>2021</td><td><a href='https://archive.stsci.edu/hlsp/tess-spoc'>TESS-SPOC</a></td><td>600</td><td>270577175</td><td>0.0</td></tr>\n",
       "</table>"
      ],
      "text/plain": [
       "SearchResult containing 20 data products.\n",
       "\n",
       " #     mission     year   author  exptime target_name distance\n",
       "                                     s                 arcsec \n",
       "--- -------------- ---- --------- ------- ----------- --------\n",
       "  0 TESS Sector 04 2018      SPOC     120   270577175      0.0\n",
       "  1 TESS Sector 04 2018 TESS-SPOC    1800   270577175      0.0\n",
       "  2 TESS Sector 04 2018       QLP    1800   270577175      0.0\n",
       "  3 TESS Sector 05 2018      SPOC     120   270577175      0.0\n",
       "  4 TESS Sector 05 2018 TESS-SPOC    1800   270577175      0.0\n",
       "  5 TESS Sector 05 2018       QLP    1800   270577175      0.0\n",
       "  6 TESS Sector 06 2018      SPOC     120   270577175      0.0\n",
       "  7 TESS Sector 06 2018 TESS-SPOC    1800   270577175      0.0\n",
       "  8 TESS Sector 06 2018       QLP    1800   270577175      0.0\n",
       "  9 TESS Sector 07 2019      SPOC     120   270577175      0.0\n",
       " 10 TESS Sector 07 2019 TESS-SPOC    1800   270577175      0.0\n",
       " 11 TESS Sector 07 2019       QLP    1800   270577175      0.0\n",
       " 12 TESS Sector 32 2020      SPOC     120   270577175      0.0\n",
       " 13 TESS Sector 32 2020 TESS-SPOC     600   270577175      0.0\n",
       " 14 TESS Sector 32 2020       QLP     600   270577175      0.0\n",
       " 15 TESS Sector 33 2020      SPOC     120   270577175      0.0\n",
       " 16 TESS Sector 33 2020 TESS-SPOC     600   270577175      0.0\n",
       " 17 TESS Sector 33 2020       QLP     600   270577175      0.0\n",
       " 18 TESS Sector 34 2021      SPOC     120   270577175      0.0\n",
       " 19 TESS Sector 34 2021 TESS-SPOC     600   270577175      0.0"
      ]
     },
     "execution_count": 31,
     "metadata": {},
     "output_type": "execute_result"
    }
   ],
   "source": [
    "search = lk.search_lightcurve(\"Beta Pictoris\", mission=\"TESS\")\n",
    "search"
   ]
  },
  {
   "cell_type": "code",
   "execution_count": 32,
   "metadata": {},
   "outputs": [],
   "source": [
    "from astropy.table import Table, hstack"
   ]
  },
  {
   "cell_type": "code",
   "execution_count": 33,
   "metadata": {},
   "outputs": [],
   "source": [
    "tlc = search[6].download()"
   ]
  },
  {
   "cell_type": "code",
   "execution_count": 34,
   "metadata": {},
   "outputs": [
    {
     "data": {
      "text/plain": [
       "<TableColumns names=('time','flux','flux_err','timecorr','cadenceno','centroid_col','centroid_row','sap_flux','sap_flux_err','sap_bkg','sap_bkg_err','pdcsap_flux','pdcsap_flux_err','quality','psf_centr1','psf_centr1_err','psf_centr2','psf_centr2_err','mom_centr1','mom_centr1_err','mom_centr2','mom_centr2_err','pos_corr1','pos_corr2')>"
      ]
     },
     "execution_count": 34,
     "metadata": {},
     "output_type": "execute_result"
    }
   ],
   "source": [
    "tlc.columns"
   ]
  },
  {
   "cell_type": "code",
   "execution_count": 47,
   "metadata": {},
   "outputs": [
    {
     "data": {
      "text/html": [
       "<div><i>QTable length=14691</i>\n",
       "<table id=\"table140581531414032\" class=\"table-striped table-bordered table-condensed\">\n",
       "<thead><tr><th>time</th><th>flux</th><th>quality</th></tr></thead>\n",
       "<thead><tr><th></th><th>electron / s</th><th></th></tr></thead>\n",
       "<thead><tr><th>object</th><th>float32</th><th>int32</th></tr></thead>\n",
       "<tr><td>1468.273598025441</td><td>5.5032510e+06</td><td>0</td></tr>\n",
       "<tr><td>1468.2749869153856</td><td>5.5023390e+06</td><td>0</td></tr>\n",
       "<tr><td>1468.276375805329</td><td>5.5035595e+06</td><td>0</td></tr>\n",
       "<tr><td>1468.2777646952732</td><td>5.5049100e+06</td><td>0</td></tr>\n",
       "<tr><td>1468.2791535852177</td><td>5.5062295e+06</td><td>0</td></tr>\n",
       "<tr><td>1468.2805424751618</td><td>5.5089420e+06</td><td>0</td></tr>\n",
       "<tr><td>1468.281931365106</td><td>5.5126150e+06</td><td>0</td></tr>\n",
       "<tr><td>1468.2833202550498</td><td>5.5148900e+06</td><td>0</td></tr>\n",
       "<tr><td>1468.284709144994</td><td>5.5164005e+06</td><td>0</td></tr>\n",
       "<tr><td>1468.286098034938</td><td>5.5148750e+06</td><td>0</td></tr>\n",
       "<tr><td>1468.2874869248822</td><td>5.5128240e+06</td><td>0</td></tr>\n",
       "<tr><td>1468.2888758148263</td><td>5.5095025e+06</td><td>0</td></tr>\n",
       "<tr><td>1468.2902647047702</td><td>5.5061235e+06</td><td>0</td></tr>\n",
       "<tr><td>1468.2916535945985</td><td>5.5030780e+06</td><td>0</td></tr>\n",
       "<tr><td>1468.2930424845424</td><td>5.5021130e+06</td><td>0</td></tr>\n",
       "<tr><td>...</td><td>...</td><td>...</td></tr>\n",
       "<tr><td>1490.0262395632524</td><td>5.5019520e+06</td><td>0</td></tr>\n",
       "<tr><td>1490.0276284307436</td><td>5.5033660e+06</td><td>0</td></tr>\n",
       "<tr><td>1490.0290172982352</td><td>5.5047590e+06</td><td>0</td></tr>\n",
       "<tr><td>1490.0304061657264</td><td>5.5084680e+06</td><td>0</td></tr>\n",
       "<tr><td>1490.0317950332173</td><td>5.5126225e+06</td><td>0</td></tr>\n",
       "<tr><td>1490.0331839007092</td><td>5.5164385e+06</td><td>0</td></tr>\n",
       "<tr><td>1490.0345727682002</td><td>5.5193065e+06</td><td>0</td></tr>\n",
       "<tr><td>1490.0359616355747</td><td>5.5187220e+06</td><td>0</td></tr>\n",
       "<tr><td>1490.0373505030664</td><td>5.5175160e+06</td><td>0</td></tr>\n",
       "<tr><td>1490.0387393705576</td><td>5.5152370e+06</td><td>0</td></tr>\n",
       "<tr><td>1490.0401282380487</td><td>5.5123400e+06</td><td>0</td></tr>\n",
       "<tr><td>1490.041517105424</td><td>5.5082835e+06</td><td>0</td></tr>\n",
       "<tr><td>1490.0429059729152</td><td>5.5068090e+06</td><td>0</td></tr>\n",
       "<tr><td>1490.0442948402897</td><td>5.5055535e+06</td><td>0</td></tr>\n",
       "<tr><td>1490.0456837077816</td><td>5.5051865e+06</td><td>0</td></tr>\n",
       "</table></div>"
      ],
      "text/plain": [
       "<QTable length=14691>\n",
       "       time             flux          quality     \n",
       "                    electron / s                  \n",
       "      object          float32          int32      \n",
       "------------------ -------------- ----------------\n",
       " 1468.273598025441  5.5032510e+06                0\n",
       "1468.2749869153856  5.5023390e+06                0\n",
       " 1468.276375805329  5.5035595e+06                0\n",
       "1468.2777646952732  5.5049100e+06                0\n",
       "1468.2791535852177  5.5062295e+06                0\n",
       "1468.2805424751618  5.5089420e+06                0\n",
       " 1468.281931365106  5.5126150e+06                0\n",
       "1468.2833202550498  5.5148900e+06                0\n",
       " 1468.284709144994  5.5164005e+06                0\n",
       " 1468.286098034938  5.5148750e+06                0\n",
       "1468.2874869248822  5.5128240e+06                0\n",
       "1468.2888758148263  5.5095025e+06                0\n",
       "1468.2902647047702  5.5061235e+06                0\n",
       "1468.2916535945985  5.5030780e+06                0\n",
       "1468.2930424845424  5.5021130e+06                0\n",
       "               ...            ...              ...\n",
       "1490.0262395632524  5.5019520e+06                0\n",
       "1490.0276284307436  5.5033660e+06                0\n",
       "1490.0290172982352  5.5047590e+06                0\n",
       "1490.0304061657264  5.5084680e+06                0\n",
       "1490.0317950332173  5.5126225e+06                0\n",
       "1490.0331839007092  5.5164385e+06                0\n",
       "1490.0345727682002  5.5193065e+06                0\n",
       "1490.0359616355747  5.5187220e+06                0\n",
       "1490.0373505030664  5.5175160e+06                0\n",
       "1490.0387393705576  5.5152370e+06                0\n",
       "1490.0401282380487  5.5123400e+06                0\n",
       " 1490.041517105424  5.5082835e+06                0\n",
       "1490.0429059729152  5.5068090e+06                0\n",
       "1490.0442948402897  5.5055535e+06                0\n",
       "1490.0456837077816  5.5051865e+06                0"
      ]
     },
     "execution_count": 47,
     "metadata": {},
     "output_type": "execute_result"
    }
   ],
   "source": [
    "table = hstack([tlc.time,tlc.flux,tlc.quality])\n",
    "table"
   ]
  },
  {
   "cell_type": "markdown",
   "metadata": {
    "tags": []
   },
   "source": [
    "### Automated Search"
   ]
  },
  {
   "cell_type": "code",
   "execution_count": 11,
   "metadata": {},
   "outputs": [
    {
     "name": "stdout",
     "output_type": "stream",
     "text": [
      "/Users/azib/Documents/PhD/Exocomets/automated_exocomet_hunt\n"
     ]
    }
   ],
   "source": [
    "cd .."
   ]
  },
  {
   "cell_type": "code",
   "execution_count": 42,
   "metadata": {},
   "outputs": [],
   "source": [
    "from analysis_tools_cython import *"
   ]
  },
  {
   "cell_type": "code",
   "execution_count": 43,
   "metadata": {},
   "outputs": [
    {
     "ename": "TypeError",
     "evalue": "type Quantity doesn't define __round__ method",
     "output_type": "error",
     "traceback": [
      "\u001b[0;31m---------------------------------------------------------------------------\u001b[0m",
      "\u001b[0;31mTypeError\u001b[0m                                 Traceback (most recent call last)",
      "\u001b[0;32m/var/folders/bv/h7ss9cs93lq15v21yc62bk600000gn/T/ipykernel_42859/3022486130.py\u001b[0m in \u001b[0;36m<module>\u001b[0;34m\u001b[0m\n\u001b[1;32m      4\u001b[0m \u001b[0;34m\u001b[0m\u001b[0m\n\u001b[1;32m      5\u001b[0m \u001b[0;34m\u001b[0m\u001b[0m\n\u001b[0;32m----> 6\u001b[0;31m \u001b[0mt\u001b[0m\u001b[0;34m,\u001b[0m \u001b[0mflux\u001b[0m\u001b[0;34m,\u001b[0m \u001b[0mquality\u001b[0m\u001b[0;34m,\u001b[0m \u001b[0mreal\u001b[0m \u001b[0;34m=\u001b[0m \u001b[0mclean_data\u001b[0m\u001b[0;34m(\u001b[0m\u001b[0mtable\u001b[0m\u001b[0;34m)\u001b[0m\u001b[0;34m\u001b[0m\u001b[0;34m\u001b[0m\u001b[0m\n\u001b[0m\u001b[1;32m      7\u001b[0m \u001b[0mN\u001b[0m \u001b[0;34m=\u001b[0m \u001b[0mlen\u001b[0m\u001b[0;34m(\u001b[0m\u001b[0mt\u001b[0m\u001b[0;34m)\u001b[0m\u001b[0;34m\u001b[0m\u001b[0;34m\u001b[0m\u001b[0m\n\u001b[1;32m      8\u001b[0m \u001b[0mones\u001b[0m \u001b[0;34m=\u001b[0m \u001b[0mnp\u001b[0m\u001b[0;34m.\u001b[0m\u001b[0mones\u001b[0m\u001b[0;34m(\u001b[0m\u001b[0mN\u001b[0m\u001b[0;34m)\u001b[0m\u001b[0;34m\u001b[0m\u001b[0;34m\u001b[0m\u001b[0m\n",
      "\u001b[0;32m~/Documents/PhD/Exocomets/automated_exocomet_hunt/analysis_tools_cython.pyx\u001b[0m in \u001b[0;36manalysis_tools_cython.clean_data\u001b[0;34m()\u001b[0m\n\u001b[1;32m    177\u001b[0m \u001b[0;34m\u001b[0m\u001b[0m\n\u001b[1;32m    178\u001b[0m         \u001b[0;32mif\u001b[0m \u001b[0mlen\u001b[0m\u001b[0;34m(\u001b[0m\u001b[0mtime\u001b[0m\u001b[0;34m)\u001b[0m \u001b[0;34m>\u001b[0m \u001b[0;36m0\u001b[0m\u001b[0;34m:\u001b[0m\u001b[0;34m\u001b[0m\u001b[0;34m\u001b[0m\u001b[0m\n\u001b[0;32m--> 179\u001b[0;31m             \u001b[0msteps\u001b[0m \u001b[0;34m=\u001b[0m \u001b[0mint\u001b[0m\u001b[0;34m(\u001b[0m\u001b[0mround\u001b[0m\u001b[0;34m(\u001b[0m \u001b[0;34m(\u001b[0m\u001b[0mti\u001b[0m \u001b[0;34m-\u001b[0m \u001b[0mtime\u001b[0m\u001b[0;34m[\u001b[0m\u001b[0;34m-\u001b[0m\u001b[0;36m1\u001b[0m\u001b[0;34m]\u001b[0m\u001b[0;34m)\u001b[0m\u001b[0;34m/\u001b[0m\u001b[0mtimestep\u001b[0m \u001b[0;34m)\u001b[0m\u001b[0;34m)\u001b[0m\u001b[0;34m\u001b[0m\u001b[0;34m\u001b[0m\u001b[0m\n\u001b[0m\u001b[1;32m    180\u001b[0m \u001b[0;34m\u001b[0m\u001b[0m\n\u001b[1;32m    181\u001b[0m             \u001b[0;32mif\u001b[0m \u001b[0msteps\u001b[0m \u001b[0;34m>\u001b[0m \u001b[0;36m1\u001b[0m\u001b[0;34m:\u001b[0m\u001b[0;34m\u001b[0m\u001b[0;34m\u001b[0m\u001b[0m\n",
      "\u001b[0;31mTypeError\u001b[0m: type Quantity doesn't define __round__ method"
     ]
    }
   ],
   "source": [
    "timestep = calculate_timestep(table)\n",
    "\"\"\"\"The default assumption is a 30-minute cadence.\"\"\"\n",
    "factor = ((1/48)/timestep)\n",
    " \n",
    "\n",
    "t, flux, quality, real = clean_data(table)\n",
    "N = len(t)\n",
    "ones = np.ones(N)\n",
    "\n",
    "flux = normalise_flux(flux)\n",
    "\n",
    "# filteredflux = fourier_filter(flux, 8) # returns smooth lc\n",
    "A_mag = np.abs(np.fft.rfft(flux))\n",
    "# periodicnoise = flux - filteredflux\n",
    "\n",
    "\n",
    "sigma = flux.std()\n",
    "\n",
    "flux_ls = np.copy(flux)\n",
    "lombscargle_filter(t, flux_ls, real, 0.05)  # happens in-place. 0.05 is minimum score\n",
    "periodicnoise_ls = flux - flux_ls\n",
    "flux_ls = flux_ls * real\n",
    "\n",
    "# T1 = test_statistic_array(filteredflux, 60)\n",
    "T = test_statistic_array(flux_ls, 60 * factor)\n",
    "data = nonzero(T)\n",
    "\n",
    "# Find minimum test statistic value, and its location.\n",
    "m, n = np.unravel_index(T.argmin(), T.shape)\n",
    "minT = T[m, n]\n",
    "minT_time = t[n]\n",
    "minT_duration = m * timestep\n",
    "print(\"Timestep: \", round(timestep,2))\n",
    "print(\"Maximum transit chance:\")\n",
    "print(\"   Time =\", round(minT_time, 2), \"days.\")\n",
    "print(\"   Duration =\", round(minT_duration, 2), \"days.\")\n",
    "print(\"   T =\", round(minT, 1))\n",
    "print(\"   T/sigma =\", round(minT / data.std(), 1))\n",
    "\n",
    "trans_start = n - math.floor((m - 1) / 2)\n",
    "trans_end = trans_start + m\n",
    "print(\"Transit depth =\", round(flux[trans_start:trans_end].mean(), 6))\n",
    "\n",
    "# Transit shape calculation\n",
    "if n - 3 * m >= 0 and n + 3 * m < N:\n",
    "    t2 = t[n - 3 * m : n + 3 * m]\n",
    "    x2 = flux_ls[n - 3 * m : n + 3 * m]\n",
    "    q2 = quality[n - 3 * m : n + 3 * m]\n",
    "    background = (sum(x2[: 1 * m]) + sum(x2[5 * m :])) / (2 * m)\n",
    "    x2 -= background\n",
    "    paramsgauss = single_gaussian_curve_fit(t2, -x2)\n",
    "    y2 = -gauss(t2, *paramsgauss)\n",
    "    paramscomet = comet_curve_fit(t2, -x2)\n",
    "    w2 = -comet_curve(t2, *paramscomet)\n",
    "\n",
    "    scores = [score_fit(x2, fit) for fit in [y2, w2]]\n",
    "    print(scores)\n",
    "    print(\"Asym score:\", round(scores[0] / scores[1], 4))\n",
    "\n",
    "    qual_flags = reduce(lambda a, b: a or b, q2)\n",
    "    print(\"Quality flags:\", qual_flags)\n",
    "\n",
    "# Classify events\n",
    "asym, _, _ = calc_shape(m, n, t, flux)\n",
    "print(classify(m, n, real, asym))\n",
    "\n",
    "# Skip plotting if no graphical output set\n",
    "if args.n:\n",
    "    sys.exit()\n",
    "\n",
    "# plt.xkcd()\n",
    "fig1, axarr = plt.subplots(4)\n",
    "axarr[0].plot(A_mag)  # fourier plot\n",
    "axarr[0].title.set_text(\"Fourier plot\")\n",
    "axarr[1].plot(t, flux + ones, t, periodicnoise_ls + ones)  #\n",
    "axarr[2].plot(t, flux_ls + ones)  # lomb-scargle plot\n",
    "axarr[2].title.set_text(\"Lomb-Scargle plot\")\n",
    "cax = axarr[3].imshow(T)\n",
    "axarr[3].set_aspect(\"auto\")\n",
    "fig1.colorbar(cax)\n",
    "\n",
    "# params = double_gaussian_curve_fit(T)\n",
    "fig2 = plt.figure()\n",
    "ax2 = fig2.add_subplot(111)\n",
    "# T_test_nonzero = np.array(data)\n",
    "# _,bins,_ = ax2.hist(T_test_nonzero,bins=100,log=True)\n",
    "# y = np.maximum(bimodal(bins,*params),10)\n",
    "# ax2.plot(bins,y)\n",
    "try:\n",
    "    ax2.plot(t2, x2, t2, y2, t2, w2)\n",
    "except:\n",
    "    pass\n",
    "\n",
    "plt.show()"
   ]
  },
  {
   "cell_type": "code",
   "execution_count": null,
   "metadata": {},
   "outputs": [],
   "source": []
  }
 ],
 "metadata": {
  "kernelspec": {
   "display_name": "Python 3 (ipykernel)",
   "language": "python",
   "name": "python3"
  },
  "language_info": {
   "codemirror_mode": {
    "name": "ipython",
    "version": 3
   },
   "file_extension": ".py",
   "mimetype": "text/x-python",
   "name": "python",
   "nbconvert_exporter": "python",
   "pygments_lexer": "ipython3",
   "version": "3.7.12"
  }
 },
 "nbformat": 4,
 "nbformat_minor": 4
}
