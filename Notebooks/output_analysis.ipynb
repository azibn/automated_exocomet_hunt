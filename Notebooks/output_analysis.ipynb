{
 "cells": [
  {
   "cell_type": "code",
   "execution_count": 1,
   "metadata": {},
   "outputs": [
    {
     "name": "stdout",
     "output_type": "stream",
     "text": [
      "/home/astro/phrdhx/automated_exocomet_hunt\n"
     ]
    }
   ],
   "source": [
    "cd .."
   ]
  },
  {
   "cell_type": "code",
   "execution_count": 3,
   "metadata": {},
   "outputs": [],
   "source": [
    "with open('output.txt') as f:\n",
    "    lines = f.readlines()"
   ]
  },
  {
   "cell_type": "code",
   "execution_count": 4,
   "metadata": {},
   "outputs": [],
   "source": [
    "#def filters(data,signal_noise,asym_score,transit_prob):\n",
    "    "
   ]
  },
  {
   "cell_type": "code",
   "execution_count": 6,
   "metadata": {},
   "outputs": [],
   "source": [
    "lc_lists = [word for line in lines for word in line.split()]\n",
    "lc_lists = [lc_lists[i:i+10] for i in range(0, len(lc_lists), 10)]"
   ]
  },
  {
   "cell_type": "code",
   "execution_count": 7,
   "metadata": {},
   "outputs": [],
   "source": [
    "import pandas as pd"
   ]
  },
  {
   "cell_type": "code",
   "execution_count": 8,
   "metadata": {},
   "outputs": [],
   "source": [
    "cols = ['fits_file','signal','signal/noise','time','asym_score','width1','width2','duration','depth','transit_prob']\n",
    "df = pd.DataFrame(data=lc_lists,columns=cols)\n",
    "df[cols[1:-1]] = df[cols[1:-1]].astype('float32')"
   ]
  },
  {
   "cell_type": "code",
   "execution_count": 9,
   "metadata": {},
   "outputs": [
    {
     "data": {
      "text/plain": [
       "array(['maybeTransit', 'end', 'artefact', 'point'], dtype=object)"
      ]
     },
     "execution_count": 9,
     "metadata": {},
     "output_type": "execute_result"
    }
   ],
   "source": [
    "df['transit_prob'].unique()"
   ]
  },
  {
   "cell_type": "code",
   "execution_count": 10,
   "metadata": {},
   "outputs": [],
   "source": [
    "filtered_df = df[(df['signal/noise'] <= -5.0) & (df['asym_score'] >= 1.0) & (df['transit_prob'] == 'maybeTransit')]"
   ]
  },
  {
   "cell_type": "code",
   "execution_count": 11,
   "metadata": {},
   "outputs": [
    {
     "data": {
      "text/html": [
       "<div>\n",
       "<style scoped>\n",
       "    .dataframe tbody tr th:only-of-type {\n",
       "        vertical-align: middle;\n",
       "    }\n",
       "\n",
       "    .dataframe tbody tr th {\n",
       "        vertical-align: top;\n",
       "    }\n",
       "\n",
       "    .dataframe thead th {\n",
       "        text-align: right;\n",
       "    }\n",
       "</style>\n",
       "<table border=\"1\" class=\"dataframe\">\n",
       "  <thead>\n",
       "    <tr style=\"text-align: right;\">\n",
       "      <th></th>\n",
       "      <th>fits_file</th>\n",
       "      <th>signal</th>\n",
       "      <th>signal/noise</th>\n",
       "      <th>time</th>\n",
       "      <th>asym_score</th>\n",
       "      <th>width1</th>\n",
       "      <th>width2</th>\n",
       "      <th>duration</th>\n",
       "      <th>depth</th>\n",
       "      <th>transit_prob</th>\n",
       "    </tr>\n",
       "  </thead>\n",
       "  <tbody>\n",
       "    <tr>\n",
       "      <th>136</th>\n",
       "      <td>hlsp_tess-spoc_tess_phot_0000000052752703-s000...</td>\n",
       "      <td>-5.594328</td>\n",
       "      <td>-5.198797</td>\n",
       "      <td>1469.805786</td>\n",
       "      <td>1.025391</td>\n",
       "      <td>0.125228</td>\n",
       "      <td>7.237590e-03</td>\n",
       "      <td>0.270837</td>\n",
       "      <td>-0.000540</td>\n",
       "      <td>maybeTransit</td>\n",
       "    </tr>\n",
       "    <tr>\n",
       "      <th>480</th>\n",
       "      <td>hlsp_tess-spoc_tess_phot_0000000037793925-s000...</td>\n",
       "      <td>-6.812760</td>\n",
       "      <td>-5.541304</td>\n",
       "      <td>1476.889648</td>\n",
       "      <td>1.076527</td>\n",
       "      <td>0.096393</td>\n",
       "      <td>2.109154e-02</td>\n",
       "      <td>0.125000</td>\n",
       "      <td>-0.002125</td>\n",
       "      <td>maybeTransit</td>\n",
       "    </tr>\n",
       "    <tr>\n",
       "      <th>548</th>\n",
       "      <td>hlsp_tess-spoc_tess_phot_0000000011401568-s000...</td>\n",
       "      <td>-8.976393</td>\n",
       "      <td>-5.892786</td>\n",
       "      <td>1476.536865</td>\n",
       "      <td>1.000789</td>\n",
       "      <td>0.198790</td>\n",
       "      <td>4.978564e-02</td>\n",
       "      <td>0.520825</td>\n",
       "      <td>-0.000476</td>\n",
       "      <td>maybeTransit</td>\n",
       "    </tr>\n",
       "    <tr>\n",
       "      <th>551</th>\n",
       "      <td>hlsp_tess-spoc_tess_phot_0000000011407252-s000...</td>\n",
       "      <td>-10.342960</td>\n",
       "      <td>-7.227973</td>\n",
       "      <td>1474.099243</td>\n",
       "      <td>1.146985</td>\n",
       "      <td>0.067226</td>\n",
       "      <td>2.270660e-03</td>\n",
       "      <td>0.145831</td>\n",
       "      <td>-0.005590</td>\n",
       "      <td>maybeTransit</td>\n",
       "    </tr>\n",
       "    <tr>\n",
       "      <th>573</th>\n",
       "      <td>hlsp_tess-spoc_tess_phot_0000000011403522-s000...</td>\n",
       "      <td>-5.720953</td>\n",
       "      <td>-5.207456</td>\n",
       "      <td>1481.203491</td>\n",
       "      <td>1.004609</td>\n",
       "      <td>0.353149</td>\n",
       "      <td>1.000000e-08</td>\n",
       "      <td>0.395827</td>\n",
       "      <td>-0.001257</td>\n",
       "      <td>maybeTransit</td>\n",
       "    </tr>\n",
       "  </tbody>\n",
       "</table>\n",
       "</div>"
      ],
      "text/plain": [
       "                                             fits_file     signal  \\\n",
       "136  hlsp_tess-spoc_tess_phot_0000000052752703-s000...  -5.594328   \n",
       "480  hlsp_tess-spoc_tess_phot_0000000037793925-s000...  -6.812760   \n",
       "548  hlsp_tess-spoc_tess_phot_0000000011401568-s000...  -8.976393   \n",
       "551  hlsp_tess-spoc_tess_phot_0000000011407252-s000... -10.342960   \n",
       "573  hlsp_tess-spoc_tess_phot_0000000011403522-s000...  -5.720953   \n",
       "\n",
       "     signal/noise         time  asym_score    width1        width2  duration  \\\n",
       "136     -5.198797  1469.805786    1.025391  0.125228  7.237590e-03  0.270837   \n",
       "480     -5.541304  1476.889648    1.076527  0.096393  2.109154e-02  0.125000   \n",
       "548     -5.892786  1476.536865    1.000789  0.198790  4.978564e-02  0.520825   \n",
       "551     -7.227973  1474.099243    1.146985  0.067226  2.270660e-03  0.145831   \n",
       "573     -5.207456  1481.203491    1.004609  0.353149  1.000000e-08  0.395827   \n",
       "\n",
       "        depth  transit_prob  \n",
       "136 -0.000540  maybeTransit  \n",
       "480 -0.002125  maybeTransit  \n",
       "548 -0.000476  maybeTransit  \n",
       "551 -0.005590  maybeTransit  \n",
       "573 -0.001257  maybeTransit  "
      ]
     },
     "execution_count": 11,
     "metadata": {},
     "output_type": "execute_result"
    }
   ],
   "source": [
    "filtered_df.head()"
   ]
  },
  {
   "cell_type": "code",
   "execution_count": 12,
   "metadata": {},
   "outputs": [
    {
     "data": {
      "text/plain": [
       "136       hlsp_tess-spoc_tess_phot_0000000052752703-s000...\n",
       "480       hlsp_tess-spoc_tess_phot_0000000037793925-s000...\n",
       "548       hlsp_tess-spoc_tess_phot_0000000011401568-s000...\n",
       "551       hlsp_tess-spoc_tess_phot_0000000011407252-s000...\n",
       "573       hlsp_tess-spoc_tess_phot_0000000011403522-s000...\n",
       "                                ...                        \n",
       "159863    hlsp_tess-spoc_tess_phot_0000000260370094-s000...\n",
       "159906    hlsp_tess-spoc_tess_phot_0000000247746326-s000...\n",
       "159908    hlsp_tess-spoc_tess_phot_0000000247740884-s000...\n",
       "159917    hlsp_tess-spoc_tess_phot_0000000247741354-s000...\n",
       "159976    hlsp_tess-spoc_tess_phot_0000000269274282-s000...\n",
       "Name: fits_file, Length: 2565, dtype: object"
      ]
     },
     "execution_count": 12,
     "metadata": {},
     "output_type": "execute_result"
    }
   ],
   "source": [
    "filtered_df['fits_file']"
   ]
  },
  {
   "cell_type": "code",
   "execution_count": 13,
   "metadata": {},
   "outputs": [
    {
     "data": {
      "text/plain": [
       "2565"
      ]
     },
     "execution_count": 13,
     "metadata": {},
     "output_type": "execute_result"
    }
   ],
   "source": [
    "len(filtered_df['fits_file'])"
   ]
  },
  {
   "cell_type": "code",
   "execution_count": 14,
   "metadata": {},
   "outputs": [
    {
     "data": {
      "text/plain": [
       "'hlsp_tess-spoc_tess_phot_0000000052752703-s0006_tess_v1_lc.fits'"
      ]
     },
     "execution_count": 14,
     "metadata": {},
     "output_type": "execute_result"
    }
   ],
   "source": [
    "filtered_df['fits_file'].iloc[0]"
   ]
  },
  {
   "cell_type": "markdown",
   "metadata": {},
   "source": [
    "---"
   ]
  },
  {
   "cell_type": "code",
   "execution_count": 15,
   "metadata": {},
   "outputs": [],
   "source": [
    "from matplotlib import pyplot as plt"
   ]
  },
  {
   "cell_type": "code",
   "execution_count": 18,
   "metadata": {},
   "outputs": [
    {
     "data": {
      "text/plain": [
       "Text(0, 0.5, 'signal/noise')"
      ]
     },
     "execution_count": 18,
     "metadata": {},
     "output_type": "execute_result"
    },
    {
     "data": {
      "image/png": "[encoded data removed]",
      "text/plain": [
       "<Figure size 432x288 with 1 Axes>"
      ]
     },
     "metadata": {
      "needs_background": "light"
     },
     "output_type": "display_data"
    }
   ],
   "source": [
    "plt.scatter(df['asym_score'],abs(df['signal/noise']),s=3)\n",
    "plt.xlabel('asymmetry score')\n",
    "plt.ylabel('signal/noise')\n"
   ]
  },
  {
   "cell_type": "code",
   "execution_count": null,
   "metadata": {},
   "outputs": [],
   "source": []
  }
 ],
 "metadata": {
  "kernelspec": {
   "display_name": "Python 3",
   "language": "python",
   "name": "python3"
  },
  "language_info": {
   "codemirror_mode": {
    "name": "ipython",
    "version": 3
   },
   "file_extension": ".py",
   "mimetype": "text/x-python",
   "name": "python",
   "nbconvert_exporter": "python",
   "pygments_lexer": "ipython3",
   "version": "3.7.12"
  }
 },
 "nbformat": 4,
 "nbformat_minor": 4
}
