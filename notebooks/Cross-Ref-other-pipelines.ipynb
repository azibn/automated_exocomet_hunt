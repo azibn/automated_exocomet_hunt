{
 "cells": [
  {
   "cell_type": "markdown",
   "id": "96416b18-45b7-4989-b0ee-08e2f84cbe23",
   "metadata": {},
   "source": [
    "# Cross-referencing with other TESS pipelines"
   ]
  },
  {
   "cell_type": "code",
   "execution_count": 1,
   "id": "52ef0306-ee08-4f06-9029-eaaf8eae1d05",
   "metadata": {},
   "outputs": [],
   "source": [
    "import lightkurve as lk\n",
    "import pandas as pd\n",
    "import matplotlib.pyplot as plt\n",
    "import os\n",
    "os.chdir('../scripts')\n",
    "from analysis_tools_cython import *"
   ]
  },
  {
   "cell_type": "code",
   "execution_count": 2,
   "id": "0871f12f-e364-4632-9a32-c06683583b3a",
   "metadata": {},
   "outputs": [],
   "source": [
    " data = pd.read_csv('../candidates/candidates-full.csv')#'candidates-full-df.csv')# "
   ]
  },
  {
   "cell_type": "code",
   "execution_count": 3,
   "id": "99fe703f-7230-4557-a90e-410ff14de0dc",
   "metadata": {},
   "outputs": [],
   "source": [
    "data = data[data['class'] == 'yellow']"
   ]
  },
  {
   "cell_type": "code",
   "execution_count": 4,
   "id": "d65a4f8a-48c9-4eb5-82bd-0ff92eb4a45a",
   "metadata": {},
   "outputs": [],
   "source": [
    "tic_ids = data.TIC_ID.values\n",
    "sector = data.Sector.values"
   ]
  },
  {
   "cell_type": "code",
   "execution_count": 5,
   "id": "ad3574cf-efef-4c3a-af22-bd0716992d85",
   "metadata": {},
   "outputs": [],
   "source": [
    "from astroquery.mast import Observations"
   ]
  },
  {
   "cell_type": "code",
   "execution_count": 6,
   "id": "bfa1a0af-0837-499c-8baa-0ee07c3ded91",
   "metadata": {},
   "outputs": [
    {
     "data": {
      "text/html": [
       "<div><i>Table masked=True length=4</i>\n",
       "<table id=\"table140261223956304\" class=\"table-striped table-bordered table-condensed\">\n",
       "<thead><tr><th>intentType</th><th>obs_collection</th><th>provenance_name</th><th>instrument_name</th><th>project</th><th>filters</th><th>wavelength_region</th><th>target_name</th><th>target_classification</th><th>obs_id</th><th>s_ra</th><th>s_dec</th><th>dataproduct_type</th><th>proposal_pi</th><th>calib_level</th><th>t_min</th><th>t_max</th><th>t_exptime</th><th>em_min</th><th>em_max</th><th>obs_title</th><th>t_obs_release</th><th>proposal_id</th><th>proposal_type</th><th>sequence_number</th><th>s_region</th><th>jpegURL</th><th>dataURL</th><th>dataRights</th><th>mtFlag</th><th>srcDen</th><th>obsid</th><th>objID</th></tr></thead>\n",
       "<thead><tr><th>str7</th><th>str4</th><th>str9</th><th>str10</th><th>str4</th><th>str4</th><th>str7</th><th>str9</th><th>str1</th><th>str58</th><th>float64</th><th>float64</th><th>str10</th><th>str19</th><th>int64</th><th>float64</th><th>float64</th><th>float64</th><th>float64</th><th>float64</th><th>str1</th><th>float64</th><th>str3</th><th>str1</th><th>int64</th><th>str48</th><th>str1</th><th>str116</th><th>str6</th><th>bool</th><th>float64</th><th>str8</th><th>str9</th></tr></thead>\n",
       "<tr><td>science</td><td>HLSP</td><td>TESS-SPOC</td><td>Photometer</td><td>TESS</td><td>TESS</td><td>Optical</td><td>237332137</td><td>--</td><td>hlsp_tess-spoc_tess_phot_0000000237332137-s0028_tess_v1_tp</td><td>346.680079879418</td><td>-62.7551940252484</td><td>timeseries</td><td>Douglas A. Caldwell</td><td>4</td><td>59061.35730781</td><td>59086.6001763</td><td>600.0</td><td>600.0</td><td>1000.0</td><td>--</td><td>59235.34013895</td><td>N/A</td><td>--</td><td>28</td><td>CIRCLE ICRS 346.68007988 -62.75519403 0.00111111</td><td>--</td><td>mast:HLSP/tess-spoc/s0028/target/0000/0002/3733/2137/hlsp_tess-spoc_tess_phot_0000000237332137-s0028_tess_v1_lc.fits</td><td>PUBLIC</td><td>False</td><td>nan</td><td>53757835</td><td>97699437</td></tr>\n",
       "<tr><td>science</td><td>HLSP</td><td>QLP</td><td>Photometer</td><td>TESS</td><td>TESS</td><td>Optical</td><td>237332137</td><td>--</td><td>hlsp_qlp_tess_ffi_s0001-0000000237332137_tess_v01_llc</td><td>346.680035</td><td>-62.755203</td><td>timeseries</td><td>Chelsea X. Huang</td><td>4</td><td>58324.82715051</td><td>58352.66042013</td><td>1800.0</td><td>600.0</td><td>1000.0</td><td>--</td><td>59260.77603004</td><td>N/A</td><td>--</td><td>1</td><td>CIRCLE ICRS 346.68003500 -62.75520300 0.00111111</td><td>--</td><td>mast:HLSP/qlp/s0001/0000/0002/3733/2137/hlsp_qlp_tess_ffi_s0001-0000000237332137_tess_v01_llc.fits</td><td>PUBLIC</td><td>False</td><td>nan</td><td>59439431</td><td>103381033</td></tr>\n",
       "<tr><td>science</td><td>HLSP</td><td>TESS-SPOC</td><td>Photometer</td><td>TESS</td><td>TESS</td><td>Optical</td><td>237332137</td><td>--</td><td>hlsp_tess-spoc_tess_phot_0000000237332137-s0001_tess_v1_tp</td><td>346.680079879418</td><td>-62.7551940252484</td><td>timeseries</td><td>Douglas A. Caldwell</td><td>4</td><td>58324.81591078704</td><td>58352.6700147338</td><td>1800.0</td><td>600.0</td><td>1000.0</td><td>--</td><td>59309.55839107</td><td>N/A</td><td>--</td><td>1</td><td>CIRCLE ICRS 346.68007988 -62.75519403 0.00111111</td><td>--</td><td>mast:HLSP/tess-spoc/s0001/target/0000/0002/3733/2137/hlsp_tess-spoc_tess_phot_0000000237332137-s0001_tess_v1_lc.fits</td><td>PUBLIC</td><td>False</td><td>nan</td><td>59792019</td><td>105594472</td></tr>\n",
       "<tr><td>science</td><td>HLSP</td><td>QLP</td><td>--</td><td>TESS</td><td>TESS</td><td>Optical</td><td>237332137</td><td>--</td><td>hlsp_qlp_tess_ffi_s0028-0000000237332137_tess_v01_llc</td><td>346.680079879</td><td>-62.7551940252</td><td>timeseries</td><td>Chelsea X. Huang</td><td>4</td><td>59061.35465908796</td><td>59086.5975279063</td><td>600.0</td><td>600.0</td><td>1000.0</td><td>--</td><td>59562.63230319</td><td>N/A</td><td>--</td><td>28</td><td>CIRCLE ICRS 346.68007988 -62.75519403 0.00111111</td><td>--</td><td>mast:HLSP/qlp/s0028/0000/0002/3733/2137/hlsp_qlp_tess_ffi_s0028-0000000237332137_tess_v01_llc.fits</td><td>PUBLIC</td><td>False</td><td>nan</td><td>64529718</td><td>130955681</td></tr>\n",
       "</table></div>"
      ],
      "text/plain": [
       "<Table masked=True length=4>\n",
       "intentType obs_collection provenance_name ...  srcDen  obsid     objID  \n",
       "   str7         str4            str9      ... float64   str8      str9  \n",
       "---------- -------------- --------------- ... ------- -------- ---------\n",
       "   science           HLSP       TESS-SPOC ...     nan 53757835  97699437\n",
       "   science           HLSP             QLP ...     nan 59439431 103381033\n",
       "   science           HLSP       TESS-SPOC ...     nan 59792019 105594472\n",
       "   science           HLSP             QLP ...     nan 64529718 130955681"
      ]
     },
     "execution_count": 6,
     "metadata": {},
     "output_type": "execute_result"
    }
   ],
   "source": [
    "Observations.query_criteria(provenance_name=('TESS-SPOC','SPOC', 'QLP'), target_name=tic_ids[0])"
   ]
  },
  {
   "cell_type": "code",
   "execution_count": 7,
   "id": "ce7b0459-a91f-41e2-9c96-cd133f782a9c",
   "metadata": {
    "tags": []
   },
   "outputs": [
    {
     "name": "stderr",
     "output_type": "stream",
     "text": [
      "No data found for target \"TIC 267182949\".\n",
      "No data found for target \"TIC 231120230\".\n",
      "No data found for target \"TIC 149123523\".\n",
      "No data found for target \"TIC 149123523\".\n",
      "No data found for target \"TIC 141977836\".\n",
      "No data found for target \"TIC 161637954\".\n",
      "No data found for target \"TIC 218987322\".\n",
      "No data found for target \"TIC 438288209\".\n",
      "No data found for target \"TIC 235550039\".\n",
      "No data found for target \"TIC 412771733\".\n",
      "No data found for target \"TIC 154990233\".\n",
      "No data found for target \"TIC 445648545\".\n",
      "No data found for target \"TIC 150424732\".\n",
      "No data found for target \"TIC 149131533\".\n",
      "No data found for target \"TIC 143840623\".\n",
      "No data found for target \"TIC 170889135\".\n",
      "No data found for target \"TIC 190211621\".\n",
      "No data found for target \"TIC 268435886\".\n",
      "No data found for target \"TIC 11421374\".\n",
      "No data found for target \"TIC 141479023\".\n",
      "No data found for target \"TIC 145329534\".\n",
      "No data found for target \"TIC 130956206\".\n",
      "No data found for target \"TIC 186972920\".\n",
      "No data found for target \"TIC 177287939\".\n",
      "No data found for target \"TIC 177287939\".\n",
      "No data found for target \"TIC 238952677\".\n",
      "No data found for target \"TIC 395429761\".\n",
      "No data found for target \"TIC 270623184\".\n",
      "No data found for target \"TIC 151390701\".\n",
      "No data found for target \"TIC 291804267\".\n",
      "No data found for target \"TIC 151394446\".\n",
      "No data found for target \"TIC 150722534\".\n",
      "No data found for target \"TIC 151390746\".\n",
      "No data found for target \"TIC 162750674\".\n",
      "No data found for target \"TIC 163132759\".\n",
      "No data found for target \"TIC 163131809\".\n",
      "No data found for target \"TIC 253553836\".\n",
      "No data found for target \"TIC 310804650\".\n",
      "No data found for target \"TIC 219261605\".\n",
      "No data found for target \"TIC 294343592\".\n",
      "No data found for target \"TIC 200172902\".\n",
      "No data found for target \"TIC 396845306\".\n",
      "No data found for target \"TIC 121604819\".\n",
      "No data found for target \"TIC 142399169\".\n",
      "No data found for target \"TIC 233723153\".\n",
      "No data found for target \"TIC 233545473\".\n",
      "No data found for target \"TIC 197581795\".\n",
      "No data found for target \"TIC 434079369\".\n",
      "No data found for target \"TIC 200797845\".\n",
      "No data found for target \"TIC 201181290\".\n",
      "No data found for target \"TIC 192792305\".\n",
      "No data found for target \"TIC 258921452\".\n",
      "No data found for target \"TIC 143816977\".\n",
      "No data found for target \"TIC 265683147\".\n",
      "No data found for target \"TIC 230023255\".\n",
      "No data found for target \"TIC 258872664\".\n",
      "No data found for target \"TIC 468665630\".\n",
      "No data found for target \"TIC 258873387\".\n",
      "No data found for target \"TIC 229940234\".\n",
      "No data found for target \"TIC 286617549\".\n",
      "No data found for target \"TIC 224289866\".\n",
      "No data found for target \"TIC 207464487\".\n",
      "No data found for target \"TIC 285131137\".\n",
      "No data found for target \"TIC 362964463\".\n",
      "No data found for target \"TIC 207431265\".\n",
      "No data found for target \"TIC 279005609\".\n",
      "No data found for target \"TIC 159295366\".\n",
      "No data found for target \"TIC 404000706\".\n",
      "No data found for target \"TIC 427641526\".\n",
      "No data found for target \"TIC 157625335\".\n"
     ]
    }
   ],
   "source": [
    "lightcurves_dict = {}\n",
    "lightcurves_spoc = {}\n",
    "\n",
    "for tic_id, current_sector in zip(tic_ids, sector):\n",
    "    try:\n",
    "        search_result = lk.search_lightcurve(f\"TIC {tic_id}\", mission=\"TESS\", sector=current_sector, author='QLP')\n",
    "     \n",
    "        # Assuming you want to download the first light curve file\n",
    "        lc = search_result.download()\n",
    "        # Store the light curve in the dictionary with TIC ID as the key\n",
    "        lightcurves_dict[tic_id] = lc\n",
    "       \n",
    "    except Exception as e:\n",
    "        print(f'Error processing TIC {tic_id} in Sector {current_sector}: {str(e)}')\n",
    "    try:\n",
    "        spoc_result = lk.search_lightcurve(f\"TIC {tic_id}\", mission=\"TESS\", sector=current_sector, author='TESS-SPOC')\n",
    "        spoc_lc = spoc_result.download()\n",
    "        lightcurves_spoc[tic_id] = spoc_lc\n",
    "    except Exception as e:\n",
    "        print(f'Error processing TIC {tic_id} in Sector {current_sector}: {str(e)}')"
   ]
  },
  {
   "cell_type": "code",
   "execution_count": 8,
   "id": "910e187c-44c3-4e94-823b-7dcd5c4b4781",
   "metadata": {
    "tags": []
   },
   "outputs": [],
   "source": [
    "import os\n",
    "os.chdir('../scripts')\n",
    "from analysis_tools_cython import *"
   ]
  },
  {
   "cell_type": "code",
   "execution_count": 10,
   "id": "c53f52d3-74a3-427a-a12d-773566c8e010",
   "metadata": {},
   "outputs": [
    {
     "name": "stdout",
     "output_type": "stream",
     "text": [
      "Error processing TIC 406277263: 'NoneType' object is not subscriptable\n",
      "Error processing TIC 382572476: 'NoneType' object is not subscriptable\n",
      "Error processing TIC 382187660: 'NoneType' object is not subscriptable\n",
      "Error processing TIC 389660859: 'NoneType' object is not subscriptable\n",
      "Error processing TIC 238815146: 'NoneType' object is not subscriptable\n",
      "Error processing TIC 469912242: 'NoneType' object is not subscriptable\n",
      "Error processing TIC 350843855: 'TIME'\n",
      "Error processing TIC 100993805: 'NoneType' object is not subscriptable\n",
      "Error processing TIC 55525572: 'TIME'\n",
      "Error processing TIC 391814833: 'NoneType' object is not subscriptable\n",
      "Error processing TIC 37485564: 'NoneType' object is not subscriptable\n",
      "Error processing TIC 373914067: 'NoneType' object has no attribute 'time'\n",
      "Error processing TIC 49314975: 'NoneType' object is not subscriptable\n",
      "Error processing TIC 131422529: 'NoneType' object is not subscriptable\n",
      "Error processing TIC 146626827: 'NoneType' object is not subscriptable\n",
      "Error processing TIC 80551703: 'NoneType' object is not subscriptable\n",
      "Error processing TIC 55298866: 'NoneType' object is not subscriptable\n",
      "Error processing TIC 143152957: 'NoneType' object is not subscriptable\n",
      "Error processing TIC 373913825: 'NoneType' object has no attribute 'time'\n",
      "Error processing TIC 340004858: 'NoneType' object is not subscriptable\n",
      "Error processing TIC 110969638: 'NoneType' object is not subscriptable\n",
      "Error processing TIC 64953602: 'NoneType' object is not subscriptable\n",
      "Error processing TIC 350843056: 'NoneType' object is not subscriptable\n",
      "Error processing TIC 419365265: 'NoneType' object is not subscriptable\n",
      "Error processing TIC 145276049: 'NoneType' object is not subscriptable\n",
      "Error processing TIC 110610421: 'NoneType' object is not subscriptable\n",
      "Error processing TIC 134743129: 'NoneType' object is not subscriptable\n",
      "Error processing TIC 355773606: 'NoneType' object is not subscriptable\n",
      "Error processing TIC 186056754: 'NoneType' object is not subscriptable\n",
      "Error processing TIC 383186717: 'NoneType' object is not subscriptable\n",
      "Error processing TIC 114485654: 'NoneType' object is not subscriptable\n",
      "Error processing TIC 255592513: 'NoneType' object is not subscriptable\n",
      "Error processing TIC 130792292: 'NoneType' object is not subscriptable\n",
      "Error processing TIC 349766841: 'NoneType' object is not subscriptable\n",
      "Error processing TIC 341851380: 'NoneType' object is not subscriptable\n",
      "Error processing TIC 154085887: 'NoneType' object is not subscriptable\n",
      "Error processing TIC 60786134: 'NoneType' object is not subscriptable\n",
      "Error processing TIC 51258267: 'NoneType' object is not subscriptable\n",
      "Error processing TIC 147453162: 'NoneType' object is not subscriptable\n",
      "Error processing TIC 380524790: 'NoneType' object is not subscriptable\n",
      "Error processing TIC 430663414: 'NoneType' object is not subscriptable\n",
      "Error processing TIC 447937029: 'NoneType' object is not subscriptable\n",
      "Error processing TIC 137422498: 'NoneType' object is not subscriptable\n",
      "Error processing TIC 78583769: 'NoneType' object is not subscriptable\n",
      "Error processing TIC 385846821: 'NoneType' object is not subscriptable\n",
      "Error processing TIC 119918912: 'NoneType' object is not subscriptable\n",
      "Error processing TIC 146754513: 'NoneType' object is not subscriptable\n",
      "Error processing TIC 463403441: 'NoneType' object is not subscriptable\n",
      "Error processing TIC 45968174: 'NoneType' object is not subscriptable\n",
      "Error processing TIC 462025224: 'NoneType' object is not subscriptable\n",
      "Error processing TIC 70822370: 'NoneType' object is not subscriptable\n",
      "Error processing TIC 324994660: 'NoneType' object is not subscriptable\n",
      "Error processing TIC 465217594: 'NoneType' object is not subscriptable\n",
      "Error processing TIC 324284463: 'NoneType' object is not subscriptable\n",
      "Error processing TIC 465217608: 'NoneType' object is not subscriptable\n",
      "Error processing TIC 466631808: 'NoneType' object is not subscriptable\n",
      "Error processing TIC 468099453: 'NoneType' object is not subscriptable\n",
      "Error processing TIC 458857264: 'NoneType' object is not subscriptable\n",
      "Error processing TIC 370495920: 'NoneType' object is not subscriptable\n",
      "Error processing TIC 464977570: 'NoneType' object is not subscriptable\n",
      "Error processing TIC 443470267: 'NoneType' object is not subscriptable\n",
      "Error processing TIC 210809448: 'NoneType' object is not subscriptable\n",
      "Error processing TIC 331181266: 'NoneType' object is not subscriptable\n",
      "Error processing TIC 467316746: 'NoneType' object is not subscriptable\n",
      "Error processing TIC 121311369: 'NoneType' object is not subscriptable\n",
      "Error processing TIC 406327621: 'NoneType' object is not subscriptable\n",
      "Error processing TIC 238952677: 'NoneType' object is not subscriptable\n",
      "Error processing TIC 256008565: 'NoneType' object is not subscriptable\n",
      "Error processing TIC 400479765: 'NoneType' object is not subscriptable\n",
      "Error processing TIC 329538924: 'NoneType' object is not subscriptable\n",
      "Error processing TIC 382672899: 'NoneType' object is not subscriptable\n",
      "Error processing TIC 304687284: 'NoneType' object is not subscriptable\n",
      "Error processing TIC 312314132: 'NoneType' object is not subscriptable\n",
      "Error processing TIC 323427650: 'NoneType' object is not subscriptable\n",
      "Error processing TIC 1249849486: 'NoneType' object is not subscriptable\n",
      "Error processing TIC 46165046: 'NoneType' object is not subscriptable\n",
      "Error processing TIC 151388324: 'NoneType' object is not subscriptable\n",
      "Error processing TIC 349196570: 'NoneType' object is not subscriptable\n",
      "Error processing TIC 44204680: 'NoneType' object is not subscriptable\n",
      "Error processing TIC 382042593: 'NoneType' object is not subscriptable\n",
      "Error processing TIC 351627364: 'NoneType' object is not subscriptable\n",
      "Error processing TIC 17061633: 'NoneType' object is not subscriptable\n",
      "Error processing TIC 44615937: 'NoneType' object is not subscriptable\n",
      "Error processing TIC 339670197: 'NoneType' object is not subscriptable\n",
      "Error processing TIC 73149665: 'NoneType' object is not subscriptable\n",
      "Error processing TIC 46274964: 'NoneType' object is not subscriptable\n",
      "Error processing TIC 45487909: 'NoneType' object is not subscriptable\n",
      "Error processing TIC 349304357: 'NoneType' object is not subscriptable\n",
      "Error processing TIC 43284456: 'NoneType' object is not subscriptable\n",
      "Error processing TIC 351627251: 'NoneType' object is not subscriptable\n",
      "Error processing TIC 47032443: 'NoneType' object is not subscriptable\n",
      "Error processing TIC 38486019: 'NoneType' object is not subscriptable\n",
      "Error processing TIC 150731600: 'NoneType' object is not subscriptable\n",
      "Error processing TIC 58481307: 'NoneType' object is not subscriptable\n",
      "Error processing TIC 423586149: 'NoneType' object is not subscriptable\n",
      "Error processing TIC 258491112: 'NoneType' object is not subscriptable\n",
      "Error processing TIC 41895270: 'NoneType' object is not subscriptable\n",
      "Error processing TIC 150941110: 'NoneType' object is not subscriptable\n",
      "Error processing TIC 225065556: 'NoneType' object is not subscriptable\n"
     ]
    },
    {
     "ename": "KeyboardInterrupt",
     "evalue": "",
     "output_type": "error",
     "traceback": [
      "\u001b[0;31m---------------------------------------------------------------------------\u001b[0m",
      "\u001b[0;31mKeyError\u001b[0m                                  Traceback (most recent call last)",
      "\u001b[0;32m~/.local/lib/python3.7/site-packages/astropy/table/row.py\u001b[0m in \u001b[0;36m__getitem__\u001b[0;34m(self, item)\u001b[0m\n\u001b[1;32m     50\u001b[0m             \u001b[0;31m# and allows a list of tuple or str, which is not the right thing here.\u001b[0m\u001b[0;34m\u001b[0m\u001b[0;34m\u001b[0m\u001b[0;34m\u001b[0m\u001b[0m\n\u001b[0;32m---> 51\u001b[0;31m             \u001b[0mout\u001b[0m \u001b[0;34m=\u001b[0m \u001b[0mOrderedDict\u001b[0m\u001b[0;34m.\u001b[0m\u001b[0m__getitem__\u001b[0m\u001b[0;34m(\u001b[0m\u001b[0mself\u001b[0m\u001b[0;34m.\u001b[0m\u001b[0m_table\u001b[0m\u001b[0;34m.\u001b[0m\u001b[0mcolumns\u001b[0m\u001b[0;34m,\u001b[0m \u001b[0mitem\u001b[0m\u001b[0;34m)\u001b[0m\u001b[0;34m[\u001b[0m\u001b[0mself\u001b[0m\u001b[0;34m.\u001b[0m\u001b[0m_index\u001b[0m\u001b[0;34m]\u001b[0m\u001b[0;34m\u001b[0m\u001b[0;34m\u001b[0m\u001b[0m\n\u001b[0m\u001b[1;32m     52\u001b[0m         \u001b[0;32mexcept\u001b[0m \u001b[0;34m(\u001b[0m\u001b[0mKeyError\u001b[0m\u001b[0;34m,\u001b[0m \u001b[0mTypeError\u001b[0m\u001b[0;34m)\u001b[0m\u001b[0;34m:\u001b[0m\u001b[0;34m\u001b[0m\u001b[0;34m\u001b[0m\u001b[0m\n",
      "\u001b[0;31mKeyError\u001b[0m: 1",
      "\nDuring handling of the above exception, another exception occurred:\n",
      "\u001b[0;31mKeyboardInterrupt\u001b[0m                         Traceback (most recent call last)",
      "\u001b[0;32m<ipython-input-10-3f2245a0d3e1>\u001b[0m in \u001b[0;36m<module>\u001b[0;34m\u001b[0m\n\u001b[1;32m      5\u001b[0m         \u001b[0mlightcurve\u001b[0m \u001b[0;34m=\u001b[0m \u001b[0mlightcurves_dict\u001b[0m\u001b[0;34m[\u001b[0m\u001b[0mtic_id\u001b[0m\u001b[0;34m]\u001b[0m\u001b[0;34m\u001b[0m\u001b[0;34m\u001b[0m\u001b[0m\n\u001b[1;32m      6\u001b[0m         \u001b[0mspoc_lc\u001b[0m \u001b[0;34m=\u001b[0m \u001b[0mlightcurves_spoc\u001b[0m\u001b[0;34m[\u001b[0m\u001b[0mtic_id\u001b[0m\u001b[0;34m]\u001b[0m\u001b[0;34m\u001b[0m\u001b[0;34m\u001b[0m\u001b[0m\n\u001b[0;32m----> 7\u001b[0;31m         \u001b[0mlc\u001b[0m\u001b[0;34m,\u001b[0m \u001b[0minfo\u001b[0m \u001b[0;34m=\u001b[0m \u001b[0mimport_lightcurve\u001b[0m\u001b[0;34m(\u001b[0m\u001b[0;34m(\u001b[0m\u001b[0mdata\u001b[0m\u001b[0;34m[\u001b[0m\u001b[0;34m(\u001b[0m\u001b[0mdata\u001b[0m\u001b[0;34m.\u001b[0m\u001b[0mTIC_ID\u001b[0m \u001b[0;34m==\u001b[0m \u001b[0mtic_id\u001b[0m\u001b[0;34m)\u001b[0m \u001b[0;34m&\u001b[0m \u001b[0;34m(\u001b[0m\u001b[0mdata\u001b[0m\u001b[0;34m.\u001b[0m\u001b[0mSector\u001b[0m \u001b[0;34m==\u001b[0m \u001b[0msector\u001b[0m\u001b[0;34m)\u001b[0m\u001b[0;34m]\u001b[0m\u001b[0;34m.\u001b[0m\u001b[0mabs_path\u001b[0m\u001b[0;34m.\u001b[0m\u001b[0mvalues\u001b[0m\u001b[0;34m[\u001b[0m\u001b[0;36m0\u001b[0m\u001b[0;34m]\u001b[0m\u001b[0;34m)\u001b[0m\u001b[0;34m)\u001b[0m\u001b[0;34m\u001b[0m\u001b[0;34m\u001b[0m\u001b[0m\n\u001b[0m\u001b[1;32m      8\u001b[0m \u001b[0;34m\u001b[0m\u001b[0m\n\u001b[1;32m      9\u001b[0m         \u001b[0max\u001b[0m\u001b[0;34m[\u001b[0m\u001b[0;36m0\u001b[0m\u001b[0;34m]\u001b[0m\u001b[0;34m.\u001b[0m\u001b[0mscatter\u001b[0m\u001b[0;34m(\u001b[0m\u001b[0mlightcurve\u001b[0m\u001b[0;34m.\u001b[0m\u001b[0mtime\u001b[0m\u001b[0;34m.\u001b[0m\u001b[0mvalue\u001b[0m\u001b[0;34m,\u001b[0m \u001b[0mlightcurve\u001b[0m\u001b[0;34m.\u001b[0m\u001b[0mflux\u001b[0m\u001b[0;34m.\u001b[0m\u001b[0mdata\u001b[0m \u001b[0;34m/\u001b[0m \u001b[0mnp\u001b[0m\u001b[0;34m.\u001b[0m\u001b[0mmedian\u001b[0m\u001b[0;34m(\u001b[0m\u001b[0mlightcurve\u001b[0m\u001b[0;34m.\u001b[0m\u001b[0msap_flux\u001b[0m\u001b[0;34m.\u001b[0m\u001b[0mdata\u001b[0m\u001b[0;34m)\u001b[0m\u001b[0;34m,\u001b[0m \u001b[0ms\u001b[0m\u001b[0;34m=\u001b[0m\u001b[0;36m5\u001b[0m\u001b[0;34m)\u001b[0m\u001b[0;34m\u001b[0m\u001b[0;34m\u001b[0m\u001b[0m\n",
      "\u001b[0;32mscripts/analysis_tools_cython.pyx\u001b[0m in \u001b[0;36mscripts.analysis_tools_cython.import_lightcurve\u001b[0;34m()\u001b[0m\n",
      "\u001b[0;32m~/.local/lib/python3.7/site-packages/astropy/table/row.py\u001b[0m in \u001b[0;36m__getitem__\u001b[0;34m(self, item)\u001b[0m\n\u001b[1;32m     56\u001b[0m             \u001b[0;32melse\u001b[0m\u001b[0;34m:\u001b[0m\u001b[0;34m\u001b[0m\u001b[0;34m\u001b[0m\u001b[0m\n\u001b[1;32m     57\u001b[0m                 \u001b[0;31m# This is only to raise an exception\u001b[0m\u001b[0;34m\u001b[0m\u001b[0;34m\u001b[0m\u001b[0;34m\u001b[0m\u001b[0m\n\u001b[0;32m---> 58\u001b[0;31m                 \u001b[0mout\u001b[0m \u001b[0;34m=\u001b[0m \u001b[0mself\u001b[0m\u001b[0;34m.\u001b[0m\u001b[0m_table\u001b[0m\u001b[0;34m.\u001b[0m\u001b[0mcolumns\u001b[0m\u001b[0;34m[\u001b[0m\u001b[0mitem\u001b[0m\u001b[0;34m]\u001b[0m\u001b[0;34m[\u001b[0m\u001b[0mself\u001b[0m\u001b[0;34m.\u001b[0m\u001b[0m_index\u001b[0m\u001b[0;34m]\u001b[0m\u001b[0;34m\u001b[0m\u001b[0;34m\u001b[0m\u001b[0m\n\u001b[0m\u001b[1;32m     59\u001b[0m         \u001b[0;32mreturn\u001b[0m \u001b[0mout\u001b[0m\u001b[0;34m\u001b[0m\u001b[0;34m\u001b[0m\u001b[0m\n\u001b[1;32m     60\u001b[0m \u001b[0;34m\u001b[0m\u001b[0m\n",
      "\u001b[0;31mKeyboardInterrupt\u001b[0m: "
     ]
    },
    {
     "data": {
      "image/png": "[encoded data removed]",
      "text/plain": [
       "<Figure size 1440x360 with 3 Axes>"
      ]
     },
     "metadata": {
      "needs_background": "light"
     },
     "output_type": "display_data"
    }
   ],
   "source": [
    "fig, ax = plt.subplots(1, 3, figsize=(20, 5))\n",
    "\n",
    "for tic_id, current_sector in zip(tic_ids, sector):\n",
    "    try:\n",
    "        lightcurve = lightcurves_dict[tic_id]\n",
    "        spoc_lc = lightcurves_spoc[tic_id]\n",
    "        lc, info = import_lightcurve((data[(data.TIC_ID == tic_id) & (data.Sector == sector)].abs_path.values[0]))\n",
    "\n",
    "        ax[0].scatter(lightcurve.time.value, lightcurve.flux.data / np.median(lightcurve.sap_flux.data), s=5)\n",
    "        ax[0].set_xlabel('Time')\n",
    "        ax[0].set_ylabel('Normalized Flux')\n",
    "        ax[0].set_title('QLP')\n",
    "        ax[0].axvline(data[data.TIC_ID == tic_id].time.values[0], linewidth=3, color='red', linestyle='--')\n",
    "\n",
    "        ax[1].scatter(spoc_lc['TIME'], spoc_lc['PDCSAP_FLUX'] / np.median(spoc_lc['PCA_FLUX']), s=5)\n",
    "        ax[1].set_xlabel('Time')\n",
    "        ax[1].set_title('TESS-SPOC')\n",
    "        ax[1].axvline(data[data.TIC_ID == tic_id].time.values[0], linewidth=3, color='red', linestyle='--')\n",
    "\n",
    "        ax[2].scatter(lc['TIME'], lc['PCA_FLUX'] / np.median(lc['PCA_FLUX']), s=5)\n",
    "        ax[2].set_xlabel('Time')\n",
    "        ax[2].set_title('eleanor-lite')\n",
    "        ax[2].axvline(data[data.TIC_ID == tic_id].time.values[0], linewidth=3, color='red', linestyle='--')\n",
    "\n",
    "        for axis in ax:\n",
    "            axis.set_ylim(0.99, 1.01)\n",
    "\n",
    "        fig.suptitle(f\"TIC {tic_id}\")\n",
    "        plt.show()\n",
    "\n",
    "        _, _ = processing(lc, lc_info=info, method='median', make_plots=True)\n",
    "    except Exception as e:\n",
    "        print(f\"Error processing TIC {tic_id}: {e}\")\n"
   ]
  },
  {
   "cell_type": "code",
   "execution_count": 27,
   "id": "c9fb8818-8bde-42df-b600-bf5b64dfad39",
   "metadata": {},
   "outputs": [
    {
     "data": {
      "text/plain": [
       "'/storage/astro2/phrdhx/eleanor-lite-project-v2/s0001/hlsp_gsfc-eleanor-lite_tess_ffi_s0001-0000000406277263_tess_v1.0_lc.fits'"
      ]
     },
     "execution_count": 27,
     "metadata": {},
     "output_type": "execute_result"
    }
   ],
   "source": [
    "data[data.TIC_ID == 406277263].abs_path.values[0]"
   ]
  }
 ],
 "metadata": {
  "kernelspec": {
   "display_name": "auto_exo",
   "language": "python",
   "name": "auto_exo"
  },
  "language_info": {
   "codemirror_mode": {
    "name": "ipython",
    "version": 3
   },
   "file_extension": ".py",
   "mimetype": "text/x-python",
   "name": "python",
   "nbconvert_exporter": "python",
   "pygments_lexer": "ipython3",
   "version": "3.7.12"
  }
 },
 "nbformat": 4,
 "nbformat_minor": 5
}
