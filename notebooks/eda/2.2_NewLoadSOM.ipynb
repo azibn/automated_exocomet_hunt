{
 "cells": [
  {
   "cell_type": "code",
   "execution_count": 1,
   "id": "621d54e8-fb3e-4a71-a4ee-5df41f4a5b52",
   "metadata": {},
   "outputs": [],
   "source": [
    "import warnings\n",
    "warnings.filterwarnings(\"ignore\")\n",
    "import os\n",
    "os.chdir('../../scripts')\n",
    "from som.selfsom import SimpleSOMMapper\n",
    "import som.somtools\n",
    "from som.TransitSOM_release import CreateSOM, LoadSOM\n",
    "import numpy as np\n",
    "import matplotlib.pyplot as plt\n",
    "import pandas as pd\n",
    "from tqdm import tqdm\n",
    "from collections import Counter"
   ]
  },
  {
   "cell_type": "code",
   "execution_count": 14,
   "id": "a469eb53-93d0-4f0b-b53e-f7746f1dba03",
   "metadata": {},
   "outputs": [],
   "source": [
    "arrays = np.load('../som_input_arrays_30x30.npz')\n",
    "kshape = (30,30)"
   ]
  },
  {
   "cell_type": "code",
   "execution_count": 24,
   "id": "3c89c441-d0ad-41e6-bccf-66aabce6c8e0",
   "metadata": {},
   "outputs": [],
   "source": [
    "keys = arrays.files\n",
    "\n",
    "# Access the first array\n",
    "first_array = arrays[keys[0]]"
   ]
  },
  {
   "cell_type": "code",
   "execution_count": 35,
   "id": "7ea46298-ba35-43e7-8a0a-b810e9ce8a0e",
   "metadata": {},
   "outputs": [],
   "source": [
    "arrays['array'][0]\n",
    "\n",
    "arrays['ids'][0]"
   ]
  },
  {
   "cell_type": "code",
   "execution_count": 8,
   "id": "f6b94a6f-f9c8-4077-a9fe-1aa54d34b3d2",
   "metadata": {},
   "outputs": [
    {
     "data": {
      "text/plain": [
       "(7848, 121)"
      ]
     },
     "execution_count": 8,
     "metadata": {},
     "output_type": "execute_result"
    }
   ],
   "source": [
    "arrays.shape"
   ]
  },
  {
   "cell_type": "code",
   "execution_count": null,
   "id": "1503ab40-abad-4209-a148-aedb1f8b6b10",
   "metadata": {},
   "outputs": [],
   "source": [
    "Kohonen = LoadSOM('../som_30x30.txt',kshape[0],kshape[1],121)"
   ]
  },
  {
   "cell_type": "code",
   "execution_count": null,
   "id": "d72b9b5f-ebb8-4a9a-a8b7-23fc42c47789",
   "metadata": {},
   "outputs": [],
   "source": [
    "trained = Kohonen.K"
   ]
  },
  {
   "cell_type": "markdown",
   "id": "e864b69f-2d8e-4470-a684-0a202fc78b41",
   "metadata": {},
   "source": [
    "### Map input arrays onto Kohonen Map"
   ]
  },
  {
   "cell_type": "code",
   "execution_count": null,
   "id": "1bd6ae0f-cb20-4f3c-acf5-544512a9daee",
   "metadata": {},
   "outputs": [],
   "source": [
    "mapped = trained(arrays)\n",
    "mapped_tuples = [tuple(point) for point in mapped]\n",
    "## count how many are in that pixel\n",
    "counts = Counter(mapped_tuples)\n",
    "count_list = [counts[item] for item in mapped_tuples]"
   ]
  },
  {
   "cell_type": "code",
   "execution_count": null,
   "id": "51f50782-3cef-464f-a1a3-b9b82784d73d",
   "metadata": {},
   "outputs": [],
   "source": [
    "x_pos = mapped[:,0]\n",
    "y_pos = mapped[:,1]"
   ]
  },
  {
   "cell_type": "markdown",
   "id": "f09c37bf-dcae-46a6-ba98-68e10d35e499",
   "metadata": {},
   "source": [
    "Plotting:"
   ]
  },
  {
   "cell_type": "code",
   "execution_count": null,
   "id": "7deec226-e6ad-4a70-9e79-014750f0a633",
   "metadata": {},
   "outputs": [],
   "source": [
    "plt.figure(figsize=(10,7))\n",
    "plt.xlim([-1,kshape[1]])\n",
    "plt.ylim([-1,kshape[0]])\n",
    "plt.xlabel('Kohonen X axis')\n",
    "plt.ylabel('Kohonen Y axis')\n",
    "plt.scatter(y_pos,x_pos,c=count_list,s=count_list)\n",
    "plt.colorbar(label='# of lightcurves at pixel')\n",
    "plt.savefig('kohonen_layers.png')\n",
    "plt.show()"
   ]
  }
 ],
 "metadata": {
  "kernelspec": {
   "display_name": "PyMVPA",
   "language": "python",
   "name": "pymvpa"
  },
  "language_info": {
   "codemirror_mode": {
    "name": "ipython",
    "version": 2
   },
   "file_extension": ".py",
   "mimetype": "text/x-python",
   "name": "python",
   "nbconvert_exporter": "python",
   "pygments_lexer": "ipython2",
   "version": "2.7.18"
  }
 },
 "nbformat": 4,
 "nbformat_minor": 5
}
