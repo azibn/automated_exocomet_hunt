{
 "cells": [
  {
   "cell_type": "markdown",
   "id": "58ccfd52-9b81-4cd1-a1db-d57caa8b3eef",
   "metadata": {},
   "source": [
    "# Actual Exploratory Data Analysis"
   ]
  },
  {
   "cell_type": "code",
   "execution_count": 1,
   "id": "875707e4-6d13-47d6-93c3-63105fbdee90",
   "metadata": {},
   "outputs": [
    {
     "ename": "ModuleNotFoundError",
     "evalue": "No module named 'scripts.analysis_tools_cython'",
     "output_type": "error",
     "traceback": [
      "\u001b[0;31m---------------------------------------------------------------------------\u001b[0m",
      "\u001b[0;31mModuleNotFoundError\u001b[0m                       Traceback (most recent call last)",
      "\u001b[0;32m/var/folders/bv/h7ss9cs93lq15v21yc62bk600000gn/T/ipykernel_82793/2101757862.py\u001b[0m in \u001b[0;36m<module>\u001b[0;34m\u001b[0m\n\u001b[1;32m      3\u001b[0m \u001b[0;32mimport\u001b[0m \u001b[0mpandas\u001b[0m \u001b[0;32mas\u001b[0m \u001b[0mpd\u001b[0m\u001b[0;34m\u001b[0m\u001b[0;34m\u001b[0m\u001b[0m\n\u001b[1;32m      4\u001b[0m \u001b[0;32mimport\u001b[0m \u001b[0mmatplotlib\u001b[0m\u001b[0;34m.\u001b[0m\u001b[0mpyplot\u001b[0m \u001b[0;32mas\u001b[0m \u001b[0mplt\u001b[0m\u001b[0;34m\u001b[0m\u001b[0;34m\u001b[0m\u001b[0m\n\u001b[0;32m----> 5\u001b[0;31m \u001b[0;32mfrom\u001b[0m \u001b[0mscripts\u001b[0m\u001b[0;34m.\u001b[0m\u001b[0mpost_processing\u001b[0m \u001b[0;32mimport\u001b[0m \u001b[0mget_output\u001b[0m\u001b[0;34m\u001b[0m\u001b[0;34m\u001b[0m\u001b[0m\n\u001b[0m\u001b[1;32m      6\u001b[0m \u001b[0;32mfrom\u001b[0m \u001b[0manalysis_tools_cython\u001b[0m \u001b[0;32mimport\u001b[0m \u001b[0;34m*\u001b[0m\u001b[0;34m\u001b[0m\u001b[0;34m\u001b[0m\u001b[0m\n\u001b[1;32m      7\u001b[0m \u001b[0;32mimport\u001b[0m \u001b[0mseaborn\u001b[0m \u001b[0;32mas\u001b[0m \u001b[0msns\u001b[0m\u001b[0;34m\u001b[0m\u001b[0;34m\u001b[0m\u001b[0m\n",
      "\u001b[0;32m~/Documents/open_source/automated_exocomet_hunt/scripts/post_processing.py\u001b[0m in \u001b[0;36m<module>\u001b[0;34m\u001b[0m\n\u001b[1;32m      3\u001b[0m \u001b[0;32mimport\u001b[0m \u001b[0mglob\u001b[0m\u001b[0;34m\u001b[0m\u001b[0;34m\u001b[0m\u001b[0m\n\u001b[1;32m      4\u001b[0m \u001b[0;32mimport\u001b[0m \u001b[0mos\u001b[0m\u001b[0;34m\u001b[0m\u001b[0;34m\u001b[0m\u001b[0m\n\u001b[0;32m----> 5\u001b[0;31m \u001b[0;32mfrom\u001b[0m \u001b[0mscripts\u001b[0m\u001b[0;34m.\u001b[0m\u001b[0manalysis_tools_cython\u001b[0m \u001b[0;32mimport\u001b[0m \u001b[0;34m*\u001b[0m\u001b[0;34m\u001b[0m\u001b[0;34m\u001b[0m\u001b[0m\n\u001b[0m\u001b[1;32m      6\u001b[0m \u001b[0;34m\u001b[0m\u001b[0m\n\u001b[1;32m      7\u001b[0m \u001b[0;34m\u001b[0m\u001b[0m\n",
      "\u001b[0;31mModuleNotFoundError\u001b[0m: No module named 'scripts.analysis_tools_cython'"
     ]
    }
   ],
   "source": [
    "import os\n",
    "os.chdir('../../')\n",
    "import pandas as pd\n",
    "import matplotlib.pyplot as plt\n",
    "from scripts.post_processing import get_output\n",
    "from scripts.analysis_tools_cython import *\n",
    "import seaborn as sns"
   ]
  },
  {
   "cell_type": "markdown",
   "id": "b79bca58-d4d5-4c3d-a7e2-e2f8be317b9c",
   "metadata": {},
   "source": [
    "## Functions"
   ]
  },
  {
   "cell_type": "code",
   "execution_count": null,
   "id": "951ec17a-785a-4754-aa61-1f252cd3ba3a",
   "metadata": {},
   "outputs": [],
   "source": [
    "def plot_lc(data):\n",
    "    for i in data.path:\n",
    "        lc, lc_info = import_XRPlightcurve(i,sector=6)\n",
    "        lc = lc['time','corrected flux','quality','flux error']\n",
    "        results, _ = processing(lc,'.',lc_info=lc_info,method='median',make_plots=True)"
   ]
  },
  {
   "cell_type": "code",
   "execution_count": null,
   "id": "488589cf-20bd-47e4-bfe8-9fad1e0ca304",
   "metadata": {},
   "outputs": [],
   "source": [
    "data = get_output('output_log/s6.txt')\n",
    "data_copy = data.copy()\n",
    "data = data[data.transit_prob == 'maybeTransit']\n",
    "data.head()"
   ]
  },
  {
   "cell_type": "markdown",
   "id": "65b0143a-6a2d-4481-96b5-6875225d8885",
   "metadata": {},
   "source": [
    "## Removing bad data\n",
    "From early plots, we know that there is a fair amount of bad data. This includes:\n",
    "- Lightcurves with mysterious large dips that occur in the space of ~5-10 cadences that do not show up in any other lightcurve pipeline (includeing direct `eleanor` lightcurves. \n",
    "- Models fitted on the data have ridiculous skewness values.\n",
    "We will remove these from the dataset."
   ]
  },
  {
   "cell_type": "code",
   "execution_count": null,
   "id": "1d1a32af-f5dc-4556-a385-d2c0b74adca6",
   "metadata": {},
   "outputs": [],
   "source": [
    "fig, ax = plt.subplots(nrows=1, ncols=2,figsize=(15,10))\n",
    "ax[0].scatter(data.asym_score,abs(data.snr),s=5)\n",
    "ax[0].set_xlabel(\"asymmetry\")\n",
    "ax[1].set_xlabel(\"skewness\")\n",
    "ax[0].set_ylabel(\"snr\")\n",
    "ax[1].scatter(data.skewness,abs(data.snr),s=5)\n",
    "plt.show()"
   ]
  },
  {
   "cell_type": "code",
   "execution_count": null,
   "id": "a601a2a8-a413-45ff-a79c-bf012f5d4783",
   "metadata": {},
   "outputs": [],
   "source": [
    "data = data[(data.asym_score <= 10) & (data.skewness >= -100) & (data.skewness <= 100)].reset_index(drop=True)"
   ]
  },
  {
   "cell_type": "markdown",
   "id": "529c1d7e-dcb6-4753-992c-131e5676e728",
   "metadata": {},
   "source": [
    "### Scatterplot after removing most aggressive outliers"
   ]
  },
  {
   "cell_type": "code",
   "execution_count": null,
   "id": "c50eeecc-59a7-42d1-b94d-03c9adc9947c",
   "metadata": {},
   "outputs": [],
   "source": [
    "fig, ax = plt.subplots(nrows=1, ncols=2,figsize=(15,10))\n",
    "ax[0].scatter(data.asym_score,abs(data.snr),s=5)\n",
    "ax[0].set_xlabel(\"asymmetry\")\n",
    "ax[1].set_xlabel(\"skewness\")\n",
    "ax[0].set_ylabel(\"snr\")\n",
    "ax[1].scatter(data.skewness,abs(data.snr),s=5)\n",
    "plt.show()"
   ]
  },
  {
   "cell_type": "markdown",
   "id": "4b6398cc-d68f-4301-a40c-0873776b2e15",
   "metadata": {},
   "source": [
    "### Histograms of time and duration\n",
    "- We know there are bad lightcurves in the XRP batch"
   ]
  },
  {
   "cell_type": "code",
   "execution_count": null,
   "id": "4ed4ae68-e9b2-4fed-98c3-dbeb752562f2",
   "metadata": {},
   "outputs": [],
   "source": [
    "data.hist('time',bins=50,figsize=(10,6))\n",
    "data.hist('duration',bins=50,figsize=(10,6))\n"
   ]
  },
  {
   "cell_type": "markdown",
   "id": "fa63f2a7-a365-44fc-b378-f7b40d102561",
   "metadata": {},
   "source": [
    "### Do the spikes on these histograms happen at a specific time?"
   ]
  },
  {
   "cell_type": "code",
   "execution_count": null,
   "id": "a9ff3a1f-35ba-4718-9321-878524b25588",
   "metadata": {},
   "outputs": [],
   "source": [
    "plt.figure(figsize=(20,10))\n",
    "plt.hist2d(data['time'], data['duration'], bins=[20, 20])\n",
    "plt.yticks(ticks=np.arange(0.1,2.5,0.1))\n",
    "plt.colorbar()\n",
    "plt.show()"
   ]
  },
  {
   "cell_type": "code",
   "execution_count": null,
   "id": "9ba35364-ab28-4c09-a2bc-84b26ce5a0fc",
   "metadata": {},
   "outputs": [],
   "source": [
    "plt.figure(figsize=(20,10))\n",
    "plt.hist2d(data['time'][data.duration <= 0.2], data['duration'][data.duration <= 0.2], bins=[20, 20])\n",
    "plt.colorbar()\n",
    "plt.show()"
   ]
  },
  {
   "cell_type": "markdown",
   "id": "e485cca3-a04c-4d17-88bf-9547fce31c69",
   "metadata": {},
   "source": [
    "Yes, they do."
   ]
  },
  {
   "cell_type": "markdown",
   "id": "6c6ff471-e1e9-45b2-8172-0be71d3ebab5",
   "metadata": {},
   "source": [
    "#### Let's zoom in to that time range where there is a spike at 1473, and re-plot"
   ]
  },
  {
   "cell_type": "code",
   "execution_count": null,
   "id": "65236b24-e39e-4aec-aba8-6fc4364c97f0",
   "metadata": {},
   "outputs": [],
   "source": [
    "data.loc[(data.time >=1472) & (data.time <= 1475)].hist('time',bins=50,figsize=(10,6))\n",
    "data.loc[(data.time >=1472) & (data.time <= 1475)].hist('duration',bins=50,figsize=(10,6))\n",
    "plt.show()"
   ]
  },
  {
   "cell_type": "markdown",
   "id": "db330eb5-fe21-4b88-ab09-3221293c8265",
   "metadata": {},
   "source": [
    "From some analysis of the clusters in the above skewness plots, we find that the failed lightcurves have a property of `duraion ~ 0.125` and `time = 1473.433` so we drop all lightcurves in that range."
   ]
  },
  {
   "cell_type": "markdown",
   "id": "7d79d722-0cc1-4288-bd0d-b7db61761cf2",
   "metadata": {},
   "source": [
    "**Drop this data**"
   ]
  },
  {
   "cell_type": "code",
   "execution_count": null,
   "id": "4131949f-1fc5-4a5e-b87c-989ca0a7e4ba",
   "metadata": {},
   "outputs": [],
   "source": [
    "to_cut = data[(data['duration'] <= 0.125) & (data['time'] >= 1473.433) & (data['time'] <= 1473.434)]\n",
    "for i in to_cut.path.head():\n",
    "    lc, lc_info = import_XRPlightcurve(i,sector=6)\n",
    "    plt.scatter(lc['time'],lc['corrected flux'],s=2)\n",
    "    #plt.scatter(data['TIME'],data['PDCSAP_FLUX'],s=2)\n",
    "    plt.title(lc_info[0])\n",
    "    plt.show()"
   ]
  },
  {
   "cell_type": "code",
   "execution_count": null,
   "id": "c20ed3c2-4ba6-4c93-a9fe-2e57388fa4df",
   "metadata": {},
   "outputs": [],
   "source": [
    "data.drop(data[(data['duration'] <= 0.125) & (data['time'] >= 1473.433) & (data['time'] <= 1473.434)].index,inplace=True)\n",
    "data.head()"
   ]
  },
  {
   "cell_type": "markdown",
   "id": "00e8387c-39d2-40ce-9b95-3d167d6740fb",
   "metadata": {},
   "source": [
    "### Scatterplot after cleaning this"
   ]
  },
  {
   "cell_type": "code",
   "execution_count": null,
   "id": "a783c4e1-e201-4e53-adb9-b7ff6a96bc5d",
   "metadata": {
    "tags": []
   },
   "outputs": [],
   "source": [
    "fig, ax = plt.subplots(nrows=1, ncols=2,figsize=(15,10))\n",
    "ax[0].scatter(data.asym_score,abs(data.snr),s=5)\n",
    "ax[0].set_xlabel(\"asymmetry\")\n",
    "ax[1].set_xlabel(\"skewness\")\n",
    "ax[0].set_ylabel(\"snr\")\n",
    "ax[1].scatter(data.skewness,abs(data.snr),s=5)\n",
    "plt.show()"
   ]
  },
  {
   "cell_type": "markdown",
   "id": "fdbd66d9-5267-4a88-a4c7-0fcea3c2ba33",
   "metadata": {},
   "source": [
    "### Dropping data with high asymmetry scores"
   ]
  },
  {
   "cell_type": "code",
   "execution_count": null,
   "id": "ed7bf1f2-27b8-4be8-b694-7b05a4883ff9",
   "metadata": {},
   "outputs": [],
   "source": [
    "data.drop(data[(data['asym_score'] >= 3)].index,inplace=True)"
   ]
  },
  {
   "cell_type": "markdown",
   "id": "46c390dd-54bb-491e-b6e4-a02114aef2f0",
   "metadata": {},
   "source": [
    "### Scatterplot after removing high asymmetry scores"
   ]
  },
  {
   "cell_type": "code",
   "execution_count": null,
   "id": "41842293-c8a8-4412-a492-5d56f717913c",
   "metadata": {},
   "outputs": [],
   "source": [
    "fig, ax = plt.subplots(nrows=1, ncols=2,figsize=(15,10))\n",
    "ax[0].scatter(data.asym_score,abs(data.snr),s=5)\n",
    "ax[0].set_xlabel(\"asymmetry\")\n",
    "ax[1].set_xlabel(\"skewness\")\n",
    "ax[0].set_ylabel(\"snr\")\n",
    "ax[1].scatter(data.skewness,abs(data.snr),s=5)\n",
    "rect = patches.Rectangle((1.1, 5), 1.9, 15.5, linewidth=1, edgecolor='r', facecolor='none',label='Kepler box')\n",
    "ax[0].add_patch(rect)\n",
    "ax[0].axhline(y=5,color='black',linewidth=3)\n",
    "ax[0].axhline(y=6,color='black',linewidth=3)\n",
    "\n",
    "plt.legend()\n",
    "plt.show()"
   ]
  },
  {
   "cell_type": "markdown",
   "id": "6bb22587-916b-498d-ab72-9ddbf7273278",
   "metadata": {},
   "source": [
    "---"
   ]
  },
  {
   "cell_type": "markdown",
   "id": "8f8d454c-f1f8-460c-ae8d-a314ccfb3bf1",
   "metadata": {},
   "source": [
    "- I would say the data is now clean from any extreme outliers. More subtle outliers still remain.\n",
    "\n",
    "## Correlations"
   ]
  },
  {
   "cell_type": "code",
   "execution_count": null,
   "id": "fabbf54a-f432-4d5a-b96b-c1f9e5cd845b",
   "metadata": {},
   "outputs": [],
   "source": [
    "corr = data.corr()\n",
    "sns.heatmap(corr)"
   ]
  },
  {
   "cell_type": "code",
   "execution_count": null,
   "id": "a692cf46-2748-48f1-a883-dd27dea5d49e",
   "metadata": {},
   "outputs": [],
   "source": [
    "data.snr = abs(data.snr)"
   ]
  },
  {
   "cell_type": "markdown",
   "id": "cbf9c637-43bd-4c73-85dc-9172c3d0cf80",
   "metadata": {},
   "source": [
    "### Accept only data with `snr >= 5`"
   ]
  },
  {
   "cell_type": "code",
   "execution_count": null,
   "id": "961d5213-1c0d-4ba8-85d4-29a67f211fc0",
   "metadata": {},
   "outputs": [],
   "source": [
    "data_new = data[data.snr >= 5].reset_index(drop=True)"
   ]
  },
  {
   "cell_type": "code",
   "execution_count": null,
   "id": "5f1ff36b-34ed-4d5a-a8ae-5fe320a25e9a",
   "metadata": {},
   "outputs": [],
   "source": [
    "sns.pairplot(data_new,vars=['asym_score','skewness','snr','duration','depth','peak_lspower'])"
   ]
  },
  {
   "cell_type": "markdown",
   "id": "26a7060a-05ef-4a4a-ab08-9f3fea58e68c",
   "metadata": {},
   "source": [
    "---"
   ]
  },
  {
   "cell_type": "code",
   "execution_count": null,
   "id": "d1e67fe2-7cc8-43b7-a5a4-d0eb25eba9f7",
   "metadata": {},
   "outputs": [],
   "source": [
    "data_new.drop(data_new[(data_new['depth'] <= -1.5)].index,inplace=True)"
   ]
  },
  {
   "cell_type": "code",
   "execution_count": null,
   "id": "426523e4-f5b6-443b-bbf3-d1f4538f5beb",
   "metadata": {},
   "outputs": [],
   "source": [
    "data_new"
   ]
  },
  {
   "cell_type": "code",
   "execution_count": null,
   "id": "fff8ac3b-fd66-47d4-8493-f5c038616d4f",
   "metadata": {},
   "outputs": [],
   "source": [
    "sns.pairplot(data_new,vars=['asym_score','skewness','snr','duration','depth','peak_lspower'])"
   ]
  },
  {
   "cell_type": "markdown",
   "id": "5ecd7112-6faf-4642-9415-e5b8397446b3",
   "metadata": {},
   "source": [
    "#### Some variable comparisons"
   ]
  },
  {
   "cell_type": "code",
   "execution_count": null,
   "id": "ecf36ff1-e7ce-4bb1-bcde-48f88780cd15",
   "metadata": {},
   "outputs": [],
   "source": [
    "plt.hist2d(data_new.peak_lspower, abs(data_new.depth))"
   ]
  },
  {
   "cell_type": "code",
   "execution_count": null,
   "id": "c4c1fdec-447a-40a2-bfe0-b575a424122d",
   "metadata": {},
   "outputs": [],
   "source": []
  },
  {
   "cell_type": "code",
   "execution_count": null,
   "id": "aeb664dd-8119-4216-8214-696abbf5438e",
   "metadata": {},
   "outputs": [],
   "source": []
  },
  {
   "cell_type": "code",
   "execution_count": null,
   "id": "4f2fed93-1521-4c97-98ad-d0447e57f6e2",
   "metadata": {},
   "outputs": [],
   "source": []
  },
  {
   "cell_type": "code",
   "execution_count": null,
   "id": "119708b6-7c22-46d7-b8d4-4a03b49f5862",
   "metadata": {},
   "outputs": [],
   "source": []
  },
  {
   "cell_type": "markdown",
   "id": "4cff05e3-69e7-47aa-8bee-db1af5641f20",
   "metadata": {},
   "source": [
    "---\n",
    "### Deleting `.npz` files that do not exist in the above pairplot"
   ]
  },
  {
   "cell_type": "code",
   "execution_count": 44,
   "id": "f3a6c7c8-5ae3-4f50-be1d-355480eb70ef",
   "metadata": {},
   "outputs": [
    {
     "data": {
      "text/html": [
       "<div>\n",
       "<style scoped>\n",
       "    .dataframe tbody tr th:only-of-type {\n",
       "        vertical-align: middle;\n",
       "    }\n",
       "\n",
       "    .dataframe tbody tr th {\n",
       "        vertical-align: top;\n",
       "    }\n",
       "\n",
       "    .dataframe thead th {\n",
       "        text-align: right;\n",
       "    }\n",
       "</style>\n",
       "<table border=\"1\" class=\"dataframe\">\n",
       "  <thead>\n",
       "    <tr style=\"text-align: right;\">\n",
       "      <th></th>\n",
       "      <th>path</th>\n",
       "      <th>id</th>\n",
       "      <th>signal</th>\n",
       "      <th>snr</th>\n",
       "      <th>time</th>\n",
       "      <th>asym_score</th>\n",
       "      <th>width1</th>\n",
       "      <th>width2</th>\n",
       "      <th>duration</th>\n",
       "      <th>depth</th>\n",
       "      <th>peak_lspower</th>\n",
       "      <th>mstat</th>\n",
       "      <th>skewness</th>\n",
       "      <th>skewness_err</th>\n",
       "      <th>m</th>\n",
       "      <th>n</th>\n",
       "      <th>chisquare</th>\n",
       "      <th>transit_prob</th>\n",
       "    </tr>\n",
       "  </thead>\n",
       "  <tbody>\n",
       "    <tr>\n",
       "      <th>0</th>\n",
       "      <td>/tmp/tess/tesslcs_sector_6_104/tesslcs_tmag_11...</td>\n",
       "      <td>20144513</td>\n",
       "      <td>-10.649570</td>\n",
       "      <td>5.118300</td>\n",
       "      <td>1470.180511</td>\n",
       "      <td>0.998714</td>\n",
       "      <td>0.041630</td>\n",
       "      <td>0.027668</td>\n",
       "      <td>0.124999</td>\n",
       "      <td>-0.262022</td>\n",
       "      <td>0.126395</td>\n",
       "      <td>1.234</td>\n",
       "      <td>-0.061055</td>\n",
       "      <td>24.015310</td>\n",
       "      <td>6</td>\n",
       "      <td>54</td>\n",
       "      <td>-181.206271</td>\n",
       "      <td>maybeTransit</td>\n",
       "    </tr>\n",
       "    <tr>\n",
       "      <th>1</th>\n",
       "      <td>/tmp/tess/tesslcs_sector_6_104/tesslcs_tmag_11...</td>\n",
       "      <td>140580920</td>\n",
       "      <td>-18.106005</td>\n",
       "      <td>7.645951</td>\n",
       "      <td>1472.510240</td>\n",
       "      <td>0.999933</td>\n",
       "      <td>0.057552</td>\n",
       "      <td>0.010449</td>\n",
       "      <td>0.166665</td>\n",
       "      <td>-0.072238</td>\n",
       "      <td>0.107418</td>\n",
       "      <td>0.784</td>\n",
       "      <td>-0.157154</td>\n",
       "      <td>11.740186</td>\n",
       "      <td>8</td>\n",
       "      <td>160</td>\n",
       "      <td>-55.026720</td>\n",
       "      <td>maybeTransit</td>\n",
       "    </tr>\n",
       "    <tr>\n",
       "      <th>2</th>\n",
       "      <td>/tmp/tess/tesslcs_sector_6_104/tesslcs_tmag_11...</td>\n",
       "      <td>118876585</td>\n",
       "      <td>-15.582583</td>\n",
       "      <td>9.890002</td>\n",
       "      <td>1476.619892</td>\n",
       "      <td>1.016490</td>\n",
       "      <td>0.047544</td>\n",
       "      <td>0.000530</td>\n",
       "      <td>0.104167</td>\n",
       "      <td>-0.006231</td>\n",
       "      <td>0.030561</td>\n",
       "      <td>0.301</td>\n",
       "      <td>1.656264</td>\n",
       "      <td>1.186886</td>\n",
       "      <td>5</td>\n",
       "      <td>365</td>\n",
       "      <td>-11.919521</td>\n",
       "      <td>maybeTransit</td>\n",
       "    </tr>\n",
       "    <tr>\n",
       "      <th>3</th>\n",
       "      <td>/tmp/tess/tesslcs_sector_6_104/2_min_cadence_t...</td>\n",
       "      <td>7422496</td>\n",
       "      <td>-15.488788</td>\n",
       "      <td>9.221545</td>\n",
       "      <td>1470.367299</td>\n",
       "      <td>1.047304</td>\n",
       "      <td>0.120517</td>\n",
       "      <td>0.000152</td>\n",
       "      <td>0.229163</td>\n",
       "      <td>-0.000846</td>\n",
       "      <td>0.025109</td>\n",
       "      <td>0.153</td>\n",
       "      <td>3.309608</td>\n",
       "      <td>1.856546</td>\n",
       "      <td>11</td>\n",
       "      <td>63</td>\n",
       "      <td>-3.460894</td>\n",
       "      <td>maybeTransit</td>\n",
       "    </tr>\n",
       "    <tr>\n",
       "      <th>4</th>\n",
       "      <td>/tmp/tess/tesslcs_sector_6_104/tesslcs_tmag_10...</td>\n",
       "      <td>176759300</td>\n",
       "      <td>-10.431067</td>\n",
       "      <td>5.087807</td>\n",
       "      <td>1476.328635</td>\n",
       "      <td>1.008141</td>\n",
       "      <td>0.257855</td>\n",
       "      <td>0.000307</td>\n",
       "      <td>0.499993</td>\n",
       "      <td>-0.000806</td>\n",
       "      <td>0.047696</td>\n",
       "      <td>0.015</td>\n",
       "      <td>3.446493</td>\n",
       "      <td>2.674683</td>\n",
       "      <td>24</td>\n",
       "      <td>351</td>\n",
       "      <td>-21.973382</td>\n",
       "      <td>maybeTransit</td>\n",
       "    </tr>\n",
       "  </tbody>\n",
       "</table>\n",
       "</div>"
      ],
      "text/plain": [
       "                                                path         id     signal  \\\n",
       "0  /tmp/tess/tesslcs_sector_6_104/tesslcs_tmag_11...   20144513 -10.649570   \n",
       "1  /tmp/tess/tesslcs_sector_6_104/tesslcs_tmag_11...  140580920 -18.106005   \n",
       "2  /tmp/tess/tesslcs_sector_6_104/tesslcs_tmag_11...  118876585 -15.582583   \n",
       "3  /tmp/tess/tesslcs_sector_6_104/2_min_cadence_t...    7422496 -15.488788   \n",
       "4  /tmp/tess/tesslcs_sector_6_104/tesslcs_tmag_10...  176759300 -10.431067   \n",
       "\n",
       "        snr         time  asym_score    width1    width2  duration     depth  \\\n",
       "0  5.118300  1470.180511    0.998714  0.041630  0.027668  0.124999 -0.262022   \n",
       "1  7.645951  1472.510240    0.999933  0.057552  0.010449  0.166665 -0.072238   \n",
       "2  9.890002  1476.619892    1.016490  0.047544  0.000530  0.104167 -0.006231   \n",
       "3  9.221545  1470.367299    1.047304  0.120517  0.000152  0.229163 -0.000846   \n",
       "4  5.087807  1476.328635    1.008141  0.257855  0.000307  0.499993 -0.000806   \n",
       "\n",
       "   peak_lspower  mstat  skewness  skewness_err   m    n   chisquare  \\\n",
       "0      0.126395  1.234 -0.061055     24.015310   6   54 -181.206271   \n",
       "1      0.107418  0.784 -0.157154     11.740186   8  160  -55.026720   \n",
       "2      0.030561  0.301  1.656264      1.186886   5  365  -11.919521   \n",
       "3      0.025109  0.153  3.309608      1.856546  11   63   -3.460894   \n",
       "4      0.047696  0.015  3.446493      2.674683  24  351  -21.973382   \n",
       "\n",
       "   transit_prob  \n",
       "0  maybeTransit  \n",
       "1  maybeTransit  \n",
       "2  maybeTransit  \n",
       "3  maybeTransit  \n",
       "4  maybeTransit  "
      ]
     },
     "execution_count": 44,
     "metadata": {},
     "output_type": "execute_result"
    }
   ],
   "source": [
    "data_new.head()\n",
    "len(data_new)"
   ]
  },
  {
   "cell_type": "code",
   "execution_count": 56,
   "id": "786847c3-9893-4ab9-923a-86069d8df9fa",
   "metadata": {},
   "outputs": [
    {
     "data": {
      "text/plain": [
       "0         147903302\n",
       "1           7421869\n",
       "2         150275360\n",
       "3         219392569\n",
       "4         393803598\n",
       "            ...    \n",
       "267721     42564913\n",
       "267722     42565640\n",
       "267723      4256612\n",
       "267724     42567448\n",
       "267725     42568129\n",
       "Name: id, Length: 242853, dtype: int64"
      ]
     },
     "execution_count": 56,
     "metadata": {},
     "output_type": "execute_result"
    }
   ],
   "source": [
    "data.id[~data.id.isin(data_new.id) == True]\n"
   ]
  },
  {
   "cell_type": "code",
   "execution_count": 57,
   "id": "5485e043-b5f8-404a-9e62-f7732d7c874d",
   "metadata": {},
   "outputs": [],
   "source": [
    "def delete_files_with_numbers(numbers, directory):\n",
    "    for filename in os.listdir(directory):\n",
    "        for number in numbers:\n",
    "            if str(number) in filename:\n",
    "                file_path = os.path.join(directory, filename)\n",
    "                os.remove(file_path)\n",
    "                print(f\"Deleted file: {file_path}\")"
   ]
  },
  {
   "cell_type": "code",
   "execution_count": 58,
   "id": "0d3bf576-e9af-4552-a2d6-f86bc720d986",
   "metadata": {},
   "outputs": [
    {
     "name": "stdout",
     "output_type": "stream",
     "text": [
      "Deleted file: som_cutouts_copy/263343910.npz\n",
      "Deleted file: som_cutouts_copy/287435404.npz\n",
      "Deleted file: som_cutouts_copy/235155837.npz\n",
      "Deleted file: som_cutouts_copy/51927166.npz\n",
      "Deleted file: som_cutouts_copy/71795259.npz\n",
      "Deleted file: som_cutouts_copy/333341661.npz\n",
      "Deleted file: som_cutouts_copy/123674479.npz\n",
      "Deleted file: som_cutouts_copy/765028752.npz\n",
      "Deleted file: som_cutouts_copy/47544996.npz\n",
      "Deleted file: som_cutouts_copy/391890833.npz\n"
     ]
    },
    {
     "ename": "KeyboardInterrupt",
     "evalue": "",
     "output_type": "error",
     "traceback": [
      "\u001b[0;31m--------------------------------------------------------------------\u001b[0m",
      "\u001b[0;31mKeyboardInterrupt\u001b[0m                  Traceback (most recent call last)",
      "\u001b[0;32m<ipython-input-58-f52f0541614b>\u001b[0m in \u001b[0;36m<module>\u001b[0;34m\u001b[0m\n\u001b[0;32m----> 1\u001b[0;31m \u001b[0mdelete_files_with_numbers\u001b[0m\u001b[0;34m(\u001b[0m\u001b[0mdata\u001b[0m\u001b[0;34m.\u001b[0m\u001b[0mid\u001b[0m\u001b[0;34m[\u001b[0m\u001b[0;34m~\u001b[0m\u001b[0mdata\u001b[0m\u001b[0;34m.\u001b[0m\u001b[0mid\u001b[0m\u001b[0;34m.\u001b[0m\u001b[0misin\u001b[0m\u001b[0;34m(\u001b[0m\u001b[0mdata_new\u001b[0m\u001b[0;34m.\u001b[0m\u001b[0mid\u001b[0m\u001b[0;34m)\u001b[0m \u001b[0;34m==\u001b[0m \u001b[0;32mTrue\u001b[0m\u001b[0;34m]\u001b[0m\u001b[0;34m.\u001b[0m\u001b[0mvalues\u001b[0m\u001b[0;34m,\u001b[0m\u001b[0;34m'som_cutouts_copy/'\u001b[0m\u001b[0;34m)\u001b[0m\u001b[0;34m\u001b[0m\u001b[0;34m\u001b[0m\u001b[0m\n\u001b[0m",
      "\u001b[0;32m<ipython-input-57-d4077f8b1f70>\u001b[0m in \u001b[0;36mdelete_files_with_numbers\u001b[0;34m(numbers, directory)\u001b[0m\n\u001b[1;32m      2\u001b[0m     \u001b[0;32mfor\u001b[0m \u001b[0mfilename\u001b[0m \u001b[0;32min\u001b[0m \u001b[0mos\u001b[0m\u001b[0;34m.\u001b[0m\u001b[0mlistdir\u001b[0m\u001b[0;34m(\u001b[0m\u001b[0mdirectory\u001b[0m\u001b[0;34m)\u001b[0m\u001b[0;34m:\u001b[0m\u001b[0;34m\u001b[0m\u001b[0;34m\u001b[0m\u001b[0m\n\u001b[1;32m      3\u001b[0m         \u001b[0;32mfor\u001b[0m \u001b[0mnumber\u001b[0m \u001b[0;32min\u001b[0m \u001b[0mnumbers\u001b[0m\u001b[0;34m:\u001b[0m\u001b[0;34m\u001b[0m\u001b[0;34m\u001b[0m\u001b[0m\n\u001b[0;32m----> 4\u001b[0;31m             \u001b[0;32mif\u001b[0m \u001b[0mstr\u001b[0m\u001b[0;34m(\u001b[0m\u001b[0mnumber\u001b[0m\u001b[0;34m)\u001b[0m \u001b[0;32min\u001b[0m \u001b[0mfilename\u001b[0m\u001b[0;34m:\u001b[0m\u001b[0;34m\u001b[0m\u001b[0;34m\u001b[0m\u001b[0m\n\u001b[0m\u001b[1;32m      5\u001b[0m                 \u001b[0mfile_path\u001b[0m \u001b[0;34m=\u001b[0m \u001b[0mos\u001b[0m\u001b[0;34m.\u001b[0m\u001b[0mpath\u001b[0m\u001b[0;34m.\u001b[0m\u001b[0mjoin\u001b[0m\u001b[0;34m(\u001b[0m\u001b[0mdirectory\u001b[0m\u001b[0;34m,\u001b[0m \u001b[0mfilename\u001b[0m\u001b[0;34m)\u001b[0m\u001b[0;34m\u001b[0m\u001b[0;34m\u001b[0m\u001b[0m\n\u001b[1;32m      6\u001b[0m                 \u001b[0mos\u001b[0m\u001b[0;34m.\u001b[0m\u001b[0mremove\u001b[0m\u001b[0;34m(\u001b[0m\u001b[0mfile_path\u001b[0m\u001b[0;34m)\u001b[0m\u001b[0;34m\u001b[0m\u001b[0;34m\u001b[0m\u001b[0m\n",
      "\u001b[0;31mKeyboardInterrupt\u001b[0m: "
     ]
    }
   ],
   "source": [
    "delete_files_with_numbers(data.id[~data.id.isin(data_new.id) == True].values,'som_cutouts_copy/')"
   ]
  },
  {
   "cell_type": "code",
   "execution_count": 80,
   "id": "d1d88fd2-f4f4-4f4f-b55d-440d4f15fc1f",
   "metadata": {},
   "outputs": [],
   "source": [
    "def delete_files_with_numbers(numbers, directory):\n",
    "    ### quicker as it uses a `set` data structure to store the numbers quicker -> in my case, it might not actually be quicker. We have no duplicate ID\n",
    "    number_set = set(str(number) for number in numbers)  # Convert numbers to a set for faster membership check\n",
    "    for filename in os.listdir(directory):\n",
    "        if any(number in filename for number in number_set):\n",
    "            file_path = os.path.join(directory, filename)\n",
    "            os.remove(file_path)\n",
    "    print(f\"Deleted files\")"
   ]
  },
  {
   "cell_type": "code",
   "execution_count": 81,
   "id": "d10c9bc1-9a6c-4f7d-8bf0-1dccbc94f904",
   "metadata": {},
   "outputs": [
    {
     "ename": "KeyboardInterrupt",
     "evalue": "",
     "output_type": "error",
     "traceback": [
      "\u001b[0;31m--------------------------------------------------------------------\u001b[0m",
      "\u001b[0;31mKeyboardInterrupt\u001b[0m                  Traceback (most recent call last)",
      "\u001b[0;32m<ipython-input-81-f52f0541614b>\u001b[0m in \u001b[0;36m<module>\u001b[0;34m\u001b[0m\n\u001b[0;32m----> 1\u001b[0;31m \u001b[0mdelete_files_with_numbers\u001b[0m\u001b[0;34m(\u001b[0m\u001b[0mdata\u001b[0m\u001b[0;34m.\u001b[0m\u001b[0mid\u001b[0m\u001b[0;34m[\u001b[0m\u001b[0;34m~\u001b[0m\u001b[0mdata\u001b[0m\u001b[0;34m.\u001b[0m\u001b[0mid\u001b[0m\u001b[0;34m.\u001b[0m\u001b[0misin\u001b[0m\u001b[0;34m(\u001b[0m\u001b[0mdata_new\u001b[0m\u001b[0;34m.\u001b[0m\u001b[0mid\u001b[0m\u001b[0;34m)\u001b[0m \u001b[0;34m==\u001b[0m \u001b[0;32mTrue\u001b[0m\u001b[0;34m]\u001b[0m\u001b[0;34m.\u001b[0m\u001b[0mvalues\u001b[0m\u001b[0;34m,\u001b[0m\u001b[0;34m'som_cutouts_copy/'\u001b[0m\u001b[0;34m)\u001b[0m\u001b[0;34m\u001b[0m\u001b[0;34m\u001b[0m\u001b[0m\n\u001b[0m",
      "\u001b[0;32m<ipython-input-80-510ae68cb57c>\u001b[0m in \u001b[0;36mdelete_files_with_numbers\u001b[0;34m(numbers, directory)\u001b[0m\n\u001b[1;32m      3\u001b[0m     \u001b[0mnumber_set\u001b[0m \u001b[0;34m=\u001b[0m \u001b[0mset\u001b[0m\u001b[0;34m(\u001b[0m\u001b[0mstr\u001b[0m\u001b[0;34m(\u001b[0m\u001b[0mnumber\u001b[0m\u001b[0;34m)\u001b[0m \u001b[0;32mfor\u001b[0m \u001b[0mnumber\u001b[0m \u001b[0;32min\u001b[0m \u001b[0mnumbers\u001b[0m\u001b[0;34m)\u001b[0m  \u001b[0;31m# Convert numbers to a set for faster membership check\u001b[0m\u001b[0;34m\u001b[0m\u001b[0;34m\u001b[0m\u001b[0m\n\u001b[1;32m      4\u001b[0m     \u001b[0;32mfor\u001b[0m \u001b[0mfilename\u001b[0m \u001b[0;32min\u001b[0m \u001b[0mos\u001b[0m\u001b[0;34m.\u001b[0m\u001b[0mlistdir\u001b[0m\u001b[0;34m(\u001b[0m\u001b[0mdirectory\u001b[0m\u001b[0;34m)\u001b[0m\u001b[0;34m:\u001b[0m\u001b[0;34m\u001b[0m\u001b[0;34m\u001b[0m\u001b[0m\n\u001b[0;32m----> 5\u001b[0;31m         \u001b[0;32mif\u001b[0m \u001b[0many\u001b[0m\u001b[0;34m(\u001b[0m\u001b[0mnumber\u001b[0m \u001b[0;32min\u001b[0m \u001b[0mfilename\u001b[0m \u001b[0;32mfor\u001b[0m \u001b[0mnumber\u001b[0m \u001b[0;32min\u001b[0m \u001b[0mnumber_set\u001b[0m\u001b[0;34m)\u001b[0m\u001b[0;34m:\u001b[0m\u001b[0;34m\u001b[0m\u001b[0;34m\u001b[0m\u001b[0m\n\u001b[0m\u001b[1;32m      6\u001b[0m             \u001b[0mfile_path\u001b[0m \u001b[0;34m=\u001b[0m \u001b[0mos\u001b[0m\u001b[0;34m.\u001b[0m\u001b[0mpath\u001b[0m\u001b[0;34m.\u001b[0m\u001b[0mjoin\u001b[0m\u001b[0;34m(\u001b[0m\u001b[0mdirectory\u001b[0m\u001b[0;34m,\u001b[0m \u001b[0mfilename\u001b[0m\u001b[0;34m)\u001b[0m\u001b[0;34m\u001b[0m\u001b[0;34m\u001b[0m\u001b[0m\n\u001b[1;32m      7\u001b[0m             \u001b[0mos\u001b[0m\u001b[0;34m.\u001b[0m\u001b[0mremove\u001b[0m\u001b[0;34m(\u001b[0m\u001b[0mfile_path\u001b[0m\u001b[0;34m)\u001b[0m\u001b[0;34m\u001b[0m\u001b[0;34m\u001b[0m\u001b[0m\n",
      "\u001b[0;32m<ipython-input-80-510ae68cb57c>\u001b[0m in \u001b[0;36m<genexpr>\u001b[0;34m(.0)\u001b[0m\n\u001b[1;32m      3\u001b[0m     \u001b[0mnumber_set\u001b[0m \u001b[0;34m=\u001b[0m \u001b[0mset\u001b[0m\u001b[0;34m(\u001b[0m\u001b[0mstr\u001b[0m\u001b[0;34m(\u001b[0m\u001b[0mnumber\u001b[0m\u001b[0;34m)\u001b[0m \u001b[0;32mfor\u001b[0m \u001b[0mnumber\u001b[0m \u001b[0;32min\u001b[0m \u001b[0mnumbers\u001b[0m\u001b[0;34m)\u001b[0m  \u001b[0;31m# Convert numbers to a set for faster membership check\u001b[0m\u001b[0;34m\u001b[0m\u001b[0;34m\u001b[0m\u001b[0m\n\u001b[1;32m      4\u001b[0m     \u001b[0;32mfor\u001b[0m \u001b[0mfilename\u001b[0m \u001b[0;32min\u001b[0m \u001b[0mos\u001b[0m\u001b[0;34m.\u001b[0m\u001b[0mlistdir\u001b[0m\u001b[0;34m(\u001b[0m\u001b[0mdirectory\u001b[0m\u001b[0;34m)\u001b[0m\u001b[0;34m:\u001b[0m\u001b[0;34m\u001b[0m\u001b[0;34m\u001b[0m\u001b[0m\n\u001b[0;32m----> 5\u001b[0;31m         \u001b[0;32mif\u001b[0m \u001b[0many\u001b[0m\u001b[0;34m(\u001b[0m\u001b[0mnumber\u001b[0m \u001b[0;32min\u001b[0m \u001b[0mfilename\u001b[0m \u001b[0;32mfor\u001b[0m \u001b[0mnumber\u001b[0m \u001b[0;32min\u001b[0m \u001b[0mnumber_set\u001b[0m\u001b[0;34m)\u001b[0m\u001b[0;34m:\u001b[0m\u001b[0;34m\u001b[0m\u001b[0;34m\u001b[0m\u001b[0m\n\u001b[0m\u001b[1;32m      6\u001b[0m             \u001b[0mfile_path\u001b[0m \u001b[0;34m=\u001b[0m \u001b[0mos\u001b[0m\u001b[0;34m.\u001b[0m\u001b[0mpath\u001b[0m\u001b[0;34m.\u001b[0m\u001b[0mjoin\u001b[0m\u001b[0;34m(\u001b[0m\u001b[0mdirectory\u001b[0m\u001b[0;34m,\u001b[0m \u001b[0mfilename\u001b[0m\u001b[0;34m)\u001b[0m\u001b[0;34m\u001b[0m\u001b[0;34m\u001b[0m\u001b[0m\n\u001b[1;32m      7\u001b[0m             \u001b[0mos\u001b[0m\u001b[0;34m.\u001b[0m\u001b[0mremove\u001b[0m\u001b[0;34m(\u001b[0m\u001b[0mfile_path\u001b[0m\u001b[0;34m)\u001b[0m\u001b[0;34m\u001b[0m\u001b[0;34m\u001b[0m\u001b[0m\n",
      "\u001b[0;31mKeyboardInterrupt\u001b[0m: "
     ]
    }
   ],
   "source": [
    "delete_files_with_numbers(data.id[~data.id.isin(data_new.id) == True].values,'som_cutouts_copy/')"
   ]
  },
  {
   "cell_type": "code",
   "execution_count": 83,
   "id": "c1738da2-a5a7-485b-86f7-dae86408c1a2",
   "metadata": {},
   "outputs": [],
   "source": [
    "def load_files_with_numbers(numbers, directory='som_cutouts_copy/'):\n",
    "    number_set = set(str(number) for number in numbers)\n",
    "    npz_files = glob.glob(os.path.join(directory, '*.npz'))\n",
    "    matching_files = [filename for filename in npz_files if any(number in filename for number in number_set)]\n",
    "    loaded_data = []\n",
    "    for filename in matching_files:\n",
    "        data = np.load(filename)\n",
    "        loaded_data.append(data)\n",
    "        print(f\"Loaded file: {filename}\")\n",
    "    return loaded_data"
   ]
  },
  {
   "cell_type": "code",
   "execution_count": 91,
   "id": "759b65c7-b81f-4844-ab64-6bd6246f700b",
   "metadata": {},
   "outputs": [],
   "source": [
    "load = data.path[~data.path.isin(data_new.path) == True].values"
   ]
  },
  {
   "cell_type": "markdown",
   "id": "40b539fe-64cf-467a-b421-2aa51fdfedc1",
   "metadata": {},
   "source": [
    "### Producing SOM cutouts of only specific candidates"
   ]
  },
  {
   "cell_type": "code",
   "execution_count": null,
   "id": "6c6d086d-c071-4429-8519-7c7e579c3210",
   "metadata": {},
   "outputs": [],
   "source": [
    "for i in load:\n",
    "    lc, lc_info = import_XRPlightcurve(i,sector=6)\n",
    "    lc = lc['time','corrected flux','quality','flux error']\n",
    "    results, _ = processing(lc,lc_info=lc_info,method='median',som_cutouts=True)\n",
    "    #plt.scatter(data['TIME'],data['PDCSAP_FLUX'],s=2)\n"
   ]
  },
  {
   "cell_type": "code",
   "execution_count": 114,
   "id": "8e9b8ce6-50c2-4eb1-8dd5-1f2f60168e7f",
   "metadata": {},
   "outputs": [],
   "source": [
    "data.path[~data.path.isin(data_new.path) == True].to_csv('paths.csv')"
   ]
  },
  {
   "cell_type": "code",
   "execution_count": null,
   "id": "56d0d243-1066-42a4-90d3-217c310beb53",
   "metadata": {},
   "outputs": [],
   "source": []
  }
 ],
 "metadata": {
  "kernelspec": {
   "display_name": "auto_exo",
   "language": "python",
   "name": "auto_exo"
  },
  "language_info": {
   "codemirror_mode": {
    "name": "ipython",
    "version": 3
   },
   "file_extension": ".py",
   "mimetype": "text/x-python",
   "name": "python",
   "nbconvert_exporter": "python",
   "pygments_lexer": "ipython3",
   "version": "3.7.12"
  }
 },
 "nbformat": 4,
 "nbformat_minor": 5
}
