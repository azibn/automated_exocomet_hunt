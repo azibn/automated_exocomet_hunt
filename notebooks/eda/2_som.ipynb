{
 "cells": [
  {
   "cell_type": "markdown",
   "id": "70dd8401-efe1-418f-9fd1-ee1bd542a80f",
   "metadata": {},
   "source": [
    "# SOM"
   ]
  },
  {
   "cell_type": "code",
   "execution_count": 1,
   "id": "01911f98-0785-4c86-802d-2f130e244cb8",
   "metadata": {},
   "outputs": [
    {
     "name": "stderr",
     "output_type": "stream",
     "text": [
      "/home/astro/phrdhx/.conda/envs/auto_exo_lite/lib/python3.7/site-packages/mvpa2/base/externals.py:81: DeprecationWarning: distutils Version classes are deprecated. Use packaging.version instead.\n",
      "  versions['scipy'] = SmartVersion(sp.__version__)\n",
      "/home/astro/phrdhx/.conda/envs/auto_exo_lite/lib/python3.7/site-packages/mvpa2/misc/support.py:419: DeprecationWarning: distutils Version classes are deprecated. Use packaging.version instead.\n",
      "  other = SmartVersion(other)\n",
      "/home/astro/phrdhx/.local/lib/python3.7/site-packages/matplotlib/__init__.py:202: DeprecationWarning: distutils Version classes are deprecated. Use packaging.version instead.\n",
      "  if LooseVersion(module.__version__) < minver:\n",
      "/home/astro/phrdhx/.conda/envs/auto_exo_lite/lib/python3.7/site-packages/setuptools/_distutils/version.py:346: DeprecationWarning: distutils Version classes are deprecated. Use packaging.version instead.\n",
      "  other = LooseVersion(other)\n",
      "/home/astro/phrdhx/.conda/envs/auto_exo_lite/lib/python3.7/site-packages/mvpa2/base/externals.py:418: DeprecationWarning: distutils Version classes are deprecated. Use packaging.version instead.\n",
      "  versions['matplotlib'] = SmartVersion(matplotlib.__version__)\n"
     ]
    }
   ],
   "source": [
    "import warnings\n",
    "warnings.filterwarnings(\"ignore\")\n",
    "import os\n",
    "os.chdir('../../scripts')\n",
    "from selfsom import SimpleSOMMapper\n",
    "import numpy as np"
   ]
  },
  {
   "cell_type": "markdown",
   "id": "2a3e27ff-a54e-4d7b-bebe-d59f7f819464",
   "metadata": {},
   "source": [
    "---"
   ]
  },
  {
   "cell_type": "markdown",
   "id": "bc895e7c-0bc9-4640-a2f0-5ef583e036a4",
   "metadata": {},
   "source": [
    "## Stacking .npz files"
   ]
  },
  {
   "cell_type": "code",
   "execution_count": 2,
   "id": "74ebb4b4-8ede-462d-8fe9-95f176ba5ee8",
   "metadata": {},
   "outputs": [
    {
     "name": "stderr",
     "output_type": "stream",
     "text": [
      "/home/astro/phrdhx/.local/lib/python3.7/site-packages/ipykernel/ipkernel.py:287: DeprecationWarning: `should_run_async` will not call `transform_cell` automatically in the future. Please pass the result to `transformed_cell` argument and any exception that happen during thetransform in `preprocessing_exc_tuple` in IPython 7.17 and above.\n",
      "  and should_run_async(code)\n"
     ]
    }
   ],
   "source": [
    "def stack_npz_files(directory):\n",
    "    files = os.listdir(directory)\n",
    "    npz_files = [f for f in files if f.endswith('.npz')]\n",
    "    if not npz_files:\n",
    "        print(\"No .npz files found in the directory.\")\n",
    "        return None\n",
    "\n",
    "    arrays = []\n",
    "    for npz_file in npz_files:\n",
    "        file_path = os.path.join(directory, npz_file)\n",
    "        data = np.load(file_path)\n",
    "        array = data['flux']  # Assuming the array in each .npz file is named 'arr_0'\n",
    "        if len(array) == 241:\n",
    "            arrays.append(array)\n",
    "\n",
    "    stacked_array = np.vstack(arrays)\n",
    "    return stacked_array"
   ]
  },
  {
   "cell_type": "code",
   "execution_count": 35,
   "id": "cde69e1d-1b12-48e8-ad47-cf6fc202d9c4",
   "metadata": {},
   "outputs": [
    {
     "data": {
      "text/plain": [
       "array([[-4.89400010e-04, -6.64094576e-04, -1.46901748e-03, ...,\n",
       "        -7.12143395e-04, -1.23765867e-04,  1.93512874e-04],\n",
       "       [-9.30908026e-04,  1.11528966e-03,  0.00000000e+00, ...,\n",
       "        -5.39555294e-04,  8.42910901e-06, -2.89037564e-04],\n",
       "       [-1.43354396e-03,  1.07820268e-03,  2.35838174e-03, ...,\n",
       "         9.46543778e-04,  1.94324370e-03, -2.96429332e-04],\n",
       "       ...,\n",
       "       [ 3.19534520e-04,  2.00760898e-03,  1.06124621e-03, ...,\n",
       "        -8.08529790e-04, -8.89596784e-04, -9.29280225e-05],\n",
       "       [-5.71752199e-04,  1.27866468e-04,  1.58680332e-04, ...,\n",
       "         6.70617310e-04, -1.16079283e-03,  1.30274627e-03],\n",
       "       [-6.02744423e-04,  5.93998121e-04, -4.02091622e-04, ...,\n",
       "         0.00000000e+00,  0.00000000e+00,  0.00000000e+00]])"
      ]
     },
     "execution_count": 35,
     "metadata": {},
     "output_type": "execute_result"
    }
   ],
   "source": [
    "som_array = stack_npz_files('../som_cutouts/')\n",
    "som_array"
   ]
  },
  {
   "cell_type": "code",
   "execution_count": 36,
   "id": "62de16ee-605d-4d9a-876a-79edd780da4c",
   "metadata": {},
   "outputs": [],
   "source": [
    "som_array = som_array.astype(int)"
   ]
  },
  {
   "cell_type": "code",
   "execution_count": 37,
   "id": "7822ad41-ebfc-40c6-83e8-05056ad62776",
   "metadata": {},
   "outputs": [
    {
     "data": {
      "text/plain": [
       "array([[0, 0, 0, ..., 0, 0, 0],\n",
       "       [0, 0, 0, ..., 0, 0, 0],\n",
       "       [0, 0, 0, ..., 0, 0, 0],\n",
       "       ...,\n",
       "       [0, 0, 0, ..., 0, 0, 0],\n",
       "       [0, 0, 0, ..., 0, 0, 0],\n",
       "       [0, 0, 0, ..., 0, 0, 0]])"
      ]
     },
     "execution_count": 37,
     "metadata": {},
     "output_type": "execute_result"
    }
   ],
   "source": [
    "som_array"
   ]
  },
  {
   "cell_type": "code",
   "execution_count": 31,
   "id": "72e6af51-2cb2-4b49-a32f-15f1a57460fb",
   "metadata": {},
   "outputs": [
    {
     "name": "stdout",
     "output_type": "stream",
     "text": [
      "som is training\n"
     ]
    },
    {
     "ename": "TypeError",
     "evalue": "'numpy.float64' object cannot be interpreted as an integer",
     "output_type": "error",
     "traceback": [
      "\u001b[0;31m-------------------------------------------------------\u001b[0m",
      "\u001b[0;31mTypeError\u001b[0m             Traceback (most recent call last)",
      "\u001b[0;32m<ipython-input-31-c1d5d4d62217>\u001b[0m in \u001b[0;36m<module>\u001b[0;34m\u001b[0m\n\u001b[1;32m      6\u001b[0m \u001b[0mprint\u001b[0m\u001b[0;34m(\u001b[0m\u001b[0;34m'som is training'\u001b[0m\u001b[0;34m)\u001b[0m\u001b[0;34m\u001b[0m\u001b[0;34m\u001b[0m\u001b[0m\n\u001b[1;32m      7\u001b[0m \u001b[0;34m\u001b[0m\u001b[0m\n\u001b[0;32m----> 8\u001b[0;31m \u001b[0mSOM\u001b[0m\u001b[0;34m.\u001b[0m\u001b[0mtrain\u001b[0m\u001b[0;34m(\u001b[0m\u001b[0msom_array\u001b[0m\u001b[0;34m)\u001b[0m\u001b[0;34m\u001b[0m\u001b[0;34m\u001b[0m\u001b[0m\n\u001b[0m\u001b[1;32m      9\u001b[0m \u001b[0;34m\u001b[0m\u001b[0m\n\u001b[1;32m     10\u001b[0m \u001b[0mprint\u001b[0m\u001b[0;34m(\u001b[0m\u001b[0;34m'training ended'\u001b[0m\u001b[0;34m)\u001b[0m\u001b[0;34m\u001b[0m\u001b[0;34m\u001b[0m\u001b[0m\n",
      "\u001b[0;32m~/.conda/envs/auto_exo_lite/lib/python3.7/site-packages/mvpa2/base/learner.py\u001b[0m in \u001b[0;36mtrain\u001b[0;34m(self, ds)\u001b[0m\n\u001b[1;32m    127\u001b[0m                 msgargs={'lrn': self, 'dataset': ds})\n\u001b[1;32m    128\u001b[0m \u001b[0;34m\u001b[0m\u001b[0m\n\u001b[0;32m--> 129\u001b[0;31m         \u001b[0mself\u001b[0m\u001b[0;34m.\u001b[0m\u001b[0m_pretrain\u001b[0m\u001b[0;34m(\u001b[0m\u001b[0mds\u001b[0m\u001b[0;34m)\u001b[0m\u001b[0;34m\u001b[0m\u001b[0;34m\u001b[0m\u001b[0m\n\u001b[0m\u001b[1;32m    130\u001b[0m \u001b[0;34m\u001b[0m\u001b[0m\n\u001b[1;32m    131\u001b[0m         \u001b[0;31m# remember the time when started training\u001b[0m\u001b[0;34m\u001b[0m\u001b[0;34m\u001b[0m\u001b[0;34m\u001b[0m\u001b[0m\n",
      "\u001b[0;32m~/.conda/envs/auto_exo_lite/lib/python3.7/site-packages/mvpa2/base/types.py\u001b[0m in \u001b[0;36mextract_samples\u001b[0;34m(obj, data)\u001b[0m\n\u001b[1;32m     35\u001b[0m             \u001b[0;32mreturn\u001b[0m \u001b[0mfx\u001b[0m\u001b[0;34m(\u001b[0m\u001b[0mobj\u001b[0m\u001b[0;34m,\u001b[0m \u001b[0mdata\u001b[0m\u001b[0;34m.\u001b[0m\u001b[0msamples\u001b[0m\u001b[0;34m)\u001b[0m\u001b[0;34m\u001b[0m\u001b[0;34m\u001b[0m\u001b[0m\n\u001b[1;32m     36\u001b[0m         \u001b[0;32melse\u001b[0m\u001b[0;34m:\u001b[0m\u001b[0;34m\u001b[0m\u001b[0;34m\u001b[0m\u001b[0m\n\u001b[0;32m---> 37\u001b[0;31m             \u001b[0;32mreturn\u001b[0m \u001b[0mfx\u001b[0m\u001b[0;34m(\u001b[0m\u001b[0mobj\u001b[0m\u001b[0;34m,\u001b[0m \u001b[0mdata\u001b[0m\u001b[0;34m)\u001b[0m\u001b[0;34m\u001b[0m\u001b[0;34m\u001b[0m\u001b[0m\n\u001b[0m\u001b[1;32m     38\u001b[0m     \u001b[0;32mreturn\u001b[0m \u001b[0mextract_samples\u001b[0m\u001b[0;34m\u001b[0m\u001b[0;34m\u001b[0m\u001b[0m\n\u001b[1;32m     39\u001b[0m \u001b[0;34m\u001b[0m\u001b[0m\n",
      "\u001b[0;32m~/automated_exocomet_hunt/scripts/selfsom.py\u001b[0m in \u001b[0;36m_pretrain\u001b[0;34m(self, samples)\u001b[0m\n\u001b[1;32m    137\u001b[0m         \u001b[0;31m# XXX maybe do other than squared Euclidean?\u001b[0m\u001b[0;34m\u001b[0m\u001b[0;34m\u001b[0m\u001b[0;34m\u001b[0m\u001b[0m\n\u001b[1;32m    138\u001b[0m         self._dqd = np.fromfunction(self.distance_metric,\n\u001b[0;32m--> 139\u001b[0;31m                              self._dqdshape[2:]+1, dtype='float')\n\u001b[0m\u001b[1;32m    140\u001b[0m \u001b[0;34m\u001b[0m\u001b[0m\n\u001b[1;32m    141\u001b[0m \u001b[0;34m\u001b[0m\u001b[0m\n",
      "\u001b[0;32m~/.conda/envs/auto_exo_lite/lib/python3.7/site-packages/numpy/core/numeric.py\u001b[0m in \u001b[0;36mfromfunction\u001b[0;34m(function, shape, dtype, like, **kwargs)\u001b[0m\n\u001b[1;32m   1843\u001b[0m         \u001b[0;32mreturn\u001b[0m \u001b[0m_fromfunction_with_like\u001b[0m\u001b[0;34m(\u001b[0m\u001b[0mfunction\u001b[0m\u001b[0;34m,\u001b[0m \u001b[0mshape\u001b[0m\u001b[0;34m,\u001b[0m \u001b[0mdtype\u001b[0m\u001b[0;34m=\u001b[0m\u001b[0mdtype\u001b[0m\u001b[0;34m,\u001b[0m \u001b[0mlike\u001b[0m\u001b[0;34m=\u001b[0m\u001b[0mlike\u001b[0m\u001b[0;34m,\u001b[0m \u001b[0;34m**\u001b[0m\u001b[0mkwargs\u001b[0m\u001b[0;34m)\u001b[0m\u001b[0;34m\u001b[0m\u001b[0;34m\u001b[0m\u001b[0m\n\u001b[1;32m   1844\u001b[0m \u001b[0;34m\u001b[0m\u001b[0m\n\u001b[0;32m-> 1845\u001b[0;31m     \u001b[0margs\u001b[0m \u001b[0;34m=\u001b[0m \u001b[0mindices\u001b[0m\u001b[0;34m(\u001b[0m\u001b[0mshape\u001b[0m\u001b[0;34m,\u001b[0m \u001b[0mdtype\u001b[0m\u001b[0;34m=\u001b[0m\u001b[0mdtype\u001b[0m\u001b[0;34m)\u001b[0m\u001b[0;34m\u001b[0m\u001b[0;34m\u001b[0m\u001b[0m\n\u001b[0m\u001b[1;32m   1846\u001b[0m     \u001b[0;32mreturn\u001b[0m \u001b[0mfunction\u001b[0m\u001b[0;34m(\u001b[0m\u001b[0;34m*\u001b[0m\u001b[0margs\u001b[0m\u001b[0;34m,\u001b[0m \u001b[0;34m**\u001b[0m\u001b[0mkwargs\u001b[0m\u001b[0;34m)\u001b[0m\u001b[0;34m\u001b[0m\u001b[0;34m\u001b[0m\u001b[0m\n\u001b[1;32m   1847\u001b[0m \u001b[0;34m\u001b[0m\u001b[0m\n",
      "\u001b[0;32m~/.conda/envs/auto_exo_lite/lib/python3.7/site-packages/numpy/core/numeric.py\u001b[0m in \u001b[0;36mindices\u001b[0;34m(dimensions, dtype, sparse)\u001b[0m\n\u001b[1;32m   1768\u001b[0m         \u001b[0mres\u001b[0m \u001b[0;34m=\u001b[0m \u001b[0mtuple\u001b[0m\u001b[0;34m(\u001b[0m\u001b[0;34m)\u001b[0m\u001b[0;34m\u001b[0m\u001b[0;34m\u001b[0m\u001b[0m\n\u001b[1;32m   1769\u001b[0m     \u001b[0;32melse\u001b[0m\u001b[0;34m:\u001b[0m\u001b[0;34m\u001b[0m\u001b[0;34m\u001b[0m\u001b[0m\n\u001b[0;32m-> 1770\u001b[0;31m         \u001b[0mres\u001b[0m \u001b[0;34m=\u001b[0m \u001b[0mempty\u001b[0m\u001b[0;34m(\u001b[0m\u001b[0;34m(\u001b[0m\u001b[0mN\u001b[0m\u001b[0;34m,\u001b[0m\u001b[0;34m)\u001b[0m\u001b[0;34m+\u001b[0m\u001b[0mdimensions\u001b[0m\u001b[0;34m,\u001b[0m \u001b[0mdtype\u001b[0m\u001b[0;34m=\u001b[0m\u001b[0mdtype\u001b[0m\u001b[0;34m)\u001b[0m\u001b[0;34m\u001b[0m\u001b[0;34m\u001b[0m\u001b[0m\n\u001b[0m\u001b[1;32m   1771\u001b[0m     \u001b[0;32mfor\u001b[0m \u001b[0mi\u001b[0m\u001b[0;34m,\u001b[0m \u001b[0mdim\u001b[0m \u001b[0;32min\u001b[0m \u001b[0menumerate\u001b[0m\u001b[0;34m(\u001b[0m\u001b[0mdimensions\u001b[0m\u001b[0;34m)\u001b[0m\u001b[0;34m:\u001b[0m\u001b[0;34m\u001b[0m\u001b[0;34m\u001b[0m\u001b[0m\n\u001b[1;32m   1772\u001b[0m         idx = arange(dim, dtype=dtype).reshape(\n",
      "\u001b[0;31mTypeError\u001b[0m: 'numpy.float64' object cannot be interpreted as an integer"
     ]
    }
   ],
   "source": [
    "kshape = (10,10)\n",
    "niter  = 500\n",
    "\n",
    "SOM = SimpleSOMMapper(kshape, niter)\n",
    "\n",
    "print('som is training')\n",
    "\n",
    "SOM.train(som_array)\n",
    "\n",
    "print('training ended')\n",
    "\n",
    "K = SOM.K\n"
   ]
  },
  {
   "cell_type": "code",
   "execution_count": null,
   "id": "3d13544f-bc42-4c27-b9a4-1fc0949f3616",
   "metadata": {},
   "outputs": [],
   "source": [
    "fig, ax = plt.subplots(np.shape(K)[0],np.shape(K)[1])\n",
    "for i in range(np.shape(K)[0]):\n",
    "    dist = []\n",
    "    idx  = []\n",
    "    for j in range(np.shape(K)[1]):\n",
    "        \n",
    "        ax[i,j].plot(wK, K[i][j])\n",
    "        \n",
    "        dist_, idx_ = SOM._distance(K[i,j], training_spec, axis = 1)\n",
    "        \n",
    "        index.append(idx_)\n",
    "        \n",
    "        # Visual SOM grid with Object name and distances\n",
    "        dist.append(dist_)\n",
    "        idx.append(idx_)\n",
    "    objects.append(df.loc[idx,'Object'])\n",
    "    distances.append([dist])\n",
    "        \n",
    "print(np.array(objects),'\\n \\n', np.array(distances))\n",
    "\n",
    "df_obj = df.iloc[index,:]\n",
    "print(df_obj)\n",
    "print(pd.unique(df_obj['Object']), len(pd.unique(df_obj['Object'])))"
   ]
  }
 ],
 "metadata": {
  "kernelspec": {
   "display_name": "auto_exo_lite",
   "language": "python",
   "name": "auto_exo_lite"
  },
  "language_info": {
   "codemirror_mode": {
    "name": "ipython",
    "version": 3
   },
   "file_extension": ".py",
   "mimetype": "text/x-python",
   "name": "python",
   "nbconvert_exporter": "python",
   "pygments_lexer": "ipython3",
   "version": "3.7.13"
  }
 },
 "nbformat": 4,
 "nbformat_minor": 5
}
