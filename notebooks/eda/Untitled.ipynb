{
 "cells": [
  {
   "cell_type": "code",
   "execution_count": 1,
   "id": "e8898616-fa44-4a45-b78b-c1677b5f6885",
   "metadata": {},
   "outputs": [],
   "source": [
    "import os\n",
    "os.chdir('../../')\n",
    "\n",
    "import pandas as pd\n",
    "import json"
   ]
  },
  {
   "cell_type": "code",
   "execution_count": 3,
   "id": "35649201-eef3-4a1a-bcb8-9a3b78d286e5",
   "metadata": {},
   "outputs": [],
   "source": [
    "data = pd.read_csv('project_lookup.csv')"
   ]
  },
  {
   "cell_type": "code",
   "execution_count": 5,
   "id": "983ed222-c60e-4950-8edc-1dc60c82e036",
   "metadata": {},
   "outputs": [],
   "source": [
    "s1 = pd.read_csv('target_lists/s0001.csv')\n",
    "s2 = pd.read_csv('target_lists/s0002.csv')"
   ]
  },
  {
   "cell_type": "code",
   "execution_count": 6,
   "id": "68698a82-3c8d-4593-bd0d-07dd4f1c6df7",
   "metadata": {},
   "outputs": [
    {
     "data": {
      "text/html": [
       "<div>\n",
       "<style scoped>\n",
       "    .dataframe tbody tr th:only-of-type {\n",
       "        vertical-align: middle;\n",
       "    }\n",
       "\n",
       "    .dataframe tbody tr th {\n",
       "        vertical-align: top;\n",
       "    }\n",
       "\n",
       "    .dataframe thead th {\n",
       "        text-align: right;\n",
       "    }\n",
       "</style>\n",
       "<table border=\"1\" class=\"dataframe\">\n",
       "  <thead>\n",
       "    <tr style=\"text-align: right;\">\n",
       "      <th></th>\n",
       "      <th>tic_id</th>\n",
       "      <th>Tmag</th>\n",
       "    </tr>\n",
       "  </thead>\n",
       "  <tbody>\n",
       "    <tr>\n",
       "      <th>0</th>\n",
       "      <td>269273552</td>\n",
       "      <td>-1.745</td>\n",
       "    </tr>\n",
       "    <tr>\n",
       "      <th>1</th>\n",
       "      <td>175934060</td>\n",
       "      <td>-1.679</td>\n",
       "    </tr>\n",
       "    <tr>\n",
       "      <th>2</th>\n",
       "      <td>459832522</td>\n",
       "      <td>-1.254</td>\n",
       "    </tr>\n",
       "    <tr>\n",
       "      <th>3</th>\n",
       "      <td>245873777</td>\n",
       "      <td>-1.200</td>\n",
       "    </tr>\n",
       "    <tr>\n",
       "      <th>4</th>\n",
       "      <td>272314138</td>\n",
       "      <td>-1.043</td>\n",
       "    </tr>\n",
       "  </tbody>\n",
       "</table>\n",
       "</div>"
      ],
      "text/plain": [
       "      tic_id   Tmag\n",
       "0  269273552 -1.745\n",
       "1  175934060 -1.679\n",
       "2  459832522 -1.254\n",
       "3  245873777 -1.200\n",
       "4  272314138 -1.043"
      ]
     },
     "execution_count": 6,
     "metadata": {},
     "output_type": "execute_result"
    }
   ],
   "source": [
    "tic = pd.read_csv('tic.txt',sep='\\t')\n",
    "tic.head()"
   ]
  },
  {
   "cell_type": "markdown",
   "id": "9c3ee541-ff15-4c91-b4fa-8e9842be70ab",
   "metadata": {},
   "source": [
    "## IDs in Sector 1"
   ]
  },
  {
   "cell_type": "markdown",
   "id": "7325cdaf-196e-42a4-9dc3-6aaca859d315",
   "metadata": {},
   "source": [
    "How many TIC IDs from `eleanor-lite` are in the TIC Catalog"
   ]
  },
  {
   "cell_type": "code",
   "execution_count": 9,
   "id": "d3f70727-472c-4510-adbe-5d9fcf8bd184",
   "metadata": {},
   "outputs": [
    {
     "data": {
      "text/html": [
       "<div>\n",
       "<style scoped>\n",
       "    .dataframe tbody tr th:only-of-type {\n",
       "        vertical-align: middle;\n",
       "    }\n",
       "\n",
       "    .dataframe tbody tr th {\n",
       "        vertical-align: top;\n",
       "    }\n",
       "\n",
       "    .dataframe thead th {\n",
       "        text-align: right;\n",
       "    }\n",
       "</style>\n",
       "<table border=\"1\" class=\"dataframe\">\n",
       "  <thead>\n",
       "    <tr style=\"text-align: right;\">\n",
       "      <th></th>\n",
       "      <th>#TIC_ID</th>\n",
       "      <th>RA</th>\n",
       "      <th>DEC</th>\n",
       "    </tr>\n",
       "  </thead>\n",
       "  <tbody>\n",
       "    <tr>\n",
       "      <th>0</th>\n",
       "      <td>8195168</td>\n",
       "      <td>311.407811</td>\n",
       "      <td>-40.257418</td>\n",
       "    </tr>\n",
       "    <tr>\n",
       "      <th>2</th>\n",
       "      <td>8195188</td>\n",
       "      <td>311.393197</td>\n",
       "      <td>-40.191972</td>\n",
       "    </tr>\n",
       "    <tr>\n",
       "      <th>6</th>\n",
       "      <td>8195216</td>\n",
       "      <td>311.405624</td>\n",
       "      <td>-40.137817</td>\n",
       "    </tr>\n",
       "    <tr>\n",
       "      <th>15</th>\n",
       "      <td>8195274</td>\n",
       "      <td>311.373213</td>\n",
       "      <td>-39.993240</td>\n",
       "    </tr>\n",
       "    <tr>\n",
       "      <th>20</th>\n",
       "      <td>8195299</td>\n",
       "      <td>311.340945</td>\n",
       "      <td>-39.936318</td>\n",
       "    </tr>\n",
       "    <tr>\n",
       "      <th>...</th>\n",
       "      <td>...</td>\n",
       "      <td>...</td>\n",
       "      <td>...</td>\n",
       "    </tr>\n",
       "    <tr>\n",
       "      <th>2593103</th>\n",
       "      <td>10005000396</td>\n",
       "      <td>348.702087</td>\n",
       "      <td>-43.599941</td>\n",
       "    </tr>\n",
       "    <tr>\n",
       "      <th>2593104</th>\n",
       "      <td>10005000425</td>\n",
       "      <td>344.326538</td>\n",
       "      <td>-41.070572</td>\n",
       "    </tr>\n",
       "    <tr>\n",
       "      <th>2593105</th>\n",
       "      <td>10005000427</td>\n",
       "      <td>335.239319</td>\n",
       "      <td>-46.035851</td>\n",
       "    </tr>\n",
       "    <tr>\n",
       "      <th>2593106</th>\n",
       "      <td>10005000483</td>\n",
       "      <td>57.456020</td>\n",
       "      <td>-71.635384</td>\n",
       "    </tr>\n",
       "    <tr>\n",
       "      <th>2593107</th>\n",
       "      <td>10005000540</td>\n",
       "      <td>6.022330</td>\n",
       "      <td>-72.081444</td>\n",
       "    </tr>\n",
       "  </tbody>\n",
       "</table>\n",
       "<p>313546 rows × 3 columns</p>\n",
       "</div>"
      ],
      "text/plain": [
       "             #TIC_ID          RA        DEC\n",
       "0            8195168  311.407811 -40.257418\n",
       "2            8195188  311.393197 -40.191972\n",
       "6            8195216  311.405624 -40.137817\n",
       "15           8195274  311.373213 -39.993240\n",
       "20           8195299  311.340945 -39.936318\n",
       "...              ...         ...        ...\n",
       "2593103  10005000396  348.702087 -43.599941\n",
       "2593104  10005000425  344.326538 -41.070572\n",
       "2593105  10005000427  335.239319 -46.035851\n",
       "2593106  10005000483   57.456020 -71.635384\n",
       "2593107  10005000540    6.022330 -72.081444\n",
       "\n",
       "[313546 rows x 3 columns]"
      ]
     },
     "execution_count": 9,
     "metadata": {},
     "output_type": "execute_result"
    }
   ],
   "source": [
    "s1[s1['#TIC_ID'].isin(tic.tic_id)]"
   ]
  },
  {
   "cell_type": "markdown",
   "id": "21abedd0-bf74-45a1-8f28-4a69a122fe6c",
   "metadata": {},
   "source": [
    "How many TIC IDs from `eleanor-lite` are in the old lookup"
   ]
  },
  {
   "cell_type": "code",
   "execution_count": 12,
   "id": "209b4d10-8204-404d-aa52-704f664dcb33",
   "metadata": {},
   "outputs": [
    {
     "data": {
      "text/html": [
       "<div>\n",
       "<style scoped>\n",
       "    .dataframe tbody tr th:only-of-type {\n",
       "        vertical-align: middle;\n",
       "    }\n",
       "\n",
       "    .dataframe tbody tr th {\n",
       "        vertical-align: top;\n",
       "    }\n",
       "\n",
       "    .dataframe thead th {\n",
       "        text-align: right;\n",
       "    }\n",
       "</style>\n",
       "<table border=\"1\" class=\"dataframe\">\n",
       "  <thead>\n",
       "    <tr style=\"text-align: right;\">\n",
       "      <th></th>\n",
       "      <th>#TIC_ID</th>\n",
       "      <th>RA</th>\n",
       "      <th>DEC</th>\n",
       "    </tr>\n",
       "  </thead>\n",
       "  <tbody>\n",
       "    <tr>\n",
       "      <th>0</th>\n",
       "      <td>8195168</td>\n",
       "      <td>311.407811</td>\n",
       "      <td>-40.257418</td>\n",
       "    </tr>\n",
       "    <tr>\n",
       "      <th>2</th>\n",
       "      <td>8195188</td>\n",
       "      <td>311.393197</td>\n",
       "      <td>-40.191972</td>\n",
       "    </tr>\n",
       "    <tr>\n",
       "      <th>6</th>\n",
       "      <td>8195216</td>\n",
       "      <td>311.405624</td>\n",
       "      <td>-40.137817</td>\n",
       "    </tr>\n",
       "    <tr>\n",
       "      <th>15</th>\n",
       "      <td>8195274</td>\n",
       "      <td>311.373213</td>\n",
       "      <td>-39.993240</td>\n",
       "    </tr>\n",
       "    <tr>\n",
       "      <th>20</th>\n",
       "      <td>8195299</td>\n",
       "      <td>311.340945</td>\n",
       "      <td>-39.936318</td>\n",
       "    </tr>\n",
       "    <tr>\n",
       "      <th>...</th>\n",
       "      <td>...</td>\n",
       "      <td>...</td>\n",
       "      <td>...</td>\n",
       "    </tr>\n",
       "    <tr>\n",
       "      <th>2593103</th>\n",
       "      <td>10005000396</td>\n",
       "      <td>348.702087</td>\n",
       "      <td>-43.599941</td>\n",
       "    </tr>\n",
       "    <tr>\n",
       "      <th>2593104</th>\n",
       "      <td>10005000425</td>\n",
       "      <td>344.326538</td>\n",
       "      <td>-41.070572</td>\n",
       "    </tr>\n",
       "    <tr>\n",
       "      <th>2593105</th>\n",
       "      <td>10005000427</td>\n",
       "      <td>335.239319</td>\n",
       "      <td>-46.035851</td>\n",
       "    </tr>\n",
       "    <tr>\n",
       "      <th>2593106</th>\n",
       "      <td>10005000483</td>\n",
       "      <td>57.456020</td>\n",
       "      <td>-71.635384</td>\n",
       "    </tr>\n",
       "    <tr>\n",
       "      <th>2593107</th>\n",
       "      <td>10005000540</td>\n",
       "      <td>6.022330</td>\n",
       "      <td>-72.081444</td>\n",
       "    </tr>\n",
       "  </tbody>\n",
       "</table>\n",
       "<p>286194 rows × 3 columns</p>\n",
       "</div>"
      ],
      "text/plain": [
       "             #TIC_ID          RA        DEC\n",
       "0            8195168  311.407811 -40.257418\n",
       "2            8195188  311.393197 -40.191972\n",
       "6            8195216  311.405624 -40.137817\n",
       "15           8195274  311.373213 -39.993240\n",
       "20           8195299  311.340945 -39.936318\n",
       "...              ...         ...        ...\n",
       "2593103  10005000396  348.702087 -43.599941\n",
       "2593104  10005000425  344.326538 -41.070572\n",
       "2593105  10005000427  335.239319 -46.035851\n",
       "2593106  10005000483   57.456020 -71.635384\n",
       "2593107  10005000540    6.022330 -72.081444\n",
       "\n",
       "[286194 rows x 3 columns]"
      ]
     },
     "execution_count": 12,
     "metadata": {},
     "output_type": "execute_result"
    }
   ],
   "source": [
    "s1[s1['#TIC_ID'].isin(data.TIC_ID[data.Sector == 1])]"
   ]
  },
  {
   "cell_type": "markdown",
   "id": "d77a3246-92ee-4a95-afac-e8dae5590abb",
   "metadata": {},
   "source": [
    "How many TIC IDs in the old lookup are in the TIC Catalog"
   ]
  },
  {
   "cell_type": "code",
   "execution_count": 14,
   "id": "cde68734-266d-4ac2-9e47-58a0e574d624",
   "metadata": {},
   "outputs": [
    {
     "data": {
      "text/plain": [
       "0         159670453\n",
       "1         389450629\n",
       "2         159671133\n",
       "3         389450601\n",
       "4         115115510\n",
       "            ...    \n",
       "286203     40337767\n",
       "286204     30931836\n",
       "286205    370041020\n",
       "286206     31927505\n",
       "286207    255567371\n",
       "Name: TIC_ID, Length: 286208, dtype: int64"
      ]
     },
     "execution_count": 14,
     "metadata": {},
     "output_type": "execute_result"
    }
   ],
   "source": [
    "data.TIC_ID[data.Sector == 1][data.TIC_ID.isin(tic.tic_id)]"
   ]
  },
  {
   "cell_type": "markdown",
   "id": "6e2d7241-d029-4fd8-bfad-b1d0949a5b5b",
   "metadata": {},
   "source": [
    "How many from the old lookup are not in the `eleanor-lite` lookup"
   ]
  },
  {
   "cell_type": "code",
   "execution_count": 17,
   "id": "b36224a4-1fee-4951-92f7-a627a0b161f9",
   "metadata": {},
   "outputs": [
    {
     "data": {
      "text/plain": [
       "2537      140859822\n",
       "9375      404804908\n",
       "60861     149306590\n",
       "94371     167042726\n",
       "94824     404971569\n",
       "101078     31530240\n",
       "150991    149161062\n",
       "208991    382372645\n",
       "220363    220418116\n",
       "222121    389798100\n",
       "225921     30311874\n",
       "235590    295068953\n",
       "235680     40275879\n",
       "263091    441405166\n",
       "Name: TIC_ID, dtype: int64"
      ]
     },
     "execution_count": 17,
     "metadata": {},
     "output_type": "execute_result"
    }
   ],
   "source": [
    "data.TIC_ID[data.Sector == 1][~data.TIC_ID.isin(s1['#TIC_ID'])]"
   ]
  },
  {
   "cell_type": "code",
   "execution_count": null,
   "id": "6b9d0d0a-df15-4f14-924f-61ad280eafcc",
   "metadata": {},
   "outputs": [],
   "source": []
  }
 ],
 "metadata": {
  "kernelspec": {
   "display_name": "auto_exo",
   "language": "python",
   "name": "auto_exo"
  },
  "language_info": {
   "codemirror_mode": {
    "name": "ipython",
    "version": 3
   },
   "file_extension": ".py",
   "mimetype": "text/x-python",
   "name": "python",
   "nbconvert_exporter": "python",
   "pygments_lexer": "ipython3",
   "version": "3.7.12"
  }
 },
 "nbformat": 4,
 "nbformat_minor": 5
}
