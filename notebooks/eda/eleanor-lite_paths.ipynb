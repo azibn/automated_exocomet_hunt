{
 "cells": [
  {
   "cell_type": "markdown",
   "id": "d2640ced-9c28-482a-8e53-23ef6d152fdc",
   "metadata": {},
   "source": [
    "# Creating filepaths for project lightcurves"
   ]
  },
  {
   "cell_type": "markdown",
   "id": "c53a659a-e3bc-457f-8b17-a1176688e40f",
   "metadata": {},
   "source": [
    "## Part 1: The XRP lookup"
   ]
  },
  {
   "cell_type": "code",
   "execution_count": 2,
   "id": "c98313e1-4a7e-4e6f-8085-d4c163737938",
   "metadata": {},
   "outputs": [],
   "source": [
    "import os\n",
    "os.chdir('../../')\n",
    "\n",
    "import pandas as pd\n",
    "import json"
   ]
  },
  {
   "cell_type": "code",
   "execution_count": 3,
   "id": "3f3b1b26-abeb-4f26-b702-80ddc426838d",
   "metadata": {},
   "outputs": [],
   "source": [
    "#data = pd.read_csv('/storage/astro2/phrdhx/tesslcs/fulllookup.csv')"
   ]
  },
  {
   "cell_type": "code",
   "execution_count": null,
   "id": "430cdc6e-aaec-4359-b53c-b70c7f02c38c",
   "metadata": {},
   "outputs": [],
   "source": [
    "with open('colnames.json', 'r', encoding='utf-8') as f:\n",
    "    check = f.read()\n",
    "    columns = json.loads(check)\n",
    "    columns = columns['column_names']"
   ]
  },
  {
   "cell_type": "code",
   "execution_count": null,
   "id": "2e37595e-1c4e-4a43-a58d-7a63f8becb42",
   "metadata": {},
   "outputs": [],
   "source": [
    "data['TIC_ID'] = data['TIC_ID'].astype(str).str.zfill(16)\n",
    "\n",
    "# Convert sector to a 4-digit string with leading zeros\n",
    "data['Sector_leading_zeros'] = data['Sector'].astype(str).str.zfill(4)\n",
    "\n",
    "# Create the new_path column\n",
    "data['new_path'] = (\n",
    "    's' + data['Sector_leading_zeros'] + '/' +\n",
    "    data['TIC_ID'].str[0:4] + '/' +\n",
    "    data['TIC_ID'].str[4:8] + '/' +\n",
    "    data['TIC_ID'].str[8:12] + '/' +\n",
    "    data['TIC_ID'].str[12:16] + '/' +\n",
    "    'hlsp_gsfc-eleanor-lite_tess_ffi_s' + data['Sector_leading_zeros'] + '-' + data['TIC_ID'] + '_tess_v1.0_lc.fits'\n",
    ")\n",
    "\n",
    "common_string = '/storage/astro2/phrdhx/eleanor-lite/'\n",
    "\n",
    "data['new_path'] = common_string + data['new_path']\n",
    "#data.to_csv('xrplookup.csv')"
   ]
  },
  {
   "cell_type": "markdown",
   "id": "77f5386f-ae84-4805-9fdc-6bafa9a6242c",
   "metadata": {},
   "source": [
    "---"
   ]
  },
  {
   "cell_type": "markdown",
   "id": "9172fb17-882e-40f7-a953-a79f0b833311",
   "metadata": {},
   "source": [
    "## Part 2: Using `project_lookup` to produce file paths of for Sector-by-Sector copies"
   ]
  },
  {
   "cell_type": "code",
   "execution_count": 1,
   "id": "9cdc7cd0-9ed1-4933-97af-3b666133026d",
   "metadata": {},
   "outputs": [],
   "source": [
    "import pandas as pd\n",
    "import os\n",
    "os.chdir('../../')"
   ]
  },
  {
   "cell_type": "code",
   "execution_count": 2,
   "id": "6213ba99-5df9-498b-ac7e-db4bc1847a25",
   "metadata": {},
   "outputs": [],
   "source": [
    "#s1 = pd.read_csv('s0001.csv')\n",
    "lookup = pd.read_csv('project_lookup.csv')\n",
    "lookup = lookup.loc[:, ~lookup.columns.str.contains('^Unnamed')]"
   ]
  },
  {
   "cell_type": "code",
   "execution_count": 4,
   "id": "d09708f8-e139-4189-b3dc-d2eedd82fe5b",
   "metadata": {},
   "outputs": [
    {
     "data": {
      "text/plain": [
       "241100"
      ]
     },
     "execution_count": 4,
     "metadata": {},
     "output_type": "execute_result"
    }
   ],
   "source": [
    "export_s22 = lookup[lookup.Sector == 21].new_path.to_list()\n",
    "len(export_s22)"
   ]
  },
  {
   "cell_type": "markdown",
   "id": "389621ee-03d9-47db-9428-8bed85ded8c0",
   "metadata": {},
   "source": [
    "### Reading up the `eleanor-lite` lookup that I generated"
   ]
  },
  {
   "cell_type": "code",
   "execution_count": 15,
   "id": "38bb7cd0-9759-4940-ac07-d1bd7e4d6f37",
   "metadata": {},
   "outputs": [
    {
     "data": {
      "text/html": [
       "<div>\n",
       "<style scoped>\n",
       "    .dataframe tbody tr th:only-of-type {\n",
       "        vertical-align: middle;\n",
       "    }\n",
       "\n",
       "    .dataframe tbody tr th {\n",
       "        vertical-align: top;\n",
       "    }\n",
       "\n",
       "    .dataframe thead th {\n",
       "        text-align: right;\n",
       "    }\n",
       "</style>\n",
       "<table border=\"1\" class=\"dataframe\">\n",
       "  <thead>\n",
       "    <tr style=\"text-align: right;\">\n",
       "      <th></th>\n",
       "      <th>tic_id</th>\n",
       "      <th>Tmag</th>\n",
       "    </tr>\n",
       "  </thead>\n",
       "  <tbody>\n",
       "    <tr>\n",
       "      <th>0</th>\n",
       "      <td>269273552</td>\n",
       "      <td>-1.745</td>\n",
       "    </tr>\n",
       "    <tr>\n",
       "      <th>1</th>\n",
       "      <td>175934060</td>\n",
       "      <td>-1.679</td>\n",
       "    </tr>\n",
       "    <tr>\n",
       "      <th>2</th>\n",
       "      <td>459832522</td>\n",
       "      <td>-1.254</td>\n",
       "    </tr>\n",
       "    <tr>\n",
       "      <th>3</th>\n",
       "      <td>245873777</td>\n",
       "      <td>-1.200</td>\n",
       "    </tr>\n",
       "    <tr>\n",
       "      <th>4</th>\n",
       "      <td>272314138</td>\n",
       "      <td>-1.043</td>\n",
       "    </tr>\n",
       "  </tbody>\n",
       "</table>\n",
       "</div>"
      ],
      "text/plain": [
       "      tic_id   Tmag\n",
       "0  269273552 -1.745\n",
       "1  175934060 -1.679\n",
       "2  459832522 -1.254\n",
       "3  245873777 -1.200\n",
       "4  272314138 -1.043"
      ]
     },
     "execution_count": 15,
     "metadata": {},
     "output_type": "execute_result"
    }
   ],
   "source": [
    "tic = pd.read_csv('tic.txt',sep='\\t')\n",
    "tic.head()"
   ]
  },
  {
   "cell_type": "code",
   "execution_count": 28,
   "id": "a072a34c-e336-4f58-bd26-f82bf8701de4",
   "metadata": {},
   "outputs": [
    {
     "name": "stdout",
     "output_type": "stream",
     "text": [
      "236276\n",
      "236276 after dropping duplicates\n"
     ]
    }
   ],
   "source": [
    "eleanor_lite_s21 = pd.read_csv('s21-eleanor-lite.txt',header=None,names=['tic_id'])\n",
    "print(len(eleanor_lite_s21))\n",
    "eleanor_lite_s21 = eleanor_lite_s21.drop_duplicates(subset=['tic_id'])\n",
    "print(str(len(eleanor_lite_s21)) + \" after dropping duplicates\")"
   ]
  },
  {
   "cell_type": "markdown",
   "id": "145f6714-dbae-4bd5-9fc2-18bb0722205a",
   "metadata": {},
   "source": [
    "The `eleanor-lite` lightcurves met for our projects:"
   ]
  },
  {
   "cell_type": "code",
   "execution_count": 20,
   "id": "eb67b263-6399-410b-a48d-13c4ade3402a",
   "metadata": {},
   "outputs": [],
   "source": [
    "project_eleanor_lite_s21 = eleanor_lite_s21[eleanor_lite_s21.tic_id.isin(tic.tic_id)]"
   ]
  },
  {
   "cell_type": "markdown",
   "id": "aedce653-44ac-498d-8990-1f78ff2f8f0a",
   "metadata": {},
   "source": [
    "This does not include the lightcurves that exist in the old lookup file. To do this, we can just query the lightcurves that were not present in our `project_eleanor_lite_s21`"
   ]
  },
  {
   "cell_type": "code",
   "execution_count": null,
   "id": "233e78f5-7bb4-4955-ba7e-ad8b6e0da388",
   "metadata": {},
   "outputs": [],
   "source": []
  },
  {
   "cell_type": "code",
   "execution_count": null,
   "id": "26cf9044-2bc3-418d-9845-227420294166",
   "metadata": {},
   "outputs": [],
   "source": []
  },
  {
   "cell_type": "code",
   "execution_count": 4,
   "id": "46552111-0dd9-4d25-97e0-b85af4cc6a25",
   "metadata": {},
   "outputs": [],
   "source": [
    "with open('s0024.txt', 'w') as file:\n",
    "        for item in export_s22:\n",
    "            file.write(str(item) + '\\n')"
   ]
  },
  {
   "cell_type": "markdown",
   "id": "41241ab7-3cf4-49eb-ab48-c3a8a5430e0e",
   "metadata": {},
   "source": [
    "---"
   ]
  },
  {
   "cell_type": "markdown",
   "id": "6d7bc455-daf1-4f9d-a3ad-465b7f4db6be",
   "metadata": {},
   "source": [
    "---"
   ]
  },
  {
   "cell_type": "markdown",
   "id": "eae7fd35-c639-43de-8321-43b3d323cd59",
   "metadata": {},
   "source": [
    "### Part 2.5: For TICs that did not exist in `old`, make the paths for those and export"
   ]
  },
  {
   "cell_type": "code",
   "execution_count": 1,
   "id": "c0727c8d-9b0f-4d15-851f-19060c00d75f",
   "metadata": {},
   "outputs": [],
   "source": [
    "import os\n",
    "os.chdir('../../')\n",
    "import pandas as pd"
   ]
  },
  {
   "cell_type": "code",
   "execution_count": 2,
   "id": "598b02e6-bafe-4c9e-b7e2-c9ba306f9c88",
   "metadata": {},
   "outputs": [
    {
     "data": {
      "text/html": [
       "<div>\n",
       "<style scoped>\n",
       "    .dataframe tbody tr th:only-of-type {\n",
       "        vertical-align: middle;\n",
       "    }\n",
       "\n",
       "    .dataframe tbody tr th {\n",
       "        vertical-align: top;\n",
       "    }\n",
       "\n",
       "    .dataframe thead th {\n",
       "        text-align: right;\n",
       "    }\n",
       "</style>\n",
       "<table border=\"1\" class=\"dataframe\">\n",
       "  <thead>\n",
       "    <tr style=\"text-align: right;\">\n",
       "      <th></th>\n",
       "      <th>tic_id</th>\n",
       "      <th>Tmag</th>\n",
       "    </tr>\n",
       "  </thead>\n",
       "  <tbody>\n",
       "    <tr>\n",
       "      <th>0</th>\n",
       "      <td>269273552</td>\n",
       "      <td>-1.745</td>\n",
       "    </tr>\n",
       "    <tr>\n",
       "      <th>1</th>\n",
       "      <td>175934060</td>\n",
       "      <td>-1.679</td>\n",
       "    </tr>\n",
       "    <tr>\n",
       "      <th>2</th>\n",
       "      <td>459832522</td>\n",
       "      <td>-1.254</td>\n",
       "    </tr>\n",
       "    <tr>\n",
       "      <th>3</th>\n",
       "      <td>245873777</td>\n",
       "      <td>-1.200</td>\n",
       "    </tr>\n",
       "    <tr>\n",
       "      <th>4</th>\n",
       "      <td>272314138</td>\n",
       "      <td>-1.043</td>\n",
       "    </tr>\n",
       "  </tbody>\n",
       "</table>\n",
       "</div>"
      ],
      "text/plain": [
       "      tic_id   Tmag\n",
       "0  269273552 -1.745\n",
       "1  175934060 -1.679\n",
       "2  459832522 -1.254\n",
       "3  245873777 -1.200\n",
       "4  272314138 -1.043"
      ]
     },
     "execution_count": 2,
     "metadata": {},
     "output_type": "execute_result"
    }
   ],
   "source": [
    "tic = pd.read_csv('tic.txt',sep='\\t')\n",
    "tic.head()"
   ]
  },
  {
   "cell_type": "code",
   "execution_count": 3,
   "id": "ba06139a-479f-4936-8d76-e1de9b830d6a",
   "metadata": {},
   "outputs": [],
   "source": [
    "lookup = pd.read_csv('project_lookup.csv')\n",
    "lookup = lookup.loc[:, ~lookup.columns.str.contains('^Unnamed')]"
   ]
  },
  {
   "cell_type": "code",
   "execution_count": 9,
   "id": "c7d583e1-82d3-4a93-94e8-456c2bb63e35",
   "metadata": {},
   "outputs": [
    {
     "data": {
      "text/html": [
       "<div>\n",
       "<style scoped>\n",
       "    .dataframe tbody tr th:only-of-type {\n",
       "        vertical-align: middle;\n",
       "    }\n",
       "\n",
       "    .dataframe tbody tr th {\n",
       "        vertical-align: top;\n",
       "    }\n",
       "\n",
       "    .dataframe thead th {\n",
       "        text-align: right;\n",
       "    }\n",
       "</style>\n",
       "<table border=\"1\" class=\"dataframe\">\n",
       "  <thead>\n",
       "    <tr style=\"text-align: right;\">\n",
       "      <th></th>\n",
       "      <th>Filename</th>\n",
       "      <th>RA</th>\n",
       "      <th>Dec</th>\n",
       "      <th>TIC_ID</th>\n",
       "      <th>Sector</th>\n",
       "      <th>Camera</th>\n",
       "      <th>CCD</th>\n",
       "      <th>Magnitude</th>\n",
       "      <th>Sector_leading_zeros</th>\n",
       "      <th>new_path</th>\n",
       "    </tr>\n",
       "  </thead>\n",
       "  <tbody>\n",
       "    <tr>\n",
       "      <th>0</th>\n",
       "      <td>tesslcs_sector_1_104/2_min_cadence_targets/tes...</td>\n",
       "      <td>318.057138</td>\n",
       "      <td>-40.269362</td>\n",
       "      <td>159670453</td>\n",
       "      <td>1</td>\n",
       "      <td>1</td>\n",
       "      <td>1</td>\n",
       "      <td>5.4117</td>\n",
       "      <td>1</td>\n",
       "      <td>/storage/astro2/phrdhx/eleanor-lite/s0001/0000...</td>\n",
       "    </tr>\n",
       "    <tr>\n",
       "      <th>1</th>\n",
       "      <td>tesslcs_sector_1_104/2_min_cadence_targets/tes...</td>\n",
       "      <td>312.371213</td>\n",
       "      <td>-41.711500</td>\n",
       "      <td>389450629</td>\n",
       "      <td>1</td>\n",
       "      <td>1</td>\n",
       "      <td>1</td>\n",
       "      <td>7.8065</td>\n",
       "      <td>1</td>\n",
       "      <td>/storage/astro2/phrdhx/eleanor-lite/s0001/0000...</td>\n",
       "    </tr>\n",
       "    <tr>\n",
       "      <th>2</th>\n",
       "      <td>tesslcs_sector_1_104/2_min_cadence_targets/tes...</td>\n",
       "      <td>318.093446</td>\n",
       "      <td>-41.931732</td>\n",
       "      <td>159671133</td>\n",
       "      <td>1</td>\n",
       "      <td>1</td>\n",
       "      <td>1</td>\n",
       "      <td>9.5973</td>\n",
       "      <td>1</td>\n",
       "      <td>/storage/astro2/phrdhx/eleanor-lite/s0001/0000...</td>\n",
       "    </tr>\n",
       "    <tr>\n",
       "      <th>3</th>\n",
       "      <td>tesslcs_sector_1_104/2_min_cadence_targets/tes...</td>\n",
       "      <td>312.316831</td>\n",
       "      <td>-41.644755</td>\n",
       "      <td>389450601</td>\n",
       "      <td>1</td>\n",
       "      <td>1</td>\n",
       "      <td>1</td>\n",
       "      <td>10.1857</td>\n",
       "      <td>1</td>\n",
       "      <td>/storage/astro2/phrdhx/eleanor-lite/s0001/0000...</td>\n",
       "    </tr>\n",
       "    <tr>\n",
       "      <th>4</th>\n",
       "      <td>tesslcs_sector_1_104/2_min_cadence_targets/tes...</td>\n",
       "      <td>316.741183</td>\n",
       "      <td>-40.591502</td>\n",
       "      <td>115115510</td>\n",
       "      <td>1</td>\n",
       "      <td>1</td>\n",
       "      <td>1</td>\n",
       "      <td>8.8380</td>\n",
       "      <td>1</td>\n",
       "      <td>/storage/astro2/phrdhx/eleanor-lite/s0001/0000...</td>\n",
       "    </tr>\n",
       "  </tbody>\n",
       "</table>\n",
       "</div>"
      ],
      "text/plain": [
       "                                            Filename          RA        Dec  \\\n",
       "0  tesslcs_sector_1_104/2_min_cadence_targets/tes...  318.057138 -40.269362   \n",
       "1  tesslcs_sector_1_104/2_min_cadence_targets/tes...  312.371213 -41.711500   \n",
       "2  tesslcs_sector_1_104/2_min_cadence_targets/tes...  318.093446 -41.931732   \n",
       "3  tesslcs_sector_1_104/2_min_cadence_targets/tes...  312.316831 -41.644755   \n",
       "4  tesslcs_sector_1_104/2_min_cadence_targets/tes...  316.741183 -40.591502   \n",
       "\n",
       "      TIC_ID  Sector  Camera  CCD  Magnitude  Sector_leading_zeros  \\\n",
       "0  159670453       1       1    1     5.4117                     1   \n",
       "1  389450629       1       1    1     7.8065                     1   \n",
       "2  159671133       1       1    1     9.5973                     1   \n",
       "3  389450601       1       1    1    10.1857                     1   \n",
       "4  115115510       1       1    1     8.8380                     1   \n",
       "\n",
       "                                            new_path  \n",
       "0  /storage/astro2/phrdhx/eleanor-lite/s0001/0000...  \n",
       "1  /storage/astro2/phrdhx/eleanor-lite/s0001/0000...  \n",
       "2  /storage/astro2/phrdhx/eleanor-lite/s0001/0000...  \n",
       "3  /storage/astro2/phrdhx/eleanor-lite/s0001/0000...  \n",
       "4  /storage/astro2/phrdhx/eleanor-lite/s0001/0000...  "
      ]
     },
     "execution_count": 9,
     "metadata": {},
     "output_type": "execute_result"
    }
   ],
   "source": [
    "s21 = lookup[lookup.Sector == 1]\n",
    "s21.head()"
   ]
  },
  {
   "cell_type": "code",
   "execution_count": 10,
   "id": "ae80f5eb-ce1e-402e-8f9e-ae6b676b35cb",
   "metadata": {},
   "outputs": [
    {
     "data": {
      "text/plain": [
       "286208"
      ]
     },
     "execution_count": 10,
     "metadata": {},
     "output_type": "execute_result"
    }
   ],
   "source": [
    "len(s21)"
   ]
  },
  {
   "cell_type": "markdown",
   "id": "5135d25b-f8cd-40fc-9c64-62878499152b",
   "metadata": {},
   "source": [
    "I need to know how many TICs were not in the old sector target lists"
   ]
  },
  {
   "cell_type": "code",
   "execution_count": null,
   "id": "901c102e-e007-4a4d-9eb9-78324612bfff",
   "metadata": {},
   "outputs": [],
   "source": []
  },
  {
   "cell_type": "markdown",
   "id": "9122dac3-dae3-485d-bc48-128fdf3c886d",
   "metadata": {},
   "source": [
    "---"
   ]
  },
  {
   "cell_type": "markdown",
   "id": "a2000941-d83c-4faa-a143-34a98b4b3efb",
   "metadata": {},
   "source": [
    "## Part 3: Getting Project TIC IDs from Catalog\n",
    "- Using the TIC catalogue, I want to create file paths for the TICs that did not exist in the old `project_lookup.csv` file."
   ]
  },
  {
   "cell_type": "code",
   "execution_count": 4,
   "id": "92af1403-329e-4559-811c-128cd9b2c984",
   "metadata": {},
   "outputs": [],
   "source": [
    "import pandas as pd"
   ]
  },
  {
   "cell_type": "markdown",
   "id": "3d1389ff-585c-4df8-8b41-6a1548a34fd5",
   "metadata": {},
   "source": [
    "## Import TIC Catalog for stars up to 13th mag"
   ]
  },
  {
   "cell_type": "code",
   "execution_count": 11,
   "id": "57b106db-1e15-461b-abab-44e20e2e32cb",
   "metadata": {},
   "outputs": [
    {
     "data": {
      "text/html": [
       "<div>\n",
       "<style scoped>\n",
       "    .dataframe tbody tr th:only-of-type {\n",
       "        vertical-align: middle;\n",
       "    }\n",
       "\n",
       "    .dataframe tbody tr th {\n",
       "        vertical-align: top;\n",
       "    }\n",
       "\n",
       "    .dataframe thead th {\n",
       "        text-align: right;\n",
       "    }\n",
       "</style>\n",
       "<table border=\"1\" class=\"dataframe\">\n",
       "  <thead>\n",
       "    <tr style=\"text-align: right;\">\n",
       "      <th></th>\n",
       "      <th>tic_id</th>\n",
       "      <th>Tmag</th>\n",
       "    </tr>\n",
       "  </thead>\n",
       "  <tbody>\n",
       "    <tr>\n",
       "      <th>0</th>\n",
       "      <td>269273552</td>\n",
       "      <td>-1.745</td>\n",
       "    </tr>\n",
       "    <tr>\n",
       "      <th>1</th>\n",
       "      <td>175934060</td>\n",
       "      <td>-1.679</td>\n",
       "    </tr>\n",
       "    <tr>\n",
       "      <th>2</th>\n",
       "      <td>459832522</td>\n",
       "      <td>-1.254</td>\n",
       "    </tr>\n",
       "    <tr>\n",
       "      <th>3</th>\n",
       "      <td>245873777</td>\n",
       "      <td>-1.200</td>\n",
       "    </tr>\n",
       "    <tr>\n",
       "      <th>4</th>\n",
       "      <td>272314138</td>\n",
       "      <td>-1.043</td>\n",
       "    </tr>\n",
       "  </tbody>\n",
       "</table>\n",
       "</div>"
      ],
      "text/plain": [
       "      tic_id   Tmag\n",
       "0  269273552 -1.745\n",
       "1  175934060 -1.679\n",
       "2  459832522 -1.254\n",
       "3  245873777 -1.200\n",
       "4  272314138 -1.043"
      ]
     },
     "execution_count": 11,
     "metadata": {},
     "output_type": "execute_result"
    }
   ],
   "source": [
    "tic = pd.read_csv('../../tic.txt',sep='\\t')\n",
    "tic.head()"
   ]
  },
  {
   "cell_type": "code",
   "execution_count": 9,
   "id": "febb1b08-b9cb-4f3f-a0f7-04dda5d5a0b9",
   "metadata": {},
   "outputs": [
    {
     "name": "stderr",
     "output_type": "stream",
     "text": [
      "/home/astro/phrdhx/.local/lib/python3.7/site-packages/IPython/core/interactiveshell.py:3417: DtypeWarning: Columns (0,1,2) have mixed types.Specify dtype option on import or set low_memory=False.\n",
      "  exec(code_obj, self.user_global_ns, self.user_ns)\n"
     ]
    }
   ],
   "source": [
    "# s1 = pd.read_csv('target_lists/s0001.csv',header=None,names=['TIC_ID','RA','DEC'])\n",
    "# s2 = pd.read_csv('target_lists/s0002.csv',header=None,names=['TIC_ID','RA','DEC'])\n",
    "# s3 = pd.read_csv('target_lists/s0003.csv',header=None,names=['TIC_ID','RA','DEC'])\n",
    "# s4 = pd.read_csv('target_lists/s0004.csv',header=None,names=['TIC_ID','RA','DEC'])\n",
    "# s5 = pd.read_csv('target_lists/s0005.csv',header=None,names=['TIC_ID','RA','DEC'])\n",
    "# s6 = pd.read_csv('target_lists/s0006.csv',header=None,names=['TIC_ID','RA','DEC'])\n",
    "# s7 = pd.read_csv('target_lists/s0007.csv',header=None,names=['TIC_ID','RA','DEC'])\n",
    "s8 = pd.read_csv('../../target_lists/s0008.csv',header=None,names=['TIC_ID','RA','DEC'])"
   ]
  },
  {
   "cell_type": "markdown",
   "id": "a188e6c6-0954-48d8-8c4e-dc402f9de3ee",
   "metadata": {},
   "source": [
    "#### This gives all the TIC IDs from each sector of the `eleanor-lite` data that are in the TIC catalog. They do _not_ include the data from the old lookup that still exist."
   ]
  },
  {
   "cell_type": "code",
   "execution_count": 12,
   "id": "8d80f02a-0109-49dc-b9d9-d5f831b70e87",
   "metadata": {},
   "outputs": [],
   "source": [
    "# s1_project = tic[tic.tic_id.isin(s1.TIC_ID)] \n",
    "# s2_project = tic[tic.tic_id.isin(s2.TIC_ID)]\n",
    "# s3_project = tic[tic.tic_id.isin(s3.TIC_ID)]\n",
    "# s4_project = tic[tic.tic_id.isin(s4.TIC_ID)]\n",
    "# s5_project = tic[tic.tic_id.isin(s5.TIC_ID)]\n",
    "# s6_project = tic[tic.tic_id.isin(s6.TIC_ID)]\n",
    "# s7_project = tic[tic.tic_id.isin(s7.TIC_ID)]\n",
    "s8_project = tic[tic.tic_id.isin(s8.TIC_ID)]\n"
   ]
  },
  {
   "cell_type": "code",
   "execution_count": 34,
   "id": "f5080be4-85d0-4719-b094-05229a0eaf35",
   "metadata": {},
   "outputs": [],
   "source": [
    "old = pd.read_csv('project_lookup.csv')\n"
   ]
  },
  {
   "cell_type": "code",
   "execution_count": 52,
   "id": "068ce63f-0230-45ae-b1db-2702e7b27863",
   "metadata": {},
   "outputs": [
    {
     "data": {
      "text/html": [
       "<div>\n",
       "<style scoped>\n",
       "    .dataframe tbody tr th:only-of-type {\n",
       "        vertical-align: middle;\n",
       "    }\n",
       "\n",
       "    .dataframe tbody tr th {\n",
       "        vertical-align: top;\n",
       "    }\n",
       "\n",
       "    .dataframe thead th {\n",
       "        text-align: right;\n",
       "    }\n",
       "</style>\n",
       "<table border=\"1\" class=\"dataframe\">\n",
       "  <thead>\n",
       "    <tr style=\"text-align: right;\">\n",
       "      <th></th>\n",
       "      <th>Unnamed: 0</th>\n",
       "      <th>Unnamed: 0.1</th>\n",
       "      <th>Unnamed: 0.1.1</th>\n",
       "      <th>Unnamed: 0.1.1.1</th>\n",
       "      <th>Filename</th>\n",
       "      <th>RA</th>\n",
       "      <th>Dec</th>\n",
       "      <th>TIC_ID</th>\n",
       "      <th>Sector</th>\n",
       "      <th>Camera</th>\n",
       "      <th>CCD</th>\n",
       "      <th>Magnitude</th>\n",
       "      <th>Sector_leading_zeros</th>\n",
       "      <th>new_path</th>\n",
       "    </tr>\n",
       "  </thead>\n",
       "  <tbody>\n",
       "    <tr>\n",
       "      <th>1936547</th>\n",
       "      <td>1936547</td>\n",
       "      <td>1936547</td>\n",
       "      <td>8148314</td>\n",
       "      <td>0</td>\n",
       "      <td>tesslcs_sector_7_104/2_min_cadence_targets/tes...</td>\n",
       "      <td>101.978718</td>\n",
       "      <td>-27.145716</td>\n",
       "      <td>172929247</td>\n",
       "      <td>7</td>\n",
       "      <td>2</td>\n",
       "      <td>1</td>\n",
       "      <td>11.833300</td>\n",
       "      <td>7</td>\n",
       "      <td>/storage/astro2/phrdhx/eleanor-lite/s0007/0000...</td>\n",
       "    </tr>\n",
       "    <tr>\n",
       "      <th>1936548</th>\n",
       "      <td>1936548</td>\n",
       "      <td>1936548</td>\n",
       "      <td>8148315</td>\n",
       "      <td>1</td>\n",
       "      <td>tesslcs_sector_7_104/2_min_cadence_targets/tes...</td>\n",
       "      <td>98.434691</td>\n",
       "      <td>-27.903746</td>\n",
       "      <td>172192984</td>\n",
       "      <td>7</td>\n",
       "      <td>2</td>\n",
       "      <td>1</td>\n",
       "      <td>10.769400</td>\n",
       "      <td>7</td>\n",
       "      <td>/storage/astro2/phrdhx/eleanor-lite/s0007/0000...</td>\n",
       "    </tr>\n",
       "    <tr>\n",
       "      <th>1936549</th>\n",
       "      <td>1936549</td>\n",
       "      <td>1936549</td>\n",
       "      <td>8148317</td>\n",
       "      <td>3</td>\n",
       "      <td>tesslcs_sector_7_104/2_min_cadence_targets/tes...</td>\n",
       "      <td>126.193348</td>\n",
       "      <td>-14.070762</td>\n",
       "      <td>409735202</td>\n",
       "      <td>7</td>\n",
       "      <td>2</td>\n",
       "      <td>3</td>\n",
       "      <td>10.500300</td>\n",
       "      <td>7</td>\n",
       "      <td>/storage/astro2/phrdhx/eleanor-lite/s0007/0000...</td>\n",
       "    </tr>\n",
       "    <tr>\n",
       "      <th>1936550</th>\n",
       "      <td>1936550</td>\n",
       "      <td>1936550</td>\n",
       "      <td>8148320</td>\n",
       "      <td>6</td>\n",
       "      <td>tesslcs_sector_7_104/2_min_cadence_targets/tes...</td>\n",
       "      <td>100.072854</td>\n",
       "      <td>-22.770491</td>\n",
       "      <td>48609355</td>\n",
       "      <td>7</td>\n",
       "      <td>2</td>\n",
       "      <td>1</td>\n",
       "      <td>8.173400</td>\n",
       "      <td>7</td>\n",
       "      <td>/storage/astro2/phrdhx/eleanor-lite/s0007/0000...</td>\n",
       "    </tr>\n",
       "    <tr>\n",
       "      <th>1936551</th>\n",
       "      <td>1936551</td>\n",
       "      <td>1936551</td>\n",
       "      <td>8148321</td>\n",
       "      <td>7</td>\n",
       "      <td>tesslcs_sector_7_104/2_min_cadence_targets/tes...</td>\n",
       "      <td>129.805157</td>\n",
       "      <td>7.573233</td>\n",
       "      <td>458680694</td>\n",
       "      <td>7</td>\n",
       "      <td>1</td>\n",
       "      <td>3</td>\n",
       "      <td>6.045500</td>\n",
       "      <td>7</td>\n",
       "      <td>/storage/astro2/phrdhx/eleanor-lite/s0007/0000...</td>\n",
       "    </tr>\n",
       "    <tr>\n",
       "      <th>...</th>\n",
       "      <td>...</td>\n",
       "      <td>...</td>\n",
       "      <td>...</td>\n",
       "      <td>...</td>\n",
       "      <td>...</td>\n",
       "      <td>...</td>\n",
       "      <td>...</td>\n",
       "      <td>...</td>\n",
       "      <td>...</td>\n",
       "      <td>...</td>\n",
       "      <td>...</td>\n",
       "      <td>...</td>\n",
       "      <td>...</td>\n",
       "      <td>...</td>\n",
       "    </tr>\n",
       "    <tr>\n",
       "      <th>2796904</th>\n",
       "      <td>2796904</td>\n",
       "      <td>2796904</td>\n",
       "      <td>12142374</td>\n",
       "      <td>3994060</td>\n",
       "      <td>tesslcs_sector_7_104/tesslcs_tmag_9_10/tesslc_...</td>\n",
       "      <td>105.956329</td>\n",
       "      <td>-21.191585</td>\n",
       "      <td>80710138</td>\n",
       "      <td>7</td>\n",
       "      <td>2</td>\n",
       "      <td>1</td>\n",
       "      <td>9.826899</td>\n",
       "      <td>7</td>\n",
       "      <td>/storage/astro2/phrdhx/eleanor-lite/s0007/0000...</td>\n",
       "    </tr>\n",
       "    <tr>\n",
       "      <th>2796905</th>\n",
       "      <td>2796905</td>\n",
       "      <td>2796905</td>\n",
       "      <td>12142375</td>\n",
       "      <td>3994061</td>\n",
       "      <td>tesslcs_sector_7_104/tesslcs_tmag_9_10/tesslc_...</td>\n",
       "      <td>108.221134</td>\n",
       "      <td>-21.013277</td>\n",
       "      <td>99508260</td>\n",
       "      <td>7</td>\n",
       "      <td>2</td>\n",
       "      <td>1</td>\n",
       "      <td>9.360800</td>\n",
       "      <td>7</td>\n",
       "      <td>/storage/astro2/phrdhx/eleanor-lite/s0007/0000...</td>\n",
       "    </tr>\n",
       "    <tr>\n",
       "      <th>2796906</th>\n",
       "      <td>2796906</td>\n",
       "      <td>2796906</td>\n",
       "      <td>12142376</td>\n",
       "      <td>3994062</td>\n",
       "      <td>tesslcs_sector_7_104/tesslcs_tmag_9_10/tesslc_...</td>\n",
       "      <td>112.508601</td>\n",
       "      <td>-20.151139</td>\n",
       "      <td>5223004</td>\n",
       "      <td>7</td>\n",
       "      <td>2</td>\n",
       "      <td>4</td>\n",
       "      <td>9.842490</td>\n",
       "      <td>7</td>\n",
       "      <td>/storage/astro2/phrdhx/eleanor-lite/s0007/0000...</td>\n",
       "    </tr>\n",
       "    <tr>\n",
       "      <th>2796907</th>\n",
       "      <td>2796907</td>\n",
       "      <td>2796907</td>\n",
       "      <td>12142377</td>\n",
       "      <td>3994063</td>\n",
       "      <td>tesslcs_sector_7_104/tesslcs_tmag_9_10/tesslc_...</td>\n",
       "      <td>113.761884</td>\n",
       "      <td>-21.426656</td>\n",
       "      <td>348598616</td>\n",
       "      <td>7</td>\n",
       "      <td>2</td>\n",
       "      <td>2</td>\n",
       "      <td>9.973210</td>\n",
       "      <td>7</td>\n",
       "      <td>/storage/astro2/phrdhx/eleanor-lite/s0007/0000...</td>\n",
       "    </tr>\n",
       "    <tr>\n",
       "      <th>2796908</th>\n",
       "      <td>2796908</td>\n",
       "      <td>2796908</td>\n",
       "      <td>12142378</td>\n",
       "      <td>3994064</td>\n",
       "      <td>tesslcs_sector_7_104/tesslcs_tmag_9_10/tesslc_...</td>\n",
       "      <td>106.687642</td>\n",
       "      <td>-21.463090</td>\n",
       "      <td>745382859</td>\n",
       "      <td>7</td>\n",
       "      <td>2</td>\n",
       "      <td>1</td>\n",
       "      <td>9.847400</td>\n",
       "      <td>7</td>\n",
       "      <td>/storage/astro2/phrdhx/eleanor-lite/s0007/0000...</td>\n",
       "    </tr>\n",
       "  </tbody>\n",
       "</table>\n",
       "<p>860362 rows × 14 columns</p>\n",
       "</div>"
      ],
      "text/plain": [
       "         Unnamed: 0  Unnamed: 0.1  Unnamed: 0.1.1  Unnamed: 0.1.1.1  \\\n",
       "1936547     1936547       1936547         8148314                 0   \n",
       "1936548     1936548       1936548         8148315                 1   \n",
       "1936549     1936549       1936549         8148317                 3   \n",
       "1936550     1936550       1936550         8148320                 6   \n",
       "1936551     1936551       1936551         8148321                 7   \n",
       "...             ...           ...             ...               ...   \n",
       "2796904     2796904       2796904        12142374           3994060   \n",
       "2796905     2796905       2796905        12142375           3994061   \n",
       "2796906     2796906       2796906        12142376           3994062   \n",
       "2796907     2796907       2796907        12142377           3994063   \n",
       "2796908     2796908       2796908        12142378           3994064   \n",
       "\n",
       "                                                  Filename          RA  \\\n",
       "1936547  tesslcs_sector_7_104/2_min_cadence_targets/tes...  101.978718   \n",
       "1936548  tesslcs_sector_7_104/2_min_cadence_targets/tes...   98.434691   \n",
       "1936549  tesslcs_sector_7_104/2_min_cadence_targets/tes...  126.193348   \n",
       "1936550  tesslcs_sector_7_104/2_min_cadence_targets/tes...  100.072854   \n",
       "1936551  tesslcs_sector_7_104/2_min_cadence_targets/tes...  129.805157   \n",
       "...                                                    ...         ...   \n",
       "2796904  tesslcs_sector_7_104/tesslcs_tmag_9_10/tesslc_...  105.956329   \n",
       "2796905  tesslcs_sector_7_104/tesslcs_tmag_9_10/tesslc_...  108.221134   \n",
       "2796906  tesslcs_sector_7_104/tesslcs_tmag_9_10/tesslc_...  112.508601   \n",
       "2796907  tesslcs_sector_7_104/tesslcs_tmag_9_10/tesslc_...  113.761884   \n",
       "2796908  tesslcs_sector_7_104/tesslcs_tmag_9_10/tesslc_...  106.687642   \n",
       "\n",
       "               Dec     TIC_ID  Sector  Camera  CCD  Magnitude  \\\n",
       "1936547 -27.145716  172929247       7       2    1  11.833300   \n",
       "1936548 -27.903746  172192984       7       2    1  10.769400   \n",
       "1936549 -14.070762  409735202       7       2    3  10.500300   \n",
       "1936550 -22.770491   48609355       7       2    1   8.173400   \n",
       "1936551   7.573233  458680694       7       1    3   6.045500   \n",
       "...            ...        ...     ...     ...  ...        ...   \n",
       "2796904 -21.191585   80710138       7       2    1   9.826899   \n",
       "2796905 -21.013277   99508260       7       2    1   9.360800   \n",
       "2796906 -20.151139    5223004       7       2    4   9.842490   \n",
       "2796907 -21.426656  348598616       7       2    2   9.973210   \n",
       "2796908 -21.463090  745382859       7       2    1   9.847400   \n",
       "\n",
       "         Sector_leading_zeros  \\\n",
       "1936547                     7   \n",
       "1936548                     7   \n",
       "1936549                     7   \n",
       "1936550                     7   \n",
       "1936551                     7   \n",
       "...                       ...   \n",
       "2796904                     7   \n",
       "2796905                     7   \n",
       "2796906                     7   \n",
       "2796907                     7   \n",
       "2796908                     7   \n",
       "\n",
       "                                                  new_path  \n",
       "1936547  /storage/astro2/phrdhx/eleanor-lite/s0007/0000...  \n",
       "1936548  /storage/astro2/phrdhx/eleanor-lite/s0007/0000...  \n",
       "1936549  /storage/astro2/phrdhx/eleanor-lite/s0007/0000...  \n",
       "1936550  /storage/astro2/phrdhx/eleanor-lite/s0007/0000...  \n",
       "1936551  /storage/astro2/phrdhx/eleanor-lite/s0007/0000...  \n",
       "...                                                    ...  \n",
       "2796904  /storage/astro2/phrdhx/eleanor-lite/s0007/0000...  \n",
       "2796905  /storage/astro2/phrdhx/eleanor-lite/s0007/0000...  \n",
       "2796906  /storage/astro2/phrdhx/eleanor-lite/s0007/0000...  \n",
       "2796907  /storage/astro2/phrdhx/eleanor-lite/s0007/0000...  \n",
       "2796908  /storage/astro2/phrdhx/eleanor-lite/s0007/0000...  \n",
       "\n",
       "[860362 rows x 14 columns]"
      ]
     },
     "execution_count": 52,
     "metadata": {},
     "output_type": "execute_result"
    }
   ],
   "source": [
    "old[old.Sector == 7]"
   ]
  },
  {
   "cell_type": "code",
   "execution_count": 57,
   "id": "4edd28ea-c7b9-466e-9fc4-b854618228bf",
   "metadata": {},
   "outputs": [
    {
     "name": "stdout",
     "output_type": "stream",
     "text": [
      "1.0039970930232558\n",
      "0.9652264246947083\n",
      "0.9463078291814947\n",
      "0.9621716981833657\n",
      "0.9443494236378088\n",
      "0.9893406926067172\n",
      "1.0026035552476749\n"
     ]
    }
   ],
   "source": [
    "print(len(s1_project)/len(old[old.Sector == 1])*100)\n",
    "print(len(s2_project)/len(old[old.Sector == 2])*100)\n",
    "print(len(s3_project)/len(old[old.Sector == 3])*100)\n",
    "print(len(s4_project)/len(old[old.Sector == 4])*100)\n",
    "print(len(s5_project)/len(old[old.Sector == 5])*100)\n",
    "print(len(s6_project)/len(old[old.Sector == 6])*100)\n",
    "print(len(s7_project)/len(old[old.Sector == 7]))"
   ]
  },
  {
   "cell_type": "markdown",
   "id": "eaba3566-3dac-4f33-af80-599d4094fbb4",
   "metadata": {},
   "source": [
    "---"
   ]
  },
  {
   "cell_type": "markdown",
   "id": "e284d70d-45b9-4ac4-94da-9246b53c190e",
   "metadata": {},
   "source": [
    "### Part 3.5: add paths to new project lightcurves\n",
    "- Note: I did not need to do this for S1-7, because of the download scripts.\n",
    "- S8 needs a bit of work because the download script is out, but the target list isn't.\n",
    "Step 1: Add leading zeroes"
   ]
  },
  {
   "cell_type": "code",
   "execution_count": 14,
   "id": "a0937a69-f449-458e-baa0-a405a88f361a",
   "metadata": {},
   "outputs": [
    {
     "name": "stderr",
     "output_type": "stream",
     "text": [
      "/home/astro/phrdhx/.local/lib/python3.7/site-packages/ipykernel_launcher.py:8: SettingWithCopyWarning: \n",
      "A value is trying to be set on a copy of a slice from a DataFrame.\n",
      "Try using .loc[row_indexer,col_indexer] = value instead\n",
      "\n",
      "See the caveats in the documentation: https://pandas.pydata.org/pandas-docs/stable/user_guide/indexing.html#returning-a-view-versus-a-copy\n",
      "  \n"
     ]
    }
   ],
   "source": [
    "# s1_project['tic_leading_zeroes'] = s1_project.tic_id.astype(str).str.zfill(16)\n",
    "# s2_project['tic_leading_zeroes'] = s2_project.tic_id.astype(str).str.zfill(16)\n",
    "# s3_project['tic_leading_zeroes'] = s3_project.tic_id.astype(str).str.zfill(16)\n",
    "# s4_project['tic_leading_zeroes'] = s4_project.tic_id.astype(str).str.zfill(16)\n",
    "# s5_project['tic_leading_zeroes'] = s5_project.tic_id.astype(str).str.zfill(16)\n",
    "# s6_project['tic_leading_zeroes'] = s6_project.tic_id.astype(str).str.zfill(16)\n",
    "# s7_project['tic_leading_zeroes'] = s7_project.tic_id.astype(str).str.zfill(16)\n",
    "s8_project['tic_leading_zeroes'] = s8_project.tic_id.astype(str).str.zfill(16)"
   ]
  },
  {
   "cell_type": "markdown",
   "id": "496c5efe-18ac-4eed-be7e-0bd096115ef5",
   "metadata": {},
   "source": [
    "Step 2: Make the new paths now"
   ]
  },
  {
   "cell_type": "code",
   "execution_count": null,
   "id": "0946cfa1-5b7f-4fc3-a7f9-f07bfd9e0a3e",
   "metadata": {},
   "outputs": [],
   "source": []
  },
  {
   "cell_type": "code",
   "execution_count": 9,
   "id": "711b7730-27cb-492e-92cd-ab59439147d5",
   "metadata": {},
   "outputs": [
    {
     "name": "stderr",
     "output_type": "stream",
     "text": [
      "/home/astro/phrdhx/.local/lib/python3.7/site-packages/ipykernel_launcher.py:6: SettingWithCopyWarning: \n",
      "A value is trying to be set on a copy of a slice from a DataFrame.\n",
      "Try using .loc[row_indexer,col_indexer] = value instead\n",
      "\n",
      "See the caveats in the documentation: https://pandas.pydata.org/pandas-docs/stable/user_guide/indexing.html#returning-a-view-versus-a-copy\n",
      "  \n",
      "/home/astro/phrdhx/.local/lib/python3.7/site-packages/ipykernel_launcher.py:10: SettingWithCopyWarning: \n",
      "A value is trying to be set on a copy of a slice from a DataFrame.\n",
      "Try using .loc[row_indexer,col_indexer] = value instead\n",
      "\n",
      "See the caveats in the documentation: https://pandas.pydata.org/pandas-docs/stable/user_guide/indexing.html#returning-a-view-versus-a-copy\n",
      "  # Remove the CWD from sys.path while we load stuff.\n"
     ]
    }
   ],
   "source": [
    "s1_project['new_path'] = (\n",
    "    's0001' + '/' +\n",
    "    s1_project['tic_leading_zeroes'].str[0:4] + '/' +\n",
    "    s1_project['tic_leading_zeroes'].str[4:8] + '/' +\n",
    "    s1_project['tic_leading_zeroes'].str[8:12] + '/' +\n",
    "    s1_project['tic_leading_zeroes'].str[12:16] + '/' + 'hlsp_gsfc-eleanor-lite_tess_ffi_s' + 's0001' + '-' + s1_project['tic_leading_zeroes'] + '_tess_v1.0_lc.fits'\n",
    ") \n",
    "\n",
    "common_string = '/storage/astro2/phrdhx/eleanor-lite/'\n",
    "s1_project['new_path'] = common_string + s1_project['new_path']"
   ]
  },
  {
   "cell_type": "code",
   "execution_count": 10,
   "id": "7cba9e37-8957-4dc1-9e5e-07bf25f42add",
   "metadata": {
    "tags": []
   },
   "outputs": [
    {
     "name": "stderr",
     "output_type": "stream",
     "text": [
      "/home/astro/phrdhx/.local/lib/python3.7/site-packages/ipykernel_launcher.py:6: SettingWithCopyWarning: \n",
      "A value is trying to be set on a copy of a slice from a DataFrame.\n",
      "Try using .loc[row_indexer,col_indexer] = value instead\n",
      "\n",
      "See the caveats in the documentation: https://pandas.pydata.org/pandas-docs/stable/user_guide/indexing.html#returning-a-view-versus-a-copy\n",
      "  \n",
      "/home/astro/phrdhx/.local/lib/python3.7/site-packages/ipykernel_launcher.py:10: SettingWithCopyWarning: \n",
      "A value is trying to be set on a copy of a slice from a DataFrame.\n",
      "Try using .loc[row_indexer,col_indexer] = value instead\n",
      "\n",
      "See the caveats in the documentation: https://pandas.pydata.org/pandas-docs/stable/user_guide/indexing.html#returning-a-view-versus-a-copy\n",
      "  # Remove the CWD from sys.path while we load stuff.\n"
     ]
    }
   ],
   "source": [
    "s2_project['new_path'] = (\n",
    "    's0002' + '/' +\n",
    "    s2_project['tic_leading_zeroes'].str[0:4] + '/' +\n",
    "    s2_project['tic_leading_zeroes'].str[4:8] + '/' +\n",
    "    s2_project['tic_leading_zeroes'].str[8:12] + '/' +\n",
    "    s2_project['tic_leading_zeroes'].str[12:16] + '/' + 'hlsp_gsfc-eleanor-lite_tess_ffi_s' + 's0002' + '-' + s2_project['tic_leading_zeroes'] + '_tess_v1.0_lc.fits'\n",
    ") \n",
    "\n",
    "common_string = '/storage/astro2/phrdhx/eleanor-lite/'\n",
    "s2_project['new_path'] = common_string + s2_project['new_path']"
   ]
  },
  {
   "cell_type": "code",
   "execution_count": 11,
   "id": "35878fba-a143-4c3c-8d87-f03b6dbacf56",
   "metadata": {},
   "outputs": [
    {
     "name": "stderr",
     "output_type": "stream",
     "text": [
      "/home/astro/phrdhx/.local/lib/python3.7/site-packages/ipykernel_launcher.py:6: SettingWithCopyWarning: \n",
      "A value is trying to be set on a copy of a slice from a DataFrame.\n",
      "Try using .loc[row_indexer,col_indexer] = value instead\n",
      "\n",
      "See the caveats in the documentation: https://pandas.pydata.org/pandas-docs/stable/user_guide/indexing.html#returning-a-view-versus-a-copy\n",
      "  \n",
      "/home/astro/phrdhx/.local/lib/python3.7/site-packages/ipykernel_launcher.py:10: SettingWithCopyWarning: \n",
      "A value is trying to be set on a copy of a slice from a DataFrame.\n",
      "Try using .loc[row_indexer,col_indexer] = value instead\n",
      "\n",
      "See the caveats in the documentation: https://pandas.pydata.org/pandas-docs/stable/user_guide/indexing.html#returning-a-view-versus-a-copy\n",
      "  # Remove the CWD from sys.path while we load stuff.\n"
     ]
    }
   ],
   "source": [
    "s3_project['new_path'] = (\n",
    "    's0003' + '/' +\n",
    "    s3_project['tic_leading_zeroes'].str[0:4] + '/' +\n",
    "    s3_project['tic_leading_zeroes'].str[4:8] + '/' +\n",
    "    s3_project['tic_leading_zeroes'].str[8:12] + '/' +\n",
    "    s3_project['tic_leading_zeroes'].str[12:16] + '/' + 'hlsp_gsfc-eleanor-lite_tess_ffi_s' + 's0003' + '-' + s3_project['tic_leading_zeroes'] + '_tess_v1.0_lc.fits'\n",
    ") \n",
    "\n",
    "common_string = '/storage/astro2/phrdhx/eleanor-lite/'\n",
    "s3_project['new_path'] = common_string + s3_project['new_path']"
   ]
  },
  {
   "cell_type": "code",
   "execution_count": 12,
   "id": "d77678ab-f32c-4bbe-b3a1-fc1e81ac9fd6",
   "metadata": {},
   "outputs": [
    {
     "name": "stderr",
     "output_type": "stream",
     "text": [
      "/home/astro/phrdhx/.local/lib/python3.7/site-packages/ipykernel_launcher.py:6: SettingWithCopyWarning: \n",
      "A value is trying to be set on a copy of a slice from a DataFrame.\n",
      "Try using .loc[row_indexer,col_indexer] = value instead\n",
      "\n",
      "See the caveats in the documentation: https://pandas.pydata.org/pandas-docs/stable/user_guide/indexing.html#returning-a-view-versus-a-copy\n",
      "  \n",
      "/home/astro/phrdhx/.local/lib/python3.7/site-packages/ipykernel_launcher.py:10: SettingWithCopyWarning: \n",
      "A value is trying to be set on a copy of a slice from a DataFrame.\n",
      "Try using .loc[row_indexer,col_indexer] = value instead\n",
      "\n",
      "See the caveats in the documentation: https://pandas.pydata.org/pandas-docs/stable/user_guide/indexing.html#returning-a-view-versus-a-copy\n",
      "  # Remove the CWD from sys.path while we load stuff.\n"
     ]
    }
   ],
   "source": [
    "s4_project['new_path'] = (\n",
    "    's0004' + '/' +\n",
    "    s4_project['tic_leading_zeroes'].str[0:4] + '/' +\n",
    "    s4_project['tic_leading_zeroes'].str[4:8] + '/' +\n",
    "    s4_project['tic_leading_zeroes'].str[8:12] + '/' +\n",
    "    s4_project['tic_leading_zeroes'].str[12:16] + '/' + 'hlsp_gsfc-eleanor-lite_tess_ffi_s' + 's0004' + '-' + s4_project['tic_leading_zeroes'] + '_tess_v1.0_lc.fits'\n",
    ") \n",
    "\n",
    "common_string = '/storage/astro2/phrdhx/eleanor-lite/'\n",
    "s4_project['new_path'] = common_string + s4_project['new_path']"
   ]
  },
  {
   "cell_type": "code",
   "execution_count": 13,
   "id": "e666ccf0-a44c-499c-b067-bd5ed4ac3d00",
   "metadata": {},
   "outputs": [
    {
     "name": "stderr",
     "output_type": "stream",
     "text": [
      "/home/astro/phrdhx/.local/lib/python3.7/site-packages/ipykernel_launcher.py:6: SettingWithCopyWarning: \n",
      "A value is trying to be set on a copy of a slice from a DataFrame.\n",
      "Try using .loc[row_indexer,col_indexer] = value instead\n",
      "\n",
      "See the caveats in the documentation: https://pandas.pydata.org/pandas-docs/stable/user_guide/indexing.html#returning-a-view-versus-a-copy\n",
      "  \n",
      "/home/astro/phrdhx/.local/lib/python3.7/site-packages/ipykernel_launcher.py:10: SettingWithCopyWarning: \n",
      "A value is trying to be set on a copy of a slice from a DataFrame.\n",
      "Try using .loc[row_indexer,col_indexer] = value instead\n",
      "\n",
      "See the caveats in the documentation: https://pandas.pydata.org/pandas-docs/stable/user_guide/indexing.html#returning-a-view-versus-a-copy\n",
      "  # Remove the CWD from sys.path while we load stuff.\n"
     ]
    }
   ],
   "source": [
    "s5_project['new_path'] = (\n",
    "    's0005' + '/' +\n",
    "    s5_project['tic_leading_zeroes'].str[0:4] + '/' +\n",
    "    s5_project['tic_leading_zeroes'].str[4:8] + '/' +\n",
    "    s5_project['tic_leading_zeroes'].str[8:12] + '/' +\n",
    "    s5_project['tic_leading_zeroes'].str[12:16] + '/' + 'hlsp_gsfc-eleanor-lite_tess_ffi_s' + 's0005' + '-' + s5_project['tic_leading_zeroes'] + '_tess_v1.0_lc.fits'\n",
    ") \n",
    "\n",
    "common_string = '/storage/astro2/phrdhx/eleanor-lite/'\n",
    "s5_project['new_path'] = common_string + s5_project['new_path']"
   ]
  },
  {
   "cell_type": "code",
   "execution_count": 14,
   "id": "e4f5cb3f-16dc-49b2-b71e-5d2feba59226",
   "metadata": {},
   "outputs": [
    {
     "name": "stderr",
     "output_type": "stream",
     "text": [
      "/home/astro/phrdhx/.local/lib/python3.7/site-packages/ipykernel_launcher.py:6: SettingWithCopyWarning: \n",
      "A value is trying to be set on a copy of a slice from a DataFrame.\n",
      "Try using .loc[row_indexer,col_indexer] = value instead\n",
      "\n",
      "See the caveats in the documentation: https://pandas.pydata.org/pandas-docs/stable/user_guide/indexing.html#returning-a-view-versus-a-copy\n",
      "  \n",
      "/home/astro/phrdhx/.local/lib/python3.7/site-packages/ipykernel_launcher.py:10: SettingWithCopyWarning: \n",
      "A value is trying to be set on a copy of a slice from a DataFrame.\n",
      "Try using .loc[row_indexer,col_indexer] = value instead\n",
      "\n",
      "See the caveats in the documentation: https://pandas.pydata.org/pandas-docs/stable/user_guide/indexing.html#returning-a-view-versus-a-copy\n",
      "  # Remove the CWD from sys.path while we load stuff.\n"
     ]
    }
   ],
   "source": [
    "s6_project['new_path'] = (\n",
    "    's0006' + '/' +\n",
    "    s6_project['tic_leading_zeroes'].str[0:4] + '/' +\n",
    "    s6_project['tic_leading_zeroes'].str[4:8] + '/' +\n",
    "    s6_project['tic_leading_zeroes'].str[8:12] + '/' +\n",
    "    s6_project['tic_leading_zeroes'].str[12:16] + '/' + 'hlsp_gsfc-eleanor-lite_tess_ffi_s' + 's0006' + '-' + s6_project['tic_leading_zeroes'] + '_tess_v1.0_lc.fits'\n",
    ") \n",
    "\n",
    "common_string = '/storage/astro2/phrdhx/eleanor-lite/'\n",
    "s6_project['new_path'] = common_string + s6_project['new_path']"
   ]
  },
  {
   "cell_type": "code",
   "execution_count": 15,
   "id": "927c6a97-6f45-4258-9af3-0d471bfb7f25",
   "metadata": {},
   "outputs": [
    {
     "name": "stderr",
     "output_type": "stream",
     "text": [
      "/home/astro/phrdhx/.local/lib/python3.7/site-packages/ipykernel_launcher.py:6: SettingWithCopyWarning: \n",
      "A value is trying to be set on a copy of a slice from a DataFrame.\n",
      "Try using .loc[row_indexer,col_indexer] = value instead\n",
      "\n",
      "See the caveats in the documentation: https://pandas.pydata.org/pandas-docs/stable/user_guide/indexing.html#returning-a-view-versus-a-copy\n",
      "  \n",
      "/home/astro/phrdhx/.local/lib/python3.7/site-packages/ipykernel_launcher.py:10: SettingWithCopyWarning: \n",
      "A value is trying to be set on a copy of a slice from a DataFrame.\n",
      "Try using .loc[row_indexer,col_indexer] = value instead\n",
      "\n",
      "See the caveats in the documentation: https://pandas.pydata.org/pandas-docs/stable/user_guide/indexing.html#returning-a-view-versus-a-copy\n",
      "  # Remove the CWD from sys.path while we load stuff.\n"
     ]
    }
   ],
   "source": [
    "s7_project['new_path'] = (\n",
    "    's0007' + '/' +\n",
    "    s7_project['tic_leading_zeroes'].str[0:4] + '/' +\n",
    "    s7_project['tic_leading_zeroes'].str[4:8] + '/' +\n",
    "    s7_project['tic_leading_zeroes'].str[8:12] + '/' +\n",
    "    s7_project['tic_leading_zeroes'].str[12:16] + '/' + 'hlsp_gsfc-eleanor-lite_tess_ffi_s' + 's0007' + '-' + s7_project['tic_leading_zeroes'] + '_tess_v1.0_lc.fits'\n",
    ") \n",
    "\n",
    "common_string = '/storage/astro2/phrdhx/eleanor-lite/'\n",
    "s7_project['new_path'] = common_string + s7_project['new_path']"
   ]
  },
  {
   "cell_type": "code",
   "execution_count": 15,
   "id": "81481bb0-28b2-4e80-86ec-f3d765e7b557",
   "metadata": {},
   "outputs": [
    {
     "name": "stderr",
     "output_type": "stream",
     "text": [
      "/home/astro/phrdhx/.local/lib/python3.7/site-packages/ipykernel_launcher.py:6: SettingWithCopyWarning: \n",
      "A value is trying to be set on a copy of a slice from a DataFrame.\n",
      "Try using .loc[row_indexer,col_indexer] = value instead\n",
      "\n",
      "See the caveats in the documentation: https://pandas.pydata.org/pandas-docs/stable/user_guide/indexing.html#returning-a-view-versus-a-copy\n",
      "  \n",
      "/home/astro/phrdhx/.local/lib/python3.7/site-packages/ipykernel_launcher.py:10: SettingWithCopyWarning: \n",
      "A value is trying to be set on a copy of a slice from a DataFrame.\n",
      "Try using .loc[row_indexer,col_indexer] = value instead\n",
      "\n",
      "See the caveats in the documentation: https://pandas.pydata.org/pandas-docs/stable/user_guide/indexing.html#returning-a-view-versus-a-copy\n",
      "  # Remove the CWD from sys.path while we load stuff.\n"
     ]
    }
   ],
   "source": [
    "s8_project['new_path'] = (\n",
    "    's0008' + '/' +\n",
    "    s8_project['tic_leading_zeroes'].str[0:4] + '/' +\n",
    "    s8_project['tic_leading_zeroes'].str[4:8] + '/' +\n",
    "    s8_project['tic_leading_zeroes'].str[8:12] + '/' +\n",
    "    s8_project['tic_leading_zeroes'].str[12:16] + '/' + 'hlsp_gsfc-eleanor-lite_tess_ffi_s' + 's0008' + '-' + s8_project['tic_leading_zeroes'] + '_tess_v1.0_lc.fits'\n",
    ") \n",
    "\n",
    "common_string = '/storage/astro2/phrdhx/eleanor-lite/'\n",
    "s8_project['new_path'] = common_string + s8_project['new_path']"
   ]
  },
  {
   "cell_type": "markdown",
   "id": "740e2379-9e92-4801-be80-024e48fa1365",
   "metadata": {},
   "source": [
    "Step 3: Export"
   ]
  },
  {
   "cell_type": "code",
   "execution_count": 19,
   "id": "7ede1f10-933b-4648-86f1-452b9cfedf51",
   "metadata": {},
   "outputs": [],
   "source": [
    "export_s1 = s1_project.new_path.to_list()\n",
    "output_file = 's0001.txt'\n",
    "with open(output_file, 'w') as file:\n",
    "    for i in export_s1:\n",
    "        file.write(i + '\\n')"
   ]
  },
  {
   "cell_type": "code",
   "execution_count": 20,
   "id": "9cc6dfe3-727a-481d-bdd8-190af8640130",
   "metadata": {},
   "outputs": [],
   "source": [
    "export_s2 = s2_project.new_path.to_list()\n",
    "output_file = 's0002.txt'\n",
    "with open(output_file, 'w') as file:\n",
    "    for i in export_s2:\n",
    "        file.write(i + '\\n')"
   ]
  },
  {
   "cell_type": "code",
   "execution_count": 21,
   "id": "3f1bc604-f80e-4539-868b-becebd32f504",
   "metadata": {},
   "outputs": [],
   "source": [
    "export_s3 = s3_project.new_path.to_list()\n",
    "output_file = 's0003.txt'\n",
    "with open(output_file, 'w') as file:\n",
    "    for i in export_s3:\n",
    "        file.write(i + '\\n')"
   ]
  },
  {
   "cell_type": "code",
   "execution_count": 22,
   "id": "0b1977ad-d749-4a96-8c5c-27d9f07c8554",
   "metadata": {},
   "outputs": [],
   "source": [
    "export_s4 = s4_project.new_path.to_list()\n",
    "output_file = 's0004.txt'\n",
    "with open(output_file, 'w') as file:\n",
    "    for i in export_s4:\n",
    "        file.write(i + '\\n')"
   ]
  },
  {
   "cell_type": "code",
   "execution_count": 23,
   "id": "b284e715-0c57-4abb-bc3a-8c3254396cfb",
   "metadata": {},
   "outputs": [],
   "source": [
    "export_s5 = s5_project.new_path.to_list()\n",
    "output_file = 's0005.txt'\n",
    "with open(output_file, 'w') as file:\n",
    "    for i in export_s5:\n",
    "        file.write(i + '\\n')"
   ]
  },
  {
   "cell_type": "code",
   "execution_count": 24,
   "id": "26ccb55d-3300-4452-8d1f-0d08fbab7750",
   "metadata": {},
   "outputs": [],
   "source": [
    "export_s6 = s6_project.new_path.to_list()\n",
    "output_file = 's0006.txt'\n",
    "with open(output_file, 'w') as file:\n",
    "    for i in export_s6:\n",
    "        file.write(i + '\\n')"
   ]
  },
  {
   "cell_type": "code",
   "execution_count": 25,
   "id": "252d7d1a-9bc8-45c2-b87a-e1ea93659ebd",
   "metadata": {},
   "outputs": [],
   "source": [
    "export_s7 = s7_project.new_path.to_list()\n",
    "output_file = 's0007.txt'\n",
    "with open(output_file, 'w') as file:\n",
    "    for i in export_s7:\n",
    "        file.write(i + '\\n')"
   ]
  },
  {
   "cell_type": "code",
   "execution_count": null,
   "id": "8ef9358d-8e3d-4299-9349-018f4416a8ef",
   "metadata": {},
   "outputs": [],
   "source": []
  },
  {
   "cell_type": "code",
   "execution_count": null,
   "id": "95a8e05a-437f-4adb-a8bb-0a70a3b45dbb",
   "metadata": {},
   "outputs": [],
   "source": []
  },
  {
   "cell_type": "markdown",
   "id": "6e460ee7-6834-4e54-95ec-829cbb402e22",
   "metadata": {},
   "source": [
    "## Part 4: What TICs from old download are not in `eleanor-lite`, and vice-versa?"
   ]
  },
  {
   "cell_type": "code",
   "execution_count": 164,
   "id": "c06f523f-af02-442d-94c1-bb779ba8ac6b",
   "metadata": {},
   "outputs": [],
   "source": [
    "old_s1 = old[old.Sector == 1]\n",
    "old_s2 = old[old.Sector == 2]\n",
    "old_s3 = old[old.Sector == 3]\n",
    "old_s4 = old[old.Sector == 4]\n",
    "old_s5 = old[old.Sector == 5]\n",
    "old_s6 = old[old.Sector == 6]\n",
    "old_s7 = old[old.Sector == 7]"
   ]
  },
  {
   "cell_type": "code",
   "execution_count": 182,
   "id": "39721ea8-aedc-47a7-acdf-3ed59231976c",
   "metadata": {},
   "outputs": [],
   "source": [
    "not_in_s1_project = old_s1[~old_s1.TIC_ID.isin(s1_project.tic_id)] # tics from old not in new\n",
    "not_in_old_s1 = s1_project[~s1_project.tic_id.isin(old_s1.TIC_ID)] # tics in new not in old"
   ]
  },
  {
   "cell_type": "code",
   "execution_count": 184,
   "id": "01023fec-6e62-44a8-b07e-cbefa90bb1c3",
   "metadata": {},
   "outputs": [
    {
     "data": {
      "text/html": [
       "<div>\n",
       "<style scoped>\n",
       "    .dataframe tbody tr th:only-of-type {\n",
       "        vertical-align: middle;\n",
       "    }\n",
       "\n",
       "    .dataframe tbody tr th {\n",
       "        vertical-align: top;\n",
       "    }\n",
       "\n",
       "    .dataframe thead th {\n",
       "        text-align: right;\n",
       "    }\n",
       "</style>\n",
       "<table border=\"1\" class=\"dataframe\">\n",
       "  <thead>\n",
       "    <tr style=\"text-align: right;\">\n",
       "      <th></th>\n",
       "      <th>tic_id</th>\n",
       "      <th>Tmag</th>\n",
       "    </tr>\n",
       "  </thead>\n",
       "  <tbody>\n",
       "    <tr>\n",
       "      <th>155</th>\n",
       "      <td>355789476</td>\n",
       "      <td>2.1034</td>\n",
       "    </tr>\n",
       "    <tr>\n",
       "      <th>399</th>\n",
       "      <td>237939392</td>\n",
       "      <td>2.8660</td>\n",
       "    </tr>\n",
       "    <tr>\n",
       "      <th>417</th>\n",
       "      <td>766018849</td>\n",
       "      <td>2.8941</td>\n",
       "    </tr>\n",
       "    <tr>\n",
       "      <th>493</th>\n",
       "      <td>167602316</td>\n",
       "      <td>3.0430</td>\n",
       "    </tr>\n",
       "    <tr>\n",
       "      <th>496</th>\n",
       "      <td>139267123</td>\n",
       "      <td>3.0507</td>\n",
       "    </tr>\n",
       "    <tr>\n",
       "      <th>...</th>\n",
       "      <td>...</td>\n",
       "      <td>...</td>\n",
       "    </tr>\n",
       "    <tr>\n",
       "      <th>13270406</th>\n",
       "      <td>150299381</td>\n",
       "      <td>12.9996</td>\n",
       "    </tr>\n",
       "    <tr>\n",
       "      <th>13270797</th>\n",
       "      <td>326453307</td>\n",
       "      <td>12.9996</td>\n",
       "    </tr>\n",
       "    <tr>\n",
       "      <th>13273844</th>\n",
       "      <td>237921766</td>\n",
       "      <td>12.9999</td>\n",
       "    </tr>\n",
       "    <tr>\n",
       "      <th>13274293</th>\n",
       "      <td>425951898</td>\n",
       "      <td>12.9999</td>\n",
       "    </tr>\n",
       "    <tr>\n",
       "      <th>13274565</th>\n",
       "      <td>55368716</td>\n",
       "      <td>13.0000</td>\n",
       "    </tr>\n",
       "  </tbody>\n",
       "</table>\n",
       "<p>18138 rows × 2 columns</p>\n",
       "</div>"
      ],
      "text/plain": [
       "             tic_id     Tmag\n",
       "155       355789476   2.1034\n",
       "399       237939392   2.8660\n",
       "417       766018849   2.8941\n",
       "493       167602316   3.0430\n",
       "496       139267123   3.0507\n",
       "...             ...      ...\n",
       "13270406  150299381  12.9996\n",
       "13270797  326453307  12.9996\n",
       "13273844  237921766  12.9999\n",
       "13274293  425951898  12.9999\n",
       "13274565   55368716  13.0000\n",
       "\n",
       "[18138 rows x 2 columns]"
      ]
     },
     "execution_count": 184,
     "metadata": {},
     "output_type": "execute_result"
    }
   ],
   "source": [
    "not_in_old_s1"
   ]
  },
  {
   "cell_type": "code",
   "execution_count": null,
   "id": "a39a11b2-7d52-44d0-b01d-c1652373d7f5",
   "metadata": {},
   "outputs": [
    {
     "data": {
      "text/html": [
       "<div>\n",
       "<style scoped>\n",
       "    .dataframe tbody tr th:only-of-type {\n",
       "        vertical-align: middle;\n",
       "    }\n",
       "\n",
       "    .dataframe tbody tr th {\n",
       "        vertical-align: top;\n",
       "    }\n",
       "\n",
       "    .dataframe thead th {\n",
       "        text-align: right;\n",
       "    }\n",
       "</style>\n",
       "<table border=\"1\" class=\"dataframe\">\n",
       "  <thead>\n",
       "    <tr style=\"text-align: right;\">\n",
       "      <th></th>\n",
       "      <th>Unnamed: 0</th>\n",
       "      <th>Unnamed: 0.1</th>\n",
       "      <th>Unnamed: 0.1.1</th>\n",
       "      <th>Unnamed: 0.1.1.1</th>\n",
       "      <th>Filename</th>\n",
       "      <th>RA</th>\n",
       "      <th>Dec</th>\n",
       "      <th>TIC_ID</th>\n",
       "      <th>Sector</th>\n",
       "      <th>Camera</th>\n",
       "      <th>CCD</th>\n",
       "      <th>Magnitude</th>\n",
       "      <th>Sector_leading_zeros</th>\n",
       "      <th>new_path</th>\n",
       "    </tr>\n",
       "  </thead>\n",
       "  <tbody>\n",
       "    <tr>\n",
       "      <th>286262</th>\n",
       "      <td>286262</td>\n",
       "      <td>286262</td>\n",
       "      <td>1192467</td>\n",
       "      <td>60</td>\n",
       "      <td>tesslcs_sector_2_104/2_min_cadence_targets/tes...</td>\n",
       "      <td>6.209362</td>\n",
       "      <td>-42.511040</td>\n",
       "      <td>7204855</td>\n",
       "      <td>2</td>\n",
       "      <td>2</td>\n",
       "      <td>3</td>\n",
       "      <td>8.595000</td>\n",
       "      <td>2</td>\n",
       "      <td>/storage/astro2/phrdhx/eleanor-lite/s0002/0000...</td>\n",
       "    </tr>\n",
       "    <tr>\n",
       "      <th>286264</th>\n",
       "      <td>286264</td>\n",
       "      <td>286264</td>\n",
       "      <td>1192469</td>\n",
       "      <td>62</td>\n",
       "      <td>tesslcs_sector_2_104/2_min_cadence_targets/tes...</td>\n",
       "      <td>6.257594</td>\n",
       "      <td>-42.153439</td>\n",
       "      <td>7204925</td>\n",
       "      <td>2</td>\n",
       "      <td>2</td>\n",
       "      <td>3</td>\n",
       "      <td>9.414700</td>\n",
       "      <td>2</td>\n",
       "      <td>/storage/astro2/phrdhx/eleanor-lite/s0002/0000...</td>\n",
       "    </tr>\n",
       "    <tr>\n",
       "      <th>286491</th>\n",
       "      <td>286491</td>\n",
       "      <td>286491</td>\n",
       "      <td>1192713</td>\n",
       "      <td>306</td>\n",
       "      <td>tesslcs_sector_2_104/2_min_cadence_targets/tes...</td>\n",
       "      <td>64.822631</td>\n",
       "      <td>-59.966022</td>\n",
       "      <td>38633112</td>\n",
       "      <td>2</td>\n",
       "      <td>4</td>\n",
       "      <td>1</td>\n",
       "      <td>10.352700</td>\n",
       "      <td>2</td>\n",
       "      <td>/storage/astro2/phrdhx/eleanor-lite/s0002/0000...</td>\n",
       "    </tr>\n",
       "    <tr>\n",
       "      <th>286734</th>\n",
       "      <td>286734</td>\n",
       "      <td>286734</td>\n",
       "      <td>1192968</td>\n",
       "      <td>561</td>\n",
       "      <td>tesslcs_sector_2_104/2_min_cadence_targets/tes...</td>\n",
       "      <td>356.380300</td>\n",
       "      <td>-16.172200</td>\n",
       "      <td>2760232</td>\n",
       "      <td>2</td>\n",
       "      <td>1</td>\n",
       "      <td>3</td>\n",
       "      <td>11.126000</td>\n",
       "      <td>2</td>\n",
       "      <td>/storage/astro2/phrdhx/eleanor-lite/s0002/0000...</td>\n",
       "    </tr>\n",
       "    <tr>\n",
       "      <th>286736</th>\n",
       "      <td>286736</td>\n",
       "      <td>286736</td>\n",
       "      <td>1192970</td>\n",
       "      <td>563</td>\n",
       "      <td>tesslcs_sector_2_104/2_min_cadence_targets/tes...</td>\n",
       "      <td>336.642825</td>\n",
       "      <td>-16.741955</td>\n",
       "      <td>12723528</td>\n",
       "      <td>2</td>\n",
       "      <td>1</td>\n",
       "      <td>4</td>\n",
       "      <td>4.906000</td>\n",
       "      <td>2</td>\n",
       "      <td>/storage/astro2/phrdhx/eleanor-lite/s0002/0000...</td>\n",
       "    </tr>\n",
       "    <tr>\n",
       "      <th>...</th>\n",
       "      <td>...</td>\n",
       "      <td>...</td>\n",
       "      <td>...</td>\n",
       "      <td>...</td>\n",
       "      <td>...</td>\n",
       "      <td>...</td>\n",
       "      <td>...</td>\n",
       "      <td>...</td>\n",
       "      <td>...</td>\n",
       "      <td>...</td>\n",
       "      <td>...</td>\n",
       "      <td>...</td>\n",
       "      <td>...</td>\n",
       "      <td>...</td>\n",
       "    </tr>\n",
       "    <tr>\n",
       "      <th>521874</th>\n",
       "      <td>521874</td>\n",
       "      <td>521874</td>\n",
       "      <td>2158446</td>\n",
       "      <td>966039</td>\n",
       "      <td>tesslcs_sector_2_104/tesslcs_tmag_9_10/tesslc_...</td>\n",
       "      <td>67.501414</td>\n",
       "      <td>-62.828004</td>\n",
       "      <td>38764156</td>\n",
       "      <td>2</td>\n",
       "      <td>4</td>\n",
       "      <td>1</td>\n",
       "      <td>9.771401</td>\n",
       "      <td>2</td>\n",
       "      <td>/storage/astro2/phrdhx/eleanor-lite/s0002/0000...</td>\n",
       "    </tr>\n",
       "    <tr>\n",
       "      <th>521876</th>\n",
       "      <td>521876</td>\n",
       "      <td>521876</td>\n",
       "      <td>2158448</td>\n",
       "      <td>966041</td>\n",
       "      <td>tesslcs_sector_2_104/tesslcs_tmag_9_10/tesslc_...</td>\n",
       "      <td>65.981660</td>\n",
       "      <td>-62.216553</td>\n",
       "      <td>38696769</td>\n",
       "      <td>2</td>\n",
       "      <td>4</td>\n",
       "      <td>1</td>\n",
       "      <td>9.632100</td>\n",
       "      <td>2</td>\n",
       "      <td>/storage/astro2/phrdhx/eleanor-lite/s0002/0000...</td>\n",
       "    </tr>\n",
       "    <tr>\n",
       "      <th>521879</th>\n",
       "      <td>521879</td>\n",
       "      <td>521879</td>\n",
       "      <td>2158451</td>\n",
       "      <td>966044</td>\n",
       "      <td>tesslcs_sector_2_104/tesslcs_tmag_9_10/tesslc_...</td>\n",
       "      <td>69.873176</td>\n",
       "      <td>-62.430198</td>\n",
       "      <td>38941059</td>\n",
       "      <td>2</td>\n",
       "      <td>4</td>\n",
       "      <td>1</td>\n",
       "      <td>9.902000</td>\n",
       "      <td>2</td>\n",
       "      <td>/storage/astro2/phrdhx/eleanor-lite/s0002/0000...</td>\n",
       "    </tr>\n",
       "    <tr>\n",
       "      <th>521930</th>\n",
       "      <td>521930</td>\n",
       "      <td>521930</td>\n",
       "      <td>2158502</td>\n",
       "      <td>966095</td>\n",
       "      <td>tesslcs_sector_2_104/tesslcs_tmag_9_10/tesslc_...</td>\n",
       "      <td>64.473820</td>\n",
       "      <td>-63.233232</td>\n",
       "      <td>38607156</td>\n",
       "      <td>2</td>\n",
       "      <td>4</td>\n",
       "      <td>1</td>\n",
       "      <td>9.657300</td>\n",
       "      <td>2</td>\n",
       "      <td>/storage/astro2/phrdhx/eleanor-lite/s0002/0000...</td>\n",
       "    </tr>\n",
       "    <tr>\n",
       "      <th>521987</th>\n",
       "      <td>521987</td>\n",
       "      <td>521987</td>\n",
       "      <td>2158559</td>\n",
       "      <td>966152</td>\n",
       "      <td>tesslcs_sector_2_104/tesslcs_tmag_9_10/tesslc_...</td>\n",
       "      <td>66.893687</td>\n",
       "      <td>-63.179073</td>\n",
       "      <td>38710183</td>\n",
       "      <td>2</td>\n",
       "      <td>4</td>\n",
       "      <td>1</td>\n",
       "      <td>9.878300</td>\n",
       "      <td>2</td>\n",
       "      <td>/storage/astro2/phrdhx/eleanor-lite/s0002/0000...</td>\n",
       "    </tr>\n",
       "  </tbody>\n",
       "</table>\n",
       "<p>26339 rows × 14 columns</p>\n",
       "</div>"
      ],
      "text/plain": [
       "        Unnamed: 0  Unnamed: 0.1  Unnamed: 0.1.1  Unnamed: 0.1.1.1  \\\n",
       "286262      286262        286262         1192467                60   \n",
       "286264      286264        286264         1192469                62   \n",
       "286491      286491        286491         1192713               306   \n",
       "286734      286734        286734         1192968               561   \n",
       "286736      286736        286736         1192970               563   \n",
       "...            ...           ...             ...               ...   \n",
       "521874      521874        521874         2158446            966039   \n",
       "521876      521876        521876         2158448            966041   \n",
       "521879      521879        521879         2158451            966044   \n",
       "521930      521930        521930         2158502            966095   \n",
       "521987      521987        521987         2158559            966152   \n",
       "\n",
       "                                                 Filename          RA  \\\n",
       "286262  tesslcs_sector_2_104/2_min_cadence_targets/tes...    6.209362   \n",
       "286264  tesslcs_sector_2_104/2_min_cadence_targets/tes...    6.257594   \n",
       "286491  tesslcs_sector_2_104/2_min_cadence_targets/tes...   64.822631   \n",
       "286734  tesslcs_sector_2_104/2_min_cadence_targets/tes...  356.380300   \n",
       "286736  tesslcs_sector_2_104/2_min_cadence_targets/tes...  336.642825   \n",
       "...                                                   ...         ...   \n",
       "521874  tesslcs_sector_2_104/tesslcs_tmag_9_10/tesslc_...   67.501414   \n",
       "521876  tesslcs_sector_2_104/tesslcs_tmag_9_10/tesslc_...   65.981660   \n",
       "521879  tesslcs_sector_2_104/tesslcs_tmag_9_10/tesslc_...   69.873176   \n",
       "521930  tesslcs_sector_2_104/tesslcs_tmag_9_10/tesslc_...   64.473820   \n",
       "521987  tesslcs_sector_2_104/tesslcs_tmag_9_10/tesslc_...   66.893687   \n",
       "\n",
       "              Dec    TIC_ID  Sector  Camera  CCD  Magnitude  \\\n",
       "286262 -42.511040   7204855       2       2    3   8.595000   \n",
       "286264 -42.153439   7204925       2       2    3   9.414700   \n",
       "286491 -59.966022  38633112       2       4    1  10.352700   \n",
       "286734 -16.172200   2760232       2       1    3  11.126000   \n",
       "286736 -16.741955  12723528       2       1    4   4.906000   \n",
       "...           ...       ...     ...     ...  ...        ...   \n",
       "521874 -62.828004  38764156       2       4    1   9.771401   \n",
       "521876 -62.216553  38696769       2       4    1   9.632100   \n",
       "521879 -62.430198  38941059       2       4    1   9.902000   \n",
       "521930 -63.233232  38607156       2       4    1   9.657300   \n",
       "521987 -63.179073  38710183       2       4    1   9.878300   \n",
       "\n",
       "        Sector_leading_zeros  \\\n",
       "286262                     2   \n",
       "286264                     2   \n",
       "286491                     2   \n",
       "286734                     2   \n",
       "286736                     2   \n",
       "...                      ...   \n",
       "521874                     2   \n",
       "521876                     2   \n",
       "521879                     2   \n",
       "521930                     2   \n",
       "521987                     2   \n",
       "\n",
       "                                                 new_path  \n",
       "286262  /storage/astro2/phrdhx/eleanor-lite/s0002/0000...  \n",
       "286264  /storage/astro2/phrdhx/eleanor-lite/s0002/0000...  \n",
       "286491  /storage/astro2/phrdhx/eleanor-lite/s0002/0000...  \n",
       "286734  /storage/astro2/phrdhx/eleanor-lite/s0002/0000...  \n",
       "286736  /storage/astro2/phrdhx/eleanor-lite/s0002/0000...  \n",
       "...                                                   ...  \n",
       "521874  /storage/astro2/phrdhx/eleanor-lite/s0002/0000...  \n",
       "521876  /storage/astro2/phrdhx/eleanor-lite/s0002/0000...  \n",
       "521879  /storage/astro2/phrdhx/eleanor-lite/s0002/0000...  \n",
       "521930  /storage/astro2/phrdhx/eleanor-lite/s0002/0000...  \n",
       "521987  /storage/astro2/phrdhx/eleanor-lite/s0002/0000...  \n",
       "\n",
       "[26339 rows x 14 columns]"
      ]
     },
     "execution_count": 185,
     "metadata": {},
     "output_type": "execute_result"
    }
   ],
   "source": [
    "not_in_s1_project"
   ]
  },
  {
   "cell_type": "code",
   "execution_count": null,
   "id": "57994d1d-e5c6-44d5-820b-dcb8cc045016",
   "metadata": {},
   "outputs": [
    {
     "data": {
      "text/html": [
       "<div>\n",
       "<style scoped>\n",
       "    .dataframe tbody tr th:only-of-type {\n",
       "        vertical-align: middle;\n",
       "    }\n",
       "\n",
       "    .dataframe tbody tr th {\n",
       "        vertical-align: top;\n",
       "    }\n",
       "\n",
       "    .dataframe thead th {\n",
       "        text-align: right;\n",
       "    }\n",
       "</style>\n",
       "<table border=\"1\" class=\"dataframe\">\n",
       "  <thead>\n",
       "    <tr style=\"text-align: right;\">\n",
       "      <th></th>\n",
       "      <th>Unnamed: 0</th>\n",
       "      <th>Unnamed: 0.1</th>\n",
       "      <th>Unnamed: 0.1.1</th>\n",
       "      <th>Unnamed: 0.1.1.1</th>\n",
       "      <th>Filename</th>\n",
       "      <th>RA</th>\n",
       "      <th>Dec</th>\n",
       "      <th>TIC_ID</th>\n",
       "      <th>Sector</th>\n",
       "      <th>Camera</th>\n",
       "      <th>CCD</th>\n",
       "      <th>Magnitude</th>\n",
       "      <th>Sector_leading_zeros</th>\n",
       "      <th>new_path</th>\n",
       "    </tr>\n",
       "  </thead>\n",
       "  <tbody>\n",
       "  </tbody>\n",
       "</table>\n",
       "</div>"
      ],
      "text/plain": [
       "Empty DataFrame\n",
       "Columns: [Unnamed: 0, Unnamed: 0.1, Unnamed: 0.1.1, Unnamed: 0.1.1.1, Filename, RA, Dec, TIC_ID, Sector, Camera, CCD, Magnitude, Sector_leading_zeros, new_path]\n",
       "Index: []"
      ]
     },
     "execution_count": 199,
     "metadata": {},
     "output_type": "execute_result"
    }
   ],
   "source": [
    "not_in_s2_project[not_in_s2_project.TIC_ID.isin(not_in_old_s2.tic_id)]"
   ]
  },
  {
   "cell_type": "code",
   "execution_count": 179,
   "id": "676b2eac-e302-4564-a9e6-0689e9d0ed4b",
   "metadata": {},
   "outputs": [
    {
     "data": {
      "text/plain": [
       "235840"
      ]
     },
     "execution_count": 179,
     "metadata": {},
     "output_type": "execute_result"
    }
   ],
   "source": [
    "len(old_s2)"
   ]
  },
  {
   "cell_type": "code",
   "execution_count": 178,
   "id": "e6a9fbe1-a207-419f-b55f-7ae5485c2e77",
   "metadata": {},
   "outputs": [
    {
     "data": {
      "text/plain": [
       "8201"
      ]
     },
     "execution_count": 178,
     "metadata": {},
     "output_type": "execute_result"
    }
   ],
   "source": [
    "abs(len(s2_project) - len(old_s2))"
   ]
  },
  {
   "cell_type": "markdown",
   "id": "c50bcdde-1712-4054-934a-8fc41f44594c",
   "metadata": {
    "tags": []
   },
   "source": [
    "## Part 5: Download Scripts"
   ]
  },
  {
   "cell_type": "code",
   "execution_count": 1,
   "id": "4fe7d509-1e51-401e-ac5d-cac99e945553",
   "metadata": {},
   "outputs": [],
   "source": [
    "import pandas as pd"
   ]
  },
  {
   "cell_type": "code",
   "execution_count": 2,
   "id": "8d106a1d-3018-47c8-8cb9-7c59e1b7108e",
   "metadata": {},
   "outputs": [],
   "source": [
    "with open('/storage/astro2/phrdhx/eleanor-lite-project-v2/download_scripts/hlsp_gsfc-eleanor-lite_tess_ffi_s0008_tess_v1.0_lc.sh', 'r') as file:\n",
    "    script_contents = file.readlines()"
   ]
  },
  {
   "cell_type": "code",
   "execution_count": 3,
   "id": "5d29044c-6ea3-4fae-a2be-011402149cff",
   "metadata": {},
   "outputs": [],
   "source": [
    "df = pd.DataFrame(script_contents, columns=[\"Script Lines\"])\n",
    "df['Extracted ID'] = df['Script Lines'].str.extract(r'(\\d{16})')\n",
    "df['ID'] = df['Extracted ID'].str.lstrip('0')"
   ]
  },
  {
   "cell_type": "code",
   "execution_count": 4,
   "id": "6135065d-dbb3-4e76-81e1-e739a9a69fd6",
   "metadata": {},
   "outputs": [
    {
     "data": {
      "text/html": [
       "<div>\n",
       "<style scoped>\n",
       "    .dataframe tbody tr th:only-of-type {\n",
       "        vertical-align: middle;\n",
       "    }\n",
       "\n",
       "    .dataframe tbody tr th {\n",
       "        vertical-align: top;\n",
       "    }\n",
       "\n",
       "    .dataframe thead th {\n",
       "        text-align: right;\n",
       "    }\n",
       "</style>\n",
       "<table border=\"1\" class=\"dataframe\">\n",
       "  <thead>\n",
       "    <tr style=\"text-align: right;\">\n",
       "      <th></th>\n",
       "      <th>Script Lines</th>\n",
       "      <th>Extracted ID</th>\n",
       "      <th>ID</th>\n",
       "    </tr>\n",
       "  </thead>\n",
       "  <tbody>\n",
       "    <tr>\n",
       "      <th>0</th>\n",
       "      <td>#!/bin/sh\\n</td>\n",
       "      <td>NaN</td>\n",
       "      <td>NaN</td>\n",
       "    </tr>\n",
       "    <tr>\n",
       "      <th>1</th>\n",
       "      <td>curl -f --create-dirs --output 's0008/0000/000...</td>\n",
       "      <td>0000000000766561</td>\n",
       "      <td>766561</td>\n",
       "    </tr>\n",
       "    <tr>\n",
       "      <th>2</th>\n",
       "      <td>curl -f --create-dirs --output 's0008/0000/000...</td>\n",
       "      <td>0000000000766563</td>\n",
       "      <td>766563</td>\n",
       "    </tr>\n",
       "    <tr>\n",
       "      <th>3</th>\n",
       "      <td>curl -f --create-dirs --output 's0008/0000/000...</td>\n",
       "      <td>0000000000766565</td>\n",
       "      <td>766565</td>\n",
       "    </tr>\n",
       "    <tr>\n",
       "      <th>4</th>\n",
       "      <td>curl -f --create-dirs --output 's0008/0000/000...</td>\n",
       "      <td>0000000000766568</td>\n",
       "      <td>766568</td>\n",
       "    </tr>\n",
       "  </tbody>\n",
       "</table>\n",
       "</div>"
      ],
      "text/plain": [
       "                                        Script Lines      Extracted ID      ID\n",
       "0                                        #!/bin/sh\\n               NaN     NaN\n",
       "1  curl -f --create-dirs --output 's0008/0000/000...  0000000000766561  766561\n",
       "2  curl -f --create-dirs --output 's0008/0000/000...  0000000000766563  766563\n",
       "3  curl -f --create-dirs --output 's0008/0000/000...  0000000000766565  766565\n",
       "4  curl -f --create-dirs --output 's0008/0000/000...  0000000000766568  766568"
      ]
     },
     "execution_count": 4,
     "metadata": {},
     "output_type": "execute_result"
    }
   ],
   "source": [
    "df.head()"
   ]
  },
  {
   "cell_type": "code",
   "execution_count": 5,
   "id": "b0051833-95a5-4175-a262-dcbb2620677e",
   "metadata": {},
   "outputs": [],
   "source": [
    "df.drop(0,inplace=True)"
   ]
  },
  {
   "cell_type": "code",
   "execution_count": 6,
   "id": "f20e2d95-df24-4e57-8375-42a944922d49",
   "metadata": {},
   "outputs": [],
   "source": [
    "df['ID'] = df['ID'].astype(int)"
   ]
  },
  {
   "cell_type": "code",
   "execution_count": 16,
   "id": "6eb34612-9fa9-4401-96db-f03cb66639ae",
   "metadata": {},
   "outputs": [],
   "source": [
    "to_export = df[df['ID'].isin(s8_project['tic_id'])]"
   ]
  },
  {
   "cell_type": "code",
   "execution_count": 17,
   "id": "27ad4aaf-df44-46f1-89ae-d7d1d2c17ded",
   "metadata": {},
   "outputs": [
    {
     "data": {
      "text/html": [
       "<div>\n",
       "<style scoped>\n",
       "    .dataframe tbody tr th:only-of-type {\n",
       "        vertical-align: middle;\n",
       "    }\n",
       "\n",
       "    .dataframe tbody tr th {\n",
       "        vertical-align: top;\n",
       "    }\n",
       "\n",
       "    .dataframe thead th {\n",
       "        text-align: right;\n",
       "    }\n",
       "</style>\n",
       "<table border=\"1\" class=\"dataframe\">\n",
       "  <thead>\n",
       "    <tr style=\"text-align: right;\">\n",
       "      <th></th>\n",
       "      <th>Script Lines</th>\n",
       "      <th>Extracted ID</th>\n",
       "      <th>ID</th>\n",
       "    </tr>\n",
       "  </thead>\n",
       "  <tbody>\n",
       "    <tr>\n",
       "      <th>262145</th>\n",
       "      <td>curl -f --create-dirs --output 's0008/0000/000...</td>\n",
       "      <td>0000000007845793</td>\n",
       "      <td>7845793</td>\n",
       "    </tr>\n",
       "    <tr>\n",
       "      <th>262148</th>\n",
       "      <td>curl -f --create-dirs --output 's0008/0000/000...</td>\n",
       "      <td>0000000007845804</td>\n",
       "      <td>7845804</td>\n",
       "    </tr>\n",
       "    <tr>\n",
       "      <th>262150</th>\n",
       "      <td>curl -f --create-dirs --output 's0008/0000/000...</td>\n",
       "      <td>0000000007845809</td>\n",
       "      <td>7845809</td>\n",
       "    </tr>\n",
       "    <tr>\n",
       "      <th>262154</th>\n",
       "      <td>curl -f --create-dirs --output 's0008/0000/000...</td>\n",
       "      <td>0000000007845818</td>\n",
       "      <td>7845818</td>\n",
       "    </tr>\n",
       "    <tr>\n",
       "      <th>262155</th>\n",
       "      <td>curl -f --create-dirs --output 's0008/0000/000...</td>\n",
       "      <td>0000000007845819</td>\n",
       "      <td>7845819</td>\n",
       "    </tr>\n",
       "    <tr>\n",
       "      <th>...</th>\n",
       "      <td>...</td>\n",
       "      <td>...</td>\n",
       "      <td>...</td>\n",
       "    </tr>\n",
       "    <tr>\n",
       "      <th>6859729</th>\n",
       "      <td>curl -f --create-dirs --output 's0008/0000/010...</td>\n",
       "      <td>0000010005000363</td>\n",
       "      <td>10005000363</td>\n",
       "    </tr>\n",
       "    <tr>\n",
       "      <th>6859730</th>\n",
       "      <td>curl -f --create-dirs --output 's0008/0000/010...</td>\n",
       "      <td>0000010005000369</td>\n",
       "      <td>10005000369</td>\n",
       "    </tr>\n",
       "    <tr>\n",
       "      <th>6859731</th>\n",
       "      <td>curl -f --create-dirs --output 's0008/0000/010...</td>\n",
       "      <td>0000010005000380</td>\n",
       "      <td>10005000380</td>\n",
       "    </tr>\n",
       "    <tr>\n",
       "      <th>6859732</th>\n",
       "      <td>curl -f --create-dirs --output 's0008/0000/010...</td>\n",
       "      <td>0000010005000418</td>\n",
       "      <td>10005000418</td>\n",
       "    </tr>\n",
       "    <tr>\n",
       "      <th>6859733</th>\n",
       "      <td>curl -f --create-dirs --output 's0008/0000/010...</td>\n",
       "      <td>0000010005000473</td>\n",
       "      <td>10005000473</td>\n",
       "    </tr>\n",
       "  </tbody>\n",
       "</table>\n",
       "<p>698245 rows × 3 columns</p>\n",
       "</div>"
      ],
      "text/plain": [
       "                                              Script Lines      Extracted ID  \\\n",
       "262145   curl -f --create-dirs --output 's0008/0000/000...  0000000007845793   \n",
       "262148   curl -f --create-dirs --output 's0008/0000/000...  0000000007845804   \n",
       "262150   curl -f --create-dirs --output 's0008/0000/000...  0000000007845809   \n",
       "262154   curl -f --create-dirs --output 's0008/0000/000...  0000000007845818   \n",
       "262155   curl -f --create-dirs --output 's0008/0000/000...  0000000007845819   \n",
       "...                                                    ...               ...   \n",
       "6859729  curl -f --create-dirs --output 's0008/0000/010...  0000010005000363   \n",
       "6859730  curl -f --create-dirs --output 's0008/0000/010...  0000010005000369   \n",
       "6859731  curl -f --create-dirs --output 's0008/0000/010...  0000010005000380   \n",
       "6859732  curl -f --create-dirs --output 's0008/0000/010...  0000010005000418   \n",
       "6859733  curl -f --create-dirs --output 's0008/0000/010...  0000010005000473   \n",
       "\n",
       "                  ID  \n",
       "262145       7845793  \n",
       "262148       7845804  \n",
       "262150       7845809  \n",
       "262154       7845818  \n",
       "262155       7845819  \n",
       "...              ...  \n",
       "6859729  10005000363  \n",
       "6859730  10005000369  \n",
       "6859731  10005000380  \n",
       "6859732  10005000418  \n",
       "6859733  10005000473  \n",
       "\n",
       "[698245 rows x 3 columns]"
      ]
     },
     "execution_count": 17,
     "metadata": {},
     "output_type": "execute_result"
    }
   ],
   "source": [
    "to_export"
   ]
  },
  {
   "cell_type": "code",
   "execution_count": 18,
   "id": "33ff316b-7ad1-48d8-aa26-bd9156bfaeda",
   "metadata": {},
   "outputs": [
    {
     "data": {
      "text/plain": [
       "698245"
      ]
     },
     "execution_count": 18,
     "metadata": {},
     "output_type": "execute_result"
    }
   ],
   "source": [
    "len(s8_project)"
   ]
  },
  {
   "cell_type": "code",
   "execution_count": 19,
   "id": "25a0af95-0243-425f-8c68-7f6307328117",
   "metadata": {},
   "outputs": [],
   "source": [
    "output_file = '../../s8.sh'\n",
    "\n",
    "# Extract the 'Curl Script' column and write it to the .sh file\n",
    "with open(output_file, 'w') as sh_file:\n",
    "    for curl_script in df['Script Lines']:\n",
    "        sh_file.write(curl_script + '\\n')"
   ]
  },
  {
   "cell_type": "markdown",
   "id": "7aae4b8f-da1f-4d6c-892a-4ca2a5ad5efd",
   "metadata": {},
   "source": [
    "---"
   ]
  },
  {
   "cell_type": "markdown",
   "id": "e1883e32-dc06-406e-8cfa-69517257b0da",
   "metadata": {},
   "source": [
    "### Part 6: From the TICs I created (while waiting for the official release), how many fall in TIC Catalog"
   ]
  },
  {
   "cell_type": "code",
   "execution_count": 1,
   "id": "02bd60f9-cf0a-49b3-8dbe-9e9fbe9494f7",
   "metadata": {},
   "outputs": [],
   "source": [
    "import os\n",
    "os.chdir('../../')\n",
    "import pandas as pd"
   ]
  },
  {
   "cell_type": "code",
   "execution_count": 2,
   "id": "e90bf9ff-6997-4c92-a6bb-740bef3ae46e",
   "metadata": {},
   "outputs": [],
   "source": [
    "tic = pd.read_csv('tic.txt',sep='\\t')\n",
    "tic['tic_leading_zeroes'] = tic.tic_id.astype(str).str.zfill(16)"
   ]
  },
  {
   "cell_type": "code",
   "execution_count": 4,
   "id": "e575211a-f018-4090-97f9-184096c16005",
   "metadata": {},
   "outputs": [
    {
     "name": "stdout",
     "output_type": "stream",
     "text": [
      "13275772\n"
     ]
    },
    {
     "data": {
      "text/plain": [
       "13275772"
      ]
     },
     "execution_count": 4,
     "metadata": {},
     "output_type": "execute_result"
    }
   ],
   "source": [
    "print(len(tic))\n",
    "tic = tic.drop_duplicates(subset=['tic_id'])\n",
    "len(tic)"
   ]
  },
  {
   "cell_type": "code",
   "execution_count": 5,
   "id": "af7d202c-0fad-4540-b855-e3af69a8b31a",
   "metadata": {},
   "outputs": [
    {
     "name": "stdout",
     "output_type": "stream",
     "text": [
      "1683175\n",
      "1683175\n",
      "<class 'pandas.core.frame.DataFrame'>\n",
      "Int64Index: 1683175 entries, 0 to 1683174\n",
      "Data columns (total 1 columns):\n",
      " #   Column  Non-Null Count    Dtype\n",
      "---  ------  --------------    -----\n",
      " 0   tic_id  1683175 non-null  int64\n",
      "dtypes: int64(1)\n",
      "memory usage: 25.7 MB\n"
     ]
    }
   ],
   "source": [
    "s21 = pd.read_csv('s21-eleanor-lite.txt',header=None,names=['tic_id'])\n",
    "print(len(s21))\n",
    "s21 = s21.drop_duplicates(subset=['tic_id'])\n",
    "print(len(s21))\n",
    "s21.info()"
   ]
  },
  {
   "cell_type": "code",
   "execution_count": 18,
   "id": "69bc88a3-5ee9-486f-a66a-f70c72d2157e",
   "metadata": {},
   "outputs": [
    {
     "name": "stderr",
     "output_type": "stream",
     "text": [
      "/home/astro/phrdhx/.local/lib/python3.7/site-packages/ipykernel_launcher.py:2: SettingWithCopyWarning: \n",
      "A value is trying to be set on a copy of a slice from a DataFrame.\n",
      "Try using .loc[row_indexer,col_indexer] = value instead\n",
      "\n",
      "See the caveats in the documentation: https://pandas.pydata.org/pandas-docs/stable/user_guide/indexing.html#returning-a-view-versus-a-copy\n",
      "  \n"
     ]
    }
   ],
   "source": [
    "s21_project = s21[s21.tic_id.isin(tic.tic_id)]\n",
    "s21_project['tic_leading_zeroes'] = s21_project.tic_id.astype(str).str.zfill(16)"
   ]
  },
  {
   "cell_type": "code",
   "execution_count": 23,
   "id": "b8fc0672-46f9-4046-b8cd-6e0bd58cf504",
   "metadata": {},
   "outputs": [
    {
     "name": "stderr",
     "output_type": "stream",
     "text": [
      "/home/astro/phrdhx/.local/lib/python3.7/site-packages/ipykernel_launcher.py:6: SettingWithCopyWarning: \n",
      "A value is trying to be set on a copy of a slice from a DataFrame.\n",
      "Try using .loc[row_indexer,col_indexer] = value instead\n",
      "\n",
      "See the caveats in the documentation: https://pandas.pydata.org/pandas-docs/stable/user_guide/indexing.html#returning-a-view-versus-a-copy\n",
      "  \n",
      "/home/astro/phrdhx/.local/lib/python3.7/site-packages/ipykernel_launcher.py:10: SettingWithCopyWarning: \n",
      "A value is trying to be set on a copy of a slice from a DataFrame.\n",
      "Try using .loc[row_indexer,col_indexer] = value instead\n",
      "\n",
      "See the caveats in the documentation: https://pandas.pydata.org/pandas-docs/stable/user_guide/indexing.html#returning-a-view-versus-a-copy\n",
      "  # Remove the CWD from sys.path while we load stuff.\n"
     ]
    }
   ],
   "source": [
    "s21_project['new_path'] = (\n",
    "    's0021' + '/' +\n",
    "    s21_project['tic_leading_zeroes'].str[0:4] + '/' +\n",
    "    s21_project['tic_leading_zeroes'].str[4:8] + '/' +\n",
    "    s21_project['tic_leading_zeroes'].str[8:12] + '/' +\n",
    "    s21_project['tic_leading_zeroes'].str[12:16] + '/' + 'hlsp_gsfc-eleanor-lite_tess_ffi_' + 's0021' + '-' + s21_project['tic_leading_zeroes'] + '_tess_v1.0_lc.fits'\n",
    ") \n",
    "\n",
    "common_string = '/storage/astro2/phrdhx/eleanor-lite/'\n",
    "s21_project['new_path'] = common_string + s21_project['new_path']"
   ]
  },
  {
   "cell_type": "code",
   "execution_count": 25,
   "id": "7febc82c-208f-4b5e-9186-188d69f7d5d7",
   "metadata": {},
   "outputs": [],
   "source": [
    "export_s21 = s21_project.new_path.to_list()\n",
    "output_file = 's0021.txt'\n",
    "with open(output_file, 'w') as file:\n",
    "    for i in export_s21:\n",
    "        file.write(i + '\\n')"
   ]
  },
  {
   "cell_type": "markdown",
   "id": "5c77fb7b-a678-401d-a7b1-9930bfff3f0d",
   "metadata": {
    "tags": []
   },
   "source": [
    "----\n",
    "## Part 6.5a: making Part 6 automated"
   ]
  },
  {
   "cell_type": "code",
   "execution_count": 1,
   "id": "614c5c2c-8181-455c-a3a7-20bf1fd51d37",
   "metadata": {},
   "outputs": [],
   "source": [
    "import os\n",
    "os.chdir('../../')\n",
    "import pandas as pd\n",
    "from tqdm import tqdm"
   ]
  },
  {
   "cell_type": "code",
   "execution_count": 2,
   "id": "132a9827-348c-4c65-8d33-01bd4de5a826",
   "metadata": {},
   "outputs": [],
   "source": [
    "tic = pd.read_csv('tic.txt',sep='\\t')\n",
    "tic['tic_leading_zeroes'] = tic.tic_id.astype(str).str.zfill(16)"
   ]
  },
  {
   "cell_type": "code",
   "execution_count": 3,
   "id": "300dfc6a-451b-474c-b545-08521dfefbbe",
   "metadata": {},
   "outputs": [
    {
     "data": {
      "text/html": [
       "<div>\n",
       "<style scoped>\n",
       "    .dataframe tbody tr th:only-of-type {\n",
       "        vertical-align: middle;\n",
       "    }\n",
       "\n",
       "    .dataframe tbody tr th {\n",
       "        vertical-align: top;\n",
       "    }\n",
       "\n",
       "    .dataframe thead th {\n",
       "        text-align: right;\n",
       "    }\n",
       "</style>\n",
       "<table border=\"1\" class=\"dataframe\">\n",
       "  <thead>\n",
       "    <tr style=\"text-align: right;\">\n",
       "      <th></th>\n",
       "      <th>tic_id</th>\n",
       "      <th>Tmag</th>\n",
       "      <th>tic_leading_zeroes</th>\n",
       "    </tr>\n",
       "  </thead>\n",
       "  <tbody>\n",
       "    <tr>\n",
       "      <th>0</th>\n",
       "      <td>269273552</td>\n",
       "      <td>-1.745</td>\n",
       "      <td>0000000269273552</td>\n",
       "    </tr>\n",
       "    <tr>\n",
       "      <th>1</th>\n",
       "      <td>175934060</td>\n",
       "      <td>-1.679</td>\n",
       "      <td>0000000175934060</td>\n",
       "    </tr>\n",
       "    <tr>\n",
       "      <th>2</th>\n",
       "      <td>459832522</td>\n",
       "      <td>-1.254</td>\n",
       "      <td>0000000459832522</td>\n",
       "    </tr>\n",
       "    <tr>\n",
       "      <th>3</th>\n",
       "      <td>245873777</td>\n",
       "      <td>-1.200</td>\n",
       "      <td>0000000245873777</td>\n",
       "    </tr>\n",
       "    <tr>\n",
       "      <th>4</th>\n",
       "      <td>272314138</td>\n",
       "      <td>-1.043</td>\n",
       "      <td>0000000272314138</td>\n",
       "    </tr>\n",
       "    <tr>\n",
       "      <th>...</th>\n",
       "      <td>...</td>\n",
       "      <td>...</td>\n",
       "      <td>...</td>\n",
       "    </tr>\n",
       "    <tr>\n",
       "      <th>13275767</th>\n",
       "      <td>10000693211</td>\n",
       "      <td>13.000</td>\n",
       "      <td>0000010000693211</td>\n",
       "    </tr>\n",
       "    <tr>\n",
       "      <th>13275768</th>\n",
       "      <td>10001083513</td>\n",
       "      <td>13.000</td>\n",
       "      <td>0000010001083513</td>\n",
       "    </tr>\n",
       "    <tr>\n",
       "      <th>13275769</th>\n",
       "      <td>10001920480</td>\n",
       "      <td>13.000</td>\n",
       "      <td>0000010001920480</td>\n",
       "    </tr>\n",
       "    <tr>\n",
       "      <th>13275770</th>\n",
       "      <td>10002253686</td>\n",
       "      <td>13.000</td>\n",
       "      <td>0000010002253686</td>\n",
       "    </tr>\n",
       "    <tr>\n",
       "      <th>13275771</th>\n",
       "      <td>10002515250</td>\n",
       "      <td>13.000</td>\n",
       "      <td>0000010002515250</td>\n",
       "    </tr>\n",
       "  </tbody>\n",
       "</table>\n",
       "<p>13275772 rows × 3 columns</p>\n",
       "</div>"
      ],
      "text/plain": [
       "               tic_id    Tmag tic_leading_zeroes\n",
       "0           269273552  -1.745   0000000269273552\n",
       "1           175934060  -1.679   0000000175934060\n",
       "2           459832522  -1.254   0000000459832522\n",
       "3           245873777  -1.200   0000000245873777\n",
       "4           272314138  -1.043   0000000272314138\n",
       "...               ...     ...                ...\n",
       "13275767  10000693211  13.000   0000010000693211\n",
       "13275768  10001083513  13.000   0000010001083513\n",
       "13275769  10001920480  13.000   0000010001920480\n",
       "13275770  10002253686  13.000   0000010002253686\n",
       "13275771  10002515250  13.000   0000010002515250\n",
       "\n",
       "[13275772 rows x 3 columns]"
      ]
     },
     "execution_count": 3,
     "metadata": {},
     "output_type": "execute_result"
    }
   ],
   "source": [
    "tic"
   ]
  },
  {
   "cell_type": "code",
   "execution_count": 4,
   "id": "9eb494af-505e-4859-9abd-129e96a88030",
   "metadata": {},
   "outputs": [
    {
     "data": {
      "text/plain": [
       "[18, 19]"
      ]
     },
     "execution_count": 4,
     "metadata": {},
     "output_type": "execute_result"
    }
   ],
   "source": [
    "s_values = list(range(18,20))\n",
    "s_values"
   ]
  },
  {
   "cell_type": "code",
   "execution_count": 5,
   "id": "9ad1fdad-f242-47c8-86a8-20bce91e5e84",
   "metadata": {},
   "outputs": [
    {
     "name": "stderr",
     "output_type": "stream",
     "text": [
      "  0%|          | 0/2 [00:00<?, ?it/s]"
     ]
    },
    {
     "name": "stdout",
     "output_type": "stream",
     "text": [
      "0 duplicates found\n"
     ]
    },
    {
     "name": "stderr",
     "output_type": "stream",
     "text": [
      " 50%|█████     | 1/2 [00:11<00:11, 11.38s/it]"
     ]
    },
    {
     "name": "stdout",
     "output_type": "stream",
     "text": [
      "0 duplicates found\n"
     ]
    },
    {
     "name": "stderr",
     "output_type": "stream",
     "text": [
      "100%|██████████| 2/2 [00:22<00:00, 11.19s/it]\n"
     ]
    }
   ],
   "source": [
    "project_data = {}\n",
    "for s in tqdm(s_values):\n",
    "    # Read the CSV file for the current 's' value\n",
    "    file_name = f's{s:02d}-eleanor-lite.txt'\n",
    "    df = pd.read_csv(file_name, header=None, names=['tic_id'])\n",
    "    df_len = len(df)\n",
    "    df = df.drop_duplicates(subset=['tic_id'])\n",
    "    print(f'{df_len - len(df)} duplicates found')\n",
    "    \n",
    "    # Filter the DataFrame based on the 'tic' DataFrame\n",
    "    project = df[df.tic_id.isin(tic.tic_id)]\n",
    "    \n",
    "    project = project.merge(tic[['tic_id', 'Tmag']], on='tic_id', how='left')\n",
    "    \n",
    "    # Add leading zeroes and construct the 'new_path' column\n",
    "    project['tic_leading_zeroes'] = project.tic_id.astype(str).str.zfill(16)\n",
    "    project['new_path'] = (\n",
    "        f's{s:04d}/' +\n",
    "        project['tic_leading_zeroes'].str[0:4] + '/' +\n",
    "        project['tic_leading_zeroes'].str[4:8] + '/' +\n",
    "        project['tic_leading_zeroes'].str[8:12] + '/' +\n",
    "        project['tic_leading_zeroes'].str[12:16] + '/' +\n",
    "        f'hlsp_gsfc-eleanor-lite_tess_ffi_s{s:04d}-' + project['tic_leading_zeroes'] + '_tess_v1.0_lc.fits'\n",
    "    )\n",
    "    \n",
    "    # Add the common_string to the 'new_path' column\n",
    "    common_string = '/storage/astro2/phrdhx/eleanor-lite/'\n",
    "    project['new_path'] = common_string + project['new_path']\n",
    "    export_paths = project.new_path.to_list()\n",
    "    output_file = f's{s:04d}.txt'\n",
    "    with open(output_file, 'w') as file:\n",
    "        for i in export_paths:\n",
    "            file.write(i + '\\n')\n",
    "    \n",
    "    # Store the project DataFrame in the dictionary to access later\n",
    "    project_data[f's{s:04d}_project'] = project\n",
    "    \n",
    "    \n"
   ]
  },
  {
   "cell_type": "code",
   "execution_count": 7,
   "id": "d6cce232-48b0-4f45-b4be-e8160a8a36e4",
   "metadata": {},
   "outputs": [
    {
     "data": {
      "text/html": [
       "<div>\n",
       "<style scoped>\n",
       "    .dataframe tbody tr th:only-of-type {\n",
       "        vertical-align: middle;\n",
       "    }\n",
       "\n",
       "    .dataframe tbody tr th {\n",
       "        vertical-align: top;\n",
       "    }\n",
       "\n",
       "    .dataframe thead th {\n",
       "        text-align: right;\n",
       "    }\n",
       "</style>\n",
       "<table border=\"1\" class=\"dataframe\">\n",
       "  <thead>\n",
       "    <tr style=\"text-align: right;\">\n",
       "      <th></th>\n",
       "      <th>tic_id</th>\n",
       "      <th>Tmag</th>\n",
       "      <th>tic_leading_zeroes</th>\n",
       "      <th>new_path</th>\n",
       "    </tr>\n",
       "  </thead>\n",
       "  <tbody>\n",
       "    <tr>\n",
       "      <th>0</th>\n",
       "      <td>122339913</td>\n",
       "      <td>11.9102</td>\n",
       "      <td>0000000122339913</td>\n",
       "      <td>/storage/astro2/phrdhx/eleanor-lite/s0019/0000...</td>\n",
       "    </tr>\n",
       "    <tr>\n",
       "      <th>1</th>\n",
       "      <td>122339771</td>\n",
       "      <td>10.9417</td>\n",
       "      <td>0000000122339771</td>\n",
       "      <td>/storage/astro2/phrdhx/eleanor-lite/s0019/0000...</td>\n",
       "    </tr>\n",
       "    <tr>\n",
       "      <th>2</th>\n",
       "      <td>122339612</td>\n",
       "      <td>12.6007</td>\n",
       "      <td>0000000122339612</td>\n",
       "      <td>/storage/astro2/phrdhx/eleanor-lite/s0019/0000...</td>\n",
       "    </tr>\n",
       "    <tr>\n",
       "      <th>3</th>\n",
       "      <td>122339873</td>\n",
       "      <td>11.0181</td>\n",
       "      <td>0000000122339873</td>\n",
       "      <td>/storage/astro2/phrdhx/eleanor-lite/s0019/0000...</td>\n",
       "    </tr>\n",
       "    <tr>\n",
       "      <th>4</th>\n",
       "      <td>122339765</td>\n",
       "      <td>12.9144</td>\n",
       "      <td>0000000122339765</td>\n",
       "      <td>/storage/astro2/phrdhx/eleanor-lite/s0019/0000...</td>\n",
       "    </tr>\n",
       "    <tr>\n",
       "      <th>...</th>\n",
       "      <td>...</td>\n",
       "      <td>...</td>\n",
       "      <td>...</td>\n",
       "      <td>...</td>\n",
       "    </tr>\n",
       "    <tr>\n",
       "      <th>486041</th>\n",
       "      <td>326260358</td>\n",
       "      <td>12.4369</td>\n",
       "      <td>0000000326260358</td>\n",
       "      <td>/storage/astro2/phrdhx/eleanor-lite/s0019/0000...</td>\n",
       "    </tr>\n",
       "    <tr>\n",
       "      <th>486042</th>\n",
       "      <td>326260424</td>\n",
       "      <td>12.9241</td>\n",
       "      <td>0000000326260424</td>\n",
       "      <td>/storage/astro2/phrdhx/eleanor-lite/s0019/0000...</td>\n",
       "    </tr>\n",
       "    <tr>\n",
       "      <th>486043</th>\n",
       "      <td>326260657</td>\n",
       "      <td>12.1702</td>\n",
       "      <td>0000000326260657</td>\n",
       "      <td>/storage/astro2/phrdhx/eleanor-lite/s0019/0000...</td>\n",
       "    </tr>\n",
       "    <tr>\n",
       "      <th>486044</th>\n",
       "      <td>326260537</td>\n",
       "      <td>11.2682</td>\n",
       "      <td>0000000326260537</td>\n",
       "      <td>/storage/astro2/phrdhx/eleanor-lite/s0019/0000...</td>\n",
       "    </tr>\n",
       "    <tr>\n",
       "      <th>486045</th>\n",
       "      <td>326260482</td>\n",
       "      <td>10.8563</td>\n",
       "      <td>0000000326260482</td>\n",
       "      <td>/storage/astro2/phrdhx/eleanor-lite/s0019/0000...</td>\n",
       "    </tr>\n",
       "  </tbody>\n",
       "</table>\n",
       "<p>486046 rows × 4 columns</p>\n",
       "</div>"
      ],
      "text/plain": [
       "           tic_id     Tmag tic_leading_zeroes  \\\n",
       "0       122339913  11.9102   0000000122339913   \n",
       "1       122339771  10.9417   0000000122339771   \n",
       "2       122339612  12.6007   0000000122339612   \n",
       "3       122339873  11.0181   0000000122339873   \n",
       "4       122339765  12.9144   0000000122339765   \n",
       "...           ...      ...                ...   \n",
       "486041  326260358  12.4369   0000000326260358   \n",
       "486042  326260424  12.9241   0000000326260424   \n",
       "486043  326260657  12.1702   0000000326260657   \n",
       "486044  326260537  11.2682   0000000326260537   \n",
       "486045  326260482  10.8563   0000000326260482   \n",
       "\n",
       "                                                 new_path  \n",
       "0       /storage/astro2/phrdhx/eleanor-lite/s0019/0000...  \n",
       "1       /storage/astro2/phrdhx/eleanor-lite/s0019/0000...  \n",
       "2       /storage/astro2/phrdhx/eleanor-lite/s0019/0000...  \n",
       "3       /storage/astro2/phrdhx/eleanor-lite/s0019/0000...  \n",
       "4       /storage/astro2/phrdhx/eleanor-lite/s0019/0000...  \n",
       "...                                                   ...  \n",
       "486041  /storage/astro2/phrdhx/eleanor-lite/s0019/0000...  \n",
       "486042  /storage/astro2/phrdhx/eleanor-lite/s0019/0000...  \n",
       "486043  /storage/astro2/phrdhx/eleanor-lite/s0019/0000...  \n",
       "486044  /storage/astro2/phrdhx/eleanor-lite/s0019/0000...  \n",
       "486045  /storage/astro2/phrdhx/eleanor-lite/s0019/0000...  \n",
       "\n",
       "[486046 rows x 4 columns]"
      ]
     },
     "execution_count": 7,
     "metadata": {},
     "output_type": "execute_result"
    }
   ],
   "source": [
    "project_data['s0019_project']"
   ]
  },
  {
   "cell_type": "code",
   "execution_count": null,
   "id": "b3542a05-b6a2-4140-b2f5-de4e422ca7b4",
   "metadata": {},
   "outputs": [],
   "source": []
  }
 ],
 "metadata": {
  "kernelspec": {
   "display_name": "Python 3",
   "language": "python",
   "name": "python3"
  },
  "language_info": {
   "codemirror_mode": {
    "name": "ipython",
    "version": 3
   },
   "file_extension": ".py",
   "mimetype": "text/x-python",
   "name": "python",
   "nbconvert_exporter": "python",
   "pygments_lexer": "ipython3",
   "version": "3.7.12"
  }
 },
 "nbformat": 4,
 "nbformat_minor": 5
}
