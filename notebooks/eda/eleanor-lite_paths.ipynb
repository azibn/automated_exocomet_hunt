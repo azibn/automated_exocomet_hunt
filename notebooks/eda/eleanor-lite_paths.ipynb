{
 "cells": [
  {
   "cell_type": "markdown",
   "id": "d2640ced-9c28-482a-8e53-23ef6d152fdc",
   "metadata": {},
   "source": [
    "# Creating filepaths for project lightcurves"
   ]
  },
  {
   "cell_type": "markdown",
   "id": "c53a659a-e3bc-457f-8b17-a1176688e40f",
   "metadata": {},
   "source": [
    "## Part 1: The XRP lookup"
   ]
  },
  {
   "cell_type": "code",
   "execution_count": null,
   "id": "c98313e1-4a7e-4e6f-8085-d4c163737938",
   "metadata": {},
   "outputs": [],
   "source": [
    "import os\n",
    "os.chdir('../../')\n",
    "\n",
    "import pandas as pd\n",
    "import json"
   ]
  },
  {
   "cell_type": "code",
   "execution_count": null,
   "id": "3f3b1b26-abeb-4f26-b702-80ddc426838d",
   "metadata": {},
   "outputs": [],
   "source": [
    "#data = pd.read_csv('/storage/astro2/phrdhx/tesslcs/fulllookup.csv')"
   ]
  },
  {
   "cell_type": "code",
   "execution_count": null,
   "id": "430cdc6e-aaec-4359-b53c-b70c7f02c38c",
   "metadata": {},
   "outputs": [],
   "source": [
    "with open('colnames.json', 'r', encoding='utf-8') as f:\n",
    "    check = f.read()\n",
    "    columns = json.loads(check)\n",
    "    columns = columns['column_names']"
   ]
  },
  {
   "cell_type": "code",
   "execution_count": null,
   "id": "2e37595e-1c4e-4a43-a58d-7a63f8becb42",
   "metadata": {},
   "outputs": [],
   "source": [
    "data['TIC_ID'] = data['TIC_ID'].astype(str).str.zfill(16)\n",
    "\n",
    "# Convert sector to a 4-digit string with leading zeros\n",
    "data['Sector_leading_zeros'] = data['Sector'].astype(str).str.zfill(4)\n",
    "\n",
    "# Create the new_path column\n",
    "data['new_path'] = (\n",
    "    's' + data['Sector_leading_zeros'] + '/' +\n",
    "    data['TIC_ID'].str[0:4] + '/' +\n",
    "    data['TIC_ID'].str[4:8] + '/' +\n",
    "    data['TIC_ID'].str[8:12] + '/' +\n",
    "    data['TIC_ID'].str[12:16] + '/' +\n",
    "    'hlsp_gsfc-eleanor-lite_tess_ffi_s' + data['Sector_leading_zeros'] + '-' + data['TIC_ID'] + '_tess_v1.0_lc.fits'\n",
    ")\n",
    "\n",
    "common_string = '/storage/astro2/phrdhx/eleanor-lite/'\n",
    "\n",
    "data['new_path'] = common_string + data['new_path']\n",
    "#data.to_csv('xrplookup.csv')"
   ]
  },
  {
   "cell_type": "markdown",
   "id": "77f5386f-ae84-4805-9fdc-6bafa9a6242c",
   "metadata": {},
   "source": [
    "---"
   ]
  },
  {
   "cell_type": "markdown",
   "id": "9172fb17-882e-40f7-a953-a79f0b833311",
   "metadata": {},
   "source": [
    "## Part 2: Using `project_lookup` to produce file paths of for Sector-by-Sector copies"
   ]
  },
  {
   "cell_type": "code",
   "execution_count": null,
   "id": "9cdc7cd0-9ed1-4933-97af-3b666133026d",
   "metadata": {},
   "outputs": [],
   "source": [
    "import pandas as pd\n",
    "import os\n",
    "os.chdir('../../')"
   ]
  },
  {
   "cell_type": "code",
   "execution_count": null,
   "id": "6213ba99-5df9-498b-ac7e-db4bc1847a25",
   "metadata": {},
   "outputs": [],
   "source": [
    "#s1 = pd.read_csv('s0001.csv')\n",
    "lookup = pd.read_csv('project_lookup.csv')\n",
    "lookup = lookup.loc[:, ~lookup.columns.str.contains('^Unnamed')]"
   ]
  },
  {
   "cell_type": "code",
   "execution_count": null,
   "id": "d09708f8-e139-4189-b3dc-d2eedd82fe5b",
   "metadata": {},
   "outputs": [],
   "source": [
    "export_s22 = lookup[lookup.Sector == 21].new_path.to_list()\n",
    "len(export_s22)"
   ]
  },
  {
   "cell_type": "markdown",
   "id": "389621ee-03d9-47db-9428-8bed85ded8c0",
   "metadata": {},
   "source": [
    "### Reading up the `eleanor-lite` lookup that I generated"
   ]
  },
  {
   "cell_type": "code",
   "execution_count": null,
   "id": "38bb7cd0-9759-4940-ac07-d1bd7e4d6f37",
   "metadata": {},
   "outputs": [],
   "source": [
    "tic = pd.read_csv('tic.txt',sep='\\t')\n",
    "tic.head()"
   ]
  },
  {
   "cell_type": "code",
   "execution_count": null,
   "id": "a072a34c-e336-4f58-bd26-f82bf8701de4",
   "metadata": {},
   "outputs": [],
   "source": [
    "eleanor_lite_s21 = pd.read_csv('s21-eleanor-lite.txt',header=None,names=['tic_id'])\n",
    "print(len(eleanor_lite_s21))\n",
    "eleanor_lite_s21 = eleanor_lite_s21.drop_duplicates(subset=['tic_id'])\n",
    "print(str(len(eleanor_lite_s21)) + \" after dropping duplicates\")"
   ]
  },
  {
   "cell_type": "markdown",
   "id": "145f6714-dbae-4bd5-9fc2-18bb0722205a",
   "metadata": {},
   "source": [
    "The `eleanor-lite` lightcurves met for our projects:"
   ]
  },
  {
   "cell_type": "code",
   "execution_count": null,
   "id": "eb67b263-6399-410b-a48d-13c4ade3402a",
   "metadata": {},
   "outputs": [],
   "source": [
    "project_eleanor_lite_s21 = eleanor_lite_s21[eleanor_lite_s21.tic_id.isin(tic.tic_id)]"
   ]
  },
  {
   "cell_type": "markdown",
   "id": "aedce653-44ac-498d-8990-1f78ff2f8f0a",
   "metadata": {},
   "source": [
    "This does not include the lightcurves that exist in the old lookup file. To do this, we can just query the lightcurves that were not present in our `project_eleanor_lite_s21`"
   ]
  },
  {
   "cell_type": "code",
   "execution_count": null,
   "id": "233e78f5-7bb4-4955-ba7e-ad8b6e0da388",
   "metadata": {},
   "outputs": [],
   "source": []
  },
  {
   "cell_type": "code",
   "execution_count": null,
   "id": "26cf9044-2bc3-418d-9845-227420294166",
   "metadata": {},
   "outputs": [],
   "source": []
  },
  {
   "cell_type": "code",
   "execution_count": null,
   "id": "46552111-0dd9-4d25-97e0-b85af4cc6a25",
   "metadata": {},
   "outputs": [],
   "source": [
    "with open('s0024.txt', 'w') as file:\n",
    "        for item in export_s22:\n",
    "            file.write(str(item) + '\\n')"
   ]
  },
  {
   "cell_type": "markdown",
   "id": "41241ab7-3cf4-49eb-ab48-c3a8a5430e0e",
   "metadata": {},
   "source": [
    "---"
   ]
  },
  {
   "cell_type": "markdown",
   "id": "6d7bc455-daf1-4f9d-a3ad-465b7f4db6be",
   "metadata": {},
   "source": [
    "---"
   ]
  },
  {
   "cell_type": "markdown",
   "id": "eae7fd35-c639-43de-8321-43b3d323cd59",
   "metadata": {},
   "source": [
    "### Part 2.5: For TICs that did not exist in `old`, make the paths for those and export"
   ]
  },
  {
   "cell_type": "code",
   "execution_count": null,
   "id": "c0727c8d-9b0f-4d15-851f-19060c00d75f",
   "metadata": {},
   "outputs": [],
   "source": [
    "import os\n",
    "os.chdir('../../')\n",
    "import pandas as pd"
   ]
  },
  {
   "cell_type": "code",
   "execution_count": null,
   "id": "598b02e6-bafe-4c9e-b7e2-c9ba306f9c88",
   "metadata": {},
   "outputs": [],
   "source": [
    "tic = pd.read_csv('tic.txt',sep='\\t')\n",
    "tic.head()"
   ]
  },
  {
   "cell_type": "code",
   "execution_count": null,
   "id": "ba06139a-479f-4936-8d76-e1de9b830d6a",
   "metadata": {},
   "outputs": [],
   "source": [
    "lookup = pd.read_csv('project_lookup.csv')\n",
    "lookup = lookup.loc[:, ~lookup.columns.str.contains('^Unnamed')]"
   ]
  },
  {
   "cell_type": "code",
   "execution_count": null,
   "id": "c7d583e1-82d3-4a93-94e8-456c2bb63e35",
   "metadata": {},
   "outputs": [],
   "source": [
    "s21 = lookup[lookup.Sector == 1]\n",
    "s21.head()"
   ]
  },
  {
   "cell_type": "code",
   "execution_count": null,
   "id": "ae80f5eb-ce1e-402e-8f9e-ae6b676b35cb",
   "metadata": {},
   "outputs": [],
   "source": [
    "len(s21)"
   ]
  },
  {
   "cell_type": "markdown",
   "id": "5135d25b-f8cd-40fc-9c64-62878499152b",
   "metadata": {},
   "source": [
    "I need to know how many TICs were not in the old sector target lists"
   ]
  },
  {
   "cell_type": "code",
   "execution_count": null,
   "id": "901c102e-e007-4a4d-9eb9-78324612bfff",
   "metadata": {},
   "outputs": [],
   "source": []
  },
  {
   "cell_type": "markdown",
   "id": "9122dac3-dae3-485d-bc48-128fdf3c886d",
   "metadata": {},
   "source": [
    "---"
   ]
  },
  {
   "cell_type": "markdown",
   "id": "a2000941-d83c-4faa-a143-34a98b4b3efb",
   "metadata": {},
   "source": [
    "## Part 3: Getting Project TIC IDs from Catalog\n",
    "- Using the TIC catalogue, I want to create file paths for the TICs that did not exist in the old `project_lookup.csv` file."
   ]
  },
  {
   "cell_type": "code",
   "execution_count": 1,
   "id": "92af1403-329e-4559-811c-128cd9b2c984",
   "metadata": {},
   "outputs": [],
   "source": [
    "import pandas as pd"
   ]
  },
  {
   "cell_type": "markdown",
   "id": "3d1389ff-585c-4df8-8b41-6a1548a34fd5",
   "metadata": {},
   "source": [
    "## Import TIC Catalog for stars up to 13th mag"
   ]
  },
  {
   "cell_type": "code",
   "execution_count": 2,
   "id": "57b106db-1e15-461b-abab-44e20e2e32cb",
   "metadata": {},
   "outputs": [
    {
     "data": {
      "text/html": [
       "<div>\n",
       "<style scoped>\n",
       "    .dataframe tbody tr th:only-of-type {\n",
       "        vertical-align: middle;\n",
       "    }\n",
       "\n",
       "    .dataframe tbody tr th {\n",
       "        vertical-align: top;\n",
       "    }\n",
       "\n",
       "    .dataframe thead th {\n",
       "        text-align: right;\n",
       "    }\n",
       "</style>\n",
       "<table border=\"1\" class=\"dataframe\">\n",
       "  <thead>\n",
       "    <tr style=\"text-align: right;\">\n",
       "      <th></th>\n",
       "      <th>tic_id</th>\n",
       "      <th>Tmag</th>\n",
       "    </tr>\n",
       "  </thead>\n",
       "  <tbody>\n",
       "    <tr>\n",
       "      <th>0</th>\n",
       "      <td>269273552</td>\n",
       "      <td>-1.745</td>\n",
       "    </tr>\n",
       "    <tr>\n",
       "      <th>1</th>\n",
       "      <td>175934060</td>\n",
       "      <td>-1.679</td>\n",
       "    </tr>\n",
       "    <tr>\n",
       "      <th>2</th>\n",
       "      <td>459832522</td>\n",
       "      <td>-1.254</td>\n",
       "    </tr>\n",
       "    <tr>\n",
       "      <th>3</th>\n",
       "      <td>245873777</td>\n",
       "      <td>-1.200</td>\n",
       "    </tr>\n",
       "    <tr>\n",
       "      <th>4</th>\n",
       "      <td>272314138</td>\n",
       "      <td>-1.043</td>\n",
       "    </tr>\n",
       "  </tbody>\n",
       "</table>\n",
       "</div>"
      ],
      "text/plain": [
       "      tic_id   Tmag\n",
       "0  269273552 -1.745\n",
       "1  175934060 -1.679\n",
       "2  459832522 -1.254\n",
       "3  245873777 -1.200\n",
       "4  272314138 -1.043"
      ]
     },
     "execution_count": 2,
     "metadata": {},
     "output_type": "execute_result"
    }
   ],
   "source": [
    "tic = pd.read_csv('../../tic.txt',sep='\\t')\n",
    "tic.head()"
   ]
  },
  {
   "cell_type": "code",
   "execution_count": 3,
   "id": "febb1b08-b9cb-4f3f-a0f7-04dda5d5a0b9",
   "metadata": {},
   "outputs": [
    {
     "name": "stderr",
     "output_type": "stream",
     "text": [
      "/home/astro/phrdhx/.local/lib/python3.7/site-packages/IPython/core/interactiveshell.py:3417: DtypeWarning: Columns (0,1,2) have mixed types.Specify dtype option on import or set low_memory=False.\n",
      "  exec(code_obj, self.user_global_ns, self.user_ns)\n"
     ]
    }
   ],
   "source": [
    "s1 = pd.read_csv('../../target_lists/s0001.csv',header=None,names=['TIC_ID','RA','DEC'])\n",
    "s2 = pd.read_csv('../../target_lists/s0002.csv',header=None,names=['TIC_ID','RA','DEC'])\n",
    "s3 = pd.read_csv('../../target_lists/s0003.csv',header=None,names=['TIC_ID','RA','DEC'])\n",
    "s4 = pd.read_csv('../../target_lists/s0004.csv',header=None,names=['TIC_ID','RA','DEC'])\n",
    "s5 = pd.read_csv('../../target_lists/s0005.csv',header=None,names=['TIC_ID','RA','DEC'])\n",
    "s6 = pd.read_csv('../../target_lists/s0006.csv',header=None,names=['TIC_ID','RA','DEC'])\n",
    "s7 = pd.read_csv('../../target_lists/s0007.csv',header=None,names=['TIC_ID','RA','DEC'])\n",
    "s8 = pd.read_csv('../../target_lists/s0008.csv',header=None,names=['TIC_ID','RA','DEC'])\n",
    "s12 = pd.read_csv('../../target_lists/s0012.csv',header=None,names=['TIC_ID','RA','DEC'])"
   ]
  },
  {
   "cell_type": "markdown",
   "id": "a188e6c6-0954-48d8-8c4e-dc402f9de3ee",
   "metadata": {},
   "source": [
    "#### This gives all the TIC IDs from each sector of the `eleanor-lite` data that are in the TIC catalog. They do _not_ include the data from the old lookup that still exist."
   ]
  },
  {
   "cell_type": "code",
   "execution_count": 4,
   "id": "8d80f02a-0109-49dc-b9d9-d5f831b70e87",
   "metadata": {},
   "outputs": [],
   "source": [
    "s1_project = tic[tic.tic_id.isin(s1.TIC_ID)] \n",
    "s2_project = tic[tic.tic_id.isin(s2.TIC_ID)]\n",
    "s3_project = tic[tic.tic_id.isin(s3.TIC_ID)]\n",
    "s4_project = tic[tic.tic_id.isin(s4.TIC_ID)]\n",
    "s5_project = tic[tic.tic_id.isin(s5.TIC_ID)]\n",
    "s6_project = tic[tic.tic_id.isin(s6.TIC_ID)]\n",
    "s7_project = tic[tic.tic_id.isin(s7.TIC_ID)]\n",
    "s8_project = tic[tic.tic_id.isin(s8.TIC_ID)]\n",
    "s12_project = tic[tic.tic_id.isin(s12.TIC_ID)]\n"
   ]
  },
  {
   "cell_type": "markdown",
   "id": "eaba3566-3dac-4f33-af80-599d4094fbb4",
   "metadata": {},
   "source": [
    "---"
   ]
  },
  {
   "cell_type": "code",
   "execution_count": 5,
   "id": "939a9ce0-7b36-4177-b022-9837871bc3b9",
   "metadata": {},
   "outputs": [
    {
     "data": {
      "text/plain": [
       "698245"
      ]
     },
     "execution_count": 5,
     "metadata": {},
     "output_type": "execute_result"
    }
   ],
   "source": [
    "len(s8_project)"
   ]
  },
  {
   "cell_type": "markdown",
   "id": "e284d70d-45b9-4ac4-94da-9246b53c190e",
   "metadata": {},
   "source": [
    "### Part 3.5: add paths to new project lightcurves\n",
    "- Note: I did not need to do this for S1-7, because of the download scripts.\n",
    "- S8 needs a bit of work because the download script is out, but the target list isn't.\n",
    "Step 1: Add leading zeroes"
   ]
  },
  {
   "cell_type": "code",
   "execution_count": 6,
   "id": "a0937a69-f449-458e-baa0-a405a88f361a",
   "metadata": {},
   "outputs": [
    {
     "name": "stderr",
     "output_type": "stream",
     "text": [
      "/home/astro/phrdhx/.local/lib/python3.7/site-packages/ipykernel_launcher.py:1: SettingWithCopyWarning: \n",
      "A value is trying to be set on a copy of a slice from a DataFrame.\n",
      "Try using .loc[row_indexer,col_indexer] = value instead\n",
      "\n",
      "See the caveats in the documentation: https://pandas.pydata.org/pandas-docs/stable/user_guide/indexing.html#returning-a-view-versus-a-copy\n",
      "  \"\"\"Entry point for launching an IPython kernel.\n",
      "/home/astro/phrdhx/.local/lib/python3.7/site-packages/ipykernel_launcher.py:2: SettingWithCopyWarning: \n",
      "A value is trying to be set on a copy of a slice from a DataFrame.\n",
      "Try using .loc[row_indexer,col_indexer] = value instead\n",
      "\n",
      "See the caveats in the documentation: https://pandas.pydata.org/pandas-docs/stable/user_guide/indexing.html#returning-a-view-versus-a-copy\n",
      "  \n",
      "/home/astro/phrdhx/.local/lib/python3.7/site-packages/ipykernel_launcher.py:3: SettingWithCopyWarning: \n",
      "A value is trying to be set on a copy of a slice from a DataFrame.\n",
      "Try using .loc[row_indexer,col_indexer] = value instead\n",
      "\n",
      "See the caveats in the documentation: https://pandas.pydata.org/pandas-docs/stable/user_guide/indexing.html#returning-a-view-versus-a-copy\n",
      "  This is separate from the ipykernel package so we can avoid doing imports until\n",
      "/home/astro/phrdhx/.local/lib/python3.7/site-packages/ipykernel_launcher.py:4: SettingWithCopyWarning: \n",
      "A value is trying to be set on a copy of a slice from a DataFrame.\n",
      "Try using .loc[row_indexer,col_indexer] = value instead\n",
      "\n",
      "See the caveats in the documentation: https://pandas.pydata.org/pandas-docs/stable/user_guide/indexing.html#returning-a-view-versus-a-copy\n",
      "  after removing the cwd from sys.path.\n",
      "/home/astro/phrdhx/.local/lib/python3.7/site-packages/ipykernel_launcher.py:5: SettingWithCopyWarning: \n",
      "A value is trying to be set on a copy of a slice from a DataFrame.\n",
      "Try using .loc[row_indexer,col_indexer] = value instead\n",
      "\n",
      "See the caveats in the documentation: https://pandas.pydata.org/pandas-docs/stable/user_guide/indexing.html#returning-a-view-versus-a-copy\n",
      "  \"\"\"\n",
      "/home/astro/phrdhx/.local/lib/python3.7/site-packages/ipykernel_launcher.py:6: SettingWithCopyWarning: \n",
      "A value is trying to be set on a copy of a slice from a DataFrame.\n",
      "Try using .loc[row_indexer,col_indexer] = value instead\n",
      "\n",
      "See the caveats in the documentation: https://pandas.pydata.org/pandas-docs/stable/user_guide/indexing.html#returning-a-view-versus-a-copy\n",
      "  \n",
      "/home/astro/phrdhx/.local/lib/python3.7/site-packages/ipykernel_launcher.py:7: SettingWithCopyWarning: \n",
      "A value is trying to be set on a copy of a slice from a DataFrame.\n",
      "Try using .loc[row_indexer,col_indexer] = value instead\n",
      "\n",
      "See the caveats in the documentation: https://pandas.pydata.org/pandas-docs/stable/user_guide/indexing.html#returning-a-view-versus-a-copy\n",
      "  import sys\n",
      "/home/astro/phrdhx/.local/lib/python3.7/site-packages/ipykernel_launcher.py:8: SettingWithCopyWarning: \n",
      "A value is trying to be set on a copy of a slice from a DataFrame.\n",
      "Try using .loc[row_indexer,col_indexer] = value instead\n",
      "\n",
      "See the caveats in the documentation: https://pandas.pydata.org/pandas-docs/stable/user_guide/indexing.html#returning-a-view-versus-a-copy\n",
      "  \n",
      "/home/astro/phrdhx/.local/lib/python3.7/site-packages/ipykernel_launcher.py:9: SettingWithCopyWarning: \n",
      "A value is trying to be set on a copy of a slice from a DataFrame.\n",
      "Try using .loc[row_indexer,col_indexer] = value instead\n",
      "\n",
      "See the caveats in the documentation: https://pandas.pydata.org/pandas-docs/stable/user_guide/indexing.html#returning-a-view-versus-a-copy\n",
      "  if __name__ == '__main__':\n"
     ]
    }
   ],
   "source": [
    "s1_project['tic_leading_zeroes'] = s1_project.tic_id.astype(str).str.zfill(16)\n",
    "s2_project['tic_leading_zeroes'] = s2_project.tic_id.astype(str).str.zfill(16)\n",
    "s3_project['tic_leading_zeroes'] = s3_project.tic_id.astype(str).str.zfill(16)\n",
    "s4_project['tic_leading_zeroes'] = s4_project.tic_id.astype(str).str.zfill(16)\n",
    "s5_project['tic_leading_zeroes'] = s5_project.tic_id.astype(str).str.zfill(16)\n",
    "s6_project['tic_leading_zeroes'] = s6_project.tic_id.astype(str).str.zfill(16)\n",
    "s7_project['tic_leading_zeroes'] = s7_project.tic_id.astype(str).str.zfill(16)\n",
    "s8_project['tic_leading_zeroes'] = s8_project.tic_id.astype(str).str.zfill(16)\n",
    "s12_project['tic_leading_zeroes'] = s12_project.tic_id.astype(str).str.zfill(16)"
   ]
  },
  {
   "cell_type": "markdown",
   "id": "496c5efe-18ac-4eed-be7e-0bd096115ef5",
   "metadata": {},
   "source": [
    "Step 2: Make the new paths now"
   ]
  },
  {
   "cell_type": "code",
   "execution_count": null,
   "id": "0946cfa1-5b7f-4fc3-a7f9-f07bfd9e0a3e",
   "metadata": {},
   "outputs": [],
   "source": []
  },
  {
   "cell_type": "code",
   "execution_count": null,
   "id": "711b7730-27cb-492e-92cd-ab59439147d5",
   "metadata": {},
   "outputs": [],
   "source": [
    "s1_project['new_path'] = (\n",
    "    's0001' + '/' +\n",
    "    s1_project['tic_leading_zeroes'].str[0:4] + '/' +\n",
    "    s1_project['tic_leading_zeroes'].str[4:8] + '/' +\n",
    "    s1_project['tic_leading_zeroes'].str[8:12] + '/' +\n",
    "    s1_project['tic_leading_zeroes'].str[12:16] + '/' + 'hlsp_gsfc-eleanor-lite_tess_ffi_s' + 's0001' + '-' + s1_project['tic_leading_zeroes'] + '_tess_v1.0_lc.fits'\n",
    ") \n",
    "\n",
    "common_string = '/storage/astro2/phrdhx/eleanor-lite/'\n",
    "s1_project['new_path'] = common_string + s1_project['new_path']"
   ]
  },
  {
   "cell_type": "code",
   "execution_count": null,
   "id": "7cba9e37-8957-4dc1-9e5e-07bf25f42add",
   "metadata": {
    "tags": []
   },
   "outputs": [],
   "source": [
    "s2_project['new_path'] = (\n",
    "    's0002' + '/' +\n",
    "    s2_project['tic_leading_zeroes'].str[0:4] + '/' +\n",
    "    s2_project['tic_leading_zeroes'].str[4:8] + '/' +\n",
    "    s2_project['tic_leading_zeroes'].str[8:12] + '/' +\n",
    "    s2_project['tic_leading_zeroes'].str[12:16] + '/' + 'hlsp_gsfc-eleanor-lite_tess_ffi_s' + 's0002' + '-' + s2_project['tic_leading_zeroes'] + '_tess_v1.0_lc.fits'\n",
    ") \n",
    "\n",
    "common_string = '/storage/astro2/phrdhx/eleanor-lite/'\n",
    "s2_project['new_path'] = common_string + s2_project['new_path']"
   ]
  },
  {
   "cell_type": "code",
   "execution_count": null,
   "id": "35878fba-a143-4c3c-8d87-f03b6dbacf56",
   "metadata": {},
   "outputs": [],
   "source": [
    "s3_project['new_path'] = (\n",
    "    's0003' + '/' +\n",
    "    s3_project['tic_leading_zeroes'].str[0:4] + '/' +\n",
    "    s3_project['tic_leading_zeroes'].str[4:8] + '/' +\n",
    "    s3_project['tic_leading_zeroes'].str[8:12] + '/' +\n",
    "    s3_project['tic_leading_zeroes'].str[12:16] + '/' + 'hlsp_gsfc-eleanor-lite_tess_ffi_s' + 's0003' + '-' + s3_project['tic_leading_zeroes'] + '_tess_v1.0_lc.fits'\n",
    ") \n",
    "\n",
    "common_string = '/storage/astro2/phrdhx/eleanor-lite/'\n",
    "s3_project['new_path'] = common_string + s3_project['new_path']"
   ]
  },
  {
   "cell_type": "code",
   "execution_count": null,
   "id": "d77678ab-f32c-4bbe-b3a1-fc1e81ac9fd6",
   "metadata": {},
   "outputs": [],
   "source": [
    "s4_project['new_path'] = (\n",
    "    's0004' + '/' +\n",
    "    s4_project['tic_leading_zeroes'].str[0:4] + '/' +\n",
    "    s4_project['tic_leading_zeroes'].str[4:8] + '/' +\n",
    "    s4_project['tic_leading_zeroes'].str[8:12] + '/' +\n",
    "    s4_project['tic_leading_zeroes'].str[12:16] + '/' + 'hlsp_gsfc-eleanor-lite_tess_ffi_s' + 's0004' + '-' + s4_project['tic_leading_zeroes'] + '_tess_v1.0_lc.fits'\n",
    ") \n",
    "\n",
    "common_string = '/storage/astro2/phrdhx/eleanor-lite/'\n",
    "s4_project['new_path'] = common_string + s4_project['new_path']"
   ]
  },
  {
   "cell_type": "code",
   "execution_count": null,
   "id": "e666ccf0-a44c-499c-b067-bd5ed4ac3d00",
   "metadata": {},
   "outputs": [],
   "source": [
    "s5_project['new_path'] = (\n",
    "    's0005' + '/' +\n",
    "    s5_project['tic_leading_zeroes'].str[0:4] + '/' +\n",
    "    s5_project['tic_leading_zeroes'].str[4:8] + '/' +\n",
    "    s5_project['tic_leading_zeroes'].str[8:12] + '/' +\n",
    "    s5_project['tic_leading_zeroes'].str[12:16] + '/' + 'hlsp_gsfc-eleanor-lite_tess_ffi_s' + 's0005' + '-' + s5_project['tic_leading_zeroes'] + '_tess_v1.0_lc.fits'\n",
    ") \n",
    "\n",
    "common_string = '/storage/astro2/phrdhx/eleanor-lite/'\n",
    "s5_project['new_path'] = common_string + s5_project['new_path']"
   ]
  },
  {
   "cell_type": "code",
   "execution_count": null,
   "id": "e4f5cb3f-16dc-49b2-b71e-5d2feba59226",
   "metadata": {},
   "outputs": [],
   "source": [
    "s6_project['new_path'] = (\n",
    "    's0006' + '/' +\n",
    "    s6_project['tic_leading_zeroes'].str[0:4] + '/' +\n",
    "    s6_project['tic_leading_zeroes'].str[4:8] + '/' +\n",
    "    s6_project['tic_leading_zeroes'].str[8:12] + '/' +\n",
    "    s6_project['tic_leading_zeroes'].str[12:16] + '/' + 'hlsp_gsfc-eleanor-lite_tess_ffi_s' + 's0006' + '-' + s6_project['tic_leading_zeroes'] + '_tess_v1.0_lc.fits'\n",
    ") \n",
    "\n",
    "common_string = '/storage/astro2/phrdhx/eleanor-lite/'\n",
    "s6_project['new_path'] = common_string + s6_project['new_path']"
   ]
  },
  {
   "cell_type": "code",
   "execution_count": null,
   "id": "927c6a97-6f45-4258-9af3-0d471bfb7f25",
   "metadata": {},
   "outputs": [],
   "source": [
    "s7_project['new_path'] = (\n",
    "    's0007' + '/' +\n",
    "    s7_project['tic_leading_zeroes'].str[0:4] + '/' +\n",
    "    s7_project['tic_leading_zeroes'].str[4:8] + '/' +\n",
    "    s7_project['tic_leading_zeroes'].str[8:12] + '/' +\n",
    "    s7_project['tic_leading_zeroes'].str[12:16] + '/' + 'hlsp_gsfc-eleanor-lite_tess_ffi_s' + 's0007' + '-' + s7_project['tic_leading_zeroes'] + '_tess_v1.0_lc.fits'\n",
    ") \n",
    "\n",
    "common_string = '/storage/astro2/phrdhx/eleanor-lite/'\n",
    "s7_project['new_path'] = common_string + s7_project['new_path']"
   ]
  },
  {
   "cell_type": "code",
   "execution_count": null,
   "id": "81481bb0-28b2-4e80-86ec-f3d765e7b557",
   "metadata": {},
   "outputs": [],
   "source": [
    "s8_project['new_path'] = (\n",
    "    's0008' + '/' +\n",
    "    s8_project['tic_leading_zeroes'].str[0:4] + '/' +\n",
    "    s8_project['tic_leading_zeroes'].str[4:8] + '/' +\n",
    "    s8_project['tic_leading_zeroes'].str[8:12] + '/' +\n",
    "    s8_project['tic_leading_zeroes'].str[12:16] + '/' + 'hlsp_gsfc-eleanor-lite_tess_ffi_s' + 's0008' + '-' + s8_project['tic_leading_zeroes'] + '_tess_v1.0_lc.fits'\n",
    ") \n",
    "\n",
    "common_string = '/storage/astro2/phrdhx/eleanor-lite/'\n",
    "s8_project['new_path'] = common_string + s8_project['new_path']"
   ]
  },
  {
   "cell_type": "code",
   "execution_count": 10,
   "id": "6d4815f2-b7e2-46b1-877b-e841e8aa4871",
   "metadata": {},
   "outputs": [
    {
     "name": "stderr",
     "output_type": "stream",
     "text": [
      "/home/astro/phrdhx/.local/lib/python3.7/site-packages/ipykernel_launcher.py:6: SettingWithCopyWarning: \n",
      "A value is trying to be set on a copy of a slice from a DataFrame.\n",
      "Try using .loc[row_indexer,col_indexer] = value instead\n",
      "\n",
      "See the caveats in the documentation: https://pandas.pydata.org/pandas-docs/stable/user_guide/indexing.html#returning-a-view-versus-a-copy\n",
      "  \n",
      "/home/astro/phrdhx/.local/lib/python3.7/site-packages/ipykernel_launcher.py:10: SettingWithCopyWarning: \n",
      "A value is trying to be set on a copy of a slice from a DataFrame.\n",
      "Try using .loc[row_indexer,col_indexer] = value instead\n",
      "\n",
      "See the caveats in the documentation: https://pandas.pydata.org/pandas-docs/stable/user_guide/indexing.html#returning-a-view-versus-a-copy\n",
      "  # Remove the CWD from sys.path while we load stuff.\n"
     ]
    }
   ],
   "source": [
    "s12_project['new_path'] = (\n",
    "    's0012' + '/' +\n",
    "    s12_project['tic_leading_zeroes'].str[0:4] + '/' +\n",
    "    s12_project['tic_leading_zeroes'].str[4:8] + '/' +\n",
    "    s12_project['tic_leading_zeroes'].str[8:12] + '/' +\n",
    "    s12_project['tic_leading_zeroes'].str[12:16] + '/' + 'hlsp_gsfc-eleanor-lite_tess_ffi_' + 's0012' + '-' + s12_project['tic_leading_zeroes'] + '_tess_v1.0_lc.fits'\n",
    ") \n",
    "\n",
    "common_string = '/storage/astro2/phrdhx/eleanor-lite/'\n",
    "s12_project['new_path'] = common_string + s12_project['new_path']"
   ]
  },
  {
   "cell_type": "markdown",
   "id": "740e2379-9e92-4801-be80-024e48fa1365",
   "metadata": {},
   "source": [
    "Step 3: Export"
   ]
  },
  {
   "cell_type": "code",
   "execution_count": null,
   "id": "7ede1f10-933b-4648-86f1-452b9cfedf51",
   "metadata": {},
   "outputs": [],
   "source": [
    "export_s1 = s1_project.new_path.to_list()\n",
    "output_file = 's0001.txt'\n",
    "with open(output_file, 'w') as file:\n",
    "    for i in export_s1:\n",
    "        file.write(i + '\\n')"
   ]
  },
  {
   "cell_type": "code",
   "execution_count": null,
   "id": "9cc6dfe3-727a-481d-bdd8-190af8640130",
   "metadata": {},
   "outputs": [],
   "source": [
    "export_s2 = s2_project.new_path.to_list()\n",
    "output_file = 's0002.txt'\n",
    "with open(output_file, 'w') as file:\n",
    "    for i in export_s2:\n",
    "        file.write(i + '\\n')"
   ]
  },
  {
   "cell_type": "code",
   "execution_count": null,
   "id": "3f1bc604-f80e-4539-868b-becebd32f504",
   "metadata": {},
   "outputs": [],
   "source": [
    "export_s3 = s3_project.new_path.to_list()\n",
    "output_file = 's0003.txt'\n",
    "with open(output_file, 'w') as file:\n",
    "    for i in export_s3:\n",
    "        file.write(i + '\\n')"
   ]
  },
  {
   "cell_type": "code",
   "execution_count": null,
   "id": "0b1977ad-d749-4a96-8c5c-27d9f07c8554",
   "metadata": {},
   "outputs": [],
   "source": [
    "export_s4 = s4_project.new_path.to_list()\n",
    "output_file = 's0004.txt'\n",
    "with open(output_file, 'w') as file:\n",
    "    for i in export_s4:\n",
    "        file.write(i + '\\n')"
   ]
  },
  {
   "cell_type": "code",
   "execution_count": null,
   "id": "b284e715-0c57-4abb-bc3a-8c3254396cfb",
   "metadata": {},
   "outputs": [],
   "source": [
    "export_s5 = s5_project.new_path.to_list()\n",
    "output_file = 's0005.txt'\n",
    "with open(output_file, 'w') as file:\n",
    "    for i in export_s5:\n",
    "        file.write(i + '\\n')"
   ]
  },
  {
   "cell_type": "code",
   "execution_count": null,
   "id": "26ccb55d-3300-4452-8d1f-0d08fbab7750",
   "metadata": {},
   "outputs": [],
   "source": [
    "export_s6 = s6_project.new_path.to_list()\n",
    "output_file = 's0006.txt'\n",
    "with open(output_file, 'w') as file:\n",
    "    for i in export_s6:\n",
    "        file.write(i + '\\n')"
   ]
  },
  {
   "cell_type": "code",
   "execution_count": null,
   "id": "252d7d1a-9bc8-45c2-b87a-e1ea93659ebd",
   "metadata": {},
   "outputs": [],
   "source": [
    "export_s7 = s7_project.new_path.to_list()\n",
    "output_file = 's0007.txt'\n",
    "with open(output_file, 'w') as file:\n",
    "    for i in export_s7:\n",
    "        file.write(i + '\\n')"
   ]
  },
  {
   "cell_type": "code",
   "execution_count": 11,
   "id": "8ef9358d-8e3d-4299-9349-018f4416a8ef",
   "metadata": {},
   "outputs": [],
   "source": [
    "export_s12 = s12_project.new_path.to_list()\n",
    "output_file = 's0012.txt'\n",
    "with open(output_file, 'w') as file:\n",
    "    for i in export_s12:\n",
    "        file.write(i + '\\n')"
   ]
  },
  {
   "cell_type": "code",
   "execution_count": null,
   "id": "95a8e05a-437f-4adb-a8bb-0a70a3b45dbb",
   "metadata": {},
   "outputs": [],
   "source": []
  },
  {
   "cell_type": "markdown",
   "id": "6e460ee7-6834-4e54-95ec-829cbb402e22",
   "metadata": {},
   "source": [
    "## Part 4: What TICs from old download are not in `eleanor-lite`, and vice-versa?"
   ]
  },
  {
   "cell_type": "code",
   "execution_count": null,
   "id": "c06f523f-af02-442d-94c1-bb779ba8ac6b",
   "metadata": {},
   "outputs": [],
   "source": [
    "old_s1 = old[old.Sector == 1]\n",
    "old_s2 = old[old.Sector == 2]\n",
    "old_s3 = old[old.Sector == 3]\n",
    "old_s4 = old[old.Sector == 4]\n",
    "old_s5 = old[old.Sector == 5]\n",
    "old_s6 = old[old.Sector == 6]\n",
    "old_s7 = old[old.Sector == 7]"
   ]
  },
  {
   "cell_type": "code",
   "execution_count": null,
   "id": "39721ea8-aedc-47a7-acdf-3ed59231976c",
   "metadata": {},
   "outputs": [],
   "source": [
    "not_in_s1_project = old_s1[~old_s1.TIC_ID.isin(s1_project.tic_id)] # tics from old not in new\n",
    "not_in_old_s1 = s1_project[~s1_project.tic_id.isin(old_s1.TIC_ID)] # tics in new not in old"
   ]
  },
  {
   "cell_type": "code",
   "execution_count": null,
   "id": "01023fec-6e62-44a8-b07e-cbefa90bb1c3",
   "metadata": {},
   "outputs": [],
   "source": [
    "not_in_old_s1"
   ]
  },
  {
   "cell_type": "code",
   "execution_count": null,
   "id": "a39a11b2-7d52-44d0-b01d-c1652373d7f5",
   "metadata": {},
   "outputs": [],
   "source": [
    "not_in_s1_project"
   ]
  },
  {
   "cell_type": "code",
   "execution_count": null,
   "id": "57994d1d-e5c6-44d5-820b-dcb8cc045016",
   "metadata": {},
   "outputs": [],
   "source": [
    "not_in_s2_project[not_in_s2_project.TIC_ID.isin(not_in_old_s2.tic_id)]"
   ]
  },
  {
   "cell_type": "code",
   "execution_count": null,
   "id": "676b2eac-e302-4564-a9e6-0689e9d0ed4b",
   "metadata": {},
   "outputs": [],
   "source": [
    "len(old_s2)"
   ]
  },
  {
   "cell_type": "code",
   "execution_count": null,
   "id": "e6a9fbe1-a207-419f-b55f-7ae5485c2e77",
   "metadata": {},
   "outputs": [],
   "source": [
    "abs(len(s2_project) - len(old_s2))"
   ]
  },
  {
   "cell_type": "markdown",
   "id": "c50bcdde-1712-4054-934a-8fc41f44594c",
   "metadata": {
    "tags": []
   },
   "source": [
    "## Part 5: Download Scripts"
   ]
  },
  {
   "cell_type": "code",
   "execution_count": 7,
   "id": "4fe7d509-1e51-401e-ac5d-cac99e945553",
   "metadata": {},
   "outputs": [],
   "source": [
    "import pandas as pd"
   ]
  },
  {
   "cell_type": "code",
   "execution_count": 8,
   "id": "8d106a1d-3018-47c8-8cb9-7c59e1b7108e",
   "metadata": {},
   "outputs": [],
   "source": [
    "with open('/storage/astro2/phrdhx/eleanor-lite-project-v2/download_scripts/hlsp_gsfc-eleanor-lite_tess_ffi_s0006_tess_v1.0_lc.sh', 'r') as file:\n",
    "    script_contents = file.readlines()"
   ]
  },
  {
   "cell_type": "code",
   "execution_count": 9,
   "id": "5d29044c-6ea3-4fae-a2be-011402149cff",
   "metadata": {},
   "outputs": [],
   "source": [
    "df = pd.DataFrame(script_contents, columns=[\"Script Lines\"])\n",
    "df['Extracted ID'] = df['Script Lines'].str.extract(r'(\\d{16})')\n",
    "df['ID'] = df['Extracted ID'].str.lstrip('0')"
   ]
  },
  {
   "cell_type": "code",
   "execution_count": 10,
   "id": "6135065d-dbb3-4e76-81e1-e739a9a69fd6",
   "metadata": {},
   "outputs": [
    {
     "data": {
      "text/html": [
       "<div>\n",
       "<style scoped>\n",
       "    .dataframe tbody tr th:only-of-type {\n",
       "        vertical-align: middle;\n",
       "    }\n",
       "\n",
       "    .dataframe tbody tr th {\n",
       "        vertical-align: top;\n",
       "    }\n",
       "\n",
       "    .dataframe thead th {\n",
       "        text-align: right;\n",
       "    }\n",
       "</style>\n",
       "<table border=\"1\" class=\"dataframe\">\n",
       "  <thead>\n",
       "    <tr style=\"text-align: right;\">\n",
       "      <th></th>\n",
       "      <th>Script Lines</th>\n",
       "      <th>Extracted ID</th>\n",
       "      <th>ID</th>\n",
       "    </tr>\n",
       "  </thead>\n",
       "  <tbody>\n",
       "    <tr>\n",
       "      <th>0</th>\n",
       "      <td>#!/bin/sh\\n</td>\n",
       "      <td>NaN</td>\n",
       "      <td>NaN</td>\n",
       "    </tr>\n",
       "    <tr>\n",
       "      <th>1</th>\n",
       "      <td>curl -f --create-dirs --output 's0006/0000/000...</td>\n",
       "      <td>0000000004160330</td>\n",
       "      <td>4160330</td>\n",
       "    </tr>\n",
       "    <tr>\n",
       "      <th>2</th>\n",
       "      <td>curl -f --create-dirs --output 's0006/0000/000...</td>\n",
       "      <td>0000000004160331</td>\n",
       "      <td>4160331</td>\n",
       "    </tr>\n",
       "    <tr>\n",
       "      <th>3</th>\n",
       "      <td>curl -f --create-dirs --output 's0006/0000/000...</td>\n",
       "      <td>0000000004160343</td>\n",
       "      <td>4160343</td>\n",
       "    </tr>\n",
       "    <tr>\n",
       "      <th>4</th>\n",
       "      <td>curl -f --create-dirs --output 's0006/0000/000...</td>\n",
       "      <td>0000000004160348</td>\n",
       "      <td>4160348</td>\n",
       "    </tr>\n",
       "  </tbody>\n",
       "</table>\n",
       "</div>"
      ],
      "text/plain": [
       "                                        Script Lines      Extracted ID  \\\n",
       "0                                        #!/bin/sh\\n               NaN   \n",
       "1  curl -f --create-dirs --output 's0006/0000/000...  0000000004160330   \n",
       "2  curl -f --create-dirs --output 's0006/0000/000...  0000000004160331   \n",
       "3  curl -f --create-dirs --output 's0006/0000/000...  0000000004160343   \n",
       "4  curl -f --create-dirs --output 's0006/0000/000...  0000000004160348   \n",
       "\n",
       "        ID  \n",
       "0      NaN  \n",
       "1  4160330  \n",
       "2  4160331  \n",
       "3  4160343  \n",
       "4  4160348  "
      ]
     },
     "execution_count": 10,
     "metadata": {},
     "output_type": "execute_result"
    }
   ],
   "source": [
    "df.head()"
   ]
  },
  {
   "cell_type": "code",
   "execution_count": 11,
   "id": "b0051833-95a5-4175-a262-dcbb2620677e",
   "metadata": {},
   "outputs": [],
   "source": [
    "df.drop(0,inplace=True)"
   ]
  },
  {
   "cell_type": "code",
   "execution_count": 12,
   "id": "0f7af32c-40ab-441a-b3e9-5ed37c27c8c1",
   "metadata": {},
   "outputs": [],
   "source": [
    "#df[df['Extracted ID'] == '0000000270577175']['Script Lines'].values[0]"
   ]
  },
  {
   "cell_type": "code",
   "execution_count": 13,
   "id": "f20e2d95-df24-4e57-8375-42a944922d49",
   "metadata": {},
   "outputs": [],
   "source": [
    "df['ID'] = df['ID'].astype(int)"
   ]
  },
  {
   "cell_type": "code",
   "execution_count": 14,
   "id": "6eb34612-9fa9-4401-96db-f03cb66639ae",
   "metadata": {},
   "outputs": [],
   "source": [
    "to_export = df[df['ID'].isin(s6_project['tic_id'])]"
   ]
  },
  {
   "cell_type": "code",
   "execution_count": 15,
   "id": "27ad4aaf-df44-46f1-89ae-d7d1d2c17ded",
   "metadata": {},
   "outputs": [
    {
     "data": {
      "text/html": [
       "<div>\n",
       "<style scoped>\n",
       "    .dataframe tbody tr th:only-of-type {\n",
       "        vertical-align: middle;\n",
       "    }\n",
       "\n",
       "    .dataframe tbody tr th {\n",
       "        vertical-align: top;\n",
       "    }\n",
       "\n",
       "    .dataframe thead th {\n",
       "        text-align: right;\n",
       "    }\n",
       "</style>\n",
       "<table border=\"1\" class=\"dataframe\">\n",
       "  <thead>\n",
       "    <tr style=\"text-align: right;\">\n",
       "      <th></th>\n",
       "      <th>Script Lines</th>\n",
       "      <th>Extracted ID</th>\n",
       "      <th>ID</th>\n",
       "    </tr>\n",
       "  </thead>\n",
       "  <tbody>\n",
       "    <tr>\n",
       "      <th>262147</th>\n",
       "      <td>curl -f --create-dirs --output 's0006/0000/000...</td>\n",
       "      <td>0000000031193194</td>\n",
       "      <td>31193194</td>\n",
       "    </tr>\n",
       "    <tr>\n",
       "      <th>262150</th>\n",
       "      <td>curl -f --create-dirs --output 's0006/0000/000...</td>\n",
       "      <td>0000000031193204</td>\n",
       "      <td>31193204</td>\n",
       "    </tr>\n",
       "    <tr>\n",
       "      <th>262151</th>\n",
       "      <td>curl -f --create-dirs --output 's0006/0000/000...</td>\n",
       "      <td>0000000031193208</td>\n",
       "      <td>31193208</td>\n",
       "    </tr>\n",
       "    <tr>\n",
       "      <th>262153</th>\n",
       "      <td>curl -f --create-dirs --output 's0006/0000/000...</td>\n",
       "      <td>0000000031193217</td>\n",
       "      <td>31193217</td>\n",
       "    </tr>\n",
       "    <tr>\n",
       "      <th>262167</th>\n",
       "      <td>curl -f --create-dirs --output 's0006/0000/000...</td>\n",
       "      <td>0000000031193253</td>\n",
       "      <td>31193253</td>\n",
       "    </tr>\n",
       "    <tr>\n",
       "      <th>...</th>\n",
       "      <td>...</td>\n",
       "      <td>...</td>\n",
       "      <td>...</td>\n",
       "    </tr>\n",
       "    <tr>\n",
       "      <th>5692609</th>\n",
       "      <td>curl -f --create-dirs --output 's0006/0000/010...</td>\n",
       "      <td>0000010005000369</td>\n",
       "      <td>10005000369</td>\n",
       "    </tr>\n",
       "    <tr>\n",
       "      <th>5692610</th>\n",
       "      <td>curl -f --create-dirs --output 's0006/0000/010...</td>\n",
       "      <td>0000010005000388</td>\n",
       "      <td>10005000388</td>\n",
       "    </tr>\n",
       "    <tr>\n",
       "      <th>5692611</th>\n",
       "      <td>curl -f --create-dirs --output 's0006/0000/010...</td>\n",
       "      <td>0000010005000433</td>\n",
       "      <td>10005000433</td>\n",
       "    </tr>\n",
       "    <tr>\n",
       "      <th>5692612</th>\n",
       "      <td>curl -f --create-dirs --output 's0006/0000/010...</td>\n",
       "      <td>0000010005000483</td>\n",
       "      <td>10005000483</td>\n",
       "    </tr>\n",
       "    <tr>\n",
       "      <th>5692613</th>\n",
       "      <td>curl -f --create-dirs --output 's0006/0000/010...</td>\n",
       "      <td>0000010005000503</td>\n",
       "      <td>10005000503</td>\n",
       "    </tr>\n",
       "  </tbody>\n",
       "</table>\n",
       "<p>617682 rows × 3 columns</p>\n",
       "</div>"
      ],
      "text/plain": [
       "                                              Script Lines      Extracted ID  \\\n",
       "262147   curl -f --create-dirs --output 's0006/0000/000...  0000000031193194   \n",
       "262150   curl -f --create-dirs --output 's0006/0000/000...  0000000031193204   \n",
       "262151   curl -f --create-dirs --output 's0006/0000/000...  0000000031193208   \n",
       "262153   curl -f --create-dirs --output 's0006/0000/000...  0000000031193217   \n",
       "262167   curl -f --create-dirs --output 's0006/0000/000...  0000000031193253   \n",
       "...                                                    ...               ...   \n",
       "5692609  curl -f --create-dirs --output 's0006/0000/010...  0000010005000369   \n",
       "5692610  curl -f --create-dirs --output 's0006/0000/010...  0000010005000388   \n",
       "5692611  curl -f --create-dirs --output 's0006/0000/010...  0000010005000433   \n",
       "5692612  curl -f --create-dirs --output 's0006/0000/010...  0000010005000483   \n",
       "5692613  curl -f --create-dirs --output 's0006/0000/010...  0000010005000503   \n",
       "\n",
       "                  ID  \n",
       "262147      31193194  \n",
       "262150      31193204  \n",
       "262151      31193208  \n",
       "262153      31193217  \n",
       "262167      31193253  \n",
       "...              ...  \n",
       "5692609  10005000369  \n",
       "5692610  10005000388  \n",
       "5692611  10005000433  \n",
       "5692612  10005000483  \n",
       "5692613  10005000503  \n",
       "\n",
       "[617682 rows x 3 columns]"
      ]
     },
     "execution_count": 15,
     "metadata": {},
     "output_type": "execute_result"
    }
   ],
   "source": [
    "to_export"
   ]
  },
  {
   "cell_type": "code",
   "execution_count": 14,
   "id": "33ff316b-7ad1-48d8-aa26-bd9156bfaeda",
   "metadata": {},
   "outputs": [
    {
     "data": {
      "text/plain": [
       "287352"
      ]
     },
     "execution_count": 14,
     "metadata": {},
     "output_type": "execute_result"
    }
   ],
   "source": [
    "len(s1_project)"
   ]
  },
  {
   "cell_type": "code",
   "execution_count": 198,
   "id": "9dac0c68-4af6-4423-94fc-64388b4a5814",
   "metadata": {},
   "outputs": [
    {
     "data": {
      "text/plain": [
       "6859735"
      ]
     },
     "execution_count": 198,
     "metadata": {},
     "output_type": "execute_result"
    }
   ],
   "source": [
    "len(df)"
   ]
  },
  {
   "cell_type": "code",
   "execution_count": 199,
   "id": "25a0af95-0243-425f-8c68-7f6307328117",
   "metadata": {},
   "outputs": [],
   "source": [
    "output_file = '../../s8.sh'\n",
    "\n",
    "# Extract the 'Curl Script' column and write it to the .sh file\n",
    "with open(output_file, 'w') as sh_file:\n",
    "    for curl_script in to_export['Script Lines']:\n",
    "        sh_file.write(curl_script)"
   ]
  },
  {
   "cell_type": "markdown",
   "id": "7aae4b8f-da1f-4d6c-892a-4ca2a5ad5efd",
   "metadata": {},
   "source": [
    "---\n",
    "### Making sure it's the same number of lines"
   ]
  },
  {
   "cell_type": "code",
   "execution_count": 6,
   "id": "0d22cb71-2a56-4029-8751-057035bcdcf7",
   "metadata": {},
   "outputs": [],
   "source": [
    "with open('/storage/astro2/phrdhx/eleanor-lite-project-v2/download_scripts/s8.sh', 'r') as file:\n",
    "    script_contents = file.readlines()"
   ]
  },
  {
   "cell_type": "code",
   "execution_count": 7,
   "id": "65361dbb-1221-4d3c-a562-348a11f12c58",
   "metadata": {},
   "outputs": [],
   "source": [
    "df = pd.DataFrame(script_contents, columns=[\"Script Lines\"])\n",
    "df['Extracted ID'] = df['Script Lines'].str.extract(r'(\\d{16})')\n",
    "df['ID'] = df['Extracted ID'].str.lstrip('0')\n",
    "df['ID'] = df['ID'].astype(int)"
   ]
  },
  {
   "cell_type": "code",
   "execution_count": 8,
   "id": "c7c4fec7-caff-4ff2-b720-5bdc9a7c7315",
   "metadata": {},
   "outputs": [
    {
     "data": {
      "text/html": [
       "<div>\n",
       "<style scoped>\n",
       "    .dataframe tbody tr th:only-of-type {\n",
       "        vertical-align: middle;\n",
       "    }\n",
       "\n",
       "    .dataframe tbody tr th {\n",
       "        vertical-align: top;\n",
       "    }\n",
       "\n",
       "    .dataframe thead th {\n",
       "        text-align: right;\n",
       "    }\n",
       "</style>\n",
       "<table border=\"1\" class=\"dataframe\">\n",
       "  <thead>\n",
       "    <tr style=\"text-align: right;\">\n",
       "      <th></th>\n",
       "      <th>Script Lines</th>\n",
       "      <th>Extracted ID</th>\n",
       "      <th>ID</th>\n",
       "    </tr>\n",
       "  </thead>\n",
       "  <tbody>\n",
       "    <tr>\n",
       "      <th>0</th>\n",
       "      <td>curl -f --create-dirs --output 's0008/0000/000...</td>\n",
       "      <td>0000000007845793</td>\n",
       "      <td>7845793</td>\n",
       "    </tr>\n",
       "    <tr>\n",
       "      <th>1</th>\n",
       "      <td>curl -f --create-dirs --output 's0008/0000/000...</td>\n",
       "      <td>0000000007845804</td>\n",
       "      <td>7845804</td>\n",
       "    </tr>\n",
       "    <tr>\n",
       "      <th>2</th>\n",
       "      <td>curl -f --create-dirs --output 's0008/0000/000...</td>\n",
       "      <td>0000000007845809</td>\n",
       "      <td>7845809</td>\n",
       "    </tr>\n",
       "    <tr>\n",
       "      <th>3</th>\n",
       "      <td>curl -f --create-dirs --output 's0008/0000/000...</td>\n",
       "      <td>0000000007845818</td>\n",
       "      <td>7845818</td>\n",
       "    </tr>\n",
       "    <tr>\n",
       "      <th>4</th>\n",
       "      <td>curl -f --create-dirs --output 's0008/0000/000...</td>\n",
       "      <td>0000000007845819</td>\n",
       "      <td>7845819</td>\n",
       "    </tr>\n",
       "    <tr>\n",
       "      <th>...</th>\n",
       "      <td>...</td>\n",
       "      <td>...</td>\n",
       "      <td>...</td>\n",
       "    </tr>\n",
       "    <tr>\n",
       "      <th>698240</th>\n",
       "      <td>curl -f --create-dirs --output 's0008/0000/010...</td>\n",
       "      <td>0000010005000363</td>\n",
       "      <td>10005000363</td>\n",
       "    </tr>\n",
       "    <tr>\n",
       "      <th>698241</th>\n",
       "      <td>curl -f --create-dirs --output 's0008/0000/010...</td>\n",
       "      <td>0000010005000369</td>\n",
       "      <td>10005000369</td>\n",
       "    </tr>\n",
       "    <tr>\n",
       "      <th>698242</th>\n",
       "      <td>curl -f --create-dirs --output 's0008/0000/010...</td>\n",
       "      <td>0000010005000380</td>\n",
       "      <td>10005000380</td>\n",
       "    </tr>\n",
       "    <tr>\n",
       "      <th>698243</th>\n",
       "      <td>curl -f --create-dirs --output 's0008/0000/010...</td>\n",
       "      <td>0000010005000418</td>\n",
       "      <td>10005000418</td>\n",
       "    </tr>\n",
       "    <tr>\n",
       "      <th>698244</th>\n",
       "      <td>curl -f --create-dirs --output 's0008/0000/010...</td>\n",
       "      <td>0000010005000473</td>\n",
       "      <td>10005000473</td>\n",
       "    </tr>\n",
       "  </tbody>\n",
       "</table>\n",
       "<p>698245 rows × 3 columns</p>\n",
       "</div>"
      ],
      "text/plain": [
       "                                             Script Lines      Extracted ID  \\\n",
       "0       curl -f --create-dirs --output 's0008/0000/000...  0000000007845793   \n",
       "1       curl -f --create-dirs --output 's0008/0000/000...  0000000007845804   \n",
       "2       curl -f --create-dirs --output 's0008/0000/000...  0000000007845809   \n",
       "3       curl -f --create-dirs --output 's0008/0000/000...  0000000007845818   \n",
       "4       curl -f --create-dirs --output 's0008/0000/000...  0000000007845819   \n",
       "...                                                   ...               ...   \n",
       "698240  curl -f --create-dirs --output 's0008/0000/010...  0000010005000363   \n",
       "698241  curl -f --create-dirs --output 's0008/0000/010...  0000010005000369   \n",
       "698242  curl -f --create-dirs --output 's0008/0000/010...  0000010005000380   \n",
       "698243  curl -f --create-dirs --output 's0008/0000/010...  0000010005000418   \n",
       "698244  curl -f --create-dirs --output 's0008/0000/010...  0000010005000473   \n",
       "\n",
       "                 ID  \n",
       "0           7845793  \n",
       "1           7845804  \n",
       "2           7845809  \n",
       "3           7845818  \n",
       "4           7845819  \n",
       "...             ...  \n",
       "698240  10005000363  \n",
       "698241  10005000369  \n",
       "698242  10005000380  \n",
       "698243  10005000418  \n",
       "698244  10005000473  \n",
       "\n",
       "[698245 rows x 3 columns]"
      ]
     },
     "execution_count": 8,
     "metadata": {},
     "output_type": "execute_result"
    }
   ],
   "source": [
    "df"
   ]
  },
  {
   "cell_type": "code",
   "execution_count": 9,
   "id": "8f66c0d6-cdfa-4ce9-a2b6-5db1a6829da3",
   "metadata": {},
   "outputs": [
    {
     "data": {
      "text/html": [
       "<div>\n",
       "<style scoped>\n",
       "    .dataframe tbody tr th:only-of-type {\n",
       "        vertical-align: middle;\n",
       "    }\n",
       "\n",
       "    .dataframe tbody tr th {\n",
       "        vertical-align: top;\n",
       "    }\n",
       "\n",
       "    .dataframe thead th {\n",
       "        text-align: right;\n",
       "    }\n",
       "</style>\n",
       "<table border=\"1\" class=\"dataframe\">\n",
       "  <thead>\n",
       "    <tr style=\"text-align: right;\">\n",
       "      <th></th>\n",
       "      <th>Script Lines</th>\n",
       "      <th>Extracted ID</th>\n",
       "      <th>ID</th>\n",
       "    </tr>\n",
       "  </thead>\n",
       "  <tbody>\n",
       "    <tr>\n",
       "      <th>0</th>\n",
       "      <td>curl -f --create-dirs --output 's0008/0000/000...</td>\n",
       "      <td>0000000007845793</td>\n",
       "      <td>7845793</td>\n",
       "    </tr>\n",
       "    <tr>\n",
       "      <th>1</th>\n",
       "      <td>curl -f --create-dirs --output 's0008/0000/000...</td>\n",
       "      <td>0000000007845804</td>\n",
       "      <td>7845804</td>\n",
       "    </tr>\n",
       "    <tr>\n",
       "      <th>2</th>\n",
       "      <td>curl -f --create-dirs --output 's0008/0000/000...</td>\n",
       "      <td>0000000007845809</td>\n",
       "      <td>7845809</td>\n",
       "    </tr>\n",
       "    <tr>\n",
       "      <th>3</th>\n",
       "      <td>curl -f --create-dirs --output 's0008/0000/000...</td>\n",
       "      <td>0000000007845818</td>\n",
       "      <td>7845818</td>\n",
       "    </tr>\n",
       "    <tr>\n",
       "      <th>4</th>\n",
       "      <td>curl -f --create-dirs --output 's0008/0000/000...</td>\n",
       "      <td>0000000007845819</td>\n",
       "      <td>7845819</td>\n",
       "    </tr>\n",
       "    <tr>\n",
       "      <th>...</th>\n",
       "      <td>...</td>\n",
       "      <td>...</td>\n",
       "      <td>...</td>\n",
       "    </tr>\n",
       "    <tr>\n",
       "      <th>698240</th>\n",
       "      <td>curl -f --create-dirs --output 's0008/0000/010...</td>\n",
       "      <td>0000010005000363</td>\n",
       "      <td>10005000363</td>\n",
       "    </tr>\n",
       "    <tr>\n",
       "      <th>698241</th>\n",
       "      <td>curl -f --create-dirs --output 's0008/0000/010...</td>\n",
       "      <td>0000010005000369</td>\n",
       "      <td>10005000369</td>\n",
       "    </tr>\n",
       "    <tr>\n",
       "      <th>698242</th>\n",
       "      <td>curl -f --create-dirs --output 's0008/0000/010...</td>\n",
       "      <td>0000010005000380</td>\n",
       "      <td>10005000380</td>\n",
       "    </tr>\n",
       "    <tr>\n",
       "      <th>698243</th>\n",
       "      <td>curl -f --create-dirs --output 's0008/0000/010...</td>\n",
       "      <td>0000010005000418</td>\n",
       "      <td>10005000418</td>\n",
       "    </tr>\n",
       "    <tr>\n",
       "      <th>698244</th>\n",
       "      <td>curl -f --create-dirs --output 's0008/0000/010...</td>\n",
       "      <td>0000010005000473</td>\n",
       "      <td>10005000473</td>\n",
       "    </tr>\n",
       "  </tbody>\n",
       "</table>\n",
       "<p>698245 rows × 3 columns</p>\n",
       "</div>"
      ],
      "text/plain": [
       "                                             Script Lines      Extracted ID  \\\n",
       "0       curl -f --create-dirs --output 's0008/0000/000...  0000000007845793   \n",
       "1       curl -f --create-dirs --output 's0008/0000/000...  0000000007845804   \n",
       "2       curl -f --create-dirs --output 's0008/0000/000...  0000000007845809   \n",
       "3       curl -f --create-dirs --output 's0008/0000/000...  0000000007845818   \n",
       "4       curl -f --create-dirs --output 's0008/0000/000...  0000000007845819   \n",
       "...                                                   ...               ...   \n",
       "698240  curl -f --create-dirs --output 's0008/0000/010...  0000010005000363   \n",
       "698241  curl -f --create-dirs --output 's0008/0000/010...  0000010005000369   \n",
       "698242  curl -f --create-dirs --output 's0008/0000/010...  0000010005000380   \n",
       "698243  curl -f --create-dirs --output 's0008/0000/010...  0000010005000418   \n",
       "698244  curl -f --create-dirs --output 's0008/0000/010...  0000010005000473   \n",
       "\n",
       "                 ID  \n",
       "0           7845793  \n",
       "1           7845804  \n",
       "2           7845809  \n",
       "3           7845818  \n",
       "4           7845819  \n",
       "...             ...  \n",
       "698240  10005000363  \n",
       "698241  10005000369  \n",
       "698242  10005000380  \n",
       "698243  10005000418  \n",
       "698244  10005000473  \n",
       "\n",
       "[698245 rows x 3 columns]"
      ]
     },
     "execution_count": 9,
     "metadata": {},
     "output_type": "execute_result"
    }
   ],
   "source": [
    "df.drop_duplicates(subset='ID')"
   ]
  },
  {
   "cell_type": "code",
   "execution_count": 10,
   "id": "a94770c8-e69c-46fb-9a4b-2f35ab3cb783",
   "metadata": {},
   "outputs": [
    {
     "data": {
      "text/plain": [
       "0             7845793\n",
       "1             7845804\n",
       "2             7845809\n",
       "3             7845818\n",
       "4             7845819\n",
       "             ...     \n",
       "698240    10005000363\n",
       "698241    10005000369\n",
       "698242    10005000380\n",
       "698243    10005000418\n",
       "698244    10005000473\n",
       "Name: ID, Length: 698245, dtype: int64"
      ]
     },
     "execution_count": 10,
     "metadata": {},
     "output_type": "execute_result"
    }
   ],
   "source": [
    "df.ID"
   ]
  },
  {
   "cell_type": "code",
   "execution_count": 11,
   "id": "9d10378c-7d03-4045-8521-f2e39784a301",
   "metadata": {},
   "outputs": [],
   "source": [
    "import json"
   ]
  },
  {
   "cell_type": "markdown",
   "id": "c9647088-d84b-4114-b0ce-06d9a7b666bf",
   "metadata": {},
   "source": [
    "#### S1 failed process"
   ]
  },
  {
   "cell_type": "code",
   "execution_count": 12,
   "id": "9866cb12-38c4-458d-99c2-89fd18f4e44a",
   "metadata": {},
   "outputs": [
    {
     "ename": "FileNotFoundError",
     "evalue": "[Errno 2] No such file or directory: 'outputs/s8.txt'",
     "output_type": "error",
     "traceback": [
      "\u001b[0;31m---------------------------------------------------------------------------\u001b[0m",
      "\u001b[0;31mFileNotFoundError\u001b[0m                         Traceback (most recent call last)",
      "\u001b[0;32m<ipython-input-12-9acf636a597b>\u001b[0m in \u001b[0;36m<module>\u001b[0;34m\u001b[0m\n\u001b[0;32m----> 1\u001b[0;31m \u001b[0mtest\u001b[0m \u001b[0;34m=\u001b[0m \u001b[0mpd\u001b[0m\u001b[0;34m.\u001b[0m\u001b[0mread_csv\u001b[0m\u001b[0;34m(\u001b[0m\u001b[0;34m'outputs/s8.txt'\u001b[0m\u001b[0;34m,\u001b[0m\u001b[0mheader\u001b[0m\u001b[0;34m=\u001b[0m\u001b[0;32mNone\u001b[0m\u001b[0;34m,\u001b[0m \u001b[0msep\u001b[0m\u001b[0;34m=\u001b[0m\u001b[0;34m\" \"\u001b[0m\u001b[0;34m)\u001b[0m\u001b[0;34m\u001b[0m\u001b[0;34m\u001b[0m\u001b[0m\n\u001b[0m\u001b[1;32m      2\u001b[0m \u001b[0;32mwith\u001b[0m \u001b[0mopen\u001b[0m\u001b[0;34m(\u001b[0m\u001b[0;34m'colnames.json'\u001b[0m\u001b[0;34m,\u001b[0m \u001b[0;34m'r'\u001b[0m\u001b[0;34m,\u001b[0m \u001b[0mencoding\u001b[0m\u001b[0;34m=\u001b[0m\u001b[0;34m'utf-8'\u001b[0m\u001b[0;34m)\u001b[0m \u001b[0;32mas\u001b[0m \u001b[0mf\u001b[0m\u001b[0;34m:\u001b[0m\u001b[0;34m\u001b[0m\u001b[0;34m\u001b[0m\u001b[0m\n\u001b[1;32m      3\u001b[0m     \u001b[0mcheck\u001b[0m \u001b[0;34m=\u001b[0m \u001b[0mf\u001b[0m\u001b[0;34m.\u001b[0m\u001b[0mread\u001b[0m\u001b[0;34m(\u001b[0m\u001b[0;34m)\u001b[0m\u001b[0;34m\u001b[0m\u001b[0;34m\u001b[0m\u001b[0m\n\u001b[1;32m      4\u001b[0m     \u001b[0mcolumns\u001b[0m \u001b[0;34m=\u001b[0m \u001b[0mjson\u001b[0m\u001b[0;34m.\u001b[0m\u001b[0mloads\u001b[0m\u001b[0;34m(\u001b[0m\u001b[0mcheck\u001b[0m\u001b[0;34m)\u001b[0m\u001b[0;34m\u001b[0m\u001b[0;34m\u001b[0m\u001b[0m\n\u001b[1;32m      5\u001b[0m     \u001b[0mcolumns\u001b[0m \u001b[0;34m=\u001b[0m \u001b[0mcolumns\u001b[0m\u001b[0;34m[\u001b[0m\u001b[0;34m'column_names'\u001b[0m\u001b[0;34m]\u001b[0m\u001b[0;34m\u001b[0m\u001b[0;34m\u001b[0m\u001b[0m\n",
      "\u001b[0;32m~/micromamba/envs/auto_exo/lib/python3.7/site-packages/pandas/util/_decorators.py\u001b[0m in \u001b[0;36mwrapper\u001b[0;34m(*args, **kwargs)\u001b[0m\n\u001b[1;32m    309\u001b[0m                     \u001b[0mstacklevel\u001b[0m\u001b[0;34m=\u001b[0m\u001b[0mstacklevel\u001b[0m\u001b[0;34m,\u001b[0m\u001b[0;34m\u001b[0m\u001b[0;34m\u001b[0m\u001b[0m\n\u001b[1;32m    310\u001b[0m                 )\n\u001b[0;32m--> 311\u001b[0;31m             \u001b[0;32mreturn\u001b[0m \u001b[0mfunc\u001b[0m\u001b[0;34m(\u001b[0m\u001b[0;34m*\u001b[0m\u001b[0margs\u001b[0m\u001b[0;34m,\u001b[0m \u001b[0;34m**\u001b[0m\u001b[0mkwargs\u001b[0m\u001b[0;34m)\u001b[0m\u001b[0;34m\u001b[0m\u001b[0;34m\u001b[0m\u001b[0m\n\u001b[0m\u001b[1;32m    312\u001b[0m \u001b[0;34m\u001b[0m\u001b[0m\n\u001b[1;32m    313\u001b[0m         \u001b[0;32mreturn\u001b[0m \u001b[0mwrapper\u001b[0m\u001b[0;34m\u001b[0m\u001b[0;34m\u001b[0m\u001b[0m\n",
      "\u001b[0;32m~/micromamba/envs/auto_exo/lib/python3.7/site-packages/pandas/io/parsers/readers.py\u001b[0m in \u001b[0;36mread_csv\u001b[0;34m(filepath_or_buffer, sep, delimiter, header, names, index_col, usecols, squeeze, prefix, mangle_dupe_cols, dtype, engine, converters, true_values, false_values, skipinitialspace, skiprows, skipfooter, nrows, na_values, keep_default_na, na_filter, verbose, skip_blank_lines, parse_dates, infer_datetime_format, keep_date_col, date_parser, dayfirst, cache_dates, iterator, chunksize, compression, thousands, decimal, lineterminator, quotechar, quoting, doublequote, escapechar, comment, encoding, encoding_errors, dialect, error_bad_lines, warn_bad_lines, on_bad_lines, delim_whitespace, low_memory, memory_map, float_precision, storage_options)\u001b[0m\n\u001b[1;32m    584\u001b[0m     \u001b[0mkwds\u001b[0m\u001b[0;34m.\u001b[0m\u001b[0mupdate\u001b[0m\u001b[0;34m(\u001b[0m\u001b[0mkwds_defaults\u001b[0m\u001b[0;34m)\u001b[0m\u001b[0;34m\u001b[0m\u001b[0;34m\u001b[0m\u001b[0m\n\u001b[1;32m    585\u001b[0m \u001b[0;34m\u001b[0m\u001b[0m\n\u001b[0;32m--> 586\u001b[0;31m     \u001b[0;32mreturn\u001b[0m \u001b[0m_read\u001b[0m\u001b[0;34m(\u001b[0m\u001b[0mfilepath_or_buffer\u001b[0m\u001b[0;34m,\u001b[0m \u001b[0mkwds\u001b[0m\u001b[0;34m)\u001b[0m\u001b[0;34m\u001b[0m\u001b[0;34m\u001b[0m\u001b[0m\n\u001b[0m\u001b[1;32m    587\u001b[0m \u001b[0;34m\u001b[0m\u001b[0m\n\u001b[1;32m    588\u001b[0m \u001b[0;34m\u001b[0m\u001b[0m\n",
      "\u001b[0;32m~/micromamba/envs/auto_exo/lib/python3.7/site-packages/pandas/io/parsers/readers.py\u001b[0m in \u001b[0;36m_read\u001b[0;34m(filepath_or_buffer, kwds)\u001b[0m\n\u001b[1;32m    480\u001b[0m \u001b[0;34m\u001b[0m\u001b[0m\n\u001b[1;32m    481\u001b[0m     \u001b[0;31m# Create the parser.\u001b[0m\u001b[0;34m\u001b[0m\u001b[0;34m\u001b[0m\u001b[0;34m\u001b[0m\u001b[0m\n\u001b[0;32m--> 482\u001b[0;31m     \u001b[0mparser\u001b[0m \u001b[0;34m=\u001b[0m \u001b[0mTextFileReader\u001b[0m\u001b[0;34m(\u001b[0m\u001b[0mfilepath_or_buffer\u001b[0m\u001b[0;34m,\u001b[0m \u001b[0;34m**\u001b[0m\u001b[0mkwds\u001b[0m\u001b[0;34m)\u001b[0m\u001b[0;34m\u001b[0m\u001b[0;34m\u001b[0m\u001b[0m\n\u001b[0m\u001b[1;32m    483\u001b[0m \u001b[0;34m\u001b[0m\u001b[0m\n\u001b[1;32m    484\u001b[0m     \u001b[0;32mif\u001b[0m \u001b[0mchunksize\u001b[0m \u001b[0;32mor\u001b[0m \u001b[0miterator\u001b[0m\u001b[0;34m:\u001b[0m\u001b[0;34m\u001b[0m\u001b[0;34m\u001b[0m\u001b[0m\n",
      "\u001b[0;32m~/micromamba/envs/auto_exo/lib/python3.7/site-packages/pandas/io/parsers/readers.py\u001b[0m in \u001b[0;36m__init__\u001b[0;34m(self, f, engine, **kwds)\u001b[0m\n\u001b[1;32m    809\u001b[0m             \u001b[0mself\u001b[0m\u001b[0;34m.\u001b[0m\u001b[0moptions\u001b[0m\u001b[0;34m[\u001b[0m\u001b[0;34m\"has_index_names\"\u001b[0m\u001b[0;34m]\u001b[0m \u001b[0;34m=\u001b[0m \u001b[0mkwds\u001b[0m\u001b[0;34m[\u001b[0m\u001b[0;34m\"has_index_names\"\u001b[0m\u001b[0;34m]\u001b[0m\u001b[0;34m\u001b[0m\u001b[0;34m\u001b[0m\u001b[0m\n\u001b[1;32m    810\u001b[0m \u001b[0;34m\u001b[0m\u001b[0m\n\u001b[0;32m--> 811\u001b[0;31m         \u001b[0mself\u001b[0m\u001b[0;34m.\u001b[0m\u001b[0m_engine\u001b[0m \u001b[0;34m=\u001b[0m \u001b[0mself\u001b[0m\u001b[0;34m.\u001b[0m\u001b[0m_make_engine\u001b[0m\u001b[0;34m(\u001b[0m\u001b[0mself\u001b[0m\u001b[0;34m.\u001b[0m\u001b[0mengine\u001b[0m\u001b[0;34m)\u001b[0m\u001b[0;34m\u001b[0m\u001b[0;34m\u001b[0m\u001b[0m\n\u001b[0m\u001b[1;32m    812\u001b[0m \u001b[0;34m\u001b[0m\u001b[0m\n\u001b[1;32m    813\u001b[0m     \u001b[0;32mdef\u001b[0m \u001b[0mclose\u001b[0m\u001b[0;34m(\u001b[0m\u001b[0mself\u001b[0m\u001b[0;34m)\u001b[0m\u001b[0;34m:\u001b[0m\u001b[0;34m\u001b[0m\u001b[0;34m\u001b[0m\u001b[0m\n",
      "\u001b[0;32m~/micromamba/envs/auto_exo/lib/python3.7/site-packages/pandas/io/parsers/readers.py\u001b[0m in \u001b[0;36m_make_engine\u001b[0;34m(self, engine)\u001b[0m\n\u001b[1;32m   1038\u001b[0m             )\n\u001b[1;32m   1039\u001b[0m         \u001b[0;31m# error: Too many arguments for \"ParserBase\"\u001b[0m\u001b[0;34m\u001b[0m\u001b[0;34m\u001b[0m\u001b[0;34m\u001b[0m\u001b[0m\n\u001b[0;32m-> 1040\u001b[0;31m         \u001b[0;32mreturn\u001b[0m \u001b[0mmapping\u001b[0m\u001b[0;34m[\u001b[0m\u001b[0mengine\u001b[0m\u001b[0;34m]\u001b[0m\u001b[0;34m(\u001b[0m\u001b[0mself\u001b[0m\u001b[0;34m.\u001b[0m\u001b[0mf\u001b[0m\u001b[0;34m,\u001b[0m \u001b[0;34m**\u001b[0m\u001b[0mself\u001b[0m\u001b[0;34m.\u001b[0m\u001b[0moptions\u001b[0m\u001b[0;34m)\u001b[0m  \u001b[0;31m# type: ignore[call-arg]\u001b[0m\u001b[0;34m\u001b[0m\u001b[0;34m\u001b[0m\u001b[0m\n\u001b[0m\u001b[1;32m   1041\u001b[0m \u001b[0;34m\u001b[0m\u001b[0m\n\u001b[1;32m   1042\u001b[0m     \u001b[0;32mdef\u001b[0m \u001b[0m_failover_to_python\u001b[0m\u001b[0;34m(\u001b[0m\u001b[0mself\u001b[0m\u001b[0;34m)\u001b[0m\u001b[0;34m:\u001b[0m\u001b[0;34m\u001b[0m\u001b[0;34m\u001b[0m\u001b[0m\n",
      "\u001b[0;32m~/micromamba/envs/auto_exo/lib/python3.7/site-packages/pandas/io/parsers/c_parser_wrapper.py\u001b[0m in \u001b[0;36m__init__\u001b[0;34m(self, src, **kwds)\u001b[0m\n\u001b[1;32m     49\u001b[0m \u001b[0;34m\u001b[0m\u001b[0m\n\u001b[1;32m     50\u001b[0m         \u001b[0;31m# open handles\u001b[0m\u001b[0;34m\u001b[0m\u001b[0;34m\u001b[0m\u001b[0;34m\u001b[0m\u001b[0m\n\u001b[0;32m---> 51\u001b[0;31m         \u001b[0mself\u001b[0m\u001b[0;34m.\u001b[0m\u001b[0m_open_handles\u001b[0m\u001b[0;34m(\u001b[0m\u001b[0msrc\u001b[0m\u001b[0;34m,\u001b[0m \u001b[0mkwds\u001b[0m\u001b[0;34m)\u001b[0m\u001b[0;34m\u001b[0m\u001b[0;34m\u001b[0m\u001b[0m\n\u001b[0m\u001b[1;32m     52\u001b[0m         \u001b[0;32massert\u001b[0m \u001b[0mself\u001b[0m\u001b[0;34m.\u001b[0m\u001b[0mhandles\u001b[0m \u001b[0;32mis\u001b[0m \u001b[0;32mnot\u001b[0m \u001b[0;32mNone\u001b[0m\u001b[0;34m\u001b[0m\u001b[0;34m\u001b[0m\u001b[0m\n\u001b[1;32m     53\u001b[0m \u001b[0;34m\u001b[0m\u001b[0m\n",
      "\u001b[0;32m~/micromamba/envs/auto_exo/lib/python3.7/site-packages/pandas/io/parsers/base_parser.py\u001b[0m in \u001b[0;36m_open_handles\u001b[0;34m(self, src, kwds)\u001b[0m\n\u001b[1;32m    227\u001b[0m             \u001b[0mmemory_map\u001b[0m\u001b[0;34m=\u001b[0m\u001b[0mkwds\u001b[0m\u001b[0;34m.\u001b[0m\u001b[0mget\u001b[0m\u001b[0;34m(\u001b[0m\u001b[0;34m\"memory_map\"\u001b[0m\u001b[0;34m,\u001b[0m \u001b[0;32mFalse\u001b[0m\u001b[0;34m)\u001b[0m\u001b[0;34m,\u001b[0m\u001b[0;34m\u001b[0m\u001b[0;34m\u001b[0m\u001b[0m\n\u001b[1;32m    228\u001b[0m             \u001b[0mstorage_options\u001b[0m\u001b[0;34m=\u001b[0m\u001b[0mkwds\u001b[0m\u001b[0;34m.\u001b[0m\u001b[0mget\u001b[0m\u001b[0;34m(\u001b[0m\u001b[0;34m\"storage_options\"\u001b[0m\u001b[0;34m,\u001b[0m \u001b[0;32mNone\u001b[0m\u001b[0;34m)\u001b[0m\u001b[0;34m,\u001b[0m\u001b[0;34m\u001b[0m\u001b[0;34m\u001b[0m\u001b[0m\n\u001b[0;32m--> 229\u001b[0;31m             \u001b[0merrors\u001b[0m\u001b[0;34m=\u001b[0m\u001b[0mkwds\u001b[0m\u001b[0;34m.\u001b[0m\u001b[0mget\u001b[0m\u001b[0;34m(\u001b[0m\u001b[0;34m\"encoding_errors\"\u001b[0m\u001b[0;34m,\u001b[0m \u001b[0;34m\"strict\"\u001b[0m\u001b[0;34m)\u001b[0m\u001b[0;34m,\u001b[0m\u001b[0;34m\u001b[0m\u001b[0;34m\u001b[0m\u001b[0m\n\u001b[0m\u001b[1;32m    230\u001b[0m         )\n\u001b[1;32m    231\u001b[0m \u001b[0;34m\u001b[0m\u001b[0m\n",
      "\u001b[0;32m~/micromamba/envs/auto_exo/lib/python3.7/site-packages/pandas/io/common.py\u001b[0m in \u001b[0;36mget_handle\u001b[0;34m(path_or_buf, mode, encoding, compression, memory_map, is_text, errors, storage_options)\u001b[0m\n\u001b[1;32m    705\u001b[0m                 \u001b[0mencoding\u001b[0m\u001b[0;34m=\u001b[0m\u001b[0mioargs\u001b[0m\u001b[0;34m.\u001b[0m\u001b[0mencoding\u001b[0m\u001b[0;34m,\u001b[0m\u001b[0;34m\u001b[0m\u001b[0;34m\u001b[0m\u001b[0m\n\u001b[1;32m    706\u001b[0m                 \u001b[0merrors\u001b[0m\u001b[0;34m=\u001b[0m\u001b[0merrors\u001b[0m\u001b[0;34m,\u001b[0m\u001b[0;34m\u001b[0m\u001b[0;34m\u001b[0m\u001b[0m\n\u001b[0;32m--> 707\u001b[0;31m                 \u001b[0mnewline\u001b[0m\u001b[0;34m=\u001b[0m\u001b[0;34m\"\"\u001b[0m\u001b[0;34m,\u001b[0m\u001b[0;34m\u001b[0m\u001b[0;34m\u001b[0m\u001b[0m\n\u001b[0m\u001b[1;32m    708\u001b[0m             )\n\u001b[1;32m    709\u001b[0m         \u001b[0;32melse\u001b[0m\u001b[0;34m:\u001b[0m\u001b[0;34m\u001b[0m\u001b[0;34m\u001b[0m\u001b[0m\n",
      "\u001b[0;31mFileNotFoundError\u001b[0m: [Errno 2] No such file or directory: 'outputs/s8.txt'"
     ]
    }
   ],
   "source": [
    "test = pd.read_csv('outputs/s8.txt',header=None, sep=\" \")\n",
    "with open('colnames.json', 'r', encoding='utf-8') as f:\n",
    "    check = f.read()\n",
    "    columns = json.loads(check)\n",
    "    columns = columns['column_names']\n",
    "test.columns = columns\n",
    "\n"
   ]
  },
  {
   "cell_type": "code",
   "execution_count": null,
   "id": "b468fc1d-50c3-4f7f-9a3d-5d200bca2f2a",
   "metadata": {},
   "outputs": [],
   "source": [
    "missed = df[~df.ID.isin(test.TIC_ID)]"
   ]
  },
  {
   "cell_type": "code",
   "execution_count": null,
   "id": "af61dcb3-5f24-463b-9a8a-f7c3effdfc96",
   "metadata": {},
   "outputs": [],
   "source": [
    "missed"
   ]
  },
  {
   "cell_type": "code",
   "execution_count": 39,
   "id": "eaae5cca-fcac-400f-8c9c-9d0efa072639",
   "metadata": {},
   "outputs": [],
   "source": [
    "output_file2 = '/storage/astro2/phrdhx/eleanor-lite-project-v2/download_scripts/s8_missed.sh'\n",
    "\n",
    "# Extract the 'Curl Script' column and write it to the .sh file\n",
    "with open(output_file2, 'w') as sh_file:\n",
    "    for curl_script in missed['Script Lines']:\n",
    "        sh_file.write(curl_script)"
   ]
  },
  {
   "cell_type": "markdown",
   "id": "5c77fb7b-a678-401d-a7b1-9930bfff3f0d",
   "metadata": {
    "tags": []
   },
   "source": [
    "----\n",
    "## Part 6"
   ]
  },
  {
   "cell_type": "code",
   "execution_count": 1,
   "id": "614c5c2c-8181-455c-a3a7-20bf1fd51d37",
   "metadata": {},
   "outputs": [],
   "source": [
    "import os\n",
    "os.chdir('../../')\n",
    "import pandas as pd\n",
    "from tqdm import tqdm"
   ]
  },
  {
   "cell_type": "code",
   "execution_count": 4,
   "id": "132a9827-348c-4c65-8d33-01bd4de5a826",
   "metadata": {},
   "outputs": [],
   "source": [
    "tic = pd.read_csv('tic_catalog_v3.txt',sep='\\t')\n",
    "tic['tic_leading_zeroes'] = tic.tic_id.astype(str).str.zfill(16)"
   ]
  },
  {
   "cell_type": "code",
   "execution_count": 5,
   "id": "300dfc6a-451b-474c-b545-08521dfefbbe",
   "metadata": {},
   "outputs": [
    {
     "data": {
      "text/html": [
       "<div>\n",
       "<style scoped>\n",
       "    .dataframe tbody tr th:only-of-type {\n",
       "        vertical-align: middle;\n",
       "    }\n",
       "\n",
       "    .dataframe tbody tr th {\n",
       "        vertical-align: top;\n",
       "    }\n",
       "\n",
       "    .dataframe thead th {\n",
       "        text-align: right;\n",
       "    }\n",
       "</style>\n",
       "<table border=\"1\" class=\"dataframe\">\n",
       "  <thead>\n",
       "    <tr style=\"text-align: right;\">\n",
       "      <th></th>\n",
       "      <th>tic_id</th>\n",
       "      <th>Tmag</th>\n",
       "      <th>GAIAmag</th>\n",
       "      <th>gaiabp</th>\n",
       "      <th>gaiarp</th>\n",
       "      <th>d</th>\n",
       "      <th>plx</th>\n",
       "      <th>tic_leading_zeroes</th>\n",
       "    </tr>\n",
       "  </thead>\n",
       "  <tbody>\n",
       "    <tr>\n",
       "      <th>0</th>\n",
       "      <td>269273552</td>\n",
       "      <td>-1.745</td>\n",
       "      <td>NaN</td>\n",
       "      <td>NaN</td>\n",
       "      <td>NaN</td>\n",
       "      <td>NaN</td>\n",
       "      <td>NaN</td>\n",
       "      <td>0000000269273552</td>\n",
       "    </tr>\n",
       "    <tr>\n",
       "      <th>1</th>\n",
       "      <td>175934060</td>\n",
       "      <td>-1.679</td>\n",
       "      <td>NaN</td>\n",
       "      <td>NaN</td>\n",
       "      <td>NaN</td>\n",
       "      <td>NaN</td>\n",
       "      <td>NaN</td>\n",
       "      <td>0000000175934060</td>\n",
       "    </tr>\n",
       "    <tr>\n",
       "      <th>2</th>\n",
       "      <td>459832522</td>\n",
       "      <td>-1.254</td>\n",
       "      <td>NaN</td>\n",
       "      <td>NaN</td>\n",
       "      <td>NaN</td>\n",
       "      <td>11.2575</td>\n",
       "      <td>88.83</td>\n",
       "      <td>0000000459832522</td>\n",
       "    </tr>\n",
       "    <tr>\n",
       "      <th>3</th>\n",
       "      <td>245873777</td>\n",
       "      <td>-1.200</td>\n",
       "      <td>NaN</td>\n",
       "      <td>NaN</td>\n",
       "      <td>NaN</td>\n",
       "      <td>20.4332</td>\n",
       "      <td>48.94</td>\n",
       "      <td>0000000245873777</td>\n",
       "    </tr>\n",
       "    <tr>\n",
       "      <th>4</th>\n",
       "      <td>272314138</td>\n",
       "      <td>-1.043</td>\n",
       "      <td>NaN</td>\n",
       "      <td>NaN</td>\n",
       "      <td>NaN</td>\n",
       "      <td>NaN</td>\n",
       "      <td>NaN</td>\n",
       "      <td>0000000272314138</td>\n",
       "    </tr>\n",
       "    <tr>\n",
       "      <th>...</th>\n",
       "      <td>...</td>\n",
       "      <td>...</td>\n",
       "      <td>...</td>\n",
       "      <td>...</td>\n",
       "      <td>...</td>\n",
       "      <td>...</td>\n",
       "      <td>...</td>\n",
       "      <td>...</td>\n",
       "    </tr>\n",
       "    <tr>\n",
       "      <th>13275767</th>\n",
       "      <td>10000693211</td>\n",
       "      <td>13.000</td>\n",
       "      <td>NaN</td>\n",
       "      <td>NaN</td>\n",
       "      <td>NaN</td>\n",
       "      <td>NaN</td>\n",
       "      <td>NaN</td>\n",
       "      <td>0000010000693211</td>\n",
       "    </tr>\n",
       "    <tr>\n",
       "      <th>13275768</th>\n",
       "      <td>10001083513</td>\n",
       "      <td>13.000</td>\n",
       "      <td>NaN</td>\n",
       "      <td>NaN</td>\n",
       "      <td>NaN</td>\n",
       "      <td>NaN</td>\n",
       "      <td>NaN</td>\n",
       "      <td>0000010001083513</td>\n",
       "    </tr>\n",
       "    <tr>\n",
       "      <th>13275769</th>\n",
       "      <td>10001920480</td>\n",
       "      <td>13.000</td>\n",
       "      <td>NaN</td>\n",
       "      <td>NaN</td>\n",
       "      <td>NaN</td>\n",
       "      <td>NaN</td>\n",
       "      <td>NaN</td>\n",
       "      <td>0000010001920480</td>\n",
       "    </tr>\n",
       "    <tr>\n",
       "      <th>13275770</th>\n",
       "      <td>10002253686</td>\n",
       "      <td>13.000</td>\n",
       "      <td>NaN</td>\n",
       "      <td>NaN</td>\n",
       "      <td>NaN</td>\n",
       "      <td>NaN</td>\n",
       "      <td>NaN</td>\n",
       "      <td>0000010002253686</td>\n",
       "    </tr>\n",
       "    <tr>\n",
       "      <th>13275771</th>\n",
       "      <td>10002515250</td>\n",
       "      <td>13.000</td>\n",
       "      <td>NaN</td>\n",
       "      <td>NaN</td>\n",
       "      <td>NaN</td>\n",
       "      <td>NaN</td>\n",
       "      <td>NaN</td>\n",
       "      <td>0000010002515250</td>\n",
       "    </tr>\n",
       "  </tbody>\n",
       "</table>\n",
       "<p>13275772 rows × 8 columns</p>\n",
       "</div>"
      ],
      "text/plain": [
       "               tic_id    Tmag  GAIAmag  gaiabp  gaiarp        d    plx  \\\n",
       "0           269273552  -1.745      NaN     NaN     NaN      NaN    NaN   \n",
       "1           175934060  -1.679      NaN     NaN     NaN      NaN    NaN   \n",
       "2           459832522  -1.254      NaN     NaN     NaN  11.2575  88.83   \n",
       "3           245873777  -1.200      NaN     NaN     NaN  20.4332  48.94   \n",
       "4           272314138  -1.043      NaN     NaN     NaN      NaN    NaN   \n",
       "...               ...     ...      ...     ...     ...      ...    ...   \n",
       "13275767  10000693211  13.000      NaN     NaN     NaN      NaN    NaN   \n",
       "13275768  10001083513  13.000      NaN     NaN     NaN      NaN    NaN   \n",
       "13275769  10001920480  13.000      NaN     NaN     NaN      NaN    NaN   \n",
       "13275770  10002253686  13.000      NaN     NaN     NaN      NaN    NaN   \n",
       "13275771  10002515250  13.000      NaN     NaN     NaN      NaN    NaN   \n",
       "\n",
       "         tic_leading_zeroes  \n",
       "0          0000000269273552  \n",
       "1          0000000175934060  \n",
       "2          0000000459832522  \n",
       "3          0000000245873777  \n",
       "4          0000000272314138  \n",
       "...                     ...  \n",
       "13275767   0000010000693211  \n",
       "13275768   0000010001083513  \n",
       "13275769   0000010001920480  \n",
       "13275770   0000010002253686  \n",
       "13275771   0000010002515250  \n",
       "\n",
       "[13275772 rows x 8 columns]"
      ]
     },
     "execution_count": 5,
     "metadata": {},
     "output_type": "execute_result"
    }
   ],
   "source": [
    "tic"
   ]
  },
  {
   "cell_type": "code",
   "execution_count": 6,
   "id": "9eb494af-505e-4859-9abd-129e96a88030",
   "metadata": {},
   "outputs": [
    {
     "data": {
      "text/plain": [
       "[9, 10, 11, 12, 13, 14, 15, 16, 17, 18, 19, 20, 21, 22, 23, 24, 25]"
      ]
     },
     "execution_count": 6,
     "metadata": {},
     "output_type": "execute_result"
    }
   ],
   "source": [
    "s_values = list(range(9,26))\n",
    "s_values"
   ]
  },
  {
   "cell_type": "code",
   "execution_count": null,
   "id": "e2788eb4-a5f5-43fa-b5a9-917641a23170",
   "metadata": {},
   "outputs": [],
   "source": []
  },
  {
   "cell_type": "code",
   "execution_count": null,
   "id": "59f084ba-ec1c-4117-ae48-84c17ba3fedb",
   "metadata": {},
   "outputs": [],
   "source": []
  },
  {
   "cell_type": "code",
   "execution_count": 12,
   "id": "9ad1fdad-f242-47c8-86a8-20bce91e5e84",
   "metadata": {},
   "outputs": [
    {
     "name": "stdout",
     "output_type": "stream",
     "text": [
      "0 duplicates found\n",
      "project dataframe size for sector 9:            tic_id     Tmag tic_leading_zeroes  \\\n",
      "0       462358278  12.5217   0000000462358278   \n",
      "1       462354014  11.9082   0000000462354014   \n",
      "2       462356064  12.5600   0000000462356064   \n",
      "3       462359065  12.4845   0000000462359065   \n",
      "4       462358670  12.3590   0000000462358670   \n",
      "...           ...      ...                ...   \n",
      "729308  679620176   8.0967   0000000679620176   \n",
      "729309  677042436  12.6723   0000000677042436   \n",
      "729310  685333198  11.9352   0000000685333198   \n",
      "729311  675771637  12.1447   0000000675771637   \n",
      "729312  683946865  10.7540   0000000683946865   \n",
      "\n",
      "                                                 new_path  \n",
      "0       /storage/astro2/phrdhx/eleanor-lite/s0009/0000...  \n",
      "1       /storage/astro2/phrdhx/eleanor-lite/s0009/0000...  \n",
      "2       /storage/astro2/phrdhx/eleanor-lite/s0009/0000...  \n",
      "3       /storage/astro2/phrdhx/eleanor-lite/s0009/0000...  \n",
      "4       /storage/astro2/phrdhx/eleanor-lite/s0009/0000...  \n",
      "...                                                   ...  \n",
      "729308  /storage/astro2/phrdhx/eleanor-lite/s0009/0000...  \n",
      "729309  /storage/astro2/phrdhx/eleanor-lite/s0009/0000...  \n",
      "729310  /storage/astro2/phrdhx/eleanor-lite/s0009/0000...  \n",
      "729311  /storage/astro2/phrdhx/eleanor-lite/s0009/0000...  \n",
      "729312  /storage/astro2/phrdhx/eleanor-lite/s0009/0000...  \n",
      "\n",
      "[729313 rows x 4 columns]\n",
      "0 duplicates found\n",
      "project dataframe size for sector 10:            tic_id     Tmag tic_leading_zeroes  \\\n",
      "0        61476981  12.9863   0000000061476981   \n",
      "1        61476002  11.3188   0000000061476002   \n",
      "2        61475839   9.3462   0000000061475839   \n",
      "3        61476301  11.0733   0000000061476301   \n",
      "4        61475683  12.9593   0000000061475683   \n",
      "...           ...      ...                ...   \n",
      "945335  867052513  12.3922   0000000867052513   \n",
      "945336  866087787   9.9452   0000000866087787   \n",
      "945337  866087776  10.1394   0000000866087776   \n",
      "945338  857543330  12.0647   0000000857543330   \n",
      "945339  856591837  12.8457   0000000856591837   \n",
      "\n",
      "                                                 new_path  \n",
      "0       /storage/astro2/phrdhx/eleanor-lite/s0010/0000...  \n",
      "1       /storage/astro2/phrdhx/eleanor-lite/s0010/0000...  \n",
      "2       /storage/astro2/phrdhx/eleanor-lite/s0010/0000...  \n",
      "3       /storage/astro2/phrdhx/eleanor-lite/s0010/0000...  \n",
      "4       /storage/astro2/phrdhx/eleanor-lite/s0010/0000...  \n",
      "...                                                   ...  \n",
      "945335  /storage/astro2/phrdhx/eleanor-lite/s0010/0000...  \n",
      "945336  /storage/astro2/phrdhx/eleanor-lite/s0010/0000...  \n",
      "945337  /storage/astro2/phrdhx/eleanor-lite/s0010/0000...  \n",
      "945338  /storage/astro2/phrdhx/eleanor-lite/s0010/0000...  \n",
      "945339  /storage/astro2/phrdhx/eleanor-lite/s0010/0000...  \n",
      "\n",
      "[945340 rows x 4 columns]\n",
      "0 duplicates found\n",
      "project dataframe size for sector 11:             tic_id     Tmag tic_leading_zeroes  \\\n",
      "0        448597462  12.0897   0000000448597462   \n",
      "1        448594814  12.2808   0000000448594814   \n",
      "2        448595412  10.7609   0000000448595412   \n",
      "3        448593946  11.8394   0000000448593946   \n",
      "4        448595977  12.3955   0000000448595977   \n",
      "...            ...      ...                ...   \n",
      "1262230  684956106  11.0285   0000000684956106   \n",
      "1262231  684950320  12.8241   0000000684950320   \n",
      "1262232  675771637  12.1447   0000000675771637   \n",
      "1262233  683946865  10.7540   0000000683946865   \n",
      "1262234  677042436  12.6723   0000000677042436   \n",
      "\n",
      "                                                  new_path  \n",
      "0        /storage/astro2/phrdhx/eleanor-lite/s0011/0000...  \n",
      "1        /storage/astro2/phrdhx/eleanor-lite/s0011/0000...  \n",
      "2        /storage/astro2/phrdhx/eleanor-lite/s0011/0000...  \n",
      "3        /storage/astro2/phrdhx/eleanor-lite/s0011/0000...  \n",
      "4        /storage/astro2/phrdhx/eleanor-lite/s0011/0000...  \n",
      "...                                                    ...  \n",
      "1262230  /storage/astro2/phrdhx/eleanor-lite/s0011/0000...  \n",
      "1262231  /storage/astro2/phrdhx/eleanor-lite/s0011/0000...  \n",
      "1262232  /storage/astro2/phrdhx/eleanor-lite/s0011/0000...  \n",
      "1262233  /storage/astro2/phrdhx/eleanor-lite/s0011/0000...  \n",
      "1262234  /storage/astro2/phrdhx/eleanor-lite/s0011/0000...  \n",
      "\n",
      "[1262235 rows x 4 columns]\n"
     ]
    },
    {
     "ename": "FileNotFoundError",
     "evalue": "[Errno 2] No such file or directory: 'tic_project/s12-eleanor-lite-project.txt'",
     "output_type": "error",
     "traceback": [
      "\u001b[0;31m---------------------------------------------------------------------------\u001b[0m",
      "\u001b[0;31mFileNotFoundError\u001b[0m                         Traceback (most recent call last)",
      "\u001b[0;32m<ipython-input-12-c9ec091feed6>\u001b[0m in \u001b[0;36m<module>\u001b[0;34m\u001b[0m\n\u001b[1;32m      5\u001b[0m         \u001b[0mfile_name\u001b[0m \u001b[0;34m=\u001b[0m \u001b[0;34mf'tic_project/s{s:02d}-eleanor-lite.txt'\u001b[0m\u001b[0;34m\u001b[0m\u001b[0;34m\u001b[0m\u001b[0m\n\u001b[0;32m----> 6\u001b[0;31m         \u001b[0mdf\u001b[0m \u001b[0;34m=\u001b[0m \u001b[0mpd\u001b[0m\u001b[0;34m.\u001b[0m\u001b[0mread_csv\u001b[0m\u001b[0;34m(\u001b[0m\u001b[0mfile_name\u001b[0m\u001b[0;34m,\u001b[0m \u001b[0mheader\u001b[0m\u001b[0;34m=\u001b[0m\u001b[0;32mNone\u001b[0m\u001b[0;34m,\u001b[0m \u001b[0mnames\u001b[0m\u001b[0;34m=\u001b[0m\u001b[0;34m[\u001b[0m\u001b[0;34m'tic_id'\u001b[0m\u001b[0;34m]\u001b[0m\u001b[0;34m)\u001b[0m\u001b[0;34m\u001b[0m\u001b[0;34m\u001b[0m\u001b[0m\n\u001b[0m\u001b[1;32m      7\u001b[0m     \u001b[0;32mexcept\u001b[0m \u001b[0mFileNotFoundError\u001b[0m\u001b[0;34m:\u001b[0m\u001b[0;34m\u001b[0m\u001b[0;34m\u001b[0m\u001b[0m\n",
      "\u001b[0;32m~/micromamba/envs/auto_exo/lib/python3.7/site-packages/pandas/util/_decorators.py\u001b[0m in \u001b[0;36mwrapper\u001b[0;34m(*args, **kwargs)\u001b[0m\n\u001b[1;32m    310\u001b[0m                 )\n\u001b[0;32m--> 311\u001b[0;31m             \u001b[0;32mreturn\u001b[0m \u001b[0mfunc\u001b[0m\u001b[0;34m(\u001b[0m\u001b[0;34m*\u001b[0m\u001b[0margs\u001b[0m\u001b[0;34m,\u001b[0m \u001b[0;34m**\u001b[0m\u001b[0mkwargs\u001b[0m\u001b[0;34m)\u001b[0m\u001b[0;34m\u001b[0m\u001b[0;34m\u001b[0m\u001b[0m\n\u001b[0m\u001b[1;32m    312\u001b[0m \u001b[0;34m\u001b[0m\u001b[0m\n",
      "\u001b[0;32m~/micromamba/envs/auto_exo/lib/python3.7/site-packages/pandas/io/parsers/readers.py\u001b[0m in \u001b[0;36mread_csv\u001b[0;34m(filepath_or_buffer, sep, delimiter, header, names, index_col, usecols, squeeze, prefix, mangle_dupe_cols, dtype, engine, converters, true_values, false_values, skipinitialspace, skiprows, skipfooter, nrows, na_values, keep_default_na, na_filter, verbose, skip_blank_lines, parse_dates, infer_datetime_format, keep_date_col, date_parser, dayfirst, cache_dates, iterator, chunksize, compression, thousands, decimal, lineterminator, quotechar, quoting, doublequote, escapechar, comment, encoding, encoding_errors, dialect, error_bad_lines, warn_bad_lines, on_bad_lines, delim_whitespace, low_memory, memory_map, float_precision, storage_options)\u001b[0m\n\u001b[1;32m    585\u001b[0m \u001b[0;34m\u001b[0m\u001b[0m\n\u001b[0;32m--> 586\u001b[0;31m     \u001b[0;32mreturn\u001b[0m \u001b[0m_read\u001b[0m\u001b[0;34m(\u001b[0m\u001b[0mfilepath_or_buffer\u001b[0m\u001b[0;34m,\u001b[0m \u001b[0mkwds\u001b[0m\u001b[0;34m)\u001b[0m\u001b[0;34m\u001b[0m\u001b[0;34m\u001b[0m\u001b[0m\n\u001b[0m\u001b[1;32m    587\u001b[0m \u001b[0;34m\u001b[0m\u001b[0m\n",
      "\u001b[0;32m~/micromamba/envs/auto_exo/lib/python3.7/site-packages/pandas/io/parsers/readers.py\u001b[0m in \u001b[0;36m_read\u001b[0;34m(filepath_or_buffer, kwds)\u001b[0m\n\u001b[1;32m    481\u001b[0m     \u001b[0;31m# Create the parser.\u001b[0m\u001b[0;34m\u001b[0m\u001b[0;34m\u001b[0m\u001b[0;34m\u001b[0m\u001b[0m\n\u001b[0;32m--> 482\u001b[0;31m     \u001b[0mparser\u001b[0m \u001b[0;34m=\u001b[0m \u001b[0mTextFileReader\u001b[0m\u001b[0;34m(\u001b[0m\u001b[0mfilepath_or_buffer\u001b[0m\u001b[0;34m,\u001b[0m \u001b[0;34m**\u001b[0m\u001b[0mkwds\u001b[0m\u001b[0;34m)\u001b[0m\u001b[0;34m\u001b[0m\u001b[0;34m\u001b[0m\u001b[0m\n\u001b[0m\u001b[1;32m    483\u001b[0m \u001b[0;34m\u001b[0m\u001b[0m\n",
      "\u001b[0;32m~/micromamba/envs/auto_exo/lib/python3.7/site-packages/pandas/io/parsers/readers.py\u001b[0m in \u001b[0;36m__init__\u001b[0;34m(self, f, engine, **kwds)\u001b[0m\n\u001b[1;32m    810\u001b[0m \u001b[0;34m\u001b[0m\u001b[0m\n\u001b[0;32m--> 811\u001b[0;31m         \u001b[0mself\u001b[0m\u001b[0;34m.\u001b[0m\u001b[0m_engine\u001b[0m \u001b[0;34m=\u001b[0m \u001b[0mself\u001b[0m\u001b[0;34m.\u001b[0m\u001b[0m_make_engine\u001b[0m\u001b[0;34m(\u001b[0m\u001b[0mself\u001b[0m\u001b[0;34m.\u001b[0m\u001b[0mengine\u001b[0m\u001b[0;34m)\u001b[0m\u001b[0;34m\u001b[0m\u001b[0;34m\u001b[0m\u001b[0m\n\u001b[0m\u001b[1;32m    812\u001b[0m \u001b[0;34m\u001b[0m\u001b[0m\n",
      "\u001b[0;32m~/micromamba/envs/auto_exo/lib/python3.7/site-packages/pandas/io/parsers/readers.py\u001b[0m in \u001b[0;36m_make_engine\u001b[0;34m(self, engine)\u001b[0m\n\u001b[1;32m   1039\u001b[0m         \u001b[0;31m# error: Too many arguments for \"ParserBase\"\u001b[0m\u001b[0;34m\u001b[0m\u001b[0;34m\u001b[0m\u001b[0;34m\u001b[0m\u001b[0m\n\u001b[0;32m-> 1040\u001b[0;31m         \u001b[0;32mreturn\u001b[0m \u001b[0mmapping\u001b[0m\u001b[0;34m[\u001b[0m\u001b[0mengine\u001b[0m\u001b[0;34m]\u001b[0m\u001b[0;34m(\u001b[0m\u001b[0mself\u001b[0m\u001b[0;34m.\u001b[0m\u001b[0mf\u001b[0m\u001b[0;34m,\u001b[0m \u001b[0;34m**\u001b[0m\u001b[0mself\u001b[0m\u001b[0;34m.\u001b[0m\u001b[0moptions\u001b[0m\u001b[0;34m)\u001b[0m  \u001b[0;31m# type: ignore[call-arg]\u001b[0m\u001b[0;34m\u001b[0m\u001b[0;34m\u001b[0m\u001b[0m\n\u001b[0m\u001b[1;32m   1041\u001b[0m \u001b[0;34m\u001b[0m\u001b[0m\n",
      "\u001b[0;32m~/micromamba/envs/auto_exo/lib/python3.7/site-packages/pandas/io/parsers/c_parser_wrapper.py\u001b[0m in \u001b[0;36m__init__\u001b[0;34m(self, src, **kwds)\u001b[0m\n\u001b[1;32m     50\u001b[0m         \u001b[0;31m# open handles\u001b[0m\u001b[0;34m\u001b[0m\u001b[0;34m\u001b[0m\u001b[0;34m\u001b[0m\u001b[0m\n\u001b[0;32m---> 51\u001b[0;31m         \u001b[0mself\u001b[0m\u001b[0;34m.\u001b[0m\u001b[0m_open_handles\u001b[0m\u001b[0;34m(\u001b[0m\u001b[0msrc\u001b[0m\u001b[0;34m,\u001b[0m \u001b[0mkwds\u001b[0m\u001b[0;34m)\u001b[0m\u001b[0;34m\u001b[0m\u001b[0;34m\u001b[0m\u001b[0m\n\u001b[0m\u001b[1;32m     52\u001b[0m         \u001b[0;32massert\u001b[0m \u001b[0mself\u001b[0m\u001b[0;34m.\u001b[0m\u001b[0mhandles\u001b[0m \u001b[0;32mis\u001b[0m \u001b[0;32mnot\u001b[0m \u001b[0;32mNone\u001b[0m\u001b[0;34m\u001b[0m\u001b[0;34m\u001b[0m\u001b[0m\n",
      "\u001b[0;32m~/micromamba/envs/auto_exo/lib/python3.7/site-packages/pandas/io/parsers/base_parser.py\u001b[0m in \u001b[0;36m_open_handles\u001b[0;34m(self, src, kwds)\u001b[0m\n\u001b[1;32m    228\u001b[0m             \u001b[0mstorage_options\u001b[0m\u001b[0;34m=\u001b[0m\u001b[0mkwds\u001b[0m\u001b[0;34m.\u001b[0m\u001b[0mget\u001b[0m\u001b[0;34m(\u001b[0m\u001b[0;34m\"storage_options\"\u001b[0m\u001b[0;34m,\u001b[0m \u001b[0;32mNone\u001b[0m\u001b[0;34m)\u001b[0m\u001b[0;34m,\u001b[0m\u001b[0;34m\u001b[0m\u001b[0;34m\u001b[0m\u001b[0m\n\u001b[0;32m--> 229\u001b[0;31m             \u001b[0merrors\u001b[0m\u001b[0;34m=\u001b[0m\u001b[0mkwds\u001b[0m\u001b[0;34m.\u001b[0m\u001b[0mget\u001b[0m\u001b[0;34m(\u001b[0m\u001b[0;34m\"encoding_errors\"\u001b[0m\u001b[0;34m,\u001b[0m \u001b[0;34m\"strict\"\u001b[0m\u001b[0;34m)\u001b[0m\u001b[0;34m,\u001b[0m\u001b[0;34m\u001b[0m\u001b[0;34m\u001b[0m\u001b[0m\n\u001b[0m\u001b[1;32m    230\u001b[0m         )\n",
      "\u001b[0;32m~/micromamba/envs/auto_exo/lib/python3.7/site-packages/pandas/io/common.py\u001b[0m in \u001b[0;36mget_handle\u001b[0;34m(path_or_buf, mode, encoding, compression, memory_map, is_text, errors, storage_options)\u001b[0m\n\u001b[1;32m    706\u001b[0m                 \u001b[0merrors\u001b[0m\u001b[0;34m=\u001b[0m\u001b[0merrors\u001b[0m\u001b[0;34m,\u001b[0m\u001b[0;34m\u001b[0m\u001b[0;34m\u001b[0m\u001b[0m\n\u001b[0;32m--> 707\u001b[0;31m                 \u001b[0mnewline\u001b[0m\u001b[0;34m=\u001b[0m\u001b[0;34m\"\"\u001b[0m\u001b[0;34m,\u001b[0m\u001b[0;34m\u001b[0m\u001b[0;34m\u001b[0m\u001b[0m\n\u001b[0m\u001b[1;32m    708\u001b[0m             )\n",
      "\u001b[0;31mFileNotFoundError\u001b[0m: [Errno 2] No such file or directory: 'tic_project/s12-eleanor-lite.txt'",
      "\nDuring handling of the above exception, another exception occurred:\n",
      "\u001b[0;31mFileNotFoundError\u001b[0m                         Traceback (most recent call last)",
      "\u001b[0;32m<ipython-input-12-c9ec091feed6>\u001b[0m in \u001b[0;36m<module>\u001b[0;34m\u001b[0m\n\u001b[1;32m      7\u001b[0m     \u001b[0;32mexcept\u001b[0m \u001b[0mFileNotFoundError\u001b[0m\u001b[0;34m:\u001b[0m\u001b[0;34m\u001b[0m\u001b[0;34m\u001b[0m\u001b[0m\n\u001b[1;32m      8\u001b[0m         \u001b[0mfile_name\u001b[0m \u001b[0;34m=\u001b[0m \u001b[0;34mf'tic_project/s{s:02d}-eleanor-lite-project.txt'\u001b[0m\u001b[0;34m\u001b[0m\u001b[0;34m\u001b[0m\u001b[0m\n\u001b[0;32m----> 9\u001b[0;31m         \u001b[0mdf\u001b[0m \u001b[0;34m=\u001b[0m \u001b[0mpd\u001b[0m\u001b[0;34m.\u001b[0m\u001b[0mread_csv\u001b[0m\u001b[0;34m(\u001b[0m\u001b[0mfile_name\u001b[0m\u001b[0;34m,\u001b[0m \u001b[0mheader\u001b[0m\u001b[0;34m=\u001b[0m\u001b[0;32mNone\u001b[0m\u001b[0;34m,\u001b[0m \u001b[0mnames\u001b[0m\u001b[0;34m=\u001b[0m\u001b[0;34m[\u001b[0m\u001b[0;34m'tic_id'\u001b[0m\u001b[0;34m]\u001b[0m\u001b[0;34m)\u001b[0m\u001b[0;34m\u001b[0m\u001b[0;34m\u001b[0m\u001b[0m\n\u001b[0m\u001b[1;32m     10\u001b[0m     \u001b[0;32mexcept\u001b[0m\u001b[0;34m:\u001b[0m\u001b[0;34m\u001b[0m\u001b[0;34m\u001b[0m\u001b[0m\n\u001b[1;32m     11\u001b[0m         \u001b[0mprint\u001b[0m\u001b[0;34m(\u001b[0m\u001b[0;34mf\"File 'tic_project/s{s:02d}-eleanor-lite-project.txt' not found. Skipping\"\u001b[0m\u001b[0;34m)\u001b[0m\u001b[0;34m\u001b[0m\u001b[0;34m\u001b[0m\u001b[0m\n",
      "\u001b[0;32m~/micromamba/envs/auto_exo/lib/python3.7/site-packages/pandas/util/_decorators.py\u001b[0m in \u001b[0;36mwrapper\u001b[0;34m(*args, **kwargs)\u001b[0m\n\u001b[1;32m    309\u001b[0m                     \u001b[0mstacklevel\u001b[0m\u001b[0;34m=\u001b[0m\u001b[0mstacklevel\u001b[0m\u001b[0;34m,\u001b[0m\u001b[0;34m\u001b[0m\u001b[0;34m\u001b[0m\u001b[0m\n\u001b[1;32m    310\u001b[0m                 )\n\u001b[0;32m--> 311\u001b[0;31m             \u001b[0;32mreturn\u001b[0m \u001b[0mfunc\u001b[0m\u001b[0;34m(\u001b[0m\u001b[0;34m*\u001b[0m\u001b[0margs\u001b[0m\u001b[0;34m,\u001b[0m \u001b[0;34m**\u001b[0m\u001b[0mkwargs\u001b[0m\u001b[0;34m)\u001b[0m\u001b[0;34m\u001b[0m\u001b[0;34m\u001b[0m\u001b[0m\n\u001b[0m\u001b[1;32m    312\u001b[0m \u001b[0;34m\u001b[0m\u001b[0m\n\u001b[1;32m    313\u001b[0m         \u001b[0;32mreturn\u001b[0m \u001b[0mwrapper\u001b[0m\u001b[0;34m\u001b[0m\u001b[0;34m\u001b[0m\u001b[0m\n",
      "\u001b[0;32m~/micromamba/envs/auto_exo/lib/python3.7/site-packages/pandas/io/parsers/readers.py\u001b[0m in \u001b[0;36mread_csv\u001b[0;34m(filepath_or_buffer, sep, delimiter, header, names, index_col, usecols, squeeze, prefix, mangle_dupe_cols, dtype, engine, converters, true_values, false_values, skipinitialspace, skiprows, skipfooter, nrows, na_values, keep_default_na, na_filter, verbose, skip_blank_lines, parse_dates, infer_datetime_format, keep_date_col, date_parser, dayfirst, cache_dates, iterator, chunksize, compression, thousands, decimal, lineterminator, quotechar, quoting, doublequote, escapechar, comment, encoding, encoding_errors, dialect, error_bad_lines, warn_bad_lines, on_bad_lines, delim_whitespace, low_memory, memory_map, float_precision, storage_options)\u001b[0m\n\u001b[1;32m    584\u001b[0m     \u001b[0mkwds\u001b[0m\u001b[0;34m.\u001b[0m\u001b[0mupdate\u001b[0m\u001b[0;34m(\u001b[0m\u001b[0mkwds_defaults\u001b[0m\u001b[0;34m)\u001b[0m\u001b[0;34m\u001b[0m\u001b[0;34m\u001b[0m\u001b[0m\n\u001b[1;32m    585\u001b[0m \u001b[0;34m\u001b[0m\u001b[0m\n\u001b[0;32m--> 586\u001b[0;31m     \u001b[0;32mreturn\u001b[0m \u001b[0m_read\u001b[0m\u001b[0;34m(\u001b[0m\u001b[0mfilepath_or_buffer\u001b[0m\u001b[0;34m,\u001b[0m \u001b[0mkwds\u001b[0m\u001b[0;34m)\u001b[0m\u001b[0;34m\u001b[0m\u001b[0;34m\u001b[0m\u001b[0m\n\u001b[0m\u001b[1;32m    587\u001b[0m \u001b[0;34m\u001b[0m\u001b[0m\n\u001b[1;32m    588\u001b[0m \u001b[0;34m\u001b[0m\u001b[0m\n",
      "\u001b[0;32m~/micromamba/envs/auto_exo/lib/python3.7/site-packages/pandas/io/parsers/readers.py\u001b[0m in \u001b[0;36m_read\u001b[0;34m(filepath_or_buffer, kwds)\u001b[0m\n\u001b[1;32m    480\u001b[0m \u001b[0;34m\u001b[0m\u001b[0m\n\u001b[1;32m    481\u001b[0m     \u001b[0;31m# Create the parser.\u001b[0m\u001b[0;34m\u001b[0m\u001b[0;34m\u001b[0m\u001b[0;34m\u001b[0m\u001b[0m\n\u001b[0;32m--> 482\u001b[0;31m     \u001b[0mparser\u001b[0m \u001b[0;34m=\u001b[0m \u001b[0mTextFileReader\u001b[0m\u001b[0;34m(\u001b[0m\u001b[0mfilepath_or_buffer\u001b[0m\u001b[0;34m,\u001b[0m \u001b[0;34m**\u001b[0m\u001b[0mkwds\u001b[0m\u001b[0;34m)\u001b[0m\u001b[0;34m\u001b[0m\u001b[0;34m\u001b[0m\u001b[0m\n\u001b[0m\u001b[1;32m    483\u001b[0m \u001b[0;34m\u001b[0m\u001b[0m\n\u001b[1;32m    484\u001b[0m     \u001b[0;32mif\u001b[0m \u001b[0mchunksize\u001b[0m \u001b[0;32mor\u001b[0m \u001b[0miterator\u001b[0m\u001b[0;34m:\u001b[0m\u001b[0;34m\u001b[0m\u001b[0;34m\u001b[0m\u001b[0m\n",
      "\u001b[0;32m~/micromamba/envs/auto_exo/lib/python3.7/site-packages/pandas/io/parsers/readers.py\u001b[0m in \u001b[0;36m__init__\u001b[0;34m(self, f, engine, **kwds)\u001b[0m\n\u001b[1;32m    809\u001b[0m             \u001b[0mself\u001b[0m\u001b[0;34m.\u001b[0m\u001b[0moptions\u001b[0m\u001b[0;34m[\u001b[0m\u001b[0;34m\"has_index_names\"\u001b[0m\u001b[0;34m]\u001b[0m \u001b[0;34m=\u001b[0m \u001b[0mkwds\u001b[0m\u001b[0;34m[\u001b[0m\u001b[0;34m\"has_index_names\"\u001b[0m\u001b[0;34m]\u001b[0m\u001b[0;34m\u001b[0m\u001b[0;34m\u001b[0m\u001b[0m\n\u001b[1;32m    810\u001b[0m \u001b[0;34m\u001b[0m\u001b[0m\n\u001b[0;32m--> 811\u001b[0;31m         \u001b[0mself\u001b[0m\u001b[0;34m.\u001b[0m\u001b[0m_engine\u001b[0m \u001b[0;34m=\u001b[0m \u001b[0mself\u001b[0m\u001b[0;34m.\u001b[0m\u001b[0m_make_engine\u001b[0m\u001b[0;34m(\u001b[0m\u001b[0mself\u001b[0m\u001b[0;34m.\u001b[0m\u001b[0mengine\u001b[0m\u001b[0;34m)\u001b[0m\u001b[0;34m\u001b[0m\u001b[0;34m\u001b[0m\u001b[0m\n\u001b[0m\u001b[1;32m    812\u001b[0m \u001b[0;34m\u001b[0m\u001b[0m\n\u001b[1;32m    813\u001b[0m     \u001b[0;32mdef\u001b[0m \u001b[0mclose\u001b[0m\u001b[0;34m(\u001b[0m\u001b[0mself\u001b[0m\u001b[0;34m)\u001b[0m\u001b[0;34m:\u001b[0m\u001b[0;34m\u001b[0m\u001b[0;34m\u001b[0m\u001b[0m\n",
      "\u001b[0;32m~/micromamba/envs/auto_exo/lib/python3.7/site-packages/pandas/io/parsers/readers.py\u001b[0m in \u001b[0;36m_make_engine\u001b[0;34m(self, engine)\u001b[0m\n\u001b[1;32m   1038\u001b[0m             )\n\u001b[1;32m   1039\u001b[0m         \u001b[0;31m# error: Too many arguments for \"ParserBase\"\u001b[0m\u001b[0;34m\u001b[0m\u001b[0;34m\u001b[0m\u001b[0;34m\u001b[0m\u001b[0m\n\u001b[0;32m-> 1040\u001b[0;31m         \u001b[0;32mreturn\u001b[0m \u001b[0mmapping\u001b[0m\u001b[0;34m[\u001b[0m\u001b[0mengine\u001b[0m\u001b[0;34m]\u001b[0m\u001b[0;34m(\u001b[0m\u001b[0mself\u001b[0m\u001b[0;34m.\u001b[0m\u001b[0mf\u001b[0m\u001b[0;34m,\u001b[0m \u001b[0;34m**\u001b[0m\u001b[0mself\u001b[0m\u001b[0;34m.\u001b[0m\u001b[0moptions\u001b[0m\u001b[0;34m)\u001b[0m  \u001b[0;31m# type: ignore[call-arg]\u001b[0m\u001b[0;34m\u001b[0m\u001b[0;34m\u001b[0m\u001b[0m\n\u001b[0m\u001b[1;32m   1041\u001b[0m \u001b[0;34m\u001b[0m\u001b[0m\n\u001b[1;32m   1042\u001b[0m     \u001b[0;32mdef\u001b[0m \u001b[0m_failover_to_python\u001b[0m\u001b[0;34m(\u001b[0m\u001b[0mself\u001b[0m\u001b[0;34m)\u001b[0m\u001b[0;34m:\u001b[0m\u001b[0;34m\u001b[0m\u001b[0;34m\u001b[0m\u001b[0m\n",
      "\u001b[0;32m~/micromamba/envs/auto_exo/lib/python3.7/site-packages/pandas/io/parsers/c_parser_wrapper.py\u001b[0m in \u001b[0;36m__init__\u001b[0;34m(self, src, **kwds)\u001b[0m\n\u001b[1;32m     49\u001b[0m \u001b[0;34m\u001b[0m\u001b[0m\n\u001b[1;32m     50\u001b[0m         \u001b[0;31m# open handles\u001b[0m\u001b[0;34m\u001b[0m\u001b[0;34m\u001b[0m\u001b[0;34m\u001b[0m\u001b[0m\n\u001b[0;32m---> 51\u001b[0;31m         \u001b[0mself\u001b[0m\u001b[0;34m.\u001b[0m\u001b[0m_open_handles\u001b[0m\u001b[0;34m(\u001b[0m\u001b[0msrc\u001b[0m\u001b[0;34m,\u001b[0m \u001b[0mkwds\u001b[0m\u001b[0;34m)\u001b[0m\u001b[0;34m\u001b[0m\u001b[0;34m\u001b[0m\u001b[0m\n\u001b[0m\u001b[1;32m     52\u001b[0m         \u001b[0;32massert\u001b[0m \u001b[0mself\u001b[0m\u001b[0;34m.\u001b[0m\u001b[0mhandles\u001b[0m \u001b[0;32mis\u001b[0m \u001b[0;32mnot\u001b[0m \u001b[0;32mNone\u001b[0m\u001b[0;34m\u001b[0m\u001b[0;34m\u001b[0m\u001b[0m\n\u001b[1;32m     53\u001b[0m \u001b[0;34m\u001b[0m\u001b[0m\n",
      "\u001b[0;32m~/micromamba/envs/auto_exo/lib/python3.7/site-packages/pandas/io/parsers/base_parser.py\u001b[0m in \u001b[0;36m_open_handles\u001b[0;34m(self, src, kwds)\u001b[0m\n\u001b[1;32m    227\u001b[0m             \u001b[0mmemory_map\u001b[0m\u001b[0;34m=\u001b[0m\u001b[0mkwds\u001b[0m\u001b[0;34m.\u001b[0m\u001b[0mget\u001b[0m\u001b[0;34m(\u001b[0m\u001b[0;34m\"memory_map\"\u001b[0m\u001b[0;34m,\u001b[0m \u001b[0;32mFalse\u001b[0m\u001b[0;34m)\u001b[0m\u001b[0;34m,\u001b[0m\u001b[0;34m\u001b[0m\u001b[0;34m\u001b[0m\u001b[0m\n\u001b[1;32m    228\u001b[0m             \u001b[0mstorage_options\u001b[0m\u001b[0;34m=\u001b[0m\u001b[0mkwds\u001b[0m\u001b[0;34m.\u001b[0m\u001b[0mget\u001b[0m\u001b[0;34m(\u001b[0m\u001b[0;34m\"storage_options\"\u001b[0m\u001b[0;34m,\u001b[0m \u001b[0;32mNone\u001b[0m\u001b[0;34m)\u001b[0m\u001b[0;34m,\u001b[0m\u001b[0;34m\u001b[0m\u001b[0;34m\u001b[0m\u001b[0m\n\u001b[0;32m--> 229\u001b[0;31m             \u001b[0merrors\u001b[0m\u001b[0;34m=\u001b[0m\u001b[0mkwds\u001b[0m\u001b[0;34m.\u001b[0m\u001b[0mget\u001b[0m\u001b[0;34m(\u001b[0m\u001b[0;34m\"encoding_errors\"\u001b[0m\u001b[0;34m,\u001b[0m \u001b[0;34m\"strict\"\u001b[0m\u001b[0;34m)\u001b[0m\u001b[0;34m,\u001b[0m\u001b[0;34m\u001b[0m\u001b[0;34m\u001b[0m\u001b[0m\n\u001b[0m\u001b[1;32m    230\u001b[0m         )\n\u001b[1;32m    231\u001b[0m \u001b[0;34m\u001b[0m\u001b[0m\n",
      "\u001b[0;32m~/micromamba/envs/auto_exo/lib/python3.7/site-packages/pandas/io/common.py\u001b[0m in \u001b[0;36mget_handle\u001b[0;34m(path_or_buf, mode, encoding, compression, memory_map, is_text, errors, storage_options)\u001b[0m\n\u001b[1;32m    705\u001b[0m                 \u001b[0mencoding\u001b[0m\u001b[0;34m=\u001b[0m\u001b[0mioargs\u001b[0m\u001b[0;34m.\u001b[0m\u001b[0mencoding\u001b[0m\u001b[0;34m,\u001b[0m\u001b[0;34m\u001b[0m\u001b[0;34m\u001b[0m\u001b[0m\n\u001b[1;32m    706\u001b[0m                 \u001b[0merrors\u001b[0m\u001b[0;34m=\u001b[0m\u001b[0merrors\u001b[0m\u001b[0;34m,\u001b[0m\u001b[0;34m\u001b[0m\u001b[0;34m\u001b[0m\u001b[0m\n\u001b[0;32m--> 707\u001b[0;31m                 \u001b[0mnewline\u001b[0m\u001b[0;34m=\u001b[0m\u001b[0;34m\"\"\u001b[0m\u001b[0;34m,\u001b[0m\u001b[0;34m\u001b[0m\u001b[0;34m\u001b[0m\u001b[0m\n\u001b[0m\u001b[1;32m    708\u001b[0m             )\n\u001b[1;32m    709\u001b[0m         \u001b[0;32melse\u001b[0m\u001b[0;34m:\u001b[0m\u001b[0;34m\u001b[0m\u001b[0;34m\u001b[0m\u001b[0m\n",
      "\u001b[0;31mFileNotFoundError\u001b[0m: [Errno 2] No such file or directory: 'tic_project/s12-eleanor-lite-project.txt'"
     ]
    }
   ],
   "source": [
    "project_data = {}\n",
    "for s in s_values:\n",
    "    # Read the CSV file for the current 's' value\n",
    "    try:\n",
    "        file_name = f'tic_project/s{s:02d}-eleanor-lite.txt'\n",
    "        df = pd.read_csv(file_name, header=None, names=['tic_id'])\n",
    "    except FileNotFoundError:\n",
    "        file_name = f'tic_project/s{s:02d}-eleanor-lite-project.txt'\n",
    "        df = pd.read_csv(file_name, header=None, names=['tic_id'])\n",
    "    except: \n",
    "        print(f\"File 'tic_project/s{s:02d}-eleanor-lite-project.txt' not found. Skipping\")\n",
    "        pass\n",
    "\n",
    "        \n",
    "    df_len = len(df)\n",
    "    df = df.drop_duplicates(subset=['tic_id'])\n",
    "    print(f'{df_len - len(df)} duplicates found')\n",
    "    \n",
    "    # Filter the DataFrame based on the 'tic' DataFrame\n",
    "    project = df[df.tic_id.isin(tic.tic_id)]\n",
    "    \n",
    "    project = project.merge(tic[['tic_id', 'Tmag']], on='tic_id', how='left')\n",
    "    \n",
    "    # Add leading zeroes and construct the 'new_path' column\n",
    "    project['tic_leading_zeroes'] = project.tic_id.astype(str).str.zfill(16)\n",
    "    project['new_path'] = (\n",
    "        f's{s:04d}/' +\n",
    "        project['tic_leading_zeroes'].str[0:4] + '/' +\n",
    "        project['tic_leading_zeroes'].str[4:8] + '/' +\n",
    "        project['tic_leading_zeroes'].str[8:12] + '/' +\n",
    "        project['tic_leading_zeroes'].str[12:16] + '/' +\n",
    "        f'hlsp_gsfc-eleanor-lite_tess_ffi_s{s:04d}-' + project['tic_leading_zeroes'] + '_tess_v1.0_lc.fits'\n",
    "    )\n",
    "    \n",
    "    # Add the common_string to the 'new_path' column\n",
    "    common_string = '/storage/astro2/phrdhx/eleanor-lite/'\n",
    "    project['new_path'] = common_string + project['new_path']\n",
    "    export_paths = project.new_path.to_list()\n",
    "    output_file = f'project_targets/s{s:04d}.txt'\n",
    "    with open(output_file, 'w') as file:\n",
    "       for i in export_paths:\n",
    "           file.write(i + '\\n')\n",
    "    print(f\"project dataframe size for sector {s}: \" + str(project))\n",
    "\n",
    "    # Store the project DataFrame in the dictionary to access later\n",
    "    project_data[f's{s:04d}_project'] = project\n",
    "    \n",
    "    \n"
   ]
  },
  {
   "cell_type": "code",
   "execution_count": 6,
   "id": "4cc41966-106d-4492-a7da-d2d08f464ae1",
   "metadata": {},
   "outputs": [
    {
     "data": {
      "text/html": [
       "<div>\n",
       "<style scoped>\n",
       "    .dataframe tbody tr th:only-of-type {\n",
       "        vertical-align: middle;\n",
       "    }\n",
       "\n",
       "    .dataframe tbody tr th {\n",
       "        vertical-align: top;\n",
       "    }\n",
       "\n",
       "    .dataframe thead th {\n",
       "        text-align: right;\n",
       "    }\n",
       "</style>\n",
       "<table border=\"1\" class=\"dataframe\">\n",
       "  <thead>\n",
       "    <tr style=\"text-align: right;\">\n",
       "      <th></th>\n",
       "      <th>tic_id</th>\n",
       "      <th>Tmag</th>\n",
       "      <th>tic_leading_zeroes</th>\n",
       "      <th>new_path</th>\n",
       "    </tr>\n",
       "  </thead>\n",
       "  <tbody>\n",
       "    <tr>\n",
       "      <th>0</th>\n",
       "      <td>107920237</td>\n",
       "      <td>12.3346</td>\n",
       "      <td>0000000107920237</td>\n",
       "      <td>/storage/astro2/phrdhx/eleanor-lite/s0013/0000...</td>\n",
       "    </tr>\n",
       "    <tr>\n",
       "      <th>1</th>\n",
       "      <td>107920149</td>\n",
       "      <td>12.8402</td>\n",
       "      <td>0000000107920149</td>\n",
       "      <td>/storage/astro2/phrdhx/eleanor-lite/s0013/0000...</td>\n",
       "    </tr>\n",
       "    <tr>\n",
       "      <th>2</th>\n",
       "      <td>107920076</td>\n",
       "      <td>10.4251</td>\n",
       "      <td>0000000107920076</td>\n",
       "      <td>/storage/astro2/phrdhx/eleanor-lite/s0013/0000...</td>\n",
       "    </tr>\n",
       "    <tr>\n",
       "      <th>3</th>\n",
       "      <td>107922638</td>\n",
       "      <td>11.3910</td>\n",
       "      <td>0000000107922638</td>\n",
       "      <td>/storage/astro2/phrdhx/eleanor-lite/s0013/0000...</td>\n",
       "    </tr>\n",
       "    <tr>\n",
       "      <th>4</th>\n",
       "      <td>107920431</td>\n",
       "      <td>9.0046</td>\n",
       "      <td>0000000107920431</td>\n",
       "      <td>/storage/astro2/phrdhx/eleanor-lite/s0013/0000...</td>\n",
       "    </tr>\n",
       "    <tr>\n",
       "      <th>...</th>\n",
       "      <td>...</td>\n",
       "      <td>...</td>\n",
       "      <td>...</td>\n",
       "      <td>...</td>\n",
       "    </tr>\n",
       "    <tr>\n",
       "      <th>853040</th>\n",
       "      <td>954404076</td>\n",
       "      <td>12.6882</td>\n",
       "      <td>0000000954404076</td>\n",
       "      <td>/storage/astro2/phrdhx/eleanor-lite/s0013/0000...</td>\n",
       "    </tr>\n",
       "    <tr>\n",
       "      <th>853041</th>\n",
       "      <td>954402201</td>\n",
       "      <td>12.0978</td>\n",
       "      <td>0000000954402201</td>\n",
       "      <td>/storage/astro2/phrdhx/eleanor-lite/s0013/0000...</td>\n",
       "    </tr>\n",
       "    <tr>\n",
       "      <th>853042</th>\n",
       "      <td>954400293</td>\n",
       "      <td>12.4560</td>\n",
       "      <td>0000000954400293</td>\n",
       "      <td>/storage/astro2/phrdhx/eleanor-lite/s0013/0000...</td>\n",
       "    </tr>\n",
       "    <tr>\n",
       "      <th>853043</th>\n",
       "      <td>954375175</td>\n",
       "      <td>12.6237</td>\n",
       "      <td>0000000954375175</td>\n",
       "      <td>/storage/astro2/phrdhx/eleanor-lite/s0013/0000...</td>\n",
       "    </tr>\n",
       "    <tr>\n",
       "      <th>853044</th>\n",
       "      <td>954376011</td>\n",
       "      <td>12.1777</td>\n",
       "      <td>0000000954376011</td>\n",
       "      <td>/storage/astro2/phrdhx/eleanor-lite/s0013/0000...</td>\n",
       "    </tr>\n",
       "  </tbody>\n",
       "</table>\n",
       "<p>853045 rows × 4 columns</p>\n",
       "</div>"
      ],
      "text/plain": [
       "           tic_id     Tmag tic_leading_zeroes  \\\n",
       "0       107920237  12.3346   0000000107920237   \n",
       "1       107920149  12.8402   0000000107920149   \n",
       "2       107920076  10.4251   0000000107920076   \n",
       "3       107922638  11.3910   0000000107922638   \n",
       "4       107920431   9.0046   0000000107920431   \n",
       "...           ...      ...                ...   \n",
       "853040  954404076  12.6882   0000000954404076   \n",
       "853041  954402201  12.0978   0000000954402201   \n",
       "853042  954400293  12.4560   0000000954400293   \n",
       "853043  954375175  12.6237   0000000954375175   \n",
       "853044  954376011  12.1777   0000000954376011   \n",
       "\n",
       "                                                 new_path  \n",
       "0       /storage/astro2/phrdhx/eleanor-lite/s0013/0000...  \n",
       "1       /storage/astro2/phrdhx/eleanor-lite/s0013/0000...  \n",
       "2       /storage/astro2/phrdhx/eleanor-lite/s0013/0000...  \n",
       "3       /storage/astro2/phrdhx/eleanor-lite/s0013/0000...  \n",
       "4       /storage/astro2/phrdhx/eleanor-lite/s0013/0000...  \n",
       "...                                                   ...  \n",
       "853040  /storage/astro2/phrdhx/eleanor-lite/s0013/0000...  \n",
       "853041  /storage/astro2/phrdhx/eleanor-lite/s0013/0000...  \n",
       "853042  /storage/astro2/phrdhx/eleanor-lite/s0013/0000...  \n",
       "853043  /storage/astro2/phrdhx/eleanor-lite/s0013/0000...  \n",
       "853044  /storage/astro2/phrdhx/eleanor-lite/s0013/0000...  \n",
       "\n",
       "[853045 rows x 4 columns]"
      ]
     },
     "execution_count": 6,
     "metadata": {},
     "output_type": "execute_result"
    }
   ],
   "source": [
    "project_data['s0013_project']"
   ]
  },
  {
   "cell_type": "markdown",
   "id": "8bda98c3-e9a7-4bb8-805a-664f25bd146a",
   "metadata": {},
   "source": [
    "#### Compare with public lightcurves"
   ]
  },
  {
   "cell_type": "code",
   "execution_count": 11,
   "id": "789b7dd1-7ebb-467c-adea-a4ae604ebfef",
   "metadata": {},
   "outputs": [],
   "source": [
    "s9 = pd.read_csv('target_lists/s0009.csv')"
   ]
  },
  {
   "cell_type": "code",
   "execution_count": null,
   "id": "10bf6c04-2691-42e2-873f-4f950098a0cc",
   "metadata": {},
   "outputs": [],
   "source": []
  },
  {
   "cell_type": "code",
   "execution_count": null,
   "id": "769b08da-19e0-4d84-adda-abe9a9a702d9",
   "metadata": {},
   "outputs": [],
   "source": []
  },
  {
   "cell_type": "code",
   "execution_count": null,
   "id": "8dd798b3-f2c6-428e-9adf-bef199d9ff4d",
   "metadata": {},
   "outputs": [],
   "source": []
  },
  {
   "cell_type": "code",
   "execution_count": null,
   "id": "36f1812d-4dc2-4a2e-af21-c901fc420fd4",
   "metadata": {},
   "outputs": [],
   "source": []
  },
  {
   "cell_type": "markdown",
   "id": "73ed56b2-3afc-4d15-bd98-0afd31639962",
   "metadata": {},
   "source": [
    "---"
   ]
  },
  {
   "cell_type": "markdown",
   "id": "e3fcf2cc-b8af-4d20-b198-a7f38fa245cc",
   "metadata": {},
   "source": [
    "## Part 7: do `tic_project` TICs match public-release TICs?"
   ]
  },
  {
   "cell_type": "code",
   "execution_count": 1,
   "id": "494eb3fe-2774-46af-85b6-af2d017238bb",
   "metadata": {},
   "outputs": [],
   "source": [
    "import os\n",
    "os.chdir('../../')\n",
    "import pandas as pd"
   ]
  },
  {
   "cell_type": "code",
   "execution_count": 2,
   "id": "8dc6d2b0-43fc-45aa-a236-b525380af412",
   "metadata": {},
   "outputs": [],
   "source": [
    "tic = pd.read_csv('tic.txt',sep='\\t')\n",
    "tic['tic_leading_zeroes'] = tic.tic_id.astype(str).str.zfill(16)"
   ]
  },
  {
   "cell_type": "code",
   "execution_count": 3,
   "id": "50883a5b-ff39-46b2-90f2-e52c82435adf",
   "metadata": {},
   "outputs": [],
   "source": [
    "pr = pd.read_csv('target_lists/s0009.csv')"
   ]
  },
  {
   "cell_type": "code",
   "execution_count": 4,
   "id": "70a6320d-c14d-4ae0-ab5f-15f0f2d21299",
   "metadata": {},
   "outputs": [],
   "source": [
    "mytic = pd.read_csv('tic_project/s09-eleanor-lite.txt',header=None,names=['TIC_ID'])"
   ]
  },
  {
   "cell_type": "code",
   "execution_count": 5,
   "id": "5487305d-7a8d-4806-aaf3-e68f67264684",
   "metadata": {},
   "outputs": [
    {
     "name": "stdout",
     "output_type": "stream",
     "text": [
      "7054161\n",
      "7054161\n"
     ]
    }
   ],
   "source": [
    "print(len(mytic))\n",
    "print(len(pr))"
   ]
  },
  {
   "cell_type": "code",
   "execution_count": 12,
   "id": "1b8dea53-21a8-489f-949d-a12ac9b7eb24",
   "metadata": {},
   "outputs": [
    {
     "name": "stdout",
     "output_type": "stream",
     "text": [
      "The DataFrames are not equal.\n",
      "Rows where values are not equal:\n",
      "Empty DataFrame\n",
      "Columns: [#TIC_ID, RA, DEC]\n",
      "Index: []\n"
     ]
    }
   ],
   "source": [
    "# Sort the columns in both DataFrames\n",
    "pr = pr.sort_values(by='#TIC_ID')\n",
    "mytic = mytic.sort_values(by='TIC_ID')\n",
    "\n",
    "# Check if the DataFrames are equal\n",
    "are_equal = pr['#TIC_ID'].equals(mytic['TIC_ID'])\n",
    "\n",
    "if are_equal:\n",
    "    print(\"The DataFrames are equal.\")\n",
    "else:\n",
    "    print(\"The DataFrames are not equal.\")\n",
    "    unequal_rows = pr[pr['#TIC_ID'].values != mytic['TIC_ID'].values]\n",
    "    print(\"Rows where values are not equal:\")\n",
    "    print(unequal_rows)"
   ]
  },
  {
   "cell_type": "code",
   "execution_count": 16,
   "id": "20249b7e-8ba6-40b8-8608-16e42de70c57",
   "metadata": {},
   "outputs": [],
   "source": [
    "project = mytic[mytic.TIC_ID.isin(tic.tic_id)]"
   ]
  },
  {
   "cell_type": "code",
   "execution_count": 18,
   "id": "b5f09283-8a04-468b-b994-caa51b9ee378",
   "metadata": {},
   "outputs": [
    {
     "data": {
      "text/html": [
       "<div>\n",
       "<style scoped>\n",
       "    .dataframe tbody tr th:only-of-type {\n",
       "        vertical-align: middle;\n",
       "    }\n",
       "\n",
       "    .dataframe tbody tr th {\n",
       "        vertical-align: top;\n",
       "    }\n",
       "\n",
       "    .dataframe thead th {\n",
       "        text-align: right;\n",
       "    }\n",
       "</style>\n",
       "<table border=\"1\" class=\"dataframe\">\n",
       "  <thead>\n",
       "    <tr style=\"text-align: right;\">\n",
       "      <th></th>\n",
       "      <th>TIC_ID</th>\n",
       "    </tr>\n",
       "  </thead>\n",
       "  <tbody>\n",
       "    <tr>\n",
       "      <th>3897762</th>\n",
       "      <td>975780</td>\n",
       "    </tr>\n",
       "    <tr>\n",
       "      <th>3897703</th>\n",
       "      <td>975849</td>\n",
       "    </tr>\n",
       "    <tr>\n",
       "      <th>3897601</th>\n",
       "      <td>975851</td>\n",
       "    </tr>\n",
       "    <tr>\n",
       "      <th>3897676</th>\n",
       "      <td>975868</td>\n",
       "    </tr>\n",
       "    <tr>\n",
       "      <th>3897797</th>\n",
       "      <td>975888</td>\n",
       "    </tr>\n",
       "    <tr>\n",
       "      <th>...</th>\n",
       "      <td>...</td>\n",
       "    </tr>\n",
       "    <tr>\n",
       "      <th>2879466</th>\n",
       "      <td>10005000339</td>\n",
       "    </tr>\n",
       "    <tr>\n",
       "      <th>2879456</th>\n",
       "      <td>10005000356</td>\n",
       "    </tr>\n",
       "    <tr>\n",
       "      <th>2879458</th>\n",
       "      <td>10005000369</td>\n",
       "    </tr>\n",
       "    <tr>\n",
       "      <th>2879461</th>\n",
       "      <td>10005000466</td>\n",
       "    </tr>\n",
       "    <tr>\n",
       "      <th>2879473</th>\n",
       "      <td>10005000483</td>\n",
       "    </tr>\n",
       "  </tbody>\n",
       "</table>\n",
       "<p>729313 rows × 1 columns</p>\n",
       "</div>"
      ],
      "text/plain": [
       "              TIC_ID\n",
       "3897762       975780\n",
       "3897703       975849\n",
       "3897601       975851\n",
       "3897676       975868\n",
       "3897797       975888\n",
       "...              ...\n",
       "2879466  10005000339\n",
       "2879456  10005000356\n",
       "2879458  10005000369\n",
       "2879461  10005000466\n",
       "2879473  10005000483\n",
       "\n",
       "[729313 rows x 1 columns]"
      ]
     },
     "execution_count": 18,
     "metadata": {},
     "output_type": "execute_result"
    }
   ],
   "source": [
    "project"
   ]
  },
  {
   "cell_type": "code",
   "execution_count": 20,
   "id": "f743b77c-a188-4a65-a9e0-6a2c250d4452",
   "metadata": {},
   "outputs": [
    {
     "data": {
      "text/html": [
       "<div>\n",
       "<style scoped>\n",
       "    .dataframe tbody tr th:only-of-type {\n",
       "        vertical-align: middle;\n",
       "    }\n",
       "\n",
       "    .dataframe tbody tr th {\n",
       "        vertical-align: top;\n",
       "    }\n",
       "\n",
       "    .dataframe thead th {\n",
       "        text-align: right;\n",
       "    }\n",
       "</style>\n",
       "<table border=\"1\" class=\"dataframe\">\n",
       "  <thead>\n",
       "    <tr style=\"text-align: right;\">\n",
       "      <th></th>\n",
       "      <th>#TIC_ID</th>\n",
       "      <th>RA</th>\n",
       "      <th>DEC</th>\n",
       "    </tr>\n",
       "  </thead>\n",
       "  <tbody>\n",
       "    <tr>\n",
       "      <th>0</th>\n",
       "      <td>975780</td>\n",
       "      <td>165.398927</td>\n",
       "      <td>-5.957251</td>\n",
       "    </tr>\n",
       "    <tr>\n",
       "      <th>19</th>\n",
       "      <td>975849</td>\n",
       "      <td>165.352853</td>\n",
       "      <td>-5.531833</td>\n",
       "    </tr>\n",
       "    <tr>\n",
       "      <th>20</th>\n",
       "      <td>975851</td>\n",
       "      <td>165.329347</td>\n",
       "      <td>-5.508584</td>\n",
       "    </tr>\n",
       "    <tr>\n",
       "      <th>27</th>\n",
       "      <td>975868</td>\n",
       "      <td>165.338835</td>\n",
       "      <td>-5.452077</td>\n",
       "    </tr>\n",
       "    <tr>\n",
       "      <th>36</th>\n",
       "      <td>975888</td>\n",
       "      <td>165.315235</td>\n",
       "      <td>-5.368423</td>\n",
       "    </tr>\n",
       "    <tr>\n",
       "      <th>...</th>\n",
       "      <td>...</td>\n",
       "      <td>...</td>\n",
       "      <td>...</td>\n",
       "    </tr>\n",
       "    <tr>\n",
       "      <th>7054156</th>\n",
       "      <td>10005000339</td>\n",
       "      <td>152.281158</td>\n",
       "      <td>-29.064301</td>\n",
       "    </tr>\n",
       "    <tr>\n",
       "      <th>7054157</th>\n",
       "      <td>10005000356</td>\n",
       "      <td>159.178421</td>\n",
       "      <td>-27.528339</td>\n",
       "    </tr>\n",
       "    <tr>\n",
       "      <th>7054158</th>\n",
       "      <td>10005000369</td>\n",
       "      <td>91.874397</td>\n",
       "      <td>-61.807579</td>\n",
       "    </tr>\n",
       "    <tr>\n",
       "      <th>7054159</th>\n",
       "      <td>10005000466</td>\n",
       "      <td>150.778656</td>\n",
       "      <td>-26.159571</td>\n",
       "    </tr>\n",
       "    <tr>\n",
       "      <th>7054160</th>\n",
       "      <td>10005000483</td>\n",
       "      <td>57.456020</td>\n",
       "      <td>-71.635384</td>\n",
       "    </tr>\n",
       "  </tbody>\n",
       "</table>\n",
       "<p>729313 rows × 3 columns</p>\n",
       "</div>"
      ],
      "text/plain": [
       "             #TIC_ID          RA        DEC\n",
       "0             975780  165.398927  -5.957251\n",
       "19            975849  165.352853  -5.531833\n",
       "20            975851  165.329347  -5.508584\n",
       "27            975868  165.338835  -5.452077\n",
       "36            975888  165.315235  -5.368423\n",
       "...              ...         ...        ...\n",
       "7054156  10005000339  152.281158 -29.064301\n",
       "7054157  10005000356  159.178421 -27.528339\n",
       "7054158  10005000369   91.874397 -61.807579\n",
       "7054159  10005000466  150.778656 -26.159571\n",
       "7054160  10005000483   57.456020 -71.635384\n",
       "\n",
       "[729313 rows x 3 columns]"
      ]
     },
     "execution_count": 20,
     "metadata": {},
     "output_type": "execute_result"
    }
   ],
   "source": [
    " pr[pr['#TIC_ID'].isin(tic.tic_id)]"
   ]
  },
  {
   "cell_type": "code",
   "execution_count": 27,
   "id": "00b7c52c-dff5-4bc8-96d3-eb962bc8f9ba",
   "metadata": {},
   "outputs": [
    {
     "data": {
      "text/plain": [
       "True    7054161\n",
       "dtype: int64"
      ]
     },
     "execution_count": 27,
     "metadata": {},
     "output_type": "execute_result"
    }
   ],
   "source": [
    "test = pd.merge(pr, mytic, left_on='#TIC_ID', right_on='TIC_ID', how='inner')\n",
    "(test['#TIC_ID'] == test['TIC_ID']).value_counts()"
   ]
  },
  {
   "cell_type": "markdown",
   "id": "295c9cc4-0820-46a4-af1f-10ef66ecc589",
   "metadata": {},
   "source": [
    "---"
   ]
  },
  {
   "cell_type": "code",
   "execution_count": 18,
   "id": "e1ea7797-3c70-4b79-adfa-164b1f053b61",
   "metadata": {},
   "outputs": [],
   "source": [
    "lookup = pd.read_csv('project_lookup.csv')"
   ]
  },
  {
   "cell_type": "raw",
   "id": "39c0cfd7-c5a9-48bf-9282-2418b875802f",
   "metadata": {},
   "source": [
    "lookup[lookup.Sector == 6]"
   ]
  },
  {
   "cell_type": "code",
   "execution_count": null,
   "id": "afe77174-eedc-4be1-ac80-78cb483f9e99",
   "metadata": {},
   "outputs": [],
   "source": []
  }
 ],
 "metadata": {
  "kernelspec": {
   "display_name": "Python 3",
   "language": "python",
   "name": "python3"
  },
  "language_info": {
   "codemirror_mode": {
    "name": "ipython",
    "version": 3
   },
   "file_extension": ".py",
   "mimetype": "text/x-python",
   "name": "python",
   "nbconvert_exporter": "python",
   "pygments_lexer": "ipython3",
   "version": "3.7.12"
  }
 },
 "nbformat": 4,
 "nbformat_minor": 5
}
