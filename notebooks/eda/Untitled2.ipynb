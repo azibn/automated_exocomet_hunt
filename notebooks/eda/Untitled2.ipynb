{
 "cells": [
  {
   "cell_type": "code",
   "execution_count": 1,
   "id": "e3f0d5bd-bbf4-4141-8aee-f71141b5af43",
   "metadata": {},
   "outputs": [],
   "source": [
    "import os\n",
    "os.chdir('../../scripts')\n",
    "from analysis_tools_cython import *"
   ]
  },
  {
   "cell_type": "code",
   "execution_count": 2,
   "id": "a036f1f5-5d9e-47b0-aece-ca12694f5201",
   "metadata": {},
   "outputs": [],
   "source": [
    "df = pd.read_csv('/storage/astro2/phrdhx/tesslcs/sector6lookup.csv')"
   ]
  },
  {
   "cell_type": "code",
   "execution_count": 3,
   "id": "5492e14e-37f5-415e-bed6-50921286bc2b",
   "metadata": {},
   "outputs": [
    {
     "data": {
      "text/html": [
       "<div>\n",
       "<style scoped>\n",
       "    .dataframe tbody tr th:only-of-type {\n",
       "        vertical-align: middle;\n",
       "    }\n",
       "\n",
       "    .dataframe tbody tr th {\n",
       "        vertical-align: top;\n",
       "    }\n",
       "\n",
       "    .dataframe thead th {\n",
       "        text-align: right;\n",
       "    }\n",
       "</style>\n",
       "<table border=\"1\" class=\"dataframe\">\n",
       "  <thead>\n",
       "    <tr style=\"text-align: right;\">\n",
       "      <th></th>\n",
       "      <th>Filename</th>\n",
       "      <th>RA</th>\n",
       "      <th>Dec</th>\n",
       "      <th>TIC_ID</th>\n",
       "      <th>Sector</th>\n",
       "      <th>Camera</th>\n",
       "      <th>CCD</th>\n",
       "      <th>Magnitude</th>\n",
       "    </tr>\n",
       "  </thead>\n",
       "  <tbody>\n",
       "    <tr>\n",
       "      <th>0</th>\n",
       "      <td>tesslcs_sector_6_104/2_min_cadence_targets/tes...</td>\n",
       "      <td>95.791999</td>\n",
       "      <td>-1.608044</td>\n",
       "      <td>251269189</td>\n",
       "      <td>6</td>\n",
       "      <td>1</td>\n",
       "      <td>2</td>\n",
       "      <td>7.80838</td>\n",
       "    </tr>\n",
       "    <tr>\n",
       "      <th>1</th>\n",
       "      <td>tesslcs_sector_6_104/2_min_cadence_targets/tes...</td>\n",
       "      <td>84.545860</td>\n",
       "      <td>-0.936653</td>\n",
       "      <td>11199201</td>\n",
       "      <td>6</td>\n",
       "      <td>1</td>\n",
       "      <td>1</td>\n",
       "      <td>10.15940</td>\n",
       "    </tr>\n",
       "    <tr>\n",
       "      <th>2</th>\n",
       "      <td>tesslcs_sector_6_104/2_min_cadence_targets/tes...</td>\n",
       "      <td>84.402924</td>\n",
       "      <td>-0.887149</td>\n",
       "      <td>11197342</td>\n",
       "      <td>6</td>\n",
       "      <td>1</td>\n",
       "      <td>1</td>\n",
       "      <td>9.15940</td>\n",
       "    </tr>\n",
       "    <tr>\n",
       "      <th>3</th>\n",
       "      <td>tesslcs_sector_6_104/2_min_cadence_targets/tes...</td>\n",
       "      <td>102.088569</td>\n",
       "      <td>2.826208</td>\n",
       "      <td>234271852</td>\n",
       "      <td>6</td>\n",
       "      <td>1</td>\n",
       "      <td>2</td>\n",
       "      <td>13.56620</td>\n",
       "    </tr>\n",
       "    <tr>\n",
       "      <th>4</th>\n",
       "      <td>tesslcs_sector_6_104/2_min_cadence_targets/tes...</td>\n",
       "      <td>104.070502</td>\n",
       "      <td>3.549578</td>\n",
       "      <td>237736917</td>\n",
       "      <td>6</td>\n",
       "      <td>1</td>\n",
       "      <td>2</td>\n",
       "      <td>13.88590</td>\n",
       "    </tr>\n",
       "  </tbody>\n",
       "</table>\n",
       "</div>"
      ],
      "text/plain": [
       "                                            Filename          RA       Dec  \\\n",
       "0  tesslcs_sector_6_104/2_min_cadence_targets/tes...   95.791999 -1.608044   \n",
       "1  tesslcs_sector_6_104/2_min_cadence_targets/tes...   84.545860 -0.936653   \n",
       "2  tesslcs_sector_6_104/2_min_cadence_targets/tes...   84.402924 -0.887149   \n",
       "3  tesslcs_sector_6_104/2_min_cadence_targets/tes...  102.088569  2.826208   \n",
       "4  tesslcs_sector_6_104/2_min_cadence_targets/tes...  104.070502  3.549578   \n",
       "\n",
       "      TIC_ID  Sector  Camera  CCD  Magnitude  \n",
       "0  251269189       6       1    2    7.80838  \n",
       "1   11199201       6       1    1   10.15940  \n",
       "2   11197342       6       1    1    9.15940  \n",
       "3  234271852       6       1    2   13.56620  \n",
       "4  237736917       6       1    2   13.88590  "
      ]
     },
     "execution_count": 3,
     "metadata": {},
     "output_type": "execute_result"
    }
   ],
   "source": [
    "df.head()"
   ]
  },
  {
   "cell_type": "code",
   "execution_count": 96,
   "id": "47f72ac9-08a6-43f1-9568-2c18aac91eb6",
   "metadata": {},
   "outputs": [
    {
     "data": {
      "text/plain": [
       "'tesslcs_sector_6_104/tesslcs_tmag_11_12/tesslc_155095859.pkl'"
      ]
     },
     "execution_count": 96,
     "metadata": {},
     "output_type": "execute_result"
    }
   ],
   "source": [
    "df[df.TIC_ID == 155095859].Filename.values[0]"
   ]
  },
  {
   "cell_type": "code",
   "execution_count": 97,
   "id": "507af845-642c-4efe-a1bd-0212c3e2f9ca",
   "metadata": {},
   "outputs": [],
   "source": [
    "lc, lc_info = import_XRPlightcurve(os.path.join('/tmp/tess',df[df.TIC_ID == 155095859].Filename.values[0]),sector=6)"
   ]
  },
  {
   "cell_type": "markdown",
   "id": "bb44d8ed-88a9-4bc9-b9da-a63848fe9471",
   "metadata": {},
   "source": [
    "### Scipy"
   ]
  },
  {
   "cell_type": "code",
   "execution_count": 98,
   "id": "5ddb2048-e2e8-49ad-92a3-b66120648ca3",
   "metadata": {},
   "outputs": [],
   "source": [
    "from scipy.optimize import curve_fit"
   ]
  },
  {
   "cell_type": "markdown",
   "id": "962d5dec-35f4-4658-b762-d0253f8e196e",
   "metadata": {},
   "source": [
    "### Functions"
   ]
  },
  {
   "cell_type": "code",
   "execution_count": 122,
   "id": "5892cc12-c8f7-4d2b-b56a-ccd6f85bac2f",
   "metadata": {},
   "outputs": [],
   "source": [
    "def skewed_gaussian_curve_fit(x,y,y_err,flux=lc['corrected flux']):\n",
    "    # Initial parameters guess\n",
    "    ## i = index of min time\n",
    "    ## x = time\n",
    "    ## y = flux\n",
    "    \n",
    "    i = np.argmin(y)\n",
    "    width = x[-1]-x[0]\n",
    "    \n",
    "    ### params initialisation for skewness, time, mean and sigma\n",
    "    # skewness, t0, sigma, amplitude\n",
    "    if flux is not None:\n",
    "        # width/3\n",
    "        params_init = [0.1,x[i],width/3,flux[i]] # flux[i]] \n",
    "    else:\n",
    "        params_init = [0.1,x[i],width/3,flux[i]]\n",
    "    params,cov = curve_fit(skewed_gaussian,x,y,p0=params_init,maxfev=100000)\n",
    "    \n",
    "    return params, cov \n",
    "\n",
    "def skewed_gaussian(x, A, t0, sigma, alpha):\n",
    "    \"\"\"\n",
    "    Skewed Gaussian function using the Skewed Student's t-distribution.\n",
    "\n",
    "    Parameters:\n",
    "        x: Input data points.\n",
    "        A: Amplitude of the Gaussian.\n",
    "        t0: Mean of the Gaussian.\n",
    "        sigma: Standard deviation of the Gaussian.\n",
    "        alpha: Skewness parameter (positive for right-skewed, negative for left-skewed).\n",
    "\n",
    "    Returns:\n",
    "        y: The value of the skewed Gaussian at each input data point x.\n",
    "    \"\"\"\n",
    "    t = (x - t0) / sigma\n",
    "    y = A * skewnorm.pdf(t, alpha)\n",
    "    return -y"
   ]
  },
  {
   "cell_type": "code",
   "execution_count": 123,
   "id": "bf6b36c7-53b1-44c6-93f0-10497f9e4e7a",
   "metadata": {},
   "outputs": [
    {
     "data": {
      "text/plain": [
       "<matplotlib.collections.PathCollection at 0x7f056f710790>"
      ]
     },
     "execution_count": 123,
     "metadata": {},
     "output_type": "execute_result"
    },
    {
     "data": {
      "image/png": "[encoded data removed]",
      "text/plain": [
       "<Figure size 432x288 with 1 Axes>"
      ]
     },
     "metadata": {
      "needs_background": "light"
     },
     "output_type": "display_data"
    }
   ],
   "source": [
    "plt.scatter(lc['time'],lc['corrected flux'],s=5)"
   ]
  },
  {
   "cell_type": "code",
   "execution_count": 124,
   "id": "8f32bd83-51c1-4cb3-b1d2-947f59d935e7",
   "metadata": {},
   "outputs": [],
   "source": [
    "#lc_cut = lc[200:400]\n",
    "lc_cut = lc[550:700]"
   ]
  },
  {
   "cell_type": "code",
   "execution_count": 125,
   "id": "747c5b52-4c1f-489c-9ad1-c6fad3f43109",
   "metadata": {},
   "outputs": [
    {
     "data": {
      "text/plain": [
       "<matplotlib.collections.PathCollection at 0x7f056f692210>"
      ]
     },
     "execution_count": 125,
     "metadata": {},
     "output_type": "execute_result"
    },
    {
     "data": {
      "image/png": "[encoded data removed]",
      "text/plain": [
       "<Figure size 432x288 with 1 Axes>"
      ]
     },
     "metadata": {
      "needs_background": "light"
     },
     "output_type": "display_data"
    }
   ],
   "source": [
    "plt.scatter(lc_cut['time'],lc_cut['corrected flux'],s=15)"
   ]
  },
  {
   "cell_type": "code",
   "execution_count": 126,
   "id": "50badc5f-1677-4872-a0e0-5f8f2f7b8beb",
   "metadata": {},
   "outputs": [],
   "source": [
    "t = lc_cut['time']\n",
    "f = normalise_flux(lc_cut['corrected flux'])\n",
    "fe = normalise_flux(lc_cut['flux error'])"
   ]
  },
  {
   "cell_type": "code",
   "execution_count": 127,
   "id": "12b4918d-fa8a-49cc-ace1-496b530ab606",
   "metadata": {},
   "outputs": [],
   "source": [
    "params, pcov = skewed_gaussian_curve_fit(t,f,fe)"
   ]
  },
  {
   "cell_type": "code",
   "execution_count": 128,
   "id": "4869eac5-54af-4bfb-9344-6e5d75ab2c2f",
   "metadata": {},
   "outputs": [
    {
     "data": {
      "text/plain": [
       "-0.0013111194027836115"
      ]
     },
     "execution_count": 128,
     "metadata": {},
     "output_type": "execute_result"
    }
   ],
   "source": [
    "fe.min()"
   ]
  },
  {
   "cell_type": "code",
   "execution_count": 130,
   "id": "84780245-ee74-410b-aec0-29adacc18df5",
   "metadata": {},
   "outputs": [],
   "source": [
    "params, pcov = skewed_gaussian_curve_fit(x=t,y=f,y_err=fe)\n",
    "\n",
    "fit = skewed_gaussian(lc_cut['time'], *params)"
   ]
  },
  {
   "cell_type": "code",
   "execution_count": 131,
   "id": "7d55d4e3-c93a-49cb-b85f-93a8eb9e8dc6",
   "metadata": {},
   "outputs": [
    {
     "data": {
      "text/plain": [
       "[<matplotlib.lines.Line2D at 0x7f056f63b8d0>]"
      ]
     },
     "execution_count": 131,
     "metadata": {},
     "output_type": "execute_result"
    },
    {
     "data": {
      "image/png": "[encoded data removed]",
      "text/plain": [
       "<Figure size 432x288 with 1 Axes>"
      ]
     },
     "metadata": {
      "needs_background": "light"
     },
     "output_type": "display_data"
    }
   ],
   "source": [
    "plt.scatter(t,f,s=15)\n",
    "plt.plot(t,fit)"
   ]
  },
  {
   "cell_type": "code",
   "execution_count": 132,
   "id": "268c8c8c-4ba4-448c-8611-7ac239f4c8eb",
   "metadata": {},
   "outputs": [
    {
     "data": {
      "text/plain": [
       "array([2.36750197e-03, 1.48557890e+03, 1.84940551e-01, 2.57445325e+03])"
      ]
     },
     "execution_count": 132,
     "metadata": {},
     "output_type": "execute_result"
    }
   ],
   "source": [
    "params"
   ]
  },
  {
   "cell_type": "code",
   "execution_count": 16,
   "id": "9f79dcba-a451-4490-b2bd-0a15784bdd71",
   "metadata": {},
   "outputs": [],
   "source": [
    "from scipy.stats import skew\n",
    "\n",
    "sample_skewness = skew(lc_cut['corrected flux'])"
   ]
  },
  {
   "cell_type": "code",
   "execution_count": 17,
   "id": "17979d21-a9c8-4f19-b015-f707050e3001",
   "metadata": {},
   "outputs": [
    {
     "data": {
      "text/plain": [
       "-3.6759387777044203"
      ]
     },
     "execution_count": 17,
     "metadata": {},
     "output_type": "execute_result"
    }
   ],
   "source": [
    "sample_skewness"
   ]
  },
  {
   "cell_type": "code",
   "execution_count": 18,
   "id": "406e4a30-9069-41b5-a797-74d52b49d229",
   "metadata": {},
   "outputs": [],
   "source": [
    "mean_cutout = np.mean(lc_cut['corrected flux'])\n",
    "std_cutout = np.std(lc_cut['corrected flux'])\n",
    "\n",
    "lower_bound = mean_cutout - 4 * std_cutout\n",
    "upper_bound = mean_cutout + 4 * std_cutout\n",
    "\n",
    "# Data points within the range [mean - 3*std, mean + 3*std]\n",
    "filtered_cutout = lc_cut[(lc_cut['corrected flux'] >= lower_bound) & (lc_cut['corrected flux'] <= upper_bound)]\n"
   ]
  },
  {
   "cell_type": "code",
   "execution_count": 19,
   "id": "bd1d3c20-c366-48e9-af9e-533a0ba69d1d",
   "metadata": {},
   "outputs": [
    {
     "data": {
      "text/plain": [
       "<matplotlib.collections.PathCollection at 0x7f976ebe7ad0>"
      ]
     },
     "execution_count": 19,
     "metadata": {},
     "output_type": "execute_result"
    },
    {
     "data": {
      "image/png": "[encoded data removed]",
      "text/plain": [
       "<Figure size 432x288 with 1 Axes>"
      ]
     },
     "metadata": {
      "needs_background": "light"
     },
     "output_type": "display_data"
    }
   ],
   "source": [
    "plt.scatter(filtered_cutout['time'],filtered_cutout['corrected flux'],s=15)"
   ]
  },
  {
   "cell_type": "code",
   "execution_count": 20,
   "id": "150763c2-b81a-4199-bab9-171e880724ee",
   "metadata": {},
   "outputs": [],
   "source": [
    "skew_est = skew(filtered_cutout['corrected flux'])\n",
    "i = np.argmin(filtered_cutout['corrected flux'])\n",
    "width = filtered_cutout['time'][-1]-filtered_cutout['time'][0]"
   ]
  },
  {
   "cell_type": "code",
   "execution_count": 21,
   "id": "034cf0e2-c22c-4243-b553-c96989e7a925",
   "metadata": {},
   "outputs": [],
   "source": [
    "params,cov = curve_fit(skewed_gaussian,filtered_cutout['time'],filtered_cutout['corrected flux'],p0=[20,filtered_cutout['time'][i],width/3,filtered_cutout['corrected flux'][i]],maxfev=100000)"
   ]
  },
  {
   "cell_type": "code",
   "execution_count": 22,
   "id": "42928088-e368-49bb-98f0-f29b157c43f9",
   "metadata": {},
   "outputs": [],
   "source": [
    "fit = skewed_gaussian(filtered_cutout['time'], *params)"
   ]
  },
  {
   "cell_type": "code",
   "execution_count": 23,
   "id": "b4f49498-7f77-4acf-8e07-e76275c6d033",
   "metadata": {},
   "outputs": [
    {
     "data": {
      "text/plain": [
       "<matplotlib.collections.PathCollection at 0x7f976eb0f590>"
      ]
     },
     "execution_count": 23,
     "metadata": {},
     "output_type": "execute_result"
    },
    {
     "data": {
      "image/png": "[encoded data removed]",
      "text/plain": [
       "<Figure size 432x288 with 1 Axes>"
      ]
     },
     "metadata": {
      "needs_background": "light"
     },
     "output_type": "display_data"
    }
   ],
   "source": [
    "plt.scatter(filtered_cutout['time'],filtered_cutout['corrected flux'],s=15)\n",
    "plt.scatter(filtered_cutout['time'],fit,s=15)"
   ]
  },
  {
   "cell_type": "markdown",
   "id": "1d0ad8fe-3e87-41f6-b642-d4912288d838",
   "metadata": {},
   "source": [
    "---\n",
    "\n",
    "## Try old comet curve fit"
   ]
  },
  {
   "cell_type": "code",
   "execution_count": 53,
   "id": "6f7f2ae9-6d33-4304-8f86-1fd753a52552",
   "metadata": {},
   "outputs": [],
   "source": [
    "def comet_curve(t,A,t0,sigma,tail):\n",
    "    \"\"\"\n",
    "    Function: Calculates the values of an asymmetric Gaussian function representing a comet curve. \n",
    "    The difference is the exponential 1/tail term after the mid-transit.\n",
    "\n",
    "    Parameters:\n",
    "        t (array): Independent variable (time) values.\n",
    "        A (float): Amplitude of the Gaussian curve.\n",
    "        t0 (float): Mean (centre) of the Gaussian curve.\n",
    "        sigma (float): Standard deviation of the Gaussian curve.\n",
    "        tail (float): Tail parameter controlling decay rate after t0.\n",
    "\n",
    "    Returns:\n",
    "        array: The computed values of the asymmetric Gaussian curve.\"\"\"\n",
    "\n",
    "    x = np.zeros(len(t))\n",
    "    for i in range(len(t)):\n",
    "        if t[i] < t0:\n",
    "            x[i] = gauss(t[i],A,t0,sigma)\n",
    "        else:\n",
    "            x[i] = A*math.exp(-abs(t[i]-t0)/tail)\n",
    "    return x\n",
    "\n",
    "def comet_curve_fit(x,y):\n",
    "    # Initial parameters guess\n",
    "    # x = time\n",
    "    # y = flux\n",
    "    i = np.argmax(y)\n",
    "\n",
    "    width = x[-1]-x[0]\n",
    "\n",
    "    params_init = [y[i],x[i],width/3,width/3]\n",
    "\n",
    "    params_bounds = [[0,x[0],0,0], [np.inf,x[-1],width/2,width/2]]\n",
    "    params,cov = curve_fit(comet_curve,x,y,params_init,bounds=params_bounds)\n",
    "    return params, cov"
   ]
  },
  {
   "cell_type": "code",
   "execution_count": 54,
   "id": "4549a7ca-7b20-4ffb-8d29-3f19567752df",
   "metadata": {},
   "outputs": [],
   "source": [
    "params2, pcov2 = comet_curve_fit(lc_cut['time'],-lc_cut['corrected flux'])"
   ]
  },
  {
   "cell_type": "code",
   "execution_count": 55,
   "id": "981c2b78-6ad9-4812-90b8-c45c10f8e34e",
   "metadata": {},
   "outputs": [],
   "source": [
    "fit2 = -comet_curve(lc_cut['time'],*params2)"
   ]
  },
  {
   "cell_type": "code",
   "execution_count": 56,
   "id": "750061fc-b796-4762-a3a5-ba4ca8d6b819",
   "metadata": {},
   "outputs": [
    {
     "data": {
      "text/plain": [
       "<matplotlib.collections.PathCollection at 0x7fae6ac6f150>"
      ]
     },
     "execution_count": 56,
     "metadata": {},
     "output_type": "execute_result"
    },
    {
     "data": {
      "image/png": "[encoded data removed]",
      "text/plain": [
       "<Figure size 432x288 with 1 Axes>"
      ]
     },
     "metadata": {
      "needs_background": "light"
     },
     "output_type": "display_data"
    }
   ],
   "source": [
    "plt.scatter(lc_cut['time'],lc_cut['corrected flux'])\n",
    "plt.scatter(lc_cut['time'],fit2)"
   ]
  },
  {
   "cell_type": "code",
   "execution_count": 96,
   "id": "66e70a10-6295-4938-bf7b-cd8210562d37",
   "metadata": {},
   "outputs": [
    {
     "data": {
      "text/plain": [
       "150"
      ]
     },
     "execution_count": 96,
     "metadata": {},
     "output_type": "execute_result"
    }
   ],
   "source": [
    "len(lc_cut)"
   ]
  },
  {
   "cell_type": "markdown",
   "id": "df6df228-009e-4541-8f6c-4dfba36d37f8",
   "metadata": {},
   "source": [
    "### Possible Combined Comet Model"
   ]
  },
  {
   "cell_type": "code",
   "execution_count": 102,
   "id": "7806cddc-f364-447a-9415-60e5d6781b61",
   "metadata": {},
   "outputs": [],
   "source": [
    "def reverse_comet_curve(t,A,t0,sigma,tail):\n",
    "    \n",
    "    \"\"\"\n",
    "    Function: Calculates the values of an asymmetric Gaussian function representing a comet curve. \n",
    "    The difference is the exponential 1/tail term after the mid-transit.\n",
    "\n",
    "    Parameters:\n",
    "        t (array): Independent variable (time) values.\n",
    "        A (float): Amplitude of the Gaussian curve.\n",
    "        t0 (float): Mean (centre) of the Gaussian curve.\n",
    "        sigma (float): Standard deviation of the Gaussian curve.\n",
    "        tail (float): Tail parameter controlling decay rate after t0.\n",
    "\n",
    "    Returns:\n",
    "        array: The computed values of the asymmetric Gaussian curve.\"\"\"\n",
    "\n",
    "    x = np.zeros(len(t))\n",
    "    for i in range(len(t)):\n",
    "        if t[i] > t0:\n",
    "            x[i] = gauss(t[i],A,t0,sigma)\n",
    "        else:\n",
    "            x[i] = A*math.exp(-abs(t[i]-t0)/tail)\n",
    "    return x\n",
    "\n",
    "\n",
    "def combined_comet_model(t, A_forward, t0_forward, sigma_forward, tail_forward, A_reverse, t0_reverse, sigma_reverse, tail_reverse):\n",
    "    \"\"\"\n",
    "    Function: Combines the forward and reverse comet models to create a combined comet model.\n",
    "\n",
    "    Parameters:\n",
    "        t (array): Independent variable (time) values.\n",
    "        A_forward (float): Amplitude of the Gaussian curve for the forward comet.\n",
    "        t0_forward (float): Mean (centre) of the Gaussian curve for the forward comet.\n",
    "        sigma_forward (float): Standard deviation of the Gaussian curve for the forward comet.\n",
    "        tail_forward (float): Tail parameter controlling the decay rate after t0 for the forward comet.\n",
    "        A_reverse (float): Amplitude of the Gaussian curve for the reverse comet.\n",
    "        t0_reverse (float): Mean (centre) of the Gaussian curve for the reverse comet.\n",
    "        sigma_reverse (float): Standard deviation of the Gaussian curve for the reverse comet.\n",
    "        tail_reverse (float): Tail parameter controlling the decay rate before t0 for the reverse comet.\n",
    "\n",
    "    Returns:\n",
    "        array: The computed values of the combined comet model.\n",
    "    \"\"\"\n",
    "\n",
    "    combined_model = np.zeros(len(t))\n",
    "    for i in range(len(t)):\n",
    "        if t[i] < t0_forward:\n",
    "            # Use forward comet model before t0_forward\n",
    "            combined_model[i] = comet_curve(t[i], A_forward, t0_forward, sigma_forward, tail_forward)\n",
    "        else:\n",
    "            # Use reverse comet model after t0_forward\n",
    "            combined_model[i] = reverse_comet_curve(t[i], A_reverse, t0_reverse, sigma_reverse, tail_reverse)\n",
    "\n",
    "    return combined_model"
   ]
  },
  {
   "cell_type": "code",
   "execution_count": 103,
   "id": "23d78057-6b3e-4883-8a27-a912937f2244",
   "metadata": {},
   "outputs": [],
   "source": [
    "fit2 = -comet_curve(lc_cut['time'],*params2)"
   ]
  },
  {
   "cell_type": "code",
   "execution_count": 104,
   "id": "740a2e2d-29ff-47c1-8838-e54957129166",
   "metadata": {},
   "outputs": [],
   "source": [
    "fit3 = -reverse_comet_curve(lc_cut['time'],*params2)"
   ]
  },
  {
   "cell_type": "code",
   "execution_count": 106,
   "id": "3b4efbb0-a69d-466a-b810-1826bea0c852",
   "metadata": {},
   "outputs": [
    {
     "data": {
      "text/plain": [
       "<matplotlib.collections.PathCollection at 0x7fae69bdfad0>"
      ]
     },
     "execution_count": 106,
     "metadata": {},
     "output_type": "execute_result"
    },
    {
     "data": {
      "image/png": "[encoded data removed]",
      "text/plain": [
       "<Figure size 432x288 with 1 Axes>"
      ]
     },
     "metadata": {
      "needs_background": "light"
     },
     "output_type": "display_data"
    }
   ],
   "source": [
    "plt.scatter(lc_cut['time'],lc_cut['corrected flux'])\n",
    "plt.scatter(lc_cut['time'],fit2)\n",
    "plt.scatter(lc_cut['time'],fit3)"
   ]
  },
  {
   "cell_type": "code",
   "execution_count": 107,
   "id": "a7242e86-001f-48d4-af1b-882a10db5966",
   "metadata": {},
   "outputs": [],
   "source": [
    "def combined_comet_model(t, A_forward, t0_forward, sigma_forward, tail_forward, A_reverse, t0_reverse, sigma_reverse, tail_reverse):\n",
    "    \"\"\"\n",
    "    Function: Combines the forward and reverse comet models to create a combined comet model.\n",
    "\n",
    "    Parameters:\n",
    "        t (array): Independent variable (time) values.\n",
    "        A_forward (float): Amplitude of the Gaussian curve for the forward comet.\n",
    "        t0_forward (float): Mean (centre) of the Gaussian curve for the forward comet.\n",
    "        sigma_forward (float): Standard deviation of the Gaussian curve for the forward comet.\n",
    "        tail_forward (float): Tail parameter controlling the decay rate after t0 for the forward comet.\n",
    "        A_reverse (float): Amplitude of the Gaussian curve for the reverse comet.\n",
    "        t0_reverse (float): Mean (centre) of the Gaussian curve for the reverse comet.\n",
    "        sigma_reverse (float): Standard deviation of the Gaussian curve for the reverse comet.\n",
    "        tail_reverse (float): Tail parameter controlling the decay rate before t0 for the reverse comet.\n",
    "\n",
    "    Returns:\n",
    "        array: The computed values of the combined comet model.\n",
    "    \"\"\"\n",
    "\n",
    "    combined_model = np.zeros(len(t))\n",
    "    for i in range(len(t)):\n",
    "        if t[i] < t0_forward:\n",
    "            # Use forward comet model before t0_forward\n",
    "            combined_model[i] = comet_curve(t[i], A_forward, t0_forward, sigma_forward, tail_forward)\n",
    "        else:\n",
    "            # Use reverse comet model after t0_forward\n",
    "            combined_model[i] = reverse_comet_curve(t[i], A_reverse, t0_reverse, sigma_reverse, tail_reverse)\n",
    "\n",
    "    return combined_model"
   ]
  },
  {
   "cell_type": "code",
   "execution_count": 109,
   "id": "b1d6d0a7-c7b0-4aa3-a6f0-145cba21a13a",
   "metadata": {},
   "outputs": [
    {
     "ename": "TypeError",
     "evalue": "object of type 'numpy.float64' has no len()",
     "output_type": "error",
     "traceback": [
      "\u001b[0;31m----------------------------------------\u001b[0m",
      "\u001b[0;31mTypeError\u001b[0mTraceback (most recent call last)",
      "\u001b[0;32m<ipython-input-109-6e8e3fbacfde>\u001b[0m in \u001b[0;36m<module>\u001b[0;34m\u001b[0m\n\u001b[0;32m----> 1\u001b[0;31m \u001b[0mfit4\u001b[0m \u001b[0;34m=\u001b[0m \u001b[0mcombined_comet_model\u001b[0m\u001b[0;34m(\u001b[0m\u001b[0mlc_cut\u001b[0m\u001b[0;34m[\u001b[0m\u001b[0;34m'time'\u001b[0m\u001b[0;34m]\u001b[0m\u001b[0;34m,\u001b[0m\u001b[0;34m*\u001b[0m\u001b[0mparams2\u001b[0m\u001b[0;34m,\u001b[0m \u001b[0;34m*\u001b[0m\u001b[0mparams2\u001b[0m\u001b[0;34m)\u001b[0m\u001b[0;34m\u001b[0m\u001b[0;34m\u001b[0m\u001b[0m\n\u001b[0m",
      "\u001b[0;32m<ipython-input-107-d91a0240b0fe>\u001b[0m in \u001b[0;36mcombined_comet_model\u001b[0;34m(t, A_forward, t0_forward, sigma_forward, tail_forward, A_reverse, t0_reverse, sigma_reverse, tail_reverse)\u001b[0m\n\u001b[1;32m     22\u001b[0m         \u001b[0;32mif\u001b[0m \u001b[0mt\u001b[0m\u001b[0;34m[\u001b[0m\u001b[0mi\u001b[0m\u001b[0;34m]\u001b[0m \u001b[0;34m<\u001b[0m \u001b[0mt0_forward\u001b[0m\u001b[0;34m:\u001b[0m\u001b[0;34m\u001b[0m\u001b[0;34m\u001b[0m\u001b[0m\n\u001b[1;32m     23\u001b[0m             \u001b[0;31m# Use forward comet model before t0_forward\u001b[0m\u001b[0;34m\u001b[0m\u001b[0;34m\u001b[0m\u001b[0;34m\u001b[0m\u001b[0m\n\u001b[0;32m---> 24\u001b[0;31m             \u001b[0mcombined_model\u001b[0m\u001b[0;34m[\u001b[0m\u001b[0mi\u001b[0m\u001b[0;34m]\u001b[0m \u001b[0;34m=\u001b[0m \u001b[0mcomet_curve\u001b[0m\u001b[0;34m(\u001b[0m\u001b[0mt\u001b[0m\u001b[0;34m[\u001b[0m\u001b[0mi\u001b[0m\u001b[0;34m]\u001b[0m\u001b[0;34m,\u001b[0m \u001b[0mA_forward\u001b[0m\u001b[0;34m,\u001b[0m \u001b[0mt0_forward\u001b[0m\u001b[0;34m,\u001b[0m \u001b[0msigma_forward\u001b[0m\u001b[0;34m,\u001b[0m \u001b[0mtail_forward\u001b[0m\u001b[0;34m)\u001b[0m\u001b[0;34m\u001b[0m\u001b[0;34m\u001b[0m\u001b[0m\n\u001b[0m\u001b[1;32m     25\u001b[0m         \u001b[0;32melse\u001b[0m\u001b[0;34m:\u001b[0m\u001b[0;34m\u001b[0m\u001b[0;34m\u001b[0m\u001b[0m\n\u001b[1;32m     26\u001b[0m             \u001b[0;31m# Use reverse comet model after t0_forward\u001b[0m\u001b[0;34m\u001b[0m\u001b[0;34m\u001b[0m\u001b[0;34m\u001b[0m\u001b[0m\n",
      "\u001b[0;32m<ipython-input-53-d88ed8084dbd>\u001b[0m in \u001b[0;36mcomet_curve\u001b[0;34m(t, A, t0, sigma, tail)\u001b[0m\n\u001b[1;32m     14\u001b[0m         array: The computed values of the asymmetric Gaussian curve.\"\"\"\n\u001b[1;32m     15\u001b[0m \u001b[0;34m\u001b[0m\u001b[0m\n\u001b[0;32m---> 16\u001b[0;31m     \u001b[0mx\u001b[0m \u001b[0;34m=\u001b[0m \u001b[0mnp\u001b[0m\u001b[0;34m.\u001b[0m\u001b[0mzeros\u001b[0m\u001b[0;34m(\u001b[0m\u001b[0mlen\u001b[0m\u001b[0;34m(\u001b[0m\u001b[0mt\u001b[0m\u001b[0;34m)\u001b[0m\u001b[0;34m)\u001b[0m\u001b[0;34m\u001b[0m\u001b[0;34m\u001b[0m\u001b[0m\n\u001b[0m\u001b[1;32m     17\u001b[0m     \u001b[0;32mfor\u001b[0m \u001b[0mi\u001b[0m \u001b[0;32min\u001b[0m \u001b[0mrange\u001b[0m\u001b[0;34m(\u001b[0m\u001b[0mlen\u001b[0m\u001b[0;34m(\u001b[0m\u001b[0mt\u001b[0m\u001b[0;34m)\u001b[0m\u001b[0;34m)\u001b[0m\u001b[0;34m:\u001b[0m\u001b[0;34m\u001b[0m\u001b[0;34m\u001b[0m\u001b[0m\n\u001b[1;32m     18\u001b[0m         \u001b[0;32mif\u001b[0m \u001b[0mt\u001b[0m\u001b[0;34m[\u001b[0m\u001b[0mi\u001b[0m\u001b[0;34m]\u001b[0m \u001b[0;34m<\u001b[0m \u001b[0mt0\u001b[0m\u001b[0;34m:\u001b[0m\u001b[0;34m\u001b[0m\u001b[0;34m\u001b[0m\u001b[0m\n",
      "\u001b[0;31mTypeError\u001b[0m: object of type 'numpy.float64' has no len()"
     ]
    }
   ],
   "source": [
    "fit4 = combined_comet_model(lc_cut['time'],*params2, *params2)"
   ]
  },
  {
   "cell_type": "code",
   "execution_count": null,
   "id": "58dfca3a-a5d6-4f6f-a169-2b35cf6dca58",
   "metadata": {},
   "outputs": [],
   "source": []
  }
 ],
 "metadata": {
  "kernelspec": {
   "display_name": "auto_exo_lite",
   "language": "python",
   "name": "auto_exo_lite"
  },
  "language_info": {
   "codemirror_mode": {
    "name": "ipython",
    "version": 3
   },
   "file_extension": ".py",
   "mimetype": "text/x-python",
   "name": "python",
   "nbconvert_exporter": "python",
   "pygments_lexer": "ipython3",
   "version": "3.7.13"
  }
 },
 "nbformat": 4,
 "nbformat_minor": 5
}
