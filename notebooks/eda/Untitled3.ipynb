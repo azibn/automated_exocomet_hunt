{
 "cells": [
  {
   "cell_type": "code",
   "execution_count": 1,
   "id": "53d2a63f-26be-4758-a832-a1bbffbd804f",
   "metadata": {},
   "outputs": [],
   "source": [
    "import os\n",
    "os.chdir('../../scripts')\n",
    "from analysis_tools_cython import *"
   ]
  },
  {
   "cell_type": "code",
   "execution_count": 2,
   "id": "f61cc168-7198-44e4-b4d3-fb63e3a29ae5",
   "metadata": {},
   "outputs": [],
   "source": [
    "df = pd.read_csv('/storage/astro2/phrdhx/tesslcs/sector6lookup.csv')"
   ]
  },
  {
   "cell_type": "code",
   "execution_count": 3,
   "id": "9c1f201b-ce04-4202-9292-1547a1a0acbe",
   "metadata": {},
   "outputs": [
    {
     "name": "stdout",
     "output_type": "stream",
     "text": [
      "tesslcs_sector_6_104/tesslcs_tmag_11_12/tesslc_255641870.pkl\n"
     ]
    }
   ],
   "source": [
    "file = df.Filename[df.TIC_ID == 255641870].values[0]\n",
    "print(file)"
   ]
  },
  {
   "cell_type": "code",
   "execution_count": 4,
   "id": "628646ae-7efd-4e07-a1a3-2e89c70b27ab",
   "metadata": {},
   "outputs": [],
   "source": [
    "lc, lc_info = import_XRPlightcurve(os.path.join('/tmp/tess',file),sector=6)"
   ]
  },
  {
   "cell_type": "code",
   "execution_count": 5,
   "id": "1593fac8-f282-49f4-a265-166412d01ce2",
   "metadata": {},
   "outputs": [
    {
     "data": {
      "text/plain": [
       "<matplotlib.collections.PathCollection at 0x7f03d120ee90>"
      ]
     },
     "execution_count": 5,
     "metadata": {},
     "output_type": "execute_result"
    },
    {
     "data": {
      "image/png": "[encoded data removed]",
      "text/plain": [
       "<Figure size 432x288 with 1 Axes>"
      ]
     },
     "metadata": {
      "needs_background": "light"
     },
     "output_type": "display_data"
    }
   ],
   "source": [
    "plt.scatter(lc['time'],lc['corrected flux'],s=15)"
   ]
  },
  {
   "cell_type": "code",
   "execution_count": 6,
   "id": "7ea12732-1003-4b19-b2d8-09dc4251ff57",
   "metadata": {},
   "outputs": [],
   "source": [
    "timestep = calculate_timestep(lc)\n",
    "factor = ((1/48)/timestep)"
   ]
  },
  {
   "cell_type": "code",
   "execution_count": 7,
   "id": "d33b7605-c7a1-4ff3-9548-3b1bb09f6c6a",
   "metadata": {},
   "outputs": [],
   "source": [
    "lc['corrected flux'] = normalise_flux(lc['corrected flux'])"
   ]
  },
  {
   "cell_type": "code",
   "execution_count": null,
   "id": "6178356c-eb43-4d8a-87c1-d2c1588c478b",
   "metadata": {},
   "outputs": [],
   "source": []
  },
  {
   "cell_type": "code",
   "execution_count": 8,
   "id": "482448d0-fc88-46de-b110-e70654bf5fc6",
   "metadata": {},
   "outputs": [],
   "source": [
    "t, f, q, real, fe = clean_data(lc['time','corrected flux','quality','flux error'])"
   ]
  },
  {
   "cell_type": "code",
   "execution_count": null,
   "id": "89a12b2d-cc7f-48a5-b4e6-57bffd591a6e",
   "metadata": {},
   "outputs": [],
   "source": []
  },
  {
   "cell_type": "code",
   "execution_count": 9,
   "id": "8e0ad3f6-fba8-430f-b62e-fb15baaf315c",
   "metadata": {},
   "outputs": [],
   "source": [
    "m,n,T1,minT,minT_time,minT_duration,Tm_start,Tm_end,Tm_depth,Ts = run_test_statistic(f,factor,timestep, t)"
   ]
  },
  {
   "cell_type": "code",
   "execution_count": 10,
   "id": "84752f9e-a0f6-4bc5-a28b-4588e3d5b413",
   "metadata": {},
   "outputs": [
    {
     "name": "stdout",
     "output_type": "stream",
     "text": [
      "1469.0542420802858\n"
     ]
    }
   ],
   "source": [
    "print(t[0])"
   ]
  },
  {
   "cell_type": "code",
   "execution_count": 11,
   "id": "ba45f109-e4a3-40f4-8c25-0d32f9d71001",
   "metadata": {},
   "outputs": [
    {
     "data": {
      "text/plain": [
       "1477.5126581324373"
      ]
     },
     "execution_count": 11,
     "metadata": {},
     "output_type": "execute_result"
    }
   ],
   "source": [
    "minT_time"
   ]
  },
  {
   "cell_type": "code",
   "execution_count": 12,
   "id": "b267be24-c394-4917-a574-426665223f2f",
   "metadata": {},
   "outputs": [],
   "source": [
    "def check_consecutive_points(arr):\n",
    "    consecutive_count = 1\n",
    "    current_value = arr[0]\n",
    "\n",
    "    for i in range(1, len(arr)):\n",
    "        if arr[i] == current_value:\n",
    "            consecutive_count += 1\n",
    "        else:\n",
    "            current_value = arr[i]\n",
    "            consecutive_count = 1\n",
    "\n",
    "        if consecutive_count == 10:\n",
    "            return True\n",
    "        else: \n",
    "            return False\n"
   ]
  },
  {
   "cell_type": "code",
   "execution_count": 32,
   "id": "840c8a07-5d0b-4d1b-bc03-2f9050da1137",
   "metadata": {},
   "outputs": [],
   "source": [
    "def calc_shape(m,n,time,flux,quality,flux_error,n_m_bg_start=3,n_m_bg_scale_factor=1,non_normalised_flux=lc['corrected flux']*np.median(lc['corrected flux']),time_ori=lc.columns[0].data):\n",
    "    \"\"\"Fit both symmetric and comet-like transit profiles and compare fit.\n",
    "    Returns:\n",
    "    (1) Asymmetry: ratio of (errors squared)\n",
    "    Possible errors and return values:\n",
    "    -1 : Divide by zero as comet profile is exact fit\n",
    "    -2 : Too close to edge of light curve to fit profile\n",
    "    -3 : Unable to fit model (e.g. timeout)\n",
    "    -4 : Too much empty space in overall light curve or near dip\n",
    "    (2,3) Widths of comet curve fit segments.\n",
    "    info: t, x, q, fit1 and fit2 are the transit shape elements \n",
    "\n",
    "    \"\"\"\n",
    "    ## how many transit widths to take the general linear trend from. start is 1/4 length of cutout from beginning, end is 1 from end.\n",
    "    #first_index = n - (n_m_bg_start*n)\n",
    "    #last_index = n - (n_m_bg_end*m)\n",
    "    \n",
    "    \n",
    "    ## the transit widths of the cutout from the T-statistic minimum value. \n",
    "    ## this project requires the cutout to have more transit widths after the midtransit, to cover more of the tail.\n",
    "    ## default is set to 1 transit width before and 2 transit widths after \n",
    "\n",
    "    n_m_bg_end = n_m_bg_scale_factor*n_m_bg_start\n",
    "\n",
    "    cutout_before = n-(m*n_m_bg_start)\n",
    "    cutout_after = n+(m*n_m_bg_end)\n",
    "\n",
    "    if cutout_before >= 0 and cutout_after < len(time):\n",
    "        t = time[cutout_before:cutout_after]\n",
    "        if (t[-1]-t[0]) / np.median(np.diff(t)) / len(t) > 1.5:\n",
    "            return -4,-4,-4,-4,-4,-4,-4, -4, -4, -4, -4, -4, -4\n",
    "        t0 = time[n]\n",
    "        diffs = np.diff(time_ori)#[time_ori[i + 1] - time_ori[i] for i in range(len(t) - 1)]\n",
    "        #print(diffs[335:350])\n",
    "                ### if a transit is less than 0.5 days within 2 days before or after transit centre, remove.\n",
    "        for i,diff in enumerate(diffs):\n",
    "            if diff > 0.5 and abs(t0-t[i])<2: # accounts for both sides of gap\n",
    "                return -5,-5,-5,-5,-5,-5,-5, -5, -5, -5, -5\n",
    "        \n",
    "        \n",
    "                \n",
    "        x = flux[cutout_before:cutout_after]\n",
    "        q = quality[cutout_before:cutout_after]\n",
    "        fe = flux_error[cutout_before:cutout_after]\n",
    "        \n",
    "        bg_before = np.mean(x[:int(m/4)])\n",
    "        bg_time_before = np.mean(t[:int(m/4)])\n",
    "        bg_after = np.mean(x[-int(round(m/4)):])\n",
    "        bg_time_after = np.mean(t[-int(round(m/4)):])\n",
    "    \n",
    "\n",
    "\n",
    "        grad = (bg_after-bg_before)/(bg_time_after-bg_time_before)\n",
    "        background_level = bg_before + grad * (t - bg_time_before)\n",
    "        x = x - background_level\n",
    "\n",
    "        ### for the non-normalised flux \n",
    "        if non_normalised_flux is not None:\n",
    "            nnx = non_normalised_flux[cutout_before:cutout_after]\n",
    "\n",
    "        #    bg_before_nnx = np.mean(nnx[:int(m/4)])\n",
    "        #    bg_after_nnx = np.mean(nnx[-int(round(m/4)):])\n",
    "\n",
    "        #    grad_nnx = (bg_after_nnx-bg_before_nnx)/(bg_time_after-bg_time_before)\n",
    "        #    background_level_nnx = bg_before_nnx + grad_nnx * (t - bg_time_before)\n",
    "        #    nnx = nnx - background_level_nnx\n",
    "\n",
    "        try:\n",
    "            params1, pcov1 = single_gaussian_curve_fit(t,-x)\n",
    "            #params2, pcov2 = comet_curve_fit(t,-x)\n",
    "            if non_normalised_flux is not None:\n",
    "                params3, pcov3 = skewed_gaussian_curve_fit(t,x,fe,flux=nnx)\n",
    "                print(params3)\n",
    "            else:\n",
    "                params3, pcov3 = skewed_gaussian_curve_fit(t,x,fe)\n",
    "\n",
    "           \n",
    "        except:\n",
    "            return -3,-3,-3,-3,-3,-3,-3, -3, -3, -3, -3\n",
    "\n",
    "        fit1 = -gauss(t,*params1)\n",
    "        #fit2 = -comet_curve(t,*params2)\n",
    "        fit3 = skewed_gaussian(t,*params3)\n",
    "\n",
    "        depth = fit3.min() # depth of comet (based on minimum point; not entirely accurate, but majority of the time true\n",
    "        #min_time = t[np.argmin(x)] # time of midtransit/at minimum point\n",
    "        ### reduced chi squared for the two models\n",
    "        chisq_fit1 = chisquare(t,x,fit1,params1,fe)\n",
    "        chisq_fit3 = chisquare(t,x,fit3,params3,fe)\n",
    "\n",
    "        ### rmse, mae for both models\n",
    "        rmse_fit3 = rmse(x,fit3)\n",
    "        mae_fit3 = mae(x,fit3)\n",
    "\n",
    "        plt.scatter(t,x,s=15)\n",
    "        plt.scatter(t,fit3,s=15)\n",
    "    \n",
    "        scores = [score_fit(x,fit) for fit in [fit1,fit3]] # changed for the skewed gaussian fit\n",
    "        if scores[1] > 0:\n",
    "            skewness = params3[0]\n",
    "            skewness_error = np.sqrt(np.diag(pcov3)[0])\n",
    "            return scores[0]/scores[1], params3[2], params3[3], depth, [t,x,q,fe,fit1,fit3,background_level], skewness, skewness_error, chisq_fit1, chisq_fit3, rmse_fit3, mae_fit3\n",
    "        else:\n",
    "\n",
    "            return -1,-1,-1,-1,-1,-1,-1, -1, -1, -1, -1\n",
    "    else:     \n",
    "\n",
    "        return -2,-2,-2,-2,-2,-2,-2, -2, -2, -2, -2"
   ]
  },
  {
   "cell_type": "code",
   "execution_count": null,
   "id": "1dc40f3d-550c-43af-933d-da2c9fb11da5",
   "metadata": {},
   "outputs": [],
   "source": []
  },
  {
   "cell_type": "code",
   "execution_count": 33,
   "id": "e1acb936-e4cc-4378-b1f0-cd19998648a6",
   "metadata": {},
   "outputs": [
    {
     "data": {
      "text/plain": [
       "(-5, -5, -5, -5, -5, -5, -5, -5, -5, -5, -5)"
      ]
     },
     "execution_count": 33,
     "metadata": {},
     "output_type": "execute_result"
    }
   ],
   "source": [
    "calc_shape(m,n,t,f,q,fe)\n"
   ]
  },
  {
   "cell_type": "code",
   "execution_count": 36,
   "id": "4de2593b-2789-41f7-b1e3-9868944a3ee4",
   "metadata": {},
   "outputs": [
    {
     "ename": "TypeError",
     "evalue": "len() takes exactly one argument (12 given)",
     "output_type": "error",
     "traceback": [
      "\u001b[0;31m---------------------------------------------------------------------------\u001b[0m",
      "\u001b[0;31mTypeError\u001b[0m                                 Traceback (most recent call last)",
      "\u001b[0;32m<ipython-input-36-ff2e3d6b8912>\u001b[0m in \u001b[0;36m<module>\u001b[0;34m\u001b[0m\n\u001b[1;32m      2\u001b[0m \u001b[0mindices\u001b[0m \u001b[0;34m=\u001b[0m \u001b[0;34m[\u001b[0m\u001b[0mi\u001b[0m \u001b[0;32mfor\u001b[0m \u001b[0mi\u001b[0m \u001b[0;32min\u001b[0m \u001b[0mrange\u001b[0m\u001b[0;34m(\u001b[0m\u001b[0mlen\u001b[0m\u001b[0;34m(\u001b[0m\u001b[0mli\u001b[0m\u001b[0;34m)\u001b[0m\u001b[0;34m)\u001b[0m \u001b[0;32mif\u001b[0m \u001b[0mli\u001b[0m\u001b[0;34m[\u001b[0m\u001b[0mi\u001b[0m\u001b[0;34m]\u001b[0m \u001b[0;34m>\u001b[0m \u001b[0;36m2.375\u001b[0m\u001b[0;34m]\u001b[0m\u001b[0;34m\u001b[0m\u001b[0;34m\u001b[0m\u001b[0m\n\u001b[1;32m      3\u001b[0m \u001b[0mindices\u001b[0m\u001b[0;34m\u001b[0m\u001b[0;34m\u001b[0m\u001b[0m\n\u001b[0;32m----> 4\u001b[0;31m \u001b[0mlen\u001b[0m\u001b[0;34m(\u001b[0m\u001b[0;34m-\u001b[0m\u001b[0;36m3\u001b[0m\u001b[0;34m,\u001b[0m\u001b[0;34m-\u001b[0m\u001b[0;36m3\u001b[0m\u001b[0;34m,\u001b[0m\u001b[0;34m-\u001b[0m\u001b[0;36m3\u001b[0m\u001b[0;34m,\u001b[0m\u001b[0;34m-\u001b[0m\u001b[0;36m3\u001b[0m\u001b[0;34m,\u001b[0m\u001b[0;34m-\u001b[0m\u001b[0;36m3\u001b[0m\u001b[0;34m,\u001b[0m\u001b[0;34m-\u001b[0m\u001b[0;36m3\u001b[0m\u001b[0;34m,\u001b[0m\u001b[0;34m-\u001b[0m\u001b[0;36m3\u001b[0m\u001b[0;34m,\u001b[0m \u001b[0;34m-\u001b[0m\u001b[0;36m3\u001b[0m\u001b[0;34m,\u001b[0m \u001b[0;34m-\u001b[0m\u001b[0;36m3\u001b[0m\u001b[0;34m,\u001b[0m \u001b[0;34m-\u001b[0m\u001b[0;36m3\u001b[0m\u001b[0;34m,\u001b[0m \u001b[0;34m-\u001b[0m\u001b[0;36m3\u001b[0m\u001b[0;34m,\u001b[0m \u001b[0;34m-\u001b[0m\u001b[0;36m3\u001b[0m\u001b[0;34m)\u001b[0m\u001b[0;34m\u001b[0m\u001b[0;34m\u001b[0m\u001b[0m\n\u001b[0m",
      "\u001b[0;31mTypeError\u001b[0m: len() takes exactly one argument (12 given)"
     ]
    }
   ],
   "source": [
    "li = [ lc[i+1][0] - lc[i][0] for i in range(len(lc)-1) ]\n",
    "indices = [i for i in range(len(li)) if li[i] > 2.375]\n",
    "indices\n"
   ]
  },
  {
   "cell_type": "code",
   "execution_count": null,
   "id": "abc71cd8-b246-401b-826c-6fb04d2c53d8",
   "metadata": {},
   "outputs": [],
   "source": []
  }
 ],
 "metadata": {
  "kernelspec": {
   "display_name": "auto_exo_lite",
   "language": "python",
   "name": "auto_exo_lite"
  },
  "language_info": {
   "codemirror_mode": {
    "name": "ipython",
    "version": 3
   },
   "file_extension": ".py",
   "mimetype": "text/x-python",
   "name": "python",
   "nbconvert_exporter": "python",
   "pygments_lexer": "ipython3",
   "version": "3.7.13"
  }
 },
 "nbformat": 4,
 "nbformat_minor": 5
}
