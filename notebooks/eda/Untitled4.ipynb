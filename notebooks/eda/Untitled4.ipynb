{
 "cells": [
  {
   "cell_type": "code",
   "execution_count": 1,
   "id": "1d0754b3-9511-4a91-9a0b-8396b90fc4ef",
   "metadata": {},
   "outputs": [],
   "source": [
    "import pandas as pd\n",
    "import os\n",
    "os.chdir('../../scripts')\n",
    "from analysis_tools_cython import *"
   ]
  },
  {
   "cell_type": "code",
   "execution_count": 15,
   "id": "f1f45845-7255-440d-a92b-557ae0ac08ae",
   "metadata": {
    "tags": []
   },
   "outputs": [
    {
     "name": "stderr",
     "output_type": "stream",
     "text": [
      "IOPub data rate exceeded.\n",
      "The Jupyter server will temporarily stop sending output\n",
      "to the client in order to avoid crashing it.\n",
      "To change this limit, set the config variable\n",
      "`--ServerApp.iopub_data_rate_limit`.\n",
      "\n",
      "Current values:\n",
      "ServerApp.iopub_data_rate_limit=1000000.0 (bytes/sec)\n",
      "ServerApp.rate_limit_window=3.0 (secs)\n",
      "\n"
     ]
    }
   ],
   "source": [
    "import pandas as pd\n",
    "import numpy as np\n",
    "\n",
    "data = pd.read_csv('../som_candidates_eleanor-lite-batch-analyse.txt')\n",
    "paths = data.iloc[:, 0].to_list()\n",
    "\n",
    "# Create an empty list to store results\n",
    "all_above_threshold = []\n",
    "\n",
    "for i in paths:\n",
    "    lc, lc_info = import_lightcurve(i)\n",
    "    results, arrays = processing(lc, lc_info=lc_info, method='median')\n",
    "    results = results.split()\n",
    "\n",
    "    # Extracting time and bkg columns from lc\n",
    "    time = lc['TIME']\n",
    "    bkg = lc['FLUX_BKG']\n",
    "\n",
    "    # Find the index of the closest value\n",
    "    index_of_closest_value = np.argmin(np.abs(bkg - float(results[3])))  # Use the correct index for time\n",
    "\n",
    "    # Defining a mad and its threshold for the lightcurve\n",
    "    mad = np.nanmedian(bkg - np.nanmedian(bkg))\n",
    "    threshold = 3 * mad\n",
    "\n",
    "    # Get indices around the closest index (two indices on each side)\n",
    "    indices_around = np.arange(max(0, index_of_closest_value - 2), min(len(bkg), index_of_closest_value + 3))\n",
    "\n",
    "    # Convert lc to a pandas DataFrame\n",
    "    df = lc.to_pandas()\n",
    "\n",
    "    # Extracting the interested columns using iloc\n",
    "    interested_cols = df.iloc[indices_around, [df.columns.get_loc('TIME'), df.columns.get_loc('FLUX_BKG')]]\n",
    "\n",
    "    # Applying the condition on FLUX_BKG\n",
    "    condition = interested_cols['FLUX_BKG'] > threshold\n",
    "\n",
    "    # Check if all points meet the condition\n",
    "    if condition.all():\n",
    "        # Add relevant information to the list\n",
    "        all_above_threshold.append({\n",
    "            'Path': i,\n",
    "            'Index of closest value': index_of_closest_value,\n",
    "            'Closest value': bkg[index_of_closest_value],\n",
    "            'Interested columns': interested_cols.to_dict(orient='list')\n",
    "        })\n",
    "\n",
    "# Print the list of results\n",
    "print(all_above_threshold)\n"
   ]
  },
  {
   "cell_type": "code",
   "execution_count": null,
   "id": "5f8addb3-3442-44ab-a300-3e66a3e2bdde",
   "metadata": {},
   "outputs": [],
   "source": []
  }
 ],
 "metadata": {
  "kernelspec": {
   "display_name": "auto_exo",
   "language": "python",
   "name": "auto_exo"
  },
  "language_info": {
   "codemirror_mode": {
    "name": "ipython",
    "version": 3
   },
   "file_extension": ".py",
   "mimetype": "text/x-python",
   "name": "python",
   "nbconvert_exporter": "python",
   "pygments_lexer": "ipython3",
   "version": "3.7.12"
  }
 },
 "nbformat": 4,
 "nbformat_minor": 5
}
