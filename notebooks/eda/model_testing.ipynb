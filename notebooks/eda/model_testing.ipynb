{
 "cells": [
  {
   "cell_type": "code",
   "execution_count": 1,
   "id": "c55f617d-ed2a-4e4e-8ace-770e7593349d",
   "metadata": {},
   "outputs": [],
   "source": [
    "import os\n",
    "os.chdir('../../scripts')\n",
    "import pandas as pd\n",
    "import matplotlib.pyplot as plt\n",
    "from post_processing import get_output\n",
    "from analysis_tools_cython import *\n",
    "from scipy import stats\n",
    "import seaborn as sns\n",
    "import numpy as np"
   ]
  },
  {
   "cell_type": "code",
   "execution_count": 2,
   "id": "fd8a23ad-3272-4d28-8b44-9f2f6c1bf941",
   "metadata": {},
   "outputs": [],
   "source": [
    ", _ = import_XRPlightcurve('/storage/astro2/phrdhx/tesslcs/tesslcs_sector_6_104/tesslcs_tmag_10_11/tesslc_24829264.pkl',sector=6)\n",
    "#data = data[300:500]\n",
    "# ../betapic /storage/astro2/phrdhx/tesslcs/tesslcs_sector_6_104/tesslcs_tmag_10_11/tesslc_153213307.pkl\n",
    "lc, lc_info = import_lightcurve('../betapic/hlsp_tess-spoc_tess_phot_0000000270577175-s0006_tess_v1_lc.fits')"
   ]
  },
  {
   "cell_type": "code",
   "execution_count": 3,
   "id": "49eacd14-344e-4c0b-9eeb-313c5549a579",
   "metadata": {},
   "outputs": [],
   "source": [
    "def skewed_gaussian2(x, A, t0, sigma, alpha):\n",
    "    \"\"\"\n",
    "    Skewed Gaussian function using the Skewed Student's t-distribution.\n",
    "\n",
    "    Parameters:\n",
    "        x: Input data points.\n",
    "        A: Amplitude of the Gaussian.\n",
    "        t0: Mean of the Gaussian.\n",
    "        sigma: Standard deviation of the Gaussian.\n",
    "        alpha: Skewness parameter (positive for right-skewed, negative for left-skewed).\n",
    "\n",
    "    Returns:\n",
    "        y: The value of the skewed Gaussian at each input data point x.\n",
    "    \"\"\"\n",
    "    y = A * skewnorm.pdf(x,alpha,loc=t0, scale=sigma)\n",
    "    return y\n",
    "\n",
    "\n",
    "def skewed_gaussian_curve_fit2(x,y,y_err):\n",
    "    # Initial parameters guess\n",
    "    ## i = index of min time\n",
    "    ## x = time\n",
    "    ## y = flux\n",
    "    \n",
    "    i = np.argmax(y)\n",
    "    print(x[i])\n",
    "    width = x[-1]-x[0]\n",
    "    \n",
    "    ### params initialisation for skewness, time, mean and sigma\n",
    "    # amplitude, t0, sigma, skewness\n",
    "    params_init = [y[i],x[i],width/3,1]\n",
    "    \n",
    "    params_bounds=[[0,x[0],0,-10], [np.inf,x[-1],width*3,10]]\n",
    "    params,cov = curve_fit(skewed_gaussian,x,y,p0=params_init,sigma=y_err,bounds=params_bounds,maxfev=100000)\n",
    "    \n",
    "    return params, cov \n",
    "\n"
   ]
  },
  {
   "cell_type": "code",
   "execution_count": 4,
   "id": "1cf10d39-c39f-44b9-b459-b506cb6f3932",
   "metadata": {},
   "outputs": [],
   "source": [
    "lc = lc[700:900]"
   ]
  },
  {
   "cell_type": "code",
   "execution_count": 5,
   "id": "588f6739-b673-45a6-9cf1-0d856ce11cca",
   "metadata": {},
   "outputs": [],
   "source": [
    "flux = normalise_flux(lc['PDCSAP_FLUX'])\n",
    "time = lc['TIME']"
   ]
  },
  {
   "cell_type": "code",
   "execution_count": 6,
   "id": "e2b86f06-8ddb-4153-8480-586f666af500",
   "metadata": {},
   "outputs": [
    {
     "data": {
      "text/plain": [
       "<matplotlib.collections.PathCollection at 0x7f0f84b0a410>"
      ]
     },
     "execution_count": 6,
     "metadata": {},
     "output_type": "execute_result"
    },
    {
     "data": {
      "image/png": "[encoded data removed]",
      "text/plain": [
       "<Figure size 432x288 with 1 Axes>"
      ]
     },
     "metadata": {
      "needs_background": "light"
     },
     "output_type": "display_data"
    }
   ],
   "source": [
    "plt.scatter(time,flux,s=5)"
   ]
  },
  {
   "cell_type": "code",
   "execution_count": 7,
   "id": "17533e41-2230-4fad-8979-ac9a4804209c",
   "metadata": {},
   "outputs": [],
   "source": [
    "i = np.argmax(flux)"
   ]
  },
  {
   "cell_type": "code",
   "execution_count": 8,
   "id": "da8123da-dd86-4f9b-9dc8-5b359dfd36fc",
   "metadata": {},
   "outputs": [
    {
     "data": {
      "text/plain": [
       "1485.3665716098037"
      ]
     },
     "execution_count": 8,
     "metadata": {},
     "output_type": "execute_result"
    }
   ],
   "source": [
    "lc['TIME'][i]"
   ]
  },
  {
   "cell_type": "code",
   "execution_count": 9,
   "id": "50f71646-80cd-4c77-802d-d3462f843107",
   "metadata": {},
   "outputs": [],
   "source": [
    "from scipy.stats import skewnorm"
   ]
  },
  {
   "cell_type": "code",
   "execution_count": 10,
   "id": "4757fcc1-9a10-4982-8383-581bb261932c",
   "metadata": {},
   "outputs": [],
   "source": [
    "loc = lc['TIME'][i]\n",
    "scale = (lc['TIME'][-1]-lc['TIME'][0])/3"
   ]
  },
  {
   "cell_type": "code",
   "execution_count": 11,
   "id": "f5e39113-629f-4ccc-a386-4fc58d5ced9f",
   "metadata": {},
   "outputs": [],
   "source": [
    "shape, loc, scale = skewnorm.fit(flux,floc=loc)\n"
   ]
  },
  {
   "cell_type": "code",
   "execution_count": 12,
   "id": "1dc69bce-29b4-404d-8b9c-6e6dbde2296a",
   "metadata": {},
   "outputs": [],
   "source": [
    "fitted_flux = skewnorm.pdf(time, shape, loc=loc, scale=scale)"
   ]
  },
  {
   "cell_type": "code",
   "execution_count": 13,
   "id": "a0c31f60-a76d-41fd-9a35-4f0bb4f7cfd1",
   "metadata": {},
   "outputs": [
    {
     "data": {
      "text/plain": [
       "[<matplotlib.lines.Line2D at 0x7f0f84e0b6d0>]"
      ]
     },
     "execution_count": 13,
     "metadata": {},
     "output_type": "execute_result"
    },
    {
     "data": {
      "image/png": "[encoded data removed]",
      "text/plain": [
       "<Figure size 432x288 with 1 Axes>"
      ]
     },
     "metadata": {
      "needs_background": "light"
     },
     "output_type": "display_data"
    }
   ],
   "source": [
    "plt.plot(time, flux, label='Original Data')\n",
    "plt.plot(time, fitted_flux, label='Fitted Skewed Gaussian')"
   ]
  },
  {
   "cell_type": "markdown",
   "id": "02acff7c-2654-41e0-8ce9-f36ccc8fa57c",
   "metadata": {},
   "source": [
    "---"
   ]
  },
  {
   "cell_type": "markdown",
   "id": "00fee2a1-9486-4e1e-85e3-ed185e67335d",
   "metadata": {},
   "source": [
    "## `curve_fit`"
   ]
  },
  {
   "cell_type": "markdown",
   "id": "ed6cd56b-b7ac-4f19-a8fa-6aa5256868ab",
   "metadata": {},
   "source": [
    "#### Revisit Beta Pic Cut Lightcurve"
   ]
  },
  {
   "cell_type": "code",
   "execution_count": 14,
   "id": "df6b67f6-aa3d-4530-aaf8-190ce0961b73",
   "metadata": {},
   "outputs": [
    {
     "data": {
      "text/plain": [
       "<matplotlib.collections.PathCollection at 0x7f0f845b8850>"
      ]
     },
     "execution_count": 14,
     "metadata": {},
     "output_type": "execute_result"
    },
    {
     "data": {
      "image/png": "[encoded data removed]",
      "text/plain": [
       "<Figure size 432x288 with 1 Axes>"
      ]
     },
     "metadata": {
      "needs_background": "light"
     },
     "output_type": "display_data"
    }
   ],
   "source": [
    "plt.scatter(time,flux,s=15)"
   ]
  },
  {
   "cell_type": "code",
   "execution_count": 15,
   "id": "525aeca9-4d5e-4722-a3b7-b5046697e514",
   "metadata": {},
   "outputs": [],
   "source": [
    "flux_err = lc['PDCSAP_FLUX_ERR']\n",
    "flux_err = flux_err/flux_err.mean()"
   ]
  },
  {
   "cell_type": "code",
   "execution_count": null,
   "id": "24154758-0259-4f1f-be24-2c3dd4e36e51",
   "metadata": {},
   "outputs": [],
   "source": []
  },
  {
   "cell_type": "code",
   "execution_count": 16,
   "id": "9d7cda31-1c4f-4513-a731-d3a290cedf88",
   "metadata": {},
   "outputs": [
    {
     "name": "stdout",
     "output_type": "stream",
     "text": [
      "1486.3873952988386\n"
     ]
    }
   ],
   "source": [
    "params, cov = skewed_gaussian_curve_fit2(time,-flux,flux_err)\n",
    "params2, cov2 = single_gaussian_curve_fit(time,-flux)"
   ]
  },
  {
   "cell_type": "code",
   "execution_count": 17,
   "id": "003aaef8-50c6-4219-94f6-861f7c8461fc",
   "metadata": {},
   "outputs": [
    {
     "data": {
      "text/plain": [
       "array([8.53890383e-04, 1.48615678e+03, 3.09692067e-01, 1.33769380e+00])"
      ]
     },
     "execution_count": 17,
     "metadata": {},
     "output_type": "execute_result"
    }
   ],
   "source": [
    "params"
   ]
  },
  {
   "cell_type": "code",
   "execution_count": 18,
   "id": "fbc075d5-7382-4a5d-9046-19d40ade4e59",
   "metadata": {},
   "outputs": [],
   "source": [
    "fit = -skewed_gaussian2(time,*params)\n",
    "fit2= -gauss(time,*params2)"
   ]
  },
  {
   "cell_type": "code",
   "execution_count": 19,
   "id": "84a4a58d-3448-494c-9c7d-313c22fb27eb",
   "metadata": {},
   "outputs": [
    {
     "data": {
      "text/plain": [
       "[<matplotlib.lines.Line2D at 0x7f0f800d0050>]"
      ]
     },
     "execution_count": 19,
     "metadata": {},
     "output_type": "execute_result"
    },
    {
     "data": {
      "image/png": "[encoded data removed]",
      "text/plain": [
       "<Figure size 432x288 with 1 Axes>"
      ]
     },
     "metadata": {
      "needs_background": "light"
     },
     "output_type": "display_data"
    }
   ],
   "source": [
    "plt.plot(time,flux)\n",
    "plt.plot(time,fit)\n",
    "plt.plot(time,fit2,c='black')"
   ]
  },
  {
   "cell_type": "code",
   "execution_count": 20,
   "id": "0c8e67ea-3e61-4e6e-beb0-d90f15dc2c7f",
   "metadata": {},
   "outputs": [],
   "source": [
    "import stats_calcs"
   ]
  },
  {
   "cell_type": "code",
   "execution_count": 21,
   "id": "0b87c82b-4fc5-4fb8-96b7-3ee6780ed255",
   "metadata": {},
   "outputs": [
    {
     "data": {
      "text/plain": [
       "1.7241865244954345e-05"
      ]
     },
     "execution_count": 21,
     "metadata": {},
     "output_type": "execute_result"
    }
   ],
   "source": [
    "stats_calcs.chisquare(flux, fit, flux_err)"
   ]
  },
  {
   "cell_type": "markdown",
   "id": "62f2d095-9a50-474d-85b3-0ff1c7e1b7cb",
   "metadata": {},
   "source": [
    "---\n",
    "## Test on full lightcurve"
   ]
  },
  {
   "cell_type": "code",
   "execution_count": 22,
   "id": "c4800d26-8abf-4478-b4bb-6953d4b53e00",
   "metadata": {},
   "outputs": [],
   "source": [
    "lc2, lc_info2 = import_lightcurve('../betapic/hlsp_tess-spoc_tess_phot_0000000270577175-s0006_tess_v1_lc.fits')"
   ]
  },
  {
   "cell_type": "code",
   "execution_count": 23,
   "id": "7e061321-fa2d-4c2f-a354-5266e08f029b",
   "metadata": {},
   "outputs": [
    {
     "ename": "TypeError",
     "evalue": "'int' object is not subscriptable",
     "output_type": "error",
     "traceback": [
      "\u001b[0;31m---------------------------------------------------------------------------\u001b[0m",
      "\u001b[0;31mTypeError\u001b[0m                                 Traceback (most recent call last)",
      "\u001b[0;32m<ipython-input-23-ee93844bee41>\u001b[0m in \u001b[0;36m<module>\u001b[0;34m\u001b[0m\n\u001b[0;32m----> 1\u001b[0;31m \u001b[0mresults\u001b[0m\u001b[0;34m,\u001b[0m \u001b[0m_\u001b[0m \u001b[0;34m=\u001b[0m \u001b[0mprocessing\u001b[0m\u001b[0;34m(\u001b[0m\u001b[0mlc2\u001b[0m\u001b[0;34m,\u001b[0m\u001b[0mlc_info\u001b[0m\u001b[0;34m=\u001b[0m\u001b[0mlc_info2\u001b[0m\u001b[0;34m,\u001b[0m \u001b[0mmethod\u001b[0m\u001b[0;34m=\u001b[0m\u001b[0;34m'median'\u001b[0m\u001b[0;34m,\u001b[0m \u001b[0mmake_plots\u001b[0m\u001b[0;34m=\u001b[0m\u001b[0;32mTrue\u001b[0m\u001b[0;34m)\u001b[0m\u001b[0;34m\u001b[0m\u001b[0;34m\u001b[0m\u001b[0m\n\u001b[0m",
      "\u001b[0;32mscripts/analysis_tools_cython.pyx\u001b[0m in \u001b[0;36mscripts.analysis_tools_cython.processing\u001b[0;34m()\u001b[0m\n",
      "\u001b[0;31mTypeError\u001b[0m: 'int' object is not subscriptable"
     ]
    }
   ],
   "source": [
    "results, _ = processing(lc2,lc_info=lc_info2, method='median', make_plots=True)"
   ]
  }
 ],
 "metadata": {
  "kernelspec": {
   "display_name": "auto_exo_lite",
   "language": "python",
   "name": "auto_exo_lite"
  },
  "language_info": {
   "codemirror_mode": {
    "name": "ipython",
    "version": 3
   },
   "file_extension": ".py",
   "mimetype": "text/x-python",
   "name": "python",
   "nbconvert_exporter": "python",
   "pygments_lexer": "ipython3",
   "version": "3.7.13"
  }
 },
 "nbformat": 4,
 "nbformat_minor": 5
}
