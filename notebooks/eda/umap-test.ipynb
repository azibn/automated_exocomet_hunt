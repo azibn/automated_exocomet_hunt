{
 "cells": [
  {
   "cell_type": "markdown",
   "id": "e89f0856-b306-4075-aa0a-aad9ea168be5",
   "metadata": {},
   "source": [
    "# Clustering with UMAP \n",
    "\n",
    "This is an initial test notebook to cluster transit candidates using the Uniform Manifold Approximation and Projection ([UMAP](https://arxiv.org/pdf/1802.03426.pdf)) technique. \n",
    "- Reading in our output data\n",
    "- Cross-referencing any "
   ]
  },
  {
   "cell_type": "markdown",
   "id": "2684fe3c-ee41-4c0b-b631-7f8f57873501",
   "metadata": {},
   "source": [
    "## Importing libraries"
   ]
  },
  {
   "cell_type": "code",
   "execution_count": 1,
   "id": "270539d3-5614-490c-9e8e-bc1bfa43a81b",
   "metadata": {},
   "outputs": [],
   "source": [
    "import os\n",
    "import numpy as np\n",
    "import matplotlib.pyplot as plt\n",
    "import seaborn as sns\n",
    "import pandas as pd\n",
    "import umap\n",
    "\n",
    "os.chdir(\"../../scripts\")\n",
    "from analysis_tools_cython import *\n",
    "#from scripts.post_processing import *\n",
    "from sklearn.datasets import load_digits\n",
    "from sklearn.model_selection import train_test_split\n",
    "from sklearn.preprocessing import StandardScaler\n",
    "\n",
    "%matplotlib inline\n",
    "SEED = 42"
   ]
  },
  {
   "cell_type": "markdown",
   "id": "41ca8d35-7f5a-4c01-8881-a5187ac656ac",
   "metadata": {},
   "source": [
    "## Importing files\n",
    "\n",
    "We'll be importing the output data from the search, but also the current catalog of Eclipsing Binaries (EBs). \n",
    "- Where EBs will lie on this projection might give as a better picture of other candidates with similar properties, and help in clustering out false-positive transits."
   ]
  },
  {
   "cell_type": "code",
   "execution_count": 2,
   "id": "1a15a5ef-afe8-40f5-807e-99c8e90d0242",
   "metadata": {},
   "outputs": [
    {
     "ename": "FileNotFoundError",
     "evalue": "[Errno 2] No such file or directory: 'test.csv'",
     "output_type": "error",
     "traceback": [
      "\u001b[0;31m--------------------------------------------------------------------\u001b[0m",
      "\u001b[0;31mFileNotFoundError\u001b[0m                  Traceback (most recent call last)",
      "\u001b[0;32m<ipython-input-2-70f4457d5da7>\u001b[0m in \u001b[0;36m<module>\u001b[0;34m\u001b[0m\n\u001b[0;32m----> 1\u001b[0;31m \u001b[0mdata\u001b[0m \u001b[0;34m=\u001b[0m \u001b[0mpd\u001b[0m\u001b[0;34m.\u001b[0m\u001b[0mread_csv\u001b[0m\u001b[0;34m(\u001b[0m\u001b[0;34m'test.csv'\u001b[0m\u001b[0;34m)\u001b[0m\u001b[0;34m\u001b[0m\u001b[0;34m\u001b[0m\u001b[0m\n\u001b[0m\u001b[1;32m      2\u001b[0m \u001b[0;34m\u001b[0m\u001b[0m\n\u001b[1;32m      3\u001b[0m \u001b[0;31m# data = get_output(\"output_log/test_s6.txt\")\u001b[0m\u001b[0;34m\u001b[0m\u001b[0;34m\u001b[0m\u001b[0;34m\u001b[0m\u001b[0m\n\u001b[1;32m      4\u001b[0m \u001b[0;31m# metadata = get_metadata(\"lc_metadata/metadata_sector_6.txt\")\u001b[0m\u001b[0;34m\u001b[0m\u001b[0;34m\u001b[0m\u001b[0;34m\u001b[0m\u001b[0m\n",
      "\u001b[0;32m~/micromamba/envs/auto_exo/lib/python3.7/site-packages/pandas/util/_decorators.py\u001b[0m in \u001b[0;36mwrapper\u001b[0;34m(*args, **kwargs)\u001b[0m\n\u001b[1;32m    309\u001b[0m                     \u001b[0mstacklevel\u001b[0m\u001b[0;34m=\u001b[0m\u001b[0mstacklevel\u001b[0m\u001b[0;34m,\u001b[0m\u001b[0;34m\u001b[0m\u001b[0;34m\u001b[0m\u001b[0m\n\u001b[1;32m    310\u001b[0m                 )\n\u001b[0;32m--> 311\u001b[0;31m             \u001b[0;32mreturn\u001b[0m \u001b[0mfunc\u001b[0m\u001b[0;34m(\u001b[0m\u001b[0;34m*\u001b[0m\u001b[0margs\u001b[0m\u001b[0;34m,\u001b[0m \u001b[0;34m**\u001b[0m\u001b[0mkwargs\u001b[0m\u001b[0;34m)\u001b[0m\u001b[0;34m\u001b[0m\u001b[0;34m\u001b[0m\u001b[0m\n\u001b[0m\u001b[1;32m    312\u001b[0m \u001b[0;34m\u001b[0m\u001b[0m\n\u001b[1;32m    313\u001b[0m         \u001b[0;32mreturn\u001b[0m \u001b[0mwrapper\u001b[0m\u001b[0;34m\u001b[0m\u001b[0;34m\u001b[0m\u001b[0m\n",
      "\u001b[0;32m~/micromamba/envs/auto_exo/lib/python3.7/site-packages/pandas/io/parsers/readers.py\u001b[0m in \u001b[0;36mread_csv\u001b[0;34m(filepath_or_buffer, sep, delimiter, header, names, index_col, usecols, squeeze, prefix, mangle_dupe_cols, dtype, engine, converters, true_values, false_values, skipinitialspace, skiprows, skipfooter, nrows, na_values, keep_default_na, na_filter, verbose, skip_blank_lines, parse_dates, infer_datetime_format, keep_date_col, date_parser, dayfirst, cache_dates, iterator, chunksize, compression, thousands, decimal, lineterminator, quotechar, quoting, doublequote, escapechar, comment, encoding, encoding_errors, dialect, error_bad_lines, warn_bad_lines, on_bad_lines, delim_whitespace, low_memory, memory_map, float_precision, storage_options)\u001b[0m\n\u001b[1;32m    584\u001b[0m     \u001b[0mkwds\u001b[0m\u001b[0;34m.\u001b[0m\u001b[0mupdate\u001b[0m\u001b[0;34m(\u001b[0m\u001b[0mkwds_defaults\u001b[0m\u001b[0;34m)\u001b[0m\u001b[0;34m\u001b[0m\u001b[0;34m\u001b[0m\u001b[0m\n\u001b[1;32m    585\u001b[0m \u001b[0;34m\u001b[0m\u001b[0m\n\u001b[0;32m--> 586\u001b[0;31m     \u001b[0;32mreturn\u001b[0m \u001b[0m_read\u001b[0m\u001b[0;34m(\u001b[0m\u001b[0mfilepath_or_buffer\u001b[0m\u001b[0;34m,\u001b[0m \u001b[0mkwds\u001b[0m\u001b[0;34m)\u001b[0m\u001b[0;34m\u001b[0m\u001b[0;34m\u001b[0m\u001b[0m\n\u001b[0m\u001b[1;32m    587\u001b[0m \u001b[0;34m\u001b[0m\u001b[0m\n\u001b[1;32m    588\u001b[0m \u001b[0;34m\u001b[0m\u001b[0m\n",
      "\u001b[0;32m~/micromamba/envs/auto_exo/lib/python3.7/site-packages/pandas/io/parsers/readers.py\u001b[0m in \u001b[0;36m_read\u001b[0;34m(filepath_or_buffer, kwds)\u001b[0m\n\u001b[1;32m    480\u001b[0m \u001b[0;34m\u001b[0m\u001b[0m\n\u001b[1;32m    481\u001b[0m     \u001b[0;31m# Create the parser.\u001b[0m\u001b[0;34m\u001b[0m\u001b[0;34m\u001b[0m\u001b[0;34m\u001b[0m\u001b[0m\n\u001b[0;32m--> 482\u001b[0;31m     \u001b[0mparser\u001b[0m \u001b[0;34m=\u001b[0m \u001b[0mTextFileReader\u001b[0m\u001b[0;34m(\u001b[0m\u001b[0mfilepath_or_buffer\u001b[0m\u001b[0;34m,\u001b[0m \u001b[0;34m**\u001b[0m\u001b[0mkwds\u001b[0m\u001b[0;34m)\u001b[0m\u001b[0;34m\u001b[0m\u001b[0;34m\u001b[0m\u001b[0m\n\u001b[0m\u001b[1;32m    483\u001b[0m \u001b[0;34m\u001b[0m\u001b[0m\n\u001b[1;32m    484\u001b[0m     \u001b[0;32mif\u001b[0m \u001b[0mchunksize\u001b[0m \u001b[0;32mor\u001b[0m \u001b[0miterator\u001b[0m\u001b[0;34m:\u001b[0m\u001b[0;34m\u001b[0m\u001b[0;34m\u001b[0m\u001b[0m\n",
      "\u001b[0;32m~/micromamba/envs/auto_exo/lib/python3.7/site-packages/pandas/io/parsers/readers.py\u001b[0m in \u001b[0;36m__init__\u001b[0;34m(self, f, engine, **kwds)\u001b[0m\n\u001b[1;32m    809\u001b[0m             \u001b[0mself\u001b[0m\u001b[0;34m.\u001b[0m\u001b[0moptions\u001b[0m\u001b[0;34m[\u001b[0m\u001b[0;34m\"has_index_names\"\u001b[0m\u001b[0;34m]\u001b[0m \u001b[0;34m=\u001b[0m \u001b[0mkwds\u001b[0m\u001b[0;34m[\u001b[0m\u001b[0;34m\"has_index_names\"\u001b[0m\u001b[0;34m]\u001b[0m\u001b[0;34m\u001b[0m\u001b[0;34m\u001b[0m\u001b[0m\n\u001b[1;32m    810\u001b[0m \u001b[0;34m\u001b[0m\u001b[0m\n\u001b[0;32m--> 811\u001b[0;31m         \u001b[0mself\u001b[0m\u001b[0;34m.\u001b[0m\u001b[0m_engine\u001b[0m \u001b[0;34m=\u001b[0m \u001b[0mself\u001b[0m\u001b[0;34m.\u001b[0m\u001b[0m_make_engine\u001b[0m\u001b[0;34m(\u001b[0m\u001b[0mself\u001b[0m\u001b[0;34m.\u001b[0m\u001b[0mengine\u001b[0m\u001b[0;34m)\u001b[0m\u001b[0;34m\u001b[0m\u001b[0;34m\u001b[0m\u001b[0m\n\u001b[0m\u001b[1;32m    812\u001b[0m \u001b[0;34m\u001b[0m\u001b[0m\n\u001b[1;32m    813\u001b[0m     \u001b[0;32mdef\u001b[0m \u001b[0mclose\u001b[0m\u001b[0;34m(\u001b[0m\u001b[0mself\u001b[0m\u001b[0;34m)\u001b[0m\u001b[0;34m:\u001b[0m\u001b[0;34m\u001b[0m\u001b[0;34m\u001b[0m\u001b[0m\n",
      "\u001b[0;32m~/micromamba/envs/auto_exo/lib/python3.7/site-packages/pandas/io/parsers/readers.py\u001b[0m in \u001b[0;36m_make_engine\u001b[0;34m(self, engine)\u001b[0m\n\u001b[1;32m   1038\u001b[0m             )\n\u001b[1;32m   1039\u001b[0m         \u001b[0;31m# error: Too many arguments for \"ParserBase\"\u001b[0m\u001b[0;34m\u001b[0m\u001b[0;34m\u001b[0m\u001b[0;34m\u001b[0m\u001b[0m\n\u001b[0;32m-> 1040\u001b[0;31m         \u001b[0;32mreturn\u001b[0m \u001b[0mmapping\u001b[0m\u001b[0;34m[\u001b[0m\u001b[0mengine\u001b[0m\u001b[0;34m]\u001b[0m\u001b[0;34m(\u001b[0m\u001b[0mself\u001b[0m\u001b[0;34m.\u001b[0m\u001b[0mf\u001b[0m\u001b[0;34m,\u001b[0m \u001b[0;34m**\u001b[0m\u001b[0mself\u001b[0m\u001b[0;34m.\u001b[0m\u001b[0moptions\u001b[0m\u001b[0;34m)\u001b[0m  \u001b[0;31m# type: ignore[call-arg]\u001b[0m\u001b[0;34m\u001b[0m\u001b[0;34m\u001b[0m\u001b[0m\n\u001b[0m\u001b[1;32m   1041\u001b[0m \u001b[0;34m\u001b[0m\u001b[0m\n\u001b[1;32m   1042\u001b[0m     \u001b[0;32mdef\u001b[0m \u001b[0m_failover_to_python\u001b[0m\u001b[0;34m(\u001b[0m\u001b[0mself\u001b[0m\u001b[0;34m)\u001b[0m\u001b[0;34m:\u001b[0m\u001b[0;34m\u001b[0m\u001b[0;34m\u001b[0m\u001b[0m\n",
      "\u001b[0;32m~/micromamba/envs/auto_exo/lib/python3.7/site-packages/pandas/io/parsers/c_parser_wrapper.py\u001b[0m in \u001b[0;36m__init__\u001b[0;34m(self, src, **kwds)\u001b[0m\n\u001b[1;32m     49\u001b[0m \u001b[0;34m\u001b[0m\u001b[0m\n\u001b[1;32m     50\u001b[0m         \u001b[0;31m# open handles\u001b[0m\u001b[0;34m\u001b[0m\u001b[0;34m\u001b[0m\u001b[0;34m\u001b[0m\u001b[0m\n\u001b[0;32m---> 51\u001b[0;31m         \u001b[0mself\u001b[0m\u001b[0;34m.\u001b[0m\u001b[0m_open_handles\u001b[0m\u001b[0;34m(\u001b[0m\u001b[0msrc\u001b[0m\u001b[0;34m,\u001b[0m \u001b[0mkwds\u001b[0m\u001b[0;34m)\u001b[0m\u001b[0;34m\u001b[0m\u001b[0;34m\u001b[0m\u001b[0m\n\u001b[0m\u001b[1;32m     52\u001b[0m         \u001b[0;32massert\u001b[0m \u001b[0mself\u001b[0m\u001b[0;34m.\u001b[0m\u001b[0mhandles\u001b[0m \u001b[0;32mis\u001b[0m \u001b[0;32mnot\u001b[0m \u001b[0;32mNone\u001b[0m\u001b[0;34m\u001b[0m\u001b[0;34m\u001b[0m\u001b[0m\n\u001b[1;32m     53\u001b[0m \u001b[0;34m\u001b[0m\u001b[0m\n",
      "\u001b[0;32m~/micromamba/envs/auto_exo/lib/python3.7/site-packages/pandas/io/parsers/base_parser.py\u001b[0m in \u001b[0;36m_open_handles\u001b[0;34m(self, src, kwds)\u001b[0m\n\u001b[1;32m    227\u001b[0m             \u001b[0mmemory_map\u001b[0m\u001b[0;34m=\u001b[0m\u001b[0mkwds\u001b[0m\u001b[0;34m.\u001b[0m\u001b[0mget\u001b[0m\u001b[0;34m(\u001b[0m\u001b[0;34m\"memory_map\"\u001b[0m\u001b[0;34m,\u001b[0m \u001b[0;32mFalse\u001b[0m\u001b[0;34m)\u001b[0m\u001b[0;34m,\u001b[0m\u001b[0;34m\u001b[0m\u001b[0;34m\u001b[0m\u001b[0m\n\u001b[1;32m    228\u001b[0m             \u001b[0mstorage_options\u001b[0m\u001b[0;34m=\u001b[0m\u001b[0mkwds\u001b[0m\u001b[0;34m.\u001b[0m\u001b[0mget\u001b[0m\u001b[0;34m(\u001b[0m\u001b[0;34m\"storage_options\"\u001b[0m\u001b[0;34m,\u001b[0m \u001b[0;32mNone\u001b[0m\u001b[0;34m)\u001b[0m\u001b[0;34m,\u001b[0m\u001b[0;34m\u001b[0m\u001b[0;34m\u001b[0m\u001b[0m\n\u001b[0;32m--> 229\u001b[0;31m             \u001b[0merrors\u001b[0m\u001b[0;34m=\u001b[0m\u001b[0mkwds\u001b[0m\u001b[0;34m.\u001b[0m\u001b[0mget\u001b[0m\u001b[0;34m(\u001b[0m\u001b[0;34m\"encoding_errors\"\u001b[0m\u001b[0;34m,\u001b[0m \u001b[0;34m\"strict\"\u001b[0m\u001b[0;34m)\u001b[0m\u001b[0;34m,\u001b[0m\u001b[0;34m\u001b[0m\u001b[0;34m\u001b[0m\u001b[0m\n\u001b[0m\u001b[1;32m    230\u001b[0m         )\n\u001b[1;32m    231\u001b[0m \u001b[0;34m\u001b[0m\u001b[0m\n",
      "\u001b[0;32m~/micromamba/envs/auto_exo/lib/python3.7/site-packages/pandas/io/common.py\u001b[0m in \u001b[0;36mget_handle\u001b[0;34m(path_or_buf, mode, encoding, compression, memory_map, is_text, errors, storage_options)\u001b[0m\n\u001b[1;32m    705\u001b[0m                 \u001b[0mencoding\u001b[0m\u001b[0;34m=\u001b[0m\u001b[0mioargs\u001b[0m\u001b[0;34m.\u001b[0m\u001b[0mencoding\u001b[0m\u001b[0;34m,\u001b[0m\u001b[0;34m\u001b[0m\u001b[0;34m\u001b[0m\u001b[0m\n\u001b[1;32m    706\u001b[0m                 \u001b[0merrors\u001b[0m\u001b[0;34m=\u001b[0m\u001b[0merrors\u001b[0m\u001b[0;34m,\u001b[0m\u001b[0;34m\u001b[0m\u001b[0;34m\u001b[0m\u001b[0m\n\u001b[0;32m--> 707\u001b[0;31m                 \u001b[0mnewline\u001b[0m\u001b[0;34m=\u001b[0m\u001b[0;34m\"\"\u001b[0m\u001b[0;34m,\u001b[0m\u001b[0;34m\u001b[0m\u001b[0;34m\u001b[0m\u001b[0m\n\u001b[0m\u001b[1;32m    708\u001b[0m             )\n\u001b[1;32m    709\u001b[0m         \u001b[0;32melse\u001b[0m\u001b[0;34m:\u001b[0m\u001b[0;34m\u001b[0m\u001b[0;34m\u001b[0m\u001b[0m\n",
      "\u001b[0;31mFileNotFoundError\u001b[0m: [Errno 2] No such file or directory: 'test.csv'"
     ]
    }
   ],
   "source": [
    "data = pd.read_csv('test.csv')\n",
    "\n",
    "# data = get_output(\"output_log/test_s6.txt\")\n",
    "# metadata = get_metadata(\"lc_metadata/metadata_sector_6.txt\")"
   ]
  },
  {
   "cell_type": "code",
   "execution_count": null,
   "id": "dd1544c0-769b-4601-b9a8-fda3c7a26b3d",
   "metadata": {},
   "outputs": [],
   "source": [
    "ebs_30min = pd.read_csv(\"catalogs/eb_cat.txt\")\n",
    "#toi_list = pd.read_csv(\"catalogs/csv-file-toi-catalog.csv\", skiprows=4)"
   ]
  },
  {
   "cell_type": "code",
   "execution_count": null,
   "id": "82d3ddbc-6401-47d8-addb-5d02b99bf4b3",
   "metadata": {},
   "outputs": [],
   "source": [
    "data.head()"
   ]
  },
  {
   "cell_type": "code",
   "execution_count": null,
   "id": "c598cc96-42f4-479a-802e-f8d76045428e",
   "metadata": {},
   "outputs": [],
   "source": [
    "data.drop_duplicates(inplace=True)"
   ]
  },
  {
   "cell_type": "code",
   "execution_count": null,
   "id": "af5699f5-7ae2-4605-b1e5-027b1ee5c54f",
   "metadata": {},
   "outputs": [],
   "source": [
    "ebs_in_data = data[(data[\"TIC_ID\"].isin(ebs_30min[\"ID\"]))]\n",
    "ebs_in_data"
   ]
  },
  {
   "cell_type": "code",
   "execution_count": null,
   "id": "f044baa0-99a3-4222-9d85-e8a2f334e11e",
   "metadata": {},
   "outputs": [],
   "source": [
    "tois_in_data = merged_df[(merged_df[\"ticid\"].isin(toi_list[\"TIC\"]))]"
   ]
  },
  {
   "cell_type": "markdown",
   "id": "988f75e0-1a05-433f-9b37-acbc45f8e97e",
   "metadata": {},
   "source": [
    "Add a column that identifies the known EB's in the data:"
   ]
  },
  {
   "cell_type": "code",
   "execution_count": null,
   "id": "a018387a-77e4-4204-b833-d6585257a55c",
   "metadata": {},
   "outputs": [],
   "source": [
    "data.loc[ebs_in_data.index, \"known_class\"] = \"eb\"\n",
    "#merged_df.loc[tois_in_data.index, \"known_class\"] = \"toi\"\n",
    "data[\"known_class\"].fillna(value=False, inplace=True)"
   ]
  },
  {
   "cell_type": "code",
   "execution_count": null,
   "id": "5797f958-8473-4eb4-bc09-3d2530fef81f",
   "metadata": {},
   "outputs": [],
   "source": [
    "interested_region = data[\n",
    "    (data.transit_prob == \"maybeTransit\")\n",
    "    & (data.snr <= -5)\n",
    "]"
   ]
  },
  {
   "cell_type": "code",
   "execution_count": null,
   "id": "1a9ee3f3-5569-4b92-9fcd-7bfbbbe156b7",
   "metadata": {},
   "outputs": [],
   "source": [
    "reducer = umap.UMAP(random_state=SEED)"
   ]
  },
  {
   "cell_type": "code",
   "execution_count": null,
   "id": "ceacffd8-7a08-4446-8e72-851b1b915f0f",
   "metadata": {},
   "outputs": [],
   "source": [
    "features = [\"snr\", \"asym_score\", \"time\", \"depth\", \"duration\"]\n",
    "# \"peak_lspower\", \"time\", \"mstat\""
   ]
  },
  {
   "cell_type": "code",
   "execution_count": null,
   "id": "6c171c42-5729-4724-9d89-e5bd8f9cc7b1",
   "metadata": {},
   "outputs": [],
   "source": [
    "new_data = interested_region[features]\n",
    "scaled_data = StandardScaler().fit_transform(new_data)"
   ]
  },
  {
   "cell_type": "markdown",
   "id": "c0200f81-63eb-4d17-bf38-72996cc0b543",
   "metadata": {},
   "source": [
    "Explore Lomb-Scargle features which might be a good feature for the clusters:\n",
    "- Peak power \n",
    "- Peak frequency..."
   ]
  },
  {
   "cell_type": "markdown",
   "id": "e2a081b0-7a31-48f0-8e1c-ac5b4d15aa7c",
   "metadata": {},
   "source": [
    "embedding: transform first, reduce after\n",
    "\n",
    "- eg: reducer = fit(data)\n",
    "- embedding = reducer.transform(data)"
   ]
  },
  {
   "cell_type": "code",
   "execution_count": null,
   "id": "62cfd387-506f-4fd8-88b4-9c938c29b027",
   "metadata": {},
   "outputs": [],
   "source": [
    "embedding = reducer.fit_transform(scaled_data)\n",
    "embedding.shape"
   ]
  },
  {
   "cell_type": "code",
   "execution_count": null,
   "id": "f10c8f50-edf3-4a57-a79b-44a6adc808ba",
   "metadata": {},
   "outputs": [],
   "source": [
    "plt.figure(figsize=(20, 10))\n",
    "plt.scatter(embedding[:, 0], embedding[:, 1], alpha=0.7)\n",
    "# c=[sns.color_palette()[x] for x in merged_df.known_class.map({\"toi\":0, \"eb\":1})])\n",
    "plt.gca().set_aspect(\"equal\", \"datalim\")\n",
    "plt.title(\"UMAP projection of the output data\", fontsize=18)\n",
    "plt.xlabel(\"latent space x\", fontsize=12)\n",
    "plt.ylabel(\"latent space y\", fontsize=12)"
   ]
  },
  {
   "cell_type": "markdown",
   "id": "19cc0a43-53e6-44eb-ad67-70d067286c89",
   "metadata": {},
   "source": [
    "distances on this latent space don't matter...\n",
    "- don't map directly back to the high-dimensional space.\n",
    "- find out what these spaces are!"
   ]
  },
  {
   "cell_type": "code",
   "execution_count": null,
   "id": "13be94de-bb0c-48d8-9a35-92320ac787ac",
   "metadata": {},
   "outputs": [],
   "source": [
    "new_data.shape"
   ]
  },
  {
   "cell_type": "code",
   "execution_count": null,
   "id": "7514bc08-0bbc-486a-92af-506da9e16b05",
   "metadata": {},
   "outputs": [],
   "source": [
    "embedding.shape"
   ]
  },
  {
   "cell_type": "code",
   "execution_count": null,
   "id": "1335400d-50e4-40c0-af2f-5afc17fe5122",
   "metadata": {},
   "outputs": [],
   "source": [
    "new_data[\"embedding_x\"] = embedding[:, 0]\n",
    "new_data[\"embedding_y\"] = embedding[:, 1]"
   ]
  },
  {
   "cell_type": "code",
   "execution_count": null,
   "id": "083257ae-77a2-4436-8251-16a4f6cb5b23",
   "metadata": {},
   "outputs": [],
   "source": [
    "new_data"
   ]
  },
  {
   "cell_type": "markdown",
   "id": "57060573-214a-4e02-9490-1b496fbdf3cb",
   "metadata": {},
   "source": [
    "### Example: Recovering the false-positives\n",
    "Let's take 80 of the closest neighbouring points according to `(0,-6)` coordinates on the UMAP projection."
   ]
  },
  {
   "cell_type": "code",
   "execution_count": null,
   "id": "49939c47-c605-4e86-af60-707f7de6163f",
   "metadata": {},
   "outputs": [],
   "source": [
    "distances = np.linalg.norm(embedding - np.array([0, -5]), axis=1)\n",
    "new_data[\"dist\"] = distances\n",
    "closest = new_data.iloc[np.argsort(distances)[:80]]"
   ]
  },
  {
   "cell_type": "code",
   "execution_count": null,
   "id": "e31befda-7b4f-4159-97e5-09fdf8a4c635",
   "metadata": {},
   "outputs": [],
   "source": [
    "closest"
   ]
  },
  {
   "cell_type": "code",
   "execution_count": null,
   "id": "cb42a5d1-8585-48ca-9eb5-b8ff2d31f4ce",
   "metadata": {},
   "outputs": [],
   "source": [
    "files = data.loc[data.index & closest.index].abs_path\n",
    "#path = \"/storage/astro2/phrdhx/tesslcs/lc_arraydata/sector_6/\"\n",
    "#path2 = \"/storage/astro2/phrdhx/tesslcs/tesslcs_sector_6_104/\""
   ]
  },
  {
   "cell_type": "code",
   "execution_count": null,
   "id": "8bad3099-8057-4974-8466-d3612aabcae6",
   "metadata": {},
   "outputs": [],
   "source": [
    "files.head(2).values"
   ]
  },
  {
   "cell_type": "code",
   "execution_count": 44,
   "id": "ccfb80f0-30e3-421b-a3bc-5a9d5f2f948a",
   "metadata": {},
   "outputs": [
    {
     "ename": "NameError",
     "evalue": "name 'import_lightcurve' is not defined",
     "output_type": "error",
     "traceback": [
      "\u001b[0;31m--------------------------------------------------------------------\u001b[0m",
      "\u001b[0;31mNameError\u001b[0m                          Traceback (most recent call last)",
      "\u001b[0;32m<ipython-input-44-6c5fc0fab3eb>\u001b[0m in \u001b[0;36m<module>\u001b[0;34m\u001b[0m\n\u001b[1;32m      1\u001b[0m \u001b[0;32mfor\u001b[0m \u001b[0mi\u001b[0m \u001b[0;32min\u001b[0m \u001b[0mfiles\u001b[0m\u001b[0;34m:\u001b[0m\u001b[0;34m\u001b[0m\u001b[0;34m\u001b[0m\u001b[0m\n\u001b[1;32m      2\u001b[0m     \u001b[0mplt\u001b[0m\u001b[0;34m.\u001b[0m\u001b[0mfigure\u001b[0m\u001b[0;34m(\u001b[0m\u001b[0mfigsize\u001b[0m\u001b[0;34m=\u001b[0m\u001b[0;34m(\u001b[0m\u001b[0;36m10\u001b[0m\u001b[0;34m,\u001b[0m \u001b[0;36m4\u001b[0m\u001b[0;34m)\u001b[0m\u001b[0;34m)\u001b[0m\u001b[0;34m\u001b[0m\u001b[0;34m\u001b[0m\u001b[0m\n\u001b[0;32m----> 3\u001b[0;31m     \u001b[0mlc\u001b[0m\u001b[0;34m,\u001b[0m \u001b[0mlc_info\u001b[0m \u001b[0;34m=\u001b[0m \u001b[0mimport_lightcurve\u001b[0m\u001b[0;34m(\u001b[0m\u001b[0mi\u001b[0m\u001b[0;34m)\u001b[0m\u001b[0;34m\u001b[0m\u001b[0;34m\u001b[0m\u001b[0m\n\u001b[0m\u001b[1;32m      4\u001b[0m     \u001b[0mplt\u001b[0m\u001b[0;34m.\u001b[0m\u001b[0mscatter\u001b[0m\u001b[0;34m(\u001b[0m\u001b[0mlc_data\u001b[0m\u001b[0;34m.\u001b[0m\u001b[0mtime\u001b[0m\u001b[0;34m,\u001b[0m \u001b[0mlc_data\u001b[0m\u001b[0;34m[\u001b[0m\u001b[0;34m\"CORR_FLUX\"\u001b[0m\u001b[0;34m]\u001b[0m\u001b[0;34m,\u001b[0m \u001b[0ms\u001b[0m\u001b[0;34m=\u001b[0m\u001b[0;36m10\u001b[0m\u001b[0;34m)\u001b[0m\u001b[0;34m\u001b[0m\u001b[0;34m\u001b[0m\u001b[0m\n\u001b[1;32m      5\u001b[0m     \u001b[0mplt\u001b[0m\u001b[0;34m.\u001b[0m\u001b[0mtitle\u001b[0m\u001b[0;34m(\u001b[0m\u001b[0;34mf\"TIC {lc_info[0]}\"\u001b[0m\u001b[0;34m)\u001b[0m\u001b[0;34m\u001b[0m\u001b[0;34m\u001b[0m\u001b[0m\n",
      "\u001b[0;31mNameError\u001b[0m: name 'import_lightcurve' is not defined"
     ]
    },
    {
     "data": {
      "text/plain": [
       "<Figure size 720x288 with 0 Axes>"
      ]
     },
     "metadata": {},
     "output_type": "display_data"
    }
   ],
   "source": [
    "for i in files:\n",
    "    plt.figure(figsize=(10, 4))\n",
    "    lc, lc_info = import_lightcurve(i)\n",
    "    plt.scatter(lc_data['TIME'], lc_data[\"CORR_FLUX\"], s=10)\n",
    "    plt.title(f\"TIC {lc_info[0]}\")\n",
    "    plt.show()"
   ]
  },
  {
   "cell_type": "code",
   "execution_count": 207,
   "id": "4b58ac21-0577-48b8-9aa4-bdb28b75764e",
   "metadata": {},
   "outputs": [
    {
     "data": {
      "text/html": [
       "<div>\n",
       "<style scoped>\n",
       "    .dataframe tbody tr th:only-of-type {\n",
       "        vertical-align: middle;\n",
       "    }\n",
       "\n",
       "    .dataframe tbody tr th {\n",
       "        vertical-align: top;\n",
       "    }\n",
       "\n",
       "    .dataframe thead th {\n",
       "        text-align: right;\n",
       "    }\n",
       "</style>\n",
       "<table border=\"1\" class=\"dataframe\">\n",
       "  <thead>\n",
       "    <tr style=\"text-align: right;\">\n",
       "      <th></th>\n",
       "      <th>file</th>\n",
       "      <th>ticid</th>\n",
       "      <th>ra</th>\n",
       "      <th>dec</th>\n",
       "      <th>magnitude</th>\n",
       "      <th>camera</th>\n",
       "      <th>chip</th>\n",
       "      <th>sector</th>\n",
       "      <th>signal</th>\n",
       "      <th>snr</th>\n",
       "      <th>...</th>\n",
       "      <th>width2</th>\n",
       "      <th>duration</th>\n",
       "      <th>depth</th>\n",
       "      <th>peak_lspower</th>\n",
       "      <th>mstat</th>\n",
       "      <th>transit_prob</th>\n",
       "      <th>ID</th>\n",
       "      <th>mstat_xrp</th>\n",
       "      <th>astat</th>\n",
       "      <th>known_class</th>\n",
       "    </tr>\n",
       "  </thead>\n",
       "  <tbody>\n",
       "    <tr>\n",
       "      <th>154</th>\n",
       "      <td>tesslc_97801854.pkl</td>\n",
       "      <td>97801854</td>\n",
       "      <td>90.359076</td>\n",
       "      <td>16.797994</td>\n",
       "      <td>14.1944</td>\n",
       "      <td>1</td>\n",
       "      <td>4</td>\n",
       "      <td>6</td>\n",
       "      <td>-22.933559</td>\n",
       "      <td>-8.207642</td>\n",
       "      <td>...</td>\n",
       "      <td>0.109361</td>\n",
       "      <td>0.374996</td>\n",
       "      <td>-0.032587</td>\n",
       "      <td>0.036833</td>\n",
       "      <td>0.528</td>\n",
       "      <td>maybeTransit</td>\n",
       "      <td>97801854</td>\n",
       "      <td>-0.039</td>\n",
       "      <td>0.076041</td>\n",
       "      <td>False</td>\n",
       "    </tr>\n",
       "    <tr>\n",
       "      <th>208</th>\n",
       "      <td>tesslc_350582006.pkl</td>\n",
       "      <td>350582006</td>\n",
       "      <td>87.055791</td>\n",
       "      <td>-57.391417</td>\n",
       "      <td>14.4372</td>\n",
       "      <td>4</td>\n",
       "      <td>2</td>\n",
       "      <td>6</td>\n",
       "      <td>-5.783428</td>\n",
       "      <td>-5.565657</td>\n",
       "      <td>...</td>\n",
       "      <td>0.000191</td>\n",
       "      <td>0.145833</td>\n",
       "      <td>-0.006334</td>\n",
       "      <td>0.014520</td>\n",
       "      <td>0.061</td>\n",
       "      <td>maybeTransit</td>\n",
       "      <td>350582006</td>\n",
       "      <td>0.251</td>\n",
       "      <td>0.043778</td>\n",
       "      <td>False</td>\n",
       "    </tr>\n",
       "    <tr>\n",
       "      <th>900</th>\n",
       "      <td>tesslc_294784620.pkl</td>\n",
       "      <td>294784620</td>\n",
       "      <td>71.354497</td>\n",
       "      <td>-71.092564</td>\n",
       "      <td>14.3273</td>\n",
       "      <td>4</td>\n",
       "      <td>3</td>\n",
       "      <td>6</td>\n",
       "      <td>-7.333348</td>\n",
       "      <td>-5.953144</td>\n",
       "      <td>...</td>\n",
       "      <td>0.005732</td>\n",
       "      <td>0.374996</td>\n",
       "      <td>-0.004865</td>\n",
       "      <td>0.020404</td>\n",
       "      <td>0.038</td>\n",
       "      <td>maybeTransit</td>\n",
       "      <td>294784620</td>\n",
       "      <td>0.278</td>\n",
       "      <td>0.235063</td>\n",
       "      <td>False</td>\n",
       "    </tr>\n",
       "    <tr>\n",
       "      <th>950</th>\n",
       "      <td>tesslc_24722209.pkl</td>\n",
       "      <td>24722209</td>\n",
       "      <td>81.484835</td>\n",
       "      <td>-5.991577</td>\n",
       "      <td>5.8311</td>\n",
       "      <td>1</td>\n",
       "      <td>1</td>\n",
       "      <td>6</td>\n",
       "      <td>-7.673912</td>\n",
       "      <td>-5.386740</td>\n",
       "      <td>...</td>\n",
       "      <td>0.070428</td>\n",
       "      <td>0.083331</td>\n",
       "      <td>-0.000922</td>\n",
       "      <td>0.091683</td>\n",
       "      <td>-0.077</td>\n",
       "      <td>maybeTransit</td>\n",
       "      <td>24722209</td>\n",
       "      <td>-0.135</td>\n",
       "      <td>0.350441</td>\n",
       "      <td>False</td>\n",
       "    </tr>\n",
       "    <tr>\n",
       "      <th>985</th>\n",
       "      <td>tesslc_156195744.pkl</td>\n",
       "      <td>156195744</td>\n",
       "      <td>86.387879</td>\n",
       "      <td>10.005836</td>\n",
       "      <td>14.2071</td>\n",
       "      <td>1</td>\n",
       "      <td>4</td>\n",
       "      <td>6</td>\n",
       "      <td>-11.120042</td>\n",
       "      <td>-6.210929</td>\n",
       "      <td>...</td>\n",
       "      <td>0.304273</td>\n",
       "      <td>0.583323</td>\n",
       "      <td>-0.010650</td>\n",
       "      <td>0.019098</td>\n",
       "      <td>0.151</td>\n",
       "      <td>maybeTransit</td>\n",
       "      <td>156195744</td>\n",
       "      <td>-0.483</td>\n",
       "      <td>0.043086</td>\n",
       "      <td>False</td>\n",
       "    </tr>\n",
       "    <tr>\n",
       "      <th>...</th>\n",
       "      <td>...</td>\n",
       "      <td>...</td>\n",
       "      <td>...</td>\n",
       "      <td>...</td>\n",
       "      <td>...</td>\n",
       "      <td>...</td>\n",
       "      <td>...</td>\n",
       "      <td>...</td>\n",
       "      <td>...</td>\n",
       "      <td>...</td>\n",
       "      <td>...</td>\n",
       "      <td>...</td>\n",
       "      <td>...</td>\n",
       "      <td>...</td>\n",
       "      <td>...</td>\n",
       "      <td>...</td>\n",
       "      <td>...</td>\n",
       "      <td>...</td>\n",
       "      <td>...</td>\n",
       "      <td>...</td>\n",
       "      <td>...</td>\n",
       "    </tr>\n",
       "    <tr>\n",
       "      <th>2778599</th>\n",
       "      <td>tesslc_264460005.pkl</td>\n",
       "      <td>264460005</td>\n",
       "      <td>81.166478</td>\n",
       "      <td>1.757429</td>\n",
       "      <td>12.9876</td>\n",
       "      <td>1</td>\n",
       "      <td>1</td>\n",
       "      <td>6</td>\n",
       "      <td>-9.506305</td>\n",
       "      <td>-5.663818</td>\n",
       "      <td>...</td>\n",
       "      <td>0.017130</td>\n",
       "      <td>0.145830</td>\n",
       "      <td>-0.005932</td>\n",
       "      <td>0.097537</td>\n",
       "      <td>0.208</td>\n",
       "      <td>maybeTransit</td>\n",
       "      <td>264460005</td>\n",
       "      <td>0.191</td>\n",
       "      <td>0.267623</td>\n",
       "      <td>toi</td>\n",
       "    </tr>\n",
       "    <tr>\n",
       "      <th>2778948</th>\n",
       "      <td>tesslc_365779508.pkl</td>\n",
       "      <td>365779508</td>\n",
       "      <td>81.923894</td>\n",
       "      <td>9.822392</td>\n",
       "      <td>12.5437</td>\n",
       "      <td>1</td>\n",
       "      <td>4</td>\n",
       "      <td>6</td>\n",
       "      <td>-20.773472</td>\n",
       "      <td>-8.844357</td>\n",
       "      <td>...</td>\n",
       "      <td>0.048287</td>\n",
       "      <td>0.312492</td>\n",
       "      <td>-0.009722</td>\n",
       "      <td>0.026547</td>\n",
       "      <td>0.410</td>\n",
       "      <td>maybeTransit</td>\n",
       "      <td>365779508</td>\n",
       "      <td>-0.068</td>\n",
       "      <td>0.121081</td>\n",
       "      <td>False</td>\n",
       "    </tr>\n",
       "    <tr>\n",
       "      <th>2778950</th>\n",
       "      <td>tesslc_144611697.pkl</td>\n",
       "      <td>144611697</td>\n",
       "      <td>84.547647</td>\n",
       "      <td>6.976661</td>\n",
       "      <td>12.8742</td>\n",
       "      <td>1</td>\n",
       "      <td>4</td>\n",
       "      <td>6</td>\n",
       "      <td>-23.387310</td>\n",
       "      <td>-12.668007</td>\n",
       "      <td>...</td>\n",
       "      <td>0.048334</td>\n",
       "      <td>0.124997</td>\n",
       "      <td>-0.027937</td>\n",
       "      <td>0.032187</td>\n",
       "      <td>0.530</td>\n",
       "      <td>maybeTransit</td>\n",
       "      <td>144611697</td>\n",
       "      <td>0.533</td>\n",
       "      <td>0.000000</td>\n",
       "      <td>False</td>\n",
       "    </tr>\n",
       "    <tr>\n",
       "      <th>2779201</th>\n",
       "      <td>tesslc_140604181.pkl</td>\n",
       "      <td>140604181</td>\n",
       "      <td>90.622212</td>\n",
       "      <td>8.237346</td>\n",
       "      <td>12.1715</td>\n",
       "      <td>1</td>\n",
       "      <td>4</td>\n",
       "      <td>6</td>\n",
       "      <td>-14.064232</td>\n",
       "      <td>-6.748508</td>\n",
       "      <td>...</td>\n",
       "      <td>0.142723</td>\n",
       "      <td>0.562494</td>\n",
       "      <td>-0.003855</td>\n",
       "      <td>0.053417</td>\n",
       "      <td>0.196</td>\n",
       "      <td>maybeTransit</td>\n",
       "      <td>140604181</td>\n",
       "      <td>-0.195</td>\n",
       "      <td>-0.017442</td>\n",
       "      <td>False</td>\n",
       "    </tr>\n",
       "    <tr>\n",
       "      <th>2779626</th>\n",
       "      <td>tesslc_264481150.pkl</td>\n",
       "      <td>264481150</td>\n",
       "      <td>81.460612</td>\n",
       "      <td>5.956002</td>\n",
       "      <td>6.7097</td>\n",
       "      <td>1</td>\n",
       "      <td>4</td>\n",
       "      <td>6</td>\n",
       "      <td>-24.764366</td>\n",
       "      <td>-13.088952</td>\n",
       "      <td>...</td>\n",
       "      <td>0.061527</td>\n",
       "      <td>0.124997</td>\n",
       "      <td>-0.027302</td>\n",
       "      <td>0.038219</td>\n",
       "      <td>0.494</td>\n",
       "      <td>maybeTransit</td>\n",
       "      <td>264481150</td>\n",
       "      <td>-0.070</td>\n",
       "      <td>0.241194</td>\n",
       "      <td>False</td>\n",
       "    </tr>\n",
       "  </tbody>\n",
       "</table>\n",
       "<p>14178 rows × 23 columns</p>\n",
       "</div>"
      ],
      "text/plain": [
       "                         file      ticid         ra        dec  magnitude  \\\n",
       "154       tesslc_97801854.pkl   97801854  90.359076  16.797994    14.1944   \n",
       "208      tesslc_350582006.pkl  350582006  87.055791 -57.391417    14.4372   \n",
       "900      tesslc_294784620.pkl  294784620  71.354497 -71.092564    14.3273   \n",
       "950       tesslc_24722209.pkl   24722209  81.484835  -5.991577     5.8311   \n",
       "985      tesslc_156195744.pkl  156195744  86.387879  10.005836    14.2071   \n",
       "...                       ...        ...        ...        ...        ...   \n",
       "2778599  tesslc_264460005.pkl  264460005  81.166478   1.757429    12.9876   \n",
       "2778948  tesslc_365779508.pkl  365779508  81.923894   9.822392    12.5437   \n",
       "2778950  tesslc_144611697.pkl  144611697  84.547647   6.976661    12.8742   \n",
       "2779201  tesslc_140604181.pkl  140604181  90.622212   8.237346    12.1715   \n",
       "2779626  tesslc_264481150.pkl  264481150  81.460612   5.956002     6.7097   \n",
       "\n",
       "         camera  chip  sector     signal        snr  ...    width2  duration  \\\n",
       "154           1     4       6 -22.933559  -8.207642  ...  0.109361  0.374996   \n",
       "208           4     2       6  -5.783428  -5.565657  ...  0.000191  0.145833   \n",
       "900           4     3       6  -7.333348  -5.953144  ...  0.005732  0.374996   \n",
       "950           1     1       6  -7.673912  -5.386740  ...  0.070428  0.083331   \n",
       "985           1     4       6 -11.120042  -6.210929  ...  0.304273  0.583323   \n",
       "...         ...   ...     ...        ...        ...  ...       ...       ...   \n",
       "2778599       1     1       6  -9.506305  -5.663818  ...  0.017130  0.145830   \n",
       "2778948       1     4       6 -20.773472  -8.844357  ...  0.048287  0.312492   \n",
       "2778950       1     4       6 -23.387310 -12.668007  ...  0.048334  0.124997   \n",
       "2779201       1     4       6 -14.064232  -6.748508  ...  0.142723  0.562494   \n",
       "2779626       1     4       6 -24.764366 -13.088952  ...  0.061527  0.124997   \n",
       "\n",
       "            depth  peak_lspower  mstat  transit_prob         ID  mstat_xrp  \\\n",
       "154     -0.032587      0.036833  0.528  maybeTransit   97801854     -0.039   \n",
       "208     -0.006334      0.014520  0.061  maybeTransit  350582006      0.251   \n",
       "900     -0.004865      0.020404  0.038  maybeTransit  294784620      0.278   \n",
       "950     -0.000922      0.091683 -0.077  maybeTransit   24722209     -0.135   \n",
       "985     -0.010650      0.019098  0.151  maybeTransit  156195744     -0.483   \n",
       "...           ...           ...    ...           ...        ...        ...   \n",
       "2778599 -0.005932      0.097537  0.208  maybeTransit  264460005      0.191   \n",
       "2778948 -0.009722      0.026547  0.410  maybeTransit  365779508     -0.068   \n",
       "2778950 -0.027937      0.032187  0.530  maybeTransit  144611697      0.533   \n",
       "2779201 -0.003855      0.053417  0.196  maybeTransit  140604181     -0.195   \n",
       "2779626 -0.027302      0.038219  0.494  maybeTransit  264481150     -0.070   \n",
       "\n",
       "            astat  known_class  \n",
       "154      0.076041        False  \n",
       "208      0.043778        False  \n",
       "900      0.235063        False  \n",
       "950      0.350441        False  \n",
       "985      0.043086        False  \n",
       "...           ...          ...  \n",
       "2778599  0.267623          toi  \n",
       "2778948  0.121081        False  \n",
       "2778950  0.000000        False  \n",
       "2779201 -0.017442        False  \n",
       "2779626  0.241194        False  \n",
       "\n",
       "[14178 rows x 23 columns]"
      ]
     },
     "execution_count": 207,
     "metadata": {},
     "output_type": "execute_result"
    }
   ],
   "source": [
    "a = merged_df.loc[data.index & new_data.index]\n",
    "a"
   ]
  },
  {
   "cell_type": "code",
   "execution_count": 208,
   "id": "2d1115fe-92d3-48cb-aba4-908c73139c65",
   "metadata": {},
   "outputs": [],
   "source": [
    "b = a.loc[a.known_class == \"eb\"]"
   ]
  },
  {
   "cell_type": "markdown",
   "id": "8d7fbba7-318c-447b-b00e-5c5f0add4136",
   "metadata": {},
   "source": [
    "**The code below returns the lightcurves of the EB's. Commenting out due to number of outputs**"
   ]
  },
  {
   "cell_type": "code",
   "execution_count": 209,
   "id": "fa98249e-0554-4e6b-9b0a-157a194cfea5",
   "metadata": {},
   "outputs": [],
   "source": [
    "# for j in b.file:\n",
    "\n",
    "#     npz = \".npz\"\n",
    "#     npz_file = j.split('.pkl')[0]\n",
    "#     npz_file += npz\n",
    "#     #print(os.path.join(arraydata_path,f'{i}'))\n",
    "#     file_path = os.path.join(path,f'{npz_file}')\n",
    "#     arraydata = np.load(file_path)\n",
    "\n",
    "#     file_path2 = glob.glob(os.path.join(path2,f'**/{j}'))[0]\n",
    "#     lc , _ = import_XRPlightcurve(file_path2, sector=6)\n",
    "\n",
    "#     fig, ax = plt.subplots(1,2,figsize=(15,3))\n",
    "#     ax[0].scatter(arraydata['time'],arraydata['flux'],s=8)\n",
    "#     ax[1].scatter(lc['time'],normalise_flux(lc['corrected flux']),s=8)\n",
    "#     fig.show()"
   ]
  },
  {
   "cell_type": "markdown",
   "id": "9f5042ba-37f3-478b-aca8-a3a437499e3e",
   "metadata": {},
   "source": [
    "### Plotting EBs on UMAP projection"
   ]
  },
  {
   "cell_type": "code",
   "execution_count": 210,
   "id": "74bc0b74-2fa8-466d-963c-79426040de6b",
   "metadata": {},
   "outputs": [],
   "source": [
    "ebs = new_data.loc[b.index & new_data.index]"
   ]
  },
  {
   "cell_type": "code",
   "execution_count": 211,
   "id": "de9d43fb-df4a-4b83-a661-244b0bee9750",
   "metadata": {},
   "outputs": [
    {
     "data": {
      "image/png": "[encoded data removed]",
      "text/plain": [
       "<Figure size 1440x720 with 1 Axes>"
      ]
     },
     "metadata": {
      "needs_background": "light"
     },
     "output_type": "display_data"
    }
   ],
   "source": [
    "plt.figure(figsize=(20, 10))\n",
    "plt.scatter(\n",
    "    embedding[:, 0], embedding[:, 1], alpha=0.7, label=\"candidates from search method\"\n",
    ")\n",
    "# c=[sns.color_palette()[x] for x in data.transit_prob.map({\"maybeTransit\":0, \"artefact\":1})])\n",
    "plt.scatter(ebs.embedding_x, ebs.embedding_y, c=\"orange\", label=\"2 minute EB catalog\")\n",
    "plt.gca().set_aspect(\"equal\", \"datalim\")\n",
    "plt.title(\"UMAP projection of the output data\", fontsize=18)\n",
    "plt.xlabel(\"latent space x\", fontsize=12)\n",
    "plt.ylabel(\"latent space y\", fontsize=12)\n",
    "plt.legend()\n",
    "plt.savefig(f\"umap_projections/{'_'.join(features)}\", dpi=500)"
   ]
  },
  {
   "cell_type": "markdown",
   "id": "b7041b97-1963-4aee-8dd3-aa8c18024215",
   "metadata": {},
   "source": [
    "- The cluster at ~ `(0,-5)` is likely EBs, as a fair amount of known EBs fall in this category. \n",
    "- However, EBs also fall around other areas on this UMAP, which is an interesting result.\n",
    "    - We could conclude that this is due to understating/overstating the features with our data, and that maybe a different combination of features might supply improved results."
   ]
  }
 ],
 "metadata": {
  "kernelspec": {
   "display_name": "auto_exo",
   "language": "python",
   "name": "auto_exo"
  },
  "language_info": {
   "codemirror_mode": {
    "name": "ipython",
    "version": 3
   },
   "file_extension": ".py",
   "mimetype": "text/x-python",
   "name": "python",
   "nbconvert_exporter": "python",
   "pygments_lexer": "ipython3",
   "version": "3.7.12"
  }
 },
 "nbformat": 4,
 "nbformat_minor": 5
}
