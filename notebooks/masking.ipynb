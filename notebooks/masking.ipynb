{
 "cells": [
  {
   "cell_type": "markdown",
   "id": "988a9e30-5c5f-45ed-8c03-0b6d17781548",
   "metadata": {},
   "source": [
    "# Masking"
   ]
  },
  {
   "cell_type": "markdown",
   "id": "a655cfdf-3bdd-4157-b5dc-5813ad0cb7af",
   "metadata": {},
   "source": [
    "This notebook shows our case for implementing masks on the XRP dataset."
   ]
  },
  {
   "cell_type": "code",
   "execution_count": null,
   "id": "78c1120e-a81a-4489-ab78-9326363c5d51",
   "metadata": {},
   "outputs": [
    {
     "name": "stdout",
     "output_type": "stream",
     "text": [
      "/home/astro/phrdhx/automated_exocomet_hunt\n"
     ]
    }
   ],
   "source": [
    "cd .."
   ]
  },
  {
   "cell_type": "markdown",
   "id": "9ac7f82b-117e-4e53-96fa-5983d917db0e",
   "metadata": {},
   "source": [
    "## Module imports"
   ]
  },
  {
   "cell_type": "code",
   "execution_count": null,
   "id": "dfef13f7-99d9-44b0-ad36-5785ba7cd3fd",
   "metadata": {},
   "outputs": [],
   "source": [
    "import numpy as np\n",
    "import pandas as pd\n",
    "import matplotlib.pyplot as plt\n",
    "import pickle\n",
    "import warnings\n",
    "warnings.filterwarnings(\"ignore\")\n",
    "from scipy.stats import median_abs_deviation\n",
    "from astropy.stats import sigma_clip,sigma_clipped_stats\n",
    "from astropy.table import Table\n",
    "from astropy.time import Time\n",
    "#import ipympl\n",
    "from tqdm import tqdm\n",
    "%matplotlib inline\n",
    "np.set_printoptions(threshold=np.inf)"
   ]
  },
  {
   "cell_type": "markdown",
   "id": "6e2d7e24-8cab-4119-be82-ec03051ae8d3",
   "metadata": {},
   "source": [
    "### SPOcc files"
   ]
  },
  {
   "cell_type": "code",
   "execution_count": null,
   "id": "58f21348-8139-452e-b551-e269f3f15e5b",
   "metadata": {},
   "outputs": [],
   "source": [
    "import data \n",
    "import loaders"
   ]
  },
  {
   "cell_type": "markdown",
   "id": "8d00eb89-27d5-4cd3-8445-6a99e70ad050",
   "metadata": {},
   "source": [
    "#### Reading in bad times data and MAD dataframe."
   ]
  },
  {
   "cell_type": "code",
   "execution_count": null,
   "id": "01e65629-ff55-4e64-9e29-620fe72224b3",
   "metadata": {},
   "outputs": [],
   "source": [
    "bad_times = data.load_bad_times()\n",
    "bad_times = bad_times - 2457000\n",
    "mad_df = data.load_mad()"
   ]
  },
  {
   "cell_type": "markdown",
   "id": "5f725c95-3933-4a60-9ed0-a6f8fdbaa6a8",
   "metadata": {},
   "source": [
    "### Functions"
   ]
  },
  {
   "cell_type": "code",
   "execution_count": null,
   "id": "ddaefb79-c205-4205-9453-7da1a2a30aba",
   "metadata": {},
   "outputs": [],
   "source": [
    "def import_XRPlightcurve(file_path):\n",
    "    \"\"\"\n",
    "    Importing the compressed TESS lightcurves from the XRP group.\n",
    "    file_path: path to file\n",
    "    :type file_path: pkl\n",
    "    :returns: \n",
    "        - lc - lightcurve data as a DataFrame. \n",
    "        - store - Storage of other information (TIC, RA, Dec, TESS magnitude, Camera, Chip)\n",
    "    \"\"\"\n",
    "    data = pd.read_pickle(file_path)\n",
    "\n",
    "    ## extracting the lightcurve data and converting to Series from lists\n",
    "    for i in range(len(data)):\n",
    "        if isinstance(data[i],np.ndarray):\n",
    "            data[i] = pd.Series(data[i])\n",
    "    for_df = data[6:] # data[0:6] is not relevant in this case.\n",
    "    columns = ['time','raw flux','corrected flux','PCA flux','flux error','quality']\n",
    "    df = pd.DataFrame(data=for_df).T\n",
    "    df.columns = columns\n",
    "    return df, data[0:6]\n",
    "\n",
    "def normalise_lc(flux):\n",
    "    return flux/flux.mean()\n",
    "\n"
   ]
  },
  {
   "cell_type": "code",
   "execution_count": null,
   "id": "79c07639-422b-4799-a943-93e778709ce6",
   "metadata": {},
   "outputs": [],
   "source": [
    "filename = '/storage/astro2/phrdhx/tesslcs/tesslcs_sector_1_104/2_min_cadence_targets/tesslc_159670453.pkl'\n",
    "lc, store = import_XRPlightcurve(filename)\n",
    "lc['normalised PCA'] = normalise_lc(lc['PCA flux'])"
   ]
  },
  {
   "cell_type": "code",
   "execution_count": null,
   "id": "153b2c46-b34c-43bf-b11e-fa348cb1ad59",
   "metadata": {
    "tags": []
   },
   "outputs": [],
   "source": [
    "sec = 1 # int(filename.split('_')[2])\n",
    "cam = store[4]\n",
    "mad_arr = mad_df.loc[:len(lc)-1, f\"{sec}-{cam}\"]"
   ]
  },
  {
   "cell_type": "code",
   "execution_count": null,
   "id": "91a61954-b687-4984-ac62-4fec424f2c0e",
   "metadata": {},
   "outputs": [],
   "source": [
    "mad_df = pd.read_json(\"./data/Sectors_MAD.json\")"
   ]
  },
  {
   "cell_type": "markdown",
   "id": "5d1b4a02-f5ed-4eaa-a5ac-17ed61b7a46d",
   "metadata": {
    "tags": []
   },
   "source": [
    "### First lightcurve"
   ]
  },
  {
   "cell_type": "code",
   "execution_count": null,
   "id": "1fa44d94-d655-4517-887c-45c983985fa1",
   "metadata": {},
   "outputs": [
    {
     "data": {
      "text/plain": [
       "0.7613104524180967"
      ]
     },
     "execution_count": 9,
     "metadata": {},
     "output_type": "execute_result"
    }
   ],
   "source": [
    "q = lc.quality == 0\n",
    "len(lc['corrected flux'][q])\n",
    "976/1282"
   ]
  },
  {
   "cell_type": "code",
   "execution_count": null,
   "id": "826761b7-1157-4604-a9e5-8649489e52a9",
   "metadata": {
    "tags": []
   },
   "outputs": [
    {
     "data": {
      "image/png": "[encoded data removed]",
      "text/plain": [
       "<Figure size 864x216 with 1 Axes>"
      ]
     },
     "metadata": {
      "needs_background": "light"
     },
     "output_type": "display_data"
    }
   ],
   "source": [
    "plt.figure(figsize=(12,3))\n",
    "#lc['normalised PCA'][lc.quality==0].plot()\n",
    "plt.scatter(lc['time'],lc['raw flux'],s=2.5)\n",
    "#plt.ylim(340000,355000)\n",
    "plt.show()"
   ]
  },
  {
   "cell_type": "code",
   "execution_count": null,
   "id": "60cdca1c-3a2d-4d3c-bab7-80339757fd91",
   "metadata": {},
   "outputs": [
    {
     "data": {
      "image/png": "[encoded data removed]",
      "text/plain": [
       "<Figure size 720x360 with 1 Axes>"
      ]
     },
     "metadata": {
      "needs_background": "light"
     },
     "output_type": "display_data"
    }
   ],
   "source": [
    "plt.figure(figsize=(10,5))\n",
    "plt.scatter(lc['time'],lc['normalised PCA'],s=2.5)\n",
    "plt.show()"
   ]
  },
  {
   "cell_type": "markdown",
   "id": "8404f508-d171-49e6-8d0d-6fe832758f55",
   "metadata": {},
   "source": [
    "## Testing MAD Thresholds\n",
    "\n",
    "The XRP group currently use a 10 sigma threshold by computing the MAD on a quiet region of the data which agree mostly amongst most of the Sector Camera (SC) combinations. This is fine to use, but we want to make a more automated method so that we do not need to recompute these values when reading in our MAD dataframe. We implement Sigma Clipping on the MAD array selected for the SC combination over the whole array, and implement the statistical checks on that."
   ]
  },
  {
   "cell_type": "markdown",
   "id": "7373d8cc-4bcc-4ea7-b95f-2f453cd10bf4",
   "metadata": {},
   "source": [
    "**Sigma Clipping**"
   ]
  },
  {
   "cell_type": "markdown",
   "id": "0fc1c5b6-eb26-4fd3-bb07-040ee4dd815a",
   "metadata": {},
   "source": [
    "In functions where `masked=True`, True means data have been discarded/masked, False means they fall within the sigma."
   ]
  },
  {
   "cell_type": "code",
   "execution_count": null,
   "id": "0b275a4e-6087-4278-a228-6060990de09d",
   "metadata": {},
   "outputs": [],
   "source": [
    "clip = 3\n",
    "sig_clip = sigma_clip(mad_arr,sigma=clip,masked=True) # returns full length array\n",
    "sig_test = sigma_clip(mad_arr,sigma=clip,masked=False) # returns array length of cut values only\n",
    "sig_clip_true = sigma_clipped_stats(mad_arr,sigma=clip,mask=True) # returns full length array\n",
    "sig_clip_false = sigma_clipped_stats(mad_arr,sigma=clip,mask=False) # returns array length of cut values only "
   ]
  },
  {
   "cell_type": "code",
   "execution_count": null,
   "id": "4ecbbea9-6151-49e8-8e0a-160ee8b2e2fa",
   "metadata": {},
   "outputs": [],
   "source": []
  },
  {
   "cell_type": "markdown",
   "id": "a1d67795-40ce-4d9a-8c0f-8ca8878680e1",
   "metadata": {},
   "source": [
    "`print(len(sig_clip[sig_clip.mask == True])/len(mad_arr))` turns out not to be the right thing to use because these arrays also contain quite a lot of NaNs. # fraction of how much data is discarded"
   ]
  },
  {
   "cell_type": "markdown",
   "id": "fdada270-e31d-477e-9885-495247bf3f11",
   "metadata": {},
   "source": [
    "Applying `False` on sigma clipped array returns all the data points that are underneath that threshold. Keeping it `True` would return the mask at where the data point has been discarded (returns `True`) and where it was underneath the threshold `False`. `NaN`'s are automatically clipped out (so `True`). \n",
    "- This creates a weird situation as we know there are so many NaN's in the data. \n",
    "- Currently, I assume\n",
    "- By keeping sigma clipped array `True`, `sigma_clip.data` returns all the data regardless if it has been clipped or not, increasing the median and RMS values etc (in other words, this returns exactly the same as `mad_arr`)."
   ]
  },
  {
   "cell_type": "markdown",
   "id": "2665b562-0c15-4ad3-a8a1-779507a8f8bf",
   "metadata": {},
   "source": [
    "**Median of Sigma Clipping**"
   ]
  },
  {
   "cell_type": "code",
   "execution_count": null,
   "id": "fbc1c602-0a50-485b-965c-7c3a60bf9cc8",
   "metadata": {},
   "outputs": [
    {
     "data": {
      "text/plain": [
       "(0.00029353987890011224, 0.0002887896, 2.4448020910137446e-05)"
      ]
     },
     "execution_count": 13,
     "metadata": {},
     "output_type": "execute_result"
    }
   ],
   "source": [
    "sigma_clipped_stats(mad_arr,sigma=clip)"
   ]
  },
  {
   "cell_type": "code",
   "execution_count": null,
   "id": "4d294872-f2b6-4c1f-92aa-20dcaf5bf8f8",
   "metadata": {
    "tags": []
   },
   "outputs": [
    {
     "data": {
      "text/plain": [
       "0.0002887896"
      ]
     },
     "execution_count": 14,
     "metadata": {},
     "output_type": "execute_result"
    }
   ],
   "source": [
    "med_sig_clip = np.nanmedian(sig_test)\n",
    "med_sig_clip"
   ]
  },
  {
   "cell_type": "markdown",
   "id": "cd338ac8-a0b2-4994-b0e4-be230d04c44a",
   "metadata": {},
   "source": [
    "**Median of Sigma Clipping vs Median of `mad_arr`**"
   ]
  },
  {
   "cell_type": "code",
   "execution_count": null,
   "id": "076ba6d9-1f52-4362-9682-185db78d9859",
   "metadata": {},
   "outputs": [
    {
     "name": "stdout",
     "output_type": "stream",
     "text": [
      "0.0002887896\n",
      "0.00029302\n"
     ]
    }
   ],
   "source": [
    "print(np.nanmedian(sig_test))\n",
    "print(np.nanmedian(mad_arr))"
   ]
  },
  {
   "cell_type": "markdown",
   "id": "2fa93455-7dc9-4532-8ba6-2a99772720fd",
   "metadata": {},
   "source": [
    "**RMS of Sigma Clipping**"
   ]
  },
  {
   "cell_type": "code",
   "execution_count": null,
   "id": "343a6daf-4792-4ba8-b691-6a74c5b9e209",
   "metadata": {},
   "outputs": [
    {
     "name": "stdout",
     "output_type": "stream",
     "text": [
      "2.4448020910137446e-05\n",
      "2.4448020910137446e-05\n"
     ]
    }
   ],
   "source": [
    "rms_sig_clip = np.nanstd(sig_clip)\n",
    "print(rms_sig_clip)\n",
    "print(np.nanstd(sig_test))"
   ]
  },
  {
   "cell_type": "markdown",
   "id": "8f08c151-7fe9-4f1a-aea0-e056058a6ad4",
   "metadata": {},
   "source": [
    "## MAD plots"
   ]
  },
  {
   "cell_type": "markdown",
   "id": "cbac9c96-eb4d-438c-8402-7962136ff907",
   "metadata": {},
   "source": [
    "XRP: For each Sector-Camera combination, any cadences above a threshold are flagged. The threshold is defined as 10 times the standard deviation of MAD values for a quiet portion of the plot, visually identified as cadences 900 to 950, plus the median MAD value of the quiet section. The 10-sigma threshold was determined visually to preserve most data while culling the most problematic sections.\n",
    "\n",
    "$$\\text{threshold} = \\texttt{med}(\\text{MAD}_{quiet})+ 10*\\sigma_{quiet}$$\n",
    "\n"
   ]
  },
  {
   "cell_type": "code",
   "execution_count": null,
   "id": "31a49b9a-0eff-4c82-95a2-df7dc34efe97",
   "metadata": {},
   "outputs": [
    {
     "name": "stdout",
     "output_type": "stream",
     "text": [
      "0.0003988189949894875\n",
      "0.0003621336627304124\n"
     ]
    }
   ],
   "source": [
    "print(np.nanmedian(mad_arr)+10*np.std(mad_arr[900:950]))\n",
    "print(med_sig_clip + clip*rms_sig_clip)"
   ]
  },
  {
   "cell_type": "markdown",
   "id": "e9f7f4b1-a942-4df7-8915-26a1dfee06d7",
   "metadata": {},
   "source": [
    "We compare the XRP set threshold at 10 sigma with the one we derived above at 3 sigma (as we apply sigma clipping across the whole array):"
   ]
  },
  {
   "cell_type": "code",
   "execution_count": null,
   "id": "a2a8b07b-d1f0-4019-934a-5ec9d44131bb",
   "metadata": {
    "tags": []
   },
   "outputs": [
    {
     "data": {
      "image/png": "[encoded data removed]",
      "text/plain": [
       "<Figure size 648x504 with 1 Axes>"
      ]
     },
     "metadata": {
      "needs_background": "dark"
     },
     "output_type": "display_data"
    }
   ],
   "source": [
    "fig,ax = plt.subplots(figsize=(9,7))\n",
    "ax.scatter(range(0,len(lc.time)), mad_arr, s=5,color='white')\n",
    "\n",
    "ax.axhline(np.nanmedian(mad_arr), c='r',label='median line')\n",
    "#ax.axhline(np.nanmedian(mad_arr)+10*np.std(mad_arr[900:950]),c='blue',label='visualised MAD') # 10 sigma threshold\n",
    "ax.axhline(med_sig_clip + clip*rms_sig_clip, c='orange',label='MAD cutoff')\n",
    "ax.set_xlabel('Cadence Number',fontsize=18)\n",
    "ax.set_ylabel('Median Absolute Deviation (MAD)',fontsize=18)\n",
    "ax.set_title(f'Sector {sec} Camera {cam}',color='white',fontsize=22)\n",
    "ax.set_ylim([0,0.001])\n",
    "ax.legend(borderpad=1.125,fontsize=12)\n",
    "ax.xaxis.label.set_color('white')        #setting up X-axis label color to yellow\n",
    "ax.yaxis.label.set_color('white')          #setting up Y-axis label color to blue\n",
    "ax.tick_params(axis='x', colors='white',labelsize=12)    #setting up X-axis tick color to red\n",
    "ax.tick_params(axis='y', colors='white',labelsize=12)\n",
    "\n",
    "\n",
    "ax.xaxis.label.set_color('white')        #setting up X-axis label color to yellow\n",
    "ax.yaxis.label.set_color('white')          #setting up Y-axis label color to blue\n",
    "ax.tick_params(axis='x', colors='white')    #setting up X-axis tick color to red\n",
    "ax.tick_params(axis='y', colors='white')\n",
    "\n",
    "ax.spines['left'].set_color('white')        # setting up Y-axis tick color to red\n",
    "ax.spines['top'].set_color('white')\n",
    "ax.spines['right'].set_color('white')        # setting up Y-axis tick color to red\n",
    "ax.spines['bottom'].set_color('white')\n",
    "\n",
    "ax.spines['left'].set_color('white')        # setting up Y-axis tick color to red\n",
    "ax.spines['top'].set_color('white')\n",
    "ax.spines['right'].set_color('white')        # setting up Y-axis tick color to red\n",
    "ax.spines['bottom'].set_color('white')\n",
    "fig.tight_layout()\n",
    "plt.savefig('poster/mad.png',transparent=True,dpi=300)\n",
    "plt.show()"
   ]
  },
  {
   "cell_type": "markdown",
   "id": "5f69bad8-23fb-4cfd-b2cf-45ce0257ca7f",
   "metadata": {},
   "source": [
    "---"
   ]
  },
  {
   "cell_type": "markdown",
   "id": "2cdfb57a-3964-40ba-b2e4-921bf13e4786",
   "metadata": {
    "tags": []
   },
   "source": [
    "Note: the higher `mad_arr` values pose a higher deviation/error. Hence we use a cutoff on `mad_cut` and `mad_cut2`:"
   ]
  },
  {
   "cell_type": "code",
   "execution_count": 19,
   "id": "7eaee538-523b-48c6-8a3e-eb45f739745e",
   "metadata": {},
   "outputs": [],
   "source": [
    "mad_cut = mad_arr.values<(np.nanmedian(mad_arr)+10*np.std(mad_arr[900:950])) # removes any values above threshold\n",
    "mad_cut2 = mad_arr.values<(med_sig_clip + clip*(rms_sig_clip))"
   ]
  },
  {
   "cell_type": "code",
   "execution_count": 20,
   "id": "c8adefd8-877e-4c4e-acf2-87ad4a575fd7",
   "metadata": {},
   "outputs": [
    {
     "data": {
      "text/plain": [
       "0       0.001489\n",
       "1       0.000994\n",
       "2       0.000740\n",
       "3       0.000797\n",
       "4       0.000793\n",
       "          ...   \n",
       "1277    0.002119\n",
       "1278    0.002810\n",
       "1279    0.003549\n",
       "1280    0.004092\n",
       "1281    0.005168\n",
       "Name: 1-1, Length: 118, dtype: float64"
      ]
     },
     "execution_count": 20,
     "metadata": {},
     "output_type": "execute_result"
    }
   ],
   "source": [
    "test_cut = mad_arr.values<sig_clip.mask\n",
    "mad_arr[mad_arr.values < sig_clip.mask]"
   ]
  },
  {
   "cell_type": "code",
   "execution_count": 21,
   "id": "8f288f33-4c84-4bbb-bd24-8d5e1ce5141a",
   "metadata": {},
   "outputs": [],
   "source": [
    "mask = np.ones_like(lc.time, dtype=bool)\n",
    "for i in bad_times:\n",
    "    newchunk = (lc.time<i[0])|(lc.time>i[1])\n",
    "    mask = mask & newchunk"
   ]
  },
  {
   "cell_type": "markdown",
   "id": "b672d2e1-e037-4d5f-838f-0bfe9f4539a5",
   "metadata": {},
   "source": [
    "### Comparison of plots (with lightcurve `quality = 0`)"
   ]
  },
  {
   "cell_type": "code",
   "execution_count": 26,
   "id": "7e0ab8ad-04d2-473a-b32b-97c1efd73b23",
   "metadata": {},
   "outputs": [
    {
     "data": {
      "image/png": "[encoded data removed]",
      "text/plain": [
       "<Figure size 648x504 with 1 Axes>"
      ]
     },
     "metadata": {
      "needs_background": "dark"
     },
     "output_type": "display_data"
    }
   ],
   "source": [
    "fig,ax = plt.subplots(1,figsize=(9,7))\n",
    "\n",
    "ax.scatter(lc['time'][lc.quality==0],lc['normalised PCA'][lc.quality==0],label='original lightcurve',s=3,c='white')\n",
    "#ax.scatter(lc['time'][(lc.quality==0) & mask & mad_cut],lc['normalised PCA'][(lc.quality==0) & mask & mad_cut]+0.025,c='blue',label='MAD and mask applied to lightcurve',s=5)\n",
    "ax.scatter(lc['time'][(lc.quality==0) & mask & mad_cut2],lc['normalised PCA'][(lc.quality==0) & mask & mad_cut2]-0.001,label='MAD applied lightcurve',s=3,color='y')\n",
    "\n",
    "ax.set_xlabel('Days in BTJD',fontsize=18)\n",
    "ax.set_ylabel('Normalised flux',fontsize=18)\n",
    "ax.set_title(f'TIC {store[0]}',color='white',fontsize=22)\n",
    "ax.legend(loc='upper left',borderpad=1.25,fontsize=12)\n",
    "ax.xaxis.label.set_color('white')        #setting up X-axis label color to yellow\n",
    "ax.yaxis.label.set_color('white')          #setting up Y-axis label color to blue\n",
    "ax.tick_params(axis='x', colors='white')    #setting up X-axis tick color to red\n",
    "ax.tick_params(axis='y', colors='white')\n",
    "\n",
    "\n",
    "ax.xaxis.label.set_color('white')        #setting up X-axis label color to yellow\n",
    "ax.yaxis.label.set_color('white')          #setting up Y-axis label color to blue\n",
    "ax.tick_params(axis='x', colors='white',labelsize=12)    #setting up X-axis tick color to red\n",
    "ax.tick_params(axis='y', colors='white',labelsize=12)\n",
    "\n",
    "ax.spines['left'].set_color('white')        # setting up Y-axis tick color to red\n",
    "ax.spines['top'].set_color('white')\n",
    "ax.spines['right'].set_color('white')        # setting up Y-axis tick color to red\n",
    "ax.spines['bottom'].set_color('white')\n",
    "\n",
    "ax.spines['left'].set_color('white')        # setting up Y-axis tick color to red\n",
    "ax.spines['top'].set_color('white')\n",
    "ax.spines['right'].set_color('white')        # setting up Y-axis tick color to red\n",
    "ax.spines['bottom'].set_color('white')\n",
    "fig.tight_layout()\n",
    "plt.savefig('poster/TIC159670453.png',transparent=True,dpi=300)\n",
    "plt.show()"
   ]
  },
  {
   "cell_type": "markdown",
   "id": "ff0829cd-4eb3-4fe7-acb2-f8e9696be7c6",
   "metadata": {
    "tags": []
   },
   "source": [
    "### Notes:\n",
    "\n",
    "- The task is to mask the bad quality data in the lightcurves even when the quality flags are set to zero `lc.quality=0`.\n",
    "- To do so, we use Ethan Kruse's masks, which provide the \"bad times\" in each sector and we adjust the offset accordingly. These bad times represent an excess of false transits.\n",
    "- We then use the Median Absolute Deviation (MAD)\n",
    "- The MAD is used to identify offending cadences, and it is computed for each cadence by Sector/Camera/Detector (SCD). The MAD at a cadence centered at a time, t, for a given set of light curves in a (SCD) is the median value of the set of absolute value deviations from the median flux at that time.\n",
    "- We compare the \"visually obtained\" MAD by the XRP with our case of sigma clipping over the whole array. Results are fairly similar, and we will test across other sigma values to determine what is a reasonable cutoff to select.\n"
   ]
  },
  {
   "cell_type": "markdown",
   "id": "359cf46b-191c-447a-b962-084e1e803bfb",
   "metadata": {},
   "source": [
    "## Testing how effective our MAD is against the Visualised MAD"
   ]
  },
  {
   "cell_type": "markdown",
   "id": "e5cbeab4-fc20-4ad1-b93a-e326991e7a89",
   "metadata": {},
   "source": [
    "#### Comparison plot of SC combination with the median line, Daniel's visualised MAD, and our Sigma Clipped MAD\n",
    "\n",
    "- A limitation discussed was that the visualised MAD, although very effective, initially focuses on a smaller region of the whole array, eg `[900:950]`, to pick up the standard deviation term, $\\sigma_{quiet}$, rather than the whole ensemble. This becomes limited when we want to explore new sectors automatically and perhaps integrate with other data. Below is a plot of the median, visualised MAD and a Sigma Clipped MAD to observe the performance of the Sigma Clipped MAD (clipped at 3 Sigma for this example)."
   ]
  },
  {
   "cell_type": "code",
   "execution_count": null,
   "id": "42b7e5dd-d0f9-42c7-9c33-521b7074f298",
   "metadata": {
    "tags": []
   },
   "outputs": [],
   "source": [
    "### This code is commented out as it will save the plots\n",
    "\n",
    "# for i in sectors:\n",
    "#     for j in cam:\n",
    "#         mad_arr = mad_df.loc[:len(lc)-1, f\"{i}-{j}\"] # all FFIs have same length, so this is fine\n",
    "#         sig_clip = sigma_clip(mad_arr,sigma=m,masked=False)  \n",
    "#         med_sig_clip = np.nanmedian(sig_clip)\n",
    "#         rms_sig_clip = sigma_clipped_stats(mad_arr,sigma=m,mask=False)[2]\n",
    "#         fig,ax = plt.subplots(figsize=(10,5))\n",
    "#         ax.scatter(range(0,len(lc.time)), mad_arr, s=2)\n",
    "#         ax.axhline(np.nanmedian(mad_arr), c='r',label='median line')\n",
    "#         ax.axhline(np.nanmedian(mad_arr)+10*np.std(mad_arr[900:950]),c='blue',label='visualised MAD') # 10 sigma threshold\n",
    "#         ax.axhline(med_sig_clip + m*(rms_sig_clip), c='orange',label='sigma clipped MAD')\n",
    "#         threshold = med_sig_clip + m*rms_sig_clip\n",
    "        \n",
    "#         mask_for_array = mad_arr<threshold\n",
    "#         final_clipped_array = mad_arr[mask_for_array]\n",
    "#         #ax[1].scatter(mad_arr.index[mask], final_clipped_array, s=2)\n",
    "#         ##ax[1].axhline(np.nanmedian(mad_arr), c='r',label='median')\n",
    "#         #ax[1].axhline(np.nanmedian(mad_arr)+10*np.std(mad_arr[900:950]),c='blue',label='visualised MAD') # 10 sigma threshold\n",
    "#         #ax[1].axhline(med_sig_clip + clip*rms_sig_clip, c='orange',label='experiment MAD')\n",
    "#         #print(f\"{med_sig_clip + m*(np.std(sig_clip))} is the stddev using `np.std(sig_clip)`\")\n",
    "#         #print(f\"{med_sig_clip + m*(rms_sig_clip)} is the stdddev using `sigma_clipped_stats(mad_arr,sigma=m)[2]`\")\n",
    "\n",
    "#         ax.set_title(f\"{i}-{j}\")\n",
    "#         ax.legend()\n",
    "#         ax.set_ylim([0.3*np.nanmedian(mad_arr),2.5*np.nanmedian(mad_arr)])\n",
    "#         #fig.savefig(f\"MAD figs/{i}-{j} at {m} sigma\")\n",
    "        \n",
    "    "
   ]
  },
  {
   "cell_type": "markdown",
   "id": "bc91c410-3b1e-44ca-b918-37b7e5723b40",
   "metadata": {},
   "source": [
    "### Now, I want to plot the points that got kept\n",
    "\n",
    "Plotting the cadence vs the MAD, and the MAD where the points are underneath the specified threshold.\n",
    "- The data now agrees; previously, there was a big discrepancy between the numbers but we find out that there were many NaNs that were not accounted for. This was fixed by using `np.isnan(mad_arr).sum()` to find the NaN's and discard them from the data. Why the NaNs are present we are not sure -> a question to ask. "
   ]
  },
  {
   "cell_type": "markdown",
   "id": "e8867b26-12a2-409c-aaa6-adca59c2acd5",
   "metadata": {},
   "source": [
    "#### The following is for the case of 3 sigma on our Sigma Clipped MAD."
   ]
  },
  {
   "cell_type": "code",
   "execution_count": null,
   "id": "f64649fe-a3c8-466d-8e09-65507e132072",
   "metadata": {},
   "outputs": [],
   "source": [
    "sectors = np.arange(1,27,1)\n",
    "cam = [1,2,3,4]\n",
    "m = 3\n",
    "# k = list length of lightcurves at each sector\n",
    "for i in sectors:\n",
    "    for j in cam:\n",
    "        mad_arr = mad_df.loc[:len(lc)-1, f\"{i}-{j}\"] # all FFIs have same length, so this is fine\n",
    "        sig_clip = sigma_clip(mad_arr,sigma=m,masked=False)  \n",
    "        med_sig_clip = np.nanmedian(sig_clip)\n",
    "        rms_sig_clip = np.nanstd(sig_clip)\n",
    "        fig,(ax1,ax2) = plt.subplots(ncols=2,figsize=(15,5))\n",
    "        ax1.scatter(range(0,len(lc.time)), mad_arr, s=2)\n",
    "        ax1.axhline(np.nanmedian(mad_arr), c='r',label='median line')\n",
    "        #ax1.axhline(np.nanmedian(mad_arr)+10*np.std(mad_arr[900:950]),c='blue',label='visualised MAD') # 10 sigma threshold\n",
    "        ax1.axhline(med_sig_clip + m*(rms_sig_clip), c='orange',label='MAD threshold')   \n",
    "        #ax1.axhline(med_sig_clip - m*(rms_sig_clip), c='orange',label='sigma clipped MAD')  \n",
    "        ax1.set_title(f\"{i}-{j} at {m} sigma\")\n",
    "        ax1.set_xlabel(\"cadence number\")\n",
    "        ax1.set_ylabel(\"MAD\")\n",
    "        ax1.legend()\n",
    "        ax1.set_ylim([0.5*np.nanmedian(mad_arr),4*np.nanmedian(mad_arr)])\n",
    "        np.isnan(mad_arr).sum()\n",
    "        threshold = med_sig_clip + m*(rms_sig_clip)\n",
    "        apply_mask = mad_arr<threshold\n",
    "        final = mad_arr[apply_mask]\n",
    "        print(f\"{(len(apply_mask) -  np.isnan(mad_arr).sum() - len(final))/(len(apply_mask) - np.isnan(mad_arr).sum()) * 100} is the percentage of data discarded, corresponding to {len(apply_mask) - len(final)- np.isnan(mad_arr).sum()} data points out of {len(apply_mask)}\")\n",
    "\n",
    "        \n",
    "        ax2.axhline(np.nanmedian(mad_arr), c='r',label='median line')\n",
    "        ax2.axhline(np.nanmedian(mad_arr)+10*np.std(mad_arr[900:950]),c='blue',label='visualised MAD') # 10 sigma threshold\n",
    "        ax2.axhline(med_sig_clip + m*(rms_sig_clip), c='orange',label='sigma clipped MAD')\n",
    "        ax2.scatter(mad_arr.index[apply_mask],mad_arr[apply_mask],s=2.5)\n",
    "        ax2.set_ylim([0.3*np.nanmedian(mad_arr),2.5*np.nanmedian(mad_arr)])\n",
    "        ax2.set_title(f\"data points kept at {i}-{j} at {m} sigma\")\n",
    "        ax2.legend()\n",
    "        ax2.set_ylim([0.3*np.nanmedian(mad_arr),4.5*np.nanmedian(mad_arr)])\n",
    "\n",
    "        #fig.savefig(f\"MAD figs/{i}-{j} at {m} sigma\")\n",
    "        plt.show()\n",
    "        break\n",
    "        "
   ]
  },
  {
   "cell_type": "markdown",
   "id": "c9b20513-bad7-44bd-ba5f-416137980ef6",
   "metadata": {},
   "source": [
    "## A plot to visualise the fraction of data discarded with respect to the Sigma cutoff"
   ]
  },
  {
   "cell_type": "markdown",
   "id": "c5f271c4-d626-47c3-8ccd-5f0f6287824c",
   "metadata": {},
   "source": [
    "To recap, the threshold we use for our own research is: \n",
    "\n",
    "$$\\text{threshold} = \\texttt{med}(\\text{MAD}) + m*\\sigma$$\n",
    "\n",
    "where $m$ is the sigma chosen, and $\\sigma$ is the standard deviation of sigma clipped `mad_arr`."
   ]
  },
  {
   "cell_type": "code",
   "execution_count": null,
   "id": "54634c97-31f6-4169-b1c1-cdf1238688b6",
   "metadata": {
    "tags": []
   },
   "outputs": [],
   "source": [
    "plt.figure(figsize=(14,6))\n",
    "sectors = np.arange(1,27,1)\n",
    "cam = [1,2,3,4]\n",
    "clip = np.arange(1,11,1)\n",
    "for i in sectors:\n",
    "    for j in cam:\n",
    "        for k in clip:\n",
    "            mad_arr = mad_df.loc[:len(lc)-1, f\"{i}-{j}\"] # all FFIs have same length, so this is fine\n",
    "            sig_clip = sigma_clip(mad_arr,sigma=m,masked=False) # masks kept False to return under threshold and perform clipping on that.\n",
    "            med_sig_clip = np.nanmedian(sig_clip)\n",
    "            rms_sig_clip = np.nanstd(sig_clip)\n",
    "            threshold = med_sig_clip + k*(rms_sig_clip)\n",
    "            apply_mask = mad_arr<threshold\n",
    "            final = mad_arr[apply_mask]\n",
    "            percent_discard = (len(apply_mask) -  np.isnan(mad_arr).sum() - len(final))/(len(apply_mask) - np.isnan(mad_arr).sum())\n",
    "\n",
    "            plt.scatter(k, percent_discard * 100,label=f'{sec}-{cam} at {k} clip',alpha=0.1,s=40)\n",
    "            #plt.legend()\n",
    "            plt.title('Percentage of data discarded wrt Sigma')\n",
    "            plt.ylabel('Percentage of data discarded')\n",
    "            plt.xlabel('Sigma')\n",
    "            plt.xticks(np.arange(1,11,1))\n"
   ]
  },
  {
   "cell_type": "markdown",
   "id": "48bd4fe9-81fb-4f24-b5ee-073367f0c132",
   "metadata": {},
   "source": [
    "Notes: It seems like a reasonable cut off is actually 3 sigma, so what we have tested earlier. It cuts off a reasonable amount of data whilst also retaining a good amount of data to contribute to finding transits (as seen above in the Comparison of Plots section.\n",
    "\n",
    "- However, 4 sigma also seems like a reasonable cutoff point. \n",
    "- The next steps are to experiment with 3 and 4 sigma thresholds and see if we want to be a bit lenient and keep some extra data, or act a bit more rigid with our selected threshold. The thinking is that at 4 sigma, we will allow more \"maybeTransit\" and filter accordingly. But if we find that there are too many \"maybeTransit\" near the downlinks or start/ends of lightcurves, we will cut the threshold down to 3 sigma instead."
   ]
  },
  {
   "cell_type": "markdown",
   "id": "433a53a8-1e5e-4efd-a64b-0b8d0ac35435",
   "metadata": {},
   "source": [
    "### A description to which MAD threshold is lower for each SC combination"
   ]
  },
  {
   "cell_type": "code",
   "execution_count": null,
   "id": "a0defd48-f3f3-4ccd-9f5f-ade48dc70c6d",
   "metadata": {},
   "outputs": [],
   "source": [
    "# for i in range(1,27):\n",
    "#     for j in cam:\n",
    "#         if med_sig_clips[i] < med_arrs[j]:\n",
    "#             print(f\"Sector {i}, Camera {j}, Sigma Clipped MAD has a lower threshold than visualised MAD.\")\n",
    "#         elif round(med_sig_clips[i],9) == round(med_arrs[j],9):\n",
    "#             print(f\"Sector {i}, Camera {j}, roughly the same.\")\n",
    "#         else:\n",
    "#             print(f\"Sector {i}, Camera {j}, visualised MAD has lower threshold.\")"
   ]
  },
  {
   "cell_type": "markdown",
   "id": "addfc53e-fcf7-4af5-b11f-1e2b5a8f4355",
   "metadata": {},
   "source": [
    "This line takes the median of the data points that were under the threshold:"
   ]
  },
  {
   "cell_type": "code",
   "execution_count": null,
   "id": "32779819-2c0c-4dfa-a96f-8740f4c5e592",
   "metadata": {},
   "outputs": [],
   "source": [
    "#np.nanmedian(sig_clip.data[sig_clip.mask == False]) # basically the same if mask = False. Why we use mask = True is to match the array lengths"
   ]
  },
  {
   "cell_type": "markdown",
   "id": "05e53d86-1119-45db-9001-0590a20a72d1",
   "metadata": {},
   "source": [
    "This line takes the median of the whole dataset (even if some were above the threshold)"
   ]
  },
  {
   "cell_type": "markdown",
   "id": "d109fe70-5a04-43c2-8d04-18ed8f9e59d3",
   "metadata": {},
   "source": [
    "## Plotting all the sigma's onto one plot."
   ]
  },
  {
   "cell_type": "markdown",
   "id": "3ee79b91-5983-4415-8d09-8c0cb6d2ee71",
   "metadata": {},
   "source": [
    "Managed to plot the lines. Issue in this code is that the clipped array, so `med_sig_clip` and `rms_sig_clip` is based off `sig_clip` clipped to 3 sigma, which is not completely reflective of the accuracy of the threshold. This needs changing."
   ]
  },
  {
   "cell_type": "code",
   "execution_count": null,
   "id": "b5f2ef4b-a748-4c1a-b82f-5c84dbb8ce96",
   "metadata": {},
   "outputs": [],
   "source": [
    "# sectors = np.arange(1,27,1)\n",
    "# cam = [1,2,3,4]\n",
    "# m = np.arange(1,11,1)\n",
    "\n",
    "# for i in sectors:\n",
    "#     for j in cam:\n",
    "#         mad_arr = mad_df.loc[:len(lc)-1, f\"{i}-{j}\"] # all FFIs have same length, so this is fine\n",
    "#         sig_clip = sigma_clip(mad_arr,sigma=m[2],masked=False)  \n",
    "#         med_sig_clip = np.nanmedian(sig_clip)\n",
    "#         rms_sig_clip = np.nanstd(sig_clip)\n",
    "#         fig,ax1 = plt.subplots(ncols=1,figsize=(15,5))\n",
    "#         ax1.scatter(range(0,len(lc.time)), mad_arr, s=2)\n",
    "#         ax1.axhline(np.nanmedian(mad_arr), c='r',label='median line')\n",
    "#         ax1.axhline(np.nanmedian(mad_arr)+10*np.std(mad_arr[900:950]),c='blue',label='visualised MAD') # 10 sigma threshold\n",
    "#         for k in m:\n",
    "#             ax1.axhline(med_sig_clip + k*(rms_sig_clip),label=f'sigma clipped MAD at {k} sigma') \n",
    "# #         ax1.axhline(med_sig_clip + m[1]*(rms_sig_clip), c='orange',label=f'sigma clipped MAD at {m[1]}') \n",
    "# #         ax1.axhline(med_sig_clip + m[2]*(rms_sig_clip), c='orange',label=f'sigma clipped MAD at {m[2]}') \n",
    "# #         ax1.axhline(med_sig_clip + m[3]*(rms_sig_clip), c='orange',label=f'sigma clipped MAD at {m[3]}') \n",
    "# #         ax1.axhline(med_sig_clip + m[4]*(rms_sig_clip), c='orange',label=f'sigma clipped MAD at {m[4]}') \n",
    "# #         ax1.axhline(med_sig_clip + m[5]*(rms_sig_clip), c='orange',label=f'sigma clipped MAD at {m[5]}') \n",
    "# #         ax1.axhline(med_sig_clip + m[6]*(rms_sig_clip), c='orange',label=f'sigma clipped MAD at {m[6]}')\n",
    "# #         ax1.axhline(med_sig_clip + m[7]*(rms_sig_clip), c='orange',label=f'sigma clipped MAD at {m[7]}') \n",
    "# #         ax1.axhline(med_sig_clip + m[8]*(rms_sig_clip), c='orange',label=f'sigma clipped MAD at {m[8]}') \n",
    "# #         ax1.axhline(med_sig_clip + m[9]*(rms_sig_clip), c='orange',label=f'sigma clipped MAD at {m[9]}') \n",
    "#         #ax1.axhline(med_sig_clip - m*(rms_sig_clip), c='orange',label='sigma clipped MAD')  \n",
    "#         ax1.set_title(f\"{i}-{j} at {m[2]} sigma\")\n",
    "#         ax1.legend()\n",
    "#         ax1.set_ylim([0.5*np.nanmedian(mad_arr),4*np.nanmedian(mad_arr)])\n",
    "#         break"
   ]
  },
  {
   "cell_type": "markdown",
   "id": "7d57f14c-3963-4ea8-9691-0f811e3e88fb",
   "metadata": {},
   "source": [
    "---"
   ]
  },
  {
   "cell_type": "markdown",
   "id": "5be0c469-5f93-4dcd-81fc-7aebd7cd31fe",
   "metadata": {},
   "source": [
    "### Where are the NaNs wrt the cadences"
   ]
  },
  {
   "cell_type": "code",
   "execution_count": null,
   "id": "996de429-27a4-4ebc-9ca4-c7f3667963da",
   "metadata": {},
   "outputs": [],
   "source": [
    "sec = int(filename.split('_')[2])\n",
    "cam = store[4]\n",
    "mad_arr = mad_df.loc[:len(lc)-1, f\"{sec}-{cam}\"]\n"
   ]
  },
  {
   "cell_type": "code",
   "execution_count": null,
   "id": "cd58872a-1db9-4a22-b7a6-c9a4b83e2652",
   "metadata": {},
   "outputs": [],
   "source": [
    "clip = 4\n",
    "sig_test_2 = sigma_clip(mad_arr,sigma=clip,masked=False)\n",
    "med_sig_clip_2 = np.nanmedian(sig_test_2)\n",
    "rms_sig_clip_2 = np.nanstd(sig_test_2)\n",
    "mad_arr_filled = mad_arr.fillna(0)"
   ]
  },
  {
   "cell_type": "code",
   "execution_count": null,
   "id": "625460b3-ce72-4ab0-8784-2ba468a5cc56",
   "metadata": {},
   "outputs": [],
   "source": [
    "fig,ax = plt.subplots(figsize=(13,5))\n",
    "ax.scatter(range(0,len(lc.time)), mad_arr_filled, s=5)\n",
    "ax.axhline(np.nanmedian(mad_arr), c='r',label='median')\n",
    "ax.axhline(np.nanmedian(mad_arr)+10*np.std(mad_arr[900:950]),c='blue',label='visualised MAD') # 10 sigma threshold\n",
    "ax.axhline(med_sig_clip_2 + clip*rms_sig_clip_2, c='orange',label='experiment MAD')\n",
    "ax.set_xlabel('Cadence Number')\n",
    "ax.set_ylabel('Mean Absolute Deviation (MAD)')\n",
    "ax.set_title(f'Cadence at {sec}-{cam}')\n",
    "ax.legend()\n",
    "plt.show()"
   ]
  },
  {
   "cell_type": "markdown",
   "id": "bca30fe4-e75f-4f8a-9f85-49dc1d509b4d",
   "metadata": {},
   "source": [
    "---\n",
    "\n",
    "## Exploring the NaNs\n",
    "\n",
    "As mentioned above, we get a peculiar amount of NaNs. This could be a Pandas thing, where the columns just fill NaNs where the data points aren't equal? Something to explore and ask about. We want to see where the NaNs fall in place wrt the rest of the cadences, so we use `.fillna(0)` to see where they would lie in the MAD array.\n",
    "\n",
    "For all sectors:"
   ]
  },
  {
   "cell_type": "code",
   "execution_count": null,
   "id": "c653bf58-2711-43b0-a45e-1eb018da94ed",
   "metadata": {},
   "outputs": [],
   "source": [
    "sectors = np.arange(1,27,1)\n",
    "cam = [1,2,3,4]\n",
    "m = 4\n",
    "\n",
    "for i in sectors:\n",
    "    for j in cam:\n",
    "        mad_arr = mad_df.loc[:len(lc)-1, f\"{i}-{j}\"] # all FFIs have same length, so this is fine\n",
    "        sig_clip = sigma_clip(mad_arr,sigma=m,masked=False)  \n",
    "        med_sig_clip = np.nanmedian(sig_clip)\n",
    "        rms_sig_clip = np.nanstd(sig_clip)\n",
    "        mad_arr_filled = mad_arr.fillna(0)\n",
    "        \n",
    "        fig,ax = plt.subplots(figsize=(15,5))\n",
    "        ax.scatter(range(0,len(lc.time)), mad_arr_filled, s=7)\n",
    "        ax.axhline(np.nanmedian(mad_arr), c='r',label='median line')\n",
    "        #ax.axhline(np.nanmedian(mad_arr)+10*np.std(mad_arr[900:950]),c='blue',label='visualised MAD') # 10 sigma threshold\n",
    "        ax.axhline(med_sig_clip + m*(rms_sig_clip), c='orange',label='sigma clipped MAD')   \n",
    "        ax.set_title(f\"{i}-{j} at {m} sigma\")\n",
    "        ax.legend()\n",
    "        plt.show()\n",
    "        break"
   ]
  },
  {
   "cell_type": "code",
   "execution_count": null,
   "id": "de7598de-1184-4b04-89c0-0e69c11ad81f",
   "metadata": {},
   "outputs": [],
   "source": [
    "len(mad_df.loc[:len(lc)-1, f\"{3}-{1}\"])"
   ]
  },
  {
   "cell_type": "code",
   "execution_count": null,
   "id": "49b28840-c18f-44de-a3dc-4323cefaa88c",
   "metadata": {},
   "outputs": [],
   "source": [
    "len(lc)"
   ]
  },
  {
   "cell_type": "markdown",
   "id": "d8553ea0-2667-48e0-9385-1e7951b3e64b",
   "metadata": {},
   "source": [
    "---"
   ]
  },
  {
   "cell_type": "markdown",
   "id": "f382094f-c9b5-47a2-bbf2-e48ed62354d3",
   "metadata": {},
   "source": [
    "## Revisited"
   ]
  },
  {
   "cell_type": "code",
   "execution_count": null,
   "id": "47fd96f0-1066-4824-bfdd-f08b4fac1ca7",
   "metadata": {},
   "outputs": [],
   "source": [
    "df = pd.read_json(\"./data/Sectors_MAD.json\")"
   ]
  },
  {
   "cell_type": "code",
   "execution_count": null,
   "id": "5bab92fe-ff8e-4ed7-a3d5-0df58d01b151",
   "metadata": {},
   "outputs": [],
   "source": [
    "sub_meds = np.nanmedian(df.iloc[900:950,:],axis=0)\n",
    "sub_stdevs = np.nanstd(df.iloc[900:950,:],axis=0)"
   ]
  },
  {
   "cell_type": "code",
   "execution_count": null,
   "id": "17d3186a-2765-4b8a-ae23-3d0ccdc75193",
   "metadata": {},
   "outputs": [],
   "source": [
    "median = []\n",
    "for i in df.columns:\n",
    "    median.append(np.nanmedian(sigma_clip(df[i],sigma=clip,masked=False)))"
   ]
  },
  {
   "cell_type": "code",
   "execution_count": null,
   "id": "77824064-650b-4870-a6a0-b7713dcb3e0d",
   "metadata": {},
   "outputs": [],
   "source": [
    "rms = []\n",
    "for i in df.columns:\n",
    "    rms.append(np.nanstd(sigma_clip(df[i],sigma=clip,masked=False)))"
   ]
  },
  {
   "cell_type": "code",
   "execution_count": null,
   "id": "30654e22-39fd-4153-866c-c6893bf82a13",
   "metadata": {},
   "outputs": [],
   "source": [
    "fig, ax = plt.subplots(26,figsize=(10,100))\n",
    "for i, col in enumerate(df.columns[:26]):\n",
    "    ax[i].scatter(df.index,df.loc[:,col],s=1)\n",
    "    ax[i].axhline(median[i],color=\"black\",alpha=.5,label='median line')\n",
    "    #ax[i].axhline(sub_stdevs[i]*10+sub_meds[i], color=\"orange\")\n",
    "    ax[i].axhline(median[i]+3*rms[i], color=\"red\",label='MAD threshold')\n",
    "    #ax[i].axhline(full_meds[i],color=\"red\")\n",
    "    ax[i].set_xlabel('Cadences',fontsize=12)\n",
    "    ax[i].set_ylabel('Median Absolute Deviation (MAD)',fontsize=12)\n",
    "    ax[i].legend(loc='upper right')\n",
    "    ax[i].set_title(col,fontsize=12)\n",
    "    ax[i].set_ylim(0.0002,5*sub_meds[i])\n",
    "    fig.tight_layout()\n",
    "    plt.savefig(f'mad_figs/{col}.png')"
   ]
  },
  {
   "cell_type": "code",
   "execution_count": null,
   "id": "6db03b19-6932-44fb-8c45-2e2650f46fc3",
   "metadata": {},
   "outputs": [],
   "source": [
    "fig, ax = plt.subplots(10,figsize=(10,20),tight_layout=True)\n",
    "for i, col in enumerate(df.columns[:10]):\n",
    "    threshold = median[i]+3*rms[i]\n",
    "    data = df.loc[:,col]\n",
    "    mask = data<threshold\n",
    "    data = data[mask]\n",
    "    ax[i].scatter(df.index[mask],data,s=1)\n",
    "    ax[i].axhline(threshold,linestyle=\"dashdot\", alpha=.5, color=\"tab:orange\")\n",
    "    ax[i].set_title(col)\n",
    "    ax[i].set_ylim(0,3*sub_meds[i])"
   ]
  },
  {
   "cell_type": "code",
   "execution_count": null,
   "id": "b6b467b3-7ea0-421c-8a1c-211d9b56d261",
   "metadata": {},
   "outputs": [],
   "source": []
  },
  {
   "cell_type": "code",
   "execution_count": null,
   "id": "f1bcdcbd-97bd-4bb4-ac83-276aff16d629",
   "metadata": {},
   "outputs": [],
   "source": []
  }
 ],
 "metadata": {
  "kernelspec": {
   "display_name": "Python 3",
   "language": "python",
   "name": "python3"
  },
  "language_info": {
   "codemirror_mode": {
    "name": "ipython",
    "version": 3
   },
   "file_extension": ".py",
   "mimetype": "text/x-python",
   "name": "python",
   "nbconvert_exporter": "python",
   "pygments_lexer": "ipython3",
   "version": "3.7.13"
  },
  "vscode": {
   "interpreter": {
    "hash": "5a6613fc921615f7f5eba94d55d5fb6b8ad2b3ab0a4959858d38ab2cc768c3b3"
   }
  }
 },
 "nbformat": 4,
 "nbformat_minor": 5
}
