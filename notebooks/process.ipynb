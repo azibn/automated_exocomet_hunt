{
 "cells": [
  {
   "cell_type": "markdown",
   "id": "ad370f5c-31b4-4b38-8f19-ef6a2cbb4b16",
   "metadata": {},
   "source": [
    "# Sandbox for `process`\n",
    "\n",
    "Sandbox notebook for `process` to see what the functions do and test different parameters."
   ]
  },
  {
   "cell_type": "code",
   "execution_count": 1,
   "id": "fcfcda2c-7537-46e8-993d-b578921bdd04",
   "metadata": {},
   "outputs": [],
   "source": [
    "import os\n",
    "\n",
    "os.chdir(\"../\")\n",
    "from scripts.analysis_tools_cython import *\n",
    "import random"
   ]
  },
  {
   "cell_type": "code",
   "execution_count": 2,
   "id": "4ef39a54-238e-48c1-af28-ea915feae402",
   "metadata": {},
   "outputs": [],
   "source": [
    "data, lc_info = import_lightcurve(\n",
    "    \"betapic/fits/hlsp_tess-spoc_tess_phot_0000000270577175-s0006_tess_v1_lc.fits\"\n",
    ")"
   ]
  },
  {
   "cell_type": "markdown",
   "id": "42ea3017-4918-44a0-845b-9df31e2cb861",
   "metadata": {},
   "source": [
    "---\n",
    "### Process the lightcurve"
   ]
  },
  {
   "cell_type": "code",
   "execution_count": 3,
   "id": "44976931-d416-4c02-a142-311c51dee0d2",
   "metadata": {},
   "outputs": [],
   "source": [
    "flat_flux, trend_flux = smoothing(data, method=\"median\")\n",
    "a = Table()\n",
    "a[\"time\"] = data[data.colnames[0]]\n",
    "a[\"flux\"] = flat_flux - np.ones(len(flat_flux))\n",
    "a[\"quality\"] = data[data.colnames[2]]\n",
    "a[\"flux_error\"] = data[data.colnames[3]]\n",
    "# data[data.colnames[1]] = flat_flux - np.ones(len(flat_flux)) # resets normalisation to zero instead of one.\n",
    "t, flux, quality, real, flux_error = clean_data(a)\n",
    "flux *= real\n",
    "\n",
    "timestep = calculate_timestep(data)\n",
    "factor = (1 / 48) / timestep\n",
    "# now throw away interpolated points (we're reprocessing\n",
    "# and trying to get the shape parameters right)\n",
    "# t = t[np.array(real,dtype=bool)]\n",
    "# flux = flux[np.array(real,dtype=bool)]\n",
    "# quality = quality[np.array(real,dtype=bool)]\n",
    "# real = real[np.array(real,dtype=bool)]\n",
    "N = len(t)\n",
    "ones = np.ones(N)\n",
    "# flux = normalise_flux(flux)\n",
    "\n",
    "## fourier and Lomb-Scargle\n",
    "A_mag = np.abs(np.fft.rfft(normalise_flux(flux)))\n",
    "\n",
    "freq, powers = LombScargle(t, flux).autopower()  # think about that one\n",
    "peak_power = powers.max()\n",
    "\n",
    "## M-statistic\n",
    "M_stat = calc_mstatistic(flux)\n",
    "\n",
    "T1 = test_statistic_array(flux, 60 * factor)\n",
    "\n",
    "m, n = np.unravel_index(\n",
    "    T1.argmin(), T1.shape\n",
    ")  # T.argmin(): location of  T.shape: 2D array with x,y points in that dimension\n",
    "minT = T1[m, n]\n",
    "# Ts = nonzero(T1[m,n]).std()\n",
    "minT_time = t[n]\n",
    "minT_duration = m * timestep\n",
    "Tm_start = n - math.floor((m - 1) / 2)\n",
    "Tm_end = Tm_start + m\n",
    "Tm_depth = flux[Tm_start:Tm_end].mean()\n",
    "Ts = nonzero(T1[m]).std()  # only the box width selected. Not RMS of all T-statistic"
   ]
  },
  {
   "cell_type": "code",
   "execution_count": 4,
   "id": "838d9821-d8a5-407f-847f-f28cad88b565",
   "metadata": {},
   "outputs": [],
   "source": [
    "def calc_shape_test(\n",
    "    m, n, time, flux, quality, flux_error, n_m_bg_start=1, n_m_bg_scale_factor=2\n",
    "):\n",
    "    \"\"\"Fit both symmetric and comet-like transit profiles and compare fit.\n",
    "    Returns:\n",
    "    (1) Asymmetry: ratio of (errors squared)\n",
    "    Possible errors and return values:\n",
    "    -1 : Divide by zero as comet profile is exact fit\n",
    "    -2 : Too close to end of light curve to fit profile\n",
    "    -3 : Unable to fit model (e.g. timeout)\n",
    "    -4 : Too much empty space in overall light curve or near dip\n",
    "    (2,3) Widths of comet curve fit segments.\n",
    "    info: t, x, q, fit1 and fit2 are the transit shape elements\n",
    "\n",
    "    \"\"\"\n",
    "    ## how many transit widths to take the general linear trend from. start is 1/4 length of cutout from beginning, end is 1 from end.\n",
    "    # first_index = n - (n_m_bg_start*n)\n",
    "    # last_index = n - (n_m_bg_end*m)\n",
    "\n",
    "    ## the transit widths of the cutout from the T-statistic minimum value.\n",
    "    ## this project requires the cutout to have more transit widths after the midtransit, to cover more of the tail.\n",
    "    ## default is set to 1 transit width before and 2 transit widths after\n",
    "\n",
    "    n_m_bg_end = n_m_bg_scale_factor * n_m_bg_start\n",
    "\n",
    "    cutout_before = n - (m * n_m_bg_start)\n",
    "    cutout_after = n + (m * n_m_bg_end)\n",
    "\n",
    "    if cutout_before >= 0 and cutout_after < len(time):\n",
    "        t = time[cutout_before:cutout_after]\n",
    "        if (t[-1] - t[0]) / np.median(np.diff(t)) / len(t) > 1.5:\n",
    "            return -4, -4, -4, 0, -4\n",
    "        t0 = time[n]\n",
    "        diffs = np.diff(t)\n",
    "\n",
    "        x = flux[cutout_before:cutout_after]\n",
    "        q = quality[cutout_before:cutout_after]\n",
    "        fe = flux_error[cutout_before:cutout_after]\n",
    "\n",
    "        bg_before = np.mean(x[: int(m / 4)])\n",
    "        bg_time_before = np.mean(t[: int(m / 4)])\n",
    "        bg_after = np.mean(x[-int(round(m / 4)) :])\n",
    "        bg_time_after = np.mean(t[-int(round(m / 4)) :])\n",
    "\n",
    "        grad = (bg_after - bg_before) / (bg_time_after - bg_time_before)\n",
    "        background_level = bg_before + grad * (t - bg_time_before)\n",
    "        x = x - background_level\n",
    "        try:\n",
    "            params1, pcov1 = single_gaussian_curve_fit(t, -x)\n",
    "            params2, pcov2 = comet_curve_fit(t, -x)\n",
    "        except:\n",
    "            return -3, -3, -3, 0, -3\n",
    "\n",
    "        fit1 = -gauss(t, *params1)\n",
    "        fit2 = -comet_curve(t, *params2)\n",
    "        depth = fit2.min()\n",
    "        scores = [score_fit(x, fit) for fit in [fit1, fit2]]\n",
    "        skewness = skew(-x)\n",
    "        plt.plot(t, fit2)\n",
    "        if scores[1] > 0:\n",
    "            return (\n",
    "                scores[0] / scores[1],\n",
    "                params2[2],\n",
    "                params2[3],\n",
    "                depth,\n",
    "                [t, x, q, fe, fit1, fit2, background_level, skewness],\n",
    "            )\n",
    "        else:\n",
    "\n",
    "            return -1, -1, -1, 0, -1\n",
    "    else:\n",
    "\n",
    "        return -2, -2, -2, 0, -2"
   ]
  },
  {
   "cell_type": "code",
   "execution_count": 5,
   "id": "2e275667-754a-4d67-a0d7-425d78e6f72f",
   "metadata": {},
   "outputs": [
    {
     "ename": "NameError",
     "evalue": "name 'skew' is not defined",
     "output_type": "error",
     "traceback": [
      "\u001b[0;31m------------------------------------------\u001b[0m",
      "\u001b[0;31mNameError\u001b[0mTraceback (most recent call last)",
      "\u001b[0;32m<ipython-input-5-4aa8be543d05>\u001b[0m in \u001b[0;36m<module>\u001b[0;34m\u001b[0m\n\u001b[0;32m----> 1\u001b[0;31m \u001b[0masym\u001b[0m\u001b[0;34m,\u001b[0m \u001b[0mwidth1\u001b[0m\u001b[0;34m,\u001b[0m \u001b[0mwidth2\u001b[0m\u001b[0;34m,\u001b[0m \u001b[0mdepth\u001b[0m\u001b[0;34m,\u001b[0m \u001b[0minfo\u001b[0m \u001b[0;34m=\u001b[0m \u001b[0mcalc_shape_test\u001b[0m\u001b[0;34m(\u001b[0m\u001b[0mm\u001b[0m\u001b[0;34m,\u001b[0m\u001b[0mn\u001b[0m\u001b[0;34m,\u001b[0m\u001b[0mt\u001b[0m\u001b[0;34m,\u001b[0m\u001b[0mflux\u001b[0m\u001b[0;34m,\u001b[0m\u001b[0mquality\u001b[0m\u001b[0;34m,\u001b[0m\u001b[0mflux_error\u001b[0m\u001b[0;34m)\u001b[0m\u001b[0;34m\u001b[0m\u001b[0;34m\u001b[0m\u001b[0m\n\u001b[0m",
      "\u001b[0;32m<ipython-input-4-d0b83d30a295>\u001b[0m in \u001b[0;36mcalc_shape_test\u001b[0;34m(m, n, time, flux, quality, flux_error, n_m_bg_start, n_m_bg_scale_factor)\u001b[0m\n\u001b[1;32m     56\u001b[0m         \u001b[0mdepth\u001b[0m \u001b[0;34m=\u001b[0m \u001b[0mfit2\u001b[0m\u001b[0;34m.\u001b[0m\u001b[0mmin\u001b[0m\u001b[0;34m(\u001b[0m\u001b[0;34m)\u001b[0m\u001b[0;34m\u001b[0m\u001b[0;34m\u001b[0m\u001b[0m\n\u001b[1;32m     57\u001b[0m         \u001b[0mscores\u001b[0m \u001b[0;34m=\u001b[0m \u001b[0;34m[\u001b[0m\u001b[0mscore_fit\u001b[0m\u001b[0;34m(\u001b[0m\u001b[0mx\u001b[0m\u001b[0;34m,\u001b[0m\u001b[0mfit\u001b[0m\u001b[0;34m)\u001b[0m \u001b[0;32mfor\u001b[0m \u001b[0mfit\u001b[0m \u001b[0;32min\u001b[0m \u001b[0;34m[\u001b[0m\u001b[0mfit1\u001b[0m\u001b[0;34m,\u001b[0m\u001b[0mfit2\u001b[0m\u001b[0;34m]\u001b[0m\u001b[0;34m]\u001b[0m\u001b[0;34m\u001b[0m\u001b[0;34m\u001b[0m\u001b[0m\n\u001b[0;32m---> 58\u001b[0;31m         \u001b[0mskewness\u001b[0m \u001b[0;34m=\u001b[0m \u001b[0mskew\u001b[0m\u001b[0;34m(\u001b[0m\u001b[0;34m-\u001b[0m\u001b[0mx\u001b[0m\u001b[0;34m)\u001b[0m\u001b[0;34m\u001b[0m\u001b[0;34m\u001b[0m\u001b[0m\n\u001b[0m\u001b[1;32m     59\u001b[0m         \u001b[0mplt\u001b[0m\u001b[0;34m.\u001b[0m\u001b[0mplot\u001b[0m\u001b[0;34m(\u001b[0m\u001b[0mt\u001b[0m\u001b[0;34m,\u001b[0m\u001b[0mfit2\u001b[0m\u001b[0;34m)\u001b[0m\u001b[0;34m\u001b[0m\u001b[0;34m\u001b[0m\u001b[0m\n\u001b[1;32m     60\u001b[0m         \u001b[0;32mif\u001b[0m \u001b[0mscores\u001b[0m\u001b[0;34m[\u001b[0m\u001b[0;36m1\u001b[0m\u001b[0;34m]\u001b[0m \u001b[0;34m>\u001b[0m \u001b[0;36m0\u001b[0m\u001b[0;34m:\u001b[0m\u001b[0;34m\u001b[0m\u001b[0;34m\u001b[0m\u001b[0m\n",
      "\u001b[0;31mNameError\u001b[0m: name 'skew' is not defined"
     ]
    }
   ],
   "source": [
    "asym, width1, width2, depth, info = calc_shape_test(m, n, t, flux, quality, flux_error)"
   ]
  }
 ],
 "metadata": {
  "kernelspec": {
   "display_name": "auto_exo_lite",
   "language": "python",
   "name": "auto_exo_lite"
  },
  "language_info": {
   "codemirror_mode": {
    "name": "ipython",
    "version": 3
   },
   "file_extension": ".py",
   "mimetype": "text/x-python",
   "name": "python",
   "nbconvert_exporter": "python",
   "pygments_lexer": "ipython3",
   "version": "3.7.13"
  }
 },
 "nbformat": 4,
 "nbformat_minor": 5
}
