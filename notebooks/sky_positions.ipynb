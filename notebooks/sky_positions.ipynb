{
 "cells": [
  {
   "cell_type": "code",
   "execution_count": null,
   "metadata": {},
   "outputs": [],
   "source": [
    "cd .."
   ]
  },
  {
   "cell_type": "markdown",
   "metadata": {
    "tags": []
   },
   "source": [
    "## Sky Positions"
   ]
  },
  {
   "cell_type": "code",
   "execution_count": null,
   "metadata": {},
   "outputs": [],
   "source": [
    "from astropy import units as u\n",
    "from astropy.coordinates import SkyCoord\n",
    "from astropy.table import Table\n",
    "import numpy as np\n",
    "import pandas as pd\n",
    "import matplotlib.pyplot as plt\n",
    "import glob\n",
    "from analysis_tools_cython import *\n",
    "from tqdm import tqdm"
   ]
  },
  {
   "cell_type": "code",
   "execution_count": null,
   "metadata": {},
   "outputs": [],
   "source": [
    "def get_output(file_path):\n",
    "    \"\"\"Imports batch_analyse output file as pandas dataframe.\"\"\"\n",
    "    with open(file_path) as f:\n",
    "        lines = f.readlines()\n",
    "    lc_lists = [word for line in lines for word in line.split()]\n",
    "    lc_lists = [lc_lists[i:i+10] for i in range(0, len(lc_lists), 10)]\n",
    "    cols = ['file','signal','signal/noise','time','asym_score','width1','width2','duration','depth','transit_prob']\n",
    "    df = pd.DataFrame(data=lc_lists,columns=cols)\n",
    "    df[cols[1:-1]] = df[cols[1:-1]].astype('float32')\n",
    "    return df\n",
    "\n",
    "def filter_df(df,min_asym_score=1.0,max_asym_score=2.0,duration=0.5,signal=-5.0):\n",
    "    \"\"\"filters df for given parameter range.\n",
    "    Default settings:\n",
    "    - `signal/noise` greater than 5.\n",
    "        - Minimum test statistic is always negative. We flip the sign in plots for convenience.\n",
    "    - `duration` set to greater than 0.5 days.\n",
    "    - `asym_score` between 1.00 to 2.0.\n",
    "    \"\"\"\n",
    "    return df[(df.duration >= duration) & (df['signal/noise'] <= signal) & (df['asym_score'] >= min_asym_score) & (df['asym_score'] <= max_asym_score)]\n"
   ]
  },
  {
   "cell_type": "code",
   "execution_count": null,
   "metadata": {},
   "outputs": [],
   "source": [
    "df = get_output('output_s6_corr.txt')\n",
    "filtered_df = filter_df(df)\n",
    "table = Table.from_pandas(df)"
   ]
  },
  {
   "cell_type": "code",
   "execution_count": null,
   "metadata": {},
   "outputs": [],
   "source": [
    "path = '/storage/astro2/phrdhx/tesslcs'\n",
    "sector = 6\n",
    "clip = 4"
   ]
  },
  {
   "cell_type": "code",
   "execution_count": null,
   "metadata": {},
   "outputs": [],
   "source": []
  },
  {
   "cell_type": "code",
   "execution_count": null,
   "metadata": {},
   "outputs": [],
   "source": [
    "box = df[(df['signal/noise'] <= -7.4) & (df['asym_score'] >= 1.30) & (df['transit_prob'] == 'maybeTransit') & (df['asym_score'] <= 1.60) & (df['signal/noise'] >= -12)]\n",
    "to_import = box['file']"
   ]
  },
  {
   "cell_type": "code",
   "execution_count": null,
   "metadata": {},
   "outputs": [],
   "source": [
    "box_ra_rad = []\n",
    "box_dec_rad = []\n",
    "for i in tqdm(to_import):\n",
    "    file_paths = glob.glob(os.path.join(path,f'**/**/{i}'))[0]\n",
    "    ref = pd.read_pickle(glob.glob(os.path.join(path,f'**/**/{i}'))[0])\n",
    "    table = import_XRPlightcurve(file_paths,sector=sector,clip=clip,drop_bad_points=True)[0] # drop_bad_points is True\n",
    "    store = import_XRPlightcurve(file_paths,sector=sector,clip=clip,drop_bad_points=True)[1]\n",
    "    box_tic = store[0]\n",
    "    chip = store[5]\n",
    "    ra = store[1] * u.degree\n",
    "    dec = store[2] * u.degree\n",
    "    d = SkyCoord(ra=ra, dec=dec, frame='icrs')\n",
    "    box_ra_rad.append(d.ra.wrap_at(180 * u.deg).radian)\n",
    "    box_dec_rad.append(d.dec.radian)"
   ]
  },
  {
   "cell_type": "code",
   "execution_count": null,
   "metadata": {},
   "outputs": [],
   "source": [
    "tic_id = []\n",
    "ra_tot = []\n",
    "dec_tot = []\n",
    "for i in tqdm(df.file):\n",
    "    file_paths = glob.glob(os.path.join(path,f'**/**/{i}'))[0]\n",
    "    ref = pd.read_pickle(glob.glob(os.path.join(path,f'**/**/{i}'))[0])\n",
    "    table = import_XRPlightcurve(file_paths,sector=sector,clip=clip,drop_bad_points=True)[0] # drop_bad_points is True\n",
    "    store = import_XRPlightcurve(file_paths,sector=sector,clip=clip,drop_bad_points=True)[1]\n",
    "    tic = store[0]\n",
    "    ra_tot.append(store[1] * u.degree)\n",
    "    dec_tot.append(store[2] * u.degree)"
   ]
  },
  {
   "cell_type": "code",
   "execution_count": null,
   "metadata": {},
   "outputs": [],
   "source": [
    "plt.figure(figsize=(12,7))\n",
    "plt.subplot(111, projection=\"aitoff\")\n",
    "plt.title(\"Aitoff projection of Sector 6 and the bad lightcurves\")\n",
    "plt.grid(True)\n",
    "plt.plot(box_ra_rad, box_dec_rad, 'o', markersize=2, alpha=0.2)\n",
    "plt.plot(ra_tot,dec_tot,'y', markersize=2, alpha=0.2)\n",
    "plt.subplots_adjust(top=0.65,bottom=0.0)\n",
    "plt.savefig('sky positions.png')"
   ]
  }
 ],
 "metadata": {
  "kernelspec": {
   "display_name": "Python 3",
   "language": "python",
   "name": "python3"
  },
  "language_info": {
   "codemirror_mode": {
    "name": "ipython",
    "version": 3
   },
   "file_extension": ".py",
   "mimetype": "text/x-python",
   "name": "python",
   "nbconvert_exporter": "python",
   "pygments_lexer": "ipython3",
   "version": "3.7.12"
  }
 },
 "nbformat": 4,
 "nbformat_minor": 4
}
