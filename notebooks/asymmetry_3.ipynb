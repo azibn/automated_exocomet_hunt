{
 "cells": [
  {
   "cell_type": "markdown",
   "id": "565cd24e-7720-458a-a7ca-231426ac894b",
   "metadata": {},
   "source": [
    "# Asymmetry `n_m_bg_start=2`"
   ]
  },
  {
   "cell_type": "code",
   "execution_count": null,
   "id": "6eb12654-31cf-4a77-9eb8-cba40fdccee1",
   "metadata": {},
   "outputs": [],
   "source": [
    "cd .."
   ]
  },
  {
   "cell_type": "code",
   "execution_count": null,
   "id": "0625ba2d-4a49-4673-81bd-c3ba7b2230a9",
   "metadata": {},
   "outputs": [],
   "source": [
    "import lightkurve as lk\n",
    "from matplotlib import pyplot as  plt\n",
    "import numpy as np\n",
    "from astropy.table import Table\n",
    "from analysis_tools_cython import *\n",
    "import scipy.integrate as integrate\n",
    "import numpy as np\n",
    "from scipy.signal import savgol_filter\n",
    "\n",
    "plt.rcParams[\"figure.figsize\"] = (10, 6)"
   ]
  },
  {
   "cell_type": "markdown",
   "id": "d32b3977-09e3-4366-a657-e463d75d2c3e",
   "metadata": {},
   "source": [
    "## Functions"
   ]
  },
  {
   "cell_type": "code",
   "execution_count": null,
   "id": "9005d55d-63c3-4fd2-aa7b-fe5cffbfe1ef",
   "metadata": {
    "tags": []
   },
   "outputs": [],
   "source": [
    "def skewed_gaussian_curve_fit(x,y):\n",
    "    # Initial parameters guess\n",
    "    ## i = index of min time\n",
    "    ## x = time\n",
    "    ## y = flux\n",
    "    \n",
    "    i = np.argmin(y)\n",
    "    width = x[-1]-x[0]\n",
    "    ### params initialisation for skewness, time, mean and sigma\n",
    "    params_init = [0.1,x[i],0.1,0.0001] # i find these good to initialise with\n",
    "    \n",
    "    params_bounds = [[-np.inf,x[0],0,0], [np.inf,x[-1],width/2,width/2]]\n",
    "    \n",
    "    A0 = y[i]\n",
    "    mu0 = x[i]\n",
    "    sigma0 = (x[-1]-x[0])/4\n",
    "\n",
    "    params_bounds = [[0.1,x[0],0,0], [10,x[-1],np.inf,sigma0*4]]\n",
    "    \n",
    "    params,cov = curve_fit(skewed_gaussian,x,y,p0=params_init,bounds=params_bounds,maxfev=1000000)\n",
    "    return params, cov \n",
    "\n",
    "def skewed_gaussian(x,a,mean,sigma,m):\n",
    "    \"\"\"\n",
    "    m: amplitude\n",
    "    x: time\n",
    "    a: skewness\n",
    "    mean: time\n",
    "    sigma: sigma/standard deviation    \n",
    "    \n",
    "    \"\"\"\n",
    "    return -m * skewnorm.pdf(x,a,loc=mean,scale=sigma)\n",
    "\n",
    "def lookup_tic(tic):\n",
    "    return lookup[lookup.TIC_ID == tic]\n",
    "\n",
    "def search_method(data):\n",
    "    try:\n",
    "        data = data['time','corrected flux','quality','flux error']\n",
    "    except:\n",
    "        data = data['TIME','PDCSAP_FLUX','QUALITY','PDCSAP_FLUX_ERR']\n",
    "\n",
    "    flat_flux, trend_flux = smoothing(data,method='median')\n",
    "    a = Table()\n",
    "    a['time'] = data[data.colnames[0]]\n",
    "    a['flux'] = flat_flux - np.ones(len(flat_flux))\n",
    "    a['quality'] = data[data.colnames[2]]\n",
    "    a['flux_error'] = data[data.colnames[3]]\n",
    "    #table[table.colnames[1]] = flat_flux - np.ones(len(flat_flux)) # resets normalisation to zero instead of one.\n",
    "    t, flux, quality, real, flux_error = clean_data(a)\n",
    "    flux *= real\n",
    "    timestep = calculate_timestep(data)\n",
    "    factor = ((1/48)/timestep)\n",
    "    try:\n",
    "        flux_error = normalise_error(data['corrected flux'],a['flux_error'])\n",
    "    except:\n",
    "        flux_error = normalise_error(data['PDCSAP_FLUX'],a['flux_error'])\n",
    "    T1 = test_statistic_array(flux,60 * factor)\n",
    "\n",
    "    m, n = np.unravel_index(\n",
    "    T1.argmin(), T1.shape\n",
    "    )  # T.argmin(): location of  T.shape: 2D array with x,y points in that dimension\n",
    "    minT = T1[m, n]\n",
    "    #Ts = nonzero(T1[m,n]).std()\n",
    "    minT_time = t[n]\n",
    "    minT_duration = m * timestep\n",
    "    Tm_start = n-math.floor((m-1)/2)\n",
    "    Tm_end = Tm_start + m\n",
    "    Tm_depth = flux[Tm_start:Tm_end].mean() \n",
    "    Ts = nonzero(T1[m]).std() # only the box width selected. Not RMS of all T-statistic\n",
    "    \n",
    "    asym, width1, width2, depth, info = calc_shape(m,n,t,flux,quality,flux_error,n_m_bg_start=2)\n",
    "    return info[0], info[1], info[3]\n",
    "\n",
    "def plot(data):\n",
    "    time, flux, error = search_method(data)\n",
    "    fig, ax = plt.subplots(1,2,figsize=(15,7))\n",
    "    try:\n",
    "        ax[0].plot(data[\"time\"],data[\"corrected flux\"])\n",
    "    except:\n",
    "        ax[0].plot(data[\"TIME\"],data[\"PDCSAP_FLUX\"])\n",
    "    ax[1].plot(time,flux)\n",
    "    ax[1].plot(time,fit,label='gaussian')\n",
    "    ax[1].plot(time,fit2,color='black',label='skewed gaussian')\n",
    "    ax[1].legend()\n",
    "    #ax[1].errorbar(time,flux, yerr=error, fmt='', color='b')\n",
    "    plt.show()\n",
    "    \n",
    "def calc_reduced_chi_square(fit, x, y, yerr, N, n_free):\n",
    "    '''\n",
    "    fit (array) values for the fit\n",
    "    x,y,yerr (arrays) data\n",
    "    N total number of points\n",
    "    n_free number of parameters we are fitting\n",
    "    '''\n",
    "    return 1.0/(N-n_free)*sum(((fit - y)/yerr)**2)\n",
    "\n",
    "def normalise_error(flux, flux_error):\n",
    "    return flux_error/np.nanmedian(flux)"
   ]
  },
  {
   "cell_type": "code",
   "execution_count": null,
   "id": "6b017bad-74ae-4b3e-994b-97be33d79eb3",
   "metadata": {},
   "outputs": [],
   "source": [
    "lookup = pd.read_csv(\"/storage/astro2/phrdhx/tesslcs/sector1lookup.csv\")"
   ]
  },
  {
   "cell_type": "markdown",
   "id": "2b57465e-2e65-4dba-8595-95c69c5b8630",
   "metadata": {},
   "source": [
    "## Example 1"
   ]
  },
  {
   "cell_type": "code",
   "execution_count": null,
   "id": "726e576e-9bce-43cc-9e2c-b0cee1518e6d",
   "metadata": {},
   "outputs": [],
   "source": [
    "data, lc_info = import_lightcurve(\"betapic/test/hlsp_tess-spoc_tess_phot_0000000270577175-s0006_tess_v1_lc.fits\")"
   ]
  },
  {
   "cell_type": "code",
   "execution_count": null,
   "id": "3bfb43c7-6c47-458f-aa3f-d177fa97e1ad",
   "metadata": {},
   "outputs": [],
   "source": [
    "time, flux, error = search_method(data)"
   ]
  },
  {
   "cell_type": "code",
   "execution_count": null,
   "id": "a93b5f51-5969-4e9a-84ab-c289c1ef1412",
   "metadata": {},
   "outputs": [],
   "source": [
    "params, cov = single_gaussian_curve_fit(time,-flux)\n",
    "params1, cov1 = skewed_gaussian_curve_fit(time,flux)"
   ]
  },
  {
   "cell_type": "code",
   "execution_count": null,
   "id": "0815dd80-21ba-4c35-a1ef-fc9b8c8349f1",
   "metadata": {},
   "outputs": [],
   "source": [
    "print(f\"skewness is {round(params1[0],3)}+/-{np.sqrt(np.diag(cov1)[0])}\")"
   ]
  },
  {
   "cell_type": "code",
   "execution_count": null,
   "id": "081a2613-78ea-455b-92b3-34b91f46d905",
   "metadata": {},
   "outputs": [],
   "source": [
    "fit = -gauss(time,*params)\n",
    "fit2 = updated_skewed_gauss(time,*params1)"
   ]
  },
  {
   "cell_type": "code",
   "execution_count": null,
   "id": "007ab206-0ba3-4198-8245-56f279e64975",
   "metadata": {},
   "outputs": [],
   "source": [
    "plot(data)"
   ]
  },
  {
   "cell_type": "code",
   "execution_count": null,
   "id": "0ceca083-f80f-48c6-b443-2388bdcd431d",
   "metadata": {},
   "outputs": [],
   "source": [
    "len(flux)"
   ]
  },
  {
   "cell_type": "markdown",
   "id": "72c48090-3dd4-4471-b1aa-21ce5d675355",
   "metadata": {},
   "source": [
    "### 1a. Flip this lightcurve to see if the skew works in reverse as well"
   ]
  },
  {
   "cell_type": "code",
   "execution_count": null,
   "id": "c9d8b793-a417-438b-a2e8-1c8f36d156ef",
   "metadata": {},
   "outputs": [],
   "source": [
    "data = data.to_pandas()"
   ]
  },
  {
   "cell_type": "code",
   "execution_count": null,
   "id": "4b44f518-f920-40b2-971a-c8c119210d34",
   "metadata": {},
   "outputs": [],
   "source": [
    "data.head()"
   ]
  },
  {
   "cell_type": "code",
   "execution_count": null,
   "id": "51b3ee79-4abb-4300-a85e-32ad01b5330c",
   "metadata": {},
   "outputs": [],
   "source": [
    "data.PDCSAP_FLUX = data.PDCSAP_FLUX.values[::-1]"
   ]
  },
  {
   "cell_type": "code",
   "execution_count": null,
   "id": "b5ee5ef8-1ed7-4b45-bfaf-81cd68e7901d",
   "metadata": {},
   "outputs": [],
   "source": [
    "data = Table.from_pandas(data)"
   ]
  },
  {
   "cell_type": "code",
   "execution_count": null,
   "id": "06cb8dbf-0a67-44ca-b226-a0ab14dfab7e",
   "metadata": {},
   "outputs": [],
   "source": [
    "time, flux, error = search_method(data)"
   ]
  },
  {
   "cell_type": "code",
   "execution_count": null,
   "id": "215626ae-23ae-4e9a-ab0a-a1ef9d73ef2e",
   "metadata": {},
   "outputs": [],
   "source": [
    "params, cov = single_gaussian_curve_fit(time,-flux)\n",
    "params1, cov1 = skewed_gaussian_curve_fit(time,flux)"
   ]
  },
  {
   "cell_type": "code",
   "execution_count": null,
   "id": "94bfe980-2e04-46f5-8cfe-ef93599677be",
   "metadata": {},
   "outputs": [],
   "source": [
    "print(f\"skewness is {round(params1[0],3)}+/-{np.sqrt(np.diag(cov1)[0])}\")"
   ]
  },
  {
   "cell_type": "code",
   "execution_count": null,
   "id": "e9a01278-f824-4ae4-98b4-2022bd37c362",
   "metadata": {},
   "outputs": [],
   "source": [
    "fit = -gauss(time,*params)\n",
    "fit2 = updated_skewed_gauss(time,*params1)"
   ]
  },
  {
   "cell_type": "code",
   "execution_count": null,
   "id": "c411bfb3-3776-4045-a89e-62aece43c0b6",
   "metadata": {},
   "outputs": [],
   "source": [
    "plot(data)"
   ]
  },
  {
   "cell_type": "markdown",
   "id": "8d11d209-30e7-44a0-8615-6d315df02dde",
   "metadata": {},
   "source": [
    "Appears to fit the data quite well."
   ]
  },
  {
   "cell_type": "markdown",
   "id": "93491991-d4bd-4b53-b01b-21a0c0558bce",
   "metadata": {},
   "source": [
    "### Goodness of fit of model"
   ]
  },
  {
   "cell_type": "code",
   "execution_count": null,
   "id": "9a7df0e7-987d-4d50-a51e-73edc7774708",
   "metadata": {},
   "outputs": [],
   "source": [
    "calc_reduced_chi_square(fit2,time,flux,error,len(flux),4)"
   ]
  },
  {
   "cell_type": "code",
   "execution_count": null,
   "id": "802e7bc5-8f81-4c67-ade8-0da169a596a1",
   "metadata": {},
   "outputs": [],
   "source": [
    "#chisquare(flux,fit2)"
   ]
  },
  {
   "cell_type": "markdown",
   "id": "a380988e-5474-4835-9597-3fcba3322a64",
   "metadata": {},
   "source": [
    "---\n",
    "\n",
    "## Example 2 (CTOI)"
   ]
  },
  {
   "cell_type": "code",
   "execution_count": null,
   "id": "8d853772-ecd1-4224-b600-cfaf99944c02",
   "metadata": {},
   "outputs": [],
   "source": [
    "data, lc_info = import_XRPlightcurve(\"/storage/astro2/phrdhx/tesslcs/tesslcs_sector_1_104/2_min_cadence_targets/tesslc_50380257.pkl\",sector=1)"
   ]
  },
  {
   "cell_type": "code",
   "execution_count": null,
   "id": "1690171a-ccf6-44a2-9fc2-573f3e73ae31",
   "metadata": {},
   "outputs": [],
   "source": [
    "time, flux, error = search_method(data)"
   ]
  },
  {
   "cell_type": "code",
   "execution_count": null,
   "id": "fe2da162-4506-4321-bd9d-68101f905373",
   "metadata": {},
   "outputs": [],
   "source": [
    "params, cov = single_gaussian_curve_fit(time,-flux)\n",
    "params1, cov1 = skewed_gaussian_curve_fit(time,flux)"
   ]
  },
  {
   "cell_type": "code",
   "execution_count": null,
   "id": "33786396-9d19-40f7-8b15-754d03f961fe",
   "metadata": {},
   "outputs": [],
   "source": [
    "print(f\"skewness is {round(params1[0],3)}+/-{np.sqrt(np.diag(cov1)[0])}\")"
   ]
  },
  {
   "cell_type": "code",
   "execution_count": null,
   "id": "64e73fda-856f-43d3-832a-498763dbca40",
   "metadata": {},
   "outputs": [],
   "source": [
    "fit = -gauss(time,*params)\n",
    "fit2 = updated_skewed_gauss(time,*params1)"
   ]
  },
  {
   "cell_type": "code",
   "execution_count": null,
   "id": "494a7f6b-b8c0-4171-a876-2449a25f3e18",
   "metadata": {},
   "outputs": [],
   "source": [
    "plot(data)"
   ]
  },
  {
   "cell_type": "code",
   "execution_count": null,
   "id": "a61d648d-a975-426c-a25e-7968e4b6ad7b",
   "metadata": {},
   "outputs": [],
   "source": [
    "len(flux)"
   ]
  },
  {
   "cell_type": "markdown",
   "id": "9a9e9dab-a4dd-465f-92ec-699ee51a5496",
   "metadata": {
    "tags": []
   },
   "source": [
    "---\n",
    "## Example 3 (CTOI)"
   ]
  },
  {
   "cell_type": "code",
   "execution_count": null,
   "id": "edc34301-37c2-4330-896e-9aa9b7805729",
   "metadata": {},
   "outputs": [],
   "source": [
    "lookup_tic(55659311)"
   ]
  },
  {
   "cell_type": "code",
   "execution_count": null,
   "id": "9b52f76a-4af6-4d81-8e6f-9ce9cb187fa9",
   "metadata": {},
   "outputs": [],
   "source": [
    "data, lc_info = import_XRPlightcurve(\"/storage/astro2/phrdhx/tesslcs/tesslcs_sector_1_104/2_min_cadence_targets/tesslc_55659311.pkl\",sector=1)"
   ]
  },
  {
   "cell_type": "code",
   "execution_count": null,
   "id": "0b448c22-c018-41a0-834e-d09ed4028d6f",
   "metadata": {},
   "outputs": [],
   "source": [
    "time, flux, error = search_method(data)"
   ]
  },
  {
   "cell_type": "code",
   "execution_count": null,
   "id": "78f6e562-53e9-4df7-939e-377f73c6998e",
   "metadata": {},
   "outputs": [],
   "source": [
    "params, cov = single_gaussian_curve_fit(time,-flux)\n",
    "params1, cov1 = skewed_gaussian_curve_fit(time,flux)"
   ]
  },
  {
   "cell_type": "code",
   "execution_count": null,
   "id": "2e5cc694-8395-458d-93ad-fb5bb35a3e17",
   "metadata": {},
   "outputs": [],
   "source": [
    "print(f\"skewness is {round(params1[0],3)}+/-{np.sqrt(np.diag(cov1)[0])}\")"
   ]
  },
  {
   "cell_type": "code",
   "execution_count": null,
   "id": "080d855b-ddb6-4a37-9095-1bba9a7eb213",
   "metadata": {},
   "outputs": [],
   "source": [
    "fit = -gauss(time,*params)\n",
    "fit2 = updated_skewed_gauss(time,*params1)"
   ]
  },
  {
   "cell_type": "code",
   "execution_count": null,
   "id": "932af7e6-7bf2-40a4-82cf-c76334c0f748",
   "metadata": {},
   "outputs": [],
   "source": [
    "fit"
   ]
  },
  {
   "cell_type": "code",
   "execution_count": null,
   "id": "58181369-dcc5-49b9-a3bc-a57970c31490",
   "metadata": {},
   "outputs": [],
   "source": [
    "plot(data)"
   ]
  },
  {
   "cell_type": "code",
   "execution_count": null,
   "id": "5336f1f7-cd0c-4f41-9a2f-ba370a2a0e10",
   "metadata": {},
   "outputs": [],
   "source": [
    "plt.scatter(time,flux)"
   ]
  },
  {
   "cell_type": "code",
   "execution_count": null,
   "id": "c840bc13-af88-4bbe-aec9-095aadf01cfc",
   "metadata": {},
   "outputs": [],
   "source": [
    "len(flux)"
   ]
  },
  {
   "cell_type": "markdown",
   "id": "1cc7380d-9f37-447c-a955-069244e34114",
   "metadata": {},
   "source": [
    "---\n",
    "## Example 4 (EA2)"
   ]
  },
  {
   "cell_type": "code",
   "execution_count": null,
   "id": "81277e26-d6c1-4473-944f-62417833792d",
   "metadata": {},
   "outputs": [],
   "source": [
    "lookup_tic(60646247)"
   ]
  },
  {
   "cell_type": "code",
   "execution_count": null,
   "id": "eb0c9cad-cd32-42e1-9b89-0bf1c93c7f7e",
   "metadata": {},
   "outputs": [],
   "source": [
    "data, lc_info = import_XRPlightcurve(\"/storage/astro2/phrdhx/tesslcs/tesslcs_sector_1_104/tesslcs_tmag_11_12/tesslc_60646247.pkl\",sector=1)"
   ]
  },
  {
   "cell_type": "code",
   "execution_count": null,
   "id": "48d8f2b4-1769-4c79-9ca7-9df25265088d",
   "metadata": {},
   "outputs": [],
   "source": [
    "time, flux, error = search_method(data)"
   ]
  },
  {
   "cell_type": "code",
   "execution_count": null,
   "id": "d4f7b555-a7b7-4b81-9b10-ee26cc455ec6",
   "metadata": {},
   "outputs": [],
   "source": [
    "params, cov = single_gaussian_curve_fit(time,-flux)\n",
    "params1, cov1 = skewed_gaussian_curve_fit(time,flux)"
   ]
  },
  {
   "cell_type": "code",
   "execution_count": null,
   "id": "9298669d-420e-41fc-a509-5f1824120b45",
   "metadata": {},
   "outputs": [],
   "source": [
    "np.diag(cov1)"
   ]
  },
  {
   "cell_type": "code",
   "execution_count": null,
   "id": "96534992-34b4-46a7-9a3a-c7c27f33daae",
   "metadata": {},
   "outputs": [],
   "source": [
    "np.sqrt((cov1)[0,0])"
   ]
  },
  {
   "cell_type": "code",
   "execution_count": null,
   "id": "a93431fa-b72b-4e4d-9006-965282150f78",
   "metadata": {},
   "outputs": [],
   "source": [
    "print(f\"skewness is {round(params1[0],3)}+/-{np.sqrt(np.diag(cov1)[0])}\")"
   ]
  },
  {
   "cell_type": "code",
   "execution_count": null,
   "id": "49b8e9ba-3530-4688-b9ba-357346eb7e36",
   "metadata": {},
   "outputs": [],
   "source": [
    "fit = -gauss(time,*params)\n",
    "fit2 = updated_skewed_gauss(time,*params1)"
   ]
  },
  {
   "cell_type": "code",
   "execution_count": null,
   "id": "9bfee655-d924-4bfe-b6d5-a902a6f88d0a",
   "metadata": {},
   "outputs": [],
   "source": [
    "plot(data)"
   ]
  },
  {
   "cell_type": "code",
   "execution_count": null,
   "id": "eb5872d6-b3c0-4cb5-98f0-9c48a0e51192",
   "metadata": {},
   "outputs": [],
   "source": [
    "len(flux)"
   ]
  },
  {
   "cell_type": "markdown",
   "id": "312a2d31-09ef-46a8-96e2-0414344a5d87",
   "metadata": {},
   "source": [
    "---\n",
    "## Example 5 (WASP 100)"
   ]
  },
  {
   "cell_type": "code",
   "execution_count": null,
   "id": "be0bcfa8-a5c2-48f7-a8be-49c715b02eee",
   "metadata": {},
   "outputs": [],
   "source": [
    "lookup_tic(38846515)"
   ]
  },
  {
   "cell_type": "code",
   "execution_count": null,
   "id": "0f2c29df-3c57-482b-815b-1357b7e1adc4",
   "metadata": {},
   "outputs": [],
   "source": [
    "data, lc_info = import_XRPlightcurve(\"/storage/astro2/phrdhx/tesslcs/tesslcs_sector_1_104/2_min_cadence_targets/tesslc_38846515.pkl\",sector=1)"
   ]
  },
  {
   "cell_type": "code",
   "execution_count": null,
   "id": "2cd3a978-3a18-4a7a-bb8a-1fae58cd08f2",
   "metadata": {},
   "outputs": [],
   "source": [
    "time, flux, error = search_method(data)"
   ]
  },
  {
   "cell_type": "code",
   "execution_count": null,
   "id": "6ee05480-4a45-438b-8fd9-e65795cbecca",
   "metadata": {},
   "outputs": [],
   "source": [
    "params, cov = single_gaussian_curve_fit(time,-flux)\n",
    "params1, cov1 = skewed_gaussian_curve_fit(time,flux)"
   ]
  },
  {
   "cell_type": "code",
   "execution_count": null,
   "id": "5355dd0e-83ee-4595-8e70-3cc6256186bf",
   "metadata": {},
   "outputs": [],
   "source": [
    "print(f\"skewness is {round(params1[0],3)}+/-{np.sqrt(np.diag(cov1)[0])}\")"
   ]
  },
  {
   "cell_type": "code",
   "execution_count": null,
   "id": "5930c998-97b7-4790-8a8b-39fce7e37d3e",
   "metadata": {},
   "outputs": [],
   "source": [
    "params"
   ]
  },
  {
   "cell_type": "code",
   "execution_count": null,
   "id": "8c8ca958-44cf-4fe6-bf55-cf00a96a20b1",
   "metadata": {},
   "outputs": [],
   "source": [
    "fit = -gauss(time,*params)\n",
    "fit2 = updated_skewed_gauss(time,*params1)"
   ]
  },
  {
   "cell_type": "code",
   "execution_count": null,
   "id": "59f746b9-2240-40bc-b636-0202e2fb7ced",
   "metadata": {},
   "outputs": [],
   "source": [
    "plot(data)"
   ]
  },
  {
   "cell_type": "code",
   "execution_count": null,
   "id": "4569befe-e990-48c8-986d-797fa590aea2",
   "metadata": {},
   "outputs": [],
   "source": [
    "len(flux)"
   ]
  },
  {
   "cell_type": "markdown",
   "id": "65910492-1a96-477a-affb-371afd329073",
   "metadata": {},
   "source": [
    "---\n",
    "## Example 6"
   ]
  },
  {
   "cell_type": "code",
   "execution_count": null,
   "id": "a79c203d-4be8-44e3-848d-7a6ae7cfd685",
   "metadata": {},
   "outputs": [],
   "source": [
    "lookup_tic(61178236)"
   ]
  },
  {
   "cell_type": "code",
   "execution_count": null,
   "id": "7012c884-ec8a-4b11-9b1f-0f86c56e0fd5",
   "metadata": {},
   "outputs": [],
   "source": [
    "data, lc_info = import_XRPlightcurve(\"/storage/astro2/phrdhx/tesslcs/tesslcs_sector_1_104/tesslcs_tmag_10_11/tesslc_61178236.pkl\",sector=1)"
   ]
  },
  {
   "cell_type": "code",
   "execution_count": null,
   "id": "7716d5aa-8498-4933-9936-d881083c8974",
   "metadata": {},
   "outputs": [],
   "source": [
    "time, flux, error = search_method(data)"
   ]
  },
  {
   "cell_type": "code",
   "execution_count": null,
   "id": "e998e6a5-9910-402c-9872-319786b58611",
   "metadata": {},
   "outputs": [],
   "source": [
    "params, cov = single_gaussian_curve_fit(time,-flux)\n",
    "params1, cov1 = skewed_gaussian_curve_fit(time,flux)"
   ]
  },
  {
   "cell_type": "code",
   "execution_count": null,
   "id": "f29f0541-efba-4e09-89f7-a8a3e55855f6",
   "metadata": {},
   "outputs": [],
   "source": [
    "print(f\"skewness is {round(params1[0],3)}+/-{np.sqrt(np.diag(cov1)[0])}\")"
   ]
  },
  {
   "cell_type": "code",
   "execution_count": null,
   "id": "08cdbc66-f152-49db-a8fc-0a629e6d690c",
   "metadata": {},
   "outputs": [],
   "source": [
    "params"
   ]
  },
  {
   "cell_type": "code",
   "execution_count": null,
   "id": "88e889fa-6396-4d8c-a7d7-b35747343191",
   "metadata": {},
   "outputs": [],
   "source": [
    "params1"
   ]
  },
  {
   "cell_type": "code",
   "execution_count": null,
   "id": "ef01188c-8179-485e-bfe4-1c6c29120cc7",
   "metadata": {},
   "outputs": [],
   "source": [
    "fit = -gauss(time,*params)\n",
    "fit2 = updated_skewed_gauss(time,*params1)"
   ]
  },
  {
   "cell_type": "code",
   "execution_count": null,
   "id": "40ef7c68-8809-44df-bfc4-511e2cd1adc4",
   "metadata": {},
   "outputs": [],
   "source": [
    "plot(data)"
   ]
  },
  {
   "cell_type": "code",
   "execution_count": null,
   "id": "8be8c9fb-f61c-49b8-88be-9bef0c2b2d7e",
   "metadata": {},
   "outputs": [],
   "source": [
    "len(flux)"
   ]
  },
  {
   "cell_type": "markdown",
   "id": "f4db5a1d-678a-40ff-afe8-60e52a649cf4",
   "metadata": {},
   "source": [
    "### Test interpolate"
   ]
  },
  {
   "cell_type": "code",
   "execution_count": null,
   "id": "097f8f6d-15fc-454f-b622-4d8ab043b6c7",
   "metadata": {},
   "outputs": [],
   "source": [
    "arange = np.linspace(time.min(),time.max(),5000)\n",
    "interp = np.interp(arange,time,flux)"
   ]
  },
  {
   "cell_type": "code",
   "execution_count": null,
   "id": "a5e54fa7-9e4d-42ad-8762-95cbd5a5592b",
   "metadata": {},
   "outputs": [],
   "source": [
    "plt.scatter(arange,interp)"
   ]
  },
  {
   "cell_type": "markdown",
   "id": "48916501-94ce-451f-9c4d-41e230fbe39e",
   "metadata": {},
   "source": [
    "## Example 7"
   ]
  },
  {
   "cell_type": "code",
   "execution_count": null,
   "id": "d4d53e14-722a-40e8-8687-7c5d3552aa9c",
   "metadata": {},
   "outputs": [],
   "source": [
    "lookup_tic(441422220)"
   ]
  },
  {
   "cell_type": "code",
   "execution_count": null,
   "id": "bc9a4731-a6b5-4889-9139-501d04a3c313",
   "metadata": {},
   "outputs": [],
   "source": [
    "data, lc_info = import_XRPlightcurve(\"/storage/astro2/phrdhx/tesslcs/tesslcs_sector_1_104/2_min_cadence_targets/tesslc_441422220.pkl\",sector=1)"
   ]
  },
  {
   "cell_type": "code",
   "execution_count": null,
   "id": "4e577793-cb14-421e-9afd-6b293c1611ae",
   "metadata": {},
   "outputs": [],
   "source": [
    "time, flux, error = search_method(data)"
   ]
  },
  {
   "cell_type": "code",
   "execution_count": null,
   "id": "ed3c97b6-84da-4a46-8740-201476ea8bc1",
   "metadata": {},
   "outputs": [],
   "source": [
    "params, cov = single_gaussian_curve_fit(time,-flux)\n",
    "params1, cov1 = skewed_gaussian_curve_fit(time,flux)"
   ]
  },
  {
   "cell_type": "code",
   "execution_count": null,
   "id": "5279f652-d787-430f-9b90-50c6bd1e37fc",
   "metadata": {},
   "outputs": [],
   "source": [
    "print(f\"skewness is {round(params1[0],3)}+/-{np.sqrt(np.diag(cov1)[0])}\")"
   ]
  },
  {
   "cell_type": "code",
   "execution_count": null,
   "id": "a916ad21-964a-4fd8-80e6-15f165d9168e",
   "metadata": {},
   "outputs": [],
   "source": [
    "params"
   ]
  },
  {
   "cell_type": "code",
   "execution_count": null,
   "id": "5434dca5-da5b-465d-a520-35dfa1c8712c",
   "metadata": {},
   "outputs": [],
   "source": [
    "params1"
   ]
  },
  {
   "cell_type": "code",
   "execution_count": null,
   "id": "ae0454e1-a6db-4e1f-a9ac-62db58c4499a",
   "metadata": {},
   "outputs": [],
   "source": [
    "fit = -gauss(time,*params)\n",
    "fit2 = updated_skewed_gauss(time,*params1)"
   ]
  },
  {
   "cell_type": "code",
   "execution_count": null,
   "id": "d35d89fe-6f6d-4d18-8953-bef5ea06b7de",
   "metadata": {},
   "outputs": [],
   "source": [
    "plot(data)"
   ]
  },
  {
   "cell_type": "code",
   "execution_count": null,
   "id": "c27725dd-d3c3-4b5f-8545-b9d435a1f3e6",
   "metadata": {},
   "outputs": [],
   "source": [
    "len(flux)"
   ]
  },
  {
   "cell_type": "code",
   "execution_count": null,
   "id": "f8f08072-a8fd-47e3-8a77-564d12cf5362",
   "metadata": {},
   "outputs": [],
   "source": []
  }
 ],
 "metadata": {
  "kernelspec": {
   "display_name": "auto_exo_lite",
   "language": "python",
   "name": "auto_exo_lite"
  },
  "language_info": {
   "codemirror_mode": {
    "name": "ipython",
    "version": 3
   },
   "file_extension": ".py",
   "mimetype": "text/x-python",
   "name": "python",
   "nbconvert_exporter": "python",
   "pygments_lexer": "ipython3",
   "version": "3.7.13"
  }
 },
 "nbformat": 4,
 "nbformat_minor": 5
}
