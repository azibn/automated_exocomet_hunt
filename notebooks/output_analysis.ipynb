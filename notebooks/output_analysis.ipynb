{
 "cells": [
  {
   "cell_type": "markdown",
   "metadata": {},
   "source": [
    "# Early Data Analysis\n",
    "Interpreting data from `batch_analyse.py`. The aim is to filter out the dataset to the required properties to explore potential exocomet-type transits."
   ]
  },
  {
   "cell_type": "code",
   "execution_count": 1,
   "metadata": {},
   "outputs": [
    {
     "name": "stdout",
     "output_type": "stream",
     "text": [
      "/home/astro/phrdhx/automated_exocomet_hunt\n"
     ]
    }
   ],
   "source": [
    "cd .."
   ]
  },
  {
   "cell_type": "code",
   "execution_count": 2,
   "metadata": {},
   "outputs": [],
   "source": [
    "import pandas as pd\n",
    "from matplotlib import pyplot as plt\n",
    "import matplotlib.patches as patches\n",
    "import glob\n",
    "import data\n",
    "import os\n",
    "from astropy.table import Table, unique\n",
    "from analysis_tools_cython import *\n",
    "from tqdm import tqdm"
   ]
  },
  {
   "cell_type": "markdown",
   "metadata": {},
   "source": [
    "---"
   ]
  },
  {
   "cell_type": "markdown",
   "metadata": {},
   "source": [
    "### Functions"
   ]
  },
  {
   "cell_type": "code",
   "execution_count": 3,
   "metadata": {},
   "outputs": [],
   "source": [
    "def get_output(file_path):\n",
    "    \"\"\"Imports batch_analyse output file as pandas dataframe.\"\"\"\n",
    "    with open(file_path) as f:\n",
    "        lines = f.readlines()\n",
    "    lc_lists = [word for line in lines for word in line.split()]\n",
    "    lc_lists = [lc_lists[i:i+10] for i in range(0, len(lc_lists), 10)]\n",
    "    cols = ['file','signal','signal/noise','time','asym_score','width1','width2','duration','depth','transit_prob']\n",
    "    df = pd.DataFrame(data=lc_lists,columns=cols)\n",
    "    df[cols[1:-1]] = df[cols[1:-1]].astype('float32')\n",
    "    return df\n",
    "\n",
    "def filter_df(df,min_asym_score=1.0,max_asym_score=2.0,duration=0.5,signal=-5.0):\n",
    "    \"\"\"filters df for given parameter range.\n",
    "    Default settings:\n",
    "    - `signal/noise` greater than 5.\n",
    "        - Minimum test statistic is always negative. We flip the sign in plots for convenience.\n",
    "    - `duration` set to greater than 0.5 days.\n",
    "    - `asym_score` between 1.00 to 2.0.\n",
    "    \"\"\"\n",
    "    return df[(df.duration >= duration) & (df['signal/noise'] <= signal) & (df['asym_score'] >= min_asym_score) & (df['asym_score'] <= max_asym_score)]\n",
    "\n",
    "def distribution(x,y):\n",
    "    \"\"\"plots asymmetry score vs signal/noise over a signal of 5\"\"\"\n",
    "    fig,ax = plt.subplots(figsize=(10,7))\n",
    "    ax.scatter(x,y,s=1)\n",
    "    ax.set_xlim(-0,1.9)\n",
    "    ax.set_ylim(5,30)\n",
    "    ax.set_xlabel('$\\\\alpha$')\n",
    "    ax.set_ylabel('$S$')\n",
    "    fig.tight_layout()\n"
   ]
  },
  {
   "cell_type": "markdown",
   "metadata": {},
   "source": [
    "---"
   ]
  },
  {
   "cell_type": "markdown",
   "metadata": {},
   "source": [
    "## Creating DataFrame\n",
    "- data initially used is `corrected flux`, not PCA."
   ]
  },
  {
   "cell_type": "code",
   "execution_count": null,
   "metadata": {},
   "outputs": [],
   "source": [
    "df = get_output('output_s6_corr.txt')\n",
    "filtered_df = filter_df(df)"
   ]
  },
  {
   "cell_type": "code",
   "execution_count": null,
   "metadata": {},
   "outputs": [],
   "source": [
    "df['transit_prob'].unique()"
   ]
  },
  {
   "cell_type": "markdown",
   "metadata": {},
   "source": [
    "`filtered_df` with `maybeTransit` only"
   ]
  },
  {
   "cell_type": "code",
   "execution_count": null,
   "metadata": {},
   "outputs": [],
   "source": [
    "filtered_df[filtered_df.transit_prob == 'maybeTransit']"
   ]
  },
  {
   "cell_type": "markdown",
   "metadata": {},
   "source": [
    "---"
   ]
  },
  {
   "cell_type": "markdown",
   "metadata": {},
   "source": [
    "### Raw Plot"
   ]
  },
  {
   "cell_type": "code",
   "execution_count": null,
   "metadata": {},
   "outputs": [],
   "source": [
    "distribution(df.asym_score,abs(df['signal/noise']))"
   ]
  },
  {
   "cell_type": "markdown",
   "metadata": {},
   "source": [
    "### `MaybeTransit` only"
   ]
  },
  {
   "cell_type": "code",
   "execution_count": null,
   "metadata": {
    "tags": []
   },
   "outputs": [],
   "source": [
    "fig,ax = plt.subplots(figsize=(10,7))\n",
    "ax.scatter(df.asym_score[df.transit_prob == 'maybeTransit'],abs(df['signal/noise'][df.transit_prob == 'maybeTransit']),s=1)\n",
    "ax.set_xlim(0,1.9)\n",
    "ax.set_ylim(5,30)\n",
    "ax.set_xlabel('$\\\\alpha$')\n",
    "ax.set_ylabel('$S$')\n",
    "ax.set_title('asymmetry score vs signal')\n",
    "fig.tight_layout()\n",
    "rect = patches.Rectangle((1.30, 7.40), 0.25, 4, linewidth=3, edgecolor='k', facecolor='none')\n",
    "interest_region = patches.Rectangle((1.05,7),3,20, linewidth=1,edgecolor='grey',facecolor='none') # region of interest in Kennedy et al\n",
    "ax.add_patch(rect)\n",
    "ax.add_patch(interest_region)\n",
    "plt.show()"
   ]
  },
  {
   "cell_type": "markdown",
   "metadata": {},
   "source": [
    "Next steps - apply a feature that distinguishes false positives, EB's, etc."
   ]
  },
  {
   "cell_type": "markdown",
   "metadata": {},
   "source": [
    "---\n",
    "\n",
    "### Exploring that black boxed region (S6)"
   ]
  },
  {
   "cell_type": "markdown",
   "metadata": {},
   "source": [
    "Create our box with the following settings:\n",
    "- `signal/noise` between 7.4 and 12\n",
    "- `asym_score` between 1.3 and 1.6"
   ]
  },
  {
   "cell_type": "code",
   "execution_count": null,
   "metadata": {},
   "outputs": [],
   "source": [
    "box = df[(df['signal/noise'] <= -7.4) & (df['asym_score'] >= 1.30) & (df['transit_prob'] == 'maybeTransit') & (df['asym_score'] <= 1.60) & (df['signal/noise'] >= -12)]"
   ]
  },
  {
   "cell_type": "code",
   "execution_count": null,
   "metadata": {},
   "outputs": [],
   "source": [
    "to_import = box['file']\n",
    "#example = box['file'].tail(25)"
   ]
  },
  {
   "cell_type": "markdown",
   "metadata": {},
   "source": [
    "---"
   ]
  },
  {
   "cell_type": "code",
   "execution_count": null,
   "metadata": {},
   "outputs": [],
   "source": [
    "sector = 6\n",
    "clip = 4\n",
    "path = '/storage/astro2/phrdhx/tesslcs'\n",
    "mad_df = data.load_mad()"
   ]
  },
  {
   "cell_type": "markdown",
   "metadata": {},
   "source": [
    "#### Saving TIC paths"
   ]
  },
  {
   "cell_type": "code",
   "execution_count": null,
   "metadata": {},
   "outputs": [],
   "source": [
    "# for i in tqdm(to_import):\n",
    "#     file_paths = glob.glob(os.path.join(path,f'**/**/{i}'))[0]\n",
    "#     ref = pd.read_pickle(glob.glob(os.path.join(path,f'**/**/{i}'))[0])\n",
    "#     store = import_XRPlightcurve(file_paths,sector=sector,drop_bad_points=False)[1]\n",
    "#     tic = store[0]\n",
    "#     ra = store[1]\n",
    "#     dec = store[2]\n",
    "#     to_export = [tic,ra,dec]\n",
    "#     with open(\"weird_tic_path.txt\", \"a\") as output:\n",
    "#         output.write(file_paths+'\\n')"
   ]
  },
  {
   "cell_type": "markdown",
   "metadata": {},
   "source": [
    "---"
   ]
  },
  {
   "cell_type": "code",
   "execution_count": null,
   "metadata": {},
   "outputs": [],
   "source": [
    "for i in to_import:\n",
    "    file_paths = glob.glob(os.path.join(path,f'**/**/{i}'))[0]\n",
    "    ref = pd.read_pickle(glob.glob(os.path.join(path,f'**/**/{i}'))[0])\n",
    "    table = import_XRPlightcurve(file_paths,sector=sector,drop_bad_points=True)[0]\n",
    "    store = import_XRPlightcurve(file_paths,sector=sector)[1]\n",
    "    camera = store[4]\n",
    "    tic = store[0]\n",
    "    chip = store[5]\n",
    "    fig,ax = plt.subplots(1,figsize=(10,6))\n",
    "    ax.set_title(f'TIC {tic}, Camera {camera}, Chip {chip}')\n",
    "    ax.plot(table['time'],normalise_lc(table['PCA flux']))\n",
    "    plt.show()\n",
    "    \n",
    "#     mad_arr = mad_df.loc[:len(table['time'])-1,f\"{sector}-{camera}\"]\n",
    "#     sig_clip = sigma_clip(mad_arr,sigma=clip,masked=True)\n",
    "#     med_sig_clip = np.nanmedian(sig_clip)\n",
    "#     rms_sig_clip = np.nanstd(sig_clip)\n",
    "#     mad_cut = mad_arr.values < ~sig_clip.mask \n",
    "    \n",
    "\n",
    "#     fig, ax = plt.subplots(2,2,figsize=(10,8))\n",
    "#     ax[0,1].scatter(table['time'], mad_arr, s=2)\n",
    "#     ax[0,1].axhline(np.nanmedian(mad_arr), c='r')\n",
    "#     ax[0,0].scatter(range(0,len(table['time'])), mad_arr, s=2)\n",
    "#     ax[0,0].axhline(np.nanmedian(mad_arr), c='r')\n",
    "#     ax[0,0].axhline(med_sig_clip + clip*rms_sig_clip, c='r')\n",
    "#     ax[0,0].set_title(f'S{sector}-C{camera}')\n",
    "#     plt.show()"
   ]
  },
  {
   "cell_type": "code",
   "execution_count": null,
   "metadata": {},
   "outputs": [],
   "source": []
  },
  {
   "cell_type": "code",
   "execution_count": null,
   "metadata": {},
   "outputs": [],
   "source": []
  }
 ],
 "metadata": {
  "kernelspec": {
   "display_name": "Python 3",
   "language": "python",
   "name": "python3"
  },
  "language_info": {
   "codemirror_mode": {
    "name": "ipython",
    "version": 3
   },
   "file_extension": ".py",
   "mimetype": "text/x-python",
   "name": "python",
   "nbconvert_exporter": "python",
   "pygments_lexer": "ipython3",
   "version": "3.7.12"
  }
 },
 "nbformat": 4,
 "nbformat_minor": 4
}
