{
 "cells": [
  {
   "cell_type": "code",
   "execution_count": 2,
   "id": "f826c449-24c6-4bc9-911f-0b69983cded9",
   "metadata": {},
   "outputs": [],
   "source": [
    "import os\n",
    "\n",
    "os.chdir(\"../\")\n",
    "import numpy as np\n",
    "import matplotlib.pyplot as plt\n",
    "import pandas as pd\n",
    "\n",
    "plt.rcParams[\"figure.figsize\"] = (20, 10)"
   ]
  },
  {
   "cell_type": "markdown",
   "id": "092c2c1a-147c-47ac-b0a1-ab498aacc63b",
   "metadata": {},
   "source": [
    "## 10^[-3] line"
   ]
  },
  {
   "cell_type": "code",
   "execution_count": 3,
   "id": "c9b4f31f-695a-46c3-bc39-abbce3925594",
   "metadata": {},
   "outputs": [],
   "source": [
    "onehalfday = np.load(\"onehalfday.npy\")\n",
    "twoday = np.load(\"twoday.npy\")\n",
    "twohalfday = np.load(\"twohalfday.npy\")\n",
    "threeday = np.load(\"threeday.npy\")\n",
    "threehalfday = np.load(\"threehalfday.npy\")\n",
    "fourday = np.load(\"fourday.npy\")\n",
    "fourhalfday = np.load(\"fourhalfday.npy\")\n",
    "fivehalfday = np.load(\"fivehalfday.npy\")\n",
    "sixday = np.load(\"sixday.npy\")\n",
    "eightday = np.load(\"eightday.npy\")"
   ]
  },
  {
   "cell_type": "code",
   "execution_count": 4,
   "id": "2b6ba08e-77df-43e8-895e-4359dcf6bb86",
   "metadata": {},
   "outputs": [],
   "source": [
    "data = np.stack(\n",
    "    [\n",
    "        onehalfday,\n",
    "        twoday,\n",
    "        twohalfday,\n",
    "        threeday,\n",
    "        threehalfday,\n",
    "        fourday,\n",
    "        fourhalfday,\n",
    "        fivehalfday,\n",
    "        sixday,\n",
    "        eightday,\n",
    "    ],\n",
    "    axis=1,\n",
    ")\n",
    "window_length = [1.5, 2, 2.5, 3, 3.5]"
   ]
  },
  {
   "cell_type": "code",
   "execution_count": 5,
   "id": "88401be5-b8b0-4806-8504-9c8494a21e94",
   "metadata": {},
   "outputs": [
    {
     "data": {
      "text/plain": [
       "[0.2918757629187576,\n",
       " 0.3013258897418004,\n",
       " 0.3283374965306689,\n",
       " 0.34948338452946104,\n",
       " 0.33651551312649164,\n",
       " 0.25783535311324696,\n",
       " 0.12432814710042432,\n",
       " 0.04056655665566557,\n",
       " 0.026967224450283503]"
      ]
     },
     "execution_count": 5,
     "metadata": {},
     "output_type": "execute_result"
    }
   ],
   "source": [
    "onehalf = [i[0] for i in data]\n",
    "onehalf"
   ]
  },
  {
   "cell_type": "code",
   "execution_count": 6,
   "id": "8e53008e-b1ed-46b4-8f8a-99612261bba5",
   "metadata": {},
   "outputs": [
    {
     "data": {
      "text/plain": [
       "(0.0, 1.0)"
      ]
     },
     "execution_count": 6,
     "metadata": {},
     "output_type": "execute_result"
    },
    {
     "data": {
      "image/png": "[encoded data removed]",
      "text/plain": [
       "<Figure size 1440x720 with 1 Axes>"
      ]
     },
     "metadata": {
      "needs_background": "light"
     },
     "output_type": "display_data"
    }
   ],
   "source": [
    "y_pos = np.arange(len(onehalf))\n",
    "\n",
    "n_groups = 8\n",
    "index = np.arange(n_groups)\n",
    "bar_width = 0.1\n",
    "\n",
    "fig, ax = plt.subplots()\n",
    "# plt.bar(y_pos, onehalfday, align=\"edge\", alpha=0.5, width=0.05, label=\"1.5\")\n",
    "plt.bar(y_pos, twoday, align=\"edge\", alpha=0.5, width=0.05, label=\"2.0\")\n",
    "plt.bar(y_pos + bar_width, twohalfday, align=\"edge\", alpha=0.5, width=0.05, label=\"2.5\")\n",
    "plt.bar(\n",
    "    y_pos + 2 * bar_width, threeday, align=\"edge\", alpha=0.5, width=0.05, label=\"3.0\"\n",
    ")\n",
    "plt.bar(\n",
    "    y_pos + 3 * bar_width,\n",
    "    threehalfday,\n",
    "    align=\"edge\",\n",
    "    alpha=0.5,\n",
    "    width=0.05,\n",
    "    label=\"3.5\",\n",
    ")\n",
    "\n",
    "plt.bar(\n",
    "    y_pos + 4 * bar_width,\n",
    "    fourday,\n",
    "    align=\"edge\",\n",
    "    alpha=0.5,\n",
    "    width=0.05,\n",
    "    label=\"4\",\n",
    ")\n",
    "\n",
    "plt.bar(\n",
    "    y_pos + 5 * bar_width,\n",
    "    fourhalfday,\n",
    "    align=\"edge\",\n",
    "    alpha=0.5,\n",
    "    width=0.05,\n",
    "    label=\"4.5\",\n",
    ")\n",
    "\n",
    "plt.bar(\n",
    "    y_pos + 6 * bar_width,\n",
    "    fivehalfday,\n",
    "    align=\"edge\",\n",
    "    alpha=0.5,\n",
    "    width=0.05,\n",
    "    label=\"5.5\",\n",
    ")\n",
    "\n",
    "plt.bar(\n",
    "    y_pos + 7 * bar_width,\n",
    "    sixday,\n",
    "    align=\"edge\",\n",
    "    alpha=0.5,\n",
    "    width=0.05,\n",
    "    label=\"6\",\n",
    ")\n",
    "\n",
    "plt.bar(\n",
    "    y_pos + 8 * bar_width,\n",
    "    eightday,\n",
    "    align=\"edge\",\n",
    "    alpha=0.5,\n",
    "    width=0.05,\n",
    "    label=\"8\",\n",
    ")\n",
    "\n",
    "plt.xticks(\n",
    "    y_pos, [\"6-7\", \"7-8\", \"8-9\", \"9-10\", \"10-11\", \"11-12\", \"12-13\", \"13-14\", \"14-15\"]\n",
    ")\n",
    "plt.ylabel(\"recovery rate\")\n",
    "plt.xlabel(\"mag\")\n",
    "plt.legend()\n",
    "plt.ylim([0, 1])"
   ]
  },
  {
   "cell_type": "markdown",
   "id": "0522a9f0-2d2c-47c8-af3c-e84c21442c6b",
   "metadata": {},
   "source": [
    "#### Note:\n",
    "- Samples are a lot smaller for 8 and 13 day because it would take a very long time."
   ]
  },
  {
   "cell_type": "markdown",
   "id": "a38d0ead-d895-4457-9f3b-73c46d9cad09",
   "metadata": {},
   "source": [
    "---"
   ]
  },
  {
   "cell_type": "markdown",
   "id": "9169552f-34f9-46fd-a87f-160096faa3de",
   "metadata": {},
   "source": [
    "## Number of stars in specific magnitudes"
   ]
  },
  {
   "cell_type": "code",
   "execution_count": 7,
   "id": "cfc28ce2-5389-4383-b7a6-617a2cc273e0",
   "metadata": {},
   "outputs": [
    {
     "name": "stdout",
     "output_type": "stream",
     "text": [
      "/storage/astro2/phrdhx/tesslcs\n"
     ]
    }
   ],
   "source": [
    "cd / storage / astro2 / phrdhx / tesslcs"
   ]
  },
  {
   "cell_type": "code",
   "execution_count": 8,
   "id": "5d8992d4-3852-4ed6-88f3-7e1dd16dd0d4",
   "metadata": {},
   "outputs": [],
   "source": [
    "data = pd.read_csv(\"sector6lookup.csv\")"
   ]
  },
  {
   "cell_type": "code",
   "execution_count": 9,
   "id": "ea9f79ef-68c8-4e28-9ef8-f4f5e2bd4904",
   "metadata": {},
   "outputs": [],
   "source": [
    "mag_6_7 = len(data.loc[(data.Magnitude >= 6) & (data.Magnitude <= 7)])\n",
    "mag_7_8 = len(data.loc[(data.Magnitude >= 7) & (data.Magnitude <= 8)])\n",
    "mag_8_9 = len(data.loc[(data.Magnitude >= 8) & (data.Magnitude <= 9)])\n",
    "mag_9_10 = len(data.loc[(data.Magnitude >= 9) & (data.Magnitude <= 10)])\n",
    "mag_10_11 = len(data.loc[(data.Magnitude >= 10) & (data.Magnitude <= 11)])\n",
    "mag_11_12 = len(data.loc[(data.Magnitude >= 11) & (data.Magnitude <= 12)])\n",
    "mag_12_13 = len(data.loc[(data.Magnitude >= 12) & (data.Magnitude <= 13)])\n",
    "mag_13_14 = len(data.loc[(data.Magnitude >= 13) & (data.Magnitude <= 14)])\n",
    "mag_14_15 = len(data.loc[(data.Magnitude >= 14) & (data.Magnitude <= 15)])"
   ]
  },
  {
   "cell_type": "code",
   "execution_count": 10,
   "id": "89547af6-f081-4db1-b415-f3d7c393303c",
   "metadata": {},
   "outputs": [
    {
     "data": {
      "text/plain": [
       "[0.2918757629187576,\n",
       " 0.3013258897418004,\n",
       " 0.3283374965306689,\n",
       " 0.34948338452946104,\n",
       " 0.33651551312649164,\n",
       " 0.25783535311324696,\n",
       " 0.12432814710042432,\n",
       " 0.04056655665566557,\n",
       " 0.026967224450283503]"
      ]
     },
     "execution_count": 10,
     "metadata": {},
     "output_type": "execute_result"
    }
   ],
   "source": [
    "onehalf"
   ]
  },
  {
   "cell_type": "code",
   "execution_count": 11,
   "id": "b72209df-0790-4d23-8163-9cbbd39090f9",
   "metadata": {},
   "outputs": [
    {
     "name": "stdout",
     "output_type": "stream",
     "text": [
      "493.8537908585379\n",
      "1465.0464759246336\n",
      "4160.364418540105\n",
      "10865.438425020944\n",
      "24155.420047732696\n",
      "41165.99247806101\n",
      "42491.00919377652\n",
      "28950.079757975796\n",
      "38884.52634490389\n"
     ]
    }
   ],
   "source": [
    "print(mag_6_7 * onehalf[0])\n",
    "print(mag_7_8 * onehalf[1])\n",
    "print(mag_8_9 * onehalf[2])\n",
    "print(mag_9_10 * onehalf[3])\n",
    "print(mag_10_11 * onehalf[4])\n",
    "print(mag_11_12 * onehalf[5])\n",
    "print(mag_12_13 * onehalf[6])\n",
    "print(mag_13_14 * onehalf[-2])\n",
    "print(mag_14_15 * onehalf[-1])"
   ]
  },
  {
   "cell_type": "code",
   "execution_count": 12,
   "id": "7b01452e-9f51-4069-abf5-e19451afa8b8",
   "metadata": {},
   "outputs": [
    {
     "data": {
      "text/plain": [
       "0.026967226985168364"
      ]
     },
     "execution_count": 12,
     "metadata": {},
     "output_type": "execute_result"
    }
   ],
   "source": [
    "38884.53 / mag_14_15"
   ]
  },
  {
   "cell_type": "code",
   "execution_count": 13,
   "id": "86e80915-d3e7-4cce-b8dc-53aedcaee22e",
   "metadata": {},
   "outputs": [
    {
     "name": "stdout",
     "output_type": "stream",
     "text": [
      "545.2560715807414\n",
      "1611.6454216532145\n",
      "4463.768692243069\n",
      "11247.636261734622\n",
      "26419.744371416586\n",
      "50119.51357466063\n",
      "58710.204506314585\n",
      "40336.831964360295\n",
      "50157.15875887018\n"
     ]
    }
   ],
   "source": [
    "print(mag_6_7 * twoday[0])\n",
    "print(mag_7_8 * twoday[1])\n",
    "print(mag_8_9 * twoday[2])\n",
    "print(mag_9_10 * twoday[3])\n",
    "print(mag_10_11 * twoday[4])\n",
    "print(mag_11_12 * twoday[5])\n",
    "print(mag_12_13 * twoday[6])\n",
    "print(mag_13_14 * twoday[-2])\n",
    "print(mag_14_15 * twoday[-1])"
   ]
  },
  {
   "cell_type": "code",
   "execution_count": 14,
   "id": "ce1a192d-5e6c-48c7-bf32-0ae71fae2352",
   "metadata": {},
   "outputs": [
    {
     "name": "stdout",
     "output_type": "stream",
     "text": [
      "548.2979084228377\n",
      "1647.6369137670197\n",
      "4513.255192034139\n",
      "11681.438698915763\n",
      "27543.98742572889\n",
      "52982.84082996797\n",
      "63693.00223526124\n",
      "45782.85120910384\n",
      "49574.78388998036\n"
     ]
    }
   ],
   "source": [
    "print(mag_6_7 * twohalfday[0])\n",
    "print(mag_7_8 * twohalfday[1])\n",
    "print(mag_8_9 * twohalfday[2])\n",
    "print(mag_9_10 * twohalfday[3])\n",
    "print(mag_10_11 * twohalfday[4])\n",
    "print(mag_11_12 * twohalfday[5])\n",
    "print(mag_12_13 * twohalfday[6])\n",
    "print(mag_13_14 * twohalfday[-2])\n",
    "print(mag_14_15 * twohalfday[-1])"
   ]
  },
  {
   "cell_type": "code",
   "execution_count": 15,
   "id": "d5aa8561-4c8c-44fe-ac52-36f99c257acc",
   "metadata": {},
   "outputs": [
    {
     "data": {
      "text/plain": [
       "0.034381136791412546"
      ]
     },
     "execution_count": 15,
     "metadata": {},
     "output_type": "execute_result"
    }
   ],
   "source": [
    "49574.78 / mag_14_15"
   ]
  },
  {
   "cell_type": "markdown",
   "id": "f7b4ca63-a239-4b3a-895a-1f1d0820f3c1",
   "metadata": {},
   "source": [
    "---"
   ]
  },
  {
   "cell_type": "markdown",
   "id": "a375da55-fb8d-4d03-9345-e840996ee624",
   "metadata": {},
   "source": [
    "## 5^[-4] line"
   ]
  },
  {
   "cell_type": "code",
   "execution_count": 16,
   "id": "79fc3fe9-a64d-4c07-97d1-8959852f2b14",
   "metadata": {},
   "outputs": [
    {
     "name": "stdout",
     "output_type": "stream",
     "text": [
      "/home/astro/phrdhx/automated_exocomet_hunt\n"
     ]
    }
   ],
   "source": [
    "cd / home / astro / phrdhx / automated_exocomet_hunt"
   ]
  },
  {
   "cell_type": "code",
   "execution_count": 17,
   "id": "fab25883-37f7-4dde-ada9-1012ae023e8c",
   "metadata": {},
   "outputs": [],
   "source": [
    "onehalfday = np.load(\"oneehalfday_5e-4.npy\")\n",
    "twoday = np.load(\"twoday_5e-4.npy\")\n",
    "twohalfday = np.load(\"twohalfday_5e-4.npy\")\n",
    "threeday = np.load(\"threeday_5e-4.npy\")\n",
    "threehalfday = np.load(\"threehalfday_5e-4.npy\")\n",
    "fourday = np.load(\"fourday_5e-4.npy\")\n",
    "fourhalfday = np.load(\"fourhalfday_5e-4.npy\")\n",
    "fivehalfday = np.load(\"fivehalfday_5e-4.npy\")\n",
    "sixday = np.load(\"sixday_5e-4.npy\")\n",
    "eightday = np.load(\"eightday_5e-4.npy\")"
   ]
  },
  {
   "cell_type": "code",
   "execution_count": 18,
   "id": "fefc1f8e-b934-4f2b-a908-1420bb58029b",
   "metadata": {},
   "outputs": [],
   "source": [
    "data = np.stack(\n",
    "    [\n",
    "        onehalfday,\n",
    "        twoday,\n",
    "        twohalfday,\n",
    "        threeday,\n",
    "        threehalfday,\n",
    "        fourday,\n",
    "        fourhalfday,\n",
    "        fivehalfday,\n",
    "        sixday,\n",
    "        eightday,\n",
    "    ],\n",
    "    axis=1,\n",
    ")\n",
    "window_length = [1.5, 2, 2.5, 3, 3.5]"
   ]
  },
  {
   "cell_type": "code",
   "execution_count": 19,
   "id": "7fd08bbb-a215-4f27-8a64-bf5298f8c6d1",
   "metadata": {},
   "outputs": [
    {
     "data": {
      "text/plain": [
       "[0.14363298556524226,\n",
       " 0.17111548187693174,\n",
       " 0.17445225299710623,\n",
       " 0.1821529745042493,\n",
       " 0.13940942646223736,\n",
       " 0.061284455016090665,\n",
       " 0.020185029436501262,\n",
       " 0.009821804405780834,\n",
       " 0.008961075329039486]"
      ]
     },
     "execution_count": 19,
     "metadata": {},
     "output_type": "execute_result"
    }
   ],
   "source": [
    "onehalf = [i[0] for i in data]\n",
    "onehalf"
   ]
  },
  {
   "cell_type": "code",
   "execution_count": 20,
   "id": "baf6ef03-a65a-436a-b57a-dd6a2da2722a",
   "metadata": {},
   "outputs": [
    {
     "data": {
      "text/plain": [
       "(0.0, 1.0)"
      ]
     },
     "execution_count": 20,
     "metadata": {},
     "output_type": "execute_result"
    },
    {
     "data": {
      "image/png": "[encoded data removed]",
      "text/plain": [
       "<Figure size 1440x720 with 1 Axes>"
      ]
     },
     "metadata": {
      "needs_background": "light"
     },
     "output_type": "display_data"
    }
   ],
   "source": [
    "y_pos = np.arange(len(onehalf))\n",
    "\n",
    "n_groups = 8\n",
    "index = np.arange(n_groups)\n",
    "bar_width = 0.1\n",
    "\n",
    "fig, ax = plt.subplots()\n",
    "# plt.bar(y_pos, onehalfday, align=\"edge\", alpha=0.5, width=0.05, label=\"1.5\")\n",
    "plt.bar(y_pos, twoday, align=\"edge\", alpha=0.5, width=0.05, label=\"2.0\")\n",
    "plt.bar(y_pos + bar_width, twohalfday, align=\"edge\", alpha=0.5, width=0.05, label=\"2.5\")\n",
    "plt.bar(\n",
    "    y_pos + 2 * bar_width, threeday, align=\"edge\", alpha=0.5, width=0.05, label=\"3.0\"\n",
    ")\n",
    "plt.bar(\n",
    "    y_pos + 3 * bar_width,\n",
    "    threehalfday,\n",
    "    align=\"edge\",\n",
    "    alpha=0.5,\n",
    "    width=0.05,\n",
    "    label=\"3.5\",\n",
    ")\n",
    "\n",
    "plt.bar(\n",
    "    y_pos + 4 * bar_width,\n",
    "    fourday,\n",
    "    align=\"edge\",\n",
    "    alpha=0.5,\n",
    "    width=0.05,\n",
    "    label=\"4\",\n",
    ")\n",
    "\n",
    "plt.bar(\n",
    "    y_pos + 5 * bar_width,\n",
    "    fourhalfday,\n",
    "    align=\"edge\",\n",
    "    alpha=0.5,\n",
    "    width=0.05,\n",
    "    label=\"4.5\",\n",
    ")\n",
    "\n",
    "plt.bar(\n",
    "    y_pos + 6 * bar_width,\n",
    "    fivehalfday,\n",
    "    align=\"edge\",\n",
    "    alpha=0.5,\n",
    "    width=0.05,\n",
    "    label=\"5.5\",\n",
    ")\n",
    "\n",
    "plt.bar(\n",
    "    y_pos + 7 * bar_width,\n",
    "    sixday,\n",
    "    align=\"edge\",\n",
    "    alpha=0.5,\n",
    "    width=0.05,\n",
    "    label=\"6\",\n",
    ")\n",
    "\n",
    "plt.bar(\n",
    "    y_pos + 8 * bar_width,\n",
    "    eightday,\n",
    "    align=\"edge\",\n",
    "    alpha=0.5,\n",
    "    width=0.05,\n",
    "    label=\"8\",\n",
    ")\n",
    "\n",
    "plt.xticks(\n",
    "    y_pos, [\"6-7\", \"7-8\", \"8-9\", \"9-10\", \"10-11\", \"11-12\", \"12-13\", \"13-14\", \"14-15\"]\n",
    ")\n",
    "plt.ylabel(\"recovery rate\")\n",
    "plt.xlabel(\"mag\")\n",
    "plt.legend()\n",
    "plt.ylim([0, 1])"
   ]
  },
  {
   "cell_type": "markdown",
   "id": "2561ea54-6617-4648-a290-c353e5329072",
   "metadata": {},
   "source": [
    "## 10^[-2]"
   ]
  },
  {
   "cell_type": "code",
   "execution_count": 21,
   "id": "1fa95b74-d271-4a30-b3ed-5b254720fbf5",
   "metadata": {},
   "outputs": [],
   "source": [
    "onehalfday = np.load(\"onehalfday_10e-2.npy\")\n",
    "twoday = np.load(\"twoday_10e-2.npy\")\n",
    "twohalfday = np.load(\"twohalfday_10e-2.npy\")\n",
    "threeday = np.load(\"threeday_10e-2.npy\")\n",
    "threehalfday = np.load(\"threehalfday_10e-2.npy\")\n",
    "fourday = np.load(\"fourday_10e-2.npy\")\n",
    "fourhalfday = np.load(\"fourhalfday_10e-2.npy\")\n",
    "fivehalfday = np.load(\"fivehalfday_10e-2.npy\")\n",
    "sixday = np.load(\"sixday_10e-2.npy\")\n",
    "eightday = np.load(\"eightday_10e-2.npy\")"
   ]
  },
  {
   "cell_type": "code",
   "execution_count": 22,
   "id": "ff81d39e-57c4-4bd2-8d60-b1fa64822d5d",
   "metadata": {},
   "outputs": [],
   "source": [
    "# data = np.stack([onehalfday, twoday, twohalfday, threeday, threehalfday,fourday, fourhalfday, fivehalfday, sixday, eightday], axis=1)\n",
    "window_length = [1.5, 2, 2.5, 3, 3.5]"
   ]
  },
  {
   "cell_type": "code",
   "execution_count": 23,
   "id": "f66d5736-a4fe-4694-8cc3-6d4530bc09a2",
   "metadata": {},
   "outputs": [
    {
     "data": {
      "text/plain": [
       "[0.14363298556524226,\n",
       " 0.17111548187693174,\n",
       " 0.17445225299710623,\n",
       " 0.1821529745042493,\n",
       " 0.13940942646223736,\n",
       " 0.061284455016090665,\n",
       " 0.020185029436501262,\n",
       " 0.009821804405780834,\n",
       " 0.008961075329039486]"
      ]
     },
     "execution_count": 23,
     "metadata": {},
     "output_type": "execute_result"
    }
   ],
   "source": [
    "onehalf = [i[0] for i in data]\n",
    "onehalf"
   ]
  },
  {
   "cell_type": "code",
   "execution_count": 24,
   "id": "017c088f-58dd-41be-a013-4629d703c07b",
   "metadata": {},
   "outputs": [
    {
     "data": {
      "text/plain": [
       "(0.0, 1.0)"
      ]
     },
     "execution_count": 24,
     "metadata": {},
     "output_type": "execute_result"
    },
    {
     "data": {
      "image/png": "[encoded data removed]",
      "text/plain": [
       "<Figure size 1440x720 with 1 Axes>"
      ]
     },
     "metadata": {
      "needs_background": "light"
     },
     "output_type": "display_data"
    }
   ],
   "source": [
    "y_pos = np.arange(len(onehalf))\n",
    "\n",
    "n_groups = 8\n",
    "index = np.arange(n_groups)\n",
    "bar_width = 0.1\n",
    "\n",
    "fig, ax = plt.subplots()\n",
    "# plt.bar(y_pos, onehalfday, align=\"edge\", alpha=0.5, width=0.05, label=\"1.5\")\n",
    "plt.bar(y_pos, twoday, align=\"edge\", alpha=0.5, width=0.05, label=\"2.0\")\n",
    "plt.bar(y_pos + bar_width, twohalfday, align=\"edge\", alpha=0.5, width=0.05, label=\"2.5\")\n",
    "plt.bar(\n",
    "    y_pos + 2 * bar_width, threeday, align=\"edge\", alpha=0.5, width=0.05, label=\"3.0\"\n",
    ")\n",
    "plt.bar(\n",
    "    y_pos + 3 * bar_width,\n",
    "    threehalfday,\n",
    "    align=\"edge\",\n",
    "    alpha=0.5,\n",
    "    width=0.05,\n",
    "    label=\"3.5\",\n",
    ")\n",
    "\n",
    "plt.bar(\n",
    "    y_pos + 4 * bar_width,\n",
    "    fourday,\n",
    "    align=\"edge\",\n",
    "    alpha=0.5,\n",
    "    width=0.05,\n",
    "    label=\"4\",\n",
    ")\n",
    "\n",
    "plt.bar(\n",
    "    y_pos + 5 * bar_width,\n",
    "    fourhalfday,\n",
    "    align=\"edge\",\n",
    "    alpha=0.5,\n",
    "    width=0.05,\n",
    "    label=\"4.5\",\n",
    ")\n",
    "\n",
    "plt.bar(\n",
    "    y_pos + 6 * bar_width,\n",
    "    fivehalfday,\n",
    "    align=\"edge\",\n",
    "    alpha=0.5,\n",
    "    width=0.05,\n",
    "    label=\"5.5\",\n",
    ")\n",
    "\n",
    "plt.bar(\n",
    "    y_pos + 7 * bar_width,\n",
    "    sixday,\n",
    "    align=\"edge\",\n",
    "    alpha=0.5,\n",
    "    width=0.05,\n",
    "    label=\"6\",\n",
    ")\n",
    "\n",
    "plt.bar(\n",
    "    y_pos + 8 * bar_width,\n",
    "    eightday,\n",
    "    align=\"edge\",\n",
    "    alpha=0.5,\n",
    "    width=0.05,\n",
    "    label=\"8\",\n",
    ")\n",
    "\n",
    "plt.xticks(\n",
    "    y_pos, [\"6-7\", \"7-8\", \"8-9\", \"9-10\", \"10-11\", \"11-12\", \"12-13\", \"13-14\", \"14-15\"]\n",
    ")\n",
    "plt.ylabel(\"recovery rate\")\n",
    "plt.xlabel(\"mag\")\n",
    "plt.legend()\n",
    "plt.ylim([0, 1])"
   ]
  },
  {
   "cell_type": "code",
   "execution_count": null,
   "id": "a784b56f-2935-4b81-b895-344c3d982e44",
   "metadata": {},
   "outputs": [],
   "source": []
  },
  {
   "cell_type": "code",
   "execution_count": null,
   "id": "abeac10d-cd00-4697-933f-ea8651d3daa2",
   "metadata": {},
   "outputs": [],
   "source": []
  },
  {
   "cell_type": "code",
   "execution_count": null,
   "id": "51cc6219-df58-453b-8bb2-4d4d4a40dc0e",
   "metadata": {},
   "outputs": [],
   "source": []
  },
  {
   "cell_type": "code",
   "execution_count": null,
   "id": "552d2252-f38c-4642-90df-3bdb2d93e8ff",
   "metadata": {},
   "outputs": [],
   "source": []
  }
 ],
 "metadata": {
  "kernelspec": {
   "display_name": "auto_exo_lite",
   "language": "python",
   "name": "auto_exo_lite"
  },
  "language_info": {
   "codemirror_mode": {
    "name": "ipython",
    "version": 3
   },
   "file_extension": ".py",
   "mimetype": "text/x-python",
   "name": "python",
   "nbconvert_exporter": "python",
   "pygments_lexer": "ipython3",
   "version": "3.7.13"
  }
 },
 "nbformat": 4,
 "nbformat_minor": 5
}
