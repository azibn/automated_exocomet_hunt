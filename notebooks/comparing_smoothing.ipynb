{
 "cells": [
  {
   "cell_type": "code",
   "execution_count": 1,
   "id": "8940621a-1c26-4f62-b216-1d15279b791c",
   "metadata": {},
   "outputs": [
    {
     "name": "stdout",
     "output_type": "stream",
     "text": [
      "/home/astro/phrdhx/automated_exocomet_hunt\n"
     ]
    }
   ],
   "source": [
    "cd .."
   ]
  },
  {
   "cell_type": "code",
   "execution_count": 2,
   "id": "cefc74dc-09e9-4a93-9163-e4361a58564c",
   "metadata": {},
   "outputs": [],
   "source": [
    "from analysis_tools_cython import *\n",
    "from post_processing_tools import *"
   ]
  },
  {
   "cell_type": "code",
   "execution_count": 3,
   "id": "a19ee4d1-232f-4885-8d52-f1cfca75cd4b",
   "metadata": {},
   "outputs": [],
   "source": [
    "fourier = get_output('output_log_xrp/output_s6_fourier.txt')\n",
    "lowess = get_output('output_log_xrp/output_lowess.txt')\n",
    "median = get_output('output_log_xrp/output_median.txt')"
   ]
  },
  {
   "cell_type": "code",
   "execution_count": 4,
   "id": "7f86f06e-7788-4d68-96eb-a8517e2aa67b",
   "metadata": {},
   "outputs": [
    {
     "data": {
      "text/html": [
       "<div>\n",
       "<style scoped>\n",
       "    .dataframe tbody tr th:only-of-type {\n",
       "        vertical-align: middle;\n",
       "    }\n",
       "\n",
       "    .dataframe tbody tr th {\n",
       "        vertical-align: top;\n",
       "    }\n",
       "\n",
       "    .dataframe thead th {\n",
       "        text-align: right;\n",
       "    }\n",
       "</style>\n",
       "<table border=\"1\" class=\"dataframe\">\n",
       "  <thead>\n",
       "    <tr style=\"text-align: right;\">\n",
       "      <th></th>\n",
       "      <th>file</th>\n",
       "      <th>signal</th>\n",
       "      <th>signal/noise</th>\n",
       "      <th>time</th>\n",
       "      <th>asym_score</th>\n",
       "      <th>width1</th>\n",
       "      <th>width2</th>\n",
       "      <th>duration</th>\n",
       "      <th>depth</th>\n",
       "      <th>transit_prob</th>\n",
       "    </tr>\n",
       "  </thead>\n",
       "  <tbody>\n",
       "    <tr>\n",
       "      <th>0</th>\n",
       "      <td>tesslc_375145888.pkl</td>\n",
       "      <td>-7.507417</td>\n",
       "      <td>-3.251914</td>\n",
       "      <td>1489.637560</td>\n",
       "      <td>-2.000000</td>\n",
       "      <td>-2.000000</td>\n",
       "      <td>-2.000000</td>\n",
       "      <td>0.187499</td>\n",
       "      <td>153164.748494</td>\n",
       "      <td>end</td>\n",
       "    </tr>\n",
       "    <tr>\n",
       "      <th>1</th>\n",
       "      <td>tesslc_34509225.pkl</td>\n",
       "      <td>-5.945832</td>\n",
       "      <td>-2.847130</td>\n",
       "      <td>1487.286242</td>\n",
       "      <td>-2.000000</td>\n",
       "      <td>-2.000000</td>\n",
       "      <td>-2.000000</td>\n",
       "      <td>2.458280</td>\n",
       "      <td>55076.774318</td>\n",
       "      <td>end</td>\n",
       "    </tr>\n",
       "    <tr>\n",
       "      <th>2</th>\n",
       "      <td>tesslc_101200589.pkl</td>\n",
       "      <td>-6.352374</td>\n",
       "      <td>-2.667051</td>\n",
       "      <td>1479.368148</td>\n",
       "      <td>1.033405</td>\n",
       "      <td>0.096194</td>\n",
       "      <td>0.024944</td>\n",
       "      <td>0.208336</td>\n",
       "      <td>95130.284723</td>\n",
       "      <td>artefact</td>\n",
       "    </tr>\n",
       "    <tr>\n",
       "      <th>3</th>\n",
       "      <td>tesslc_95111659.pkl</td>\n",
       "      <td>-6.626772</td>\n",
       "      <td>-3.834062</td>\n",
       "      <td>1470.057050</td>\n",
       "      <td>-2.000000</td>\n",
       "      <td>-2.000000</td>\n",
       "      <td>-2.000000</td>\n",
       "      <td>0.354164</td>\n",
       "      <td>158569.246064</td>\n",
       "      <td>end</td>\n",
       "    </tr>\n",
       "    <tr>\n",
       "      <th>4</th>\n",
       "      <td>tesslc_156428313.pkl</td>\n",
       "      <td>-22.742157</td>\n",
       "      <td>-7.190606</td>\n",
       "      <td>1473.433157</td>\n",
       "      <td>1.191076</td>\n",
       "      <td>0.000129</td>\n",
       "      <td>0.087831</td>\n",
       "      <td>0.124998</td>\n",
       "      <td>54444.251819</td>\n",
       "      <td>maybeTransit</td>\n",
       "    </tr>\n",
       "  </tbody>\n",
       "</table>\n",
       "</div>"
      ],
      "text/plain": [
       "                   file     signal  signal/noise         time  asym_score  \\\n",
       "0  tesslc_375145888.pkl  -7.507417     -3.251914  1489.637560   -2.000000   \n",
       "1   tesslc_34509225.pkl  -5.945832     -2.847130  1487.286242   -2.000000   \n",
       "2  tesslc_101200589.pkl  -6.352374     -2.667051  1479.368148    1.033405   \n",
       "3   tesslc_95111659.pkl  -6.626772     -3.834062  1470.057050   -2.000000   \n",
       "4  tesslc_156428313.pkl -22.742157     -7.190606  1473.433157    1.191076   \n",
       "\n",
       "     width1    width2  duration          depth  transit_prob  \n",
       "0 -2.000000 -2.000000  0.187499  153164.748494           end  \n",
       "1 -2.000000 -2.000000  2.458280   55076.774318           end  \n",
       "2  0.096194  0.024944  0.208336   95130.284723      artefact  \n",
       "3 -2.000000 -2.000000  0.354164  158569.246064           end  \n",
       "4  0.000129  0.087831  0.124998   54444.251819  maybeTransit  "
      ]
     },
     "execution_count": 4,
     "metadata": {},
     "output_type": "execute_result"
    }
   ],
   "source": [
    "fourier.head()"
   ]
  },
  {
   "cell_type": "code",
   "execution_count": 5,
   "id": "ac3e64a3-67fe-4317-bdde-703c9f028c62",
   "metadata": {},
   "outputs": [],
   "source": [
    "fourier = filter_df(fourier,min_asym_score=1.00,signal=5)\n",
    "#lowess = filter_df(lowess,min_asym_score=1.00,signal=5)\n",
    "#median = filter_df(median,min_asym_score=1.00,signal=5)"
   ]
  },
  {
   "cell_type": "code",
   "execution_count": 6,
   "id": "a83c70a0-1613-4a1d-8829-527591ca8668",
   "metadata": {},
   "outputs": [
    {
     "data": {
      "text/html": [
       "<div>\n",
       "<style scoped>\n",
       "    .dataframe tbody tr th:only-of-type {\n",
       "        vertical-align: middle;\n",
       "    }\n",
       "\n",
       "    .dataframe tbody tr th {\n",
       "        vertical-align: top;\n",
       "    }\n",
       "\n",
       "    .dataframe thead th {\n",
       "        text-align: right;\n",
       "    }\n",
       "</style>\n",
       "<table border=\"1\" class=\"dataframe\">\n",
       "  <thead>\n",
       "    <tr style=\"text-align: right;\">\n",
       "      <th></th>\n",
       "      <th>file</th>\n",
       "      <th>signal</th>\n",
       "      <th>signal/noise</th>\n",
       "      <th>time</th>\n",
       "      <th>asym_score</th>\n",
       "      <th>width1</th>\n",
       "      <th>width2</th>\n",
       "      <th>duration</th>\n",
       "      <th>depth</th>\n",
       "      <th>transit_prob</th>\n",
       "      <th>method</th>\n",
       "    </tr>\n",
       "  </thead>\n",
       "  <tbody>\n",
       "    <tr>\n",
       "      <th>411</th>\n",
       "      <td>tesslc_139583463.pkl</td>\n",
       "      <td>-18.081842</td>\n",
       "      <td>-6.208896</td>\n",
       "      <td>1473.412388</td>\n",
       "      <td>1.000125</td>\n",
       "      <td>0.198472</td>\n",
       "      <td>0.095114</td>\n",
       "      <td>0.541659</td>\n",
       "      <td>151036.192881</td>\n",
       "      <td>maybeTransit</td>\n",
       "      <td>fourier</td>\n",
       "    </tr>\n",
       "    <tr>\n",
       "      <th>1186</th>\n",
       "      <td>tesslc_143208607.pkl</td>\n",
       "      <td>-9.756395</td>\n",
       "      <td>-5.037685</td>\n",
       "      <td>1479.680734</td>\n",
       "      <td>1.241979</td>\n",
       "      <td>0.041401</td>\n",
       "      <td>0.261579</td>\n",
       "      <td>0.520830</td>\n",
       "      <td>114764.224168</td>\n",
       "      <td>artefact</td>\n",
       "      <td>fourier</td>\n",
       "    </tr>\n",
       "    <tr>\n",
       "      <th>2554</th>\n",
       "      <td>tesslc_140280491.pkl</td>\n",
       "      <td>-7.165794</td>\n",
       "      <td>-5.111809</td>\n",
       "      <td>1485.430720</td>\n",
       "      <td>1.000556</td>\n",
       "      <td>0.350765</td>\n",
       "      <td>0.087993</td>\n",
       "      <td>0.708324</td>\n",
       "      <td>40330.598494</td>\n",
       "      <td>maybeTransit</td>\n",
       "      <td>fourier</td>\n",
       "    </tr>\n",
       "    <tr>\n",
       "      <th>2784</th>\n",
       "      <td>tesslc_393159622.pkl</td>\n",
       "      <td>-10.214905</td>\n",
       "      <td>-5.100332</td>\n",
       "      <td>1487.888803</td>\n",
       "      <td>1.008802</td>\n",
       "      <td>0.219894</td>\n",
       "      <td>0.069929</td>\n",
       "      <td>0.562499</td>\n",
       "      <td>180880.084901</td>\n",
       "      <td>maybeTransit</td>\n",
       "      <td>fourier</td>\n",
       "    </tr>\n",
       "    <tr>\n",
       "      <th>4054</th>\n",
       "      <td>tesslc_290166659.pkl</td>\n",
       "      <td>-10.457421</td>\n",
       "      <td>-5.204738</td>\n",
       "      <td>1473.412282</td>\n",
       "      <td>1.032061</td>\n",
       "      <td>0.217140</td>\n",
       "      <td>0.058740</td>\n",
       "      <td>0.562489</td>\n",
       "      <td>161633.574125</td>\n",
       "      <td>maybeTransit</td>\n",
       "      <td>fourier</td>\n",
       "    </tr>\n",
       "  </tbody>\n",
       "</table>\n",
       "</div>"
      ],
      "text/plain": [
       "                      file     signal  signal/noise         time  asym_score  \\\n",
       "411   tesslc_139583463.pkl -18.081842     -6.208896  1473.412388    1.000125   \n",
       "1186  tesslc_143208607.pkl  -9.756395     -5.037685  1479.680734    1.241979   \n",
       "2554  tesslc_140280491.pkl  -7.165794     -5.111809  1485.430720    1.000556   \n",
       "2784  tesslc_393159622.pkl -10.214905     -5.100332  1487.888803    1.008802   \n",
       "4054  tesslc_290166659.pkl -10.457421     -5.204738  1473.412282    1.032061   \n",
       "\n",
       "        width1    width2  duration          depth  transit_prob   method  \n",
       "411   0.198472  0.095114  0.541659  151036.192881  maybeTransit  fourier  \n",
       "1186  0.041401  0.261579  0.520830  114764.224168      artefact  fourier  \n",
       "2554  0.350765  0.087993  0.708324   40330.598494  maybeTransit  fourier  \n",
       "2784  0.219894  0.069929  0.562499  180880.084901  maybeTransit  fourier  \n",
       "4054  0.217140  0.058740  0.562489  161633.574125  maybeTransit  fourier  "
      ]
     },
     "execution_count": 6,
     "metadata": {},
     "output_type": "execute_result"
    }
   ],
   "source": [
    "fourier['method'] = 'fourier'\n",
    "fourier"
   ]
  },
  {
   "cell_type": "code",
   "execution_count": 7,
   "id": "d6022dc5-1cd1-48a9-885c-ea29c2a1a49b",
   "metadata": {},
   "outputs": [
    {
     "data": {
      "text/plain": [
       "<matplotlib.collections.PathCollection at 0x7fe8e7f7e450>"
      ]
     },
     "execution_count": 7,
     "metadata": {},
     "output_type": "execute_result"
    },
    {
     "data": {
      "image/png": "[encoded data removed]",
      "text/plain": [
       "<Figure size 1440x720 with 1 Axes>"
      ]
     },
     "metadata": {
      "needs_background": "light"
     },
     "output_type": "display_data"
    }
   ],
   "source": [
    "plt.figure(figsize=(20,10))\n",
    "plt.xlim([0,1.3])\n",
    "plt.ylim([0,10])\n",
    "plt.scatter(fourier.asym_score,abs(fourier['signal/noise']))\n",
    "#plt.scatter(lowess.asym_score,abs(lowess['signal/noise']))\n",
    "#plt.scatter(median.asym_score,abs(median['signal/noise']))"
   ]
  },
  {
   "cell_type": "code",
   "execution_count": 8,
   "id": "10fd57e2-3b56-4030-9f23-22c566d1ac1f",
   "metadata": {},
   "outputs": [],
   "source": [
    "lowess_in_fourier = []\n",
    "median_in_fourier = []\n",
    "for i in fourier.file:\n",
    "    lowess_in_fourier.append(lowess[lowess.file == i])\n",
    "    median_in_fourier.append(median[median.file == i])"
   ]
  },
  {
   "cell_type": "code",
   "execution_count": 9,
   "id": "a618fbc9-4b43-4db6-9be2-5ddf30f552d8",
   "metadata": {},
   "outputs": [],
   "source": [
    "lowess_in_fourier = np.array(lowess_in_fourier)\n",
    "lowess_in_fourier = lowess_in_fourier.reshape(5,10)\n",
    "lowess_in_fourier = pd.DataFrame(lowess_in_fourier)\n",
    "lowess_in_fourier.columns = ['file','signal','signal/noise','time','asym_score','width1','width2','duration','depth','transit_prob']\n",
    "lowess_in_fourier['method'] = 'lowess'"
   ]
  },
  {
   "cell_type": "code",
   "execution_count": 10,
   "id": "8e6e3ea9-c125-46c5-82a5-a7e5a94bde10",
   "metadata": {},
   "outputs": [
    {
     "data": {
      "text/html": [
       "<div>\n",
       "<style scoped>\n",
       "    .dataframe tbody tr th:only-of-type {\n",
       "        vertical-align: middle;\n",
       "    }\n",
       "\n",
       "    .dataframe tbody tr th {\n",
       "        vertical-align: top;\n",
       "    }\n",
       "\n",
       "    .dataframe thead th {\n",
       "        text-align: right;\n",
       "    }\n",
       "</style>\n",
       "<table border=\"1\" class=\"dataframe\">\n",
       "  <thead>\n",
       "    <tr style=\"text-align: right;\">\n",
       "      <th></th>\n",
       "      <th>file</th>\n",
       "      <th>signal</th>\n",
       "      <th>signal/noise</th>\n",
       "      <th>time</th>\n",
       "      <th>asym_score</th>\n",
       "      <th>width1</th>\n",
       "      <th>width2</th>\n",
       "      <th>duration</th>\n",
       "      <th>depth</th>\n",
       "      <th>transit_prob</th>\n",
       "      <th>method</th>\n",
       "    </tr>\n",
       "  </thead>\n",
       "  <tbody>\n",
       "    <tr>\n",
       "      <th>0</th>\n",
       "      <td>tesslc_139583463.pkl</td>\n",
       "      <td>-27.878464</td>\n",
       "      <td>-6.986416</td>\n",
       "      <td>1473.412388</td>\n",
       "      <td>1.170601</td>\n",
       "      <td>0.076536</td>\n",
       "      <td>0.212826</td>\n",
       "      <td>0.541659</td>\n",
       "      <td>151036.192881</td>\n",
       "      <td>maybeTransit</td>\n",
       "      <td>lowess</td>\n",
       "    </tr>\n",
       "    <tr>\n",
       "      <th>1</th>\n",
       "      <td>tesslc_143208607.pkl</td>\n",
       "      <td>-8.355763</td>\n",
       "      <td>-5.948478</td>\n",
       "      <td>1479.493235</td>\n",
       "      <td>0.945183</td>\n",
       "      <td>0.07437</td>\n",
       "      <td>0.036064</td>\n",
       "      <td>0.166666</td>\n",
       "      <td>114721.783671</td>\n",
       "      <td>artefact</td>\n",
       "      <td>lowess</td>\n",
       "    </tr>\n",
       "    <tr>\n",
       "      <th>2</th>\n",
       "      <td>tesslc_140280491.pkl</td>\n",
       "      <td>-5.347794</td>\n",
       "      <td>-7.180052</td>\n",
       "      <td>1489.659801</td>\n",
       "      <td>-2.0</td>\n",
       "      <td>-2.0</td>\n",
       "      <td>-2.0</td>\n",
       "      <td>0.104165</td>\n",
       "      <td>40325.481106</td>\n",
       "      <td>end</td>\n",
       "      <td>lowess</td>\n",
       "    </tr>\n",
       "    <tr>\n",
       "      <th>3</th>\n",
       "      <td>tesslc_393159622.pkl</td>\n",
       "      <td>-6.283184</td>\n",
       "      <td>-5.520018</td>\n",
       "      <td>1487.992969</td>\n",
       "      <td>1.021815</td>\n",
       "      <td>0.116921</td>\n",
       "      <td>0.109111</td>\n",
       "      <td>0.270833</td>\n",
       "      <td>180383.912862</td>\n",
       "      <td>maybeTransit</td>\n",
       "      <td>lowess</td>\n",
       "    </tr>\n",
       "    <tr>\n",
       "      <th>4</th>\n",
       "      <td>tesslc_290166659.pkl</td>\n",
       "      <td>-11.532062</td>\n",
       "      <td>-8.132516</td>\n",
       "      <td>1473.453948</td>\n",
       "      <td>1.221569</td>\n",
       "      <td>0.240239</td>\n",
       "      <td>0.003124</td>\n",
       "      <td>0.416659</td>\n",
       "      <td>161605.95443</td>\n",
       "      <td>maybeTransit</td>\n",
       "      <td>lowess</td>\n",
       "    </tr>\n",
       "  </tbody>\n",
       "</table>\n",
       "</div>"
      ],
      "text/plain": [
       "                   file     signal signal/noise         time asym_score  \\\n",
       "0  tesslc_139583463.pkl -27.878464    -6.986416  1473.412388   1.170601   \n",
       "1  tesslc_143208607.pkl  -8.355763    -5.948478  1479.493235   0.945183   \n",
       "2  tesslc_140280491.pkl  -5.347794    -7.180052  1489.659801       -2.0   \n",
       "3  tesslc_393159622.pkl  -6.283184    -5.520018  1487.992969   1.021815   \n",
       "4  tesslc_290166659.pkl -11.532062    -8.132516  1473.453948   1.221569   \n",
       "\n",
       "     width1    width2  duration          depth  transit_prob  method  \n",
       "0  0.076536  0.212826  0.541659  151036.192881  maybeTransit  lowess  \n",
       "1   0.07437  0.036064  0.166666  114721.783671      artefact  lowess  \n",
       "2      -2.0      -2.0  0.104165   40325.481106           end  lowess  \n",
       "3  0.116921  0.109111  0.270833  180383.912862  maybeTransit  lowess  \n",
       "4  0.240239  0.003124  0.416659   161605.95443  maybeTransit  lowess  "
      ]
     },
     "execution_count": 10,
     "metadata": {},
     "output_type": "execute_result"
    }
   ],
   "source": [
    "lowess_in_fourier"
   ]
  },
  {
   "cell_type": "code",
   "execution_count": 11,
   "id": "5ec2ca49-3f2d-4485-aa93-64d721019b0a",
   "metadata": {},
   "outputs": [],
   "source": [
    "median_in_fourier = np.array(median_in_fourier)\n",
    "median_in_fourier = median_in_fourier.reshape(5,10)\n",
    "median_in_fourier = pd.DataFrame(median_in_fourier)\n",
    "median_in_fourier.columns = ['file','signal','signal/noise','time','asym_score','width1','width2','duration','depth','transit_prob']\n",
    "median_in_fourier['method'] = 'median'"
   ]
  },
  {
   "cell_type": "code",
   "execution_count": 12,
   "id": "a6465997-65ec-49d2-bd9f-07fb4b7a7530",
   "metadata": {},
   "outputs": [
    {
     "data": {
      "text/html": [
       "<div>\n",
       "<style scoped>\n",
       "    .dataframe tbody tr th:only-of-type {\n",
       "        vertical-align: middle;\n",
       "    }\n",
       "\n",
       "    .dataframe tbody tr th {\n",
       "        vertical-align: top;\n",
       "    }\n",
       "\n",
       "    .dataframe thead th {\n",
       "        text-align: right;\n",
       "    }\n",
       "</style>\n",
       "<table border=\"1\" class=\"dataframe\">\n",
       "  <thead>\n",
       "    <tr style=\"text-align: right;\">\n",
       "      <th></th>\n",
       "      <th>file</th>\n",
       "      <th>signal</th>\n",
       "      <th>signal/noise</th>\n",
       "      <th>time</th>\n",
       "      <th>asym_score</th>\n",
       "      <th>width1</th>\n",
       "      <th>width2</th>\n",
       "      <th>duration</th>\n",
       "      <th>depth</th>\n",
       "      <th>transit_prob</th>\n",
       "      <th>method</th>\n",
       "    </tr>\n",
       "  </thead>\n",
       "  <tbody>\n",
       "    <tr>\n",
       "      <th>0</th>\n",
       "      <td>tesslc_139583463.pkl</td>\n",
       "      <td>-21.475973</td>\n",
       "      <td>-7.845419</td>\n",
       "      <td>1473.474887</td>\n",
       "      <td>1.015337</td>\n",
       "      <td>0.302178</td>\n",
       "      <td>0.0027</td>\n",
       "      <td>0.437494</td>\n",
       "      <td>150956.352242</td>\n",
       "      <td>maybeTransit</td>\n",
       "      <td>median</td>\n",
       "    </tr>\n",
       "    <tr>\n",
       "      <th>1</th>\n",
       "      <td>tesslc_143208607.pkl</td>\n",
       "      <td>-7.340597</td>\n",
       "      <td>-4.950765</td>\n",
       "      <td>1479.514068</td>\n",
       "      <td>1.158676</td>\n",
       "      <td>0.051453</td>\n",
       "      <td>0.123467</td>\n",
       "      <td>0.187499</td>\n",
       "      <td>114726.006803</td>\n",
       "      <td>artefact</td>\n",
       "      <td>median</td>\n",
       "    </tr>\n",
       "    <tr>\n",
       "      <th>2</th>\n",
       "      <td>tesslc_140280491.pkl</td>\n",
       "      <td>-4.748132</td>\n",
       "      <td>-5.303808</td>\n",
       "      <td>1489.659801</td>\n",
       "      <td>-2.0</td>\n",
       "      <td>-2.0</td>\n",
       "      <td>-2.0</td>\n",
       "      <td>0.104165</td>\n",
       "      <td>40325.481106</td>\n",
       "      <td>end</td>\n",
       "      <td>median</td>\n",
       "    </tr>\n",
       "    <tr>\n",
       "      <th>3</th>\n",
       "      <td>tesslc_393159622.pkl</td>\n",
       "      <td>-6.427803</td>\n",
       "      <td>-6.103948</td>\n",
       "      <td>1487.951303</td>\n",
       "      <td>1.038444</td>\n",
       "      <td>0.138281</td>\n",
       "      <td>0.102147</td>\n",
       "      <td>0.291666</td>\n",
       "      <td>180413.672465</td>\n",
       "      <td>maybeTransit</td>\n",
       "      <td>median</td>\n",
       "    </tr>\n",
       "    <tr>\n",
       "      <th>4</th>\n",
       "      <td>tesslc_290166659.pkl</td>\n",
       "      <td>-10.901925</td>\n",
       "      <td>-6.933561</td>\n",
       "      <td>1473.453948</td>\n",
       "      <td>1.11883</td>\n",
       "      <td>0.262279</td>\n",
       "      <td>0.013729</td>\n",
       "      <td>0.416659</td>\n",
       "      <td>161605.95443</td>\n",
       "      <td>maybeTransit</td>\n",
       "      <td>median</td>\n",
       "    </tr>\n",
       "  </tbody>\n",
       "</table>\n",
       "</div>"
      ],
      "text/plain": [
       "                   file     signal signal/noise         time asym_score  \\\n",
       "0  tesslc_139583463.pkl -21.475973    -7.845419  1473.474887   1.015337   \n",
       "1  tesslc_143208607.pkl  -7.340597    -4.950765  1479.514068   1.158676   \n",
       "2  tesslc_140280491.pkl  -4.748132    -5.303808  1489.659801       -2.0   \n",
       "3  tesslc_393159622.pkl  -6.427803    -6.103948  1487.951303   1.038444   \n",
       "4  tesslc_290166659.pkl -10.901925    -6.933561  1473.453948    1.11883   \n",
       "\n",
       "     width1    width2  duration          depth  transit_prob  method  \n",
       "0  0.302178    0.0027  0.437494  150956.352242  maybeTransit  median  \n",
       "1  0.051453  0.123467  0.187499  114726.006803      artefact  median  \n",
       "2      -2.0      -2.0  0.104165   40325.481106           end  median  \n",
       "3  0.138281  0.102147  0.291666  180413.672465  maybeTransit  median  \n",
       "4  0.262279  0.013729  0.416659   161605.95443  maybeTransit  median  "
      ]
     },
     "execution_count": 12,
     "metadata": {},
     "output_type": "execute_result"
    }
   ],
   "source": [
    "median_in_fourier"
   ]
  },
  {
   "cell_type": "code",
   "execution_count": 29,
   "id": "d37ab082-4ed3-41a5-b033-ad89c31ff401",
   "metadata": {},
   "outputs": [],
   "source": [
    "import plotly.express as px\n",
    "import plotly"
   ]
  },
  {
   "cell_type": "code",
   "execution_count": 15,
   "id": "c8a7aa9d-f430-4430-8514-187b2a6ae44d",
   "metadata": {},
   "outputs": [
    {
     "data": {
      "text/plain": [
       "<matplotlib.collections.PathCollection at 0x7fea8cfb3dd0>"
      ]
     },
     "execution_count": 15,
     "metadata": {},
     "output_type": "execute_result"
    },
    {
     "data": {
      "image/png": "[encoded data removed]",
      "text/plain": [
       "<Figure size 1440x720 with 1 Axes>"
      ]
     },
     "metadata": {
      "needs_background": "light"
     },
     "output_type": "display_data"
    }
   ],
   "source": [
    "plt.figure(figsize=(20,10))\n",
    "plt.xlim([0,1.3])\n",
    "plt.ylim([0,10])\n",
    "plt.scatter(fourier.asym_score,abs(fourier['signal/noise']))\n",
    "plt.scatter(lowess_in_fourier.asym_score,abs(lowess_in_fourier['signal/noise']))\n",
    "plt.scatter(median_in_fourier.asym_score,abs(median_in_fourier['signal/noise']))"
   ]
  },
  {
   "cell_type": "code",
   "execution_count": 24,
   "id": "dfc136dd-63ee-496a-bde1-f89bde590c59",
   "metadata": {},
   "outputs": [],
   "source": [
    "total_df = pd.concat([fourier,lowess_in_fourier,median_in_fourier]).reset_index(drop=True)"
   ]
  },
  {
   "cell_type": "code",
   "execution_count": 31,
   "id": "9e9a3be6-00f4-4980-a9d9-fe59a4dac53e",
   "metadata": {},
   "outputs": [
    {
     "data": {
      "application/vnd.plotly.v1+json": {
       "config": {
        "plotlyServerURL": "https://plot.ly"
       },
       "data": [
        {
         "hovertemplate": "asym_score=%{x}<br>signal/noise=%{y}<extra></extra>",
         "legendgroup": "",
         "marker": {
          "color": "#636efa",
          "symbol": "circle"
         },
         "mode": "markers",
         "name": "",
         "orientation": "v",
         "showlegend": false,
         "type": "scatter",
         "x": [
          1.00012528,
          1.24197921,
          1.00055575,
          1.00880209,
          1.03206078,
          1.17060052,
          0.94518312,
          -2,
          1.02181542,
          1.22156905,
          1.01533748,
          1.15867635,
          -2,
          1.03844373,
          1.1188298
         ],
         "xaxis": "x",
         "y": [
          -6.2088958,
          -5.03768548,
          -5.11180947,
          -5.10033248,
          -5.20473811,
          -6.9864163,
          -5.94847834,
          -7.18005237,
          -5.52001833,
          -8.13251593,
          -7.84541875,
          -4.95076516,
          -5.30380808,
          -6.10394758,
          -6.93356129
         ],
         "yaxis": "y"
        }
       ],
       "layout": {
        "legend": {
         "tracegroupgap": 0
        },
        "margin": {
         "t": 60
        },
        "template": {
         "data": {
          "bar": [
           {
            "error_x": {
             "color": "#2a3f5f"
            },
            "error_y": {
             "color": "#2a3f5f"
            },
            "marker": {
             "line": {
              "color": "#E5ECF6",
              "width": 0.5
             },
             "pattern": {
              "fillmode": "overlay",
              "size": 10,
              "solidity": 0.2
             }
            },
            "type": "bar"
           }
          ],
          "barpolar": [
           {
            "marker": {
             "line": {
              "color": "#E5ECF6",
              "width": 0.5
             },
             "pattern": {
              "fillmode": "overlay",
              "size": 10,
              "solidity": 0.2
             }
            },
            "type": "barpolar"
           }
          ],
          "carpet": [
           {
            "aaxis": {
             "endlinecolor": "#2a3f5f",
             "gridcolor": "white",
             "linecolor": "white",
             "minorgridcolor": "white",
             "startlinecolor": "#2a3f5f"
            },
            "baxis": {
             "endlinecolor": "#2a3f5f",
             "gridcolor": "white",
             "linecolor": "white",
             "minorgridcolor": "white",
             "startlinecolor": "#2a3f5f"
            },
            "type": "carpet"
           }
          ],
          "choropleth": [
           {
            "colorbar": {
             "outlinewidth": 0,
             "ticks": ""
            },
            "type": "choropleth"
           }
          ],
          "contour": [
           {
            "colorbar": {
             "outlinewidth": 0,
             "ticks": ""
            },
            "colorscale": [
             [
              0,
              "#0d0887"
             ],
             [
              0.1111111111111111,
              "#46039f"
             ],
             [
              0.2222222222222222,
              "#7201a8"
             ],
             [
              0.3333333333333333,
              "#9c179e"
             ],
             [
              0.4444444444444444,
              "#bd3786"
             ],
             [
              0.5555555555555556,
              "#d8576b"
             ],
             [
              0.6666666666666666,
              "#ed7953"
             ],
             [
              0.7777777777777778,
              "#fb9f3a"
             ],
             [
              0.8888888888888888,
              "#fdca26"
             ],
             [
              1,
              "#f0f921"
             ]
            ],
            "type": "contour"
           }
          ],
          "contourcarpet": [
           {
            "colorbar": {
             "outlinewidth": 0,
             "ticks": ""
            },
            "type": "contourcarpet"
           }
          ],
          "heatmap": [
           {
            "colorbar": {
             "outlinewidth": 0,
             "ticks": ""
            },
            "colorscale": [
             [
              0,
              "#0d0887"
             ],
             [
              0.1111111111111111,
              "#46039f"
             ],
             [
              0.2222222222222222,
              "#7201a8"
             ],
             [
              0.3333333333333333,
              "#9c179e"
             ],
             [
              0.4444444444444444,
              "#bd3786"
             ],
             [
              0.5555555555555556,
              "#d8576b"
             ],
             [
              0.6666666666666666,
              "#ed7953"
             ],
             [
              0.7777777777777778,
              "#fb9f3a"
             ],
             [
              0.8888888888888888,
              "#fdca26"
             ],
             [
              1,
              "#f0f921"
             ]
            ],
            "type": "heatmap"
           }
          ],
          "heatmapgl": [
           {
            "colorbar": {
             "outlinewidth": 0,
             "ticks": ""
            },
            "colorscale": [
             [
              0,
              "#0d0887"
             ],
             [
              0.1111111111111111,
              "#46039f"
             ],
             [
              0.2222222222222222,
              "#7201a8"
             ],
             [
              0.3333333333333333,
              "#9c179e"
             ],
             [
              0.4444444444444444,
              "#bd3786"
             ],
             [
              0.5555555555555556,
              "#d8576b"
             ],
             [
              0.6666666666666666,
              "#ed7953"
             ],
             [
              0.7777777777777778,
              "#fb9f3a"
             ],
             [
              0.8888888888888888,
              "#fdca26"
             ],
             [
              1,
              "#f0f921"
             ]
            ],
            "type": "heatmapgl"
           }
          ],
          "histogram": [
           {
            "marker": {
             "pattern": {
              "fillmode": "overlay",
              "size": 10,
              "solidity": 0.2
             }
            },
            "type": "histogram"
           }
          ],
          "histogram2d": [
           {
            "colorbar": {
             "outlinewidth": 0,
             "ticks": ""
            },
            "colorscale": [
             [
              0,
              "#0d0887"
             ],
             [
              0.1111111111111111,
              "#46039f"
             ],
             [
              0.2222222222222222,
              "#7201a8"
             ],
             [
              0.3333333333333333,
              "#9c179e"
             ],
             [
              0.4444444444444444,
              "#bd3786"
             ],
             [
              0.5555555555555556,
              "#d8576b"
             ],
             [
              0.6666666666666666,
              "#ed7953"
             ],
             [
              0.7777777777777778,
              "#fb9f3a"
             ],
             [
              0.8888888888888888,
              "#fdca26"
             ],
             [
              1,
              "#f0f921"
             ]
            ],
            "type": "histogram2d"
           }
          ],
          "histogram2dcontour": [
           {
            "colorbar": {
             "outlinewidth": 0,
             "ticks": ""
            },
            "colorscale": [
             [
              0,
              "#0d0887"
             ],
             [
              0.1111111111111111,
              "#46039f"
             ],
             [
              0.2222222222222222,
              "#7201a8"
             ],
             [
              0.3333333333333333,
              "#9c179e"
             ],
             [
              0.4444444444444444,
              "#bd3786"
             ],
             [
              0.5555555555555556,
              "#d8576b"
             ],
             [
              0.6666666666666666,
              "#ed7953"
             ],
             [
              0.7777777777777778,
              "#fb9f3a"
             ],
             [
              0.8888888888888888,
              "#fdca26"
             ],
             [
              1,
              "#f0f921"
             ]
            ],
            "type": "histogram2dcontour"
           }
          ],
          "mesh3d": [
           {
            "colorbar": {
             "outlinewidth": 0,
             "ticks": ""
            },
            "type": "mesh3d"
           }
          ],
          "parcoords": [
           {
            "line": {
             "colorbar": {
              "outlinewidth": 0,
              "ticks": ""
             }
            },
            "type": "parcoords"
           }
          ],
          "pie": [
           {
            "automargin": true,
            "type": "pie"
           }
          ],
          "scatter": [
           {
            "fillpattern": {
             "fillmode": "overlay",
             "size": 10,
             "solidity": 0.2
            },
            "type": "scatter"
           }
          ],
          "scatter3d": [
           {
            "line": {
             "colorbar": {
              "outlinewidth": 0,
              "ticks": ""
             }
            },
            "marker": {
             "colorbar": {
              "outlinewidth": 0,
              "ticks": ""
             }
            },
            "type": "scatter3d"
           }
          ],
          "scattercarpet": [
           {
            "marker": {
             "colorbar": {
              "outlinewidth": 0,
              "ticks": ""
             }
            },
            "type": "scattercarpet"
           }
          ],
          "scattergeo": [
           {
            "marker": {
             "colorbar": {
              "outlinewidth": 0,
              "ticks": ""
             }
            },
            "type": "scattergeo"
           }
          ],
          "scattergl": [
           {
            "marker": {
             "colorbar": {
              "outlinewidth": 0,
              "ticks": ""
             }
            },
            "type": "scattergl"
           }
          ],
          "scattermapbox": [
           {
            "marker": {
             "colorbar": {
              "outlinewidth": 0,
              "ticks": ""
             }
            },
            "type": "scattermapbox"
           }
          ],
          "scatterpolar": [
           {
            "marker": {
             "colorbar": {
              "outlinewidth": 0,
              "ticks": ""
             }
            },
            "type": "scatterpolar"
           }
          ],
          "scatterpolargl": [
           {
            "marker": {
             "colorbar": {
              "outlinewidth": 0,
              "ticks": ""
             }
            },
            "type": "scatterpolargl"
           }
          ],
          "scatterternary": [
           {
            "marker": {
             "colorbar": {
              "outlinewidth": 0,
              "ticks": ""
             }
            },
            "type": "scatterternary"
           }
          ],
          "surface": [
           {
            "colorbar": {
             "outlinewidth": 0,
             "ticks": ""
            },
            "colorscale": [
             [
              0,
              "#0d0887"
             ],
             [
              0.1111111111111111,
              "#46039f"
             ],
             [
              0.2222222222222222,
              "#7201a8"
             ],
             [
              0.3333333333333333,
              "#9c179e"
             ],
             [
              0.4444444444444444,
              "#bd3786"
             ],
             [
              0.5555555555555556,
              "#d8576b"
             ],
             [
              0.6666666666666666,
              "#ed7953"
             ],
             [
              0.7777777777777778,
              "#fb9f3a"
             ],
             [
              0.8888888888888888,
              "#fdca26"
             ],
             [
              1,
              "#f0f921"
             ]
            ],
            "type": "surface"
           }
          ],
          "table": [
           {
            "cells": {
             "fill": {
              "color": "#EBF0F8"
             },
             "line": {
              "color": "white"
             }
            },
            "header": {
             "fill": {
              "color": "#C8D4E3"
             },
             "line": {
              "color": "white"
             }
            },
            "type": "table"
           }
          ]
         },
         "layout": {
          "annotationdefaults": {
           "arrowcolor": "#2a3f5f",
           "arrowhead": 0,
           "arrowwidth": 1
          },
          "autotypenumbers": "strict",
          "coloraxis": {
           "colorbar": {
            "outlinewidth": 0,
            "ticks": ""
           }
          },
          "colorscale": {
           "diverging": [
            [
             0,
             "#8e0152"
            ],
            [
             0.1,
             "#c51b7d"
            ],
            [
             0.2,
             "#de77ae"
            ],
            [
             0.3,
             "#f1b6da"
            ],
            [
             0.4,
             "#fde0ef"
            ],
            [
             0.5,
             "#f7f7f7"
            ],
            [
             0.6,
             "#e6f5d0"
            ],
            [
             0.7,
             "#b8e186"
            ],
            [
             0.8,
             "#7fbc41"
            ],
            [
             0.9,
             "#4d9221"
            ],
            [
             1,
             "#276419"
            ]
           ],
           "sequential": [
            [
             0,
             "#0d0887"
            ],
            [
             0.1111111111111111,
             "#46039f"
            ],
            [
             0.2222222222222222,
             "#7201a8"
            ],
            [
             0.3333333333333333,
             "#9c179e"
            ],
            [
             0.4444444444444444,
             "#bd3786"
            ],
            [
             0.5555555555555556,
             "#d8576b"
            ],
            [
             0.6666666666666666,
             "#ed7953"
            ],
            [
             0.7777777777777778,
             "#fb9f3a"
            ],
            [
             0.8888888888888888,
             "#fdca26"
            ],
            [
             1,
             "#f0f921"
            ]
           ],
           "sequentialminus": [
            [
             0,
             "#0d0887"
            ],
            [
             0.1111111111111111,
             "#46039f"
            ],
            [
             0.2222222222222222,
             "#7201a8"
            ],
            [
             0.3333333333333333,
             "#9c179e"
            ],
            [
             0.4444444444444444,
             "#bd3786"
            ],
            [
             0.5555555555555556,
             "#d8576b"
            ],
            [
             0.6666666666666666,
             "#ed7953"
            ],
            [
             0.7777777777777778,
             "#fb9f3a"
            ],
            [
             0.8888888888888888,
             "#fdca26"
            ],
            [
             1,
             "#f0f921"
            ]
           ]
          },
          "colorway": [
           "#636efa",
           "#EF553B",
           "#00cc96",
           "#ab63fa",
           "#FFA15A",
           "#19d3f3",
           "#FF6692",
           "#B6E880",
           "#FF97FF",
           "#FECB52"
          ],
          "font": {
           "color": "#2a3f5f"
          },
          "geo": {
           "bgcolor": "white",
           "lakecolor": "white",
           "landcolor": "#E5ECF6",
           "showlakes": true,
           "showland": true,
           "subunitcolor": "white"
          },
          "hoverlabel": {
           "align": "left"
          },
          "hovermode": "closest",
          "mapbox": {
           "style": "light"
          },
          "paper_bgcolor": "white",
          "plot_bgcolor": "#E5ECF6",
          "polar": {
           "angularaxis": {
            "gridcolor": "white",
            "linecolor": "white",
            "ticks": ""
           },
           "bgcolor": "#E5ECF6",
           "radialaxis": {
            "gridcolor": "white",
            "linecolor": "white",
            "ticks": ""
           }
          },
          "scene": {
           "xaxis": {
            "backgroundcolor": "#E5ECF6",
            "gridcolor": "white",
            "gridwidth": 2,
            "linecolor": "white",
            "showbackground": true,
            "ticks": "",
            "zerolinecolor": "white"
           },
           "yaxis": {
            "backgroundcolor": "#E5ECF6",
            "gridcolor": "white",
            "gridwidth": 2,
            "linecolor": "white",
            "showbackground": true,
            "ticks": "",
            "zerolinecolor": "white"
           },
           "zaxis": {
            "backgroundcolor": "#E5ECF6",
            "gridcolor": "white",
            "gridwidth": 2,
            "linecolor": "white",
            "showbackground": true,
            "ticks": "",
            "zerolinecolor": "white"
           }
          },
          "shapedefaults": {
           "line": {
            "color": "#2a3f5f"
           }
          },
          "ternary": {
           "aaxis": {
            "gridcolor": "white",
            "linecolor": "white",
            "ticks": ""
           },
           "baxis": {
            "gridcolor": "white",
            "linecolor": "white",
            "ticks": ""
           },
           "bgcolor": "#E5ECF6",
           "caxis": {
            "gridcolor": "white",
            "linecolor": "white",
            "ticks": ""
           }
          },
          "title": {
           "x": 0.05
          },
          "xaxis": {
           "automargin": true,
           "gridcolor": "white",
           "linecolor": "white",
           "ticks": "",
           "title": {
            "standoff": 15
           },
           "zerolinecolor": "white",
           "zerolinewidth": 2
          },
          "yaxis": {
           "automargin": true,
           "gridcolor": "white",
           "linecolor": "white",
           "ticks": "",
           "title": {
            "standoff": 15
           },
           "zerolinecolor": "white",
           "zerolinewidth": 2
          }
         }
        },
        "xaxis": {
         "anchor": "y",
         "domain": [
          0,
          1
         ],
         "title": {
          "text": "asym_score"
         }
        },
        "yaxis": {
         "anchor": "x",
         "domain": [
          0,
          1
         ],
         "title": {
          "text": "signal/noise"
         }
        }
       }
      },
      "text/html": [
       "<div>                            <div id=\"5c1652bb-0588-40a8-a58b-51a89c85002c\" class=\"plotly-graph-div\" style=\"height:525px; width:100%;\"></div>            <script type=\"text/javascript\">                require([\"plotly\"], function(Plotly) {                    window.PLOTLYENV=window.PLOTLYENV || {};                                    if (document.getElementById(\"5c1652bb-0588-40a8-a58b-51a89c85002c\")) {                    Plotly.newPlot(                        \"5c1652bb-0588-40a8-a58b-51a89c85002c\",                        [{\"hovertemplate\":\"asym_score=%{x}<br>signal/noise=%{y}<extra></extra>\",\"legendgroup\":\"\",\"marker\":{\"color\":\"#636efa\",\"symbol\":\"circle\"},\"mode\":\"markers\",\"name\":\"\",\"orientation\":\"v\",\"showlegend\":false,\"x\":[1.00012528,1.24197921,1.00055575,1.00880209,1.03206078,1.17060052,0.94518312,-2.0,1.02181542,1.22156905,1.01533748,1.15867635,-2.0,1.03844373,1.1188298],\"xaxis\":\"x\",\"y\":[-6.2088958,-5.03768548,-5.11180947,-5.10033248,-5.20473811,-6.9864163,-5.94847834,-7.18005237,-5.52001833,-8.13251593,-7.84541875,-4.95076516,-5.30380808,-6.10394758,-6.93356129],\"yaxis\":\"y\",\"type\":\"scatter\"}],                        {\"template\":{\"data\":{\"histogram2dcontour\":[{\"type\":\"histogram2dcontour\",\"colorbar\":{\"outlinewidth\":0,\"ticks\":\"\"},\"colorscale\":[[0.0,\"#0d0887\"],[0.1111111111111111,\"#46039f\"],[0.2222222222222222,\"#7201a8\"],[0.3333333333333333,\"#9c179e\"],[0.4444444444444444,\"#bd3786\"],[0.5555555555555556,\"#d8576b\"],[0.6666666666666666,\"#ed7953\"],[0.7777777777777778,\"#fb9f3a\"],[0.8888888888888888,\"#fdca26\"],[1.0,\"#f0f921\"]]}],\"choropleth\":[{\"type\":\"choropleth\",\"colorbar\":{\"outlinewidth\":0,\"ticks\":\"\"}}],\"histogram2d\":[{\"type\":\"histogram2d\",\"colorbar\":{\"outlinewidth\":0,\"ticks\":\"\"},\"colorscale\":[[0.0,\"#0d0887\"],[0.1111111111111111,\"#46039f\"],[0.2222222222222222,\"#7201a8\"],[0.3333333333333333,\"#9c179e\"],[0.4444444444444444,\"#bd3786\"],[0.5555555555555556,\"#d8576b\"],[0.6666666666666666,\"#ed7953\"],[0.7777777777777778,\"#fb9f3a\"],[0.8888888888888888,\"#fdca26\"],[1.0,\"#f0f921\"]]}],\"heatmap\":[{\"type\":\"heatmap\",\"colorbar\":{\"outlinewidth\":0,\"ticks\":\"\"},\"colorscale\":[[0.0,\"#0d0887\"],[0.1111111111111111,\"#46039f\"],[0.2222222222222222,\"#7201a8\"],[0.3333333333333333,\"#9c179e\"],[0.4444444444444444,\"#bd3786\"],[0.5555555555555556,\"#d8576b\"],[0.6666666666666666,\"#ed7953\"],[0.7777777777777778,\"#fb9f3a\"],[0.8888888888888888,\"#fdca26\"],[1.0,\"#f0f921\"]]}],\"heatmapgl\":[{\"type\":\"heatmapgl\",\"colorbar\":{\"outlinewidth\":0,\"ticks\":\"\"},\"colorscale\":[[0.0,\"#0d0887\"],[0.1111111111111111,\"#46039f\"],[0.2222222222222222,\"#7201a8\"],[0.3333333333333333,\"#9c179e\"],[0.4444444444444444,\"#bd3786\"],[0.5555555555555556,\"#d8576b\"],[0.6666666666666666,\"#ed7953\"],[0.7777777777777778,\"#fb9f3a\"],[0.8888888888888888,\"#fdca26\"],[1.0,\"#f0f921\"]]}],\"contourcarpet\":[{\"type\":\"contourcarpet\",\"colorbar\":{\"outlinewidth\":0,\"ticks\":\"\"}}],\"contour\":[{\"type\":\"contour\",\"colorbar\":{\"outlinewidth\":0,\"ticks\":\"\"},\"colorscale\":[[0.0,\"#0d0887\"],[0.1111111111111111,\"#46039f\"],[0.2222222222222222,\"#7201a8\"],[0.3333333333333333,\"#9c179e\"],[0.4444444444444444,\"#bd3786\"],[0.5555555555555556,\"#d8576b\"],[0.6666666666666666,\"#ed7953\"],[0.7777777777777778,\"#fb9f3a\"],[0.8888888888888888,\"#fdca26\"],[1.0,\"#f0f921\"]]}],\"surface\":[{\"type\":\"surface\",\"colorbar\":{\"outlinewidth\":0,\"ticks\":\"\"},\"colorscale\":[[0.0,\"#0d0887\"],[0.1111111111111111,\"#46039f\"],[0.2222222222222222,\"#7201a8\"],[0.3333333333333333,\"#9c179e\"],[0.4444444444444444,\"#bd3786\"],[0.5555555555555556,\"#d8576b\"],[0.6666666666666666,\"#ed7953\"],[0.7777777777777778,\"#fb9f3a\"],[0.8888888888888888,\"#fdca26\"],[1.0,\"#f0f921\"]]}],\"mesh3d\":[{\"type\":\"mesh3d\",\"colorbar\":{\"outlinewidth\":0,\"ticks\":\"\"}}],\"scatter\":[{\"fillpattern\":{\"fillmode\":\"overlay\",\"size\":10,\"solidity\":0.2},\"type\":\"scatter\"}],\"parcoords\":[{\"type\":\"parcoords\",\"line\":{\"colorbar\":{\"outlinewidth\":0,\"ticks\":\"\"}}}],\"scatterpolargl\":[{\"type\":\"scatterpolargl\",\"marker\":{\"colorbar\":{\"outlinewidth\":0,\"ticks\":\"\"}}}],\"bar\":[{\"error_x\":{\"color\":\"#2a3f5f\"},\"error_y\":{\"color\":\"#2a3f5f\"},\"marker\":{\"line\":{\"color\":\"#E5ECF6\",\"width\":0.5},\"pattern\":{\"fillmode\":\"overlay\",\"size\":10,\"solidity\":0.2}},\"type\":\"bar\"}],\"scattergeo\":[{\"type\":\"scattergeo\",\"marker\":{\"colorbar\":{\"outlinewidth\":0,\"ticks\":\"\"}}}],\"scatterpolar\":[{\"type\":\"scatterpolar\",\"marker\":{\"colorbar\":{\"outlinewidth\":0,\"ticks\":\"\"}}}],\"histogram\":[{\"marker\":{\"pattern\":{\"fillmode\":\"overlay\",\"size\":10,\"solidity\":0.2}},\"type\":\"histogram\"}],\"scattergl\":[{\"type\":\"scattergl\",\"marker\":{\"colorbar\":{\"outlinewidth\":0,\"ticks\":\"\"}}}],\"scatter3d\":[{\"type\":\"scatter3d\",\"line\":{\"colorbar\":{\"outlinewidth\":0,\"ticks\":\"\"}},\"marker\":{\"colorbar\":{\"outlinewidth\":0,\"ticks\":\"\"}}}],\"scattermapbox\":[{\"type\":\"scattermapbox\",\"marker\":{\"colorbar\":{\"outlinewidth\":0,\"ticks\":\"\"}}}],\"scatterternary\":[{\"type\":\"scatterternary\",\"marker\":{\"colorbar\":{\"outlinewidth\":0,\"ticks\":\"\"}}}],\"scattercarpet\":[{\"type\":\"scattercarpet\",\"marker\":{\"colorbar\":{\"outlinewidth\":0,\"ticks\":\"\"}}}],\"carpet\":[{\"aaxis\":{\"endlinecolor\":\"#2a3f5f\",\"gridcolor\":\"white\",\"linecolor\":\"white\",\"minorgridcolor\":\"white\",\"startlinecolor\":\"#2a3f5f\"},\"baxis\":{\"endlinecolor\":\"#2a3f5f\",\"gridcolor\":\"white\",\"linecolor\":\"white\",\"minorgridcolor\":\"white\",\"startlinecolor\":\"#2a3f5f\"},\"type\":\"carpet\"}],\"table\":[{\"cells\":{\"fill\":{\"color\":\"#EBF0F8\"},\"line\":{\"color\":\"white\"}},\"header\":{\"fill\":{\"color\":\"#C8D4E3\"},\"line\":{\"color\":\"white\"}},\"type\":\"table\"}],\"barpolar\":[{\"marker\":{\"line\":{\"color\":\"#E5ECF6\",\"width\":0.5},\"pattern\":{\"fillmode\":\"overlay\",\"size\":10,\"solidity\":0.2}},\"type\":\"barpolar\"}],\"pie\":[{\"automargin\":true,\"type\":\"pie\"}]},\"layout\":{\"autotypenumbers\":\"strict\",\"colorway\":[\"#636efa\",\"#EF553B\",\"#00cc96\",\"#ab63fa\",\"#FFA15A\",\"#19d3f3\",\"#FF6692\",\"#B6E880\",\"#FF97FF\",\"#FECB52\"],\"font\":{\"color\":\"#2a3f5f\"},\"hovermode\":\"closest\",\"hoverlabel\":{\"align\":\"left\"},\"paper_bgcolor\":\"white\",\"plot_bgcolor\":\"#E5ECF6\",\"polar\":{\"bgcolor\":\"#E5ECF6\",\"angularaxis\":{\"gridcolor\":\"white\",\"linecolor\":\"white\",\"ticks\":\"\"},\"radialaxis\":{\"gridcolor\":\"white\",\"linecolor\":\"white\",\"ticks\":\"\"}},\"ternary\":{\"bgcolor\":\"#E5ECF6\",\"aaxis\":{\"gridcolor\":\"white\",\"linecolor\":\"white\",\"ticks\":\"\"},\"baxis\":{\"gridcolor\":\"white\",\"linecolor\":\"white\",\"ticks\":\"\"},\"caxis\":{\"gridcolor\":\"white\",\"linecolor\":\"white\",\"ticks\":\"\"}},\"coloraxis\":{\"colorbar\":{\"outlinewidth\":0,\"ticks\":\"\"}},\"colorscale\":{\"sequential\":[[0.0,\"#0d0887\"],[0.1111111111111111,\"#46039f\"],[0.2222222222222222,\"#7201a8\"],[0.3333333333333333,\"#9c179e\"],[0.4444444444444444,\"#bd3786\"],[0.5555555555555556,\"#d8576b\"],[0.6666666666666666,\"#ed7953\"],[0.7777777777777778,\"#fb9f3a\"],[0.8888888888888888,\"#fdca26\"],[1.0,\"#f0f921\"]],\"sequentialminus\":[[0.0,\"#0d0887\"],[0.1111111111111111,\"#46039f\"],[0.2222222222222222,\"#7201a8\"],[0.3333333333333333,\"#9c179e\"],[0.4444444444444444,\"#bd3786\"],[0.5555555555555556,\"#d8576b\"],[0.6666666666666666,\"#ed7953\"],[0.7777777777777778,\"#fb9f3a\"],[0.8888888888888888,\"#fdca26\"],[1.0,\"#f0f921\"]],\"diverging\":[[0,\"#8e0152\"],[0.1,\"#c51b7d\"],[0.2,\"#de77ae\"],[0.3,\"#f1b6da\"],[0.4,\"#fde0ef\"],[0.5,\"#f7f7f7\"],[0.6,\"#e6f5d0\"],[0.7,\"#b8e186\"],[0.8,\"#7fbc41\"],[0.9,\"#4d9221\"],[1,\"#276419\"]]},\"xaxis\":{\"gridcolor\":\"white\",\"linecolor\":\"white\",\"ticks\":\"\",\"title\":{\"standoff\":15},\"zerolinecolor\":\"white\",\"automargin\":true,\"zerolinewidth\":2},\"yaxis\":{\"gridcolor\":\"white\",\"linecolor\":\"white\",\"ticks\":\"\",\"title\":{\"standoff\":15},\"zerolinecolor\":\"white\",\"automargin\":true,\"zerolinewidth\":2},\"scene\":{\"xaxis\":{\"backgroundcolor\":\"#E5ECF6\",\"gridcolor\":\"white\",\"linecolor\":\"white\",\"showbackground\":true,\"ticks\":\"\",\"zerolinecolor\":\"white\",\"gridwidth\":2},\"yaxis\":{\"backgroundcolor\":\"#E5ECF6\",\"gridcolor\":\"white\",\"linecolor\":\"white\",\"showbackground\":true,\"ticks\":\"\",\"zerolinecolor\":\"white\",\"gridwidth\":2},\"zaxis\":{\"backgroundcolor\":\"#E5ECF6\",\"gridcolor\":\"white\",\"linecolor\":\"white\",\"showbackground\":true,\"ticks\":\"\",\"zerolinecolor\":\"white\",\"gridwidth\":2}},\"shapedefaults\":{\"line\":{\"color\":\"#2a3f5f\"}},\"annotationdefaults\":{\"arrowcolor\":\"#2a3f5f\",\"arrowhead\":0,\"arrowwidth\":1},\"geo\":{\"bgcolor\":\"white\",\"landcolor\":\"#E5ECF6\",\"subunitcolor\":\"white\",\"showland\":true,\"showlakes\":true,\"lakecolor\":\"white\"},\"title\":{\"x\":0.05},\"mapbox\":{\"style\":\"light\"}}},\"xaxis\":{\"anchor\":\"y\",\"domain\":[0.0,1.0],\"title\":{\"text\":\"asym_score\"}},\"yaxis\":{\"anchor\":\"x\",\"domain\":[0.0,1.0],\"title\":{\"text\":\"signal/noise\"}},\"legend\":{\"tracegroupgap\":0},\"margin\":{\"t\":60}},                        {\"responsive\": true}                    ).then(function(){\n",
       "                            \n",
       "var gd = document.getElementById('5c1652bb-0588-40a8-a58b-51a89c85002c');\n",
       "var x = new MutationObserver(function (mutations, observer) {{\n",
       "        var display = window.getComputedStyle(gd).display;\n",
       "        if (!display || display === 'none') {{\n",
       "            console.log([gd, 'removed!']);\n",
       "            Plotly.purge(gd);\n",
       "            observer.disconnect();\n",
       "        }}\n",
       "}});\n",
       "\n",
       "// Listen for the removal of the full notebook cells\n",
       "var notebookContainer = gd.closest('#notebook-container');\n",
       "if (notebookContainer) {{\n",
       "    x.observe(notebookContainer, {childList: true});\n",
       "}}\n",
       "\n",
       "// Listen for the clearing of the current output cell\n",
       "var outputEl = gd.closest('.output');\n",
       "if (outputEl) {{\n",
       "    x.observe(outputEl, {childList: true});\n",
       "}}\n",
       "\n",
       "                        })                };                });            </script>        </div>"
      ]
     },
     "metadata": {},
     "output_type": "display_data"
    }
   ],
   "source": [
    "px.scatter(total_df,x='asym_score',y='signal/noise')"
   ]
  },
  {
   "cell_type": "code",
   "execution_count": 36,
   "id": "07d9cce3-5c1c-4b3c-b522-1b4f3cd6cc0d",
   "metadata": {},
   "outputs": [
    {
     "name": "stdout",
     "output_type": "stream",
     "text": [
      "did not find\n"
     ]
    }
   ],
   "source": [
    "for f in glob.glob('plots/'):\n",
    "    if any([x in f for x in total_df.file]):\n",
    "        print(f)\n",
    "    else:\n",
    "\n",
    "        print(\"did not find\")"
   ]
  },
  {
   "cell_type": "code",
   "execution_count": 61,
   "id": "3936273b-dec3-4169-8557-9abf3b98d66e",
   "metadata": {},
   "outputs": [
    {
     "data": {
      "text/plain": [
       "False"
      ]
     },
     "execution_count": 61,
     "metadata": {},
     "output_type": "execute_result"
    }
   ],
   "source": [
    "total_df.file[0].split('_')[1].split('.pkl')[0] in glob.glob('plots/TIC*_*.pdf')"
   ]
  },
  {
   "cell_type": "code",
   "execution_count": 58,
   "id": "e4862359-13b8-437b-a666-89dfdca2e4e3",
   "metadata": {},
   "outputs": [
    {
     "data": {
      "text/plain": [
       "'139583463'"
      ]
     },
     "execution_count": 58,
     "metadata": {},
     "output_type": "execute_result"
    }
   ],
   "source": [
    "total_df.file[0].split('_')[1].split('.pkl')[0]"
   ]
  },
  {
   "cell_type": "code",
   "execution_count": 59,
   "id": "3afa1bc4-cbee-4c75-b9e6-3de14e2ab2aa",
   "metadata": {},
   "outputs": [
    {
     "data": {
      "text/plain": [
       "['plots/TIC287909665_fourier.pdf',\n",
       " 'plots/TIC234273829_lowess.pdf',\n",
       " 'plots/TIC299585416_median.pdf',\n",
       " 'plots/TIC46310087_fourier.pdf',\n",
       " 'plots/TIC287538204_median.pdf',\n",
       " 'plots/TIC59725791_lowess.pdf',\n",
       " 'plots/TIC33746198_fourier.pdf',\n",
       " 'plots/TIC93238321_fourier.pdf',\n",
       " 'plots/TIC382031115_fourier.pdf',\n",
       " 'plots/TIC148094909_median.pdf',\n",
       " 'plots/TIC143118226_median.pdf',\n",
       " 'plots/TIC346645362_median.pdf',\n",
       " 'plots/TIC235495815_fourier.pdf',\n",
       " 'plots/TIC425083216_lowess.pdf',\n",
       " 'plots/TIC161638202_fourier.pdf',\n",
       " 'plots/TIC33870260_lowess.pdf',\n",
       " 'plots/TIC59468211_lowess.pdf',\n",
       " 'plots/TIC350929538_lowess.pdf',\n",
       " 'plots/TIC30927032_fourier.pdf',\n",
       " 'plots/TIC317025501_lowess.pdf',\n",
       " 'plots/TIC146989855_median.pdf',\n",
       " 'plots/TIC220480357_lowess.pdf',\n",
       " 'plots/TIC431479984_lowess.pdf',\n",
       " 'plots/TIC442958626_lowess.pdf',\n",
       " 'plots/TIC24885948_median.pdf',\n",
       " 'plots/TIC176450574_lowess.pdf',\n",
       " 'plots/TIC302536575_fourier.pdf',\n",
       " 'plots/TIC31195433_fourier.pdf',\n",
       " 'plots/TIC265454195_fourier.pdf',\n",
       " 'plots/TIC139474121_median.pdf',\n",
       " 'plots/TIC340795544_lowess.pdf',\n",
       " 'plots/TIC130650019_lowess.pdf',\n",
       " 'plots/TIC158824382_lowess.pdf',\n",
       " 'plots/TIC265082457_lowess.pdf',\n",
       " 'plots/TIC120745553_fourier.pdf',\n",
       " 'plots/TIC31113382_median.pdf',\n",
       " 'plots/TIC167721564_median.pdf',\n",
       " 'plots/TIC49769991_median.pdf',\n",
       " 'plots/TIC168065394_fourier.pdf',\n",
       " 'plots/TIC438317771_fourier.pdf',\n",
       " 'plots/TIC67163295_fourier.pdf',\n",
       " 'plots/TIC25119324_fourier.pdf',\n",
       " 'plots/TIC147943852_fourier.pdf',\n",
       " 'plots/TIC231723779_fourier.pdf',\n",
       " 'plots/TIC141770496_lowess.pdf',\n",
       " 'plots/TIC220281650_median.pdf',\n",
       " 'plots/TIC421838225_fourier.pdf',\n",
       " 'plots/TIC123729467_median.pdf',\n",
       " 'plots/TIC170203862_lowess.pdf',\n",
       " 'plots/TIC172082020_fourier.pdf',\n",
       " 'plots/TIC53743942_fourier.pdf',\n",
       " 'plots/TIC350857817_lowess.pdf',\n",
       " 'plots/TIC237816747_fourier.pdf',\n",
       " 'plots/TIC31306138_lowess.pdf',\n",
       " 'plots/TIC100778651_fourier.pdf',\n",
       " 'plots/TIC288154512_fourier.pdf',\n",
       " 'plots/TIC176958956_fourier.pdf',\n",
       " 'plots/TIC49376741_median.pdf',\n",
       " 'plots/TIC303904041_lowess.pdf',\n",
       " 'plots/TIC119689666_fourier.pdf',\n",
       " 'plots/TIC344140252_fourier.pdf',\n",
       " 'plots/TIC95408945_median.pdf',\n",
       " 'plots/TIC157008583_median.pdf',\n",
       " 'plots/TIC307712539_median.pdf',\n",
       " 'plots/TIC93415191_median.pdf',\n",
       " 'plots/TIC80770481_median.pdf',\n",
       " 'plots/TIC39728206_lowess.pdf',\n",
       " 'plots/TIC148090779_median.pdf',\n",
       " 'plots/TIC140858952_median.pdf',\n",
       " 'plots/TIC281807658_median.pdf',\n",
       " 'plots/TIC349375310_median.pdf',\n",
       " 'plots/TIC142404284_lowess.pdf',\n",
       " 'plots/TIC229379777_lowess.pdf',\n",
       " 'plots/TIC165211926_fourier.pdf',\n",
       " 'plots/TIC156936926_lowess.pdf',\n",
       " 'plots/TIC229358373_lowess.pdf',\n",
       " 'plots/TIC67262475_lowess.pdf',\n",
       " 'plots/TIC229365785_median.pdf',\n",
       " 'plots/TIC51831457_fourier.pdf',\n",
       " 'plots/TIC148321336_median.pdf',\n",
       " 'plots/TIC123662158_lowess.pdf',\n",
       " 'plots/TIC141915322_median.pdf',\n",
       " 'plots/TIC72554758_median.pdf',\n",
       " 'plots/TIC250550533_lowess.pdf',\n",
       " 'plots/TIC271806040_lowess.pdf',\n",
       " 'plots/TIC287354778_lowess.pdf',\n",
       " 'plots/TIC55524079_median.pdf',\n",
       " 'plots/TIC78821912_median.pdf',\n",
       " 'plots/TIC25331029_fourier.pdf',\n",
       " 'plots/TIC237360538_median.pdf',\n",
       " 'plots/TIC238165348_median.pdf',\n",
       " 'plots/TIC281608431_fourier.pdf',\n",
       " 'plots/TIC11964887_lowess.pdf',\n",
       " 'plots/TIC118791453_lowess.pdf',\n",
       " 'plots/TIC130516794_lowess.pdf',\n",
       " 'plots/TIC237702325_median.pdf',\n",
       " 'plots/TIC255779191_fourier.pdf',\n",
       " 'plots/TIC738392351_lowess.pdf',\n",
       " 'plots/TIC170103262_lowess.pdf',\n",
       " 'plots/TIC265156144_median.pdf',\n",
       " 'plots/TIC307212699_median.pdf',\n",
       " 'plots/TIC427374861_median.pdf',\n",
       " 'plots/TIC123407366_fourier.pdf',\n",
       " 'plots/TIC39165259_lowess.pdf',\n",
       " 'plots/TIC153166738_lowess.pdf',\n",
       " 'plots/TIC156946263_fourier.pdf',\n",
       " 'plots/TIC32811502_lowess.pdf',\n",
       " 'plots/TIC141771105_median.pdf',\n",
       " 'plots/TIC434372574_lowess.pdf',\n",
       " 'plots/TIC66776827_median.pdf',\n",
       " 'plots/TIC346427887_median.pdf',\n",
       " 'plots/TIC38571016_fourier.pdf',\n",
       " 'plots/TIC266160546_fourier.pdf',\n",
       " 'plots/TIC247513200_fourier.pdf',\n",
       " 'plots/TIC299656233_lowess.pdf',\n",
       " 'plots/TIC279089540_fourier.pdf',\n",
       " 'plots/TIC333346658_lowess.pdf',\n",
       " 'plots/TIC167393410_fourier.pdf',\n",
       " 'plots/TIC117670649_lowess.pdf',\n",
       " 'plots/TIC157050220_lowess.pdf',\n",
       " 'plots/TIC148094358_lowess.pdf',\n",
       " 'plots/TIC156937681_lowess.pdf',\n",
       " 'plots/TIC306815617_lowess.pdf',\n",
       " 'plots/TIC260353824_lowess.pdf',\n",
       " 'plots/TIC48886409_fourier.pdf',\n",
       " 'plots/TIC762857718_fourier.pdf',\n",
       " 'plots/TIC373915385_median.pdf',\n",
       " 'plots/TIC250517270_median.pdf',\n",
       " 'plots/TIC39354298_lowess.pdf',\n",
       " 'plots/TIC102167286_lowess.pdf',\n",
       " 'plots/TIC250463983_median.pdf',\n",
       " 'plots/TIC282356866_fourier.pdf',\n",
       " 'plots/TIC270711552_lowess.pdf',\n",
       " 'plots/TIC148182438_lowess.pdf',\n",
       " 'plots/TIC55524379_lowess.pdf',\n",
       " 'plots/TIC394230855_lowess.pdf',\n",
       " 'plots/TIC219345076_median.pdf',\n",
       " 'plots/TIC235067760_lowess.pdf',\n",
       " 'plots/TIC31261813_fourier.pdf',\n",
       " 'plots/TIC301780898_median.pdf',\n",
       " 'plots/TIC281799175_median.pdf',\n",
       " 'plots/TIC349310293_fourier.pdf',\n",
       " 'plots/TIC350098426_fourier.pdf',\n",
       " 'plots/TIC386323157_lowess.pdf',\n",
       " 'plots/TIC293776622_fourier.pdf',\n",
       " 'plots/TIC238182025_fourier.pdf',\n",
       " 'plots/TIC127227849_lowess.pdf',\n",
       " 'plots/TIC151475374_fourier.pdf',\n",
       " 'plots/TIC350523012_fourier.pdf',\n",
       " 'plots/TIC100682232_median.pdf',\n",
       " 'plots/TIC158701246_median.pdf',\n",
       " 'plots/TIC96979961_median.pdf',\n",
       " 'plots/TIC24588623_median.pdf',\n",
       " 'plots/TIC280222598_lowess.pdf',\n",
       " 'plots/TIC78738971_fourier.pdf',\n",
       " 'plots/TIC385814337_lowess.pdf',\n",
       " 'plots/TIC442923008_fourier.pdf',\n",
       " 'plots/TIC675857465_lowess.pdf',\n",
       " 'plots/TIC156918753_lowess.pdf',\n",
       " 'plots/TIC279613469_lowess.pdf',\n",
       " 'plots/TIC271721460_median.pdf',\n",
       " 'plots/TIC48810952_fourier.pdf',\n",
       " 'plots/TIC232134772_median.pdf',\n",
       " 'plots/TIC97060800_lowess.pdf',\n",
       " 'plots/TIC280211237_median.pdf',\n",
       " 'plots/TIC153620409_fourier.pdf',\n",
       " 'plots/TIC92846148_fourier.pdf',\n",
       " 'plots/TIC52809117_median.pdf',\n",
       " 'plots/TIC48754506_fourier.pdf',\n",
       " 'plots/TIC146916376_fourier.pdf',\n",
       " 'plots/TIC290173190_lowess.pdf',\n",
       " 'plots/TIC167703272_median.pdf',\n",
       " 'plots/TIC80770481_fourier.pdf',\n",
       " 'plots/TIC55524079_fourier.pdf',\n",
       " 'plots/TIC220128912_fourier.pdf',\n",
       " 'plots/TIC78110018_fourier.pdf',\n",
       " 'plots/TIC290754446_median.pdf',\n",
       " 'plots/TIC219397739_lowess.pdf',\n",
       " 'plots/TIC365567443_lowess.pdf',\n",
       " 'plots/TIC265550785_lowess.pdf',\n",
       " 'plots/TIC78673489_lowess.pdf',\n",
       " 'plots/TIC159056105_lowess.pdf',\n",
       " 'plots/TIC119689666_median.pdf',\n",
       " 'plots/TIC282618644_median.pdf',\n",
       " 'plots/TIC759234340_fourier.pdf',\n",
       " 'plots/TIC39474081_lowess.pdf',\n",
       " 'plots/TIC220128912_median.pdf',\n",
       " 'plots/TIC165208319_median.pdf',\n",
       " 'plots/TIC47648906_lowess.pdf',\n",
       " 'plots/TIC53593304_median.pdf',\n",
       " 'plots/TIC281247200_median.pdf',\n",
       " 'plots/TIC161635857_fourier.pdf',\n",
       " 'plots/TIC259701345_lowess.pdf',\n",
       " 'plots/TIC264681510_median.pdf',\n",
       " 'plots/TIC32555447_lowess.pdf',\n",
       " 'plots/TIC436248361_median.pdf',\n",
       " 'plots/TIC705677372_median.pdf',\n",
       " 'plots/TIC294092489_median.pdf',\n",
       " 'plots/TIC148318688_lowess.pdf',\n",
       " 'plots/TIC78110018_median.pdf',\n",
       " 'plots/TIC101206320_median.pdf',\n",
       " 'plots/TIC50524182_fourier.pdf',\n",
       " 'plots/TIC232023854_lowess.pdf',\n",
       " 'plots/TIC282198164_lowess.pdf',\n",
       " 'plots/TIC41259186_median.pdf',\n",
       " 'plots/TIC232420762_fourier.pdf',\n",
       " 'plots/TIC71964003_fourier.pdf',\n",
       " 'plots/TIC350336753_lowess.pdf',\n",
       " 'plots/TIC20231585_lowess.pdf',\n",
       " 'plots/TIC52864067_lowess.pdf',\n",
       " 'plots/TIC206887581_median.pdf',\n",
       " 'plots/TIC61585165_median.pdf',\n",
       " 'plots/TIC59956627_lowess.pdf',\n",
       " 'plots/TIC46741833_median.pdf',\n",
       " 'plots/TIC442960627_lowess.pdf',\n",
       " 'plots/TIC176590314_lowess.pdf',\n",
       " 'plots/TIC25644188_lowess.pdf',\n",
       " 'plots/TIC95329537_fourier.pdf',\n",
       " 'plots/TIC264592783_fourier.pdf',\n",
       " 'plots/TIC43319501_median.pdf',\n",
       " 'plots/TIC52687117_median.pdf',\n",
       " 'plots/TIC119074991_lowess.pdf',\n",
       " 'plots/TIC457228413_lowess.pdf',\n",
       " 'plots/TIC202016484_lowess.pdf',\n",
       " 'plots/TIC708526970_lowess.pdf',\n",
       " 'plots/TIC153164326_fourier.pdf',\n",
       " 'plots/TIC374856731_fourier.pdf',\n",
       " 'plots/TIC206681343_lowess.pdf',\n",
       " 'plots/TIC177112605_lowess.pdf',\n",
       " 'plots/TIC323422508_lowess.pdf',\n",
       " 'plots/TIC50523640_fourier.pdf',\n",
       " 'plots/TIC762267345_fourier.pdf',\n",
       " 'plots/TIC220438441_median.pdf',\n",
       " 'plots/TIC59993381_lowess.pdf',\n",
       " 'plots/TIC117766205_median.pdf',\n",
       " 'plots/TIC172366251_fourier.pdf',\n",
       " 'plots/TIC234947388_fourier.pdf',\n",
       " 'plots/TIC39223091_median.pdf',\n",
       " 'plots/TIC33745174_fourier.pdf',\n",
       " 'plots/TIC237978386_median.pdf',\n",
       " 'plots/TIC52372859_lowess.pdf',\n",
       " 'plots/TIC97720031_median.pdf',\n",
       " 'plots/TIC232017909_median.pdf',\n",
       " 'plots/TIC33549986_lowess.pdf',\n",
       " 'plots/TIC92847904_median.pdf',\n",
       " 'plots/TIC53119743_lowess.pdf',\n",
       " 'plots/TIC714517015_fourier.pdf',\n",
       " 'plots/TIC156758723_median.pdf',\n",
       " 'plots/TIC231074988_median.pdf',\n",
       " 'plots/TIC157751278_lowess.pdf',\n",
       " 'plots/TIC372851078_fourier.pdf',\n",
       " 'plots/TIC80571915_lowess.pdf',\n",
       " 'plots/TIC220395161_lowess.pdf',\n",
       " 'plots/TIC388130133_lowess.pdf',\n",
       " 'plots/TIC346426851_median.pdf',\n",
       " 'plots/TIC247758936_lowess.pdf',\n",
       " 'plots/TIC59543724_median.pdf',\n",
       " 'plots/TIC235345684_median.pdf',\n",
       " 'plots/TIC317016194_lowess.pdf',\n",
       " 'plots/TIC288069392_fourier.pdf',\n",
       " 'plots/TIC156992289_median.pdf',\n",
       " 'plots/TIC282500773_median.pdf',\n",
       " 'plots/TIC39292847_median.pdf',\n",
       " 'plots/TIC52740808_median.pdf',\n",
       " 'plots/TIC49307625_median.pdf',\n",
       " 'plots/TIC288255795_lowess.pdf',\n",
       " 'plots/TIC306692905_fourier.pdf',\n",
       " 'plots/TIC427465442_median.pdf',\n",
       " 'plots/TIC67281613_median.pdf',\n",
       " 'plots/TIC144735502_median.pdf',\n",
       " 'plots/TIC346576581_lowess.pdf',\n",
       " 'plots/TIC443536723_median.pdf',\n",
       " 'plots/TIC37398717_lowess.pdf',\n",
       " 'plots/TIC220418626_median.pdf',\n",
       " 'plots/TIC42884478_lowess.pdf',\n",
       " 'plots/TIC156149356_lowess.pdf',\n",
       " 'plots/TIC284912972_fourier.pdf',\n",
       " 'plots/TIC232037018_median.pdf',\n",
       " 'plots/TIC66655204_median.pdf',\n",
       " 'plots/TIC220454752_fourier.pdf',\n",
       " 'plots/TIC232253242_fourier.pdf',\n",
       " 'plots/TIC53496424_fourier.pdf',\n",
       " 'plots/TIC317329809_fourier.pdf',\n",
       " 'plots/TIC71628758_fourier.pdf',\n",
       " 'plots/TIC284161799_fourier.pdf',\n",
       " 'plots/TIC219418547_fourier.pdf',\n",
       " 'plots/TIC437985778_lowess.pdf',\n",
       " 'plots/TIC53595711_median.pdf',\n",
       " 'plots/TIC403732412_lowess.pdf',\n",
       " 'plots/TIC143315637_lowess.pdf',\n",
       " 'plots/TIC49314857_fourier.pdf',\n",
       " 'plots/TIC134282943_median.pdf',\n",
       " 'plots/TIC119240778_fourier.pdf',\n",
       " 'plots/TIC24601968_median.pdf',\n",
       " 'plots/TIC234894642_fourier.pdf',\n",
       " 'plots/TIC134174691_median.pdf',\n",
       " 'plots/TIC202275192_median.pdf',\n",
       " 'plots/TIC39721310_fourier.pdf',\n",
       " 'plots/TIC32811916_median.pdf',\n",
       " 'plots/TIC120332063_lowess.pdf',\n",
       " 'plots/TIC176958956_lowess.pdf',\n",
       " 'plots/TIC79535403_lowess.pdf',\n",
       " 'plots/TIC172196914_lowess.pdf',\n",
       " 'plots/TIC46561400_median.pdf',\n",
       " 'plots/TIC147798319_lowess.pdf',\n",
       " 'plots/TIC200342119_fourier.pdf',\n",
       " 'plots/TIC38906688_fourier.pdf',\n",
       " 'plots/TIC202051332_fourier.pdf',\n",
       " 'plots/TIC120881280_lowess.pdf',\n",
       " 'plots/TIC279571863_fourier.pdf',\n",
       " 'plots/TIC155096166_fourier.pdf',\n",
       " 'plots/TIC300653037_fourier.pdf',\n",
       " 'plots/TIC306397968_fourier.pdf',\n",
       " 'plots/TIC260240964_median.pdf',\n",
       " 'plots/TIC255779191_median.pdf',\n",
       " 'plots/TIC102406155_lowess.pdf',\n",
       " 'plots/TIC124022881_fourier.pdf',\n",
       " 'plots/TIC288357114_fourier.pdf',\n",
       " 'plots/TIC237458831_fourier.pdf',\n",
       " 'plots/TIC442993376_median.pdf',\n",
       " 'plots/TIC41486454_lowess.pdf',\n",
       " 'plots/TIC299741737_lowess.pdf',\n",
       " 'plots/TIC158701246_fourier.pdf',\n",
       " 'plots/TIC172117254_lowess.pdf',\n",
       " 'plots/TIC100529328_median.pdf',\n",
       " 'plots/TIC148226376_fourier.pdf',\n",
       " 'plots/TIC237457878_lowess.pdf',\n",
       " 'plots/TIC237454510_median.pdf',\n",
       " 'plots/TIC142470063_lowess.pdf',\n",
       " 'plots/TIC232258659_median.pdf',\n",
       " 'plots/TIC322687356_median.pdf',\n",
       " 'plots/TIC11408980_median.pdf',\n",
       " 'plots/TIC24608681_fourier.pdf',\n",
       " 'plots/TIC382268952_median.pdf',\n",
       " 'plots/TIC715304115_lowess.pdf',\n",
       " 'plots/TIC382066578_lowess.pdf',\n",
       " 'plots/TIC199884769_median.pdf',\n",
       " 'plots/TIC319437236_median.pdf',\n",
       " 'plots/TIC716708670_median.pdf',\n",
       " 'plots/TIC97638612_fourier.pdf',\n",
       " 'plots/TIC167417087_lowess.pdf',\n",
       " 'plots/TIC158071281_lowess.pdf',\n",
       " 'plots/TIC35638850_median.pdf',\n",
       " 'plots/TIC52690229_median.pdf',\n",
       " 'plots/TIC123725130_fourier.pdf',\n",
       " 'plots/TIC372496655_fourier.pdf',\n",
       " 'plots/TIC123630399_fourier.pdf',\n",
       " 'plots/TIC143204443_median.pdf',\n",
       " 'plots/TIC49183627_fourier.pdf',\n",
       " 'plots/TIC202049771_median.pdf',\n",
       " 'plots/TIC271797208_lowess.pdf',\n",
       " 'plots/TIC50748232_median.pdf',\n",
       " 'plots/TIC80573487_median.pdf',\n",
       " 'plots/TIC50588146_median.pdf',\n",
       " 'plots/TIC260640311_fourier.pdf',\n",
       " 'plots/TIC229289171_median.pdf',\n",
       " 'plots/TIC290657792_median.pdf',\n",
       " 'plots/TIC61344090_lowess.pdf',\n",
       " 'plots/TIC287532422_fourier.pdf',\n",
       " 'plots/TIC30999295_fourier.pdf',\n",
       " 'plots/TIC200000713_lowess.pdf',\n",
       " 'plots/TIC344084223_fourier.pdf',\n",
       " 'plots/TIC38000511_median.pdf',\n",
       " 'plots/TIC151474953_lowess.pdf',\n",
       " 'plots/TIC299740289_fourier.pdf',\n",
       " 'plots/TIC255548629_fourier.pdf',\n",
       " 'plots/TIC251231954_fourier.pdf',\n",
       " 'plots/TIC443578841_lowess.pdf',\n",
       " 'plots/TIC63419197_fourier.pdf',\n",
       " 'plots/TIC438197092_fourier.pdf',\n",
       " 'plots/TIC263935069_lowess.pdf',\n",
       " 'plots/TIC387144633_median.pdf',\n",
       " 'plots/TIC232509872_median.pdf',\n",
       " 'plots/TIC158955473_lowess.pdf',\n",
       " 'plots/TIC24432144_median.pdf',\n",
       " 'plots/TIC344140252_median.pdf',\n",
       " 'plots/TIC37740478_fourier.pdf',\n",
       " 'plots/TIC151371515_lowess.pdf',\n",
       " 'plots/TIC270711126_lowess.pdf',\n",
       " 'plots/TIC34318370_fourier.pdf',\n",
       " 'plots/TIC96444614_median.pdf',\n",
       " 'plots/TIC365645228_median.pdf',\n",
       " 'plots/TIC124987862_lowess.pdf',\n",
       " 'plots/TIC318012530_lowess.pdf',\n",
       " 'plots/TIC157451414_lowess.pdf',\n",
       " 'plots/TIC156942509_lowess.pdf',\n",
       " 'plots/TIC48656367_lowess.pdf',\n",
       " 'plots/TIC287349212_median.pdf',\n",
       " 'plots/TIC237392601_median.pdf',\n",
       " 'plots/TIC158088672_fourier.pdf',\n",
       " 'plots/TIC260415353_median.pdf',\n",
       " 'plots/TIC59215150_median.pdf',\n",
       " 'plots/TIC247834384_median.pdf',\n",
       " 'plots/TIC97966400_median.pdf',\n",
       " 'plots/TIC37604375_median.pdf',\n",
       " 'plots/TIC302539227_median.pdf',\n",
       " 'plots/TIC302496876_fourier.pdf',\n",
       " 'plots/TIC259703197_lowess.pdf',\n",
       " 'plots/TIC144733706_lowess.pdf',\n",
       " 'plots/TIC300865258_fourier.pdf',\n",
       " 'plots/TIC124024532_lowess.pdf',\n",
       " 'plots/TIC393450547_fourier.pdf',\n",
       " 'plots/TIC20141220_fourier.pdf',\n",
       " 'plots/TIC34732874_fourier.pdf',\n",
       " 'plots/TIC219193524_fourier.pdf',\n",
       " 'plots/TIC31106039_fourier.pdf',\n",
       " 'plots/TIC317602829_median.pdf',\n",
       " 'plots/TIC124855058_fourier.pdf',\n",
       " 'plots/TIC200118572_median.pdf',\n",
       " 'plots/TIC172737875_lowess.pdf',\n",
       " 'plots/TIC42999893_median.pdf',\n",
       " 'plots/TIC102552005_lowess.pdf',\n",
       " 'plots/TIC770871114_median.pdf',\n",
       " 'plots/TIC445150249_lowess.pdf',\n",
       " 'plots/TIC337090399_lowess.pdf',\n",
       " 'plots/TIC52917239_fourier.pdf',\n",
       " 'plots/TIC31301573_median.pdf',\n",
       " 'plots/TIC140280491_fourier.pdf',\n",
       " 'plots/TIC34730272_fourier.pdf',\n",
       " 'plots/TIC308580197_median.pdf',\n",
       " 'plots/TIC25195059_fourier.pdf',\n",
       " 'plots/TIC219426106_lowess.pdf',\n",
       " 'plots/TIC287915970_lowess.pdf',\n",
       " 'plots/TIC143375774_lowess.pdf',\n",
       " 'plots/TIC271973322_lowess.pdf',\n",
       " 'plots/TIC708526970_fourier.pdf',\n",
       " 'plots/TIC442997657_lowess.pdf',\n",
       " 'plots/TIC93372193_fourier.pdf',\n",
       " 'plots/TIC157460207_median.pdf',\n",
       " 'plots/TIC443291187_lowess.pdf',\n",
       " 'plots/TIC374829457_median.pdf',\n",
       " 'plots/TIC156710667_fourier.pdf',\n",
       " 'plots/TIC393792370_fourier.pdf',\n",
       " 'plots/TIC30943973_fourier.pdf',\n",
       " 'plots/TIC344023889_lowess.pdf',\n",
       " 'plots/TIC303851235_fourier.pdf',\n",
       " 'plots/TIC59750057_lowess.pdf',\n",
       " 'plots/TIC37204218_median.pdf',\n",
       " 'plots/TIC255556172_fourier.pdf',\n",
       " 'plots/TIC119756265_lowess.pdf',\n",
       " 'plots/TIC4587266_lowess.pdf',\n",
       " 'plots/TIC287996580_lowess.pdf',\n",
       " 'plots/TIC63203096_median.pdf',\n",
       " 'plots/TIC72554797_fourier.pdf',\n",
       " 'plots/TIC381952328_median.pdf',\n",
       " 'plots/TIC123570617_median.pdf',\n",
       " 'plots/TIC176516929_lowess.pdf',\n",
       " 'plots/TIC346430425_fourier.pdf',\n",
       " 'plots/TIC358399692_lowess.pdf',\n",
       " 'plots/TIC156849023_median.pdf',\n",
       " 'plots/TIC78821912_fourier.pdf',\n",
       " 'plots/TIC130338339_lowess.pdf',\n",
       " 'plots/TIC232457045_fourier.pdf',\n",
       " 'plots/TIC92872067_lowess.pdf',\n",
       " 'plots/TIC96802531_fourier.pdf',\n",
       " 'plots/TIC427378551_lowess.pdf',\n",
       " 'plots/TIC31959761_fourier.pdf',\n",
       " 'plots/TIC288261197_fourier.pdf',\n",
       " 'plots/TIC200004875_lowess.pdf',\n",
       " 'plots/TIC139411179_fourier.pdf',\n",
       " 'plots/TIC144734708_lowess.pdf',\n",
       " 'plots/TIC60527317_lowess.pdf',\n",
       " 'plots/TIC141126096_lowess.pdf',\n",
       " 'plots/TIC308394868_median.pdf',\n",
       " 'plots/TIC192849535_lowess.pdf',\n",
       " 'plots/TIC300145264_fourier.pdf',\n",
       " 'plots/TIC79868089_lowess.pdf',\n",
       " 'plots/TIC232151933_lowess.pdf',\n",
       " 'plots/TIC247916111_lowess.pdf',\n",
       " 'plots/TIC393456347_lowess.pdf',\n",
       " 'plots/TIC365693930_lowess.pdf',\n",
       " 'plots/TIC237630174_fourier.pdf',\n",
       " 'plots/TIC96444433_median.pdf',\n",
       " 'plots/TIC21446544_fourier.pdf',\n",
       " 'plots/TIC300203756_median.pdf',\n",
       " 'plots/TIC60344444_fourier.pdf',\n",
       " 'plots/TIC358179633_median.pdf',\n",
       " 'plots/TIC139583463_fourier.pdf',\n",
       " 'plots/TIC130647918_lowess.pdf',\n",
       " 'plots/TIC97165014_median.pdf',\n",
       " 'plots/TIC281047811_lowess.pdf',\n",
       " 'plots/TIC407623648_lowess.pdf',\n",
       " 'plots/TIC234568172_lowess.pdf',\n",
       " 'plots/TIC281144079_lowess.pdf',\n",
       " 'plots/TIC404932426_median.pdf',\n",
       " 'plots/TIC55399084_median.pdf',\n",
       " 'plots/TIC307732208_fourier.pdf',\n",
       " 'plots/TIC67198573_fourier.pdf',\n",
       " 'plots/TIC234809926_median.pdf',\n",
       " 'plots/TIC231975297_median.pdf',\n",
       " 'plots/TIC25248458_median.pdf',\n",
       " 'plots/TIC260304568_lowess.pdf',\n",
       " 'plots/TIC167673508_fourier.pdf',\n",
       " 'plots/TIC33861931_lowess.pdf',\n",
       " 'plots/TIC80611125_median.pdf',\n",
       " 'plots/TIC220145836_median.pdf',\n",
       " 'plots/TIC20093514_fourier.pdf',\n",
       " 'plots/TIC40805216_fourier.pdf',\n",
       " 'plots/TIC235227735_lowess.pdf',\n",
       " 'plots/TIC37916634_fourier.pdf',\n",
       " 'plots/TIC263692389_median.pdf',\n",
       " 'plots/TIC168196861_median.pdf',\n",
       " 'plots/TIC425083216_fourier.pdf',\n",
       " 'plots/TIC67262475_fourier.pdf',\n",
       " 'plots/TIC119074991_fourier.pdf',\n",
       " 'plots/TIC200004875_fourier.pdf',\n",
       " 'plots/TIC38942395_lowess.pdf',\n",
       " 'plots/TIC50794889_lowess.pdf',\n",
       " 'plots/TIC149105655_lowess.pdf',\n",
       " 'plots/TIC231953439_median.pdf',\n",
       " 'plots/TIC97481990_median.pdf',\n",
       " 'plots/TIC143272777_fourier.pdf',\n",
       " 'plots/TIC48811112_median.pdf',\n",
       " 'plots/TIC37541459_fourier.pdf',\n",
       " 'plots/TIC238926399_lowess.pdf',\n",
       " 'plots/TIC53598396_fourier.pdf',\n",
       " 'plots/TIC100778571_lowess.pdf',\n",
       " 'plots/TIC151290868_fourier.pdf',\n",
       " 'plots/TIC317803444_median.pdf',\n",
       " 'plots/TIC206953364_fourier.pdf',\n",
       " 'plots/TIC333048865_fourier.pdf',\n",
       " 'plots/TIC93333338_fourier.pdf',\n",
       " 'plots/TIC39722593_lowess.pdf',\n",
       " 'plots/TIC303859256_fourier.pdf',\n",
       " 'plots/TIC238923685_fourier.pdf',\n",
       " 'plots/TIC201526430_fourier.pdf',\n",
       " 'plots/TIC156626480_fourier.pdf',\n",
       " 'plots/TIC291385414_median.pdf',\n",
       " 'plots/TIC445939993_lowess.pdf',\n",
       " 'plots/TIC120617851_lowess.pdf',\n",
       " 'plots/TIC176586814_lowess.pdf',\n",
       " 'plots/TIC48747268_fourier.pdf',\n",
       " 'plots/TIC100829568_lowess.pdf',\n",
       " 'plots/TIC306930938_fourier.pdf',\n",
       " 'plots/TIC31378848_median.pdf',\n",
       " 'plots/TIC281246904_lowess.pdf',\n",
       " 'plots/TIC134357298_fourier.pdf',\n",
       " 'plots/TIC231947360_fourier.pdf',\n",
       " 'plots/TIC53458395_lowess.pdf',\n",
       " 'plots/TIC60034242_lowess.pdf',\n",
       " 'plots/TIC78956791_lowess.pdf',\n",
       " 'plots/TIC117737555_lowess.pdf',\n",
       " 'plots/TIC281418780_median.pdf',\n",
       " 'plots/TIC41530737_median.pdf',\n",
       " 'plots/TIC123537016_median.pdf',\n",
       " 'plots/TIC393387295_fourier.pdf',\n",
       " 'plots/TIC144696705_median.pdf',\n",
       " 'plots/TIC59468299_median.pdf',\n",
       " 'plots/TIC148226714_lowess.pdf',\n",
       " 'plots/TIC299965786_median.pdf',\n",
       " 'plots/TIC52593986_fourier.pdf',\n",
       " 'plots/TIC276946045_fourier.pdf',\n",
       " 'plots/TIC445063597_fourier.pdf',\n",
       " 'plots/TIC372654341_lowess.pdf',\n",
       " 'plots/TIC24587246_median.pdf',\n",
       " 'plots/TIC200116990_median.pdf',\n",
       " 'plots/TIC344025436_median.pdf',\n",
       " 'plots/TIC29778926_fourier.pdf',\n",
       " 'plots/TIC153685529_fourier.pdf',\n",
       " 'plots/TIC35710448_lowess.pdf',\n",
       " 'plots/TIC287591080_median.pdf',\n",
       " 'plots/TIC232457045_median.pdf',\n",
       " 'plots/TIC201368708_lowess.pdf',\n",
       " 'plots/TIC63353506_fourier.pdf',\n",
       " 'plots/TIC157205236_lowess.pdf',\n",
       " 'plots/TIC161571985_median.pdf',\n",
       " 'plots/TIC31192059_median.pdf',\n",
       " 'plots/TIC42173067_median.pdf',\n",
       " 'plots/TIC24534797_lowess.pdf',\n",
       " 'plots/TIC264594738_median.pdf',\n",
       " 'plots/TIC389859063_median.pdf',\n",
       " 'plots/TIC39844577_median.pdf',\n",
       " 'plots/TIC36292437_fourier.pdf',\n",
       " 'plots/TIC39844855_fourier.pdf',\n",
       " 'plots/TIC234724848_fourier.pdf',\n",
       " 'plots/TIC47591164_median.pdf',\n",
       " 'plots/TIC101206320_fourier.pdf',\n",
       " 'plots/TIC234809926_fourier.pdf',\n",
       " 'plots/TIC238058678_lowess.pdf',\n",
       " 'plots/TIC34521110_lowess.pdf',\n",
       " 'plots/TIC33102006_lowess.pdf',\n",
       " 'plots/TIC156149356_fourier.pdf',\n",
       " 'plots/TIC407623648_fourier.pdf',\n",
       " 'plots/TIC238065310_fourier.pdf',\n",
       " 'plots/TIC134358645_median.pdf',\n",
       " 'plots/TIC333043538_lowess.pdf',\n",
       " 'plots/TIC43245400_fourier.pdf',\n",
       " 'plots/TIC148226376_lowess.pdf',\n",
       " 'plots/TIC48099275_fourier.pdf',\n",
       " 'plots/TIC388937685_fourier.pdf',\n",
       " 'plots/TIC120455604_fourier.pdf',\n",
       " 'plots/TIC100612989_median.pdf',\n",
       " 'plots/TIC427378551_fourier.pdf',\n",
       " 'plots/TIC290042300_lowess.pdf',\n",
       " 'plots/TIC346640353_median.pdf',\n",
       " 'plots/TIC234091183_fourier.pdf',\n",
       " 'plots/TIC53557016_lowess.pdf',\n",
       " 'plots/TIC55399084_fourier.pdf',\n",
       " 'plots/TIC234164877_median.pdf',\n",
       " 'plots/TIC53163272_median.pdf',\n",
       " 'plots/TIC250463983_fourier.pdf',\n",
       " 'plots/TIC453095247_median.pdf',\n",
       " 'plots/TIC22538139_lowess.pdf',\n",
       " 'plots/TIC238924705_median.pdf',\n",
       " 'plots/TIC37166019_median.pdf',\n",
       " 'plots/TIC234071795_median.pdf',\n",
       " 'plots/TIC388128224_fourier.pdf',\n",
       " 'plots/TIC12236334_lowess.pdf',\n",
       " 'plots/TIC339669483_fourier.pdf',\n",
       " 'plots/TIC52980877_fourier.pdf',\n",
       " 'plots/TIC443254282_lowess.pdf',\n",
       " 'plots/TIC192851040_fourier.pdf',\n",
       " 'plots/TIC387146810_fourier.pdf',\n",
       " 'plots/TIC279990740_lowess.pdf',\n",
       " 'plots/TIC438497349_median.pdf',\n",
       " 'plots/TIC34142227_median.pdf',\n",
       " 'plots/TIC52961977_fourier.pdf',\n",
       " 'plots/TIC139679081_fourier.pdf',\n",
       " 'plots/TIC231341241_median.pdf',\n",
       " 'plots/TIC101209088_lowess.pdf',\n",
       " 'plots/TIC140576110_fourier.pdf',\n",
       " 'plots/TIC350345049_fourier.pdf',\n",
       " 'plots/TIC93028306_lowess.pdf',\n",
       " 'plots/TIC427379945_fourier.pdf',\n",
       " 'plots/TIC29761457_lowess.pdf',\n",
       " 'plots/TIC231953119_lowess.pdf',\n",
       " 'plots/TIC271810298_fourier.pdf',\n",
       " 'plots/TIC33935663_lowess.pdf',\n",
       " 'plots/TIC350767052_fourier.pdf',\n",
       " 'plots/TIC274319277_fourier.pdf',\n",
       " 'plots/TIC206705255_median.pdf',\n",
       " 'plots/TIC232275101_median.pdf',\n",
       " 'plots/TIC437912849_lowess.pdf',\n",
       " 'plots/TIC274324667_fourier.pdf',\n",
       " 'plots/TIC34365883_median.pdf',\n",
       " 'plots/TIC438512737_lowess.pdf',\n",
       " 'plots/TIC167749175_fourier.pdf',\n",
       " 'plots/TIC290054186_median.pdf',\n",
       " 'plots/TIC382302953_lowess.pdf',\n",
       " 'plots/TIC29834079_median.pdf',\n",
       " 'plots/TIC415588902_fourier.pdf',\n",
       " 'plots/TIC167085827_median.pdf',\n",
       " 'plots/TIC207011959_fourier.pdf',\n",
       " 'plots/TIC293650052_fourier.pdf',\n",
       " 'plots/TIC300971178_fourier.pdf',\n",
       " 'plots/TIC255562089_median.pdf',\n",
       " 'plots/TIC167368394_fourier.pdf',\n",
       " 'plots/TIC25153936_median.pdf',\n",
       " 'plots/TIC235506093_median.pdf',\n",
       " 'plots/TIC51784796_fourier.pdf',\n",
       " 'plots/TIC67044324_fourier.pdf',\n",
       " 'plots/TIC30936634_lowess.pdf',\n",
       " 'plots/TIC234893739_median.pdf',\n",
       " 'plots/TIC350709731_lowess.pdf',\n",
       " 'plots/TIC47860324_lowess.pdf',\n",
       " 'plots/TIC293778203_fourier.pdf',\n",
       " 'plots/TIC33522961_fourier.pdf',\n",
       " 'plots/TIC291463700_fourier.pdf',\n",
       " 'plots/TIC260129423_lowess.pdf',\n",
       " 'plots/TIC138859328_median.pdf',\n",
       " 'plots/TIC59275756_median.pdf',\n",
       " 'plots/TIC21505953_fourier.pdf',\n",
       " 'plots/TIC36294676_median.pdf',\n",
       " 'plots/TIC139591082_fourier.pdf',\n",
       " 'plots/TIC78818326_median.pdf',\n",
       " 'plots/TIC156992289_fourier.pdf',\n",
       " 'plots/TIC141915005_median.pdf',\n",
       " 'plots/TIC32811502_fourier.pdf',\n",
       " 'plots/TIC265266254_median.pdf',\n",
       " 'plots/TIC385908450_median.pdf',\n",
       " 'plots/TIC207050149_fourier.pdf',\n",
       " 'plots/TIC172630508_fourier.pdf',\n",
       " 'plots/TIC232423791_fourier.pdf',\n",
       " 'plots/TIC123763644_lowess.pdf',\n",
       " 'plots/TIC117812303_lowess.pdf',\n",
       " 'plots/TIC281608431_lowess.pdf',\n",
       " 'plots/TIC346430425_lowess.pdf',\n",
       " 'plots/TIC24524191_median.pdf',\n",
       " 'plots/TIC403695727_fourier.pdf',\n",
       " 'plots/TIC288154512_lowess.pdf',\n",
       " 'plots/TIC287530417_median.pdf',\n",
       " 'plots/TIC235439683_fourier.pdf',\n",
       " 'plots/TIC234963995_median.pdf',\n",
       " 'plots/TIC32946667_median.pdf',\n",
       " 'plots/TIC130473273_median.pdf',\n",
       " 'plots/TIC37117509_median.pdf',\n",
       " 'plots/TIC340058142_median.pdf',\n",
       " 'plots/TIC358177998_lowess.pdf',\n",
       " 'plots/TIC299621901_fourier.pdf',\n",
       " 'plots/TIC234090793_median.pdf',\n",
       " 'plots/TIC119172907_median.pdf',\n",
       " 'plots/TIC93447477_median.pdf',\n",
       " 'plots/TIC25128470_lowess.pdf',\n",
       " 'plots/TIC436428871_fourier.pdf',\n",
       " 'plots/TIC123741385_lowess.pdf',\n",
       " 'plots/TIC156809087_fourier.pdf',\n",
       " 'plots/TIC34936822_median.pdf',\n",
       " 'plots/TIC278987272_median.pdf',\n",
       " 'plots/TIC442961526_lowess.pdf',\n",
       " 'plots/TIC234671378_fourier.pdf',\n",
       " 'plots/TIC141025327_lowess.pdf',\n",
       " 'plots/TIC172622060_median.pdf',\n",
       " 'plots/TIC407685306_median.pdf',\n",
       " 'plots/TIC269206275_fourier.pdf',\n",
       " 'plots/TIC281851913_fourier.pdf',\n",
       " 'plots/TIC25064873_fourier.pdf',\n",
       " 'plots/TIC445964619_median.pdf',\n",
       " 'plots/TIC66649401_median.pdf',\n",
       " 'plots/TIC206884342_fourier.pdf',\n",
       " 'plots/TIC59841882_median.pdf',\n",
       " 'plots/TIC282635668_lowess.pdf',\n",
       " 'plots/TIC255551259_median.pdf',\n",
       " 'plots/TIC37880101_median.pdf',\n",
       " 'plots/TIC34437843_median.pdf',\n",
       " 'plots/TIC49666179_lowess.pdf',\n",
       " 'plots/TIC172783442_median.pdf',\n",
       " 'plots/TIC167721564_fourier.pdf',\n",
       " 'plots/TIC143215198_lowess.pdf',\n",
       " 'plots/TIC31306138_fourier.pdf',\n",
       " 'plots/TIC37326186_median.pdf',\n",
       " 'plots/TIC307021614_median.pdf',\n",
       " 'plots/TIC46272757_median.pdf',\n",
       " 'plots/TIC288256004_fourier.pdf',\n",
       " 'plots/TIC148481060_median.pdf',\n",
       " 'plots/TIC157630802_lowess.pdf',\n",
       " 'plots/TIC369470550_fourier.pdf',\n",
       " 'plots/TIC117665175_lowess.pdf',\n",
       " 'plots/TIC151173250_fourier.pdf',\n",
       " 'plots/TIC33106262_median.pdf',\n",
       " 'plots/TIC758332494_median.pdf',\n",
       " 'plots/TIC155368630_fourier.pdf',\n",
       " 'plots/TIC407703270_lowess.pdf',\n",
       " 'plots/TIC39220745_lowess.pdf',\n",
       " 'plots/TIC143092284_lowess.pdf',\n",
       " 'plots/TIC231168620_median.pdf',\n",
       " 'plots/TIC207001604_fourier.pdf',\n",
       " 'plots/TIC231823975_lowess.pdf',\n",
       " 'plots/TIC339633584_lowess.pdf',\n",
       " 'plots/TIC232156025_lowess.pdf',\n",
       " 'plots/TIC179242270_lowess.pdf',\n",
       " 'plots/TIC250566660_median.pdf',\n",
       " 'plots/TIC282635668_fourier.pdf',\n",
       " 'plots/TIC350297505_median.pdf',\n",
       " 'plots/TIC247922816_lowess.pdf',\n",
       " 'plots/TIC168111686_lowess.pdf',\n",
       " 'plots/TIC93372193_lowess.pdf',\n",
       " 'plots/TIC234091183_median.pdf',\n",
       " 'plots/TIC119687618_median.pdf',\n",
       " 'plots/TIC47547698_median.pdf',\n",
       " 'plots/TIC139446178_lowess.pdf',\n",
       " 'plots/TIC156383645_fourier.pdf',\n",
       " 'plots/TIC319477666_lowess.pdf',\n",
       " 'plots/TIC100834297_lowess.pdf',\n",
       " 'plots/TIC339732455_median.pdf',\n",
       " 'plots/TIC151106563_fourier.pdf',\n",
       " 'plots/TIC96435715_median.pdf',\n",
       " 'plots/TIC176468946_lowess.pdf',\n",
       " 'plots/TIC382435583_fourier.pdf',\n",
       " 'plots/TIC120745553_lowess.pdf',\n",
       " 'plots/TIC299585938_lowess.pdf',\n",
       " 'plots/TIC434397345_lowess.pdf',\n",
       " 'plots/TIC445951016_median.pdf',\n",
       " 'plots/TIC265719396_median.pdf',\n",
       " 'plots/TIC46636317_fourier.pdf',\n",
       " 'plots/TIC382437069_lowess.pdf',\n",
       " 'plots/TIC53606430_lowess.pdf',\n",
       " 'plots/TIC141910873_median.pdf',\n",
       " 'plots/TIC427502046_lowess.pdf',\n",
       " 'plots/TIC282606896_median.pdf',\n",
       " 'plots/TIC124240924_median.pdf',\n",
       " 'plots/TIC20092032_lowess.pdf',\n",
       " 'plots/TIC96246348_median.pdf',\n",
       " 'plots/TIC206882564_fourier.pdf',\n",
       " 'plots/TIC192791381_median.pdf',\n",
       " 'plots/TIC300508526_fourier.pdf',\n",
       " 'plots/TIC172362114_median.pdf',\n",
       " 'plots/TIC238065310_lowess.pdf',\n",
       " 'plots/TIC158867044_median.pdf',\n",
       " 'plots/TIC234608735_fourier.pdf',\n",
       " 'plots/TIC260640311_lowess.pdf',\n",
       " 'plots/TIC427378979_fourier.pdf',\n",
       " 'plots/TIC421838031_median.pdf',\n",
       " 'plots/TIC47645552_lowess.pdf',\n",
       " 'plots/TIC21651286_fourier.pdf',\n",
       " 'plots/TIC709108616_fourier.pdf',\n",
       " 'plots/TIC284912972_median.pdf',\n",
       " 'plots/TIC762716889_lowess.pdf',\n",
       " 'plots/TIC100725781_median.pdf',\n",
       " 'plots/TIC151291304_median.pdf',\n",
       " 'plots/TIC59279268_lowess.pdf',\n",
       " 'plots/TIC96855643_fourier.pdf',\n",
       " 'plots/TIC166980132_lowess.pdf',\n",
       " 'plots/TIC177081815_lowess.pdf',\n",
       " 'plots/TIC50656687_lowess.pdf',\n",
       " 'plots/TIC247758936_median.pdf',\n",
       " 'plots/TIC59543724_lowess.pdf',\n",
       " 'plots/TIC388130133_median.pdf',\n",
       " 'plots/TIC346426851_lowess.pdf',\n",
       " 'plots/TIC80571915_median.pdf',\n",
       " 'plots/TIC220395161_median.pdf',\n",
       " 'plots/TIC231074988_lowess.pdf',\n",
       " 'plots/TIC157751278_median.pdf',\n",
       " 'plots/TIC278958569_fourier.pdf',\n",
       " 'plots/TIC156758723_lowess.pdf',\n",
       " 'plots/TIC53119743_median.pdf',\n",
       " 'plots/TIC134227742_fourier.pdf',\n",
       " 'plots/TIC92847904_lowess.pdf',\n",
       " 'plots/TIC33549986_median.pdf',\n",
       " 'plots/TIC97720031_lowess.pdf',\n",
       " 'plots/TIC232017909_lowess.pdf',\n",
       " 'plots/TIC237978386_lowess.pdf',\n",
       " 'plots/TIC52372859_median.pdf',\n",
       " 'plots/TIC117665175_fourier.pdf',\n",
       " 'plots/TIC39223091_lowess.pdf',\n",
       " 'plots/TIC220438441_lowess.pdf',\n",
       " 'plots/TIC59993381_median.pdf',\n",
       " 'plots/TIC117766205_lowess.pdf',\n",
       " 'plots/TIC32068685_fourier.pdf',\n",
       " 'plots/TIC250543385_fourier.pdf',\n",
       " 'plots/TIC66655204_lowess.pdf',\n",
       " 'plots/TIC156149356_median.pdf',\n",
       " 'plots/TIC24448788_fourier.pdf',\n",
       " 'plots/TIC232037018_lowess.pdf',\n",
       " 'plots/TIC48241810_fourier.pdf',\n",
       " 'plots/TIC42884478_median.pdf',\n",
       " 'plots/TIC220418626_lowess.pdf',\n",
       " 'plots/TIC141410370_fourier.pdf',\n",
       " 'plots/TIC346576581_median.pdf',\n",
       " 'plots/TIC144735502_lowess.pdf',\n",
       " 'plots/TIC307126050_fourier.pdf',\n",
       " 'plots/TIC443536723_lowess.pdf',\n",
       " 'plots/TIC48742694_fourier.pdf',\n",
       " 'plots/TIC37398717_median.pdf',\n",
       " 'plots/TIC438231256_fourier.pdf',\n",
       " 'plots/TIC427465442_lowess.pdf',\n",
       " 'plots/TIC67281613_lowess.pdf',\n",
       " 'plots/TIC49307625_lowess.pdf',\n",
       " 'plots/TIC288255795_median.pdf',\n",
       " 'plots/TIC120027572_fourier.pdf',\n",
       " 'plots/TIC39292847_lowess.pdf',\n",
       " 'plots/TIC282500773_lowess.pdf',\n",
       " 'plots/TIC52740808_lowess.pdf',\n",
       " 'plots/TIC156992289_lowess.pdf',\n",
       " 'plots/TIC235345684_lowess.pdf',\n",
       " 'plots/TIC317016194_median.pdf',\n",
       " 'plots/TIC176590314_median.pdf',\n",
       " 'plots/TIC25644188_median.pdf',\n",
       " 'plots/TIC442960627_median.pdf',\n",
       " 'plots/TIC61585165_lowess.pdf',\n",
       " 'plots/TIC59956627_median.pdf',\n",
       " 'plots/TIC235458280_fourier.pdf',\n",
       " 'plots/TIC46741833_lowess.pdf',\n",
       " 'plots/TIC48881771_fourier.pdf',\n",
       " 'plots/TIC206887581_lowess.pdf',\n",
       " 'plots/TIC52864067_median.pdf',\n",
       " 'plots/TIC55480260_fourier.pdf',\n",
       " 'plots/TIC350336753_median.pdf',\n",
       " 'plots/TIC20231585_median.pdf',\n",
       " 'plots/TIC46527604_fourier.pdf',\n",
       " 'plots/TIC282198164_median.pdf',\n",
       " 'plots/TIC41259186_lowess.pdf',\n",
       " 'plots/TIC247475080_fourier.pdf',\n",
       " 'plots/TIC101206320_lowess.pdf',\n",
       " 'plots/TIC232023854_median.pdf',\n",
       " 'plots/TIC37654410_fourier.pdf',\n",
       " 'plots/TIC323422508_median.pdf',\n",
       " 'plots/TIC177112605_median.pdf',\n",
       " 'plots/TIC206681343_median.pdf',\n",
       " 'plots/TIC708526970_median.pdf',\n",
       " 'plots/TIC24661186_fourier.pdf',\n",
       " 'plots/TIC202016484_median.pdf',\n",
       " 'plots/TIC457228413_median.pdf',\n",
       " 'plots/TIC52687117_lowess.pdf',\n",
       " 'plots/TIC119074991_median.pdf',\n",
       " 'plots/TIC35710448_fourier.pdf',\n",
       " 'plots/TIC407703270_fourier.pdf',\n",
       " 'plots/TIC102167286_fourier.pdf',\n",
       " 'plots/TIC43319501_lowess.pdf',\n",
       " 'plots/TIC685301469_fourier.pdf',\n",
       " 'plots/TIC80573487_lowess.pdf',\n",
       " 'plots/TIC50588146_lowess.pdf',\n",
       " 'plots/TIC229289171_lowess.pdf',\n",
       " 'plots/TIC271797208_median.pdf',\n",
       " 'plots/TIC50748232_lowess.pdf',\n",
       " 'plots/TIC202049771_lowess.pdf',\n",
       " 'plots/TIC97635292_fourier.pdf',\n",
       " 'plots/TIC143204443_lowess.pdf',\n",
       " 'plots/TIC167417087_median.pdf',\n",
       " 'plots/TIC158071281_median.pdf',\n",
       " 'plots/TIC35638850_lowess.pdf',\n",
       " 'plots/TIC52690229_lowess.pdf',\n",
       " 'plots/TIC716708670_lowess.pdf',\n",
       " 'plots/TIC382066578_median.pdf',\n",
       " 'plots/TIC199884769_lowess.pdf',\n",
       " 'plots/TIC319437236_lowess.pdf',\n",
       " 'plots/TIC715304115_median.pdf',\n",
       " 'plots/TIC382268952_lowess.pdf',\n",
       " 'plots/TIC232258659_lowess.pdf',\n",
       " 'plots/TIC322687356_lowess.pdf',\n",
       " 'plots/TIC11408980_lowess.pdf',\n",
       " 'plots/TIC237454510_lowess.pdf',\n",
       " 'plots/TIC142470063_median.pdf',\n",
       " 'plots/TIC270711126_median.pdf',\n",
       " 'plots/TIC344140252_lowess.pdf',\n",
       " 'plots/TIC151371515_median.pdf',\n",
       " 'plots/TIC24432144_lowess.pdf',\n",
       " 'plots/TIC365693194_fourier.pdf',\n",
       " 'plots/TIC393453792_fourier.pdf',\n",
       " 'plots/TIC232509872_lowess.pdf',\n",
       " 'plots/TIC158955473_median.pdf',\n",
       " 'plots/TIC263935069_median.pdf',\n",
       " 'plots/TIC387144633_lowess.pdf',\n",
       " 'plots/TIC290655295_fourier.pdf',\n",
       " 'plots/TIC100666178_fourier.pdf',\n",
       " 'plots/TIC118720846_fourier.pdf',\n",
       " 'plots/TIC282403179_fourier.pdf',\n",
       " 'plots/TIC24587246_fourier.pdf',\n",
       " 'plots/TIC231168620_fourier.pdf',\n",
       " 'plots/TIC443578841_median.pdf',\n",
       " 'plots/TIC167417087_fourier.pdf',\n",
       " 'plots/TIC284284917_fourier.pdf',\n",
       " 'plots/TIC235181693_fourier.pdf',\n",
       " 'plots/TIC200000713_median.pdf',\n",
       " 'plots/TIC151474953_median.pdf',\n",
       " 'plots/TIC38000511_lowess.pdf',\n",
       " 'plots/TIC290657792_lowess.pdf',\n",
       " 'plots/TIC61344090_median.pdf',\n",
       " 'plots/TIC79535403_median.pdf',\n",
       " 'plots/TIC172196914_median.pdf',\n",
       " 'plots/TIC307132322_fourier.pdf',\n",
       " 'plots/TIC420963301_fourier.pdf',\n",
       " 'plots/TIC176958956_median.pdf',\n",
       " 'plots/TIC48746589_fourier.pdf',\n",
       " 'plots/TIC120332063_median.pdf',\n",
       " 'plots/TIC32811916_lowess.pdf',\n",
       " 'plots/TIC264458463_fourier.pdf',\n",
       " 'plots/TIC134174691_lowess.pdf',\n",
       " 'plots/TIC202275192_lowess.pdf',\n",
       " 'plots/TIC24601968_lowess.pdf',\n",
       " 'plots/TIC762716889_fourier.pdf',\n",
       " 'plots/TIC134282943_lowess.pdf',\n",
       " 'plots/TIC403732412_median.pdf',\n",
       " 'plots/TIC143315637_median.pdf',\n",
       " 'plots/TIC123678924_fourier.pdf',\n",
       " 'plots/TIC46558031_fourier.pdf',\n",
       " 'plots/TIC53595711_lowess.pdf',\n",
       " 'plots/TIC177176467_fourier.pdf',\n",
       " 'plots/TIC437985778_median.pdf',\n",
       " 'plots/TIC279479428_fourier.pdf',\n",
       " 'plots/TIC63045662_fourier.pdf',\n",
       " 'plots/TIC100529328_lowess.pdf',\n",
       " 'plots/TIC291380612_fourier.pdf',\n",
       " 'plots/TIC237457878_median.pdf',\n",
       " 'plots/TIC20180815_fourier.pdf',\n",
       " 'plots/TIC37743382_fourier.pdf',\n",
       " 'plots/TIC172117254_median.pdf',\n",
       " 'plots/TIC299741737_median.pdf',\n",
       " 'plots/TIC302805015_fourier.pdf',\n",
       " 'plots/TIC41486454_median.pdf',\n",
       " 'plots/TIC170401795_fourier.pdf',\n",
       " 'plots/TIC442993376_lowess.pdf',\n",
       " 'plots/TIC260240964_lowess.pdf',\n",
       " 'plots/TIC232142723_fourier.pdf',\n",
       " 'plots/TIC255779191_lowess.pdf',\n",
       " 'plots/TIC102406155_median.pdf',\n",
       " 'plots/TIC120881280_median.pdf',\n",
       " 'plots/TIC66684962_fourier.pdf',\n",
       " 'plots/TIC46561400_lowess.pdf',\n",
       " 'plots/TIC52745667_fourier.pdf',\n",
       " 'plots/TIC300244990_fourier.pdf',\n",
       " 'plots/TIC147798319_median.pdf',\n",
       " 'plots/TIC156936926_median.pdf',\n",
       " 'plots/TIC229358373_median.pdf',\n",
       " 'plots/TIC229379777_median.pdf',\n",
       " 'plots/TIC404932858_fourier.pdf',\n",
       " 'plots/TIC349375310_lowess.pdf',\n",
       " 'plots/TIC142404284_median.pdf',\n",
       " 'plots/TIC140858952_lowess.pdf',\n",
       " 'plots/TIC281807658_lowess.pdf',\n",
       " 'plots/TIC234071519_fourier.pdf',\n",
       " 'plots/TIC80770481_lowess.pdf',\n",
       " 'plots/TIC39728206_median.pdf',\n",
       " 'plots/TIC153694166_fourier.pdf',\n",
       " 'plots/TIC148090779_lowess.pdf',\n",
       " 'plots/TIC307712539_lowess.pdf',\n",
       " 'plots/TIC93415191_lowess.pdf',\n",
       " 'plots/TIC95408945_lowess.pdf',\n",
       " 'plots/TIC157008583_lowess.pdf',\n",
       " 'plots/TIC303904041_median.pdf',\n",
       " 'plots/TIC53985402_fourier.pdf',\n",
       " 'plots/TIC386422367_fourier.pdf',\n",
       " 'plots/TIC49376741_lowess.pdf',\n",
       " 'plots/TIC202017336_fourier.pdf',\n",
       " 'plots/TIC31306138_median.pdf',\n",
       " 'plots/TIC37917816_fourier.pdf',\n",
       " 'plots/TIC170203862_median.pdf',\n",
       " 'plots/TIC350857817_median.pdf',\n",
       " 'plots/TIC117766205_fourier.pdf',\n",
       " 'plots/TIC238165348_lowess.pdf',\n",
       " 'plots/TIC237360538_lowess.pdf',\n",
       " ...]"
      ]
     },
     "execution_count": 59,
     "metadata": {},
     "output_type": "execute_result"
    }
   ],
   "source": [
    "glob.glob('plots/*')"
   ]
  },
  {
   "cell_type": "code",
   "execution_count": null,
   "id": "40b9dc6d-1fcf-4b68-a4a8-363a5d279319",
   "metadata": {},
   "outputs": [],
   "source": []
  }
 ],
 "metadata": {
  "kernelspec": {
   "display_name": "Python 3",
   "language": "python",
   "name": "python3"
  },
  "language_info": {
   "codemirror_mode": {
    "name": "ipython",
    "version": 3
   },
   "file_extension": ".py",
   "mimetype": "text/x-python",
   "name": "python",
   "nbconvert_exporter": "python",
   "pygments_lexer": "ipython3",
   "version": "3.7.13"
  }
 },
 "nbformat": 4,
 "nbformat_minor": 5
}
