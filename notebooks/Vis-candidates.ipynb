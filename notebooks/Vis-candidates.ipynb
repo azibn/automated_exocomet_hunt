{
 "cells": [
  {
   "cell_type": "markdown",
   "id": "31e58f40",
   "metadata": {},
   "source": [
    "# Last Background Checks"
   ]
  },
  {
   "cell_type": "code",
   "execution_count": null,
   "id": "d085c9e9",
   "metadata": {},
   "outputs": [],
   "source": [
    "import pandas as pd\n",
    "import eleanor\n",
    "import warnings\n",
    "warnings.filterwarnings(\"ignore\")\n",
    "import matplotlib.pyplot as plt\n",
    "import numpy as np\n",
    "import os\n",
    "os.chdir('../scripts')\n",
    "from analysis_tools_cython import mad_cuts,import_lightcurve"
   ]
  },
  {
   "cell_type": "code",
   "execution_count": null,
   "id": "af464edf",
   "metadata": {},
   "outputs": [],
   "source": [
    "main = pd.read_csv('../candidates/272-candidates.csv')\n",
    "df = main[main.tags2 == 'red']"
   ]
  },
  {
   "cell_type": "code",
   "execution_count": null,
   "id": "1780f3ff",
   "metadata": {},
   "outputs": [],
   "source": [
    "df.head()"
   ]
  },
  {
   "cell_type": "markdown",
   "id": "8a19ad45",
   "metadata": {},
   "source": [
    "## Example 1"
   ]
  },
  {
   "cell_type": "code",
   "execution_count": null,
   "id": "f8ff8383",
   "metadata": {},
   "outputs": [],
   "source": [
    "tic_id = df.TIC_ID.tolist()\n",
    "sector = df.Sector.tolist()"
   ]
  },
  {
   "cell_type": "code",
   "execution_count": null,
   "id": "ed3bc90f",
   "metadata": {},
   "outputs": [],
   "source": [
    "star = eleanor.Source(tic=tic_id[0],sector=sector[0])\n",
    "data = eleanor.TargetData(star,height=5,width=5)\n",
    "vis = eleanor.Visualize(data)"
   ]
  },
  {
   "cell_type": "code",
   "execution_count": null,
   "id": "ca4c0da7",
   "metadata": {},
   "outputs": [],
   "source": []
  },
  {
   "cell_type": "code",
   "execution_count": null,
   "id": "6f8cbd15",
   "metadata": {},
   "outputs": [],
   "source": [
    "fig = vis.pixel_by_pixel(data_type='corrected',color_by_pixel=True)"
   ]
  },
  {
   "cell_type": "markdown",
   "id": "688b4087",
   "metadata": {},
   "source": [
    "---\n",
    "## Lightkurve"
   ]
  },
  {
   "cell_type": "code",
   "execution_count": 1,
   "id": "69ee8de5",
   "metadata": {},
   "outputs": [],
   "source": [
    "import ipympl"
   ]
  },
  {
   "cell_type": "code",
   "execution_count": 2,
   "id": "ce58b5ad",
   "metadata": {},
   "outputs": [
    {
     "data": {
      "text/plain": [
       "'3.6.6 |Anaconda, Inc.| (default, Oct  9 2018, 12:34:16) \\n[GCC 7.3.0]'"
      ]
     },
     "execution_count": 2,
     "metadata": {},
     "output_type": "execute_result"
    }
   ],
   "source": [
    "import sys\n",
    "sys.version"
   ]
  },
  {
   "cell_type": "code",
   "execution_count": 3,
   "id": "c455de19",
   "metadata": {},
   "outputs": [],
   "source": [
    "#from bokeh.io import show, output_notebook\n",
    "import lightkurve as lk\n",
    "from astropy.table import Table"
   ]
  },
  {
   "cell_type": "code",
   "execution_count": 4,
   "id": "a917ed98",
   "metadata": {},
   "outputs": [
    {
     "data": {
      "text/plain": [
       "'1.0.1'"
      ]
     },
     "execution_count": 4,
     "metadata": {},
     "output_type": "execute_result"
    }
   ],
   "source": [
    "import bokeh\n",
    "bokeh.__version__"
   ]
  },
  {
   "cell_type": "code",
   "execution_count": 5,
   "id": "18f5a64a",
   "metadata": {},
   "outputs": [],
   "source": [
    "tpf = lk.search_tesscut(f\"TIC 237427836\",sector=6).download_all(cutout_size=(15,15))\n",
    "tpf = tpf[0]"
   ]
  },
  {
   "cell_type": "code",
   "execution_count": 12,
   "id": "284e834e",
   "metadata": {},
   "outputs": [
    {
     "data": {
      "application/javascript": [
       "\n",
       "(function(root) {\n",
       "  function now() {\n",
       "    return new Date();\n",
       "  }\n",
       "\n",
       "  var force = true;\n",
       "\n",
       "  if (typeof (root._bokeh_onload_callbacks) === \"undefined\" || force === true) {\n",
       "    root._bokeh_onload_callbacks = [];\n",
       "    root._bokeh_is_loading = undefined;\n",
       "  }\n",
       "\n",
       "  var JS_MIME_TYPE = 'application/javascript';\n",
       "  var HTML_MIME_TYPE = 'text/html';\n",
       "  var EXEC_MIME_TYPE = 'application/vnd.bokehjs_exec.v0+json';\n",
       "  var CLASS_NAME = 'output_bokeh rendered_html';\n",
       "\n",
       "  /**\n",
       "   * Render data to the DOM node\n",
       "   */\n",
       "  function render(props, node) {\n",
       "    var script = document.createElement(\"script\");\n",
       "    node.appendChild(script);\n",
       "  }\n",
       "\n",
       "  /**\n",
       "   * Handle when an output is cleared or removed\n",
       "   */\n",
       "  function handleClearOutput(event, handle) {\n",
       "    var cell = handle.cell;\n",
       "\n",
       "    var id = cell.output_area._bokeh_element_id;\n",
       "    var server_id = cell.output_area._bokeh_server_id;\n",
       "    // Clean up Bokeh references\n",
       "    if (id != null && id in Bokeh.index) {\n",
       "      Bokeh.index[id].model.document.clear();\n",
       "      delete Bokeh.index[id];\n",
       "    }\n",
       "\n",
       "    if (server_id !== undefined) {\n",
       "      // Clean up Bokeh references\n",
       "      var cmd = \"from bokeh.io.state import curstate; print(curstate().uuid_to_server['\" + server_id + \"'].get_sessions()[0].document.roots[0]._id)\";\n",
       "      cell.notebook.kernel.execute(cmd, {\n",
       "        iopub: {\n",
       "          output: function(msg) {\n",
       "            var id = msg.content.text.trim();\n",
       "            if (id in Bokeh.index) {\n",
       "              Bokeh.index[id].model.document.clear();\n",
       "              delete Bokeh.index[id];\n",
       "            }\n",
       "          }\n",
       "        }\n",
       "      });\n",
       "      // Destroy server and session\n",
       "      var cmd = \"import bokeh.io.notebook as ion; ion.destroy_server('\" + server_id + \"')\";\n",
       "      cell.notebook.kernel.execute(cmd);\n",
       "    }\n",
       "  }\n",
       "\n",
       "  /**\n",
       "   * Handle when a new output is added\n",
       "   */\n",
       "  function handleAddOutput(event, handle) {\n",
       "    var output_area = handle.output_area;\n",
       "    var output = handle.output;\n",
       "\n",
       "    // limit handleAddOutput to display_data with EXEC_MIME_TYPE content only\n",
       "    if ((output.output_type != \"display_data\") || (!output.data.hasOwnProperty(EXEC_MIME_TYPE))) {\n",
       "      return\n",
       "    }\n",
       "\n",
       "    var toinsert = output_area.element.find(\".\" + CLASS_NAME.split(' ')[0]);\n",
       "\n",
       "    if (output.metadata[EXEC_MIME_TYPE][\"id\"] !== undefined) {\n",
       "      toinsert[toinsert.length - 1].firstChild.textContent = output.data[JS_MIME_TYPE];\n",
       "      // store reference to embed id on output_area\n",
       "      output_area._bokeh_element_id = output.metadata[EXEC_MIME_TYPE][\"id\"];\n",
       "    }\n",
       "    if (output.metadata[EXEC_MIME_TYPE][\"server_id\"] !== undefined) {\n",
       "      var bk_div = document.createElement(\"div\");\n",
       "      bk_div.innerHTML = output.data[HTML_MIME_TYPE];\n",
       "      var script_attrs = bk_div.children[0].attributes;\n",
       "      for (var i = 0; i < script_attrs.length; i++) {\n",
       "        toinsert[toinsert.length - 1].firstChild.setAttribute(script_attrs[i].name, script_attrs[i].value);\n",
       "      }\n",
       "      // store reference to server id on output_area\n",
       "      output_area._bokeh_server_id = output.metadata[EXEC_MIME_TYPE][\"server_id\"];\n",
       "    }\n",
       "  }\n",
       "\n",
       "  function register_renderer(events, OutputArea) {\n",
       "\n",
       "    function append_mime(data, metadata, element) {\n",
       "      // create a DOM node to render to\n",
       "      var toinsert = this.create_output_subarea(\n",
       "        metadata,\n",
       "        CLASS_NAME,\n",
       "        EXEC_MIME_TYPE\n",
       "      );\n",
       "      this.keyboard_manager.register_events(toinsert);\n",
       "      // Render to node\n",
       "      var props = {data: data, metadata: metadata[EXEC_MIME_TYPE]};\n",
       "      render(props, toinsert[toinsert.length - 1]);\n",
       "      element.append(toinsert);\n",
       "      return toinsert\n",
       "    }\n",
       "\n",
       "    /* Handle when an output is cleared or removed */\n",
       "    events.on('clear_output.CodeCell', handleClearOutput);\n",
       "    events.on('delete.Cell', handleClearOutput);\n",
       "\n",
       "    /* Handle when a new output is added */\n",
       "    events.on('output_added.OutputArea', handleAddOutput);\n",
       "\n",
       "    /**\n",
       "     * Register the mime type and append_mime function with output_area\n",
       "     */\n",
       "    OutputArea.prototype.register_mime_type(EXEC_MIME_TYPE, append_mime, {\n",
       "      /* Is output safe? */\n",
       "      safe: true,\n",
       "      /* Index of renderer in `output_area.display_order` */\n",
       "      index: 0\n",
       "    });\n",
       "  }\n",
       "\n",
       "  // register the mime type if in Jupyter Notebook environment and previously unregistered\n",
       "  if (root.Jupyter !== undefined) {\n",
       "    var events = require('base/js/events');\n",
       "    var OutputArea = require('notebook/js/outputarea').OutputArea;\n",
       "\n",
       "    if (OutputArea.prototype.mime_types().indexOf(EXEC_MIME_TYPE) == -1) {\n",
       "      register_renderer(events, OutputArea);\n",
       "    }\n",
       "  }\n",
       "\n",
       "  \n",
       "  if (typeof (root._bokeh_timeout) === \"undefined\" || force === true) {\n",
       "    root._bokeh_timeout = Date.now() + 5000;\n",
       "    root._bokeh_failed_load = false;\n",
       "  }\n",
       "\n",
       "  var NB_LOAD_WARNING = {'data': {'text/html':\n",
       "     \"<div style='background-color: #fdd'>\\n\"+\n",
       "     \"<p>\\n\"+\n",
       "     \"BokehJS does not appear to have successfully loaded. If loading BokehJS from CDN, this \\n\"+\n",
       "     \"may be due to a slow or bad network connection. Possible fixes:\\n\"+\n",
       "     \"</p>\\n\"+\n",
       "     \"<ul>\\n\"+\n",
       "     \"<li>re-rerun `output_notebook()` to attempt to load from CDN again, or</li>\\n\"+\n",
       "     \"<li>use INLINE resources instead, as so:</li>\\n\"+\n",
       "     \"</ul>\\n\"+\n",
       "     \"<code>\\n\"+\n",
       "     \"from bokeh.resources import INLINE\\n\"+\n",
       "     \"output_notebook(resources=INLINE)\\n\"+\n",
       "     \"</code>\\n\"+\n",
       "     \"</div>\"}};\n",
       "\n",
       "  function display_loaded() {\n",
       "    var el = document.getElementById(null);\n",
       "    if (el != null) {\n",
       "      el.textContent = \"BokehJS is loading...\";\n",
       "    }\n",
       "    if (root.Bokeh !== undefined) {\n",
       "      if (el != null) {\n",
       "        el.textContent = \"BokehJS \" + root.Bokeh.version + \" successfully loaded.\";\n",
       "      }\n",
       "    } else if (Date.now() < root._bokeh_timeout) {\n",
       "      setTimeout(display_loaded, 100)\n",
       "    }\n",
       "  }\n",
       "\n",
       "\n",
       "  function run_callbacks() {\n",
       "    try {\n",
       "      root._bokeh_onload_callbacks.forEach(function(callback) { callback() });\n",
       "    }\n",
       "    finally {\n",
       "      delete root._bokeh_onload_callbacks\n",
       "    }\n",
       "    console.info(\"Bokeh: all callbacks have finished\");\n",
       "  }\n",
       "\n",
       "  function load_libs(js_urls, callback) {\n",
       "    root._bokeh_onload_callbacks.push(callback);\n",
       "    if (root._bokeh_is_loading > 0) {\n",
       "      console.log(\"Bokeh: BokehJS is being loaded, scheduling callback at\", now());\n",
       "      return null;\n",
       "    }\n",
       "    if (js_urls == null || js_urls.length === 0) {\n",
       "      run_callbacks();\n",
       "      return null;\n",
       "    }\n",
       "    console.log(\"Bokeh: BokehJS not loaded, scheduling load and callback at\", now());\n",
       "    root._bokeh_is_loading = js_urls.length;\n",
       "    for (var i = 0; i < js_urls.length; i++) {\n",
       "      var url = js_urls[i];\n",
       "      var s = document.createElement('script');\n",
       "      s.src = url;\n",
       "      s.async = false;\n",
       "      s.onreadystatechange = s.onload = function() {\n",
       "        root._bokeh_is_loading--;\n",
       "        if (root._bokeh_is_loading === 0) {\n",
       "          console.log(\"Bokeh: all BokehJS libraries loaded\");\n",
       "          run_callbacks()\n",
       "        }\n",
       "      };\n",
       "      s.onerror = function() {\n",
       "        console.warn(\"failed to load library \" + url);\n",
       "      };\n",
       "      console.log(\"Bokeh: injecting script tag for BokehJS library: \", url);\n",
       "      document.getElementsByTagName(\"head\")[0].appendChild(s);\n",
       "    }\n",
       "  };\n",
       "\n",
       "  var js_urls = [\"https://cdn.pydata.org/bokeh/release/bokeh-1.0.1.min.js\", \"https://cdn.pydata.org/bokeh/release/bokeh-widgets-1.0.1.min.js\", \"https://cdn.pydata.org/bokeh/release/bokeh-tables-1.0.1.min.js\", \"https://cdn.pydata.org/bokeh/release/bokeh-gl-1.0.1.min.js\"];\n",
       "\n",
       "  var inline_js = [\n",
       "    function(Bokeh) {\n",
       "      Bokeh.set_log_level(\"info\");\n",
       "    },\n",
       "    \n",
       "    function(Bokeh) {\n",
       "      \n",
       "    },\n",
       "    function(Bokeh) {\n",
       "      console.log(\"Bokeh: injecting CSS: https://cdn.pydata.org/bokeh/release/bokeh-1.0.1.min.css\");\n",
       "      Bokeh.embed.inject_css(\"https://cdn.pydata.org/bokeh/release/bokeh-1.0.1.min.css\");\n",
       "      console.log(\"Bokeh: injecting CSS: https://cdn.pydata.org/bokeh/release/bokeh-widgets-1.0.1.min.css\");\n",
       "      Bokeh.embed.inject_css(\"https://cdn.pydata.org/bokeh/release/bokeh-widgets-1.0.1.min.css\");\n",
       "      console.log(\"Bokeh: injecting CSS: https://cdn.pydata.org/bokeh/release/bokeh-tables-1.0.1.min.css\");\n",
       "      Bokeh.embed.inject_css(\"https://cdn.pydata.org/bokeh/release/bokeh-tables-1.0.1.min.css\");\n",
       "    }\n",
       "  ];\n",
       "\n",
       "  function run_inline_js() {\n",
       "    \n",
       "    if ((root.Bokeh !== undefined) || (force === true)) {\n",
       "      for (var i = 0; i < inline_js.length; i++) {\n",
       "        inline_js[i].call(root, root.Bokeh);\n",
       "      }} else if (Date.now() < root._bokeh_timeout) {\n",
       "      setTimeout(run_inline_js, 100);\n",
       "    } else if (!root._bokeh_failed_load) {\n",
       "      console.log(\"Bokeh: BokehJS failed to load within specified timeout.\");\n",
       "      root._bokeh_failed_load = true;\n",
       "    } else if (force !== true) {\n",
       "      var cell = $(document.getElementById(null)).parents('.cell').data().cell;\n",
       "      cell.output_area.append_execute_result(NB_LOAD_WARNING)\n",
       "    }\n",
       "\n",
       "  }\n",
       "\n",
       "  if (root._bokeh_is_loading === 0) {\n",
       "    console.log(\"Bokeh: BokehJS loaded, going straight to plotting\");\n",
       "    run_inline_js();\n",
       "  } else {\n",
       "    load_libs(js_urls, function() {\n",
       "      console.log(\"Bokeh: BokehJS plotting callback run at\", now());\n",
       "      run_inline_js();\n",
       "    });\n",
       "  }\n",
       "}(window));"
      ],
      "application/vnd.bokehjs_load.v0+json": "\n(function(root) {\n  function now() {\n    return new Date();\n  }\n\n  var force = true;\n\n  if (typeof (root._bokeh_onload_callbacks) === \"undefined\" || force === true) {\n    root._bokeh_onload_callbacks = [];\n    root._bokeh_is_loading = undefined;\n  }\n\n  \n\n  \n  if (typeof (root._bokeh_timeout) === \"undefined\" || force === true) {\n    root._bokeh_timeout = Date.now() + 5000;\n    root._bokeh_failed_load = false;\n  }\n\n  var NB_LOAD_WARNING = {'data': {'text/html':\n     \"<div style='background-color: #fdd'>\\n\"+\n     \"<p>\\n\"+\n     \"BokehJS does not appear to have successfully loaded. If loading BokehJS from CDN, this \\n\"+\n     \"may be due to a slow or bad network connection. Possible fixes:\\n\"+\n     \"</p>\\n\"+\n     \"<ul>\\n\"+\n     \"<li>re-rerun `output_notebook()` to attempt to load from CDN again, or</li>\\n\"+\n     \"<li>use INLINE resources instead, as so:</li>\\n\"+\n     \"</ul>\\n\"+\n     \"<code>\\n\"+\n     \"from bokeh.resources import INLINE\\n\"+\n     \"output_notebook(resources=INLINE)\\n\"+\n     \"</code>\\n\"+\n     \"</div>\"}};\n\n  function display_loaded() {\n    var el = document.getElementById(null);\n    if (el != null) {\n      el.textContent = \"BokehJS is loading...\";\n    }\n    if (root.Bokeh !== undefined) {\n      if (el != null) {\n        el.textContent = \"BokehJS \" + root.Bokeh.version + \" successfully loaded.\";\n      }\n    } else if (Date.now() < root._bokeh_timeout) {\n      setTimeout(display_loaded, 100)\n    }\n  }\n\n\n  function run_callbacks() {\n    try {\n      root._bokeh_onload_callbacks.forEach(function(callback) { callback() });\n    }\n    finally {\n      delete root._bokeh_onload_callbacks\n    }\n    console.info(\"Bokeh: all callbacks have finished\");\n  }\n\n  function load_libs(js_urls, callback) {\n    root._bokeh_onload_callbacks.push(callback);\n    if (root._bokeh_is_loading > 0) {\n      console.log(\"Bokeh: BokehJS is being loaded, scheduling callback at\", now());\n      return null;\n    }\n    if (js_urls == null || js_urls.length === 0) {\n      run_callbacks();\n      return null;\n    }\n    console.log(\"Bokeh: BokehJS not loaded, scheduling load and callback at\", now());\n    root._bokeh_is_loading = js_urls.length;\n    for (var i = 0; i < js_urls.length; i++) {\n      var url = js_urls[i];\n      var s = document.createElement('script');\n      s.src = url;\n      s.async = false;\n      s.onreadystatechange = s.onload = function() {\n        root._bokeh_is_loading--;\n        if (root._bokeh_is_loading === 0) {\n          console.log(\"Bokeh: all BokehJS libraries loaded\");\n          run_callbacks()\n        }\n      };\n      s.onerror = function() {\n        console.warn(\"failed to load library \" + url);\n      };\n      console.log(\"Bokeh: injecting script tag for BokehJS library: \", url);\n      document.getElementsByTagName(\"head\")[0].appendChild(s);\n    }\n  };\n\n  var js_urls = [\"https://cdn.pydata.org/bokeh/release/bokeh-1.0.1.min.js\", \"https://cdn.pydata.org/bokeh/release/bokeh-widgets-1.0.1.min.js\", \"https://cdn.pydata.org/bokeh/release/bokeh-tables-1.0.1.min.js\", \"https://cdn.pydata.org/bokeh/release/bokeh-gl-1.0.1.min.js\"];\n\n  var inline_js = [\n    function(Bokeh) {\n      Bokeh.set_log_level(\"info\");\n    },\n    \n    function(Bokeh) {\n      \n    },\n    function(Bokeh) {\n      console.log(\"Bokeh: injecting CSS: https://cdn.pydata.org/bokeh/release/bokeh-1.0.1.min.css\");\n      Bokeh.embed.inject_css(\"https://cdn.pydata.org/bokeh/release/bokeh-1.0.1.min.css\");\n      console.log(\"Bokeh: injecting CSS: https://cdn.pydata.org/bokeh/release/bokeh-widgets-1.0.1.min.css\");\n      Bokeh.embed.inject_css(\"https://cdn.pydata.org/bokeh/release/bokeh-widgets-1.0.1.min.css\");\n      console.log(\"Bokeh: injecting CSS: https://cdn.pydata.org/bokeh/release/bokeh-tables-1.0.1.min.css\");\n      Bokeh.embed.inject_css(\"https://cdn.pydata.org/bokeh/release/bokeh-tables-1.0.1.min.css\");\n    }\n  ];\n\n  function run_inline_js() {\n    \n    if ((root.Bokeh !== undefined) || (force === true)) {\n      for (var i = 0; i < inline_js.length; i++) {\n        inline_js[i].call(root, root.Bokeh);\n      }} else if (Date.now() < root._bokeh_timeout) {\n      setTimeout(run_inline_js, 100);\n    } else if (!root._bokeh_failed_load) {\n      console.log(\"Bokeh: BokehJS failed to load within specified timeout.\");\n      root._bokeh_failed_load = true;\n    } else if (force !== true) {\n      var cell = $(document.getElementById(null)).parents('.cell').data().cell;\n      cell.output_area.append_execute_result(NB_LOAD_WARNING)\n    }\n\n  }\n\n  if (root._bokeh_is_loading === 0) {\n    console.log(\"Bokeh: BokehJS loaded, going straight to plotting\");\n    run_inline_js();\n  } else {\n    load_libs(js_urls, function() {\n      console.log(\"Bokeh: BokehJS plotting callback run at\", now());\n      run_inline_js();\n    });\n  }\n}(window));"
     },
     "metadata": {},
     "output_type": "display_data"
    },
    {
     "data": {
      "application/vnd.bokehjs_exec.v0+json": "",
      "text/html": [
       "\n",
       "<script src=\"http://localhost:38631/autoload.js?bokeh-autoload-element=1004&bokeh-absolute-url=http://localhost:38631&resources=none\" id=\"1004\"></script>"
      ]
     },
     "metadata": {
      "application/vnd.bokehjs_exec.v0+json": {
       "server_id": "8331fdc8c53649f1baf24f815504bdf2"
      }
     },
     "output_type": "display_data"
    }
   ],
   "source": [
    "tpf.interact()"
   ]
  },
  {
   "cell_type": "code",
   "execution_count": 11,
   "id": "75e1bdcc",
   "metadata": {},
   "outputs": [],
   "source": [
    "%matplotlib inline"
   ]
  },
  {
   "cell_type": "code",
   "execution_count": null,
   "id": "e1c0ede1",
   "metadata": {},
   "outputs": [],
   "source": []
  },
  {
   "cell_type": "code",
   "execution_count": null,
   "id": "4cac56ba",
   "metadata": {},
   "outputs": [],
   "source": [
    "custom_mask = tpf[0].create_threshold_mask(threshold=10)\n",
    "\n",
    "raw_lc = tpf.to_lightcurve()\n",
    "lc = tpf.to_lightcurve(aperture_mask=custom_mask).fill_gaps()\n",
    "\n",
    "regressors = tpf.flux[:, ~custom_mask]\n",
    "regressors.shape\n",
    "bkg = np.median(regressors, axis=1)\n",
    "bkg -= np.percentile(bkg, 5)\n",
    "\n",
    "\n",
    "npix = custom_mask.sum()\n",
    "median_subtracted_lc = lc - npix * bkg\n",
    "raw_table = Table([raw_lc.time.value, raw_lc.flux, raw_lc.quality], names=['TIME', 'FLUX', 'QUALITY'])\n",
    "raw_table = mad_cuts(raw_table,info=lc_info)\n",
    "#raw_table = raw_table[raw_table['QUALITY']] == 0\n",
    "\n",
    "table = Table([lc.time.value, lc.flux, lc.quality], names=['TIME', 'FLUX', 'QUALITY'])\n",
    "table = mad_cuts(table,info=lc_info)\n",
    "#table = table[table['QUALITY']] == 0\n",
    "\n",
    "median_subtracted_table = Table([median_subtracted_lc.time.value, median_subtracted_lc.flux, median_subtracted_lc.quality], names=['TIME', 'FLUX', 'QUALITY'])\n",
    "median_subtracted_table = mad_cuts(median_subtracted_table,info=lc_info)\n",
    "#median_subtracted_table = median_subtracted_table[median_subtracted_table['QUALITY']] == 0\n"
   ]
  },
  {
   "cell_type": "code",
   "execution_count": null,
   "id": "9298b253",
   "metadata": {},
   "outputs": [],
   "source": [
    "closest_index = np.argmin(np.abs(table['TIME'] - 1486))\n",
    "result = table[max(0, closest_index - 200): min(len(table), closest_index + 200)]\n",
    "\n",
    "\n",
    "\n",
    "fig,ax = plt.subplots(1,2,figsize=(20,5))\n",
    "#raw_table[raw_table.quality == 0].plot(ax=ax[0], normalize=True,linewidth=3,zorder=1,alpha=0.6,label='original')\n",
    "#lc[lc.quality == 0].plot(ax=ax[0], normalize=True,linewidth=3,zorder=3,label='Simple Background Subtracted')\n",
    "\n",
    "ax[0].plot(raw_table['FLUX']/np.nanmedian(raw_table['FLUX']),label='original')\n",
    "ax[0].plot(table['FLUX']/np.nanmedian(table['FLUX'])-0.02,label='10 sigma mask')\n",
    "ax[1].plot(table['TIME'],median_subtracted_table['FLUX']/np.nanmedian(median_subtracted_table['FLUX'])-0.02,label='10 sigma mask')\n",
    "#median_subtracted_lc[lc.quality == 0].plot(ax=ax[1], normalize=True, label=\"Median Subtracted\")\n",
    "ax_top = ax[1].twiny()\n",
    "ax_top.set_xlim(0, len(median_subtracted_lc.time))\n",
    "ax_top.set_xlabel('Cadences')\n",
    "ax[1].set_xlim([min(result['TIME'].value),max(result['TIME'].value)])\n"
   ]
  },
  {
   "cell_type": "code",
   "execution_count": null,
   "id": "9ae5164f",
   "metadata": {},
   "outputs": [],
   "source": [
    "tpf.animate(aperture_mask=custom_mask)"
   ]
  },
  {
   "cell_type": "code",
   "execution_count": null,
   "id": "0d32d5c7",
   "metadata": {},
   "outputs": [],
   "source": [
    "tpf.animate(column=\"flux_bkg\")"
   ]
  },
  {
   "cell_type": "code",
   "execution_count": null,
   "id": "7452868d",
   "metadata": {},
   "outputs": [],
   "source": [
    "tpf2 = lk.search_targetpixelfile(\"Beta Pictoris\", mission='TESS', sector=6, cadence='long').download()"
   ]
  },
  {
   "cell_type": "code",
   "execution_count": null,
   "id": "bd1f208f",
   "metadata": {},
   "outputs": [],
   "source": [
    "tpf2.interact_sky() # does not work on JupyterLab -> related to Bokeh issue."
   ]
  },
  {
   "cell_type": "markdown",
   "id": "3113f582",
   "metadata": {},
   "source": [
    "---"
   ]
  },
  {
   "cell_type": "code",
   "execution_count": null,
   "id": "2ccbe48d",
   "metadata": {},
   "outputs": [],
   "source": [
    "from tqdm import tqdm"
   ]
  },
  {
   "cell_type": "code",
   "execution_count": null,
   "id": "6ac156b2",
   "metadata": {},
   "outputs": [],
   "source": [
    "result_dict = {}\n",
    "\n",
    "for i in tqdm(df.reset_index().index):\n",
    "    tic_id = df.iloc[i].TIC_ID\n",
    "    sector = df.iloc[i].Sector\n",
    "    transit_time = df.iloc[i].time\n",
    "    \n",
    "    # lightkurve TPF\n",
    "    tpf = lk.search_tesscut(f\"TIC {tic_id}\", sector=sector).download_all(cutout_size=(15, 15))\n",
    "    tpf = tpf[0]\n",
    "    \n",
    "    # lightkurve lc\n",
    "    custom_mask = tpf[0].create_threshold_mask(threshold=10)\n",
    "    raw_lc = tpf.to_lightcurve()\n",
    "    lc = tpf.to_lightcurve(aperture_mask=custom_mask)\n",
    "    \n",
    "    fig, ax = plt.subplots(2, 1, figsize=(20, 15))\n",
    "    ax[0].plot(raw_lc.flux / np.nanmedian(raw_lc.flux), label='original')\n",
    "    ax[1].plot(lc.time.value[lc.quality == 0], lc.flux[lc.quality == 0] / np.nanmedian(lc.flux),\n",
    "               label='10 sigma mask lightcurve')\n",
    "    ax[1].axvline(transit_time, label='transit time from search')\n",
    "    fig.legend()\n",
    "    plt.close()\n",
    "    animate = tpf.animate(aperture_mask=custom_mask)\n",
    "    \n",
    "    # Combine fig and animate into a single dictionary entry\n",
    "    result_dict[tic_id] = {'fig': fig, 'animate': animate}"
   ]
  },
  {
   "cell_type": "code",
   "execution_count": null,
   "id": "f64a204d",
   "metadata": {},
   "outputs": [],
   "source": [
    "with open('plots_and_tpf.pickle', 'wb') as file:\n",
    "    pickle.dump(result_dict, file)"
   ]
  },
  {
   "cell_type": "code",
   "execution_count": null,
   "id": "c602c069",
   "metadata": {},
   "outputs": [],
   "source": [
    "dict_animate[354676567]"
   ]
  },
  {
   "cell_type": "code",
   "execution_count": null,
   "id": "d910d605",
   "metadata": {},
   "outputs": [],
   "source": [
    "dict_lc[354676567]"
   ]
  },
  {
   "cell_type": "code",
   "execution_count": null,
   "id": "68fc9690",
   "metadata": {},
   "outputs": [],
   "source": [
    "df.TIC_ID"
   ]
  },
  {
   "cell_type": "code",
   "execution_count": null,
   "id": "4f1fc34a",
   "metadata": {},
   "outputs": [],
   "source": []
  },
  {
   "cell_type": "code",
   "execution_count": null,
   "id": "9a60ce78",
   "metadata": {},
   "outputs": [],
   "source": []
  },
  {
   "cell_type": "code",
   "execution_count": null,
   "id": "1f544f07",
   "metadata": {},
   "outputs": [],
   "source": [
    "classes = pd.DataFrame({\"TIC_ID\":df.TIC_ID})\n",
    "classes['asteroid'] = ''"
   ]
  },
  {
   "cell_type": "markdown",
   "id": "e556576a",
   "metadata": {},
   "source": [
    "### Classes flags\n",
    "- `0`: No asteroid\n",
    "- `1`: Asteroid\n",
    "- `2`: Did not plot\n",
    "- `3`: Not sure"
   ]
  },
  {
   "cell_type": "code",
   "execution_count": null,
   "id": "13a58e99",
   "metadata": {},
   "outputs": [],
   "source": [
    "classes.loc[271,'asteroid'] = 0"
   ]
  },
  {
   "cell_type": "code",
   "execution_count": null,
   "id": "94b0fc2a",
   "metadata": {},
   "outputs": [],
   "source": [
    "pd.set_option('display.max_rows', None)\n",
    "pd.set_option('display.max_columns', None)"
   ]
  },
  {
   "cell_type": "code",
   "execution_count": null,
   "id": "42708544",
   "metadata": {},
   "outputs": [],
   "source": [
    "classes.TIC_ID"
   ]
  },
  {
   "cell_type": "code",
   "execution_count": null,
   "id": "7bf1fe73",
   "metadata": {},
   "outputs": [],
   "source": [
    "classes"
   ]
  },
  {
   "cell_type": "code",
   "execution_count": null,
   "id": "5d948370",
   "metadata": {},
   "outputs": [],
   "source": [
    "classes = classes.reset_index(drop=True)"
   ]
  },
  {
   "cell_type": "code",
   "execution_count": null,
   "id": "6d92d47e",
   "metadata": {},
   "outputs": [],
   "source": [
    "pd.merge(df"
   ]
  },
  {
   "cell_type": "code",
   "execution_count": null,
   "id": "0004393f",
   "metadata": {},
   "outputs": [],
   "source": [
    "test = pd.merge(main,classes,on='TIC_ID',how='outer')"
   ]
  },
  {
   "cell_type": "code",
   "execution_count": null,
   "id": "c258a782",
   "metadata": {},
   "outputs": [],
   "source": [
    "test.to_csv('../candidates/272-candidates.csv',index=None)"
   ]
  },
  {
   "cell_type": "code",
   "execution_count": null,
   "id": "47b0cae9",
   "metadata": {},
   "outputs": [],
   "source": [
    "test.loc[test.asteroid == 1, 'tags2'] = 'purple'"
   ]
  },
  {
   "cell_type": "code",
   "execution_count": null,
   "id": "1e193024",
   "metadata": {},
   "outputs": [],
   "source": [
    "to_export = test[test.asteroid == 0].abs_path.tolist()"
   ]
  },
  {
   "cell_type": "code",
   "execution_count": null,
   "id": "de9858e4",
   "metadata": {},
   "outputs": [],
   "source": [
    "with open('47-candidates.txt', 'w') as file:\n",
    "    for item in to_export:\n",
    "        file.write(f\"{item}\\n\")"
   ]
  },
  {
   "cell_type": "code",
   "execution_count": null,
   "id": "cb2b231f",
   "metadata": {},
   "outputs": [],
   "source": [
    "for_latex = test[(test.asteroid == 0) & (test.tags2 == 'red')]"
   ]
  },
  {
   "cell_type": "code",
   "execution_count": null,
   "id": "c741ee1c",
   "metadata": {},
   "outputs": [],
   "source": [
    "for_latex[['TIC_ID','Sector','snr','asym_score','skewness','abs_depth']].to_latex(index=None)"
   ]
  },
  {
   "cell_type": "code",
   "execution_count": null,
   "id": "fbf5b912",
   "metadata": {},
   "outputs": [],
   "source": [
    "for_latex.depth"
   ]
  },
  {
   "cell_type": "code",
   "execution_count": null,
   "id": "c5c2b7da",
   "metadata": {},
   "outputs": [],
   "source": []
  }
 ],
 "metadata": {
  "kernelspec": {
   "display_name": "lightkurve",
   "language": "python",
   "name": "lightkurve"
  },
  "language_info": {
   "codemirror_mode": {
    "name": "ipython",
    "version": 3
   },
   "file_extension": ".py",
   "mimetype": "text/x-python",
   "name": "python",
   "nbconvert_exporter": "python",
   "pygments_lexer": "ipython3",
   "version": "3.6.6"
  }
 },
 "nbformat": 4,
 "nbformat_minor": 5
}
