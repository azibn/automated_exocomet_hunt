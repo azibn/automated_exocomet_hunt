{
 "cells": [
  {
   "cell_type": "markdown",
   "id": "901abe97-7475-45d8-8325-42fb7398caa5",
   "metadata": {},
   "source": [
    "# Candidates"
   ]
  },
  {
   "cell_type": "code",
   "execution_count": 1,
   "id": "963841d3-808c-4f69-a104-e61c02258868",
   "metadata": {},
   "outputs": [],
   "source": [
    "import pandas as pd\n",
    "import matplotlib.pyplot as plt"
   ]
  },
  {
   "cell_type": "code",
   "execution_count": 6,
   "id": "738ec313-0822-411f-a981-144518f62446",
   "metadata": {},
   "outputs": [
    {
     "data": {
      "text/plain": [
       "564"
      ]
     },
     "execution_count": 6,
     "metadata": {},
     "output_type": "execute_result"
    }
   ],
   "source": [
    "data = pd.read_csv('../candidates/candidates-full.csv')\n",
    "data = data[(data.asym_score > 1.02) & ((data.skewness <8) & (data.skewness_err <= 0.5 * data.skewness))]"
   ]
  },
  {
   "cell_type": "code",
   "execution_count": 5,
   "id": "f0d63d22-13d4-4f27-a7c0-0d850d532f0b",
   "metadata": {},
   "outputs": [],
   "source": [
    "#data = data[~(data.skewness_err < 0.5 * data.skewness)]"
   ]
  },
  {
   "cell_type": "code",
   "execution_count": 5,
   "id": "0d414772-2e37-4112-a18b-6e156d92e1b8",
   "metadata": {},
   "outputs": [
    {
     "data": {
      "text/plain": [
       "<matplotlib.collections.PathCollection at 0x7f80672df510>"
      ]
     },
     "execution_count": 5,
     "metadata": {},
     "output_type": "execute_result"
    },
    {
     "data": {
      "image/png": "[encoded data removed]",
      "text/plain": [
       "<Figure size 432x288 with 1 Axes>"
      ]
     },
     "metadata": {
      "needs_background": "light"
     },
     "output_type": "display_data"
    }
   ],
   "source": [
    "plt.scatter(data.asym_score,abs(data.snr))"
   ]
  },
  {
   "cell_type": "code",
   "execution_count": 6,
   "id": "51be5c61-66ac-4c7a-8abd-a3043be43909",
   "metadata": {},
   "outputs": [],
   "source": [
    "to_export = data.abs_path.tolist()"
   ]
  },
  {
   "cell_type": "code",
   "execution_count": 7,
   "id": "51c3c58a-6b4a-4d91-be42-4159414597d4",
   "metadata": {},
   "outputs": [
    {
     "data": {
      "text/plain": [
       "nan"
      ]
     },
     "execution_count": 7,
     "metadata": {},
     "output_type": "execute_result"
    }
   ],
   "source": [
    "to_export.pop()"
   ]
  },
  {
   "cell_type": "code",
   "execution_count": 7,
   "id": "dbee0ca5-4e51-4c40-a9d2-38389feddc02",
   "metadata": {},
   "outputs": [
    {
     "data": {
      "text/plain": [
       "268"
      ]
     },
     "execution_count": 7,
     "metadata": {},
     "output_type": "execute_result"
    }
   ],
   "source": [
    "len(to_export)"
   ]
  },
  {
   "cell_type": "code",
   "execution_count": 8,
   "id": "ba017629-faa8-46de-98aa-a9122c70da2c",
   "metadata": {},
   "outputs": [],
   "source": [
    "with open('../ruled-out-candidates.txt', 'w') as file:\n",
    "    # Iterate through the list and write each element to the file\n",
    "    for item in to_export:\n",
    "        file.write(str(item) + '\\n')"
   ]
  },
  {
   "cell_type": "code",
   "execution_count": null,
   "id": "ff7cee09-3ee5-4344-a024-3f9106c11b3a",
   "metadata": {},
   "outputs": [],
   "source": []
  }
 ],
 "metadata": {
  "kernelspec": {
   "display_name": "auto_exo",
   "language": "python",
   "name": "auto_exo"
  },
  "language_info": {
   "codemirror_mode": {
    "name": "ipython",
    "version": 3
   },
   "file_extension": ".py",
   "mimetype": "text/x-python",
   "name": "python",
   "nbconvert_exporter": "python",
   "pygments_lexer": "ipython3",
   "version": "3.7.12"
  }
 },
 "nbformat": 4,
 "nbformat_minor": 5
}
