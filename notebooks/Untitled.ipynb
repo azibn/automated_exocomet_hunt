{
 "cells": [
  {
   "cell_type": "markdown",
   "id": "a2b75904-a298-4c7b-b2c4-071dcd5b164d",
   "metadata": {},
   "source": [
    "# Checking if we have the right amount of stars\n",
    "\n",
    "Aiming to cross reference now publicly released target lists with the target lists I have made for all stars `Tmag<13`. This should tell us how many stars are supposed to have been processed.\n",
    "- Also looking to concatenate the metadata files with processed files. \n",
    "\n",
    "Recallt that at the time of using `eleanor-lite`, we had to \"make our own\" target lists because they were not publicly available yet. As of this notebook, up to S18 is used. So we can cross-refernce S9-S18 to make sure we had the correct number of stars per sector."
   ]
  },
  {
   "cell_type": "code",
   "execution_count": 1,
   "id": "7da12130-71a0-4e17-900e-3a55ad38104b",
   "metadata": {},
   "outputs": [],
   "source": [
    "import pandas as pd"
   ]
  },
  {
   "cell_type": "markdown",
   "id": "16c57289-88be-4900-80bd-0d7911557d06",
   "metadata": {},
   "source": [
    "### TIC Catalog"
   ]
  },
  {
   "cell_type": "markdown",
   "id": "5ab18878-5c03-471b-bff0-8504e162b110",
   "metadata": {},
   "source": [
    "All stars in the TIC catalog that are brighter than 13 Mag."
   ]
  },
  {
   "cell_type": "code",
   "execution_count": 2,
   "id": "6109146a-6c3a-4961-a3fc-dd871d567b43",
   "metadata": {},
   "outputs": [],
   "source": [
    "tic = pd.read_csv('../tic_catalog_v3.txt',sep='\\t')"
   ]
  },
  {
   "cell_type": "markdown",
   "id": "cb86b59a-2384-43f3-a443-e5f32fea5f49",
   "metadata": {},
   "source": [
    "---"
   ]
  },
  {
   "cell_type": "markdown",
   "id": "e94de200-5f92-4cf0-bd61-1856ec09a0b8",
   "metadata": {},
   "source": [
    "### Importing Project TICs"
   ]
  },
  {
   "cell_type": "code",
   "execution_count": null,
   "id": "fad8087e-985b-43e1-803d-9ea405e0af6d",
   "metadata": {},
   "outputs": [],
   "source": []
  }
 ],
 "metadata": {
  "kernelspec": {
   "display_name": "auto_exo",
   "language": "python",
   "name": "auto_exo"
  },
  "language_info": {
   "codemirror_mode": {
    "name": "ipython",
    "version": 3
   },
   "file_extension": ".py",
   "mimetype": "text/x-python",
   "name": "python",
   "nbconvert_exporter": "python",
   "pygments_lexer": "ipython3",
   "version": "3.7.12"
  }
 },
 "nbformat": 4,
 "nbformat_minor": 5
}
