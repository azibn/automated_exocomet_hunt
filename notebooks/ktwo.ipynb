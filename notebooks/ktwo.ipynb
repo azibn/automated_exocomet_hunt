{
 "cells": [
  {
   "cell_type": "markdown",
   "id": "d70a72b4-6b5a-480a-a2fc-0b715af69d8a",
   "metadata": {},
   "source": [
    "# K2 Test"
   ]
  },
  {
   "cell_type": "code",
   "execution_count": 1,
   "id": "3fb4b0f9-9d0c-419e-a139-3e047216f616",
   "metadata": {},
   "outputs": [
    {
     "name": "stdout",
     "output_type": "stream",
     "text": [
      "/home/astro/phrdhx/automated_exocomet_hunt\n"
     ]
    }
   ],
   "source": [
    "cd .."
   ]
  },
  {
   "cell_type": "code",
   "execution_count": 2,
   "id": "775a87e2-6fad-42e5-a8d6-3dc394726a6a",
   "metadata": {},
   "outputs": [],
   "source": [
    "from analysis_tools_cython import *\n",
    "from astropy.io import fits"
   ]
  },
  {
   "cell_type": "code",
   "execution_count": 3,
   "id": "a5ac3327-246d-4420-b895-26d87ef2dc43",
   "metadata": {},
   "outputs": [
    {
     "data": {
      "text/plain": [
       "(<Table length=1597>\n",
       "        TIME        PDCSAP_FLUX SAP_QUALITY\n",
       "      float64         float32      int32   \n",
       " ------------------ ----------- -----------\n",
       " 1935.9220544948985   1290639.1           0\n",
       " 1935.9424861335356   1290954.6           0\n",
       " 1935.9629177720562   1291226.1           0\n",
       " 1935.9833494103368   1291227.0           0\n",
       " 1936.0037810486247   1291811.5           0\n",
       "  1936.024212686796   1291958.2           0\n",
       " 1936.0446443248438   1292100.0           0\n",
       "  1936.065075962666   1292520.1           0\n",
       " 1936.0855076004882   1292686.6           0\n",
       " 1936.1059393381875   1292871.0           0\n",
       "                ...         ...         ...\n",
       "   1971.94306434592   1292899.0           0\n",
       " 1971.9634960253024   1294281.5           0\n",
       "  1971.983927904912   1293731.5           0\n",
       " 1972.0247913649582   1295477.1           0\n",
       " 1972.0452232452662   1294912.1           0\n",
       "   1972.06565502593   1294995.6           0\n",
       " 1972.0860869069438   1295051.1           0\n",
       " 1972.1065185881816   1294887.6           0\n",
       " 1972.1473822513653   1295833.5           0\n",
       " 1972.1678139334254   1295299.4           0,\n",
       " ['EPIC 202140009', 202140009, 9.9, 0, 100.27281, 28.74687])"
      ]
     },
     "execution_count": 3,
     "metadata": {},
     "output_type": "execute_result"
    }
   ],
   "source": [
    "import_lightcurve('/storage/astro2/phrdhx/K2/c0/ktwo202140009-c00_llc.fits')"
   ]
  },
  {
   "cell_type": "code",
   "execution_count": 4,
   "id": "22024b34-9e17-40d6-a532-b43da518601d",
   "metadata": {},
   "outputs": [],
   "source": [
    "hdul = fits.open(\"/storage/astro2/phrdhx/K2/c0/ktwo202140009-c00_llc.fits\")"
   ]
  },
  {
   "cell_type": "code",
   "execution_count": 5,
   "id": "7b378b4d-ae4f-4247-94c8-9a75e5136428",
   "metadata": {},
   "outputs": [
    {
     "name": "stdout",
     "output_type": "stream",
     "text": [
      "Filename: /storage/astro2/phrdhx/K2/c0/ktwo202140009-c00_llc.fits\n",
      "No.    Name      Ver    Type      Cards   Dimensions   Format\n",
      "  0  PRIMARY       1 PrimaryHDU      55   ()      \n",
      "  1  LIGHTCURVE    1 BinTableHDU    156   3753R x 20C   [D, E, J, E, E, E, E, E, E, J, D, E, D, E, D, E, D, E, E, E]   \n",
      "  2  APERTURE      1 ImageHDU        49   (27, 31)   int32   \n"
     ]
    }
   ],
   "source": [
    "hdul.info()"
   ]
  },
  {
   "cell_type": "code",
   "execution_count": 6,
   "id": "3bc2e9ab-5ed0-4085-8a1b-c1ea6bc3c4e7",
   "metadata": {},
   "outputs": [
    {
     "data": {
      "text/plain": [
       "SIMPLE  =                    T / conforms to FITS standards                     \n",
       "BITPIX  =                    8 / array data type                                \n",
       "NAXIS   =                    0 / number of array dimensions                     \n",
       "EXTEND  =                    T / file contains extensions                       \n",
       "NEXTEND =                    2 / number of standard extensions                  \n",
       "EXTNAME = 'PRIMARY '           / name of extension                              \n",
       "EXTVER  =                    1 / extension version number (not format version)  \n",
       "ORIGIN  = 'NASA/Ames'          / institution responsible for creating this file \n",
       "DATE    = '2018-11-29'         / file creation date.                            \n",
       "CREATOR = '743203 FluxExporter2PipelineModule' / pipeline job and program used t\n",
       "PROCVER = 'svn+ssh://murzim/repo/soc/tags/release/9.3.97 r63432' / SW version   \n",
       "FILEVER = '6.1     '           / file format version                            \n",
       "TIMVERSN= 'OGIP/93-003'        / OGIP memo number for file format               \n",
       "TELESCOP= 'Kepler  '           / telescope                                      \n",
       "INSTRUME= 'Kepler Photometer'  / detector type                                  \n",
       "OBJECT  = 'EPIC 202140009'     / string version of target id                    \n",
       "KEPLERID=            202140009 / unique Kepler target identifier                \n",
       "CHANNEL =                   32 / CCD channel                                    \n",
       "MODULE  =                   10 / CCD module                                     \n",
       "OUTPUT  =                    4 / CCD output                                     \n",
       "CAMPAIGN=                    0 / Observing campaign number                      \n",
       "DATA_REL=                   28 / data release version number                    \n",
       "OBSMODE = 'long cadence'       / observing mode                                 \n",
       "MISSION = 'K2      '           / Mission name                                   \n",
       "TTABLEID=                   76 / target table id                                \n",
       "RADESYS = 'ICRS    '           / reference frame of celestial coordinates       \n",
       "RA_OBJ  =           100.272810 / [deg] right ascension                          \n",
       "DEC_OBJ =            28.746870 / [deg] declination                              \n",
       "EQUINOX =               2000.0 / equinox of celestial coordinate system         \n",
       "PMRA    =                      / [arcsec/yr] RA proper motion                   \n",
       "PMDEC   =                      / [arcsec/yr] Dec proper motion                  \n",
       "PMTOTAL =                      / [arcsec/yr] total proper motion                \n",
       "PARALLAX=                      / [arcsec] parallax                              \n",
       "GLON    =                      / [deg] galactic longitude                       \n",
       "GLAT    =                      / [deg] galactic latitude                        \n",
       "GMAG    =                      / [mag] SDSS g band magnitude                    \n",
       "RMAG    =                      / [mag] SDSS r band magnitude                    \n",
       "IMAG    =                      / [mag] SDSS i band magnitude                    \n",
       "ZMAG    =                      / [mag] SDSS z band magnitude                    \n",
       "JMAG    =                      / [mag] J band magnitude from 2MASS              \n",
       "HMAG    =                      / [mag] H band magnitude from 2MASS              \n",
       "KMAG    =                      / [mag] K band magnitude from 2MASS              \n",
       "KEPMAG  =                9.900 / [mag] Kepler magnitude (Kp)                    \n",
       "GRCOLOR =                      / [mag] (g-r) color, SDSS bands                  \n",
       "JKCOLOR =                      / [mag] (J-K) color, 2MASS bands                 \n",
       "GKCOLOR =                      / [mag] (g-K) color, SDSS g - 2MASS K            \n",
       "TEFF    =                      / [K] Effective temperature                      \n",
       "LOGG    =                      / [cm/s2] log10 surface gravity                  \n",
       "FEH     =                      / [log10([Fe/H])]  metallicity                   \n",
       "EBMINUSV=                      / [mag] E(B-V) reddening                         \n",
       "AV      =                      / [mag] A_v extinction                           \n",
       "RADIUS  =                      / [solar radii] stellar radius                   \n",
       "TMINDEX =                      / unique 2MASS catalog ID                        \n",
       "CHECKSUM= '9DH0E9909CE0C990'   / HDU checksum updated 2020-06-16T11:06:27       \n",
       "DATASUM = '0       '           / data unit checksum updated 2020-06-16T11:06:27 "
      ]
     },
     "execution_count": 6,
     "metadata": {},
     "output_type": "execute_result"
    }
   ],
   "source": [
    "hdul[0].header"
   ]
  },
  {
   "cell_type": "code",
   "execution_count": 7,
   "id": "1aa1292c-d2c2-413c-88e3-e124b59f477d",
   "metadata": {},
   "outputs": [],
   "source": [
    "string = '/storage/astro2/phrdhx/K2/c0/ktwo202140009-c00_llc.fits'"
   ]
  },
  {
   "cell_type": "code",
   "execution_count": 14,
   "id": "4e11d3aa-11f4-4f51-8a30-f34b7b273bd3",
   "metadata": {},
   "outputs": [
    {
     "data": {
      "text/plain": [
       "'202140009'"
      ]
     },
     "execution_count": 14,
     "metadata": {},
     "output_type": "execute_result"
    }
   ],
   "source": [
    "string.split('/')[-1].split('ktwo')[1].split('-')[0]"
   ]
  },
  {
   "cell_type": "code",
   "execution_count": null,
   "id": "d79f683b-c4e9-4652-89f7-a0eca4edb6d0",
   "metadata": {},
   "outputs": [],
   "source": []
  }
 ],
 "metadata": {
  "kernelspec": {
   "display_name": "auto_exo",
   "language": "python",
   "name": "auto_exo"
  },
  "language_info": {
   "codemirror_mode": {
    "name": "ipython",
    "version": 3
   },
   "file_extension": ".py",
   "mimetype": "text/x-python",
   "name": "python",
   "nbconvert_exporter": "python",
   "pygments_lexer": "ipython3",
   "version": "3.7.13"
  }
 },
 "nbformat": 4,
 "nbformat_minor": 5
}
