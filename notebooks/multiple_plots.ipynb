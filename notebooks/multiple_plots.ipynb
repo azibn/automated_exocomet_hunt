{
 "cells": [
  {
   "cell_type": "markdown",
   "metadata": {},
   "source": [
    "## Multiple plots\n",
    "\n",
    "- This notebook plots the raw lightcurve and mad applied lightcurve to see if the cleaning process has worked well.\n",
    "- After, we revisit the MAD plots to see if the edge of lightcurve effects (flux high/low) were removed.\n",
    "- We plot cadence vs bit to observe the flags given by `eleanor` for this lightcurve"
   ]
  },
  {
   "cell_type": "code",
   "execution_count": 1,
   "metadata": {},
   "outputs": [
    {
     "name": "stdout",
     "output_type": "stream",
     "text": [
      "/home/astro/phrdhx/automated_exocomet_hunt\n"
     ]
    }
   ],
   "source": [
    "cd .."
   ]
  },
  {
   "cell_type": "code",
   "execution_count": 2,
   "metadata": {},
   "outputs": [],
   "source": [
    "from analysis_tools_cython import *\n",
    "from astropy.stats import sigma_clip,sigma_clipped_stats\n",
    "from astropy.table import Table\n",
    "import pandas as pd\n",
    "import glob\n",
    "from astropy.table import unique"
   ]
  },
  {
   "cell_type": "code",
   "execution_count": 3,
   "metadata": {},
   "outputs": [],
   "source": [
    "def get_output(file_path):\n",
    "    \"\"\"Imports batch_analyse output file as pandas dataframe.\"\"\"\n",
    "    with open(file_path) as f:\n",
    "        lines = f.readlines()\n",
    "    lc_lists = [word for line in lines for word in line.split()]\n",
    "    lc_lists = [lc_lists[i:i+10] for i in range(0, len(lc_lists), 10)]\n",
    "    cols = ['file','signal','signal/noise','time','asym_score','width1','width2','duration','depth','transit_prob']\n",
    "    df = pd.DataFrame(data=lc_lists,columns=cols)\n",
    "    df[cols[1:-1]] = df[cols[1:-1]].astype('float32')\n",
    "    return df"
   ]
  },
  {
   "cell_type": "code",
   "execution_count": 4,
   "metadata": {},
   "outputs": [],
   "source": [
    "data = get_output('output_s6_corr.txt')"
   ]
  },
  {
   "cell_type": "code",
   "execution_count": 5,
   "metadata": {},
   "outputs": [],
   "source": [
    "mad_df = pd.read_json(\"./data/Sectors_MAD.json\")\n",
    "sec = 6\n",
    "clip = 4"
   ]
  },
  {
   "cell_type": "code",
   "execution_count": 6,
   "metadata": {},
   "outputs": [
    {
     "data": {
      "text/plain": [
       "0          tesslc_234556256.pkl\n",
       "1          tesslc_167974071.pkl\n",
       "2          tesslc_255700743.pkl\n",
       "3          tesslc_445939140.pkl\n",
       "4          tesslc_176615627.pkl\n",
       "                   ...         \n",
       "2779720    tesslc_220211279.pkl\n",
       "2779721    tesslc_206895034.pkl\n",
       "2779722    tesslc_172778639.pkl\n",
       "2779723     tesslc_79690705.pkl\n",
       "2779724    tesslc_220479588.pkl\n",
       "Name: file, Length: 2779725, dtype: object"
      ]
     },
     "execution_count": 6,
     "metadata": {},
     "output_type": "execute_result"
    }
   ],
   "source": [
    "data.file"
   ]
  },
  {
   "cell_type": "code",
   "execution_count": 7,
   "metadata": {},
   "outputs": [],
   "source": [
    "path = '/storage/astro2/phrdhx/tesslcs'"
   ]
  },
  {
   "cell_type": "code",
   "execution_count": null,
   "metadata": {},
   "outputs": [],
   "source": [
    "for i in data.file:\n",
    "    file_paths = glob.glob(os.path.join(path,f'**/**/{i}'))[0]\n",
    "    table, info = import_XRPlightcurve(file_paths,sector=sec,clip=clip,drop_bad_points=True)\n",
    "    raw_table, _ = import_XRPlightcurve(file_paths,sector=sec,clip=clip,drop_bad_points=False) # want to plot raw lightcurve to see if the MAD has really worked\n",
    "\n",
    "\n",
    "    camera = info[4]\n",
    "    tic = info[0]\n",
    "    mad_arr = mad_df.loc[:len(table)-1, f\"{sec}-{camera}\"]\n",
    "    sig_clip = sigma_clip(mad_arr,sigma=clip,masked=False)\n",
    "    med_sig_clip = np.nanmedian(sig_clip)\n",
    "    rms_sig_clip = np.nanstd(sig_clip)\n",
    "    fig,ax = plt.subplots(2,2,figsize=(15,8))\n",
    "    ax[0,0].scatter(range(0,len(table['time'])), mad_arr, s=2)\n",
    "    ax[0,0].axhline(np.nanmedian(mad_arr), c='r',label='median line')\n",
    "    ax[0,0].axhline(np.nanmedian(mad_arr)+10*np.std(mad_arr[900:950]),c='blue',label='visualised MAD') # 10 sigma threshold\n",
    "    ax[0,0].axhline(med_sig_clip + clip*(rms_sig_clip), c='orange',label='sigma clipped MAD')   \n",
    "    #ax1.axhline(med_sig_clip - m*(rms_sig_clip), c='orange',label='sigma clipped MAD')  \n",
    "    ax[0,0].set_title(f\"{sec}-{camera} at {clip} sigma\")\n",
    "    ax[0,0].set_ylim([0.5*np.nanmedian(mad_arr),4*np.nanmedian(mad_arr)])\n",
    "    \n",
    "    ax[1,0].scatter(range(0,len(raw_table['time'])), raw_table['quality'], s=5)\n",
    "    ax[1,0].set_title('Cadence vs bit')\n",
    "    \n",
    "    ax[1,1].scatter(table['time'],normalise_lc(table['corrected flux']),s=0.4)\n",
    "    ax[1,1].set_title(f'MAD corrected lightcurve for TIC {tic}')\n",
    "    ax[0,1].scatter(raw_table['time'],normalise_lc(raw_table['corrected flux']),s=0.4)\n",
    "    ax[0,1].set_title(f'Raw lightcurve for TIC {tic}')\n",
    "    #print(unique(table,keys='quality'))\n",
    "    #print(len(table))"
   ]
  },
  {
   "cell_type": "markdown",
   "metadata": {},
   "source": [
    "### Interpretations:\n",
    "\n",
    "- MAD excludes data as expected.\n",
    "- However, some expected points still don't get captured in the processing. After tightening sigma clipping, still the case. Maybe these are just anomalous points that we can do nothing about?"
   ]
  }
 ],
 "metadata": {
  "kernelspec": {
   "display_name": "Python 3",
   "language": "python",
   "name": "python3"
  },
  "language_info": {
   "codemirror_mode": {
    "name": "ipython",
    "version": 3
   },
   "file_extension": ".py",
   "mimetype": "text/x-python",
   "name": "python",
   "nbconvert_exporter": "python",
   "pygments_lexer": "ipython3",
   "version": "3.7.12"
  }
 },
 "nbformat": 4,
 "nbformat_minor": 4
}
