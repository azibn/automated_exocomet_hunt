{
 "cells": [
  {
   "cell_type": "markdown",
   "id": "2b7359be-0dd3-421c-8d7b-d4162f4ea92c",
   "metadata": {},
   "source": [
    "## TIC Info from Astroquery"
   ]
  },
  {
   "cell_type": "markdown",
   "id": "fa9d717f-e7bb-442b-97b5-9230c0aa875c",
   "metadata": {},
   "source": [
    "### Module imports"
   ]
  },
  {
   "cell_type": "code",
   "execution_count": 1,
   "id": "3d5a3afb-aa45-4132-86ca-ffba5d31e3ce",
   "metadata": {},
   "outputs": [],
   "source": [
    "from astroquery.mast import Observations, Catalogs\n",
    "from astropy.io import fits\n",
    "from astropy.table import Table\n",
    "import math\n",
    "import matplotlib.pyplot as plt\n",
    "import pandas as pd\n",
    "import numpy as np"
   ]
  },
  {
   "cell_type": "markdown",
   "id": "cd47140c-ac90-4a8b-bc47-c9f7c438e4dc",
   "metadata": {},
   "source": [
    "### Functions"
   ]
  },
  {
   "cell_type": "code",
   "execution_count": 2,
   "id": "3c6b72cf-dcfa-485d-bdbb-95a8c7f63b3c",
   "metadata": {},
   "outputs": [],
   "source": [
    "def import_lightcurve(file_path, drop_bad_points=False,\n",
    "                      ok_flags=[5]):\n",
    "    \"\"\"Returns (N by 2) table, columns are (time, flux).\n",
    "\n",
    "    Flags deemed to be OK are:\n",
    "    5 - reaction wheel zero crossing, matters for short cadence\n",
    "    \"\"\"\n",
    "\n",
    "    try:\n",
    "        hdulist = fits.open(file_path)\n",
    "    except FileNotFoundError:\n",
    "        print(\"Import failed: file not found\")\n",
    "        return\n",
    "\n",
    "    scidata = hdulist[1].data\n",
    "    table = Table(scidata)['TIME','PDCSAP_FLUX','QUALITY']\n",
    "\n",
    "    if drop_bad_points:\n",
    "        bad_points = []\n",
    "        q_ind = get_quality_indices(table['QUALITY'])\n",
    "        for j,q in enumerate(q_ind):\n",
    "            if j+1 not in ok_flags:\n",
    "                bad_points += q.tolist()\n",
    "\n",
    "        # bad_points = [i for i in range(len(table)) if table[i][2]>0]\n",
    "        table.remove_rows(bad_points)\n",
    "\n",
    "    # Delete rows containing NaN values.\n",
    "    nan_rows = [ i for i in range(len(table)) if\n",
    "            math.isnan(table[i][1]) or math.isnan(table[i][0]) ]\n",
    "\n",
    "    table.remove_rows(nan_rows)\n",
    "\n",
    "    # Smooth data by deleting overly 'spikey' points.\n",
    "    spikes = [ i for i in range(1,len(table)-1) if \\\n",
    "            abs(table[i][1] - 0.5*(table[i-1][1]+table[i+1][1])) \\\n",
    "            > 3*abs(table[i+1][1] - table[i-1][1])]\n",
    "\n",
    "    for i in spikes:\n",
    "        table[i][1] = 0.5*(table[i-1][1] + table[i+1][1])\n",
    "\n",
    "    return table\n"
   ]
  },
  {
   "cell_type": "markdown",
   "id": "c343d9fe-8e1b-4615-9a3c-4f1fe61abbba",
   "metadata": {},
   "source": [
    "### Beta Pic"
   ]
  },
  {
   "cell_type": "code",
   "execution_count": 3,
   "id": "707f925a-e50e-4ad0-b883-e119edffa426",
   "metadata": {},
   "outputs": [],
   "source": [
    "tic = 270577175\n",
    "obsTable = Observations.query_criteria(provenance_name='TESS-SPOC',target_name=tic)\n",
    "data = Observations.get_product_list(obsTable)"
   ]
  },
  {
   "cell_type": "code",
   "execution_count": 4,
   "id": "679f164e-9705-499c-8222-06242f5369fc",
   "metadata": {},
   "outputs": [],
   "source": [
    "#download_lc = Observations.download_products(data)"
   ]
  },
  {
   "cell_type": "code",
   "execution_count": 7,
   "id": "04f85cac-ab61-4d56-8a64-7d398754e852",
   "metadata": {},
   "outputs": [
    {
     "name": "stdout",
     "output_type": "stream",
     "text": [
      "\u001b[1m\u001b[36mKepler\u001b[m\u001b[m/\n",
      "\u001b[1m\u001b[36mMAD figs\u001b[m\u001b[m/\n",
      "README.md\n",
      "\u001b[1m\u001b[36m__pycache__\u001b[m\u001b[m/\n",
      "all_snr_gt_5.txt\n",
      "all_snr_gt_5_ok.txt\n",
      "analysis_tools_cython.c\n",
      "\u001b[31manalysis_tools_cython.cpython-37m-darwin.so\u001b[m\u001b[m*\n",
      "\u001b[31manalysis_tools_cython.cpython-38-darwin.so\u001b[m\u001b[m*\n",
      "\u001b[31manalysis_tools_cython.cpython-39-darwin.so\u001b[m\u001b[m*\n",
      "analysis_tools_cython.pyx\n",
      "\u001b[31marchive_analyse.sh\u001b[m\u001b[m*\n",
      "artefact_list.txt\n",
      "\u001b[31mbatch_analyse.py\u001b[m\u001b[m*\n",
      "\u001b[31mbatch_reanalyse_asym.py\u001b[m\u001b[m*\n",
      "box_sn_gt5_maybeTransit.awk\n",
      "\u001b[1m\u001b[36mbuild\u001b[m\u001b[m/\n",
      "\u001b[1m\u001b[36mdata\u001b[m\u001b[m/\n",
      "dr2.xml\n",
      "environment.yml\n",
      "\u001b[1m\u001b[36mfigs\u001b[m\u001b[m/\n",
      "figs.ipynb\n",
      "filters_to_final.awk\n",
      "lightcurve.ipynb\n",
      "loaders.py\n",
      "\u001b[31mmake\u001b[m\u001b[m*\n",
      "\u001b[1m\u001b[36mmastDownload\u001b[m\u001b[m/\n",
      "maxsector.py\n",
      "\u001b[1m\u001b[36mnotebooks\u001b[m\u001b[m/\n",
      "\u001b[31msetup.py\u001b[m\u001b[m*\n",
      "\u001b[31msingle_analysis.py\u001b[m\u001b[m*\n",
      "single_analysis_xrp.py\n",
      "\u001b[1m\u001b[36mtess\u001b[m\u001b[m/\n",
      "tess2018206045859-s0001-0000000024265755-0120-s_lc.fits\n",
      "test.py\n",
      "young-cl.xml\n"
     ]
    }
   ],
   "source": [
    "ls"
   ]
  },
  {
   "cell_type": "code",
   "execution_count": 6,
   "id": "51d68abb-96af-4aa9-a134-be4e8a29b9b6",
   "metadata": {},
   "outputs": [
    {
     "ename": "FileNotFoundError",
     "evalue": "[Errno 2] No such file or directory: 'hlsp_tess-spoc_tess_phot_0000000270577175-s0006_tess_v1_lc.fits'",
     "output_type": "error",
     "traceback": [
      "\u001b[0;31m---------------------------------------------------------------------------\u001b[0m",
      "\u001b[0;31mFileNotFoundError\u001b[0m                         Traceback (most recent call last)",
      "\u001b[0;32m/var/folders/bv/h7ss9cs93lq15v21yc62bk600000gn/T/ipykernel_7560/265926412.py\u001b[0m in \u001b[0;36m<module>\u001b[0;34m\u001b[0m\n\u001b[0;32m----> 1\u001b[0;31m \u001b[0mhdulist\u001b[0m \u001b[0;34m=\u001b[0m \u001b[0mfits\u001b[0m\u001b[0;34m.\u001b[0m\u001b[0mopen\u001b[0m\u001b[0;34m(\u001b[0m\u001b[0;34m'hlsp_tess-spoc_tess_phot_0000000270577175-s0006_tess_v1_lc.fits'\u001b[0m\u001b[0;34m)\u001b[0m\u001b[0;34m\u001b[0m\u001b[0;34m\u001b[0m\u001b[0m\n\u001b[0m\u001b[1;32m      2\u001b[0m \u001b[0mhdulist\u001b[0m\u001b[0;34m[\u001b[0m\u001b[0;36m1\u001b[0m\u001b[0;34m]\u001b[0m\u001b[0;34m.\u001b[0m\u001b[0mdata\u001b[0m\u001b[0;34m\u001b[0m\u001b[0;34m\u001b[0m\u001b[0m\n",
      "\u001b[0;32m~/opt/anaconda3/envs/automated_exocomet/lib/python3.8/site-packages/astropy/io/fits/hdu/hdulist.py\u001b[0m in \u001b[0;36mfitsopen\u001b[0;34m(name, mode, memmap, save_backup, cache, lazy_load_hdus, **kwargs)\u001b[0m\n\u001b[1;32m    162\u001b[0m         \u001b[0;32mraise\u001b[0m \u001b[0mValueError\u001b[0m\u001b[0;34m(\u001b[0m\u001b[0;34mf'Empty filename: {name!r}'\u001b[0m\u001b[0;34m)\u001b[0m\u001b[0;34m\u001b[0m\u001b[0;34m\u001b[0m\u001b[0m\n\u001b[1;32m    163\u001b[0m \u001b[0;34m\u001b[0m\u001b[0m\n\u001b[0;32m--> 164\u001b[0;31m     return HDUList.fromfile(name, mode, memmap, save_backup, cache,\n\u001b[0m\u001b[1;32m    165\u001b[0m                             lazy_load_hdus, **kwargs)\n\u001b[1;32m    166\u001b[0m \u001b[0;34m\u001b[0m\u001b[0m\n",
      "\u001b[0;32m~/opt/anaconda3/envs/automated_exocomet/lib/python3.8/site-packages/astropy/io/fits/hdu/hdulist.py\u001b[0m in \u001b[0;36mfromfile\u001b[0;34m(cls, fileobj, mode, memmap, save_backup, cache, lazy_load_hdus, **kwargs)\u001b[0m\n\u001b[1;32m    399\u001b[0m         \"\"\"\n\u001b[1;32m    400\u001b[0m \u001b[0;34m\u001b[0m\u001b[0m\n\u001b[0;32m--> 401\u001b[0;31m         return cls._readfrom(fileobj=fileobj, mode=mode, memmap=memmap,\n\u001b[0m\u001b[1;32m    402\u001b[0m                              \u001b[0msave_backup\u001b[0m\u001b[0;34m=\u001b[0m\u001b[0msave_backup\u001b[0m\u001b[0;34m,\u001b[0m \u001b[0mcache\u001b[0m\u001b[0;34m=\u001b[0m\u001b[0mcache\u001b[0m\u001b[0;34m,\u001b[0m\u001b[0;34m\u001b[0m\u001b[0;34m\u001b[0m\u001b[0m\n\u001b[1;32m    403\u001b[0m                              lazy_load_hdus=lazy_load_hdus, **kwargs)\n",
      "\u001b[0;32m~/opt/anaconda3/envs/automated_exocomet/lib/python3.8/site-packages/astropy/io/fits/hdu/hdulist.py\u001b[0m in \u001b[0;36m_readfrom\u001b[0;34m(cls, fileobj, data, mode, memmap, cache, lazy_load_hdus, **kwargs)\u001b[0m\n\u001b[1;32m   1050\u001b[0m             \u001b[0;32mif\u001b[0m \u001b[0;32mnot\u001b[0m \u001b[0misinstance\u001b[0m\u001b[0;34m(\u001b[0m\u001b[0mfileobj\u001b[0m\u001b[0;34m,\u001b[0m \u001b[0m_File\u001b[0m\u001b[0;34m)\u001b[0m\u001b[0;34m:\u001b[0m\u001b[0;34m\u001b[0m\u001b[0;34m\u001b[0m\u001b[0m\n\u001b[1;32m   1051\u001b[0m                 \u001b[0;31m# instantiate a FITS file object (ffo)\u001b[0m\u001b[0;34m\u001b[0m\u001b[0;34m\u001b[0m\u001b[0;34m\u001b[0m\u001b[0m\n\u001b[0;32m-> 1052\u001b[0;31m                 \u001b[0mfileobj\u001b[0m \u001b[0;34m=\u001b[0m \u001b[0m_File\u001b[0m\u001b[0;34m(\u001b[0m\u001b[0mfileobj\u001b[0m\u001b[0;34m,\u001b[0m \u001b[0mmode\u001b[0m\u001b[0;34m=\u001b[0m\u001b[0mmode\u001b[0m\u001b[0;34m,\u001b[0m \u001b[0mmemmap\u001b[0m\u001b[0;34m=\u001b[0m\u001b[0mmemmap\u001b[0m\u001b[0;34m,\u001b[0m \u001b[0mcache\u001b[0m\u001b[0;34m=\u001b[0m\u001b[0mcache\u001b[0m\u001b[0;34m)\u001b[0m\u001b[0;34m\u001b[0m\u001b[0;34m\u001b[0m\u001b[0m\n\u001b[0m\u001b[1;32m   1053\u001b[0m             \u001b[0;31m# The Astropy mode is determined by the _File initializer if the\u001b[0m\u001b[0;34m\u001b[0m\u001b[0;34m\u001b[0m\u001b[0;34m\u001b[0m\u001b[0m\n\u001b[1;32m   1054\u001b[0m             \u001b[0;31m# supplied mode was None\u001b[0m\u001b[0;34m\u001b[0m\u001b[0;34m\u001b[0m\u001b[0;34m\u001b[0m\u001b[0m\n",
      "\u001b[0;32m~/opt/anaconda3/envs/automated_exocomet/lib/python3.8/site-packages/astropy/utils/decorators.py\u001b[0m in \u001b[0;36mwrapper\u001b[0;34m(*args, **kwargs)\u001b[0m\n\u001b[1;32m    533\u001b[0m                     \u001b[0mwarnings\u001b[0m\u001b[0;34m.\u001b[0m\u001b[0mwarn\u001b[0m\u001b[0;34m(\u001b[0m\u001b[0mmessage\u001b[0m\u001b[0;34m,\u001b[0m \u001b[0mwarning_type\u001b[0m\u001b[0;34m,\u001b[0m \u001b[0mstacklevel\u001b[0m\u001b[0;34m=\u001b[0m\u001b[0;36m2\u001b[0m\u001b[0;34m)\u001b[0m\u001b[0;34m\u001b[0m\u001b[0;34m\u001b[0m\u001b[0m\n\u001b[1;32m    534\u001b[0m \u001b[0;34m\u001b[0m\u001b[0m\n\u001b[0;32m--> 535\u001b[0;31m             \u001b[0;32mreturn\u001b[0m \u001b[0mfunction\u001b[0m\u001b[0;34m(\u001b[0m\u001b[0;34m*\u001b[0m\u001b[0margs\u001b[0m\u001b[0;34m,\u001b[0m \u001b[0;34m**\u001b[0m\u001b[0mkwargs\u001b[0m\u001b[0;34m)\u001b[0m\u001b[0;34m\u001b[0m\u001b[0;34m\u001b[0m\u001b[0m\n\u001b[0m\u001b[1;32m    536\u001b[0m \u001b[0;34m\u001b[0m\u001b[0m\n\u001b[1;32m    537\u001b[0m         \u001b[0;32mreturn\u001b[0m \u001b[0mwrapper\u001b[0m\u001b[0;34m\u001b[0m\u001b[0;34m\u001b[0m\u001b[0m\n",
      "\u001b[0;32m~/opt/anaconda3/envs/automated_exocomet/lib/python3.8/site-packages/astropy/io/fits/file.py\u001b[0m in \u001b[0;36m__init__\u001b[0;34m(self, fileobj, mode, memmap, overwrite, cache)\u001b[0m\n\u001b[1;32m    173\u001b[0m             \u001b[0mself\u001b[0m\u001b[0;34m.\u001b[0m\u001b[0m_open_fileobj\u001b[0m\u001b[0;34m(\u001b[0m\u001b[0mfileobj\u001b[0m\u001b[0;34m,\u001b[0m \u001b[0mmode\u001b[0m\u001b[0;34m,\u001b[0m \u001b[0moverwrite\u001b[0m\u001b[0;34m)\u001b[0m\u001b[0;34m\u001b[0m\u001b[0;34m\u001b[0m\u001b[0m\n\u001b[1;32m    174\u001b[0m         \u001b[0;32melif\u001b[0m \u001b[0misinstance\u001b[0m\u001b[0;34m(\u001b[0m\u001b[0mfileobj\u001b[0m\u001b[0;34m,\u001b[0m \u001b[0;34m(\u001b[0m\u001b[0mstr\u001b[0m\u001b[0;34m,\u001b[0m \u001b[0mbytes\u001b[0m\u001b[0;34m)\u001b[0m\u001b[0;34m)\u001b[0m\u001b[0;34m:\u001b[0m\u001b[0;34m\u001b[0m\u001b[0;34m\u001b[0m\u001b[0m\n\u001b[0;32m--> 175\u001b[0;31m             \u001b[0mself\u001b[0m\u001b[0;34m.\u001b[0m\u001b[0m_open_filename\u001b[0m\u001b[0;34m(\u001b[0m\u001b[0mfileobj\u001b[0m\u001b[0;34m,\u001b[0m \u001b[0mmode\u001b[0m\u001b[0;34m,\u001b[0m \u001b[0moverwrite\u001b[0m\u001b[0;34m)\u001b[0m\u001b[0;34m\u001b[0m\u001b[0;34m\u001b[0m\u001b[0m\n\u001b[0m\u001b[1;32m    176\u001b[0m         \u001b[0;32melse\u001b[0m\u001b[0;34m:\u001b[0m\u001b[0;34m\u001b[0m\u001b[0;34m\u001b[0m\u001b[0m\n\u001b[1;32m    177\u001b[0m             \u001b[0mself\u001b[0m\u001b[0;34m.\u001b[0m\u001b[0m_open_filelike\u001b[0m\u001b[0;34m(\u001b[0m\u001b[0mfileobj\u001b[0m\u001b[0;34m,\u001b[0m \u001b[0mmode\u001b[0m\u001b[0;34m,\u001b[0m \u001b[0moverwrite\u001b[0m\u001b[0;34m)\u001b[0m\u001b[0;34m\u001b[0m\u001b[0;34m\u001b[0m\u001b[0m\n",
      "\u001b[0;32m~/opt/anaconda3/envs/automated_exocomet/lib/python3.8/site-packages/astropy/io/fits/file.py\u001b[0m in \u001b[0;36m_open_filename\u001b[0;34m(self, filename, mode, overwrite)\u001b[0m\n\u001b[1;32m    562\u001b[0m \u001b[0;34m\u001b[0m\u001b[0m\n\u001b[1;32m    563\u001b[0m         \u001b[0;32mif\u001b[0m \u001b[0;32mnot\u001b[0m \u001b[0mself\u001b[0m\u001b[0;34m.\u001b[0m\u001b[0m_try_read_compressed\u001b[0m\u001b[0;34m(\u001b[0m\u001b[0mself\u001b[0m\u001b[0;34m.\u001b[0m\u001b[0mname\u001b[0m\u001b[0;34m,\u001b[0m \u001b[0mmagic\u001b[0m\u001b[0;34m,\u001b[0m \u001b[0mmode\u001b[0m\u001b[0;34m,\u001b[0m \u001b[0mext\u001b[0m\u001b[0;34m=\u001b[0m\u001b[0mext\u001b[0m\u001b[0;34m)\u001b[0m\u001b[0;34m:\u001b[0m\u001b[0;34m\u001b[0m\u001b[0;34m\u001b[0m\u001b[0m\n\u001b[0;32m--> 564\u001b[0;31m             \u001b[0mself\u001b[0m\u001b[0;34m.\u001b[0m\u001b[0m_file\u001b[0m \u001b[0;34m=\u001b[0m \u001b[0mfileobj_open\u001b[0m\u001b[0;34m(\u001b[0m\u001b[0mself\u001b[0m\u001b[0;34m.\u001b[0m\u001b[0mname\u001b[0m\u001b[0;34m,\u001b[0m \u001b[0mIO_FITS_MODES\u001b[0m\u001b[0;34m[\u001b[0m\u001b[0mmode\u001b[0m\u001b[0;34m]\u001b[0m\u001b[0;34m)\u001b[0m\u001b[0;34m\u001b[0m\u001b[0;34m\u001b[0m\u001b[0m\n\u001b[0m\u001b[1;32m    565\u001b[0m             \u001b[0mself\u001b[0m\u001b[0;34m.\u001b[0m\u001b[0mclose_on_error\u001b[0m \u001b[0;34m=\u001b[0m \u001b[0;32mTrue\u001b[0m\u001b[0;34m\u001b[0m\u001b[0;34m\u001b[0m\u001b[0m\n\u001b[1;32m    566\u001b[0m \u001b[0;34m\u001b[0m\u001b[0m\n",
      "\u001b[0;32m~/opt/anaconda3/envs/automated_exocomet/lib/python3.8/site-packages/astropy/io/fits/util.py\u001b[0m in \u001b[0;36mfileobj_open\u001b[0;34m(filename, mode)\u001b[0m\n\u001b[1;32m    390\u001b[0m     \"\"\"\n\u001b[1;32m    391\u001b[0m \u001b[0;34m\u001b[0m\u001b[0m\n\u001b[0;32m--> 392\u001b[0;31m     \u001b[0;32mreturn\u001b[0m \u001b[0mopen\u001b[0m\u001b[0;34m(\u001b[0m\u001b[0mfilename\u001b[0m\u001b[0;34m,\u001b[0m \u001b[0mmode\u001b[0m\u001b[0;34m,\u001b[0m \u001b[0mbuffering\u001b[0m\u001b[0;34m=\u001b[0m\u001b[0;36m0\u001b[0m\u001b[0;34m)\u001b[0m\u001b[0;34m\u001b[0m\u001b[0;34m\u001b[0m\u001b[0m\n\u001b[0m\u001b[1;32m    393\u001b[0m \u001b[0;34m\u001b[0m\u001b[0m\n\u001b[1;32m    394\u001b[0m \u001b[0;34m\u001b[0m\u001b[0m\n",
      "\u001b[0;31mFileNotFoundError\u001b[0m: [Errno 2] No such file or directory: 'hlsp_tess-spoc_tess_phot_0000000270577175-s0006_tess_v1_lc.fits'"
     ]
    }
   ],
   "source": [
    "hdulist = fits.open('hlsp_tess-spoc_tess_phot_0000000270577175-s0006_tess_v1_lc.fits')\n",
    "hdulist[1].data"
   ]
  },
  {
   "cell_type": "code",
   "execution_count": null,
   "id": "1518636e-fe33-4158-a08f-0c395335552c",
   "metadata": {},
   "outputs": [],
   "source": [
    "table = import_lightcurve('hlsp_tess-spoc_tess_phot_0000000270577175-s0006_tess_v1_lc.fits')"
   ]
  },
  {
   "cell_type": "code",
   "execution_count": null,
   "id": "ebe6b195-d79f-4799-a18b-3a4fd7310f40",
   "metadata": {},
   "outputs": [],
   "source": [
    "plt.plot(table['TIME'],table['PDCSAP_FLUX'])"
   ]
  },
  {
   "cell_type": "markdown",
   "id": "5f0eac4d-9e2a-4313-883e-8465ebaaf51d",
   "metadata": {},
   "source": [
    "---"
   ]
  },
  {
   "cell_type": "markdown",
   "id": "1ca5f1de-77fa-4fed-9bf9-b71ede3864d1",
   "metadata": {},
   "source": [
    "### Testing glob things"
   ]
  },
  {
   "cell_type": "code",
   "execution_count": null,
   "id": "1496755d-50cc-4a89-83d7-94ec11750b4f",
   "metadata": {},
   "outputs": [],
   "source": [
    "import glob\n",
    "import pandas as pd\n",
    "import numpy as np\n",
    "import matplotlib.pyplot as plt"
   ]
  },
  {
   "cell_type": "code",
   "execution_count": null,
   "id": "cc2bd551-4c38-4ee3-bbbb-0684ae49a096",
   "metadata": {},
   "outputs": [],
   "source": [
    "#[print(f\"target found\") for i in glob.glob('tess/2_min_cadence_targets/*.pkl') if i.endswith('.pkl')]"
   ]
  },
  {
   "cell_type": "code",
   "execution_count": null,
   "id": "5bbd7b63-a8d5-4d25-8d57-6e71c226284f",
   "metadata": {},
   "outputs": [],
   "source": [
    "def lightcurves(path):\n",
    "    data = pd.read_pickle(path)\n",
    "    return data[3]"
   ]
  },
  {
   "cell_type": "code",
   "execution_count": null,
   "id": "53c78f55-8e6d-470c-92d6-817a03398b56",
   "metadata": {},
   "outputs": [],
   "source": [
    "lightcurves('tess/2_min_cadence_targets/tesslc_100479167.pkl')"
   ]
  },
  {
   "cell_type": "code",
   "execution_count": null,
   "id": "1edbc24f-0583-4249-916a-aeff61d9d2d3",
   "metadata": {},
   "outputs": [],
   "source": [
    "test = []\n",
    "for i in glob.glob('tess/2_min_cadence_targets/*.pkl'):\n",
    "    test.append(lightcurves(i))"
   ]
  },
  {
   "cell_type": "code",
   "execution_count": null,
   "id": "7bb6c5f7-f42a-4459-9663-688d384aa9b3",
   "metadata": {},
   "outputs": [],
   "source": [
    "values, base = np.histogram(test, bins=20)"
   ]
  },
  {
   "cell_type": "code",
   "execution_count": null,
   "id": "df9aa617-2f1e-4dbb-98f2-9a68ab7fd210",
   "metadata": {},
   "outputs": [],
   "source": [
    "cumulative = np.cumsum(values) / len(test)\n"
   ]
  },
  {
   "cell_type": "code",
   "execution_count": null,
   "id": "866dd583-d3bf-44d6-8ef1-bd0f867a0391",
   "metadata": {},
   "outputs": [],
   "source": [
    "plt.figure(figsize=(13,4))\n",
    "plt.plot(base[:-1], cumulative, c='blue')\n",
    "plt.yscale('log')\n",
    "plt.title('Distribution of magnitiudes for 2 min targets')\n",
    "plt.xlabel('Magnitude')\n",
    "plt.ylabel('Fraction')\n",
    "plt.show()"
   ]
  },
  {
   "cell_type": "markdown",
   "id": "bbeddc6e-073c-4289-83c9-0ae1f0fbf746",
   "metadata": {},
   "source": [
    "Saturated stars ~ 6.8 Mag [Sullivan et al 2015](https://arxiv.org/pdf/1506.03845.pdf), [Feinstein et al. 2019](https://ui.adsabs.harvard.edu/abs/2019PASP..131i4502F/abstract)"
   ]
  },
  {
   "cell_type": "code",
   "execution_count": null,
   "id": "1604bbc7-43e3-4710-a3af-e72a26a1298a",
   "metadata": {},
   "outputs": [],
   "source": [
    "lim = 6.8\n",
    "non_saturated = [i for i in test if i < lim] # less than because magnitudes work the other way"
   ]
  },
  {
   "cell_type": "code",
   "execution_count": null,
   "id": "b1a16a01-573a-4705-9ba6-fb01972c523a",
   "metadata": {},
   "outputs": [],
   "source": [
    "len(non_saturated)/len(test) * 100"
   ]
  },
  {
   "cell_type": "markdown",
   "id": "3a81f4a7-848a-4004-a7b5-65bb74a85ae9",
   "metadata": {},
   "source": [
    "---"
   ]
  },
  {
   "cell_type": "code",
   "execution_count": null,
   "id": "ee7fd632-6bc0-4681-b9df-0e37e4e11395",
   "metadata": {},
   "outputs": [],
   "source": [
    "from astropy.io import fits\n",
    "import matplotlib.pyplot as plt"
   ]
  },
  {
   "cell_type": "code",
   "execution_count": null,
   "id": "19f49996-225a-4d32-a860-131b25474678",
   "metadata": {},
   "outputs": [],
   "source": [
    "with fits.open('tess2018206045859-s0001-0000000024265755-0120-s_lc.fits','readonly') as hdulist:\n",
    "    time = hdulist[1].data['TIME']\n",
    "    flux = hdulist[1].data['SAP_FLUX']"
   ]
  },
  {
   "cell_type": "code",
   "execution_count": null,
   "id": "731ea03d-9b9b-40d3-8662-da842a7bcde7",
   "metadata": {},
   "outputs": [],
   "source": [
    "len(time)"
   ]
  },
  {
   "cell_type": "code",
   "execution_count": null,
   "id": "0401bc3a-e262-44d3-a6e4-2dea6e3e1af6",
   "metadata": {},
   "outputs": [],
   "source": [
    "plt.plot(time,flux)"
   ]
  },
  {
   "cell_type": "markdown",
   "id": "6a29a06c-717f-43fc-8654-9b5f7e756be2",
   "metadata": {},
   "source": [
    "---"
   ]
  },
  {
   "cell_type": "code",
   "execution_count": null,
   "id": "de1a9033-c82e-4d0f-a017-bad9772f5fd4",
   "metadata": {},
   "outputs": [],
   "source": [
    "from astroquery.mast import Catalogs"
   ]
  },
  {
   "cell_type": "code",
   "execution_count": null,
   "id": "7f23c72c-f01e-495a-8186-fd774be17b71",
   "metadata": {},
   "outputs": [],
   "source": [
    "catalog_data = Catalogs.query_criteria(catalog=\"Tic\",Tmag = [1,15])"
   ]
  },
  {
   "cell_type": "code",
   "execution_count": null,
   "id": "09b5affb-90b8-4df5-90da-da3ce46206d6",
   "metadata": {},
   "outputs": [],
   "source": [
    "catalog_data"
   ]
  },
  {
   "cell_type": "code",
   "execution_count": null,
   "id": "f1c52588-b2ec-488e-9475-8860f235b52e",
   "metadata": {},
   "outputs": [],
   "source": []
  }
 ],
 "metadata": {
  "kernelspec": {
   "display_name": "Python 3",
   "language": "python",
   "name": "python3"
  },
  "language_info": {
   "codemirror_mode": {
    "name": "ipython",
    "version": 3
   },
   "file_extension": ".py",
   "mimetype": "text/x-python",
   "name": "python",
   "nbconvert_exporter": "python",
   "pygments_lexer": "ipython3",
   "version": "3.9.11"
  }
 },
 "nbformat": 4,
 "nbformat_minor": 5
}
